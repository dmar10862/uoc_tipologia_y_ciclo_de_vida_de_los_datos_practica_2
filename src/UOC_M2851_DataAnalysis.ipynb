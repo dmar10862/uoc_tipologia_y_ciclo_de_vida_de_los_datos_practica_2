{
  "nbformat": 4,
  "nbformat_minor": 0,
  "metadata": {
    "colab": {
      "name": "UOC-M2851-DataAnalysis.ipynb",
      "provenance": [],
      "collapsed_sections": [
        "WSASRXXVALwB",
        "zddc4RrCquqj",
        "JAI_dGwJBnV9"
      ],
      "authorship_tag": "ABX9TyMhrfYH1jkMDoJlzqw4f73B",
      "include_colab_link": true
    },
    "kernelspec": {
      "name": "python3",
      "display_name": "Python 3"
    }
  },
  "cells": [
    {
      "cell_type": "markdown",
      "metadata": {
        "id": "view-in-github",
        "colab_type": "text"
      },
      "source": [
        "<a href=\"https://colab.research.google.com/github/dmar10862/uoc_tipologia_y_ciclo_de_vida_de_los_datos_practica_2/blob/develop/src/UOC_M2851_DataAnalysis.ipynb\" target=\"_parent\"><img src=\"https://colab.research.google.com/assets/colab-badge.svg\" alt=\"Open In Colab\"/></a>"
      ]
    },
    {
      "cell_type": "markdown",
      "metadata": {
        "id": "WnhsrUMxp9mH",
        "colab_type": "text"
      },
      "source": [
        "**Practica 2: Limpieza y análisis de datos**\n",
        "\n",
        "M2851 - Tipología y ciclo de vida de los datos\n",
        "\n",
        "Ciencia de Datos\n",
        "\n",
        "**David Marín Sánchez**\n",
        "\n",
        "Junio 2020"
      ]
    },
    {
      "cell_type": "markdown",
      "metadata": {
        "id": "fVa3SNNFfP7S",
        "colab_type": "text"
      },
      "source": [
        "# Descripción y referencias\n",
        "\n",
        "En esta práctica se ha tratado de resolver el problema planeado en la competición de Kaggle [Titanic: Machine Learning from Disaster](https://www.kaggle.com/c/titanic/overview).\n",
        "\n",
        "Para resolverla se han utilizado metodos o aprovechado algunas de las ideas planteadas en las siguientes referencias:\n",
        "\n",
        "https://www.kaggle.com/ouyangg/titanic\n",
        "\n",
        "https://www.kaggle.com/parthsuresh/binary-classifier-using-keras-97-98-accuracy\n",
        "\n",
        "https://machinelearningmastery.com/binary-classification-tutorial-with-the-keras-deep-learning-library/\n",
        "\n",
        "https://machinelearningmastery.com/how-to-stop-training-deep-neural-networks-at-the-right-time-using-early-stopping/\n",
        "\n",
        "https://github.com/Kaggle/kaggle-api\n",
        "\n",
        "https://scikit-learn.org/stable/modules/impute.html\n",
        "\n",
        "https://scikit-learn.org/dev/modules/generated/sklearn.impute.KNNImputer.html\n",
        "\n",
        "https://scikit-learn.org/stable/modules/generated/sklearn.decomposition.PCA.html\n",
        "\n",
        "https://scikit-learn.org/stable/modules/neural_networks_supervised.html#mlp-tips\n",
        "\n",
        "https://nextjournal.com/schmudde/how-to-remove-outliers-in-data\n",
        "\n",
        "https://matplotlib.org/3.1.1/api/_as_gen/matplotlib.pyplot.bar.html\n",
        "\n",
        "https://seaborn.pydata.org/examples/many_pairwise_correlations.html\n"
      ]
    },
    {
      "cell_type": "markdown",
      "metadata": {
        "id": "UgIvNpeB_xZZ",
        "colab_type": "text"
      },
      "source": [
        "# Hyperparametros\n"
      ]
    },
    {
      "cell_type": "code",
      "metadata": {
        "id": "ZDUpIKZ4_zgL",
        "colab_type": "code",
        "colab": {}
      },
      "source": [
        "# Limpieza de datos\n",
        "# Proporción de outliers a eliminar (a partir de los cuantiles)\n",
        "remove_outilers_quantile = 0.15\n",
        "# Número de categorias en las que agrupar la variable 'age'\n",
        "age_categories = 10\n",
        "# Número de categorias en las que agrupar la variable 'fare'\n",
        "fare_categories = 10\n",
        "# Dimensiones a eliminar después del análisis PCA\n",
        "dimensions_to_remove = 0\n",
        "\n",
        "# Modelado\n",
        "# Número de neuronas de la capa oculta\n",
        "neurons = 32\n",
        "# Ratio de aprendizaje\n",
        "lr = 0.0002\n",
        "# Épocas o repeticiones del proceso de entrenamiento de la red neuronal\n",
        "epochs = 200\n",
        "# Muestras a procesar en cada paso de entrenamiento\n",
        "batch_size = 1\n",
        "# Pacieiencia o número de épocas en las que se permite que el que el error obtenido \n",
        "# supere al anterior error antes de parar el proceso de entrenamiento\n",
        "patience = 10"
      ],
      "execution_count": 0,
      "outputs": []
    },
    {
      "cell_type": "markdown",
      "metadata": {
        "id": "CzHYyhMglcaw",
        "colab_type": "text"
      },
      "source": [
        "# Librerias"
      ]
    },
    {
      "cell_type": "markdown",
      "metadata": {
        "id": "4lP99xCBmozB",
        "colab_type": "text"
      },
      "source": [
        ""
      ]
    },
    {
      "cell_type": "code",
      "metadata": {
        "id": "8yGWffSUlcAX",
        "colab_type": "code",
        "outputId": "a2f663b5-e5a4-4158-cb53-8b073778214c",
        "colab": {
          "base_uri": "https://localhost:8080/",
          "height": 71
        }
      },
      "source": [
        "from google.colab import drive\n",
        "from google.colab import auth\n",
        "import pandas as pd\n",
        "import numpy as np\n",
        "import matplotlib.pyplot as plt\n",
        "import seaborn as sns\n",
        "from sklearn.impute import KNNImputer\n",
        "from sklearn.preprocessing import StandardScaler\n",
        "from sklearn.decomposition import PCA\n",
        "from sklearn.model_selection import train_test_split\n",
        "from sklearn.metrics import accuracy_score, confusion_matrix\n",
        "from sklearn.linear_model import LinearRegression, LogisticRegression\n",
        "from scipy import stats\n",
        "import statsmodels.api as sm\n",
        "import tensorflow as tf\n",
        "from tensorflow.keras.models import Sequential, load_model\n",
        "from tensorflow.keras.layers import Dense, Activation\n",
        "from tensorflow.keras.optimizers import Adam\n",
        "from tensorflow.keras.callbacks import EarlyStopping, ModelCheckpoint"
      ],
      "execution_count": 2,
      "outputs": [
        {
          "output_type": "stream",
          "text": [
            "/usr/local/lib/python3.6/dist-packages/statsmodels/tools/_testing.py:19: FutureWarning: pandas.util.testing is deprecated. Use the functions in the public API at pandas.testing instead.\n",
            "  import pandas.util.testing as tm\n"
          ],
          "name": "stderr"
        }
      ]
    },
    {
      "cell_type": "markdown",
      "metadata": {
        "id": "WSASRXXVALwB",
        "colab_type": "text"
      },
      "source": [
        "# Descargar dataset de Kaggle"
      ]
    },
    {
      "cell_type": "code",
      "metadata": {
        "id": "kSbUb2i2mrZh",
        "colab_type": "code",
        "outputId": "2e7ecd35-8e39-4499-b5c2-4e8e6e9eb5db",
        "colab": {
          "base_uri": "https://localhost:8080/",
          "height": 0
        }
      },
      "source": [
        "# Montar Google Drive para poder recuperar las credenciales de Kaggle\n",
        "drive.mount('/content/drive')"
      ],
      "execution_count": 3,
      "outputs": [
        {
          "output_type": "stream",
          "text": [
            "Drive already mounted at /content/drive; to attempt to forcibly remount, call drive.mount(\"/content/drive\", force_remount=True).\n"
          ],
          "name": "stdout"
        }
      ]
    },
    {
      "cell_type": "code",
      "metadata": {
        "id": "wqxPpBiclgwX",
        "colab_type": "code",
        "outputId": "80c0296f-7f1b-49a5-e3da-7c2f56d68f30",
        "colab": {
          "base_uri": "https://localhost:8080/",
          "height": 0
        }
      },
      "source": [
        "%%bash\n",
        "# Instalar kaggle\n",
        "pip install -q kaggle\n",
        "\n",
        "# Cargar las credeciales de Kaggle de Google Drive\n",
        "mkdir -p /root/.kaggle\n",
        "cp -a \"/content/drive/My Drive/Credentials/kaggle.json\" /root/.kaggle/kaggle.json\n",
        "ls -l /root/.kaggle"
      ],
      "execution_count": 4,
      "outputs": [
        {
          "output_type": "stream",
          "text": [
            "total 4\n",
            "-rw------- 1 root root 64 May  9 08:42 kaggle.json\n"
          ],
          "name": "stdout"
        }
      ]
    },
    {
      "cell_type": "code",
      "metadata": {
        "id": "AeLUbs0JlUVf",
        "colab_type": "code",
        "outputId": "50c4b1ad-7f0f-4b60-e88f-bf993aa752b3",
        "colab": {
          "base_uri": "https://localhost:8080/",
          "height": 0
        }
      },
      "source": [
        "# Descargar dataset de Kaggle\n",
        "%%bash\n",
        "mkdir -p datasets\n",
        "cd datasets\n",
        "kaggle competitions download -c titanic\n",
        "ls -la"
      ],
      "execution_count": 5,
      "outputs": [
        {
          "output_type": "stream",
          "text": [
            "Warning: Looks like you're using an outdated API Version, please consider updating (server 1.5.6 / client 1.5.4)\n",
            "gender_submission.csv: Skipping, found more recently modified local copy (use --force to force download)\n",
            "train.csv: Skipping, found more recently modified local copy (use --force to force download)\n",
            "test.csv: Skipping, found more recently modified local copy (use --force to force download)\n",
            "total 100\n",
            "drwxr-xr-x 2 root root  4096 May 24 13:37 .\n",
            "drwxr-xr-x 1 root root  4096 May 24 15:36 ..\n",
            "-rw-r--r-- 1 root root  3258 May 24 13:37 gender_submission.csv\n",
            "-rw-r--r-- 1 root root 28629 May 24 13:37 test.csv\n",
            "-rw-r--r-- 1 root root 61194 May 24 13:37 train.csv\n"
          ],
          "name": "stdout"
        }
      ]
    },
    {
      "cell_type": "markdown",
      "metadata": {
        "id": "pyUPgmft7MEp",
        "colab_type": "text"
      },
      "source": [
        "# Cargar Datos"
      ]
    },
    {
      "cell_type": "code",
      "metadata": {
        "id": "Kz6v5JKYn25H",
        "colab_type": "code",
        "colab": {}
      },
      "source": [
        "# Se carga el dataset de entrenamiento como un DataFrame de Pandas\n",
        "df_train = pd.read_csv('datasets/train.csv', index_col = 'PassengerId') "
      ],
      "execution_count": 0,
      "outputs": []
    },
    {
      "cell_type": "code",
      "metadata": {
        "id": "IJbXogW-__vi",
        "colab_type": "code",
        "colab": {}
      },
      "source": [
        "# Se separan las caracteristicas de la variable objetivo ('Survived')\n",
        "X_train = df_train.copy()\n",
        "y_train = X_train[['Survived']]\n",
        "X_train = X_train.drop(columns=['Survived'])"
      ],
      "execution_count": 0,
      "outputs": []
    },
    {
      "cell_type": "code",
      "metadata": {
        "id": "BesY7zliT7uJ",
        "colab_type": "code",
        "outputId": "4d9fb08b-6508-4e24-f779-778b24296899",
        "colab": {
          "base_uri": "https://localhost:8080/",
          "height": 541
        }
      },
      "source": [
        "# Se muestran las características del DataFrame de entrenamiento\n",
        "display(X_train.info())\n",
        "display(X_train.head())"
      ],
      "execution_count": 8,
      "outputs": [
        {
          "output_type": "stream",
          "text": [
            "<class 'pandas.core.frame.DataFrame'>\n",
            "Int64Index: 891 entries, 1 to 891\n",
            "Data columns (total 10 columns):\n",
            " #   Column    Non-Null Count  Dtype  \n",
            "---  ------    --------------  -----  \n",
            " 0   Pclass    891 non-null    int64  \n",
            " 1   Name      891 non-null    object \n",
            " 2   Sex       891 non-null    object \n",
            " 3   Age       714 non-null    float64\n",
            " 4   SibSp     891 non-null    int64  \n",
            " 5   Parch     891 non-null    int64  \n",
            " 6   Ticket    891 non-null    object \n",
            " 7   Fare      891 non-null    float64\n",
            " 8   Cabin     204 non-null    object \n",
            " 9   Embarked  889 non-null    object \n",
            "dtypes: float64(2), int64(3), object(5)\n",
            "memory usage: 76.6+ KB\n"
          ],
          "name": "stdout"
        },
        {
          "output_type": "display_data",
          "data": {
            "text/plain": [
              "None"
            ]
          },
          "metadata": {
            "tags": []
          }
        },
        {
          "output_type": "display_data",
          "data": {
            "text/html": [
              "<div>\n",
              "<style scoped>\n",
              "    .dataframe tbody tr th:only-of-type {\n",
              "        vertical-align: middle;\n",
              "    }\n",
              "\n",
              "    .dataframe tbody tr th {\n",
              "        vertical-align: top;\n",
              "    }\n",
              "\n",
              "    .dataframe thead th {\n",
              "        text-align: right;\n",
              "    }\n",
              "</style>\n",
              "<table border=\"1\" class=\"dataframe\">\n",
              "  <thead>\n",
              "    <tr style=\"text-align: right;\">\n",
              "      <th></th>\n",
              "      <th>Pclass</th>\n",
              "      <th>Name</th>\n",
              "      <th>Sex</th>\n",
              "      <th>Age</th>\n",
              "      <th>SibSp</th>\n",
              "      <th>Parch</th>\n",
              "      <th>Ticket</th>\n",
              "      <th>Fare</th>\n",
              "      <th>Cabin</th>\n",
              "      <th>Embarked</th>\n",
              "    </tr>\n",
              "    <tr>\n",
              "      <th>PassengerId</th>\n",
              "      <th></th>\n",
              "      <th></th>\n",
              "      <th></th>\n",
              "      <th></th>\n",
              "      <th></th>\n",
              "      <th></th>\n",
              "      <th></th>\n",
              "      <th></th>\n",
              "      <th></th>\n",
              "      <th></th>\n",
              "    </tr>\n",
              "  </thead>\n",
              "  <tbody>\n",
              "    <tr>\n",
              "      <th>1</th>\n",
              "      <td>3</td>\n",
              "      <td>Braund, Mr. Owen Harris</td>\n",
              "      <td>male</td>\n",
              "      <td>22.0</td>\n",
              "      <td>1</td>\n",
              "      <td>0</td>\n",
              "      <td>A/5 21171</td>\n",
              "      <td>7.2500</td>\n",
              "      <td>NaN</td>\n",
              "      <td>S</td>\n",
              "    </tr>\n",
              "    <tr>\n",
              "      <th>2</th>\n",
              "      <td>1</td>\n",
              "      <td>Cumings, Mrs. John Bradley (Florence Briggs Th...</td>\n",
              "      <td>female</td>\n",
              "      <td>38.0</td>\n",
              "      <td>1</td>\n",
              "      <td>0</td>\n",
              "      <td>PC 17599</td>\n",
              "      <td>71.2833</td>\n",
              "      <td>C85</td>\n",
              "      <td>C</td>\n",
              "    </tr>\n",
              "    <tr>\n",
              "      <th>3</th>\n",
              "      <td>3</td>\n",
              "      <td>Heikkinen, Miss. Laina</td>\n",
              "      <td>female</td>\n",
              "      <td>26.0</td>\n",
              "      <td>0</td>\n",
              "      <td>0</td>\n",
              "      <td>STON/O2. 3101282</td>\n",
              "      <td>7.9250</td>\n",
              "      <td>NaN</td>\n",
              "      <td>S</td>\n",
              "    </tr>\n",
              "    <tr>\n",
              "      <th>4</th>\n",
              "      <td>1</td>\n",
              "      <td>Futrelle, Mrs. Jacques Heath (Lily May Peel)</td>\n",
              "      <td>female</td>\n",
              "      <td>35.0</td>\n",
              "      <td>1</td>\n",
              "      <td>0</td>\n",
              "      <td>113803</td>\n",
              "      <td>53.1000</td>\n",
              "      <td>C123</td>\n",
              "      <td>S</td>\n",
              "    </tr>\n",
              "    <tr>\n",
              "      <th>5</th>\n",
              "      <td>3</td>\n",
              "      <td>Allen, Mr. William Henry</td>\n",
              "      <td>male</td>\n",
              "      <td>35.0</td>\n",
              "      <td>0</td>\n",
              "      <td>0</td>\n",
              "      <td>373450</td>\n",
              "      <td>8.0500</td>\n",
              "      <td>NaN</td>\n",
              "      <td>S</td>\n",
              "    </tr>\n",
              "  </tbody>\n",
              "</table>\n",
              "</div>"
            ],
            "text/plain": [
              "             Pclass  ... Embarked\n",
              "PassengerId          ...         \n",
              "1                 3  ...        S\n",
              "2                 1  ...        C\n",
              "3                 3  ...        S\n",
              "4                 1  ...        S\n",
              "5                 3  ...        S\n",
              "\n",
              "[5 rows x 10 columns]"
            ]
          },
          "metadata": {
            "tags": []
          }
        }
      ]
    },
    {
      "cell_type": "code",
      "metadata": {
        "id": "VxKIdKPd0crm",
        "colab_type": "code",
        "outputId": "5123e898-e4dc-4480-bd8f-b850f34d291c",
        "colab": {
          "base_uri": "https://localhost:8080/",
          "height": 388
        }
      },
      "source": [
        "# Se muestra la variable objetivo para el DataFrame de entremanieto\n",
        "display(y_train.info())\n",
        "display(y_train.head())"
      ],
      "execution_count": 9,
      "outputs": [
        {
          "output_type": "stream",
          "text": [
            "<class 'pandas.core.frame.DataFrame'>\n",
            "Int64Index: 891 entries, 1 to 891\n",
            "Data columns (total 1 columns):\n",
            " #   Column    Non-Null Count  Dtype\n",
            "---  ------    --------------  -----\n",
            " 0   Survived  891 non-null    int64\n",
            "dtypes: int64(1)\n",
            "memory usage: 13.9 KB\n"
          ],
          "name": "stdout"
        },
        {
          "output_type": "display_data",
          "data": {
            "text/plain": [
              "None"
            ]
          },
          "metadata": {
            "tags": []
          }
        },
        {
          "output_type": "display_data",
          "data": {
            "text/html": [
              "<div>\n",
              "<style scoped>\n",
              "    .dataframe tbody tr th:only-of-type {\n",
              "        vertical-align: middle;\n",
              "    }\n",
              "\n",
              "    .dataframe tbody tr th {\n",
              "        vertical-align: top;\n",
              "    }\n",
              "\n",
              "    .dataframe thead th {\n",
              "        text-align: right;\n",
              "    }\n",
              "</style>\n",
              "<table border=\"1\" class=\"dataframe\">\n",
              "  <thead>\n",
              "    <tr style=\"text-align: right;\">\n",
              "      <th></th>\n",
              "      <th>Survived</th>\n",
              "    </tr>\n",
              "    <tr>\n",
              "      <th>PassengerId</th>\n",
              "      <th></th>\n",
              "    </tr>\n",
              "  </thead>\n",
              "  <tbody>\n",
              "    <tr>\n",
              "      <th>1</th>\n",
              "      <td>0</td>\n",
              "    </tr>\n",
              "    <tr>\n",
              "      <th>2</th>\n",
              "      <td>1</td>\n",
              "    </tr>\n",
              "    <tr>\n",
              "      <th>3</th>\n",
              "      <td>1</td>\n",
              "    </tr>\n",
              "    <tr>\n",
              "      <th>4</th>\n",
              "      <td>1</td>\n",
              "    </tr>\n",
              "    <tr>\n",
              "      <th>5</th>\n",
              "      <td>0</td>\n",
              "    </tr>\n",
              "  </tbody>\n",
              "</table>\n",
              "</div>"
            ],
            "text/plain": [
              "             Survived\n",
              "PassengerId          \n",
              "1                   0\n",
              "2                   1\n",
              "3                   1\n",
              "4                   1\n",
              "5                   0"
            ]
          },
          "metadata": {
            "tags": []
          }
        }
      ]
    },
    {
      "cell_type": "code",
      "metadata": {
        "id": "zGDtXQK9DnWL",
        "colab_type": "code",
        "colab": {}
      },
      "source": [
        "# Se carga el dataset de test en un DataFrame de Pandas\n",
        "df_test = pd.read_csv('datasets/test.csv', index_col='PassengerId') \n",
        "X_test = df_test.copy()"
      ],
      "execution_count": 0,
      "outputs": []
    },
    {
      "cell_type": "code",
      "metadata": {
        "id": "IyRpU8_qT4Xs",
        "colab_type": "code",
        "outputId": "d2a4f26d-fc49-4a99-9451-1b84f6e45492",
        "colab": {
          "base_uri": "https://localhost:8080/",
          "height": 541
        }
      },
      "source": [
        "# Se muestran las características del DataFrame de test\n",
        "display(X_test.info())\n",
        "display(X_test.head())"
      ],
      "execution_count": 11,
      "outputs": [
        {
          "output_type": "stream",
          "text": [
            "<class 'pandas.core.frame.DataFrame'>\n",
            "Int64Index: 418 entries, 892 to 1309\n",
            "Data columns (total 10 columns):\n",
            " #   Column    Non-Null Count  Dtype  \n",
            "---  ------    --------------  -----  \n",
            " 0   Pclass    418 non-null    int64  \n",
            " 1   Name      418 non-null    object \n",
            " 2   Sex       418 non-null    object \n",
            " 3   Age       332 non-null    float64\n",
            " 4   SibSp     418 non-null    int64  \n",
            " 5   Parch     418 non-null    int64  \n",
            " 6   Ticket    418 non-null    object \n",
            " 7   Fare      417 non-null    float64\n",
            " 8   Cabin     91 non-null     object \n",
            " 9   Embarked  418 non-null    object \n",
            "dtypes: float64(2), int64(3), object(5)\n",
            "memory usage: 35.9+ KB\n"
          ],
          "name": "stdout"
        },
        {
          "output_type": "display_data",
          "data": {
            "text/plain": [
              "None"
            ]
          },
          "metadata": {
            "tags": []
          }
        },
        {
          "output_type": "display_data",
          "data": {
            "text/html": [
              "<div>\n",
              "<style scoped>\n",
              "    .dataframe tbody tr th:only-of-type {\n",
              "        vertical-align: middle;\n",
              "    }\n",
              "\n",
              "    .dataframe tbody tr th {\n",
              "        vertical-align: top;\n",
              "    }\n",
              "\n",
              "    .dataframe thead th {\n",
              "        text-align: right;\n",
              "    }\n",
              "</style>\n",
              "<table border=\"1\" class=\"dataframe\">\n",
              "  <thead>\n",
              "    <tr style=\"text-align: right;\">\n",
              "      <th></th>\n",
              "      <th>Pclass</th>\n",
              "      <th>Name</th>\n",
              "      <th>Sex</th>\n",
              "      <th>Age</th>\n",
              "      <th>SibSp</th>\n",
              "      <th>Parch</th>\n",
              "      <th>Ticket</th>\n",
              "      <th>Fare</th>\n",
              "      <th>Cabin</th>\n",
              "      <th>Embarked</th>\n",
              "    </tr>\n",
              "    <tr>\n",
              "      <th>PassengerId</th>\n",
              "      <th></th>\n",
              "      <th></th>\n",
              "      <th></th>\n",
              "      <th></th>\n",
              "      <th></th>\n",
              "      <th></th>\n",
              "      <th></th>\n",
              "      <th></th>\n",
              "      <th></th>\n",
              "      <th></th>\n",
              "    </tr>\n",
              "  </thead>\n",
              "  <tbody>\n",
              "    <tr>\n",
              "      <th>892</th>\n",
              "      <td>3</td>\n",
              "      <td>Kelly, Mr. James</td>\n",
              "      <td>male</td>\n",
              "      <td>34.5</td>\n",
              "      <td>0</td>\n",
              "      <td>0</td>\n",
              "      <td>330911</td>\n",
              "      <td>7.8292</td>\n",
              "      <td>NaN</td>\n",
              "      <td>Q</td>\n",
              "    </tr>\n",
              "    <tr>\n",
              "      <th>893</th>\n",
              "      <td>3</td>\n",
              "      <td>Wilkes, Mrs. James (Ellen Needs)</td>\n",
              "      <td>female</td>\n",
              "      <td>47.0</td>\n",
              "      <td>1</td>\n",
              "      <td>0</td>\n",
              "      <td>363272</td>\n",
              "      <td>7.0000</td>\n",
              "      <td>NaN</td>\n",
              "      <td>S</td>\n",
              "    </tr>\n",
              "    <tr>\n",
              "      <th>894</th>\n",
              "      <td>2</td>\n",
              "      <td>Myles, Mr. Thomas Francis</td>\n",
              "      <td>male</td>\n",
              "      <td>62.0</td>\n",
              "      <td>0</td>\n",
              "      <td>0</td>\n",
              "      <td>240276</td>\n",
              "      <td>9.6875</td>\n",
              "      <td>NaN</td>\n",
              "      <td>Q</td>\n",
              "    </tr>\n",
              "    <tr>\n",
              "      <th>895</th>\n",
              "      <td>3</td>\n",
              "      <td>Wirz, Mr. Albert</td>\n",
              "      <td>male</td>\n",
              "      <td>27.0</td>\n",
              "      <td>0</td>\n",
              "      <td>0</td>\n",
              "      <td>315154</td>\n",
              "      <td>8.6625</td>\n",
              "      <td>NaN</td>\n",
              "      <td>S</td>\n",
              "    </tr>\n",
              "    <tr>\n",
              "      <th>896</th>\n",
              "      <td>3</td>\n",
              "      <td>Hirvonen, Mrs. Alexander (Helga E Lindqvist)</td>\n",
              "      <td>female</td>\n",
              "      <td>22.0</td>\n",
              "      <td>1</td>\n",
              "      <td>1</td>\n",
              "      <td>3101298</td>\n",
              "      <td>12.2875</td>\n",
              "      <td>NaN</td>\n",
              "      <td>S</td>\n",
              "    </tr>\n",
              "  </tbody>\n",
              "</table>\n",
              "</div>"
            ],
            "text/plain": [
              "             Pclass  ... Embarked\n",
              "PassengerId          ...         \n",
              "892               3  ...        Q\n",
              "893               3  ...        S\n",
              "894               2  ...        Q\n",
              "895               3  ...        S\n",
              "896               3  ...        S\n",
              "\n",
              "[5 rows x 10 columns]"
            ]
          },
          "metadata": {
            "tags": []
          }
        }
      ]
    },
    {
      "cell_type": "markdown",
      "metadata": {
        "id": "DokFtGZceDGJ",
        "colab_type": "text"
      },
      "source": [
        "# Análisis exploratorio preliminar"
      ]
    },
    {
      "cell_type": "markdown",
      "metadata": {
        "id": "dS-512QgeIli",
        "colab_type": "text"
      },
      "source": [
        "## Análisis estadístico descriptivo"
      ]
    },
    {
      "cell_type": "code",
      "metadata": {
        "colab_type": "code",
        "outputId": "cfd11918-c967-4160-a5a1-15e6a51bc485",
        "id": "4KJPozOYeA3p",
        "colab": {
          "base_uri": "https://localhost:8080/",
          "height": 297
        }
      },
      "source": [
        "# Estadísticas del DataFrame de entrenamiento\n",
        "display(X_train.describe())"
      ],
      "execution_count": 12,
      "outputs": [
        {
          "output_type": "display_data",
          "data": {
            "text/html": [
              "<div>\n",
              "<style scoped>\n",
              "    .dataframe tbody tr th:only-of-type {\n",
              "        vertical-align: middle;\n",
              "    }\n",
              "\n",
              "    .dataframe tbody tr th {\n",
              "        vertical-align: top;\n",
              "    }\n",
              "\n",
              "    .dataframe thead th {\n",
              "        text-align: right;\n",
              "    }\n",
              "</style>\n",
              "<table border=\"1\" class=\"dataframe\">\n",
              "  <thead>\n",
              "    <tr style=\"text-align: right;\">\n",
              "      <th></th>\n",
              "      <th>Pclass</th>\n",
              "      <th>Age</th>\n",
              "      <th>SibSp</th>\n",
              "      <th>Parch</th>\n",
              "      <th>Fare</th>\n",
              "    </tr>\n",
              "  </thead>\n",
              "  <tbody>\n",
              "    <tr>\n",
              "      <th>count</th>\n",
              "      <td>891.000000</td>\n",
              "      <td>714.000000</td>\n",
              "      <td>891.000000</td>\n",
              "      <td>891.000000</td>\n",
              "      <td>891.000000</td>\n",
              "    </tr>\n",
              "    <tr>\n",
              "      <th>mean</th>\n",
              "      <td>2.308642</td>\n",
              "      <td>29.699118</td>\n",
              "      <td>0.523008</td>\n",
              "      <td>0.381594</td>\n",
              "      <td>32.204208</td>\n",
              "    </tr>\n",
              "    <tr>\n",
              "      <th>std</th>\n",
              "      <td>0.836071</td>\n",
              "      <td>14.526497</td>\n",
              "      <td>1.102743</td>\n",
              "      <td>0.806057</td>\n",
              "      <td>49.693429</td>\n",
              "    </tr>\n",
              "    <tr>\n",
              "      <th>min</th>\n",
              "      <td>1.000000</td>\n",
              "      <td>0.420000</td>\n",
              "      <td>0.000000</td>\n",
              "      <td>0.000000</td>\n",
              "      <td>0.000000</td>\n",
              "    </tr>\n",
              "    <tr>\n",
              "      <th>25%</th>\n",
              "      <td>2.000000</td>\n",
              "      <td>20.125000</td>\n",
              "      <td>0.000000</td>\n",
              "      <td>0.000000</td>\n",
              "      <td>7.910400</td>\n",
              "    </tr>\n",
              "    <tr>\n",
              "      <th>50%</th>\n",
              "      <td>3.000000</td>\n",
              "      <td>28.000000</td>\n",
              "      <td>0.000000</td>\n",
              "      <td>0.000000</td>\n",
              "      <td>14.454200</td>\n",
              "    </tr>\n",
              "    <tr>\n",
              "      <th>75%</th>\n",
              "      <td>3.000000</td>\n",
              "      <td>38.000000</td>\n",
              "      <td>1.000000</td>\n",
              "      <td>0.000000</td>\n",
              "      <td>31.000000</td>\n",
              "    </tr>\n",
              "    <tr>\n",
              "      <th>max</th>\n",
              "      <td>3.000000</td>\n",
              "      <td>80.000000</td>\n",
              "      <td>8.000000</td>\n",
              "      <td>6.000000</td>\n",
              "      <td>512.329200</td>\n",
              "    </tr>\n",
              "  </tbody>\n",
              "</table>\n",
              "</div>"
            ],
            "text/plain": [
              "           Pclass         Age       SibSp       Parch        Fare\n",
              "count  891.000000  714.000000  891.000000  891.000000  891.000000\n",
              "mean     2.308642   29.699118    0.523008    0.381594   32.204208\n",
              "std      0.836071   14.526497    1.102743    0.806057   49.693429\n",
              "min      1.000000    0.420000    0.000000    0.000000    0.000000\n",
              "25%      2.000000   20.125000    0.000000    0.000000    7.910400\n",
              "50%      3.000000   28.000000    0.000000    0.000000   14.454200\n",
              "75%      3.000000   38.000000    1.000000    0.000000   31.000000\n",
              "max      3.000000   80.000000    8.000000    6.000000  512.329200"
            ]
          },
          "metadata": {
            "tags": []
          }
        }
      ]
    },
    {
      "cell_type": "code",
      "metadata": {
        "colab_type": "code",
        "outputId": "9c4d3727-b585-44a9-b1de-f0e5d101dc1f",
        "id": "megSNvG9eA38",
        "colab": {
          "base_uri": "https://localhost:8080/",
          "height": 297
        }
      },
      "source": [
        "# Estadísticas del DataFrame test\n",
        "display(X_test.describe())"
      ],
      "execution_count": 13,
      "outputs": [
        {
          "output_type": "display_data",
          "data": {
            "text/html": [
              "<div>\n",
              "<style scoped>\n",
              "    .dataframe tbody tr th:only-of-type {\n",
              "        vertical-align: middle;\n",
              "    }\n",
              "\n",
              "    .dataframe tbody tr th {\n",
              "        vertical-align: top;\n",
              "    }\n",
              "\n",
              "    .dataframe thead th {\n",
              "        text-align: right;\n",
              "    }\n",
              "</style>\n",
              "<table border=\"1\" class=\"dataframe\">\n",
              "  <thead>\n",
              "    <tr style=\"text-align: right;\">\n",
              "      <th></th>\n",
              "      <th>Pclass</th>\n",
              "      <th>Age</th>\n",
              "      <th>SibSp</th>\n",
              "      <th>Parch</th>\n",
              "      <th>Fare</th>\n",
              "    </tr>\n",
              "  </thead>\n",
              "  <tbody>\n",
              "    <tr>\n",
              "      <th>count</th>\n",
              "      <td>418.000000</td>\n",
              "      <td>332.000000</td>\n",
              "      <td>418.000000</td>\n",
              "      <td>418.000000</td>\n",
              "      <td>417.000000</td>\n",
              "    </tr>\n",
              "    <tr>\n",
              "      <th>mean</th>\n",
              "      <td>2.265550</td>\n",
              "      <td>30.272590</td>\n",
              "      <td>0.447368</td>\n",
              "      <td>0.392344</td>\n",
              "      <td>35.627188</td>\n",
              "    </tr>\n",
              "    <tr>\n",
              "      <th>std</th>\n",
              "      <td>0.841838</td>\n",
              "      <td>14.181209</td>\n",
              "      <td>0.896760</td>\n",
              "      <td>0.981429</td>\n",
              "      <td>55.907576</td>\n",
              "    </tr>\n",
              "    <tr>\n",
              "      <th>min</th>\n",
              "      <td>1.000000</td>\n",
              "      <td>0.170000</td>\n",
              "      <td>0.000000</td>\n",
              "      <td>0.000000</td>\n",
              "      <td>0.000000</td>\n",
              "    </tr>\n",
              "    <tr>\n",
              "      <th>25%</th>\n",
              "      <td>1.000000</td>\n",
              "      <td>21.000000</td>\n",
              "      <td>0.000000</td>\n",
              "      <td>0.000000</td>\n",
              "      <td>7.895800</td>\n",
              "    </tr>\n",
              "    <tr>\n",
              "      <th>50%</th>\n",
              "      <td>3.000000</td>\n",
              "      <td>27.000000</td>\n",
              "      <td>0.000000</td>\n",
              "      <td>0.000000</td>\n",
              "      <td>14.454200</td>\n",
              "    </tr>\n",
              "    <tr>\n",
              "      <th>75%</th>\n",
              "      <td>3.000000</td>\n",
              "      <td>39.000000</td>\n",
              "      <td>1.000000</td>\n",
              "      <td>0.000000</td>\n",
              "      <td>31.500000</td>\n",
              "    </tr>\n",
              "    <tr>\n",
              "      <th>max</th>\n",
              "      <td>3.000000</td>\n",
              "      <td>76.000000</td>\n",
              "      <td>8.000000</td>\n",
              "      <td>9.000000</td>\n",
              "      <td>512.329200</td>\n",
              "    </tr>\n",
              "  </tbody>\n",
              "</table>\n",
              "</div>"
            ],
            "text/plain": [
              "           Pclass         Age       SibSp       Parch        Fare\n",
              "count  418.000000  332.000000  418.000000  418.000000  417.000000\n",
              "mean     2.265550   30.272590    0.447368    0.392344   35.627188\n",
              "std      0.841838   14.181209    0.896760    0.981429   55.907576\n",
              "min      1.000000    0.170000    0.000000    0.000000    0.000000\n",
              "25%      1.000000   21.000000    0.000000    0.000000    7.895800\n",
              "50%      3.000000   27.000000    0.000000    0.000000   14.454200\n",
              "75%      3.000000   39.000000    1.000000    0.000000   31.500000\n",
              "max      3.000000   76.000000    8.000000    9.000000  512.329200"
            ]
          },
          "metadata": {
            "tags": []
          }
        }
      ]
    },
    {
      "cell_type": "markdown",
      "metadata": {
        "id": "GQu6vQzI8161",
        "colab_type": "text"
      },
      "source": [
        "## Análisis de normalidad y homocedasticidad"
      ]
    },
    {
      "cell_type": "code",
      "metadata": {
        "id": "Yx5qkMO5snPk",
        "colab_type": "code",
        "colab": {}
      },
      "source": [
        "# Se define una función para realizar el análisis de normalidad\n",
        "def normality_test(X, variable):\n",
        "  # Se aplica el test Shapiro-Wilk para la variable\n",
        "  statistic, pvalue = stats.shapiro(X[variable])\n",
        "  statistic = round(statistic, 6)\n",
        "  pvalue = round(pvalue, 6)\n",
        "  print('statistic = '+str(statistic))\n",
        "  print('pvalue = '+str(pvalue))\n",
        "\n",
        "  if pvalue < 0.05:\n",
        "    print(\"La distribución no se ajusta a una distribución normal\")\n",
        "  if pvalue > 0.05:\n",
        "    print(\"La distribución se ajusta a una distribución normal\")\n",
        "    \n",
        "  # Se muestra el histograma de la variable\n",
        "  plot = sns.distplot(X[variable]);"
      ],
      "execution_count": 0,
      "outputs": []
    },
    {
      "cell_type": "code",
      "metadata": {
        "id": "1vkdQ14hs_E7",
        "colab_type": "code",
        "colab": {}
      },
      "source": [
        "# Se define una función para realizar el análisis de homocedasticidad\n",
        "def homoscedasticity_test(X, variable):\n",
        "  # Se aplica el test Fligner-Killeen para la variable y según si la persona sobrevivió o no\n",
        "  statistic, pvalue = stats.fligner(X[X['Survived'] == 0][variable], X[X['Survived'] == 1][variable])\n",
        "  statistic = round(statistic, 6)\n",
        "  pvalue = round(pvalue, 6)\n",
        "  print('statistic = '+str(statistic))\n",
        "  print('pvalue = '+str(pvalue))\n",
        "\n",
        "  if pvalue < 0.05:\n",
        "    print(\"Las varianzas son significativamente difernetes\")\n",
        "  else:\n",
        "    print(\"Las varianzas no son significativamente difernetes\")\n",
        "\n",
        "  # Se muestran los histogramas de la variable según si la persona sobrevivió o no\n",
        "  plot = sns.catplot(x = variable, kind = \"box\", row = 'Survived', height = 4, data = X)"
      ],
      "execution_count": 0,
      "outputs": []
    },
    {
      "cell_type": "code",
      "metadata": {
        "id": "_nfPqhVH0Wgk",
        "colab_type": "code",
        "colab": {}
      },
      "source": [
        "# Se vuelven a unir las características con la clase a predecir\n",
        "# para poder aplicar los tests\n",
        "Xy_train = X_train.copy()\n",
        "Xy_train['Survived'] = y_train"
      ],
      "execution_count": 0,
      "outputs": []
    },
    {
      "cell_type": "code",
      "metadata": {
        "id": "Oo81gPmTv2cz",
        "colab_type": "code",
        "outputId": "0b68651e-5ff9-4409-ca6f-8e1ecc0fb5c8",
        "colab": {
          "base_uri": "https://localhost:8080/",
          "height": 68
        }
      },
      "source": [
        "X_train.columns"
      ],
      "execution_count": 17,
      "outputs": [
        {
          "output_type": "execute_result",
          "data": {
            "text/plain": [
              "Index(['Pclass', 'Name', 'Sex', 'Age', 'SibSp', 'Parch', 'Ticket', 'Fare',\n",
              "       'Cabin', 'Embarked'],\n",
              "      dtype='object')"
            ]
          },
          "metadata": {
            "tags": []
          },
          "execution_count": 17
        }
      ]
    },
    {
      "cell_type": "code",
      "metadata": {
        "id": "_2eSzyqCsMFk",
        "colab_type": "code",
        "outputId": "7bdef42b-658f-43b2-a7d2-4d7c53d1982a",
        "colab": {
          "base_uri": "https://localhost:8080/",
          "height": 330
        }
      },
      "source": [
        "normality_test(Xy_train, 'Age')"
      ],
      "execution_count": 18,
      "outputs": [
        {
          "output_type": "stream",
          "text": [
            "statistic = nan\n",
            "pvalue = 1.0\n",
            "La distribución se ajusta a una distribución normal\n"
          ],
          "name": "stdout"
        },
        {
          "output_type": "display_data",
          "data": {
            "image/png": "[encoded data removed]",
            "text/plain": [
              "<Figure size 432x288 with 1 Axes>"
            ]
          },
          "metadata": {
            "tags": [],
            "needs_background": "light"
          }
        }
      ]
    },
    {
      "cell_type": "code",
      "metadata": {
        "id": "qsG_6TV_pgOE",
        "colab_type": "code",
        "outputId": "9265a268-89e3-4d5c-c47c-159d493e4372",
        "colab": {
          "base_uri": "https://localhost:8080/",
          "height": 636
        }
      },
      "source": [
        "homoscedasticity_test(Xy_train, 'Age')"
      ],
      "execution_count": 19,
      "outputs": [
        {
          "output_type": "stream",
          "text": [
            "statistic = 293.717316\n",
            "pvalue = 0.0\n",
            "Las varianzas son significativamente difernetes\n"
          ],
          "name": "stdout"
        },
        {
          "output_type": "display_data",
          "data": {
            "image/png": "[encoded data removed]",
            "text/plain": [
              "<Figure size 288x576 with 2 Axes>"
            ]
          },
          "metadata": {
            "tags": [],
            "needs_background": "light"
          }
        }
      ]
    },
    {
      "cell_type": "code",
      "metadata": {
        "id": "ddlvSFxgtbdx",
        "colab_type": "code",
        "outputId": "0872f85e-a6a5-45d7-ce83-bdda9f67f165",
        "colab": {
          "base_uri": "https://localhost:8080/",
          "height": 331
        }
      },
      "source": [
        "normality_test(Xy_train, 'Fare')"
      ],
      "execution_count": 20,
      "outputs": [
        {
          "output_type": "stream",
          "text": [
            "statistic = 0.521891\n",
            "pvalue = 0.0\n",
            "La distribución no se ajusta a una distribución normal\n"
          ],
          "name": "stdout"
        },
        {
          "output_type": "display_data",
          "data": {
            "image/png": "[encoded data removed]",
            "text/plain": [
              "<Figure size 432x288 with 1 Axes>"
            ]
          },
          "metadata": {
            "tags": [],
            "needs_background": "light"
          }
        }
      ]
    },
    {
      "cell_type": "code",
      "metadata": {
        "id": "vn1VkARPtfJk",
        "colab_type": "code",
        "outputId": "a56acc68-93b3-4701-bb47-e887d2cf53ca",
        "colab": {
          "base_uri": "https://localhost:8080/",
          "height": 636
        }
      },
      "source": [
        "homoscedasticity_test(Xy_train, 'Fare')"
      ],
      "execution_count": 21,
      "outputs": [
        {
          "output_type": "stream",
          "text": [
            "statistic = 96.25274\n",
            "pvalue = 0.0\n",
            "Las varianzas son significativamente difernetes\n"
          ],
          "name": "stdout"
        },
        {
          "output_type": "display_data",
          "data": {
            "image/png": "[encoded data removed]",
            "text/plain": [
              "<Figure size 288x576 with 2 Axes>"
            ]
          },
          "metadata": {
            "tags": [],
            "needs_background": "light"
          }
        }
      ]
    },
    {
      "cell_type": "markdown",
      "metadata": {
        "id": "A277m6ABwqpB",
        "colab_type": "text"
      },
      "source": [
        "# Limpieza de datos"
      ]
    },
    {
      "cell_type": "markdown",
      "metadata": {
        "id": "8LKjD6vu9e-h",
        "colab_type": "text"
      },
      "source": [
        "## Valores extremos"
      ]
    },
    {
      "cell_type": "code",
      "metadata": {
        "id": "8FVZdfxuH7Gw",
        "colab_type": "code",
        "colab": {}
      },
      "source": [
        "# Se define una función para elminar valores extremos\n",
        "def remove_outliers(X, feature, qmin, qmax):\n",
        "  X.loc[~X[feature].between(qmin, qmax), feature] = np.nan\n",
        "  return X"
      ],
      "execution_count": 0,
      "outputs": []
    },
    {
      "cell_type": "code",
      "metadata": {
        "id": "gxIQnqrqOa37",
        "colab_type": "code",
        "colab": {
          "base_uri": "https://localhost:8080/",
          "height": 279
        },
        "outputId": "97365004-d092-410a-8b80-15538c91e0be"
      },
      "source": [
        "# El análisis de outliers solo tiene sentido para variables continuas\n",
        "# Se muestra una boxplot de la variable 'Age' para el DataFrame de entrenamiento\n",
        "plot = sns.boxplot(X_train['Age']);"
      ],
      "execution_count": 23,
      "outputs": [
        {
          "output_type": "display_data",
          "data": {
            "image/png": "[encoded data removed]",
            "text/plain": [
              "<Figure size 432x288 with 1 Axes>"
            ]
          },
          "metadata": {
            "tags": [],
            "needs_background": "light"
          }
        }
      ]
    },
    {
      "cell_type": "code",
      "metadata": {
        "id": "emGp9JVNOkFV",
        "colab_type": "code",
        "colab": {
          "base_uri": "https://localhost:8080/",
          "height": 279
        },
        "outputId": "aaf2f246-362f-48c8-ad82-9d67c5417db5"
      },
      "source": [
        "# Se muestra una boxplot de la variable 'Age' para el DataFrame de test\n",
        "plot = sns.boxplot(X_test['Age']);"
      ],
      "execution_count": 24,
      "outputs": [
        {
          "output_type": "display_data",
          "data": {
            "image/png": "[encoded data removed]",
            "text/plain": [
              "<Figure size 432x288 with 1 Axes>"
            ]
          },
          "metadata": {
            "tags": [],
            "needs_background": "light"
          }
        }
      ]
    },
    {
      "cell_type": "code",
      "metadata": {
        "id": "WCK2ZvcXOpKm",
        "colab_type": "code",
        "colab": {}
      },
      "source": [
        "if remove_outilers_quantile > 0:\n",
        "  # Se eliminan/reduce el número de los valore extremos\n",
        "  qmin = X_train['Age'].quantile(remove_outilers_quantile)\n",
        "  qmax = X_train['Age'].quantile(1 - remove_outilers_quantile)\n",
        "  X_train = remove_outliers(X_train, 'Age', qmin, qmax)\n",
        "  X_test = remove_outliers(X_test, 'Age', qmin, qmax)"
      ],
      "execution_count": 0,
      "outputs": []
    },
    {
      "cell_type": "code",
      "metadata": {
        "id": "1qwIMuXiO8KR",
        "colab_type": "code",
        "colab": {
          "base_uri": "https://localhost:8080/",
          "height": 279
        },
        "outputId": "743daeba-69dc-4a3d-9d5e-ba7de3da66cf"
      },
      "source": [
        "if remove_outilers_quantile > 0:\n",
        "  # Se muestra una boxplot de la variable 'Age' para el DataFrame de entrenamiento\n",
        "  plot = sns.boxplot(X_train['Age']);"
      ],
      "execution_count": 26,
      "outputs": [
        {
          "output_type": "display_data",
          "data": {
            "image/png": "[encoded data removed]",
            "text/plain": [
              "<Figure size 432x288 with 1 Axes>"
            ]
          },
          "metadata": {
            "tags": [],
            "needs_background": "light"
          }
        }
      ]
    },
    {
      "cell_type": "code",
      "metadata": {
        "id": "BUsKxEziQBWM",
        "colab_type": "code",
        "colab": {
          "base_uri": "https://localhost:8080/",
          "height": 279
        },
        "outputId": "309189a1-b11b-4ce4-846a-43726f0f0e88"
      },
      "source": [
        "if remove_outilers_quantile > 0:\n",
        "  # Se muestra una boxplot de la variable 'SibSp' para el DataFrame de test\n",
        "  plot = sns.boxplot(X_test['Age']);"
      ],
      "execution_count": 27,
      "outputs": [
        {
          "output_type": "display_data",
          "data": {
            "image/png": "[encoded data removed]",
            "text/plain": [
              "<Figure size 432x288 with 1 Axes>"
            ]
          },
          "metadata": {
            "tags": [],
            "needs_background": "light"
          }
        }
      ]
    },
    {
      "cell_type": "code",
      "metadata": {
        "id": "ZhDnso-kG0mX",
        "colab_type": "code",
        "colab": {
          "base_uri": "https://localhost:8080/",
          "height": 279
        },
        "outputId": "136000c1-4ade-4539-fefc-20e6cbd8084c"
      },
      "source": [
        "# Se muestra una boxplot de la variable 'SibSp' para el DataFrame de entrenamiento\n",
        "plot = sns.boxplot(X_train['Fare']);"
      ],
      "execution_count": 28,
      "outputs": [
        {
          "output_type": "display_data",
          "data": {
            "image/png": "[encoded data removed]",
            "text/plain": [
              "<Figure size 432x288 with 1 Axes>"
            ]
          },
          "metadata": {
            "tags": [],
            "needs_background": "light"
          }
        }
      ]
    },
    {
      "cell_type": "code",
      "metadata": {
        "id": "hgKlxYcLQHpw",
        "colab_type": "code",
        "colab": {
          "base_uri": "https://localhost:8080/",
          "height": 279
        },
        "outputId": "5c671cad-4d3c-4cfb-9518-7598dc781939"
      },
      "source": [
        "# Se muestra una boxplot de la variable 'SibSp' para el DataFrame de test\n",
        "plot = sns.boxplot(X_test['Fare']);"
      ],
      "execution_count": 29,
      "outputs": [
        {
          "output_type": "display_data",
          "data": {
            "image/png": "[encoded data removed]",
            "text/plain": [
              "<Figure size 432x288 with 1 Axes>"
            ]
          },
          "metadata": {
            "tags": [],
            "needs_background": "light"
          }
        }
      ]
    },
    {
      "cell_type": "code",
      "metadata": {
        "id": "QrkDo_XQG4Od",
        "colab_type": "code",
        "colab": {}
      },
      "source": [
        "if remove_outilers_quantile > 0:\n",
        "  qmin = X_train['Fare'].quantile(remove_outilers_quantile)\n",
        "  qmax = X_train['Fare'].quantile(1 - remove_outilers_quantile)\n",
        "  X_train = remove_outliers(X_train, 'Fare', qmin, qmax)\n",
        "  X_test = remove_outliers(X_test, 'Fare', qmin, qmax)"
      ],
      "execution_count": 0,
      "outputs": []
    },
    {
      "cell_type": "code",
      "metadata": {
        "id": "exXgzP6SHGGB",
        "colab_type": "code",
        "colab": {
          "base_uri": "https://localhost:8080/",
          "height": 279
        },
        "outputId": "0d9add6c-d88c-4676-930a-54e78cb13df2"
      },
      "source": [
        "if remove_outilers_quantile > 0:\n",
        "  # Se muestra una boxplot de la variable 'Parch' para el DataFrame de entrenamiento\n",
        "  plot = sns.boxplot(X_train['Fare']);"
      ],
      "execution_count": 31,
      "outputs": [
        {
          "output_type": "display_data",
          "data": {
            "image/png": "[encoded data removed]",
            "text/plain": [
              "<Figure size 432x288 with 1 Axes>"
            ]
          },
          "metadata": {
            "tags": [],
            "needs_background": "light"
          }
        }
      ]
    },
    {
      "cell_type": "code",
      "metadata": {
        "id": "PFvp9b5AQY-4",
        "colab_type": "code",
        "colab": {
          "base_uri": "https://localhost:8080/",
          "height": 279
        },
        "outputId": "d9a072f7-f6e7-4142-df49-71a0792b9ad7"
      },
      "source": [
        "if remove_outilers_quantile > 0:\n",
        "  # Se muestra una boxplot de la variable 'Parch' para el DataFrame de test\n",
        "  plot = sns.boxplot(X_test['Fare']);"
      ],
      "execution_count": 32,
      "outputs": [
        {
          "output_type": "display_data",
          "data": {
            "image/png": "[encoded data removed]",
            "text/plain": [
              "<Figure size 432x288 with 1 Axes>"
            ]
          },
          "metadata": {
            "tags": [],
            "needs_background": "light"
          }
        }
      ]
    },
    {
      "cell_type": "code",
      "metadata": {
        "id": "lpW_BTBQSZF5",
        "colab_type": "code",
        "colab": {
          "base_uri": "https://localhost:8080/",
          "height": 541
        },
        "outputId": "6b83212f-98e4-482d-b504-d6605cdd6978"
      },
      "source": [
        "# Se muestran las características del DataFrame de entrenamiento\n",
        "display(X_train.info())\n",
        "display(X_train.head())"
      ],
      "execution_count": 33,
      "outputs": [
        {
          "output_type": "stream",
          "text": [
            "<class 'pandas.core.frame.DataFrame'>\n",
            "Int64Index: 891 entries, 1 to 891\n",
            "Data columns (total 10 columns):\n",
            " #   Column    Non-Null Count  Dtype  \n",
            "---  ------    --------------  -----  \n",
            " 0   Pclass    891 non-null    int64  \n",
            " 1   Name      891 non-null    object \n",
            " 2   Sex       891 non-null    object \n",
            " 3   Age       511 non-null    float64\n",
            " 4   SibSp     891 non-null    int64  \n",
            " 5   Parch     891 non-null    int64  \n",
            " 6   Ticket    891 non-null    object \n",
            " 7   Fare      656 non-null    float64\n",
            " 8   Cabin     204 non-null    object \n",
            " 9   Embarked  889 non-null    object \n",
            "dtypes: float64(2), int64(3), object(5)\n",
            "memory usage: 76.6+ KB\n"
          ],
          "name": "stdout"
        },
        {
          "output_type": "display_data",
          "data": {
            "text/plain": [
              "None"
            ]
          },
          "metadata": {
            "tags": []
          }
        },
        {
          "output_type": "display_data",
          "data": {
            "text/html": [
              "<div>\n",
              "<style scoped>\n",
              "    .dataframe tbody tr th:only-of-type {\n",
              "        vertical-align: middle;\n",
              "    }\n",
              "\n",
              "    .dataframe tbody tr th {\n",
              "        vertical-align: top;\n",
              "    }\n",
              "\n",
              "    .dataframe thead th {\n",
              "        text-align: right;\n",
              "    }\n",
              "</style>\n",
              "<table border=\"1\" class=\"dataframe\">\n",
              "  <thead>\n",
              "    <tr style=\"text-align: right;\">\n",
              "      <th></th>\n",
              "      <th>Pclass</th>\n",
              "      <th>Name</th>\n",
              "      <th>Sex</th>\n",
              "      <th>Age</th>\n",
              "      <th>SibSp</th>\n",
              "      <th>Parch</th>\n",
              "      <th>Ticket</th>\n",
              "      <th>Fare</th>\n",
              "      <th>Cabin</th>\n",
              "      <th>Embarked</th>\n",
              "    </tr>\n",
              "    <tr>\n",
              "      <th>PassengerId</th>\n",
              "      <th></th>\n",
              "      <th></th>\n",
              "      <th></th>\n",
              "      <th></th>\n",
              "      <th></th>\n",
              "      <th></th>\n",
              "      <th></th>\n",
              "      <th></th>\n",
              "      <th></th>\n",
              "      <th></th>\n",
              "    </tr>\n",
              "  </thead>\n",
              "  <tbody>\n",
              "    <tr>\n",
              "      <th>1</th>\n",
              "      <td>3</td>\n",
              "      <td>Braund, Mr. Owen Harris</td>\n",
              "      <td>male</td>\n",
              "      <td>22.0</td>\n",
              "      <td>1</td>\n",
              "      <td>0</td>\n",
              "      <td>A/5 21171</td>\n",
              "      <td>NaN</td>\n",
              "      <td>NaN</td>\n",
              "      <td>S</td>\n",
              "    </tr>\n",
              "    <tr>\n",
              "      <th>2</th>\n",
              "      <td>1</td>\n",
              "      <td>Cumings, Mrs. John Bradley (Florence Briggs Th...</td>\n",
              "      <td>female</td>\n",
              "      <td>38.0</td>\n",
              "      <td>1</td>\n",
              "      <td>0</td>\n",
              "      <td>PC 17599</td>\n",
              "      <td>NaN</td>\n",
              "      <td>C85</td>\n",
              "      <td>C</td>\n",
              "    </tr>\n",
              "    <tr>\n",
              "      <th>3</th>\n",
              "      <td>3</td>\n",
              "      <td>Heikkinen, Miss. Laina</td>\n",
              "      <td>female</td>\n",
              "      <td>26.0</td>\n",
              "      <td>0</td>\n",
              "      <td>0</td>\n",
              "      <td>STON/O2. 3101282</td>\n",
              "      <td>7.925</td>\n",
              "      <td>NaN</td>\n",
              "      <td>S</td>\n",
              "    </tr>\n",
              "    <tr>\n",
              "      <th>4</th>\n",
              "      <td>1</td>\n",
              "      <td>Futrelle, Mrs. Jacques Heath (Lily May Peel)</td>\n",
              "      <td>female</td>\n",
              "      <td>35.0</td>\n",
              "      <td>1</td>\n",
              "      <td>0</td>\n",
              "      <td>113803</td>\n",
              "      <td>53.100</td>\n",
              "      <td>C123</td>\n",
              "      <td>S</td>\n",
              "    </tr>\n",
              "    <tr>\n",
              "      <th>5</th>\n",
              "      <td>3</td>\n",
              "      <td>Allen, Mr. William Henry</td>\n",
              "      <td>male</td>\n",
              "      <td>35.0</td>\n",
              "      <td>0</td>\n",
              "      <td>0</td>\n",
              "      <td>373450</td>\n",
              "      <td>8.050</td>\n",
              "      <td>NaN</td>\n",
              "      <td>S</td>\n",
              "    </tr>\n",
              "  </tbody>\n",
              "</table>\n",
              "</div>"
            ],
            "text/plain": [
              "             Pclass  ... Embarked\n",
              "PassengerId          ...         \n",
              "1                 3  ...        S\n",
              "2                 1  ...        C\n",
              "3                 3  ...        S\n",
              "4                 1  ...        S\n",
              "5                 3  ...        S\n",
              "\n",
              "[5 rows x 10 columns]"
            ]
          },
          "metadata": {
            "tags": []
          }
        }
      ]
    },
    {
      "cell_type": "code",
      "metadata": {
        "id": "-DeXfFILSgly",
        "colab_type": "code",
        "colab": {
          "base_uri": "https://localhost:8080/",
          "height": 541
        },
        "outputId": "33eb5bd5-7968-40d6-fde3-2f12c1f21558"
      },
      "source": [
        "# Se muestran las características del DataFrame de test\n",
        "display(X_test.info())\n",
        "display(X_test.head())"
      ],
      "execution_count": 34,
      "outputs": [
        {
          "output_type": "stream",
          "text": [
            "<class 'pandas.core.frame.DataFrame'>\n",
            "Int64Index: 418 entries, 892 to 1309\n",
            "Data columns (total 10 columns):\n",
            " #   Column    Non-Null Count  Dtype  \n",
            "---  ------    --------------  -----  \n",
            " 0   Pclass    418 non-null    int64  \n",
            " 1   Name      418 non-null    object \n",
            " 2   Sex       418 non-null    object \n",
            " 3   Age       246 non-null    float64\n",
            " 4   SibSp     418 non-null    int64  \n",
            " 5   Parch     418 non-null    int64  \n",
            " 6   Ticket    418 non-null    object \n",
            " 7   Fare      299 non-null    float64\n",
            " 8   Cabin     91 non-null     object \n",
            " 9   Embarked  418 non-null    object \n",
            "dtypes: float64(2), int64(3), object(5)\n",
            "memory usage: 35.9+ KB\n"
          ],
          "name": "stdout"
        },
        {
          "output_type": "display_data",
          "data": {
            "text/plain": [
              "None"
            ]
          },
          "metadata": {
            "tags": []
          }
        },
        {
          "output_type": "display_data",
          "data": {
            "text/html": [
              "<div>\n",
              "<style scoped>\n",
              "    .dataframe tbody tr th:only-of-type {\n",
              "        vertical-align: middle;\n",
              "    }\n",
              "\n",
              "    .dataframe tbody tr th {\n",
              "        vertical-align: top;\n",
              "    }\n",
              "\n",
              "    .dataframe thead th {\n",
              "        text-align: right;\n",
              "    }\n",
              "</style>\n",
              "<table border=\"1\" class=\"dataframe\">\n",
              "  <thead>\n",
              "    <tr style=\"text-align: right;\">\n",
              "      <th></th>\n",
              "      <th>Pclass</th>\n",
              "      <th>Name</th>\n",
              "      <th>Sex</th>\n",
              "      <th>Age</th>\n",
              "      <th>SibSp</th>\n",
              "      <th>Parch</th>\n",
              "      <th>Ticket</th>\n",
              "      <th>Fare</th>\n",
              "      <th>Cabin</th>\n",
              "      <th>Embarked</th>\n",
              "    </tr>\n",
              "    <tr>\n",
              "      <th>PassengerId</th>\n",
              "      <th></th>\n",
              "      <th></th>\n",
              "      <th></th>\n",
              "      <th></th>\n",
              "      <th></th>\n",
              "      <th></th>\n",
              "      <th></th>\n",
              "      <th></th>\n",
              "      <th></th>\n",
              "      <th></th>\n",
              "    </tr>\n",
              "  </thead>\n",
              "  <tbody>\n",
              "    <tr>\n",
              "      <th>892</th>\n",
              "      <td>3</td>\n",
              "      <td>Kelly, Mr. James</td>\n",
              "      <td>male</td>\n",
              "      <td>34.5</td>\n",
              "      <td>0</td>\n",
              "      <td>0</td>\n",
              "      <td>330911</td>\n",
              "      <td>7.8292</td>\n",
              "      <td>NaN</td>\n",
              "      <td>Q</td>\n",
              "    </tr>\n",
              "    <tr>\n",
              "      <th>893</th>\n",
              "      <td>3</td>\n",
              "      <td>Wilkes, Mrs. James (Ellen Needs)</td>\n",
              "      <td>female</td>\n",
              "      <td>NaN</td>\n",
              "      <td>1</td>\n",
              "      <td>0</td>\n",
              "      <td>363272</td>\n",
              "      <td>NaN</td>\n",
              "      <td>NaN</td>\n",
              "      <td>S</td>\n",
              "    </tr>\n",
              "    <tr>\n",
              "      <th>894</th>\n",
              "      <td>2</td>\n",
              "      <td>Myles, Mr. Thomas Francis</td>\n",
              "      <td>male</td>\n",
              "      <td>NaN</td>\n",
              "      <td>0</td>\n",
              "      <td>0</td>\n",
              "      <td>240276</td>\n",
              "      <td>9.6875</td>\n",
              "      <td>NaN</td>\n",
              "      <td>Q</td>\n",
              "    </tr>\n",
              "    <tr>\n",
              "      <th>895</th>\n",
              "      <td>3</td>\n",
              "      <td>Wirz, Mr. Albert</td>\n",
              "      <td>male</td>\n",
              "      <td>27.0</td>\n",
              "      <td>0</td>\n",
              "      <td>0</td>\n",
              "      <td>315154</td>\n",
              "      <td>8.6625</td>\n",
              "      <td>NaN</td>\n",
              "      <td>S</td>\n",
              "    </tr>\n",
              "    <tr>\n",
              "      <th>896</th>\n",
              "      <td>3</td>\n",
              "      <td>Hirvonen, Mrs. Alexander (Helga E Lindqvist)</td>\n",
              "      <td>female</td>\n",
              "      <td>22.0</td>\n",
              "      <td>1</td>\n",
              "      <td>1</td>\n",
              "      <td>3101298</td>\n",
              "      <td>12.2875</td>\n",
              "      <td>NaN</td>\n",
              "      <td>S</td>\n",
              "    </tr>\n",
              "  </tbody>\n",
              "</table>\n",
              "</div>"
            ],
            "text/plain": [
              "             Pclass  ... Embarked\n",
              "PassengerId          ...         \n",
              "892               3  ...        Q\n",
              "893               3  ...        S\n",
              "894               2  ...        Q\n",
              "895               3  ...        S\n",
              "896               3  ...        S\n",
              "\n",
              "[5 rows x 10 columns]"
            ]
          },
          "metadata": {
            "tags": []
          }
        }
      ]
    },
    {
      "cell_type": "markdown",
      "metadata": {
        "id": "GZvYibYSw5WP",
        "colab_type": "text"
      },
      "source": [
        "## Extraer nuevas carcaterísticas"
      ]
    },
    {
      "cell_type": "code",
      "metadata": {
        "id": "sNnx4_uh_fi_",
        "colab_type": "code",
        "colab": {}
      },
      "source": [
        "# Se define una función para convertir una variable a categórica\n",
        "def factorize_feature(X, feature):\n",
        "  # Se convierte la característica en un variable categórica\n",
        "  # identificada con un número entero\n",
        "  X[feature], _list = pd.factorize(X[feature])\n",
        "\n",
        "  # No interesa imputar los posibles valores perdidos con el valor -1,\n",
        "  # por lo que se subtituye el valor -1 por NaN\n",
        "  X_train[feature] = X[feature].replace(-1, np.nan)\n",
        "\n",
        "  # Se define un diccionario con el identificador de la categoria y su valor\n",
        "  _dict = {k:int(v) for v, k in enumerate(_list)}\n",
        "  print(_dict)\n",
        "\n",
        "  # Se devuelve el diccionario\n",
        "  return X, _dict"
      ],
      "execution_count": 0,
      "outputs": []
    },
    {
      "cell_type": "code",
      "metadata": {
        "id": "PaWiLL6ew-x-",
        "colab_type": "code",
        "outputId": "487e36ca-5fc0-4214-a092-578980b990a1",
        "colab": {
          "base_uri": "https://localhost:8080/",
          "height": 54
        }
      },
      "source": [
        "# Para el DataFrame de entrenamiento\n",
        "# Se genera una nueva característica 'Title' a partir de la extracción \n",
        "# de parte de los caractéres de la característica 'Name'\n",
        "X_train['Title'] = X_train['Name'].str.extract('([A-Za-z]+)\\.')\n",
        "\n",
        "# Se convierte la características 'Title'\n",
        "# en variables categóricas identificada con un número entero\n",
        "X_train, title = factorize_feature(X_train, 'Title')"
      ],
      "execution_count": 36,
      "outputs": [
        {
          "output_type": "stream",
          "text": [
            "{'Mr': 0, 'Mrs': 1, 'Miss': 2, 'Master': 3, 'Don': 4, 'Rev': 5, 'Dr': 6, 'Mme': 7, 'Ms': 8, 'Major': 9, 'Lady': 10, 'Sir': 11, 'Mlle': 12, 'Col': 13, 'Capt': 14, 'Countess': 15, 'Jonkheer': 16}\n"
          ],
          "name": "stdout"
        }
      ]
    },
    {
      "cell_type": "code",
      "metadata": {
        "id": "dI66Zbpwxg13",
        "colab_type": "code",
        "outputId": "f7234757-9104-48e6-c829-89ba61595b26",
        "colab": {
          "base_uri": "https://localhost:8080/",
          "height": 558
        }
      },
      "source": [
        "# Se muestran las características del DataFrame de entrenamiento\n",
        "display(X_train.info())\n",
        "display(X_train.head())"
      ],
      "execution_count": 37,
      "outputs": [
        {
          "output_type": "stream",
          "text": [
            "<class 'pandas.core.frame.DataFrame'>\n",
            "Int64Index: 891 entries, 1 to 891\n",
            "Data columns (total 11 columns):\n",
            " #   Column    Non-Null Count  Dtype  \n",
            "---  ------    --------------  -----  \n",
            " 0   Pclass    891 non-null    int64  \n",
            " 1   Name      891 non-null    object \n",
            " 2   Sex       891 non-null    object \n",
            " 3   Age       511 non-null    float64\n",
            " 4   SibSp     891 non-null    int64  \n",
            " 5   Parch     891 non-null    int64  \n",
            " 6   Ticket    891 non-null    object \n",
            " 7   Fare      656 non-null    float64\n",
            " 8   Cabin     204 non-null    object \n",
            " 9   Embarked  889 non-null    object \n",
            " 10  Title     891 non-null    int64  \n",
            "dtypes: float64(2), int64(4), object(5)\n",
            "memory usage: 83.5+ KB\n"
          ],
          "name": "stdout"
        },
        {
          "output_type": "display_data",
          "data": {
            "text/plain": [
              "None"
            ]
          },
          "metadata": {
            "tags": []
          }
        },
        {
          "output_type": "display_data",
          "data": {
            "text/html": [
              "<div>\n",
              "<style scoped>\n",
              "    .dataframe tbody tr th:only-of-type {\n",
              "        vertical-align: middle;\n",
              "    }\n",
              "\n",
              "    .dataframe tbody tr th {\n",
              "        vertical-align: top;\n",
              "    }\n",
              "\n",
              "    .dataframe thead th {\n",
              "        text-align: right;\n",
              "    }\n",
              "</style>\n",
              "<table border=\"1\" class=\"dataframe\">\n",
              "  <thead>\n",
              "    <tr style=\"text-align: right;\">\n",
              "      <th></th>\n",
              "      <th>Pclass</th>\n",
              "      <th>Name</th>\n",
              "      <th>Sex</th>\n",
              "      <th>Age</th>\n",
              "      <th>SibSp</th>\n",
              "      <th>Parch</th>\n",
              "      <th>Ticket</th>\n",
              "      <th>Fare</th>\n",
              "      <th>Cabin</th>\n",
              "      <th>Embarked</th>\n",
              "      <th>Title</th>\n",
              "    </tr>\n",
              "    <tr>\n",
              "      <th>PassengerId</th>\n",
              "      <th></th>\n",
              "      <th></th>\n",
              "      <th></th>\n",
              "      <th></th>\n",
              "      <th></th>\n",
              "      <th></th>\n",
              "      <th></th>\n",
              "      <th></th>\n",
              "      <th></th>\n",
              "      <th></th>\n",
              "      <th></th>\n",
              "    </tr>\n",
              "  </thead>\n",
              "  <tbody>\n",
              "    <tr>\n",
              "      <th>1</th>\n",
              "      <td>3</td>\n",
              "      <td>Braund, Mr. Owen Harris</td>\n",
              "      <td>male</td>\n",
              "      <td>22.0</td>\n",
              "      <td>1</td>\n",
              "      <td>0</td>\n",
              "      <td>A/5 21171</td>\n",
              "      <td>NaN</td>\n",
              "      <td>NaN</td>\n",
              "      <td>S</td>\n",
              "      <td>0</td>\n",
              "    </tr>\n",
              "    <tr>\n",
              "      <th>2</th>\n",
              "      <td>1</td>\n",
              "      <td>Cumings, Mrs. John Bradley (Florence Briggs Th...</td>\n",
              "      <td>female</td>\n",
              "      <td>38.0</td>\n",
              "      <td>1</td>\n",
              "      <td>0</td>\n",
              "      <td>PC 17599</td>\n",
              "      <td>NaN</td>\n",
              "      <td>C85</td>\n",
              "      <td>C</td>\n",
              "      <td>1</td>\n",
              "    </tr>\n",
              "    <tr>\n",
              "      <th>3</th>\n",
              "      <td>3</td>\n",
              "      <td>Heikkinen, Miss. Laina</td>\n",
              "      <td>female</td>\n",
              "      <td>26.0</td>\n",
              "      <td>0</td>\n",
              "      <td>0</td>\n",
              "      <td>STON/O2. 3101282</td>\n",
              "      <td>7.925</td>\n",
              "      <td>NaN</td>\n",
              "      <td>S</td>\n",
              "      <td>2</td>\n",
              "    </tr>\n",
              "    <tr>\n",
              "      <th>4</th>\n",
              "      <td>1</td>\n",
              "      <td>Futrelle, Mrs. Jacques Heath (Lily May Peel)</td>\n",
              "      <td>female</td>\n",
              "      <td>35.0</td>\n",
              "      <td>1</td>\n",
              "      <td>0</td>\n",
              "      <td>113803</td>\n",
              "      <td>53.100</td>\n",
              "      <td>C123</td>\n",
              "      <td>S</td>\n",
              "      <td>1</td>\n",
              "    </tr>\n",
              "    <tr>\n",
              "      <th>5</th>\n",
              "      <td>3</td>\n",
              "      <td>Allen, Mr. William Henry</td>\n",
              "      <td>male</td>\n",
              "      <td>35.0</td>\n",
              "      <td>0</td>\n",
              "      <td>0</td>\n",
              "      <td>373450</td>\n",
              "      <td>8.050</td>\n",
              "      <td>NaN</td>\n",
              "      <td>S</td>\n",
              "      <td>0</td>\n",
              "    </tr>\n",
              "  </tbody>\n",
              "</table>\n",
              "</div>"
            ],
            "text/plain": [
              "             Pclass  ... Title\n",
              "PassengerId          ...      \n",
              "1                 3  ...     0\n",
              "2                 1  ...     1\n",
              "3                 3  ...     2\n",
              "4                 1  ...     1\n",
              "5                 3  ...     0\n",
              "\n",
              "[5 rows x 11 columns]"
            ]
          },
          "metadata": {
            "tags": []
          }
        }
      ]
    },
    {
      "cell_type": "code",
      "metadata": {
        "id": "vkVLvq_i0MX2",
        "colab_type": "code",
        "colab": {}
      },
      "source": [
        "# Para el DataFrame de test\n",
        "# Se genera una nueva característica 'Title' a partir de la extracción \n",
        "X_test['Title'] = X_test['Name'].str.extract('([A-Za-z]+)\\.')\n",
        "\n",
        "# Se convierte la característica 'Title' en un variable categórica\n",
        "# utilizando las categorías de la variable 'Title' del DataFrame de entrenamiento,\n",
        "# a partir del diccionario generado\n",
        "X_test['Title'] = X_test['Title'].map(title)"
      ],
      "execution_count": 0,
      "outputs": []
    },
    {
      "cell_type": "code",
      "metadata": {
        "id": "M7cMkyyi0fqw",
        "colab_type": "code",
        "outputId": "4102beac-65f3-4912-c0b8-0d82eca4579a",
        "colab": {
          "base_uri": "https://localhost:8080/",
          "height": 558
        }
      },
      "source": [
        "# Se muestran las características del DataFrame de test\n",
        "display(X_test.info())\n",
        "display(X_test.head())"
      ],
      "execution_count": 39,
      "outputs": [
        {
          "output_type": "stream",
          "text": [
            "<class 'pandas.core.frame.DataFrame'>\n",
            "Int64Index: 418 entries, 892 to 1309\n",
            "Data columns (total 11 columns):\n",
            " #   Column    Non-Null Count  Dtype  \n",
            "---  ------    --------------  -----  \n",
            " 0   Pclass    418 non-null    int64  \n",
            " 1   Name      418 non-null    object \n",
            " 2   Sex       418 non-null    object \n",
            " 3   Age       246 non-null    float64\n",
            " 4   SibSp     418 non-null    int64  \n",
            " 5   Parch     418 non-null    int64  \n",
            " 6   Ticket    418 non-null    object \n",
            " 7   Fare      299 non-null    float64\n",
            " 8   Cabin     91 non-null     object \n",
            " 9   Embarked  418 non-null    object \n",
            " 10  Title     417 non-null    float64\n",
            "dtypes: float64(3), int64(3), object(5)\n",
            "memory usage: 39.2+ KB\n"
          ],
          "name": "stdout"
        },
        {
          "output_type": "display_data",
          "data": {
            "text/plain": [
              "None"
            ]
          },
          "metadata": {
            "tags": []
          }
        },
        {
          "output_type": "display_data",
          "data": {
            "text/html": [
              "<div>\n",
              "<style scoped>\n",
              "    .dataframe tbody tr th:only-of-type {\n",
              "        vertical-align: middle;\n",
              "    }\n",
              "\n",
              "    .dataframe tbody tr th {\n",
              "        vertical-align: top;\n",
              "    }\n",
              "\n",
              "    .dataframe thead th {\n",
              "        text-align: right;\n",
              "    }\n",
              "</style>\n",
              "<table border=\"1\" class=\"dataframe\">\n",
              "  <thead>\n",
              "    <tr style=\"text-align: right;\">\n",
              "      <th></th>\n",
              "      <th>Pclass</th>\n",
              "      <th>Name</th>\n",
              "      <th>Sex</th>\n",
              "      <th>Age</th>\n",
              "      <th>SibSp</th>\n",
              "      <th>Parch</th>\n",
              "      <th>Ticket</th>\n",
              "      <th>Fare</th>\n",
              "      <th>Cabin</th>\n",
              "      <th>Embarked</th>\n",
              "      <th>Title</th>\n",
              "    </tr>\n",
              "    <tr>\n",
              "      <th>PassengerId</th>\n",
              "      <th></th>\n",
              "      <th></th>\n",
              "      <th></th>\n",
              "      <th></th>\n",
              "      <th></th>\n",
              "      <th></th>\n",
              "      <th></th>\n",
              "      <th></th>\n",
              "      <th></th>\n",
              "      <th></th>\n",
              "      <th></th>\n",
              "    </tr>\n",
              "  </thead>\n",
              "  <tbody>\n",
              "    <tr>\n",
              "      <th>892</th>\n",
              "      <td>3</td>\n",
              "      <td>Kelly, Mr. James</td>\n",
              "      <td>male</td>\n",
              "      <td>34.5</td>\n",
              "      <td>0</td>\n",
              "      <td>0</td>\n",
              "      <td>330911</td>\n",
              "      <td>7.8292</td>\n",
              "      <td>NaN</td>\n",
              "      <td>Q</td>\n",
              "      <td>0.0</td>\n",
              "    </tr>\n",
              "    <tr>\n",
              "      <th>893</th>\n",
              "      <td>3</td>\n",
              "      <td>Wilkes, Mrs. James (Ellen Needs)</td>\n",
              "      <td>female</td>\n",
              "      <td>NaN</td>\n",
              "      <td>1</td>\n",
              "      <td>0</td>\n",
              "      <td>363272</td>\n",
              "      <td>NaN</td>\n",
              "      <td>NaN</td>\n",
              "      <td>S</td>\n",
              "      <td>1.0</td>\n",
              "    </tr>\n",
              "    <tr>\n",
              "      <th>894</th>\n",
              "      <td>2</td>\n",
              "      <td>Myles, Mr. Thomas Francis</td>\n",
              "      <td>male</td>\n",
              "      <td>NaN</td>\n",
              "      <td>0</td>\n",
              "      <td>0</td>\n",
              "      <td>240276</td>\n",
              "      <td>9.6875</td>\n",
              "      <td>NaN</td>\n",
              "      <td>Q</td>\n",
              "      <td>0.0</td>\n",
              "    </tr>\n",
              "    <tr>\n",
              "      <th>895</th>\n",
              "      <td>3</td>\n",
              "      <td>Wirz, Mr. Albert</td>\n",
              "      <td>male</td>\n",
              "      <td>27.0</td>\n",
              "      <td>0</td>\n",
              "      <td>0</td>\n",
              "      <td>315154</td>\n",
              "      <td>8.6625</td>\n",
              "      <td>NaN</td>\n",
              "      <td>S</td>\n",
              "      <td>0.0</td>\n",
              "    </tr>\n",
              "    <tr>\n",
              "      <th>896</th>\n",
              "      <td>3</td>\n",
              "      <td>Hirvonen, Mrs. Alexander (Helga E Lindqvist)</td>\n",
              "      <td>female</td>\n",
              "      <td>22.0</td>\n",
              "      <td>1</td>\n",
              "      <td>1</td>\n",
              "      <td>3101298</td>\n",
              "      <td>12.2875</td>\n",
              "      <td>NaN</td>\n",
              "      <td>S</td>\n",
              "      <td>1.0</td>\n",
              "    </tr>\n",
              "  </tbody>\n",
              "</table>\n",
              "</div>"
            ],
            "text/plain": [
              "             Pclass  ... Title\n",
              "PassengerId          ...      \n",
              "892               3  ...   0.0\n",
              "893               3  ...   1.0\n",
              "894               2  ...   0.0\n",
              "895               3  ...   0.0\n",
              "896               3  ...   1.0\n",
              "\n",
              "[5 rows x 11 columns]"
            ]
          },
          "metadata": {
            "tags": []
          }
        }
      ]
    },
    {
      "cell_type": "markdown",
      "metadata": {
        "id": "vhUuoDkV6YA2",
        "colab_type": "text"
      },
      "source": [
        "## Eliminación de características"
      ]
    },
    {
      "cell_type": "code",
      "metadata": {
        "id": "B_xa0V4-wwxB",
        "colab_type": "code",
        "outputId": "4f7a27bb-ffd1-40df-e38e-647db6d103a1",
        "colab": {
          "base_uri": "https://localhost:8080/",
          "height": 289
        }
      },
      "source": [
        "# Se eliminan del DataFrame de entrenamiento las características que no son necesarias\n",
        "X_train = X_train.drop(columns=['Name', 'Ticket', 'Cabin'])\n",
        "\n",
        "# Se muestran las características del DataFrame de entrenamiento\n",
        "display(X_train.info())"
      ],
      "execution_count": 40,
      "outputs": [
        {
          "output_type": "stream",
          "text": [
            "<class 'pandas.core.frame.DataFrame'>\n",
            "Int64Index: 891 entries, 1 to 891\n",
            "Data columns (total 8 columns):\n",
            " #   Column    Non-Null Count  Dtype  \n",
            "---  ------    --------------  -----  \n",
            " 0   Pclass    891 non-null    int64  \n",
            " 1   Sex       891 non-null    object \n",
            " 2   Age       511 non-null    float64\n",
            " 3   SibSp     891 non-null    int64  \n",
            " 4   Parch     891 non-null    int64  \n",
            " 5   Fare      656 non-null    float64\n",
            " 6   Embarked  889 non-null    object \n",
            " 7   Title     891 non-null    int64  \n",
            "dtypes: float64(2), int64(4), object(2)\n",
            "memory usage: 62.6+ KB\n"
          ],
          "name": "stdout"
        },
        {
          "output_type": "display_data",
          "data": {
            "text/plain": [
              "None"
            ]
          },
          "metadata": {
            "tags": []
          }
        }
      ]
    },
    {
      "cell_type": "code",
      "metadata": {
        "id": "jVP3qnTC3SZT",
        "colab_type": "code",
        "outputId": "684a1fda-ece0-4c0d-960e-bc05ecb58d3d",
        "colab": {
          "base_uri": "https://localhost:8080/",
          "height": 289
        }
      },
      "source": [
        "# Se eliminan del DataFrame de test las características que no son necesarias\n",
        "X_test = X_test.drop(columns=['Name', 'Ticket', 'Cabin'])\n",
        "\n",
        "# Se muestran las características del DataFrame de test\n",
        "display(X_test.info())"
      ],
      "execution_count": 41,
      "outputs": [
        {
          "output_type": "stream",
          "text": [
            "<class 'pandas.core.frame.DataFrame'>\n",
            "Int64Index: 418 entries, 892 to 1309\n",
            "Data columns (total 8 columns):\n",
            " #   Column    Non-Null Count  Dtype  \n",
            "---  ------    --------------  -----  \n",
            " 0   Pclass    418 non-null    int64  \n",
            " 1   Sex       418 non-null    object \n",
            " 2   Age       246 non-null    float64\n",
            " 3   SibSp     418 non-null    int64  \n",
            " 4   Parch     418 non-null    int64  \n",
            " 5   Fare      299 non-null    float64\n",
            " 6   Embarked  418 non-null    object \n",
            " 7   Title     417 non-null    float64\n",
            "dtypes: float64(3), int64(3), object(2)\n",
            "memory usage: 29.4+ KB\n"
          ],
          "name": "stdout"
        },
        {
          "output_type": "display_data",
          "data": {
            "text/plain": [
              "None"
            ]
          },
          "metadata": {
            "tags": []
          }
        }
      ]
    },
    {
      "cell_type": "markdown",
      "metadata": {
        "id": "8fOTZ6Wr5iju",
        "colab_type": "text"
      },
      "source": [
        "## Factorizar características"
      ]
    },
    {
      "cell_type": "code",
      "metadata": {
        "id": "qbRWK0jKwtao",
        "colab_type": "code",
        "outputId": "9707fc40-9cb4-44f0-aa84-4437bfeb30c5",
        "colab": {
          "base_uri": "https://localhost:8080/",
          "height": 51
        }
      },
      "source": [
        "# Para el DataFrame de entrenamiento\n",
        "# Se convierten las características 'Sex' y 'Embarked' \n",
        "# en variables categóricas\n",
        "X_train, sex = factorize_feature(X_train, 'Sex')\n",
        "X_train, embarked = factorize_feature(X_train, 'Embarked')"
      ],
      "execution_count": 42,
      "outputs": [
        {
          "output_type": "stream",
          "text": [
            "{'male': 0, 'female': 1}\n",
            "{'S': 0, 'C': 1, 'Q': 2}\n"
          ],
          "name": "stdout"
        }
      ]
    },
    {
      "cell_type": "code",
      "metadata": {
        "id": "ZOD6MvbH4w7c",
        "colab_type": "code",
        "outputId": "aad88811-6676-4086-bd68-80d326a3c1dd",
        "colab": {
          "base_uri": "https://localhost:8080/",
          "height": 507
        }
      },
      "source": [
        "# Se muestran las características del DataFrame de entrenamiento\n",
        "display(X_train.info())\n",
        "display(X_train.head())"
      ],
      "execution_count": 43,
      "outputs": [
        {
          "output_type": "stream",
          "text": [
            "<class 'pandas.core.frame.DataFrame'>\n",
            "Int64Index: 891 entries, 1 to 891\n",
            "Data columns (total 8 columns):\n",
            " #   Column    Non-Null Count  Dtype  \n",
            "---  ------    --------------  -----  \n",
            " 0   Pclass    891 non-null    int64  \n",
            " 1   Sex       891 non-null    int64  \n",
            " 2   Age       511 non-null    float64\n",
            " 3   SibSp     891 non-null    int64  \n",
            " 4   Parch     891 non-null    int64  \n",
            " 5   Fare      656 non-null    float64\n",
            " 6   Embarked  889 non-null    float64\n",
            " 7   Title     891 non-null    int64  \n",
            "dtypes: float64(3), int64(5)\n",
            "memory usage: 62.6 KB\n"
          ],
          "name": "stdout"
        },
        {
          "output_type": "display_data",
          "data": {
            "text/plain": [
              "None"
            ]
          },
          "metadata": {
            "tags": []
          }
        },
        {
          "output_type": "display_data",
          "data": {
            "text/html": [
              "<div>\n",
              "<style scoped>\n",
              "    .dataframe tbody tr th:only-of-type {\n",
              "        vertical-align: middle;\n",
              "    }\n",
              "\n",
              "    .dataframe tbody tr th {\n",
              "        vertical-align: top;\n",
              "    }\n",
              "\n",
              "    .dataframe thead th {\n",
              "        text-align: right;\n",
              "    }\n",
              "</style>\n",
              "<table border=\"1\" class=\"dataframe\">\n",
              "  <thead>\n",
              "    <tr style=\"text-align: right;\">\n",
              "      <th></th>\n",
              "      <th>Pclass</th>\n",
              "      <th>Sex</th>\n",
              "      <th>Age</th>\n",
              "      <th>SibSp</th>\n",
              "      <th>Parch</th>\n",
              "      <th>Fare</th>\n",
              "      <th>Embarked</th>\n",
              "      <th>Title</th>\n",
              "    </tr>\n",
              "    <tr>\n",
              "      <th>PassengerId</th>\n",
              "      <th></th>\n",
              "      <th></th>\n",
              "      <th></th>\n",
              "      <th></th>\n",
              "      <th></th>\n",
              "      <th></th>\n",
              "      <th></th>\n",
              "      <th></th>\n",
              "    </tr>\n",
              "  </thead>\n",
              "  <tbody>\n",
              "    <tr>\n",
              "      <th>1</th>\n",
              "      <td>3</td>\n",
              "      <td>0</td>\n",
              "      <td>22.0</td>\n",
              "      <td>1</td>\n",
              "      <td>0</td>\n",
              "      <td>NaN</td>\n",
              "      <td>0.0</td>\n",
              "      <td>0</td>\n",
              "    </tr>\n",
              "    <tr>\n",
              "      <th>2</th>\n",
              "      <td>1</td>\n",
              "      <td>1</td>\n",
              "      <td>38.0</td>\n",
              "      <td>1</td>\n",
              "      <td>0</td>\n",
              "      <td>NaN</td>\n",
              "      <td>1.0</td>\n",
              "      <td>1</td>\n",
              "    </tr>\n",
              "    <tr>\n",
              "      <th>3</th>\n",
              "      <td>3</td>\n",
              "      <td>1</td>\n",
              "      <td>26.0</td>\n",
              "      <td>0</td>\n",
              "      <td>0</td>\n",
              "      <td>7.925</td>\n",
              "      <td>0.0</td>\n",
              "      <td>2</td>\n",
              "    </tr>\n",
              "    <tr>\n",
              "      <th>4</th>\n",
              "      <td>1</td>\n",
              "      <td>1</td>\n",
              "      <td>35.0</td>\n",
              "      <td>1</td>\n",
              "      <td>0</td>\n",
              "      <td>53.100</td>\n",
              "      <td>0.0</td>\n",
              "      <td>1</td>\n",
              "    </tr>\n",
              "    <tr>\n",
              "      <th>5</th>\n",
              "      <td>3</td>\n",
              "      <td>0</td>\n",
              "      <td>35.0</td>\n",
              "      <td>0</td>\n",
              "      <td>0</td>\n",
              "      <td>8.050</td>\n",
              "      <td>0.0</td>\n",
              "      <td>0</td>\n",
              "    </tr>\n",
              "  </tbody>\n",
              "</table>\n",
              "</div>"
            ],
            "text/plain": [
              "             Pclass  Sex   Age  SibSp  Parch    Fare  Embarked  Title\n",
              "PassengerId                                                          \n",
              "1                 3    0  22.0      1      0     NaN       0.0      0\n",
              "2                 1    1  38.0      1      0     NaN       1.0      1\n",
              "3                 3    1  26.0      0      0   7.925       0.0      2\n",
              "4                 1    1  35.0      1      0  53.100       0.0      1\n",
              "5                 3    0  35.0      0      0   8.050       0.0      0"
            ]
          },
          "metadata": {
            "tags": []
          }
        }
      ]
    },
    {
      "cell_type": "code",
      "metadata": {
        "id": "qmYxETIr4a0g",
        "colab_type": "code",
        "colab": {}
      },
      "source": [
        "# Para el DataFrame de test\n",
        "# Se convierten las características 'Sex' y 'Embarked' en un variables categóricas\n",
        "# utilizando las categorías de las variables 'Sex' y 'Embarked' del DataFrame \n",
        "# de entrenamiento, a partir del diccionario generado\n",
        "X_test['Sex'] = X_test['Sex'].map(sex)\n",
        "X_test['Embarked'] = X_test['Embarked'].map(embarked)"
      ],
      "execution_count": 0,
      "outputs": []
    },
    {
      "cell_type": "code",
      "metadata": {
        "id": "8xhShqRef-Y3",
        "colab_type": "code",
        "outputId": "ea815907-c96f-4633-e43e-e955b0fd0abd",
        "colab": {
          "base_uri": "https://localhost:8080/",
          "height": 507
        }
      },
      "source": [
        "# Se muestran las características del DataFrame de test\n",
        "display(X_test.info())\n",
        "display(X_test.head())"
      ],
      "execution_count": 45,
      "outputs": [
        {
          "output_type": "stream",
          "text": [
            "<class 'pandas.core.frame.DataFrame'>\n",
            "Int64Index: 418 entries, 892 to 1309\n",
            "Data columns (total 8 columns):\n",
            " #   Column    Non-Null Count  Dtype  \n",
            "---  ------    --------------  -----  \n",
            " 0   Pclass    418 non-null    int64  \n",
            " 1   Sex       418 non-null    int64  \n",
            " 2   Age       246 non-null    float64\n",
            " 3   SibSp     418 non-null    int64  \n",
            " 4   Parch     418 non-null    int64  \n",
            " 5   Fare      299 non-null    float64\n",
            " 6   Embarked  418 non-null    int64  \n",
            " 7   Title     417 non-null    float64\n",
            "dtypes: float64(3), int64(5)\n",
            "memory usage: 29.4 KB\n"
          ],
          "name": "stdout"
        },
        {
          "output_type": "display_data",
          "data": {
            "text/plain": [
              "None"
            ]
          },
          "metadata": {
            "tags": []
          }
        },
        {
          "output_type": "display_data",
          "data": {
            "text/html": [
              "<div>\n",
              "<style scoped>\n",
              "    .dataframe tbody tr th:only-of-type {\n",
              "        vertical-align: middle;\n",
              "    }\n",
              "\n",
              "    .dataframe tbody tr th {\n",
              "        vertical-align: top;\n",
              "    }\n",
              "\n",
              "    .dataframe thead th {\n",
              "        text-align: right;\n",
              "    }\n",
              "</style>\n",
              "<table border=\"1\" class=\"dataframe\">\n",
              "  <thead>\n",
              "    <tr style=\"text-align: right;\">\n",
              "      <th></th>\n",
              "      <th>Pclass</th>\n",
              "      <th>Sex</th>\n",
              "      <th>Age</th>\n",
              "      <th>SibSp</th>\n",
              "      <th>Parch</th>\n",
              "      <th>Fare</th>\n",
              "      <th>Embarked</th>\n",
              "      <th>Title</th>\n",
              "    </tr>\n",
              "    <tr>\n",
              "      <th>PassengerId</th>\n",
              "      <th></th>\n",
              "      <th></th>\n",
              "      <th></th>\n",
              "      <th></th>\n",
              "      <th></th>\n",
              "      <th></th>\n",
              "      <th></th>\n",
              "      <th></th>\n",
              "    </tr>\n",
              "  </thead>\n",
              "  <tbody>\n",
              "    <tr>\n",
              "      <th>892</th>\n",
              "      <td>3</td>\n",
              "      <td>0</td>\n",
              "      <td>34.5</td>\n",
              "      <td>0</td>\n",
              "      <td>0</td>\n",
              "      <td>7.8292</td>\n",
              "      <td>2</td>\n",
              "      <td>0.0</td>\n",
              "    </tr>\n",
              "    <tr>\n",
              "      <th>893</th>\n",
              "      <td>3</td>\n",
              "      <td>1</td>\n",
              "      <td>NaN</td>\n",
              "      <td>1</td>\n",
              "      <td>0</td>\n",
              "      <td>NaN</td>\n",
              "      <td>0</td>\n",
              "      <td>1.0</td>\n",
              "    </tr>\n",
              "    <tr>\n",
              "      <th>894</th>\n",
              "      <td>2</td>\n",
              "      <td>0</td>\n",
              "      <td>NaN</td>\n",
              "      <td>0</td>\n",
              "      <td>0</td>\n",
              "      <td>9.6875</td>\n",
              "      <td>2</td>\n",
              "      <td>0.0</td>\n",
              "    </tr>\n",
              "    <tr>\n",
              "      <th>895</th>\n",
              "      <td>3</td>\n",
              "      <td>0</td>\n",
              "      <td>27.0</td>\n",
              "      <td>0</td>\n",
              "      <td>0</td>\n",
              "      <td>8.6625</td>\n",
              "      <td>0</td>\n",
              "      <td>0.0</td>\n",
              "    </tr>\n",
              "    <tr>\n",
              "      <th>896</th>\n",
              "      <td>3</td>\n",
              "      <td>1</td>\n",
              "      <td>22.0</td>\n",
              "      <td>1</td>\n",
              "      <td>1</td>\n",
              "      <td>12.2875</td>\n",
              "      <td>0</td>\n",
              "      <td>1.0</td>\n",
              "    </tr>\n",
              "  </tbody>\n",
              "</table>\n",
              "</div>"
            ],
            "text/plain": [
              "             Pclass  Sex   Age  SibSp  Parch     Fare  Embarked  Title\n",
              "PassengerId                                                           \n",
              "892               3    0  34.5      0      0   7.8292         2    0.0\n",
              "893               3    1   NaN      1      0      NaN         0    1.0\n",
              "894               2    0   NaN      0      0   9.6875         2    0.0\n",
              "895               3    0  27.0      0      0   8.6625         0    0.0\n",
              "896               3    1  22.0      1      1  12.2875         0    1.0"
            ]
          },
          "metadata": {
            "tags": []
          }
        }
      ]
    },
    {
      "cell_type": "markdown",
      "metadata": {
        "id": "h4Xmg8lVPBDl",
        "colab_type": "text"
      },
      "source": [
        "## Discretizar características"
      ]
    },
    {
      "cell_type": "code",
      "metadata": {
        "id": "0vALM8lrCn5N",
        "colab_type": "code",
        "colab": {}
      },
      "source": [
        "# Se define una función para convertir en categórica\n",
        "# una característica a partir de un diccionario con\n",
        "# el que mapear las categorías\n",
        "def map_discrete_categories(X, feature, _dict):\n",
        "  _list = []\n",
        "  for i, x in enumerate(list(X[feature])):\n",
        "    found = False\n",
        "    for k, v in _dict.items():\n",
        "      try:\n",
        "        if x in k:\n",
        "          _list.append(v)\n",
        "          found = True\n",
        "          break\n",
        "      except:\n",
        "        pass\n",
        "    if not found:\n",
        "      _list.append(np.nan)\n",
        "  X[feature] = _list\n",
        "  return X"
      ],
      "execution_count": 0,
      "outputs": []
    },
    {
      "cell_type": "code",
      "metadata": {
        "id": "-eUVy5LZgCw7",
        "colab_type": "code",
        "outputId": "4d2db4b8-6d3a-4cac-a2fc-0056279d38cb",
        "colab": {
          "base_uri": "https://localhost:8080/",
          "height": 54
        }
      },
      "source": [
        "# Siempre que se decida discretizar la variable 'Age'\n",
        "if age_categories > 0:\n",
        "  # Se agrupan las muestras en categorías con el mismo número de muestras\n",
        "  # El número de categorías viene definido por la variable 'age_categories'\n",
        "  X_train['Age'] = pd.qcut(X_train['Age'], age_categories)\n",
        "\n",
        "  # Se convierte la característica 'Age' en una variable categórica\n",
        "  X_train, age = factorize_feature(X_train, 'Age')"
      ],
      "execution_count": 47,
      "outputs": [
        {
          "output_type": "stream",
          "text": [
            "{Interval(21.0, 24.0, closed='right'): 0, Interval(36.0, 40.0, closed='right'): 1, Interval(24.0, 26.0, closed='right'): 2, Interval(33.0, 36.0, closed='right'): 3, Interval(26.0, 28.0, closed='right'): 4, Interval(19.0, 21.0, closed='right'): 5, Interval(30.0, 33.0, closed='right'): 6, Interval(16.999, 19.0, closed='right'): 7, Interval(40.0, 45.0, closed='right'): 8, Interval(28.0, 30.0, closed='right'): 9}\n"
          ],
          "name": "stdout"
        }
      ]
    },
    {
      "cell_type": "code",
      "metadata": {
        "id": "Q0JtXkdM8ByY",
        "colab_type": "code",
        "outputId": "da01ea08-cc0b-4a85-b2f7-84093a4f8c8f",
        "colab": {
          "base_uri": "https://localhost:8080/",
          "height": 507
        }
      },
      "source": [
        "# Se muestran las características del DataFrame de entrenamiento\n",
        "display(X_train.info())\n",
        "display(X_train.head())"
      ],
      "execution_count": 48,
      "outputs": [
        {
          "output_type": "stream",
          "text": [
            "<class 'pandas.core.frame.DataFrame'>\n",
            "Int64Index: 891 entries, 1 to 891\n",
            "Data columns (total 8 columns):\n",
            " #   Column    Non-Null Count  Dtype  \n",
            "---  ------    --------------  -----  \n",
            " 0   Pclass    891 non-null    int64  \n",
            " 1   Sex       891 non-null    int64  \n",
            " 2   Age       511 non-null    float64\n",
            " 3   SibSp     891 non-null    int64  \n",
            " 4   Parch     891 non-null    int64  \n",
            " 5   Fare      656 non-null    float64\n",
            " 6   Embarked  889 non-null    float64\n",
            " 7   Title     891 non-null    int64  \n",
            "dtypes: float64(3), int64(5)\n",
            "memory usage: 62.6 KB\n"
          ],
          "name": "stdout"
        },
        {
          "output_type": "display_data",
          "data": {
            "text/plain": [
              "None"
            ]
          },
          "metadata": {
            "tags": []
          }
        },
        {
          "output_type": "display_data",
          "data": {
            "text/html": [
              "<div>\n",
              "<style scoped>\n",
              "    .dataframe tbody tr th:only-of-type {\n",
              "        vertical-align: middle;\n",
              "    }\n",
              "\n",
              "    .dataframe tbody tr th {\n",
              "        vertical-align: top;\n",
              "    }\n",
              "\n",
              "    .dataframe thead th {\n",
              "        text-align: right;\n",
              "    }\n",
              "</style>\n",
              "<table border=\"1\" class=\"dataframe\">\n",
              "  <thead>\n",
              "    <tr style=\"text-align: right;\">\n",
              "      <th></th>\n",
              "      <th>Pclass</th>\n",
              "      <th>Sex</th>\n",
              "      <th>Age</th>\n",
              "      <th>SibSp</th>\n",
              "      <th>Parch</th>\n",
              "      <th>Fare</th>\n",
              "      <th>Embarked</th>\n",
              "      <th>Title</th>\n",
              "    </tr>\n",
              "    <tr>\n",
              "      <th>PassengerId</th>\n",
              "      <th></th>\n",
              "      <th></th>\n",
              "      <th></th>\n",
              "      <th></th>\n",
              "      <th></th>\n",
              "      <th></th>\n",
              "      <th></th>\n",
              "      <th></th>\n",
              "    </tr>\n",
              "  </thead>\n",
              "  <tbody>\n",
              "    <tr>\n",
              "      <th>1</th>\n",
              "      <td>3</td>\n",
              "      <td>0</td>\n",
              "      <td>0.0</td>\n",
              "      <td>1</td>\n",
              "      <td>0</td>\n",
              "      <td>NaN</td>\n",
              "      <td>0.0</td>\n",
              "      <td>0</td>\n",
              "    </tr>\n",
              "    <tr>\n",
              "      <th>2</th>\n",
              "      <td>1</td>\n",
              "      <td>1</td>\n",
              "      <td>1.0</td>\n",
              "      <td>1</td>\n",
              "      <td>0</td>\n",
              "      <td>NaN</td>\n",
              "      <td>1.0</td>\n",
              "      <td>1</td>\n",
              "    </tr>\n",
              "    <tr>\n",
              "      <th>3</th>\n",
              "      <td>3</td>\n",
              "      <td>1</td>\n",
              "      <td>2.0</td>\n",
              "      <td>0</td>\n",
              "      <td>0</td>\n",
              "      <td>7.925</td>\n",
              "      <td>0.0</td>\n",
              "      <td>2</td>\n",
              "    </tr>\n",
              "    <tr>\n",
              "      <th>4</th>\n",
              "      <td>1</td>\n",
              "      <td>1</td>\n",
              "      <td>3.0</td>\n",
              "      <td>1</td>\n",
              "      <td>0</td>\n",
              "      <td>53.100</td>\n",
              "      <td>0.0</td>\n",
              "      <td>1</td>\n",
              "    </tr>\n",
              "    <tr>\n",
              "      <th>5</th>\n",
              "      <td>3</td>\n",
              "      <td>0</td>\n",
              "      <td>3.0</td>\n",
              "      <td>0</td>\n",
              "      <td>0</td>\n",
              "      <td>8.050</td>\n",
              "      <td>0.0</td>\n",
              "      <td>0</td>\n",
              "    </tr>\n",
              "  </tbody>\n",
              "</table>\n",
              "</div>"
            ],
            "text/plain": [
              "             Pclass  Sex  Age  SibSp  Parch    Fare  Embarked  Title\n",
              "PassengerId                                                         \n",
              "1                 3    0  0.0      1      0     NaN       0.0      0\n",
              "2                 1    1  1.0      1      0     NaN       1.0      1\n",
              "3                 3    1  2.0      0      0   7.925       0.0      2\n",
              "4                 1    1  3.0      1      0  53.100       0.0      1\n",
              "5                 3    0  3.0      0      0   8.050       0.0      0"
            ]
          },
          "metadata": {
            "tags": []
          }
        }
      ]
    },
    {
      "cell_type": "code",
      "metadata": {
        "id": "4tarW9_JPCSy",
        "colab_type": "code",
        "colab": {}
      },
      "source": [
        "# Siempre que se decida discretizar la variable 'Age'\n",
        "if age_categories > 0:\n",
        "  # Se asigna cada valor de la variable 'Age' del \n",
        "  # DataFrame de test al identificador numérico de \n",
        "  # la categoría que le corresponde, utilizando las categorías\n",
        "  # de la variable 'Age' del DataFrame de entrenamiento\n",
        "  map_discrete_categories(X_test, 'Age', age)"
      ],
      "execution_count": 0,
      "outputs": []
    },
    {
      "cell_type": "code",
      "metadata": {
        "id": "hS9Cc6xTQO60",
        "colab_type": "code",
        "outputId": "ccf65018-15d8-4b18-dbca-3893ffe80859",
        "colab": {
          "base_uri": "https://localhost:8080/",
          "height": 507
        }
      },
      "source": [
        "# Se muestran las características del DataFrame de test\n",
        "display(X_test.info())\n",
        "display(X_test.head())"
      ],
      "execution_count": 50,
      "outputs": [
        {
          "output_type": "stream",
          "text": [
            "<class 'pandas.core.frame.DataFrame'>\n",
            "Int64Index: 418 entries, 892 to 1309\n",
            "Data columns (total 8 columns):\n",
            " #   Column    Non-Null Count  Dtype  \n",
            "---  ------    --------------  -----  \n",
            " 0   Pclass    418 non-null    int64  \n",
            " 1   Sex       418 non-null    int64  \n",
            " 2   Age       246 non-null    float64\n",
            " 3   SibSp     418 non-null    int64  \n",
            " 4   Parch     418 non-null    int64  \n",
            " 5   Fare      299 non-null    float64\n",
            " 6   Embarked  418 non-null    int64  \n",
            " 7   Title     417 non-null    float64\n",
            "dtypes: float64(3), int64(5)\n",
            "memory usage: 29.4 KB\n"
          ],
          "name": "stdout"
        },
        {
          "output_type": "display_data",
          "data": {
            "text/plain": [
              "None"
            ]
          },
          "metadata": {
            "tags": []
          }
        },
        {
          "output_type": "display_data",
          "data": {
            "text/html": [
              "<div>\n",
              "<style scoped>\n",
              "    .dataframe tbody tr th:only-of-type {\n",
              "        vertical-align: middle;\n",
              "    }\n",
              "\n",
              "    .dataframe tbody tr th {\n",
              "        vertical-align: top;\n",
              "    }\n",
              "\n",
              "    .dataframe thead th {\n",
              "        text-align: right;\n",
              "    }\n",
              "</style>\n",
              "<table border=\"1\" class=\"dataframe\">\n",
              "  <thead>\n",
              "    <tr style=\"text-align: right;\">\n",
              "      <th></th>\n",
              "      <th>Pclass</th>\n",
              "      <th>Sex</th>\n",
              "      <th>Age</th>\n",
              "      <th>SibSp</th>\n",
              "      <th>Parch</th>\n",
              "      <th>Fare</th>\n",
              "      <th>Embarked</th>\n",
              "      <th>Title</th>\n",
              "    </tr>\n",
              "    <tr>\n",
              "      <th>PassengerId</th>\n",
              "      <th></th>\n",
              "      <th></th>\n",
              "      <th></th>\n",
              "      <th></th>\n",
              "      <th></th>\n",
              "      <th></th>\n",
              "      <th></th>\n",
              "      <th></th>\n",
              "    </tr>\n",
              "  </thead>\n",
              "  <tbody>\n",
              "    <tr>\n",
              "      <th>892</th>\n",
              "      <td>3</td>\n",
              "      <td>0</td>\n",
              "      <td>3.0</td>\n",
              "      <td>0</td>\n",
              "      <td>0</td>\n",
              "      <td>7.8292</td>\n",
              "      <td>2</td>\n",
              "      <td>0.0</td>\n",
              "    </tr>\n",
              "    <tr>\n",
              "      <th>893</th>\n",
              "      <td>3</td>\n",
              "      <td>1</td>\n",
              "      <td>NaN</td>\n",
              "      <td>1</td>\n",
              "      <td>0</td>\n",
              "      <td>NaN</td>\n",
              "      <td>0</td>\n",
              "      <td>1.0</td>\n",
              "    </tr>\n",
              "    <tr>\n",
              "      <th>894</th>\n",
              "      <td>2</td>\n",
              "      <td>0</td>\n",
              "      <td>NaN</td>\n",
              "      <td>0</td>\n",
              "      <td>0</td>\n",
              "      <td>9.6875</td>\n",
              "      <td>2</td>\n",
              "      <td>0.0</td>\n",
              "    </tr>\n",
              "    <tr>\n",
              "      <th>895</th>\n",
              "      <td>3</td>\n",
              "      <td>0</td>\n",
              "      <td>4.0</td>\n",
              "      <td>0</td>\n",
              "      <td>0</td>\n",
              "      <td>8.6625</td>\n",
              "      <td>0</td>\n",
              "      <td>0.0</td>\n",
              "    </tr>\n",
              "    <tr>\n",
              "      <th>896</th>\n",
              "      <td>3</td>\n",
              "      <td>1</td>\n",
              "      <td>0.0</td>\n",
              "      <td>1</td>\n",
              "      <td>1</td>\n",
              "      <td>12.2875</td>\n",
              "      <td>0</td>\n",
              "      <td>1.0</td>\n",
              "    </tr>\n",
              "  </tbody>\n",
              "</table>\n",
              "</div>"
            ],
            "text/plain": [
              "             Pclass  Sex  Age  SibSp  Parch     Fare  Embarked  Title\n",
              "PassengerId                                                          \n",
              "892               3    0  3.0      0      0   7.8292         2    0.0\n",
              "893               3    1  NaN      1      0      NaN         0    1.0\n",
              "894               2    0  NaN      0      0   9.6875         2    0.0\n",
              "895               3    0  4.0      0      0   8.6625         0    0.0\n",
              "896               3    1  0.0      1      1  12.2875         0    1.0"
            ]
          },
          "metadata": {
            "tags": []
          }
        }
      ]
    },
    {
      "cell_type": "code",
      "metadata": {
        "id": "1wGn3pvBgJVd",
        "colab_type": "code",
        "outputId": "2bae92cf-a396-4178-ff5f-32a94633b6ae",
        "colab": {
          "base_uri": "https://localhost:8080/",
          "height": 54
        }
      },
      "source": [
        "if fare_categories > 0:\n",
        "  # Se agrupa las muestras en categorías con el mismo número de muestras\n",
        "  # El número de categorías viene definido por la variable 'fare_categories'\n",
        "  X_train['Fare'] = pd.qcut(X_train['Fare'], fare_categories)\n",
        "\n",
        "  # Se convierte la características 'Age' en una variable categórica\n",
        "  X_train, fare = factorize_feature(X_train, 'Fare')"
      ],
      "execution_count": 51,
      "outputs": [
        {
          "output_type": "stream",
          "text": [
            "{Interval(7.854, 7.925, closed='right'): 0, Interval(35.5, 56.496, closed='right'): 1, Interval(7.925, 8.662, closed='right'): 2, Interval(18.0, 25.965, closed='right'): 3, Interval(8.662, 11.242, closed='right'): 4, Interval(27.75, 35.5, closed='right'): 5, Interval(13.825, 18.0, closed='right'): 6, Interval(25.965, 27.75, closed='right'): 7, Interval(7.749, 7.854, closed='right'): 8, Interval(11.242, 13.825, closed='right'): 9}\n"
          ],
          "name": "stdout"
        }
      ]
    },
    {
      "cell_type": "code",
      "metadata": {
        "id": "dVK5ooa2EU_O",
        "colab_type": "code",
        "outputId": "8b24778d-07e5-4326-c42a-fc1bb41b6e82",
        "colab": {
          "base_uri": "https://localhost:8080/",
          "height": 507
        }
      },
      "source": [
        "# Se muestran las características del DataFrame de entrenamiento\n",
        "display(X_train.info())\n",
        "display(X_train.head())"
      ],
      "execution_count": 52,
      "outputs": [
        {
          "output_type": "stream",
          "text": [
            "<class 'pandas.core.frame.DataFrame'>\n",
            "Int64Index: 891 entries, 1 to 891\n",
            "Data columns (total 8 columns):\n",
            " #   Column    Non-Null Count  Dtype  \n",
            "---  ------    --------------  -----  \n",
            " 0   Pclass    891 non-null    int64  \n",
            " 1   Sex       891 non-null    int64  \n",
            " 2   Age       511 non-null    float64\n",
            " 3   SibSp     891 non-null    int64  \n",
            " 4   Parch     891 non-null    int64  \n",
            " 5   Fare      656 non-null    float64\n",
            " 6   Embarked  889 non-null    float64\n",
            " 7   Title     891 non-null    int64  \n",
            "dtypes: float64(3), int64(5)\n",
            "memory usage: 62.6 KB\n"
          ],
          "name": "stdout"
        },
        {
          "output_type": "display_data",
          "data": {
            "text/plain": [
              "None"
            ]
          },
          "metadata": {
            "tags": []
          }
        },
        {
          "output_type": "display_data",
          "data": {
            "text/html": [
              "<div>\n",
              "<style scoped>\n",
              "    .dataframe tbody tr th:only-of-type {\n",
              "        vertical-align: middle;\n",
              "    }\n",
              "\n",
              "    .dataframe tbody tr th {\n",
              "        vertical-align: top;\n",
              "    }\n",
              "\n",
              "    .dataframe thead th {\n",
              "        text-align: right;\n",
              "    }\n",
              "</style>\n",
              "<table border=\"1\" class=\"dataframe\">\n",
              "  <thead>\n",
              "    <tr style=\"text-align: right;\">\n",
              "      <th></th>\n",
              "      <th>Pclass</th>\n",
              "      <th>Sex</th>\n",
              "      <th>Age</th>\n",
              "      <th>SibSp</th>\n",
              "      <th>Parch</th>\n",
              "      <th>Fare</th>\n",
              "      <th>Embarked</th>\n",
              "      <th>Title</th>\n",
              "    </tr>\n",
              "    <tr>\n",
              "      <th>PassengerId</th>\n",
              "      <th></th>\n",
              "      <th></th>\n",
              "      <th></th>\n",
              "      <th></th>\n",
              "      <th></th>\n",
              "      <th></th>\n",
              "      <th></th>\n",
              "      <th></th>\n",
              "    </tr>\n",
              "  </thead>\n",
              "  <tbody>\n",
              "    <tr>\n",
              "      <th>1</th>\n",
              "      <td>3</td>\n",
              "      <td>0</td>\n",
              "      <td>0.0</td>\n",
              "      <td>1</td>\n",
              "      <td>0</td>\n",
              "      <td>NaN</td>\n",
              "      <td>0.0</td>\n",
              "      <td>0</td>\n",
              "    </tr>\n",
              "    <tr>\n",
              "      <th>2</th>\n",
              "      <td>1</td>\n",
              "      <td>1</td>\n",
              "      <td>1.0</td>\n",
              "      <td>1</td>\n",
              "      <td>0</td>\n",
              "      <td>NaN</td>\n",
              "      <td>1.0</td>\n",
              "      <td>1</td>\n",
              "    </tr>\n",
              "    <tr>\n",
              "      <th>3</th>\n",
              "      <td>3</td>\n",
              "      <td>1</td>\n",
              "      <td>2.0</td>\n",
              "      <td>0</td>\n",
              "      <td>0</td>\n",
              "      <td>0.0</td>\n",
              "      <td>0.0</td>\n",
              "      <td>2</td>\n",
              "    </tr>\n",
              "    <tr>\n",
              "      <th>4</th>\n",
              "      <td>1</td>\n",
              "      <td>1</td>\n",
              "      <td>3.0</td>\n",
              "      <td>1</td>\n",
              "      <td>0</td>\n",
              "      <td>1.0</td>\n",
              "      <td>0.0</td>\n",
              "      <td>1</td>\n",
              "    </tr>\n",
              "    <tr>\n",
              "      <th>5</th>\n",
              "      <td>3</td>\n",
              "      <td>0</td>\n",
              "      <td>3.0</td>\n",
              "      <td>0</td>\n",
              "      <td>0</td>\n",
              "      <td>2.0</td>\n",
              "      <td>0.0</td>\n",
              "      <td>0</td>\n",
              "    </tr>\n",
              "  </tbody>\n",
              "</table>\n",
              "</div>"
            ],
            "text/plain": [
              "             Pclass  Sex  Age  SibSp  Parch  Fare  Embarked  Title\n",
              "PassengerId                                                       \n",
              "1                 3    0  0.0      1      0   NaN       0.0      0\n",
              "2                 1    1  1.0      1      0   NaN       1.0      1\n",
              "3                 3    1  2.0      0      0   0.0       0.0      2\n",
              "4                 1    1  3.0      1      0   1.0       0.0      1\n",
              "5                 3    0  3.0      0      0   2.0       0.0      0"
            ]
          },
          "metadata": {
            "tags": []
          }
        }
      ]
    },
    {
      "cell_type": "code",
      "metadata": {
        "id": "LHztELLMgHhf",
        "colab_type": "code",
        "colab": {}
      },
      "source": [
        "# Siempre que se decida discretizar la variable 'Fare'\n",
        "if fare_categories > 0:\n",
        "  # Se asigna cada valor de la variable 'Fare' del \n",
        "  # DataFrame de test al identificador numérico de \n",
        "  # la categoría que le corresponde, utilizando las categorías\n",
        "  # de la variable 'Age' del DataFrame de entrenamiento\n",
        "  map_discrete_categories(X_test, 'Fare', fare)"
      ],
      "execution_count": 0,
      "outputs": []
    },
    {
      "cell_type": "code",
      "metadata": {
        "id": "LfrGWwUAEOTl",
        "colab_type": "code",
        "outputId": "22d77aed-8a80-412f-f579-b12ed66b3a75",
        "colab": {
          "base_uri": "https://localhost:8080/",
          "height": 507
        }
      },
      "source": [
        "# Se muestran las características del DataFrame de test\n",
        "display(X_test.info())\n",
        "display(X_test.head())"
      ],
      "execution_count": 54,
      "outputs": [
        {
          "output_type": "stream",
          "text": [
            "<class 'pandas.core.frame.DataFrame'>\n",
            "Int64Index: 418 entries, 892 to 1309\n",
            "Data columns (total 8 columns):\n",
            " #   Column    Non-Null Count  Dtype  \n",
            "---  ------    --------------  -----  \n",
            " 0   Pclass    418 non-null    int64  \n",
            " 1   Sex       418 non-null    int64  \n",
            " 2   Age       246 non-null    float64\n",
            " 3   SibSp     418 non-null    int64  \n",
            " 4   Parch     418 non-null    int64  \n",
            " 5   Fare      299 non-null    float64\n",
            " 6   Embarked  418 non-null    int64  \n",
            " 7   Title     417 non-null    float64\n",
            "dtypes: float64(3), int64(5)\n",
            "memory usage: 29.4 KB\n"
          ],
          "name": "stdout"
        },
        {
          "output_type": "display_data",
          "data": {
            "text/plain": [
              "None"
            ]
          },
          "metadata": {
            "tags": []
          }
        },
        {
          "output_type": "display_data",
          "data": {
            "text/html": [
              "<div>\n",
              "<style scoped>\n",
              "    .dataframe tbody tr th:only-of-type {\n",
              "        vertical-align: middle;\n",
              "    }\n",
              "\n",
              "    .dataframe tbody tr th {\n",
              "        vertical-align: top;\n",
              "    }\n",
              "\n",
              "    .dataframe thead th {\n",
              "        text-align: right;\n",
              "    }\n",
              "</style>\n",
              "<table border=\"1\" class=\"dataframe\">\n",
              "  <thead>\n",
              "    <tr style=\"text-align: right;\">\n",
              "      <th></th>\n",
              "      <th>Pclass</th>\n",
              "      <th>Sex</th>\n",
              "      <th>Age</th>\n",
              "      <th>SibSp</th>\n",
              "      <th>Parch</th>\n",
              "      <th>Fare</th>\n",
              "      <th>Embarked</th>\n",
              "      <th>Title</th>\n",
              "    </tr>\n",
              "    <tr>\n",
              "      <th>PassengerId</th>\n",
              "      <th></th>\n",
              "      <th></th>\n",
              "      <th></th>\n",
              "      <th></th>\n",
              "      <th></th>\n",
              "      <th></th>\n",
              "      <th></th>\n",
              "      <th></th>\n",
              "    </tr>\n",
              "  </thead>\n",
              "  <tbody>\n",
              "    <tr>\n",
              "      <th>892</th>\n",
              "      <td>3</td>\n",
              "      <td>0</td>\n",
              "      <td>3.0</td>\n",
              "      <td>0</td>\n",
              "      <td>0</td>\n",
              "      <td>8.0</td>\n",
              "      <td>2</td>\n",
              "      <td>0.0</td>\n",
              "    </tr>\n",
              "    <tr>\n",
              "      <th>893</th>\n",
              "      <td>3</td>\n",
              "      <td>1</td>\n",
              "      <td>NaN</td>\n",
              "      <td>1</td>\n",
              "      <td>0</td>\n",
              "      <td>NaN</td>\n",
              "      <td>0</td>\n",
              "      <td>1.0</td>\n",
              "    </tr>\n",
              "    <tr>\n",
              "      <th>894</th>\n",
              "      <td>2</td>\n",
              "      <td>0</td>\n",
              "      <td>NaN</td>\n",
              "      <td>0</td>\n",
              "      <td>0</td>\n",
              "      <td>4.0</td>\n",
              "      <td>2</td>\n",
              "      <td>0.0</td>\n",
              "    </tr>\n",
              "    <tr>\n",
              "      <th>895</th>\n",
              "      <td>3</td>\n",
              "      <td>0</td>\n",
              "      <td>4.0</td>\n",
              "      <td>0</td>\n",
              "      <td>0</td>\n",
              "      <td>4.0</td>\n",
              "      <td>0</td>\n",
              "      <td>0.0</td>\n",
              "    </tr>\n",
              "    <tr>\n",
              "      <th>896</th>\n",
              "      <td>3</td>\n",
              "      <td>1</td>\n",
              "      <td>0.0</td>\n",
              "      <td>1</td>\n",
              "      <td>1</td>\n",
              "      <td>9.0</td>\n",
              "      <td>0</td>\n",
              "      <td>1.0</td>\n",
              "    </tr>\n",
              "  </tbody>\n",
              "</table>\n",
              "</div>"
            ],
            "text/plain": [
              "             Pclass  Sex  Age  SibSp  Parch  Fare  Embarked  Title\n",
              "PassengerId                                                       \n",
              "892               3    0  3.0      0      0   8.0         2    0.0\n",
              "893               3    1  NaN      1      0   NaN         0    1.0\n",
              "894               2    0  NaN      0      0   4.0         2    0.0\n",
              "895               3    0  4.0      0      0   4.0         0    0.0\n",
              "896               3    1  0.0      1      1   9.0         0    1.0"
            ]
          },
          "metadata": {
            "tags": []
          }
        }
      ]
    },
    {
      "cell_type": "markdown",
      "metadata": {
        "id": "q4Y5zhTS6qqZ",
        "colab_type": "text"
      },
      "source": [
        "## Valores perdidos"
      ]
    },
    {
      "cell_type": "code",
      "metadata": {
        "id": "szoUMj_q6uw6",
        "colab_type": "code",
        "colab": {}
      },
      "source": [
        "# Se imputan los valores perdidos (o eliminados) utilizndo el método k-Nearest Neighbors\n",
        "imp = KNNImputer().fit(X_train)\n",
        "X_train = pd.DataFrame(imp.transform(X_train), columns = X_train.columns)\n",
        "X_test = pd.DataFrame(imp.transform(X_test), columns = X_test.columns)"
      ],
      "execution_count": 0,
      "outputs": []
    },
    {
      "cell_type": "code",
      "metadata": {
        "id": "wFMFg6VhiIqX",
        "colab_type": "code",
        "outputId": "982b4449-73fe-44c2-ae08-a0f95a3f1204",
        "colab": {
          "base_uri": "https://localhost:8080/",
          "height": 476
        }
      },
      "source": [
        "# Se muestran las características del DataFrame de entrenamiento\n",
        "display(X_train.info())\n",
        "display(X_train.head())"
      ],
      "execution_count": 56,
      "outputs": [
        {
          "output_type": "stream",
          "text": [
            "<class 'pandas.core.frame.DataFrame'>\n",
            "RangeIndex: 891 entries, 0 to 890\n",
            "Data columns (total 8 columns):\n",
            " #   Column    Non-Null Count  Dtype  \n",
            "---  ------    --------------  -----  \n",
            " 0   Pclass    891 non-null    float64\n",
            " 1   Sex       891 non-null    float64\n",
            " 2   Age       891 non-null    float64\n",
            " 3   SibSp     891 non-null    float64\n",
            " 4   Parch     891 non-null    float64\n",
            " 5   Fare      891 non-null    float64\n",
            " 6   Embarked  891 non-null    float64\n",
            " 7   Title     891 non-null    float64\n",
            "dtypes: float64(8)\n",
            "memory usage: 55.8 KB\n"
          ],
          "name": "stdout"
        },
        {
          "output_type": "display_data",
          "data": {
            "text/plain": [
              "None"
            ]
          },
          "metadata": {
            "tags": []
          }
        },
        {
          "output_type": "display_data",
          "data": {
            "text/html": [
              "<div>\n",
              "<style scoped>\n",
              "    .dataframe tbody tr th:only-of-type {\n",
              "        vertical-align: middle;\n",
              "    }\n",
              "\n",
              "    .dataframe tbody tr th {\n",
              "        vertical-align: top;\n",
              "    }\n",
              "\n",
              "    .dataframe thead th {\n",
              "        text-align: right;\n",
              "    }\n",
              "</style>\n",
              "<table border=\"1\" class=\"dataframe\">\n",
              "  <thead>\n",
              "    <tr style=\"text-align: right;\">\n",
              "      <th></th>\n",
              "      <th>Pclass</th>\n",
              "      <th>Sex</th>\n",
              "      <th>Age</th>\n",
              "      <th>SibSp</th>\n",
              "      <th>Parch</th>\n",
              "      <th>Fare</th>\n",
              "      <th>Embarked</th>\n",
              "      <th>Title</th>\n",
              "    </tr>\n",
              "  </thead>\n",
              "  <tbody>\n",
              "    <tr>\n",
              "      <th>0</th>\n",
              "      <td>3.0</td>\n",
              "      <td>0.0</td>\n",
              "      <td>0.0</td>\n",
              "      <td>1.0</td>\n",
              "      <td>0.0</td>\n",
              "      <td>4.4</td>\n",
              "      <td>0.0</td>\n",
              "      <td>0.0</td>\n",
              "    </tr>\n",
              "    <tr>\n",
              "      <th>1</th>\n",
              "      <td>1.0</td>\n",
              "      <td>1.0</td>\n",
              "      <td>1.0</td>\n",
              "      <td>1.0</td>\n",
              "      <td>0.0</td>\n",
              "      <td>2.6</td>\n",
              "      <td>1.0</td>\n",
              "      <td>1.0</td>\n",
              "    </tr>\n",
              "    <tr>\n",
              "      <th>2</th>\n",
              "      <td>3.0</td>\n",
              "      <td>1.0</td>\n",
              "      <td>2.0</td>\n",
              "      <td>0.0</td>\n",
              "      <td>0.0</td>\n",
              "      <td>0.0</td>\n",
              "      <td>0.0</td>\n",
              "      <td>2.0</td>\n",
              "    </tr>\n",
              "    <tr>\n",
              "      <th>3</th>\n",
              "      <td>1.0</td>\n",
              "      <td>1.0</td>\n",
              "      <td>3.0</td>\n",
              "      <td>1.0</td>\n",
              "      <td>0.0</td>\n",
              "      <td>1.0</td>\n",
              "      <td>0.0</td>\n",
              "      <td>1.0</td>\n",
              "    </tr>\n",
              "    <tr>\n",
              "      <th>4</th>\n",
              "      <td>3.0</td>\n",
              "      <td>0.0</td>\n",
              "      <td>3.0</td>\n",
              "      <td>0.0</td>\n",
              "      <td>0.0</td>\n",
              "      <td>2.0</td>\n",
              "      <td>0.0</td>\n",
              "      <td>0.0</td>\n",
              "    </tr>\n",
              "  </tbody>\n",
              "</table>\n",
              "</div>"
            ],
            "text/plain": [
              "   Pclass  Sex  Age  SibSp  Parch  Fare  Embarked  Title\n",
              "0     3.0  0.0  0.0    1.0    0.0   4.4       0.0    0.0\n",
              "1     1.0  1.0  1.0    1.0    0.0   2.6       1.0    1.0\n",
              "2     3.0  1.0  2.0    0.0    0.0   0.0       0.0    2.0\n",
              "3     1.0  1.0  3.0    1.0    0.0   1.0       0.0    1.0\n",
              "4     3.0  0.0  3.0    0.0    0.0   2.0       0.0    0.0"
            ]
          },
          "metadata": {
            "tags": []
          }
        }
      ]
    },
    {
      "cell_type": "code",
      "metadata": {
        "id": "j0yNp3LB9wL1",
        "colab_type": "code",
        "colab": {
          "base_uri": "https://localhost:8080/",
          "height": 476
        },
        "outputId": "5b0ef173-1233-43cf-b627-6b80e2d8cf42"
      },
      "source": [
        "# Se muestran las características del DataFrame de test\n",
        "display(X_test.info())\n",
        "display(X_test.head())"
      ],
      "execution_count": 57,
      "outputs": [
        {
          "output_type": "stream",
          "text": [
            "<class 'pandas.core.frame.DataFrame'>\n",
            "RangeIndex: 418 entries, 0 to 417\n",
            "Data columns (total 8 columns):\n",
            " #   Column    Non-Null Count  Dtype  \n",
            "---  ------    --------------  -----  \n",
            " 0   Pclass    418 non-null    float64\n",
            " 1   Sex       418 non-null    float64\n",
            " 2   Age       418 non-null    float64\n",
            " 3   SibSp     418 non-null    float64\n",
            " 4   Parch     418 non-null    float64\n",
            " 5   Fare      418 non-null    float64\n",
            " 6   Embarked  418 non-null    float64\n",
            " 7   Title     418 non-null    float64\n",
            "dtypes: float64(8)\n",
            "memory usage: 26.2 KB\n"
          ],
          "name": "stdout"
        },
        {
          "output_type": "display_data",
          "data": {
            "text/plain": [
              "None"
            ]
          },
          "metadata": {
            "tags": []
          }
        },
        {
          "output_type": "display_data",
          "data": {
            "text/html": [
              "<div>\n",
              "<style scoped>\n",
              "    .dataframe tbody tr th:only-of-type {\n",
              "        vertical-align: middle;\n",
              "    }\n",
              "\n",
              "    .dataframe tbody tr th {\n",
              "        vertical-align: top;\n",
              "    }\n",
              "\n",
              "    .dataframe thead th {\n",
              "        text-align: right;\n",
              "    }\n",
              "</style>\n",
              "<table border=\"1\" class=\"dataframe\">\n",
              "  <thead>\n",
              "    <tr style=\"text-align: right;\">\n",
              "      <th></th>\n",
              "      <th>Pclass</th>\n",
              "      <th>Sex</th>\n",
              "      <th>Age</th>\n",
              "      <th>SibSp</th>\n",
              "      <th>Parch</th>\n",
              "      <th>Fare</th>\n",
              "      <th>Embarked</th>\n",
              "      <th>Title</th>\n",
              "    </tr>\n",
              "  </thead>\n",
              "  <tbody>\n",
              "    <tr>\n",
              "      <th>0</th>\n",
              "      <td>3.0</td>\n",
              "      <td>0.0</td>\n",
              "      <td>3.0</td>\n",
              "      <td>0.0</td>\n",
              "      <td>0.0</td>\n",
              "      <td>8.0</td>\n",
              "      <td>2.0</td>\n",
              "      <td>0.0</td>\n",
              "    </tr>\n",
              "    <tr>\n",
              "      <th>1</th>\n",
              "      <td>3.0</td>\n",
              "      <td>1.0</td>\n",
              "      <td>2.4</td>\n",
              "      <td>1.0</td>\n",
              "      <td>0.0</td>\n",
              "      <td>5.6</td>\n",
              "      <td>0.0</td>\n",
              "      <td>1.0</td>\n",
              "    </tr>\n",
              "    <tr>\n",
              "      <th>2</th>\n",
              "      <td>2.0</td>\n",
              "      <td>0.0</td>\n",
              "      <td>4.6</td>\n",
              "      <td>0.0</td>\n",
              "      <td>0.0</td>\n",
              "      <td>4.0</td>\n",
              "      <td>2.0</td>\n",
              "      <td>0.0</td>\n",
              "    </tr>\n",
              "    <tr>\n",
              "      <th>3</th>\n",
              "      <td>3.0</td>\n",
              "      <td>0.0</td>\n",
              "      <td>4.0</td>\n",
              "      <td>0.0</td>\n",
              "      <td>0.0</td>\n",
              "      <td>4.0</td>\n",
              "      <td>0.0</td>\n",
              "      <td>0.0</td>\n",
              "    </tr>\n",
              "    <tr>\n",
              "      <th>4</th>\n",
              "      <td>3.0</td>\n",
              "      <td>1.0</td>\n",
              "      <td>0.0</td>\n",
              "      <td>1.0</td>\n",
              "      <td>1.0</td>\n",
              "      <td>9.0</td>\n",
              "      <td>0.0</td>\n",
              "      <td>1.0</td>\n",
              "    </tr>\n",
              "  </tbody>\n",
              "</table>\n",
              "</div>"
            ],
            "text/plain": [
              "   Pclass  Sex  Age  SibSp  Parch  Fare  Embarked  Title\n",
              "0     3.0  0.0  3.0    0.0    0.0   8.0       2.0    0.0\n",
              "1     3.0  1.0  2.4    1.0    0.0   5.6       0.0    1.0\n",
              "2     2.0  0.0  4.6    0.0    0.0   4.0       2.0    0.0\n",
              "3     3.0  0.0  4.0    0.0    0.0   4.0       0.0    0.0\n",
              "4     3.0  1.0  0.0    1.0    1.0   9.0       0.0    1.0"
            ]
          },
          "metadata": {
            "tags": []
          }
        }
      ]
    },
    {
      "cell_type": "markdown",
      "metadata": {
        "id": "fzFAZhrnB5vr",
        "colab_type": "text"
      },
      "source": [
        "## Reducción la dimensionalidad"
      ]
    },
    {
      "cell_type": "code",
      "metadata": {
        "id": "lsHQJGhGAieR",
        "colab_type": "code",
        "outputId": "c59f9037-23c0-42b4-e141-8c184ceae9dd",
        "colab": {
          "base_uri": "https://localhost:8080/",
          "height": 299
        }
      },
      "source": [
        "# Se aplica un análisis de componentes principales\n",
        "# para indentificar las componentes mas información aportan\n",
        "# en el espacio de características\n",
        "pca = PCA(n_components = len(X_train.columns)).fit(X_train)\n",
        "_dict = {k:round(v, 6) for k, v in enumerate(pca.explained_variance_ratio_)}\n",
        "\n",
        "# Proporción de la variabilidad explicada por las componentes\n",
        "print('Proporción de la variabilidad explicada por elos componentes: \\n' +\n",
        "      str(_dict))\n",
        "\n",
        "# Representación gráfica de la proporción de la variabilidad explicada\n",
        "# por cada una de las componentes\n",
        "data = pd.DataFrame.from_dict(_dict, orient='index', columns = ['variance_ratio'] )\n",
        "plot = sns.barplot(x=data.index, y='variance_ratio', data = data)"
      ],
      "execution_count": 58,
      "outputs": [
        {
          "output_type": "stream",
          "text": [
            "Proporción de la variabilidad explicada por elos componentes: \n",
            "{0: 0.390701, 1: 0.292593, 2: 0.160694, 3: 0.067522, 4: 0.034344, 5: 0.024856, 6: 0.020086, 7: 0.009203}\n"
          ],
          "name": "stdout"
        },
        {
          "output_type": "display_data",
          "data": {
            "image/png": "[encoded data removed]",
            "text/plain": [
              "<Figure size 432x288 with 1 Axes>"
            ]
          },
          "metadata": {
            "tags": [],
            "needs_background": "light"
          }
        }
      ]
    },
    {
      "cell_type": "code",
      "metadata": {
        "id": "C-pdaTdcWXSR",
        "colab_type": "code",
        "colab": {}
      },
      "source": [
        "if dimensions_to_remove > 0:\n",
        "  pca = PCA(n_components = len(X_train.columns) - dimensions_to_remove).fit(X_train)\n",
        "  X_train = pd.DataFrame(pca.transform(X_train))\n",
        "  X_test = pd.DataFrame(pca.transform(X_test))"
      ],
      "execution_count": 0,
      "outputs": []
    },
    {
      "cell_type": "code",
      "metadata": {
        "id": "XkvH4BR1W7LI",
        "colab_type": "code",
        "colab": {}
      },
      "source": [
        "if dimensions_to_remove > 0:\n",
        "  # Se muestran las características del DataFrame de entrenamiento\n",
        "  display(X_train.info())\n",
        "  display(X_train.head())"
      ],
      "execution_count": 0,
      "outputs": []
    },
    {
      "cell_type": "code",
      "metadata": {
        "id": "Io6UgQOaW8-i",
        "colab_type": "code",
        "colab": {}
      },
      "source": [
        "if dimensions_to_remove > 0:\n",
        "  # Se muestran las características del DataFrame de test\n",
        "  display(X_train.info())\n",
        "  display(X_train.head())"
      ],
      "execution_count": 0,
      "outputs": []
    },
    {
      "cell_type": "markdown",
      "metadata": {
        "id": "95wEMYbm-WYh",
        "colab_type": "text"
      },
      "source": [
        "## Estandarización"
      ]
    },
    {
      "cell_type": "code",
      "metadata": {
        "id": "DSJ1PO6P-V8j",
        "colab_type": "code",
        "colab": {}
      },
      "source": [
        "# Se realiza una estandarización del cojunto de características,\n",
        "# de manera qu todas las características se ponderen igual en\n",
        "# los modelos que se implementaran en los siguientes puntos.\n",
        "# Esto es importante para implementar el modelo\n",
        "# de red neuronal porque es especialmenete sensible al escalado\n",
        "scaler = StandardScaler().fit(X_train)\n",
        "X_train = pd.DataFrame(scaler.transform(X_train), columns = X_train.columns)\n",
        "X_test = pd.DataFrame(scaler.transform(X_test), columns = X_test.columns)"
      ],
      "execution_count": 0,
      "outputs": []
    },
    {
      "cell_type": "code",
      "metadata": {
        "id": "72TmLFIU97aT",
        "colab_type": "code",
        "colab": {
          "base_uri": "https://localhost:8080/",
          "height": 476
        },
        "outputId": "23e36b89-c299-42f6-c22e-1f5310282260"
      },
      "source": [
        "# Se muestran las características del DataFrame de entrenamiento\n",
        "display(X_train.info())\n",
        "display(X_train.head())"
      ],
      "execution_count": 63,
      "outputs": [
        {
          "output_type": "stream",
          "text": [
            "<class 'pandas.core.frame.DataFrame'>\n",
            "RangeIndex: 891 entries, 0 to 890\n",
            "Data columns (total 8 columns):\n",
            " #   Column    Non-Null Count  Dtype  \n",
            "---  ------    --------------  -----  \n",
            " 0   Pclass    891 non-null    float64\n",
            " 1   Sex       891 non-null    float64\n",
            " 2   Age       891 non-null    float64\n",
            " 3   SibSp     891 non-null    float64\n",
            " 4   Parch     891 non-null    float64\n",
            " 5   Fare      891 non-null    float64\n",
            " 6   Embarked  891 non-null    float64\n",
            " 7   Title     891 non-null    float64\n",
            "dtypes: float64(8)\n",
            "memory usage: 55.8 KB\n"
          ],
          "name": "stdout"
        },
        {
          "output_type": "display_data",
          "data": {
            "text/plain": [
              "None"
            ]
          },
          "metadata": {
            "tags": []
          }
        },
        {
          "output_type": "display_data",
          "data": {
            "text/html": [
              "<div>\n",
              "<style scoped>\n",
              "    .dataframe tbody tr th:only-of-type {\n",
              "        vertical-align: middle;\n",
              "    }\n",
              "\n",
              "    .dataframe tbody tr th {\n",
              "        vertical-align: top;\n",
              "    }\n",
              "\n",
              "    .dataframe thead th {\n",
              "        text-align: right;\n",
              "    }\n",
              "</style>\n",
              "<table border=\"1\" class=\"dataframe\">\n",
              "  <thead>\n",
              "    <tr style=\"text-align: right;\">\n",
              "      <th></th>\n",
              "      <th>Pclass</th>\n",
              "      <th>Sex</th>\n",
              "      <th>Age</th>\n",
              "      <th>SibSp</th>\n",
              "      <th>Parch</th>\n",
              "      <th>Fare</th>\n",
              "      <th>Embarked</th>\n",
              "      <th>Title</th>\n",
              "    </tr>\n",
              "  </thead>\n",
              "  <tbody>\n",
              "    <tr>\n",
              "      <th>0</th>\n",
              "      <td>0.827377</td>\n",
              "      <td>-0.737695</td>\n",
              "      <td>-1.787905</td>\n",
              "      <td>0.432793</td>\n",
              "      <td>-0.473674</td>\n",
              "      <td>-0.014208</td>\n",
              "      <td>-0.570766</td>\n",
              "      <td>-0.542822</td>\n",
              "    </tr>\n",
              "    <tr>\n",
              "      <th>1</th>\n",
              "      <td>-1.566107</td>\n",
              "      <td>1.355574</td>\n",
              "      <td>-1.373595</td>\n",
              "      <td>0.432793</td>\n",
              "      <td>-0.473674</td>\n",
              "      <td>-0.692374</td>\n",
              "      <td>1.003699</td>\n",
              "      <td>0.037099</td>\n",
              "    </tr>\n",
              "    <tr>\n",
              "      <th>2</th>\n",
              "      <td>0.827377</td>\n",
              "      <td>1.355574</td>\n",
              "      <td>-0.959285</td>\n",
              "      <td>-0.474545</td>\n",
              "      <td>-0.473674</td>\n",
              "      <td>-1.671948</td>\n",
              "      <td>-0.570766</td>\n",
              "      <td>0.617020</td>\n",
              "    </tr>\n",
              "    <tr>\n",
              "      <th>3</th>\n",
              "      <td>-1.566107</td>\n",
              "      <td>1.355574</td>\n",
              "      <td>-0.544974</td>\n",
              "      <td>0.432793</td>\n",
              "      <td>-0.473674</td>\n",
              "      <td>-1.295189</td>\n",
              "      <td>-0.570766</td>\n",
              "      <td>0.037099</td>\n",
              "    </tr>\n",
              "    <tr>\n",
              "      <th>4</th>\n",
              "      <td>0.827377</td>\n",
              "      <td>-0.737695</td>\n",
              "      <td>-0.544974</td>\n",
              "      <td>-0.474545</td>\n",
              "      <td>-0.473674</td>\n",
              "      <td>-0.918430</td>\n",
              "      <td>-0.570766</td>\n",
              "      <td>-0.542822</td>\n",
              "    </tr>\n",
              "  </tbody>\n",
              "</table>\n",
              "</div>"
            ],
            "text/plain": [
              "     Pclass       Sex       Age  ...      Fare  Embarked     Title\n",
              "0  0.827377 -0.737695 -1.787905  ... -0.014208 -0.570766 -0.542822\n",
              "1 -1.566107  1.355574 -1.373595  ... -0.692374  1.003699  0.037099\n",
              "2  0.827377  1.355574 -0.959285  ... -1.671948 -0.570766  0.617020\n",
              "3 -1.566107  1.355574 -0.544974  ... -1.295189 -0.570766  0.037099\n",
              "4  0.827377 -0.737695 -0.544974  ... -0.918430 -0.570766 -0.542822\n",
              "\n",
              "[5 rows x 8 columns]"
            ]
          },
          "metadata": {
            "tags": []
          }
        }
      ]
    },
    {
      "cell_type": "code",
      "metadata": {
        "id": "q6qVXoYF989V",
        "colab_type": "code",
        "colab": {
          "base_uri": "https://localhost:8080/",
          "height": 476
        },
        "outputId": "eee1fad3-9a62-48e5-e91c-0dd288d27b6d"
      },
      "source": [
        "# Se muestran las características del DataFrame de test\n",
        "display(X_train.info())\n",
        "display(X_train.head())"
      ],
      "execution_count": 64,
      "outputs": [
        {
          "output_type": "stream",
          "text": [
            "<class 'pandas.core.frame.DataFrame'>\n",
            "RangeIndex: 891 entries, 0 to 890\n",
            "Data columns (total 8 columns):\n",
            " #   Column    Non-Null Count  Dtype  \n",
            "---  ------    --------------  -----  \n",
            " 0   Pclass    891 non-null    float64\n",
            " 1   Sex       891 non-null    float64\n",
            " 2   Age       891 non-null    float64\n",
            " 3   SibSp     891 non-null    float64\n",
            " 4   Parch     891 non-null    float64\n",
            " 5   Fare      891 non-null    float64\n",
            " 6   Embarked  891 non-null    float64\n",
            " 7   Title     891 non-null    float64\n",
            "dtypes: float64(8)\n",
            "memory usage: 55.8 KB\n"
          ],
          "name": "stdout"
        },
        {
          "output_type": "display_data",
          "data": {
            "text/plain": [
              "None"
            ]
          },
          "metadata": {
            "tags": []
          }
        },
        {
          "output_type": "display_data",
          "data": {
            "text/html": [
              "<div>\n",
              "<style scoped>\n",
              "    .dataframe tbody tr th:only-of-type {\n",
              "        vertical-align: middle;\n",
              "    }\n",
              "\n",
              "    .dataframe tbody tr th {\n",
              "        vertical-align: top;\n",
              "    }\n",
              "\n",
              "    .dataframe thead th {\n",
              "        text-align: right;\n",
              "    }\n",
              "</style>\n",
              "<table border=\"1\" class=\"dataframe\">\n",
              "  <thead>\n",
              "    <tr style=\"text-align: right;\">\n",
              "      <th></th>\n",
              "      <th>Pclass</th>\n",
              "      <th>Sex</th>\n",
              "      <th>Age</th>\n",
              "      <th>SibSp</th>\n",
              "      <th>Parch</th>\n",
              "      <th>Fare</th>\n",
              "      <th>Embarked</th>\n",
              "      <th>Title</th>\n",
              "    </tr>\n",
              "  </thead>\n",
              "  <tbody>\n",
              "    <tr>\n",
              "      <th>0</th>\n",
              "      <td>0.827377</td>\n",
              "      <td>-0.737695</td>\n",
              "      <td>-1.787905</td>\n",
              "      <td>0.432793</td>\n",
              "      <td>-0.473674</td>\n",
              "      <td>-0.014208</td>\n",
              "      <td>-0.570766</td>\n",
              "      <td>-0.542822</td>\n",
              "    </tr>\n",
              "    <tr>\n",
              "      <th>1</th>\n",
              "      <td>-1.566107</td>\n",
              "      <td>1.355574</td>\n",
              "      <td>-1.373595</td>\n",
              "      <td>0.432793</td>\n",
              "      <td>-0.473674</td>\n",
              "      <td>-0.692374</td>\n",
              "      <td>1.003699</td>\n",
              "      <td>0.037099</td>\n",
              "    </tr>\n",
              "    <tr>\n",
              "      <th>2</th>\n",
              "      <td>0.827377</td>\n",
              "      <td>1.355574</td>\n",
              "      <td>-0.959285</td>\n",
              "      <td>-0.474545</td>\n",
              "      <td>-0.473674</td>\n",
              "      <td>-1.671948</td>\n",
              "      <td>-0.570766</td>\n",
              "      <td>0.617020</td>\n",
              "    </tr>\n",
              "    <tr>\n",
              "      <th>3</th>\n",
              "      <td>-1.566107</td>\n",
              "      <td>1.355574</td>\n",
              "      <td>-0.544974</td>\n",
              "      <td>0.432793</td>\n",
              "      <td>-0.473674</td>\n",
              "      <td>-1.295189</td>\n",
              "      <td>-0.570766</td>\n",
              "      <td>0.037099</td>\n",
              "    </tr>\n",
              "    <tr>\n",
              "      <th>4</th>\n",
              "      <td>0.827377</td>\n",
              "      <td>-0.737695</td>\n",
              "      <td>-0.544974</td>\n",
              "      <td>-0.474545</td>\n",
              "      <td>-0.473674</td>\n",
              "      <td>-0.918430</td>\n",
              "      <td>-0.570766</td>\n",
              "      <td>-0.542822</td>\n",
              "    </tr>\n",
              "  </tbody>\n",
              "</table>\n",
              "</div>"
            ],
            "text/plain": [
              "     Pclass       Sex       Age  ...      Fare  Embarked     Title\n",
              "0  0.827377 -0.737695 -1.787905  ... -0.014208 -0.570766 -0.542822\n",
              "1 -1.566107  1.355574 -1.373595  ... -0.692374  1.003699  0.037099\n",
              "2  0.827377  1.355574 -0.959285  ... -1.671948 -0.570766  0.617020\n",
              "3 -1.566107  1.355574 -0.544974  ... -1.295189 -0.570766  0.037099\n",
              "4  0.827377 -0.737695 -0.544974  ... -0.918430 -0.570766 -0.542822\n",
              "\n",
              "[5 rows x 8 columns]"
            ]
          },
          "metadata": {
            "tags": []
          }
        }
      ]
    },
    {
      "cell_type": "markdown",
      "metadata": {
        "id": "SAMZ0fUT7LiE",
        "colab_type": "text"
      },
      "source": [
        "# Análisis"
      ]
    },
    {
      "cell_type": "markdown",
      "metadata": {
        "id": "V7p9wArT7DMF",
        "colab_type": "text"
      },
      "source": [
        "## Análisis estadístico descriptivo"
      ]
    },
    {
      "cell_type": "code",
      "metadata": {
        "id": "1G5dMMut7g4S",
        "colab_type": "code",
        "outputId": "5f0d2171-b3b1-4fe5-bd12-00139a8eb802",
        "colab": {
          "base_uri": "https://localhost:8080/",
          "height": 297
        }
      },
      "source": [
        "# Estadísticas del DataFrame de entrenamiento\n",
        "display(X_train.describe())"
      ],
      "execution_count": 65,
      "outputs": [
        {
          "output_type": "display_data",
          "data": {
            "text/html": [
              "<div>\n",
              "<style scoped>\n",
              "    .dataframe tbody tr th:only-of-type {\n",
              "        vertical-align: middle;\n",
              "    }\n",
              "\n",
              "    .dataframe tbody tr th {\n",
              "        vertical-align: top;\n",
              "    }\n",
              "\n",
              "    .dataframe thead th {\n",
              "        text-align: right;\n",
              "    }\n",
              "</style>\n",
              "<table border=\"1\" class=\"dataframe\">\n",
              "  <thead>\n",
              "    <tr style=\"text-align: right;\">\n",
              "      <th></th>\n",
              "      <th>Pclass</th>\n",
              "      <th>Sex</th>\n",
              "      <th>Age</th>\n",
              "      <th>SibSp</th>\n",
              "      <th>Parch</th>\n",
              "      <th>Fare</th>\n",
              "      <th>Embarked</th>\n",
              "      <th>Title</th>\n",
              "    </tr>\n",
              "  </thead>\n",
              "  <tbody>\n",
              "    <tr>\n",
              "      <th>count</th>\n",
              "      <td>8.910000e+02</td>\n",
              "      <td>8.910000e+02</td>\n",
              "      <td>8.910000e+02</td>\n",
              "      <td>8.910000e+02</td>\n",
              "      <td>8.910000e+02</td>\n",
              "      <td>8.910000e+02</td>\n",
              "      <td>8.910000e+02</td>\n",
              "      <td>8.910000e+02</td>\n",
              "    </tr>\n",
              "    <tr>\n",
              "      <th>mean</th>\n",
              "      <td>-2.031048e-16</td>\n",
              "      <td>3.162453e-16</td>\n",
              "      <td>1.080318e-16</td>\n",
              "      <td>3.456519e-16</td>\n",
              "      <td>6.716164e-17</td>\n",
              "      <td>2.791133e-17</td>\n",
              "      <td>-6.230208e-17</td>\n",
              "      <td>2.367479e-17</td>\n",
              "    </tr>\n",
              "    <tr>\n",
              "      <th>std</th>\n",
              "      <td>1.000562e+00</td>\n",
              "      <td>1.000562e+00</td>\n",
              "      <td>1.000562e+00</td>\n",
              "      <td>1.000562e+00</td>\n",
              "      <td>1.000562e+00</td>\n",
              "      <td>1.000562e+00</td>\n",
              "      <td>1.000562e+00</td>\n",
              "      <td>1.000562e+00</td>\n",
              "    </tr>\n",
              "    <tr>\n",
              "      <th>min</th>\n",
              "      <td>-1.566107e+00</td>\n",
              "      <td>-7.376951e-01</td>\n",
              "      <td>-1.787905e+00</td>\n",
              "      <td>-4.745452e-01</td>\n",
              "      <td>-4.736736e-01</td>\n",
              "      <td>-1.671948e+00</td>\n",
              "      <td>-5.707655e-01</td>\n",
              "      <td>-5.428218e-01</td>\n",
              "    </tr>\n",
              "    <tr>\n",
              "      <th>25%</th>\n",
              "      <td>-3.693648e-01</td>\n",
              "      <td>-7.376951e-01</td>\n",
              "      <td>-6.278361e-01</td>\n",
              "      <td>-4.745452e-01</td>\n",
              "      <td>-4.736736e-01</td>\n",
              "      <td>-9.184295e-01</td>\n",
              "      <td>-5.707655e-01</td>\n",
              "      <td>-5.428218e-01</td>\n",
              "    </tr>\n",
              "    <tr>\n",
              "      <th>50%</th>\n",
              "      <td>8.273772e-01</td>\n",
              "      <td>-7.376951e-01</td>\n",
              "      <td>-4.780148e-02</td>\n",
              "      <td>-4.745452e-01</td>\n",
              "      <td>-4.736736e-01</td>\n",
              "      <td>-8.955957e-02</td>\n",
              "      <td>-5.707655e-01</td>\n",
              "      <td>-5.428218e-01</td>\n",
              "    </tr>\n",
              "    <tr>\n",
              "      <th>75%</th>\n",
              "      <td>8.273772e-01</td>\n",
              "      <td>1.355574e+00</td>\n",
              "      <td>6.979574e-01</td>\n",
              "      <td>4.327934e-01</td>\n",
              "      <td>-4.736736e-01</td>\n",
              "      <td>8.146622e-01</td>\n",
              "      <td>1.003699e+00</td>\n",
              "      <td>6.170204e-01</td>\n",
              "    </tr>\n",
              "    <tr>\n",
              "      <th>max</th>\n",
              "      <td>8.273772e-01</td>\n",
              "      <td>1.355574e+00</td>\n",
              "      <td>1.940889e+00</td>\n",
              "      <td>6.784163e+00</td>\n",
              "      <td>6.974147e+00</td>\n",
              "      <td>1.718884e+00</td>\n",
              "      <td>2.578164e+00</td>\n",
              "      <td>8.735916e+00</td>\n",
              "    </tr>\n",
              "  </tbody>\n",
              "</table>\n",
              "</div>"
            ],
            "text/plain": [
              "             Pclass           Sex  ...      Embarked         Title\n",
              "count  8.910000e+02  8.910000e+02  ...  8.910000e+02  8.910000e+02\n",
              "mean  -2.031048e-16  3.162453e-16  ... -6.230208e-17  2.367479e-17\n",
              "std    1.000562e+00  1.000562e+00  ...  1.000562e+00  1.000562e+00\n",
              "min   -1.566107e+00 -7.376951e-01  ... -5.707655e-01 -5.428218e-01\n",
              "25%   -3.693648e-01 -7.376951e-01  ... -5.707655e-01 -5.428218e-01\n",
              "50%    8.273772e-01 -7.376951e-01  ... -5.707655e-01 -5.428218e-01\n",
              "75%    8.273772e-01  1.355574e+00  ...  1.003699e+00  6.170204e-01\n",
              "max    8.273772e-01  1.355574e+00  ...  2.578164e+00  8.735916e+00\n",
              "\n",
              "[8 rows x 8 columns]"
            ]
          },
          "metadata": {
            "tags": []
          }
        }
      ]
    },
    {
      "cell_type": "code",
      "metadata": {
        "id": "VQDMtS_c7ixI",
        "colab_type": "code",
        "outputId": "8cff1d24-219c-4eaf-942e-cd1f32ff2946",
        "colab": {
          "base_uri": "https://localhost:8080/",
          "height": 297
        }
      },
      "source": [
        "# Estadísticas del DataFrame test\n",
        "display(X_test.describe())"
      ],
      "execution_count": 66,
      "outputs": [
        {
          "output_type": "display_data",
          "data": {
            "text/html": [
              "<div>\n",
              "<style scoped>\n",
              "    .dataframe tbody tr th:only-of-type {\n",
              "        vertical-align: middle;\n",
              "    }\n",
              "\n",
              "    .dataframe tbody tr th {\n",
              "        vertical-align: top;\n",
              "    }\n",
              "\n",
              "    .dataframe thead th {\n",
              "        text-align: right;\n",
              "    }\n",
              "</style>\n",
              "<table border=\"1\" class=\"dataframe\">\n",
              "  <thead>\n",
              "    <tr style=\"text-align: right;\">\n",
              "      <th></th>\n",
              "      <th>Pclass</th>\n",
              "      <th>Sex</th>\n",
              "      <th>Age</th>\n",
              "      <th>SibSp</th>\n",
              "      <th>Parch</th>\n",
              "      <th>Fare</th>\n",
              "      <th>Embarked</th>\n",
              "      <th>Title</th>\n",
              "    </tr>\n",
              "  </thead>\n",
              "  <tbody>\n",
              "    <tr>\n",
              "      <th>count</th>\n",
              "      <td>418.000000</td>\n",
              "      <td>418.000000</td>\n",
              "      <td>418.000000</td>\n",
              "      <td>418.000000</td>\n",
              "      <td>418.000000</td>\n",
              "      <td>418.000000</td>\n",
              "      <td>418.000000</td>\n",
              "      <td>418.000000</td>\n",
              "    </tr>\n",
              "    <tr>\n",
              "      <th>mean</th>\n",
              "      <td>-0.051570</td>\n",
              "      <td>0.023493</td>\n",
              "      <td>-0.000027</td>\n",
              "      <td>-0.068631</td>\n",
              "      <td>0.013345</td>\n",
              "      <td>0.027434</td>\n",
              "      <td>0.159967</td>\n",
              "      <td>-0.067231</td>\n",
              "    </tr>\n",
              "    <tr>\n",
              "      <th>std</th>\n",
              "      <td>1.007462</td>\n",
              "      <td>1.008165</td>\n",
              "      <td>1.058201</td>\n",
              "      <td>0.813665</td>\n",
              "      <td>1.218251</td>\n",
              "      <td>1.017912</td>\n",
              "      <td>1.079321</td>\n",
              "      <td>0.794717</td>\n",
              "    </tr>\n",
              "    <tr>\n",
              "      <th>min</th>\n",
              "      <td>-1.566107</td>\n",
              "      <td>-0.737695</td>\n",
              "      <td>-1.787905</td>\n",
              "      <td>-0.474545</td>\n",
              "      <td>-0.473674</td>\n",
              "      <td>-1.671948</td>\n",
              "      <td>-0.570766</td>\n",
              "      <td>-0.542822</td>\n",
              "    </tr>\n",
              "    <tr>\n",
              "      <th>25%</th>\n",
              "      <td>-1.566107</td>\n",
              "      <td>-0.737695</td>\n",
              "      <td>-0.793560</td>\n",
              "      <td>-0.474545</td>\n",
              "      <td>-0.473674</td>\n",
              "      <td>-0.843078</td>\n",
              "      <td>-0.570766</td>\n",
              "      <td>-0.542822</td>\n",
              "    </tr>\n",
              "    <tr>\n",
              "      <th>50%</th>\n",
              "      <td>0.827377</td>\n",
              "      <td>-0.737695</td>\n",
              "      <td>0.035061</td>\n",
              "      <td>-0.474545</td>\n",
              "      <td>-0.473674</td>\n",
              "      <td>-0.051884</td>\n",
              "      <td>-0.570766</td>\n",
              "      <td>-0.542822</td>\n",
              "    </tr>\n",
              "    <tr>\n",
              "      <th>75%</th>\n",
              "      <td>0.827377</td>\n",
              "      <td>1.355574</td>\n",
              "      <td>0.697957</td>\n",
              "      <td>0.432793</td>\n",
              "      <td>-0.473674</td>\n",
              "      <td>0.965366</td>\n",
              "      <td>1.003699</td>\n",
              "      <td>0.588024</td>\n",
              "    </tr>\n",
              "    <tr>\n",
              "      <th>max</th>\n",
              "      <td>0.827377</td>\n",
              "      <td>1.355574</td>\n",
              "      <td>1.940889</td>\n",
              "      <td>6.784163</td>\n",
              "      <td>10.698058</td>\n",
              "      <td>1.718884</td>\n",
              "      <td>2.578164</td>\n",
              "      <td>6.996152</td>\n",
              "    </tr>\n",
              "  </tbody>\n",
              "</table>\n",
              "</div>"
            ],
            "text/plain": [
              "           Pclass         Sex         Age  ...        Fare    Embarked       Title\n",
              "count  418.000000  418.000000  418.000000  ...  418.000000  418.000000  418.000000\n",
              "mean    -0.051570    0.023493   -0.000027  ...    0.027434    0.159967   -0.067231\n",
              "std      1.007462    1.008165    1.058201  ...    1.017912    1.079321    0.794717\n",
              "min     -1.566107   -0.737695   -1.787905  ...   -1.671948   -0.570766   -0.542822\n",
              "25%     -1.566107   -0.737695   -0.793560  ...   -0.843078   -0.570766   -0.542822\n",
              "50%      0.827377   -0.737695    0.035061  ...   -0.051884   -0.570766   -0.542822\n",
              "75%      0.827377    1.355574    0.697957  ...    0.965366    1.003699    0.588024\n",
              "max      0.827377    1.355574    1.940889  ...    1.718884    2.578164    6.996152\n",
              "\n",
              "[8 rows x 8 columns]"
            ]
          },
          "metadata": {
            "tags": []
          }
        }
      ]
    },
    {
      "cell_type": "markdown",
      "metadata": {
        "id": "6QcwOlmFsAWq",
        "colab_type": "text"
      },
      "source": [
        "## Análisis estadístico inferencial"
      ]
    },
    {
      "cell_type": "markdown",
      "metadata": {
        "id": "zddc4RrCquqj",
        "colab_type": "text"
      },
      "source": [
        "### Análisis de correlación y regresión lineal"
      ]
    },
    {
      "cell_type": "code",
      "metadata": {
        "id": "goolCstyp5yy",
        "colab_type": "code",
        "outputId": "c4f69770-6ab2-4606-f9ba-2bf2b8f3aa5f",
        "colab": {
          "base_uri": "https://localhost:8080/",
          "height": 0
        }
      },
      "source": [
        "# Compute the correlation matrix\n",
        "corr = Xy_train.corr()\n",
        "\n",
        "# Generate a mask for the upper triangle\n",
        "mask = np.triu(np.ones_like(corr, dtype=np.bool))\n",
        "\n",
        "# Set up the matplotlib figure\n",
        "f, ax = plt.subplots(figsize=(11, 9))\n",
        "\n",
        "# Generate a custom diverging colormap\n",
        "cmap = sns.diverging_palette(220, 10, as_cmap=True)\n",
        "\n",
        "# Draw the heatmap with the mask and correct aspect ratio\n",
        "plot = sns.heatmap(corr, mask=mask, cmap=cmap, vmax=.3, center=0,\n",
        "            square=True, linewidths=.5, cbar_kws={\"shrink\": .5})"
      ],
      "execution_count": 67,
      "outputs": [
        {
          "output_type": "display_data",
          "data": {
            "image/png": "[encoded data removed]",
            "text/plain": [
              "<Figure size 792x648 with 2 Axes>"
            ]
          },
          "metadata": {
            "tags": [],
            "needs_background": "light"
          }
        }
      ]
    },
    {
      "cell_type": "code",
      "metadata": {
        "id": "IQuRt9f3kAR7",
        "colab_type": "code",
        "outputId": "d55af1ed-51de-4ee3-881e-cfa37cec9e94",
        "colab": {
          "base_uri": "https://localhost:8080/",
          "height": 0
        }
      },
      "source": [
        "model = sm.OLS(y_train.values.ravel(), X_train).fit()\n",
        "display(model.summary())"
      ],
      "execution_count": 68,
      "outputs": [
        {
          "output_type": "display_data",
          "data": {
            "text/html": [
              "<table class=\"simpletable\">\n",
              "<caption>OLS Regression Results</caption>\n",
              "<tr>\n",
              "  <th>Dep. Variable:</th>            <td>y</td>        <th>  R-squared (uncentered):</th>      <td>   0.235</td>\n",
              "</tr>\n",
              "<tr>\n",
              "  <th>Model:</th>                   <td>OLS</td>       <th>  Adj. R-squared (uncentered):</th> <td>   0.228</td>\n",
              "</tr>\n",
              "<tr>\n",
              "  <th>Method:</th>             <td>Least Squares</td>  <th>  F-statistic:       </th>          <td>   33.96</td>\n",
              "</tr>\n",
              "<tr>\n",
              "  <th>Date:</th>             <td>Sun, 24 May 2020</td> <th>  Prob (F-statistic):</th>          <td>7.17e-47</td>\n",
              "</tr>\n",
              "<tr>\n",
              "  <th>Time:</th>                 <td>16:17:27</td>     <th>  Log-Likelihood:    </th>          <td> -718.19</td>\n",
              "</tr>\n",
              "<tr>\n",
              "  <th>No. Observations:</th>      <td>   891</td>      <th>  AIC:               </th>          <td>   1452.</td>\n",
              "</tr>\n",
              "<tr>\n",
              "  <th>Df Residuals:</th>          <td>   883</td>      <th>  BIC:               </th>          <td>   1491.</td>\n",
              "</tr>\n",
              "<tr>\n",
              "  <th>Df Model:</th>              <td>     8</td>      <th>                     </th>              <td> </td>   \n",
              "</tr>\n",
              "<tr>\n",
              "  <th>Covariance Type:</th>      <td>nonrobust</td>    <th>                     </th>              <td> </td>   \n",
              "</tr>\n",
              "</table>\n",
              "<table class=\"simpletable\">\n",
              "<tr>\n",
              "      <td></td>        <th>coef</th>     <th>std err</th>      <th>t</th>      <th>P>|t|</th>  <th>[0.025</th>    <th>0.975]</th>  \n",
              "</tr>\n",
              "<tr>\n",
              "  <th>Pclass</th>   <td>   -0.1258</td> <td>    0.019</td> <td>   -6.664</td> <td> 0.000</td> <td>   -0.163</td> <td>   -0.089</td>\n",
              "</tr>\n",
              "<tr>\n",
              "  <th>Sex</th>      <td>    0.2388</td> <td>    0.020</td> <td>   11.740</td> <td> 0.000</td> <td>    0.199</td> <td>    0.279</td>\n",
              "</tr>\n",
              "<tr>\n",
              "  <th>Age</th>      <td>    0.0048</td> <td>    0.019</td> <td>    0.259</td> <td> 0.796</td> <td>   -0.032</td> <td>    0.041</td>\n",
              "</tr>\n",
              "<tr>\n",
              "  <th>SibSp</th>    <td>   -0.0396</td> <td>    0.021</td> <td>   -1.925</td> <td> 0.055</td> <td>   -0.080</td> <td>    0.001</td>\n",
              "</tr>\n",
              "<tr>\n",
              "  <th>Parch</th>    <td>   -0.0044</td> <td>    0.021</td> <td>   -0.215</td> <td> 0.830</td> <td>   -0.045</td> <td>    0.036</td>\n",
              "</tr>\n",
              "<tr>\n",
              "  <th>Fare</th>     <td>   -0.0195</td> <td>    0.019</td> <td>   -1.028</td> <td> 0.304</td> <td>   -0.057</td> <td>    0.018</td>\n",
              "</tr>\n",
              "<tr>\n",
              "  <th>Embarked</th> <td>    0.0263</td> <td>    0.019</td> <td>    1.400</td> <td> 0.162</td> <td>   -0.011</td> <td>    0.063</td>\n",
              "</tr>\n",
              "<tr>\n",
              "  <th>Title</th>    <td>    0.0368</td> <td>    0.020</td> <td>    1.831</td> <td> 0.067</td> <td>   -0.003</td> <td>    0.076</td>\n",
              "</tr>\n",
              "</table>\n",
              "<table class=\"simpletable\">\n",
              "<tr>\n",
              "  <th>Omnibus:</th>       <td>39.513</td> <th>  Durbin-Watson:     </th> <td>   0.970</td>\n",
              "</tr>\n",
              "<tr>\n",
              "  <th>Prob(Omnibus):</th> <td> 0.000</td> <th>  Jarque-Bera (JB):  </th> <td>  43.876</td>\n",
              "</tr>\n",
              "<tr>\n",
              "  <th>Skew:</th>          <td> 0.542</td> <th>  Prob(JB):          </th> <td>2.97e-10</td>\n",
              "</tr>\n",
              "<tr>\n",
              "  <th>Kurtosis:</th>      <td> 3.083</td> <th>  Cond. No.          </th> <td>    1.84</td>\n",
              "</tr>\n",
              "</table><br/><br/>Warnings:<br/>[1] Standard Errors assume that the covariance matrix of the errors is correctly specified."
            ],
            "text/plain": [
              "<class 'statsmodels.iolib.summary.Summary'>\n",
              "\"\"\"\n",
              "                                 OLS Regression Results                                \n",
              "=======================================================================================\n",
              "Dep. Variable:                      y   R-squared (uncentered):                   0.235\n",
              "Model:                            OLS   Adj. R-squared (uncentered):              0.228\n",
              "Method:                 Least Squares   F-statistic:                              33.96\n",
              "Date:                Sun, 24 May 2020   Prob (F-statistic):                    7.17e-47\n",
              "Time:                        16:17:27   Log-Likelihood:                         -718.19\n",
              "No. Observations:                 891   AIC:                                      1452.\n",
              "Df Residuals:                     883   BIC:                                      1491.\n",
              "Df Model:                           8                                                  \n",
              "Covariance Type:            nonrobust                                                  \n",
              "==============================================================================\n",
              "                 coef    std err          t      P>|t|      [0.025      0.975]\n",
              "------------------------------------------------------------------------------\n",
              "Pclass        -0.1258      0.019     -6.664      0.000      -0.163      -0.089\n",
              "Sex            0.2388      0.020     11.740      0.000       0.199       0.279\n",
              "Age            0.0048      0.019      0.259      0.796      -0.032       0.041\n",
              "SibSp         -0.0396      0.021     -1.925      0.055      -0.080       0.001\n",
              "Parch         -0.0044      0.021     -0.215      0.830      -0.045       0.036\n",
              "Fare          -0.0195      0.019     -1.028      0.304      -0.057       0.018\n",
              "Embarked       0.0263      0.019      1.400      0.162      -0.011       0.063\n",
              "Title          0.0368      0.020      1.831      0.067      -0.003       0.076\n",
              "==============================================================================\n",
              "Omnibus:                       39.513   Durbin-Watson:                   0.970\n",
              "Prob(Omnibus):                  0.000   Jarque-Bera (JB):               43.876\n",
              "Skew:                           0.542   Prob(JB):                     2.97e-10\n",
              "Kurtosis:                       3.083   Cond. No.                         1.84\n",
              "==============================================================================\n",
              "\n",
              "Warnings:\n",
              "[1] Standard Errors assume that the covariance matrix of the errors is correctly specified.\n",
              "\"\"\""
            ]
          },
          "metadata": {
            "tags": []
          }
        }
      ]
    },
    {
      "cell_type": "markdown",
      "metadata": {
        "id": "JAI_dGwJBnV9",
        "colab_type": "text"
      },
      "source": [
        "### Análisis de Regresion"
      ]
    },
    {
      "cell_type": "code",
      "metadata": {
        "id": "mWxWapuBjbit",
        "colab_type": "code",
        "outputId": "581eebc1-8876-4cf7-c040-35214d03b590",
        "colab": {
          "base_uri": "https://localhost:8080/",
          "height": 0
        }
      },
      "source": [
        "# Se genera un modelo de regresión logística a partir del subconjunto de \n",
        "# datos de entrenamiento\n",
        "clf = LogisticRegression(solver = 'lbfgs')\n",
        "clf.fit(X_train, y_train.values.ravel())\n",
        "\n",
        "# Se valida el modelo comparando las predicciones realizadas a partir\n",
        "# del subconjunto de datos de validación con los valores reales\n",
        "y_pred = clf.predict(X_train)\n",
        "\n",
        "train_acc = round(accuracy_score(y_train, y_pred, normalize=True),6)\n",
        "cmatrix_train = confusion_matrix(y_train, y_pred)\n",
        "\n",
        "print('Matriz de confusión del modelo:\\n', cmatrix_train)\n",
        "print('Precisión del modelo:', train_acc)"
      ],
      "execution_count": 69,
      "outputs": [
        {
          "output_type": "stream",
          "text": [
            "Matriz de confusión del modelo:\n",
            " [[479  70]\n",
            " [109 233]]\n",
            "Precisión del modelo: 0.799102\n"
          ],
          "name": "stdout"
        }
      ]
    },
    {
      "cell_type": "markdown",
      "metadata": {
        "id": "HGa9uiU5uzin",
        "colab_type": "text"
      },
      "source": [
        "## Aprendizaje automático"
      ]
    },
    {
      "cell_type": "code",
      "metadata": {
        "id": "lVHjvXzSu1ff",
        "colab_type": "code",
        "colab": {}
      },
      "source": [
        "# ML Model train\n",
        "def train_ml_model(model, X_train, y_train, X_val, y_val, epochs, batch_size, patience, shuffle=True):\n",
        "    # patient early stopping\n",
        "    es = EarlyStopping(monitor='val_loss', mode='min', verbose=1, patience=patience)\n",
        "    mc = ModelCheckpoint('best_model.h5', monitor='val_loss', mode='min', verbose=0, save_best_only=True)\n",
        "\n",
        "    # fit model\n",
        "    history = model.fit(X_train, y_train, validation_data=(X_val, y_val), epochs=epochs, batch_size=batch_size, verbose=1, shuffle=shuffle, callbacks=[es, mc])\n",
        "\n",
        "    # load the saved model\n",
        "    model = load_model('best_model.h5')\n",
        "\n",
        "    # plot training history\n",
        "    plt.plot(history.history['loss'], label='train')\n",
        "    plt.plot(history.history['val_loss'], label='val')\n",
        "    plt.legend()\n",
        "    plt.show()\n",
        "  \n",
        "    # Estimate model performance\n",
        "    trainScore = model.evaluate(X_train, y_train, batch_size=batch_size, verbose=0)\n",
        "    valScore = model.evaluate(X_val, y_val, batch_size=batch_size, verbose=0)\n",
        "  \n",
        "    print('Train Loss: %.6f' % trainScore[0])\n",
        "    print('Train Accuracy: %.6f' % trainScore[1])\n",
        "    print('Val Loss: %.6f' % valScore[0])\n",
        "    print('Val Accuracy: %.6f' % valScore[1])\n",
        "  \n",
        "    return model"
      ],
      "execution_count": 0,
      "outputs": []
    },
    {
      "cell_type": "code",
      "metadata": {
        "id": "Xef_UtJ2veEZ",
        "colab_type": "code",
        "colab": {}
      },
      "source": [
        "# Entrenar Red neuronal densa\n",
        "def dense_nn(X, y, epochs, batch_size, lr, patience, neurons, shuffle=True): \n",
        "  # Split test y val\n",
        "  X_train, X_val, y_train, y_val = train_test_split(X, y, test_size=0.1)\n",
        "\n",
        "  # Dimensiones\n",
        "  n_input =  X_train.shape[1]\n",
        "  n_output = y_train.shape[1]\n",
        "  \n",
        "  model = Sequential([\n",
        "      Dense(n_input, input_dim=n_input, activation='relu'),\n",
        "      Dense(neurons, activation='relu'),\n",
        "      Dense(n_output, activation='sigmoid')\n",
        "  ])\n",
        "  \n",
        "  model.compile(optimizer=Adam(lr=lr), loss='binary_crossentropy', metrics=['accuracy'])\n",
        "\n",
        "  model = train_ml_model(model, X_train, y_train, X_val, y_val, epochs, batch_size, patience, shuffle)\n",
        "  \n",
        "  return model"
      ],
      "execution_count": 0,
      "outputs": []
    },
    {
      "cell_type": "code",
      "metadata": {
        "id": "o_MSlFfIvbZB",
        "colab_type": "code",
        "colab": {}
      },
      "source": [
        "# ML Model predict\n",
        "def predict_with_ml_model(model, X, batch_size):\n",
        "  y_pred = (model.predict(X, batch_size=batch_size) > 0.5).astype(\"int32\")\n",
        "\n",
        "  return y_pred"
      ],
      "execution_count": 0,
      "outputs": []
    },
    {
      "cell_type": "code",
      "metadata": {
        "id": "7S2bc6uRwaTa",
        "colab_type": "code",
        "outputId": "6c611f52-429a-473c-d01f-5b06400282b2",
        "colab": {
          "base_uri": "https://localhost:8080/",
          "height": 1000
        }
      },
      "source": [
        "model = dense_nn(X_train, y_train, epochs=epochs, batch_size=batch_size, lr=lr, patience=patience, neurons=neurons)"
      ],
      "execution_count": 73,
      "outputs": [
        {
          "output_type": "stream",
          "text": [
            "Epoch 1/200\n",
            "801/801 [==============================] - 1s 2ms/step - loss: 0.6534 - accuracy: 0.6317 - val_loss: 0.6261 - val_accuracy: 0.6889\n",
            "Epoch 2/200\n",
            "801/801 [==============================] - 1s 1ms/step - loss: 0.5974 - accuracy: 0.7141 - val_loss: 0.5597 - val_accuracy: 0.7667\n",
            "Epoch 3/200\n",
            "801/801 [==============================] - 1s 1ms/step - loss: 0.5486 - accuracy: 0.7278 - val_loss: 0.5062 - val_accuracy: 0.7556\n",
            "Epoch 4/200\n",
            "801/801 [==============================] - 1s 1ms/step - loss: 0.5127 - accuracy: 0.7591 - val_loss: 0.4710 - val_accuracy: 0.8000\n",
            "Epoch 5/200\n",
            "801/801 [==============================] - 1s 1ms/step - loss: 0.4904 - accuracy: 0.7728 - val_loss: 0.4509 - val_accuracy: 0.8000\n",
            "Epoch 6/200\n",
            "801/801 [==============================] - 1s 1ms/step - loss: 0.4768 - accuracy: 0.7778 - val_loss: 0.4412 - val_accuracy: 0.8000\n",
            "Epoch 7/200\n",
            "801/801 [==============================] - 1s 1ms/step - loss: 0.4692 - accuracy: 0.7928 - val_loss: 0.4359 - val_accuracy: 0.8111\n",
            "Epoch 8/200\n",
            "801/801 [==============================] - 1s 1ms/step - loss: 0.4635 - accuracy: 0.7978 - val_loss: 0.4321 - val_accuracy: 0.8111\n",
            "Epoch 9/200\n",
            "801/801 [==============================] - 1s 1ms/step - loss: 0.4588 - accuracy: 0.8015 - val_loss: 0.4294 - val_accuracy: 0.8111\n",
            "Epoch 10/200\n",
            "801/801 [==============================] - 1s 1ms/step - loss: 0.4545 - accuracy: 0.8002 - val_loss: 0.4267 - val_accuracy: 0.8333\n",
            "Epoch 11/200\n",
            "801/801 [==============================] - 1s 1ms/step - loss: 0.4511 - accuracy: 0.8090 - val_loss: 0.4251 - val_accuracy: 0.8333\n",
            "Epoch 12/200\n",
            "801/801 [==============================] - 1s 1ms/step - loss: 0.4478 - accuracy: 0.8052 - val_loss: 0.4225 - val_accuracy: 0.8333\n",
            "Epoch 13/200\n",
            "801/801 [==============================] - 1s 1ms/step - loss: 0.4444 - accuracy: 0.8040 - val_loss: 0.4209 - val_accuracy: 0.8333\n",
            "Epoch 14/200\n",
            "801/801 [==============================] - 1s 1ms/step - loss: 0.4415 - accuracy: 0.8140 - val_loss: 0.4194 - val_accuracy: 0.8333\n",
            "Epoch 15/200\n",
            "801/801 [==============================] - 1s 1ms/step - loss: 0.4390 - accuracy: 0.8065 - val_loss: 0.4174 - val_accuracy: 0.8333\n",
            "Epoch 16/200\n",
            "801/801 [==============================] - 1s 1ms/step - loss: 0.4359 - accuracy: 0.8127 - val_loss: 0.4164 - val_accuracy: 0.8333\n",
            "Epoch 17/200\n",
            "801/801 [==============================] - 1s 1ms/step - loss: 0.4331 - accuracy: 0.8115 - val_loss: 0.4144 - val_accuracy: 0.8444\n",
            "Epoch 18/200\n",
            "801/801 [==============================] - 1s 1ms/step - loss: 0.4309 - accuracy: 0.8152 - val_loss: 0.4135 - val_accuracy: 0.8444\n",
            "Epoch 19/200\n",
            "801/801 [==============================] - 1s 1ms/step - loss: 0.4283 - accuracy: 0.8177 - val_loss: 0.4118 - val_accuracy: 0.8444\n",
            "Epoch 20/200\n",
            "801/801 [==============================] - 1s 1ms/step - loss: 0.4260 - accuracy: 0.8165 - val_loss: 0.4104 - val_accuracy: 0.8333\n",
            "Epoch 21/200\n",
            "801/801 [==============================] - 1s 1ms/step - loss: 0.4239 - accuracy: 0.8165 - val_loss: 0.4103 - val_accuracy: 0.8333\n",
            "Epoch 22/200\n",
            "801/801 [==============================] - 1s 1ms/step - loss: 0.4217 - accuracy: 0.8177 - val_loss: 0.4089 - val_accuracy: 0.8333\n",
            "Epoch 23/200\n",
            "801/801 [==============================] - 1s 1ms/step - loss: 0.4196 - accuracy: 0.8240 - val_loss: 0.4081 - val_accuracy: 0.8333\n",
            "Epoch 24/200\n",
            "801/801 [==============================] - 1s 1ms/step - loss: 0.4178 - accuracy: 0.8202 - val_loss: 0.4063 - val_accuracy: 0.8333\n",
            "Epoch 25/200\n",
            "801/801 [==============================] - 1s 1ms/step - loss: 0.4162 - accuracy: 0.8202 - val_loss: 0.4067 - val_accuracy: 0.8333\n",
            "Epoch 26/200\n",
            "801/801 [==============================] - 1s 1ms/step - loss: 0.4145 - accuracy: 0.8215 - val_loss: 0.4046 - val_accuracy: 0.8333\n",
            "Epoch 27/200\n",
            "801/801 [==============================] - 1s 1ms/step - loss: 0.4123 - accuracy: 0.8227 - val_loss: 0.4055 - val_accuracy: 0.8333\n",
            "Epoch 28/200\n",
            "801/801 [==============================] - 1s 1ms/step - loss: 0.4111 - accuracy: 0.8240 - val_loss: 0.4030 - val_accuracy: 0.8333\n",
            "Epoch 29/200\n",
            "801/801 [==============================] - 1s 1ms/step - loss: 0.4098 - accuracy: 0.8215 - val_loss: 0.4030 - val_accuracy: 0.8333\n",
            "Epoch 30/200\n",
            "801/801 [==============================] - 1s 1ms/step - loss: 0.4082 - accuracy: 0.8202 - val_loss: 0.4026 - val_accuracy: 0.8222\n",
            "Epoch 31/200\n",
            "801/801 [==============================] - 1s 1ms/step - loss: 0.4067 - accuracy: 0.8240 - val_loss: 0.4026 - val_accuracy: 0.8222\n",
            "Epoch 32/200\n",
            "801/801 [==============================] - 1s 1ms/step - loss: 0.4052 - accuracy: 0.8302 - val_loss: 0.3991 - val_accuracy: 0.8222\n",
            "Epoch 33/200\n",
            "801/801 [==============================] - 1s 1ms/step - loss: 0.4045 - accuracy: 0.8240 - val_loss: 0.4002 - val_accuracy: 0.8222\n",
            "Epoch 34/200\n",
            "801/801 [==============================] - 1s 1ms/step - loss: 0.4035 - accuracy: 0.8227 - val_loss: 0.3997 - val_accuracy: 0.8222\n",
            "Epoch 35/200\n",
            "801/801 [==============================] - 1s 1ms/step - loss: 0.4018 - accuracy: 0.8252 - val_loss: 0.4011 - val_accuracy: 0.8222\n",
            "Epoch 36/200\n",
            "801/801 [==============================] - 1s 1ms/step - loss: 0.4008 - accuracy: 0.8252 - val_loss: 0.4000 - val_accuracy: 0.8222\n",
            "Epoch 37/200\n",
            "801/801 [==============================] - 1s 1ms/step - loss: 0.4003 - accuracy: 0.8290 - val_loss: 0.3982 - val_accuracy: 0.8222\n",
            "Epoch 38/200\n",
            "801/801 [==============================] - 1s 1ms/step - loss: 0.3996 - accuracy: 0.8240 - val_loss: 0.4007 - val_accuracy: 0.8222\n",
            "Epoch 39/200\n",
            "801/801 [==============================] - 1s 1ms/step - loss: 0.3985 - accuracy: 0.8265 - val_loss: 0.4010 - val_accuracy: 0.8222\n",
            "Epoch 40/200\n",
            "801/801 [==============================] - 1s 1ms/step - loss: 0.3978 - accuracy: 0.8277 - val_loss: 0.3982 - val_accuracy: 0.8333\n",
            "Epoch 41/200\n",
            "801/801 [==============================] - 1s 1ms/step - loss: 0.3970 - accuracy: 0.8315 - val_loss: 0.3991 - val_accuracy: 0.8333\n",
            "Epoch 42/200\n",
            "801/801 [==============================] - 1s 1ms/step - loss: 0.3964 - accuracy: 0.8315 - val_loss: 0.4004 - val_accuracy: 0.8333\n",
            "Epoch 43/200\n",
            "801/801 [==============================] - 1s 1ms/step - loss: 0.3954 - accuracy: 0.8290 - val_loss: 0.4021 - val_accuracy: 0.8333\n",
            "Epoch 44/200\n",
            "801/801 [==============================] - 1s 1ms/step - loss: 0.3945 - accuracy: 0.8315 - val_loss: 0.4000 - val_accuracy: 0.8333\n",
            "Epoch 45/200\n",
            "801/801 [==============================] - 1s 1ms/step - loss: 0.3939 - accuracy: 0.8290 - val_loss: 0.4009 - val_accuracy: 0.8333\n",
            "Epoch 46/200\n",
            "801/801 [==============================] - 1s 1ms/step - loss: 0.3931 - accuracy: 0.8302 - val_loss: 0.4009 - val_accuracy: 0.8333\n",
            "Epoch 47/200\n",
            "801/801 [==============================] - 1s 1ms/step - loss: 0.3920 - accuracy: 0.8315 - val_loss: 0.4005 - val_accuracy: 0.8333\n",
            "Epoch 00047: early stopping\n"
          ],
          "name": "stdout"
        },
        {
          "output_type": "display_data",
          "data": {
            "image/png": "[encoded data removed]",
            "text/plain": [
              "<Figure size 432x288 with 1 Axes>"
            ]
          },
          "metadata": {
            "tags": [],
            "needs_background": "light"
          }
        },
        {
          "output_type": "stream",
          "text": [
            "Train Loss: 0.397195\n",
            "Train Accuracy: 0.825218\n",
            "Val Loss: 0.398175\n",
            "Val Accuracy: 0.822222\n"
          ],
          "name": "stdout"
        }
      ]
    },
    {
      "cell_type": "code",
      "metadata": {
        "id": "-sysTq7gjVb1",
        "colab_type": "code",
        "outputId": "9107c8e8-290b-480c-f480-0ad125bb1603",
        "colab": {
          "base_uri": "https://localhost:8080/",
          "height": 85
        }
      },
      "source": [
        "# accuracy\n",
        "y_pred = predict_with_ml_model(model, X_train, batch_size=batch_size)\n",
        "\n",
        "train_acc = round(accuracy_score(y_train, y_pred, normalize=True),6)\n",
        "cmatrix_train = confusion_matrix(y_train, y_pred)\n",
        "\n",
        "print('Matriz de confusión del modelo:\\n', cmatrix_train)\n",
        "print('Precisión del modelo:', train_acc)"
      ],
      "execution_count": 74,
      "outputs": [
        {
          "output_type": "stream",
          "text": [
            "Matriz de confusión del modelo:\n",
            " [[500  49]\n",
            " [107 235]]\n",
            "Precisión del modelo: 0.824916\n"
          ],
          "name": "stdout"
        }
      ]
    },
    {
      "cell_type": "code",
      "metadata": {
        "id": "k8j0qX7V86DZ",
        "colab_type": "code",
        "outputId": "30a2f578-2f4f-46a2-9687-219fc476c9da",
        "colab": {
          "base_uri": "https://localhost:8080/",
          "height": 515
        }
      },
      "source": [
        "# generate predictions for test\n",
        "df_pred = pd.DataFrame(predict_with_ml_model(model, X_test, batch_size=batch_size), columns=['Survived'], index =  df_test.index)\n",
        "  \n",
        "display(df_pred.describe())\n",
        "display(df_pred.head()) \n",
        "df_pred.to_csv('submission.csv', index=True)  "
      ],
      "execution_count": 75,
      "outputs": [
        {
          "output_type": "display_data",
          "data": {
            "text/html": [
              "<div>\n",
              "<style scoped>\n",
              "    .dataframe tbody tr th:only-of-type {\n",
              "        vertical-align: middle;\n",
              "    }\n",
              "\n",
              "    .dataframe tbody tr th {\n",
              "        vertical-align: top;\n",
              "    }\n",
              "\n",
              "    .dataframe thead th {\n",
              "        text-align: right;\n",
              "    }\n",
              "</style>\n",
              "<table border=\"1\" class=\"dataframe\">\n",
              "  <thead>\n",
              "    <tr style=\"text-align: right;\">\n",
              "      <th></th>\n",
              "      <th>Survived</th>\n",
              "    </tr>\n",
              "  </thead>\n",
              "  <tbody>\n",
              "    <tr>\n",
              "      <th>count</th>\n",
              "      <td>418.000000</td>\n",
              "    </tr>\n",
              "    <tr>\n",
              "      <th>mean</th>\n",
              "      <td>0.325359</td>\n",
              "    </tr>\n",
              "    <tr>\n",
              "      <th>std</th>\n",
              "      <td>0.469070</td>\n",
              "    </tr>\n",
              "    <tr>\n",
              "      <th>min</th>\n",
              "      <td>0.000000</td>\n",
              "    </tr>\n",
              "    <tr>\n",
              "      <th>25%</th>\n",
              "      <td>0.000000</td>\n",
              "    </tr>\n",
              "    <tr>\n",
              "      <th>50%</th>\n",
              "      <td>0.000000</td>\n",
              "    </tr>\n",
              "    <tr>\n",
              "      <th>75%</th>\n",
              "      <td>1.000000</td>\n",
              "    </tr>\n",
              "    <tr>\n",
              "      <th>max</th>\n",
              "      <td>1.000000</td>\n",
              "    </tr>\n",
              "  </tbody>\n",
              "</table>\n",
              "</div>"
            ],
            "text/plain": [
              "         Survived\n",
              "count  418.000000\n",
              "mean     0.325359\n",
              "std      0.469070\n",
              "min      0.000000\n",
              "25%      0.000000\n",
              "50%      0.000000\n",
              "75%      1.000000\n",
              "max      1.000000"
            ]
          },
          "metadata": {
            "tags": []
          }
        },
        {
          "output_type": "display_data",
          "data": {
            "text/html": [
              "<div>\n",
              "<style scoped>\n",
              "    .dataframe tbody tr th:only-of-type {\n",
              "        vertical-align: middle;\n",
              "    }\n",
              "\n",
              "    .dataframe tbody tr th {\n",
              "        vertical-align: top;\n",
              "    }\n",
              "\n",
              "    .dataframe thead th {\n",
              "        text-align: right;\n",
              "    }\n",
              "</style>\n",
              "<table border=\"1\" class=\"dataframe\">\n",
              "  <thead>\n",
              "    <tr style=\"text-align: right;\">\n",
              "      <th></th>\n",
              "      <th>Survived</th>\n",
              "    </tr>\n",
              "    <tr>\n",
              "      <th>PassengerId</th>\n",
              "      <th></th>\n",
              "    </tr>\n",
              "  </thead>\n",
              "  <tbody>\n",
              "    <tr>\n",
              "      <th>892</th>\n",
              "      <td>0</td>\n",
              "    </tr>\n",
              "    <tr>\n",
              "      <th>893</th>\n",
              "      <td>1</td>\n",
              "    </tr>\n",
              "    <tr>\n",
              "      <th>894</th>\n",
              "      <td>0</td>\n",
              "    </tr>\n",
              "    <tr>\n",
              "      <th>895</th>\n",
              "      <td>0</td>\n",
              "    </tr>\n",
              "    <tr>\n",
              "      <th>896</th>\n",
              "      <td>1</td>\n",
              "    </tr>\n",
              "  </tbody>\n",
              "</table>\n",
              "</div>"
            ],
            "text/plain": [
              "             Survived\n",
              "PassengerId          \n",
              "892                 0\n",
              "893                 1\n",
              "894                 0\n",
              "895                 0\n",
              "896                 1"
            ]
          },
          "metadata": {
            "tags": []
          }
        }
      ]
    },
    {
      "cell_type": "markdown",
      "metadata": {
        "id": "Vm2EK3jI_abb",
        "colab_type": "text"
      },
      "source": [
        "# Subir resultados a Kaggle"
      ]
    },
    {
      "cell_type": "code",
      "metadata": {
        "id": "1GUOvy37L6zy",
        "colab_type": "code",
        "outputId": "05c7182f-7e7e-48e2-8d5c-29abe16363c4",
        "colab": {
          "base_uri": "https://localhost:8080/",
          "height": 51
        }
      },
      "source": [
        "%%bash\n",
        "kaggle competitions submit -c titanic -f submission.csv -m \"New submission test\""
      ],
      "execution_count": 76,
      "outputs": [
        {
          "output_type": "stream",
          "text": [
            "Warning: Looks like you're using an outdated API Version, please consider updating (server 1.5.6 / client 1.5.4)\n",
            "Successfully submitted to Titanic: Machine Learning from Disaster"
          ],
          "name": "stdout"
        },
        {
          "output_type": "stream",
          "text": [
            "\r  0%|          | 0.00/2.77k [00:00<?, ?B/s]\r100%|##########| 2.77k/2.77k [00:04<00:00, 601B/s]\n"
          ],
          "name": "stderr"
        }
      ]
    }
  ]
}