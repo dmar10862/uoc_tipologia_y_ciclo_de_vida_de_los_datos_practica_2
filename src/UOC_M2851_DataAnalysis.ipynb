{
  "nbformat": 4,
  "nbformat_minor": 0,
  "metadata": {
    "colab": {
      "name": "UOC-M2851-DataAnalysis.ipynb",
      "provenance": [],
      "collapsed_sections": [],
      "authorship_tag": "ABX9TyM7AGFwfLDV/4+B0qzcGWBF",
      "include_colab_link": true
    },
    "kernelspec": {
      "name": "python3",
      "display_name": "Python 3"
    }
  },
  "cells": [
    {
      "cell_type": "markdown",
      "metadata": {
        "id": "view-in-github",
        "colab_type": "text"
      },
      "source": [
        "<a href=\"https://colab.research.google.com/github/dmar10862/uoc_tipologia_y_ciclo_de_vida_de_los_datos_practica_2/blob/develop/src/UOC_M2851_DataAnalysis.ipynb\" target=\"_parent\"><img src=\"https://colab.research.google.com/assets/colab-badge.svg\" alt=\"Open In Colab\"/></a>"
      ]
    },
    {
      "cell_type": "markdown",
      "metadata": {
        "id": "WnhsrUMxp9mH",
        "colab_type": "text"
      },
      "source": [
        "**Practica 2: Limpieza y análisis de datos**\n",
        "\n",
        "M2851 - Tipología y ciclo de vida de los datos\n",
        "\n",
        "Ciencia de Datos\n",
        "\n",
        "**David Marín Sánchez**\n",
        "\n",
        "Junio 2020"
      ]
    },
    {
      "cell_type": "markdown",
      "metadata": {
        "id": "fVa3SNNFfP7S",
        "colab_type": "text"
      },
      "source": [
        "# Descripción y referencias\n",
        "\n",
        "En esta práctica se ha tratado de resolver el problema planeado en la competición de Kaggle [Titanic: Machine Learning from Disaster](https://www.kaggle.com/c/titanic/overview).\n",
        "\n",
        "Para resolverla se han utilizado metodos o aprovechado algunas de las ideas planteadas en las siguientes referencias:\n",
        "\n",
        "https://www.kaggle.com/ouyangg/titanic\n",
        "\n",
        "https://www.kaggle.com/parthsuresh/binary-classifier-using-keras-97-98-accuracy\n",
        "\n",
        "https://machinelearningmastery.com/binary-classification-tutorial-with-the-keras-deep-learning-library/\n",
        "\n",
        "https://machinelearningmastery.com/how-to-stop-training-deep-neural-networks-at-the-right-time-using-early-stopping/\n",
        "\n",
        "https://github.com/Kaggle/kaggle-api\n",
        "\n",
        "https://scikit-learn.org/stable/modules/impute.html\n",
        "\n",
        "https://scikit-learn.org/dev/modules/generated/sklearn.impute.KNNImputer.html\n",
        "\n",
        "https://scikit-learn.org/stable/modules/generated/sklearn.decomposition.PCA.html\n",
        "\n",
        "https://scikit-learn.org/stable/modules/neural_networks_supervised.html#mlp-tips\n",
        "\n",
        "https://nextjournal.com/schmudde/how-to-remove-outliers-in-data\n",
        "\n",
        "https://matplotlib.org/3.1.1/api/_as_gen/matplotlib.pyplot.bar.html\n",
        "\n",
        "https://seaborn.pydata.org/examples/many_pairwise_correlations.html\n"
      ]
    },
    {
      "cell_type": "markdown",
      "metadata": {
        "id": "UgIvNpeB_xZZ",
        "colab_type": "text"
      },
      "source": [
        "# Hyperparametros\n"
      ]
    },
    {
      "cell_type": "code",
      "metadata": {
        "id": "ZDUpIKZ4_zgL",
        "colab_type": "code",
        "colab": {}
      },
      "source": [
        "# Limpieza de datos\n",
        "# Proporción de outliers a eliminar (a partir de los cuantiles)\n",
        "remove_outilers_quantile = 0.15\n",
        "# Número de categorias en las que agrupar la variable 'age'\n",
        "age_categories = 10\n",
        "# Número de categorias en las que agrupar la variable 'fare'\n",
        "fare_categories = 10\n",
        "# Dimensiones a eliminar después del análisis PCA\n",
        "dimensions_to_remove = 0\n",
        "\n",
        "# Modelado\n",
        "# Número de neuronas de la capa oculta\n",
        "neurons = 32\n",
        "# Ratio de aprendizaje\n",
        "lr = 0.0002\n",
        "# Épocas o repeticiones del proceso de entrenamiento de la red neuronal\n",
        "epochs = 200\n",
        "# Muestras a procesar en cada paso de entrenamiento\n",
        "batch_size = 1\n",
        "# Pacieiencia o número de épocas en las que se permite que el que el error obtenido \n",
        "# supere al anterior error antes de parar el proceso de entrenamiento\n",
        "patience = 10"
      ],
      "execution_count": 0,
      "outputs": []
    },
    {
      "cell_type": "markdown",
      "metadata": {
        "id": "CzHYyhMglcaw",
        "colab_type": "text"
      },
      "source": [
        "# Librerias"
      ]
    },
    {
      "cell_type": "markdown",
      "metadata": {
        "id": "4lP99xCBmozB",
        "colab_type": "text"
      },
      "source": [
        ""
      ]
    },
    {
      "cell_type": "code",
      "metadata": {
        "id": "8yGWffSUlcAX",
        "colab_type": "code",
        "outputId": "e3dedd85-42f9-40ce-ff6c-9b23084f8a28",
        "colab": {
          "base_uri": "https://localhost:8080/",
          "height": 71
        }
      },
      "source": [
        "from google.colab import drive\n",
        "from google.colab import auth\n",
        "import pandas as pd\n",
        "import numpy as np\n",
        "import matplotlib.pyplot as plt\n",
        "import seaborn as sns\n",
        "from sklearn.impute import KNNImputer\n",
        "from sklearn.preprocessing import StandardScaler\n",
        "from sklearn.decomposition import PCA\n",
        "from sklearn.model_selection import train_test_split\n",
        "from sklearn.metrics import accuracy_score, confusion_matrix\n",
        "from sklearn.linear_model import LinearRegression, LogisticRegression\n",
        "from scipy import stats\n",
        "import statsmodels.api as sm\n",
        "import tensorflow as tf\n",
        "from tensorflow.keras.models import Sequential, load_model\n",
        "from tensorflow.keras.layers import Dense, Activation\n",
        "from tensorflow.keras.optimizers import Adam\n",
        "from tensorflow.keras.callbacks import EarlyStopping, ModelCheckpoint"
      ],
      "execution_count": 2,
      "outputs": [
        {
          "output_type": "stream",
          "text": [
            "/usr/local/lib/python3.6/dist-packages/statsmodels/tools/_testing.py:19: FutureWarning: pandas.util.testing is deprecated. Use the functions in the public API at pandas.testing instead.\n",
            "  import pandas.util.testing as tm\n"
          ],
          "name": "stderr"
        }
      ]
    },
    {
      "cell_type": "markdown",
      "metadata": {
        "id": "WSASRXXVALwB",
        "colab_type": "text"
      },
      "source": [
        "# Descargar dataset de Kaggle"
      ]
    },
    {
      "cell_type": "code",
      "metadata": {
        "id": "kSbUb2i2mrZh",
        "colab_type": "code",
        "outputId": "c59c8f44-83f2-482f-9072-c1eac23141bd",
        "colab": {
          "base_uri": "https://localhost:8080/",
          "height": 34
        }
      },
      "source": [
        "# Montar Google Drive para poder recuperar las credenciales de Kaggle\n",
        "drive.mount('/content/drive')"
      ],
      "execution_count": 3,
      "outputs": [
        {
          "output_type": "stream",
          "text": [
            "Drive already mounted at /content/drive; to attempt to forcibly remount, call drive.mount(\"/content/drive\", force_remount=True).\n"
          ],
          "name": "stdout"
        }
      ]
    },
    {
      "cell_type": "code",
      "metadata": {
        "id": "wqxPpBiclgwX",
        "colab_type": "code",
        "outputId": "6b5ba2c1-ab46-4f22-eec6-31864c7b64cd",
        "colab": {
          "base_uri": "https://localhost:8080/",
          "height": 51
        }
      },
      "source": [
        "%%bash\n",
        "# Instalar kaggle\n",
        "pip install -q kaggle\n",
        "\n",
        "# Cargar las credeciales de Kaggle de Google Drive\n",
        "mkdir -p /root/.kaggle\n",
        "cp -a \"/content/drive/My Drive/Credentials/kaggle.json\" /root/.kaggle/kaggle.json\n",
        "ls -l /root/.kaggle"
      ],
      "execution_count": 4,
      "outputs": [
        {
          "output_type": "stream",
          "text": [
            "total 4\n",
            "-rw------- 1 root root 64 May  9 08:42 kaggle.json\n"
          ],
          "name": "stdout"
        }
      ]
    },
    {
      "cell_type": "code",
      "metadata": {
        "id": "AeLUbs0JlUVf",
        "colab_type": "code",
        "outputId": "7eaf0e5f-c61d-4711-9dc6-8bfb72550362",
        "colab": {
          "base_uri": "https://localhost:8080/",
          "height": 187
        }
      },
      "source": [
        "# Descargar dataset de Kaggle\n",
        "%%bash\n",
        "mkdir -p datasets\n",
        "cd datasets\n",
        "kaggle competitions download -c titanic\n",
        "ls -la"
      ],
      "execution_count": 5,
      "outputs": [
        {
          "output_type": "stream",
          "text": [
            "Warning: Looks like you're using an outdated API Version, please consider updating (server 1.5.6 / client 1.5.4)\n",
            "gender_submission.csv: Skipping, found more recently modified local copy (use --force to force download)\n",
            "train.csv: Skipping, found more recently modified local copy (use --force to force download)\n",
            "test.csv: Skipping, found more recently modified local copy (use --force to force download)\n",
            "total 100\n",
            "drwxr-xr-x 2 root root  4096 May 24 13:37 .\n",
            "drwxr-xr-x 1 root root  4096 May 24 15:36 ..\n",
            "-rw-r--r-- 1 root root  3258 May 24 13:37 gender_submission.csv\n",
            "-rw-r--r-- 1 root root 28629 May 24 13:37 test.csv\n",
            "-rw-r--r-- 1 root root 61194 May 24 13:37 train.csv\n"
          ],
          "name": "stdout"
        }
      ]
    },
    {
      "cell_type": "markdown",
      "metadata": {
        "id": "pyUPgmft7MEp",
        "colab_type": "text"
      },
      "source": [
        "# Cargar Datos"
      ]
    },
    {
      "cell_type": "code",
      "metadata": {
        "id": "Kz6v5JKYn25H",
        "colab_type": "code",
        "colab": {}
      },
      "source": [
        "# Se carga el dataset de entrenamiento como un DataFrame de Pandas\n",
        "df_train = pd.read_csv('datasets/train.csv', index_col = 'PassengerId') "
      ],
      "execution_count": 0,
      "outputs": []
    },
    {
      "cell_type": "code",
      "metadata": {
        "id": "IJbXogW-__vi",
        "colab_type": "code",
        "colab": {}
      },
      "source": [
        "# Se separan las caracteristicas de la variable objetivo ('Survived')\n",
        "X_train = df_train.copy()\n",
        "y_train = X_train[['Survived']]\n",
        "X_train = X_train.drop(columns=['Survived'])"
      ],
      "execution_count": 0,
      "outputs": []
    },
    {
      "cell_type": "code",
      "metadata": {
        "id": "BesY7zliT7uJ",
        "colab_type": "code",
        "outputId": "18ac8284-c84a-4d91-f2ac-61adc80b6fbc",
        "colab": {
          "base_uri": "https://localhost:8080/",
          "height": 541
        }
      },
      "source": [
        "# Se muestran las características del DataFrame de entrenamiento\n",
        "display(X_train.info())\n",
        "display(X_train.head())"
      ],
      "execution_count": 8,
      "outputs": [
        {
          "output_type": "stream",
          "text": [
            "<class 'pandas.core.frame.DataFrame'>\n",
            "Int64Index: 891 entries, 1 to 891\n",
            "Data columns (total 10 columns):\n",
            " #   Column    Non-Null Count  Dtype  \n",
            "---  ------    --------------  -----  \n",
            " 0   Pclass    891 non-null    int64  \n",
            " 1   Name      891 non-null    object \n",
            " 2   Sex       891 non-null    object \n",
            " 3   Age       714 non-null    float64\n",
            " 4   SibSp     891 non-null    int64  \n",
            " 5   Parch     891 non-null    int64  \n",
            " 6   Ticket    891 non-null    object \n",
            " 7   Fare      891 non-null    float64\n",
            " 8   Cabin     204 non-null    object \n",
            " 9   Embarked  889 non-null    object \n",
            "dtypes: float64(2), int64(3), object(5)\n",
            "memory usage: 76.6+ KB\n"
          ],
          "name": "stdout"
        },
        {
          "output_type": "display_data",
          "data": {
            "text/plain": [
              "None"
            ]
          },
          "metadata": {
            "tags": []
          }
        },
        {
          "output_type": "display_data",
          "data": {
            "text/html": [
              "<div>\n",
              "<style scoped>\n",
              "    .dataframe tbody tr th:only-of-type {\n",
              "        vertical-align: middle;\n",
              "    }\n",
              "\n",
              "    .dataframe tbody tr th {\n",
              "        vertical-align: top;\n",
              "    }\n",
              "\n",
              "    .dataframe thead th {\n",
              "        text-align: right;\n",
              "    }\n",
              "</style>\n",
              "<table border=\"1\" class=\"dataframe\">\n",
              "  <thead>\n",
              "    <tr style=\"text-align: right;\">\n",
              "      <th></th>\n",
              "      <th>Pclass</th>\n",
              "      <th>Name</th>\n",
              "      <th>Sex</th>\n",
              "      <th>Age</th>\n",
              "      <th>SibSp</th>\n",
              "      <th>Parch</th>\n",
              "      <th>Ticket</th>\n",
              "      <th>Fare</th>\n",
              "      <th>Cabin</th>\n",
              "      <th>Embarked</th>\n",
              "    </tr>\n",
              "    <tr>\n",
              "      <th>PassengerId</th>\n",
              "      <th></th>\n",
              "      <th></th>\n",
              "      <th></th>\n",
              "      <th></th>\n",
              "      <th></th>\n",
              "      <th></th>\n",
              "      <th></th>\n",
              "      <th></th>\n",
              "      <th></th>\n",
              "      <th></th>\n",
              "    </tr>\n",
              "  </thead>\n",
              "  <tbody>\n",
              "    <tr>\n",
              "      <th>1</th>\n",
              "      <td>3</td>\n",
              "      <td>Braund, Mr. Owen Harris</td>\n",
              "      <td>male</td>\n",
              "      <td>22.0</td>\n",
              "      <td>1</td>\n",
              "      <td>0</td>\n",
              "      <td>A/5 21171</td>\n",
              "      <td>7.2500</td>\n",
              "      <td>NaN</td>\n",
              "      <td>S</td>\n",
              "    </tr>\n",
              "    <tr>\n",
              "      <th>2</th>\n",
              "      <td>1</td>\n",
              "      <td>Cumings, Mrs. John Bradley (Florence Briggs Th...</td>\n",
              "      <td>female</td>\n",
              "      <td>38.0</td>\n",
              "      <td>1</td>\n",
              "      <td>0</td>\n",
              "      <td>PC 17599</td>\n",
              "      <td>71.2833</td>\n",
              "      <td>C85</td>\n",
              "      <td>C</td>\n",
              "    </tr>\n",
              "    <tr>\n",
              "      <th>3</th>\n",
              "      <td>3</td>\n",
              "      <td>Heikkinen, Miss. Laina</td>\n",
              "      <td>female</td>\n",
              "      <td>26.0</td>\n",
              "      <td>0</td>\n",
              "      <td>0</td>\n",
              "      <td>STON/O2. 3101282</td>\n",
              "      <td>7.9250</td>\n",
              "      <td>NaN</td>\n",
              "      <td>S</td>\n",
              "    </tr>\n",
              "    <tr>\n",
              "      <th>4</th>\n",
              "      <td>1</td>\n",
              "      <td>Futrelle, Mrs. Jacques Heath (Lily May Peel)</td>\n",
              "      <td>female</td>\n",
              "      <td>35.0</td>\n",
              "      <td>1</td>\n",
              "      <td>0</td>\n",
              "      <td>113803</td>\n",
              "      <td>53.1000</td>\n",
              "      <td>C123</td>\n",
              "      <td>S</td>\n",
              "    </tr>\n",
              "    <tr>\n",
              "      <th>5</th>\n",
              "      <td>3</td>\n",
              "      <td>Allen, Mr. William Henry</td>\n",
              "      <td>male</td>\n",
              "      <td>35.0</td>\n",
              "      <td>0</td>\n",
              "      <td>0</td>\n",
              "      <td>373450</td>\n",
              "      <td>8.0500</td>\n",
              "      <td>NaN</td>\n",
              "      <td>S</td>\n",
              "    </tr>\n",
              "  </tbody>\n",
              "</table>\n",
              "</div>"
            ],
            "text/plain": [
              "             Pclass  ... Embarked\n",
              "PassengerId          ...         \n",
              "1                 3  ...        S\n",
              "2                 1  ...        C\n",
              "3                 3  ...        S\n",
              "4                 1  ...        S\n",
              "5                 3  ...        S\n",
              "\n",
              "[5 rows x 10 columns]"
            ]
          },
          "metadata": {
            "tags": []
          }
        }
      ]
    },
    {
      "cell_type": "code",
      "metadata": {
        "id": "VxKIdKPd0crm",
        "colab_type": "code",
        "outputId": "465b2c1e-9870-4206-f682-a60791e5b688",
        "colab": {
          "base_uri": "https://localhost:8080/",
          "height": 388
        }
      },
      "source": [
        "# Se muestra la variable objetivo para el DataFrame de entremanieto\n",
        "display(y_train.info())\n",
        "display(y_train.head())"
      ],
      "execution_count": 9,
      "outputs": [
        {
          "output_type": "stream",
          "text": [
            "<class 'pandas.core.frame.DataFrame'>\n",
            "Int64Index: 891 entries, 1 to 891\n",
            "Data columns (total 1 columns):\n",
            " #   Column    Non-Null Count  Dtype\n",
            "---  ------    --------------  -----\n",
            " 0   Survived  891 non-null    int64\n",
            "dtypes: int64(1)\n",
            "memory usage: 13.9 KB\n"
          ],
          "name": "stdout"
        },
        {
          "output_type": "display_data",
          "data": {
            "text/plain": [
              "None"
            ]
          },
          "metadata": {
            "tags": []
          }
        },
        {
          "output_type": "display_data",
          "data": {
            "text/html": [
              "<div>\n",
              "<style scoped>\n",
              "    .dataframe tbody tr th:only-of-type {\n",
              "        vertical-align: middle;\n",
              "    }\n",
              "\n",
              "    .dataframe tbody tr th {\n",
              "        vertical-align: top;\n",
              "    }\n",
              "\n",
              "    .dataframe thead th {\n",
              "        text-align: right;\n",
              "    }\n",
              "</style>\n",
              "<table border=\"1\" class=\"dataframe\">\n",
              "  <thead>\n",
              "    <tr style=\"text-align: right;\">\n",
              "      <th></th>\n",
              "      <th>Survived</th>\n",
              "    </tr>\n",
              "    <tr>\n",
              "      <th>PassengerId</th>\n",
              "      <th></th>\n",
              "    </tr>\n",
              "  </thead>\n",
              "  <tbody>\n",
              "    <tr>\n",
              "      <th>1</th>\n",
              "      <td>0</td>\n",
              "    </tr>\n",
              "    <tr>\n",
              "      <th>2</th>\n",
              "      <td>1</td>\n",
              "    </tr>\n",
              "    <tr>\n",
              "      <th>3</th>\n",
              "      <td>1</td>\n",
              "    </tr>\n",
              "    <tr>\n",
              "      <th>4</th>\n",
              "      <td>1</td>\n",
              "    </tr>\n",
              "    <tr>\n",
              "      <th>5</th>\n",
              "      <td>0</td>\n",
              "    </tr>\n",
              "  </tbody>\n",
              "</table>\n",
              "</div>"
            ],
            "text/plain": [
              "             Survived\n",
              "PassengerId          \n",
              "1                   0\n",
              "2                   1\n",
              "3                   1\n",
              "4                   1\n",
              "5                   0"
            ]
          },
          "metadata": {
            "tags": []
          }
        }
      ]
    },
    {
      "cell_type": "code",
      "metadata": {
        "id": "zGDtXQK9DnWL",
        "colab_type": "code",
        "colab": {}
      },
      "source": [
        "# Se carga el dataset de test en un DataFrame de Pandas\n",
        "df_test = pd.read_csv('datasets/test.csv', index_col='PassengerId') \n",
        "X_test = df_test.copy()"
      ],
      "execution_count": 0,
      "outputs": []
    },
    {
      "cell_type": "code",
      "metadata": {
        "id": "IyRpU8_qT4Xs",
        "colab_type": "code",
        "outputId": "6803e8ac-86fa-422b-85a1-7997e23a9a31",
        "colab": {
          "base_uri": "https://localhost:8080/",
          "height": 541
        }
      },
      "source": [
        "# Se muestran las características del DataFrame de test\n",
        "display(X_test.info())\n",
        "display(X_test.head())"
      ],
      "execution_count": 11,
      "outputs": [
        {
          "output_type": "stream",
          "text": [
            "<class 'pandas.core.frame.DataFrame'>\n",
            "Int64Index: 418 entries, 892 to 1309\n",
            "Data columns (total 10 columns):\n",
            " #   Column    Non-Null Count  Dtype  \n",
            "---  ------    --------------  -----  \n",
            " 0   Pclass    418 non-null    int64  \n",
            " 1   Name      418 non-null    object \n",
            " 2   Sex       418 non-null    object \n",
            " 3   Age       332 non-null    float64\n",
            " 4   SibSp     418 non-null    int64  \n",
            " 5   Parch     418 non-null    int64  \n",
            " 6   Ticket    418 non-null    object \n",
            " 7   Fare      417 non-null    float64\n",
            " 8   Cabin     91 non-null     object \n",
            " 9   Embarked  418 non-null    object \n",
            "dtypes: float64(2), int64(3), object(5)\n",
            "memory usage: 35.9+ KB\n"
          ],
          "name": "stdout"
        },
        {
          "output_type": "display_data",
          "data": {
            "text/plain": [
              "None"
            ]
          },
          "metadata": {
            "tags": []
          }
        },
        {
          "output_type": "display_data",
          "data": {
            "text/html": [
              "<div>\n",
              "<style scoped>\n",
              "    .dataframe tbody tr th:only-of-type {\n",
              "        vertical-align: middle;\n",
              "    }\n",
              "\n",
              "    .dataframe tbody tr th {\n",
              "        vertical-align: top;\n",
              "    }\n",
              "\n",
              "    .dataframe thead th {\n",
              "        text-align: right;\n",
              "    }\n",
              "</style>\n",
              "<table border=\"1\" class=\"dataframe\">\n",
              "  <thead>\n",
              "    <tr style=\"text-align: right;\">\n",
              "      <th></th>\n",
              "      <th>Pclass</th>\n",
              "      <th>Name</th>\n",
              "      <th>Sex</th>\n",
              "      <th>Age</th>\n",
              "      <th>SibSp</th>\n",
              "      <th>Parch</th>\n",
              "      <th>Ticket</th>\n",
              "      <th>Fare</th>\n",
              "      <th>Cabin</th>\n",
              "      <th>Embarked</th>\n",
              "    </tr>\n",
              "    <tr>\n",
              "      <th>PassengerId</th>\n",
              "      <th></th>\n",
              "      <th></th>\n",
              "      <th></th>\n",
              "      <th></th>\n",
              "      <th></th>\n",
              "      <th></th>\n",
              "      <th></th>\n",
              "      <th></th>\n",
              "      <th></th>\n",
              "      <th></th>\n",
              "    </tr>\n",
              "  </thead>\n",
              "  <tbody>\n",
              "    <tr>\n",
              "      <th>892</th>\n",
              "      <td>3</td>\n",
              "      <td>Kelly, Mr. James</td>\n",
              "      <td>male</td>\n",
              "      <td>34.5</td>\n",
              "      <td>0</td>\n",
              "      <td>0</td>\n",
              "      <td>330911</td>\n",
              "      <td>7.8292</td>\n",
              "      <td>NaN</td>\n",
              "      <td>Q</td>\n",
              "    </tr>\n",
              "    <tr>\n",
              "      <th>893</th>\n",
              "      <td>3</td>\n",
              "      <td>Wilkes, Mrs. James (Ellen Needs)</td>\n",
              "      <td>female</td>\n",
              "      <td>47.0</td>\n",
              "      <td>1</td>\n",
              "      <td>0</td>\n",
              "      <td>363272</td>\n",
              "      <td>7.0000</td>\n",
              "      <td>NaN</td>\n",
              "      <td>S</td>\n",
              "    </tr>\n",
              "    <tr>\n",
              "      <th>894</th>\n",
              "      <td>2</td>\n",
              "      <td>Myles, Mr. Thomas Francis</td>\n",
              "      <td>male</td>\n",
              "      <td>62.0</td>\n",
              "      <td>0</td>\n",
              "      <td>0</td>\n",
              "      <td>240276</td>\n",
              "      <td>9.6875</td>\n",
              "      <td>NaN</td>\n",
              "      <td>Q</td>\n",
              "    </tr>\n",
              "    <tr>\n",
              "      <th>895</th>\n",
              "      <td>3</td>\n",
              "      <td>Wirz, Mr. Albert</td>\n",
              "      <td>male</td>\n",
              "      <td>27.0</td>\n",
              "      <td>0</td>\n",
              "      <td>0</td>\n",
              "      <td>315154</td>\n",
              "      <td>8.6625</td>\n",
              "      <td>NaN</td>\n",
              "      <td>S</td>\n",
              "    </tr>\n",
              "    <tr>\n",
              "      <th>896</th>\n",
              "      <td>3</td>\n",
              "      <td>Hirvonen, Mrs. Alexander (Helga E Lindqvist)</td>\n",
              "      <td>female</td>\n",
              "      <td>22.0</td>\n",
              "      <td>1</td>\n",
              "      <td>1</td>\n",
              "      <td>3101298</td>\n",
              "      <td>12.2875</td>\n",
              "      <td>NaN</td>\n",
              "      <td>S</td>\n",
              "    </tr>\n",
              "  </tbody>\n",
              "</table>\n",
              "</div>"
            ],
            "text/plain": [
              "             Pclass  ... Embarked\n",
              "PassengerId          ...         \n",
              "892               3  ...        Q\n",
              "893               3  ...        S\n",
              "894               2  ...        Q\n",
              "895               3  ...        S\n",
              "896               3  ...        S\n",
              "\n",
              "[5 rows x 10 columns]"
            ]
          },
          "metadata": {
            "tags": []
          }
        }
      ]
    },
    {
      "cell_type": "markdown",
      "metadata": {
        "id": "A277m6ABwqpB",
        "colab_type": "text"
      },
      "source": [
        "# Limpieza de datos"
      ]
    },
    {
      "cell_type": "markdown",
      "metadata": {
        "id": "GZvYibYSw5WP",
        "colab_type": "text"
      },
      "source": [
        "## Extraer nuevas carcaterísticas"
      ]
    },
    {
      "cell_type": "code",
      "metadata": {
        "id": "sNnx4_uh_fi_",
        "colab_type": "code",
        "colab": {}
      },
      "source": [
        "# Se define una función para convertir una variable a categórica\n",
        "def factorize_feature(X, feature):\n",
        "  # Se convierte la característica en un variable categórica\n",
        "  # identificada con un número entero\n",
        "  X[feature], _list = pd.factorize(X[feature])\n",
        "\n",
        "  # No interesa imputar los posibles valores perdidos con el valor -1,\n",
        "  # por lo que se subtituye el valor -1 por NaN\n",
        "  X_train[feature] = X[feature].replace(-1, np.nan)\n",
        "\n",
        "  # Se define un diccionario con el identificador de la categoria y su valor\n",
        "  _dict = {k:int(v) for v, k in enumerate(_list)}\n",
        "  print(_dict)\n",
        "\n",
        "  # Se devuelve el diccionario\n",
        "  return X, _dict"
      ],
      "execution_count": 0,
      "outputs": []
    },
    {
      "cell_type": "code",
      "metadata": {
        "id": "PaWiLL6ew-x-",
        "colab_type": "code",
        "outputId": "56027529-b622-4fab-9d60-8fb1786ef686",
        "colab": {
          "base_uri": "https://localhost:8080/",
          "height": 54
        }
      },
      "source": [
        "# Para el DataFrame de entrenamiento\n",
        "# Se genera una nueva característica 'Title' a partir de la extracción \n",
        "# de parte de los caractéres de la característica 'Name'\n",
        "X_train['Title'] = X_train['Name'].str.extract('([A-Za-z]+)\\.')\n",
        "\n",
        "# Se convierte la características 'Title'\n",
        "# en variables categóricas identificada con un número entero\n",
        "X_train, title = factorize_feature(X_train, 'Title')"
      ],
      "execution_count": 13,
      "outputs": [
        {
          "output_type": "stream",
          "text": [
            "{'Mr': 0, 'Mrs': 1, 'Miss': 2, 'Master': 3, 'Don': 4, 'Rev': 5, 'Dr': 6, 'Mme': 7, 'Ms': 8, 'Major': 9, 'Lady': 10, 'Sir': 11, 'Mlle': 12, 'Col': 13, 'Capt': 14, 'Countess': 15, 'Jonkheer': 16}\n"
          ],
          "name": "stdout"
        }
      ]
    },
    {
      "cell_type": "code",
      "metadata": {
        "id": "dI66Zbpwxg13",
        "colab_type": "code",
        "outputId": "f96d8436-9b37-4615-a5aa-3edd2669327e",
        "colab": {
          "base_uri": "https://localhost:8080/",
          "height": 558
        }
      },
      "source": [
        "# Se muestran las características del DataFrame de entrenamiento\n",
        "display(X_train.info())\n",
        "display(X_train.head())"
      ],
      "execution_count": 14,
      "outputs": [
        {
          "output_type": "stream",
          "text": [
            "<class 'pandas.core.frame.DataFrame'>\n",
            "Int64Index: 891 entries, 1 to 891\n",
            "Data columns (total 11 columns):\n",
            " #   Column    Non-Null Count  Dtype  \n",
            "---  ------    --------------  -----  \n",
            " 0   Pclass    891 non-null    int64  \n",
            " 1   Name      891 non-null    object \n",
            " 2   Sex       891 non-null    object \n",
            " 3   Age       714 non-null    float64\n",
            " 4   SibSp     891 non-null    int64  \n",
            " 5   Parch     891 non-null    int64  \n",
            " 6   Ticket    891 non-null    object \n",
            " 7   Fare      891 non-null    float64\n",
            " 8   Cabin     204 non-null    object \n",
            " 9   Embarked  889 non-null    object \n",
            " 10  Title     891 non-null    int64  \n",
            "dtypes: float64(2), int64(4), object(5)\n",
            "memory usage: 83.5+ KB\n"
          ],
          "name": "stdout"
        },
        {
          "output_type": "display_data",
          "data": {
            "text/plain": [
              "None"
            ]
          },
          "metadata": {
            "tags": []
          }
        },
        {
          "output_type": "display_data",
          "data": {
            "text/html": [
              "<div>\n",
              "<style scoped>\n",
              "    .dataframe tbody tr th:only-of-type {\n",
              "        vertical-align: middle;\n",
              "    }\n",
              "\n",
              "    .dataframe tbody tr th {\n",
              "        vertical-align: top;\n",
              "    }\n",
              "\n",
              "    .dataframe thead th {\n",
              "        text-align: right;\n",
              "    }\n",
              "</style>\n",
              "<table border=\"1\" class=\"dataframe\">\n",
              "  <thead>\n",
              "    <tr style=\"text-align: right;\">\n",
              "      <th></th>\n",
              "      <th>Pclass</th>\n",
              "      <th>Name</th>\n",
              "      <th>Sex</th>\n",
              "      <th>Age</th>\n",
              "      <th>SibSp</th>\n",
              "      <th>Parch</th>\n",
              "      <th>Ticket</th>\n",
              "      <th>Fare</th>\n",
              "      <th>Cabin</th>\n",
              "      <th>Embarked</th>\n",
              "      <th>Title</th>\n",
              "    </tr>\n",
              "    <tr>\n",
              "      <th>PassengerId</th>\n",
              "      <th></th>\n",
              "      <th></th>\n",
              "      <th></th>\n",
              "      <th></th>\n",
              "      <th></th>\n",
              "      <th></th>\n",
              "      <th></th>\n",
              "      <th></th>\n",
              "      <th></th>\n",
              "      <th></th>\n",
              "      <th></th>\n",
              "    </tr>\n",
              "  </thead>\n",
              "  <tbody>\n",
              "    <tr>\n",
              "      <th>1</th>\n",
              "      <td>3</td>\n",
              "      <td>Braund, Mr. Owen Harris</td>\n",
              "      <td>male</td>\n",
              "      <td>22.0</td>\n",
              "      <td>1</td>\n",
              "      <td>0</td>\n",
              "      <td>A/5 21171</td>\n",
              "      <td>7.2500</td>\n",
              "      <td>NaN</td>\n",
              "      <td>S</td>\n",
              "      <td>0</td>\n",
              "    </tr>\n",
              "    <tr>\n",
              "      <th>2</th>\n",
              "      <td>1</td>\n",
              "      <td>Cumings, Mrs. John Bradley (Florence Briggs Th...</td>\n",
              "      <td>female</td>\n",
              "      <td>38.0</td>\n",
              "      <td>1</td>\n",
              "      <td>0</td>\n",
              "      <td>PC 17599</td>\n",
              "      <td>71.2833</td>\n",
              "      <td>C85</td>\n",
              "      <td>C</td>\n",
              "      <td>1</td>\n",
              "    </tr>\n",
              "    <tr>\n",
              "      <th>3</th>\n",
              "      <td>3</td>\n",
              "      <td>Heikkinen, Miss. Laina</td>\n",
              "      <td>female</td>\n",
              "      <td>26.0</td>\n",
              "      <td>0</td>\n",
              "      <td>0</td>\n",
              "      <td>STON/O2. 3101282</td>\n",
              "      <td>7.9250</td>\n",
              "      <td>NaN</td>\n",
              "      <td>S</td>\n",
              "      <td>2</td>\n",
              "    </tr>\n",
              "    <tr>\n",
              "      <th>4</th>\n",
              "      <td>1</td>\n",
              "      <td>Futrelle, Mrs. Jacques Heath (Lily May Peel)</td>\n",
              "      <td>female</td>\n",
              "      <td>35.0</td>\n",
              "      <td>1</td>\n",
              "      <td>0</td>\n",
              "      <td>113803</td>\n",
              "      <td>53.1000</td>\n",
              "      <td>C123</td>\n",
              "      <td>S</td>\n",
              "      <td>1</td>\n",
              "    </tr>\n",
              "    <tr>\n",
              "      <th>5</th>\n",
              "      <td>3</td>\n",
              "      <td>Allen, Mr. William Henry</td>\n",
              "      <td>male</td>\n",
              "      <td>35.0</td>\n",
              "      <td>0</td>\n",
              "      <td>0</td>\n",
              "      <td>373450</td>\n",
              "      <td>8.0500</td>\n",
              "      <td>NaN</td>\n",
              "      <td>S</td>\n",
              "      <td>0</td>\n",
              "    </tr>\n",
              "  </tbody>\n",
              "</table>\n",
              "</div>"
            ],
            "text/plain": [
              "             Pclass  ... Title\n",
              "PassengerId          ...      \n",
              "1                 3  ...     0\n",
              "2                 1  ...     1\n",
              "3                 3  ...     2\n",
              "4                 1  ...     1\n",
              "5                 3  ...     0\n",
              "\n",
              "[5 rows x 11 columns]"
            ]
          },
          "metadata": {
            "tags": []
          }
        }
      ]
    },
    {
      "cell_type": "code",
      "metadata": {
        "id": "vkVLvq_i0MX2",
        "colab_type": "code",
        "colab": {}
      },
      "source": [
        "# Para el DataFrame de test\n",
        "# Se genera una nueva característica 'Title' a partir de la extracción \n",
        "X_test['Title'] = X_test['Name'].str.extract('([A-Za-z]+)\\.')\n",
        "\n",
        "# Se convierte la característica 'Title' en un variable categórica\n",
        "# utilizando las categorías de la variable 'Title' del DataFrame de entrenamiento,\n",
        "# a partir del diccionario generado\n",
        "X_test['Title'] = X_test['Title'].map(title)"
      ],
      "execution_count": 0,
      "outputs": []
    },
    {
      "cell_type": "code",
      "metadata": {
        "id": "M7cMkyyi0fqw",
        "colab_type": "code",
        "outputId": "2676d49c-12ad-41fa-9ece-c873e090425f",
        "colab": {
          "base_uri": "https://localhost:8080/",
          "height": 558
        }
      },
      "source": [
        "# Se muestran las características del DataFrame de test\n",
        "display(X_test.info())\n",
        "display(X_test.head())"
      ],
      "execution_count": 16,
      "outputs": [
        {
          "output_type": "stream",
          "text": [
            "<class 'pandas.core.frame.DataFrame'>\n",
            "Int64Index: 418 entries, 892 to 1309\n",
            "Data columns (total 11 columns):\n",
            " #   Column    Non-Null Count  Dtype  \n",
            "---  ------    --------------  -----  \n",
            " 0   Pclass    418 non-null    int64  \n",
            " 1   Name      418 non-null    object \n",
            " 2   Sex       418 non-null    object \n",
            " 3   Age       332 non-null    float64\n",
            " 4   SibSp     418 non-null    int64  \n",
            " 5   Parch     418 non-null    int64  \n",
            " 6   Ticket    418 non-null    object \n",
            " 7   Fare      417 non-null    float64\n",
            " 8   Cabin     91 non-null     object \n",
            " 9   Embarked  418 non-null    object \n",
            " 10  Title     417 non-null    float64\n",
            "dtypes: float64(3), int64(3), object(5)\n",
            "memory usage: 39.2+ KB\n"
          ],
          "name": "stdout"
        },
        {
          "output_type": "display_data",
          "data": {
            "text/plain": [
              "None"
            ]
          },
          "metadata": {
            "tags": []
          }
        },
        {
          "output_type": "display_data",
          "data": {
            "text/html": [
              "<div>\n",
              "<style scoped>\n",
              "    .dataframe tbody tr th:only-of-type {\n",
              "        vertical-align: middle;\n",
              "    }\n",
              "\n",
              "    .dataframe tbody tr th {\n",
              "        vertical-align: top;\n",
              "    }\n",
              "\n",
              "    .dataframe thead th {\n",
              "        text-align: right;\n",
              "    }\n",
              "</style>\n",
              "<table border=\"1\" class=\"dataframe\">\n",
              "  <thead>\n",
              "    <tr style=\"text-align: right;\">\n",
              "      <th></th>\n",
              "      <th>Pclass</th>\n",
              "      <th>Name</th>\n",
              "      <th>Sex</th>\n",
              "      <th>Age</th>\n",
              "      <th>SibSp</th>\n",
              "      <th>Parch</th>\n",
              "      <th>Ticket</th>\n",
              "      <th>Fare</th>\n",
              "      <th>Cabin</th>\n",
              "      <th>Embarked</th>\n",
              "      <th>Title</th>\n",
              "    </tr>\n",
              "    <tr>\n",
              "      <th>PassengerId</th>\n",
              "      <th></th>\n",
              "      <th></th>\n",
              "      <th></th>\n",
              "      <th></th>\n",
              "      <th></th>\n",
              "      <th></th>\n",
              "      <th></th>\n",
              "      <th></th>\n",
              "      <th></th>\n",
              "      <th></th>\n",
              "      <th></th>\n",
              "    </tr>\n",
              "  </thead>\n",
              "  <tbody>\n",
              "    <tr>\n",
              "      <th>892</th>\n",
              "      <td>3</td>\n",
              "      <td>Kelly, Mr. James</td>\n",
              "      <td>male</td>\n",
              "      <td>34.5</td>\n",
              "      <td>0</td>\n",
              "      <td>0</td>\n",
              "      <td>330911</td>\n",
              "      <td>7.8292</td>\n",
              "      <td>NaN</td>\n",
              "      <td>Q</td>\n",
              "      <td>0.0</td>\n",
              "    </tr>\n",
              "    <tr>\n",
              "      <th>893</th>\n",
              "      <td>3</td>\n",
              "      <td>Wilkes, Mrs. James (Ellen Needs)</td>\n",
              "      <td>female</td>\n",
              "      <td>47.0</td>\n",
              "      <td>1</td>\n",
              "      <td>0</td>\n",
              "      <td>363272</td>\n",
              "      <td>7.0000</td>\n",
              "      <td>NaN</td>\n",
              "      <td>S</td>\n",
              "      <td>1.0</td>\n",
              "    </tr>\n",
              "    <tr>\n",
              "      <th>894</th>\n",
              "      <td>2</td>\n",
              "      <td>Myles, Mr. Thomas Francis</td>\n",
              "      <td>male</td>\n",
              "      <td>62.0</td>\n",
              "      <td>0</td>\n",
              "      <td>0</td>\n",
              "      <td>240276</td>\n",
              "      <td>9.6875</td>\n",
              "      <td>NaN</td>\n",
              "      <td>Q</td>\n",
              "      <td>0.0</td>\n",
              "    </tr>\n",
              "    <tr>\n",
              "      <th>895</th>\n",
              "      <td>3</td>\n",
              "      <td>Wirz, Mr. Albert</td>\n",
              "      <td>male</td>\n",
              "      <td>27.0</td>\n",
              "      <td>0</td>\n",
              "      <td>0</td>\n",
              "      <td>315154</td>\n",
              "      <td>8.6625</td>\n",
              "      <td>NaN</td>\n",
              "      <td>S</td>\n",
              "      <td>0.0</td>\n",
              "    </tr>\n",
              "    <tr>\n",
              "      <th>896</th>\n",
              "      <td>3</td>\n",
              "      <td>Hirvonen, Mrs. Alexander (Helga E Lindqvist)</td>\n",
              "      <td>female</td>\n",
              "      <td>22.0</td>\n",
              "      <td>1</td>\n",
              "      <td>1</td>\n",
              "      <td>3101298</td>\n",
              "      <td>12.2875</td>\n",
              "      <td>NaN</td>\n",
              "      <td>S</td>\n",
              "      <td>1.0</td>\n",
              "    </tr>\n",
              "  </tbody>\n",
              "</table>\n",
              "</div>"
            ],
            "text/plain": [
              "             Pclass  ... Title\n",
              "PassengerId          ...      \n",
              "892               3  ...   0.0\n",
              "893               3  ...   1.0\n",
              "894               2  ...   0.0\n",
              "895               3  ...   0.0\n",
              "896               3  ...   1.0\n",
              "\n",
              "[5 rows x 11 columns]"
            ]
          },
          "metadata": {
            "tags": []
          }
        }
      ]
    },
    {
      "cell_type": "markdown",
      "metadata": {
        "id": "vhUuoDkV6YA2",
        "colab_type": "text"
      },
      "source": [
        "## Eliminación de características"
      ]
    },
    {
      "cell_type": "code",
      "metadata": {
        "id": "B_xa0V4-wwxB",
        "colab_type": "code",
        "outputId": "7da23d89-40a5-4f00-a64c-bdb36bee769b",
        "colab": {
          "base_uri": "https://localhost:8080/",
          "height": 289
        }
      },
      "source": [
        "# Se eliminan del DataFrame de entrenamiento las características que no son necesarias\n",
        "X_train = X_train.drop(columns=['Name', 'Ticket', 'Cabin'])\n",
        "\n",
        "# Se muestran las características del DataFrame de entrenamiento\n",
        "display(X_train.info())"
      ],
      "execution_count": 17,
      "outputs": [
        {
          "output_type": "stream",
          "text": [
            "<class 'pandas.core.frame.DataFrame'>\n",
            "Int64Index: 891 entries, 1 to 891\n",
            "Data columns (total 8 columns):\n",
            " #   Column    Non-Null Count  Dtype  \n",
            "---  ------    --------------  -----  \n",
            " 0   Pclass    891 non-null    int64  \n",
            " 1   Sex       891 non-null    object \n",
            " 2   Age       714 non-null    float64\n",
            " 3   SibSp     891 non-null    int64  \n",
            " 4   Parch     891 non-null    int64  \n",
            " 5   Fare      891 non-null    float64\n",
            " 6   Embarked  889 non-null    object \n",
            " 7   Title     891 non-null    int64  \n",
            "dtypes: float64(2), int64(4), object(2)\n",
            "memory usage: 62.6+ KB\n"
          ],
          "name": "stdout"
        },
        {
          "output_type": "display_data",
          "data": {
            "text/plain": [
              "None"
            ]
          },
          "metadata": {
            "tags": []
          }
        }
      ]
    },
    {
      "cell_type": "code",
      "metadata": {
        "id": "jVP3qnTC3SZT",
        "colab_type": "code",
        "outputId": "98f9a66b-6056-4a2a-f83c-1a0569dedc5b",
        "colab": {
          "base_uri": "https://localhost:8080/",
          "height": 289
        }
      },
      "source": [
        "# Se eliminan del DataFrame de test las características que no son necesarias\n",
        "X_test = X_test.drop(columns=['Name', 'Ticket', 'Cabin'])\n",
        "\n",
        "# Se muestran las características del DataFrame de test\n",
        "display(X_test.info())"
      ],
      "execution_count": 18,
      "outputs": [
        {
          "output_type": "stream",
          "text": [
            "<class 'pandas.core.frame.DataFrame'>\n",
            "Int64Index: 418 entries, 892 to 1309\n",
            "Data columns (total 8 columns):\n",
            " #   Column    Non-Null Count  Dtype  \n",
            "---  ------    --------------  -----  \n",
            " 0   Pclass    418 non-null    int64  \n",
            " 1   Sex       418 non-null    object \n",
            " 2   Age       332 non-null    float64\n",
            " 3   SibSp     418 non-null    int64  \n",
            " 4   Parch     418 non-null    int64  \n",
            " 5   Fare      417 non-null    float64\n",
            " 6   Embarked  418 non-null    object \n",
            " 7   Title     417 non-null    float64\n",
            "dtypes: float64(3), int64(3), object(2)\n",
            "memory usage: 29.4+ KB\n"
          ],
          "name": "stdout"
        },
        {
          "output_type": "display_data",
          "data": {
            "text/plain": [
              "None"
            ]
          },
          "metadata": {
            "tags": []
          }
        }
      ]
    },
    {
      "cell_type": "markdown",
      "metadata": {
        "id": "8fOTZ6Wr5iju",
        "colab_type": "text"
      },
      "source": [
        "## Factorizar características"
      ]
    },
    {
      "cell_type": "code",
      "metadata": {
        "id": "qbRWK0jKwtao",
        "colab_type": "code",
        "outputId": "7af8c175-dac2-4209-dabd-eda3454c7b1c",
        "colab": {
          "base_uri": "https://localhost:8080/",
          "height": 51
        }
      },
      "source": [
        "# Para el DataFrame de entrenamiento\n",
        "# Se convierten las características 'Sex' y 'Embarked' \n",
        "# en variables categóricas\n",
        "X_train, sex = factorize_feature(X_train, 'Sex')\n",
        "X_train, embarked = factorize_feature(X_train, 'Embarked')"
      ],
      "execution_count": 19,
      "outputs": [
        {
          "output_type": "stream",
          "text": [
            "{'male': 0, 'female': 1}\n",
            "{'S': 0, 'C': 1, 'Q': 2}\n"
          ],
          "name": "stdout"
        }
      ]
    },
    {
      "cell_type": "code",
      "metadata": {
        "id": "ZOD6MvbH4w7c",
        "colab_type": "code",
        "outputId": "540a9175-2e27-4502-f539-fd607ded26e2",
        "colab": {
          "base_uri": "https://localhost:8080/",
          "height": 507
        }
      },
      "source": [
        "# Se muestran las características del DataFrame de entrenamiento\n",
        "display(X_train.info())\n",
        "display(X_train.head())"
      ],
      "execution_count": 20,
      "outputs": [
        {
          "output_type": "stream",
          "text": [
            "<class 'pandas.core.frame.DataFrame'>\n",
            "Int64Index: 891 entries, 1 to 891\n",
            "Data columns (total 8 columns):\n",
            " #   Column    Non-Null Count  Dtype  \n",
            "---  ------    --------------  -----  \n",
            " 0   Pclass    891 non-null    int64  \n",
            " 1   Sex       891 non-null    int64  \n",
            " 2   Age       714 non-null    float64\n",
            " 3   SibSp     891 non-null    int64  \n",
            " 4   Parch     891 non-null    int64  \n",
            " 5   Fare      891 non-null    float64\n",
            " 6   Embarked  889 non-null    float64\n",
            " 7   Title     891 non-null    int64  \n",
            "dtypes: float64(3), int64(5)\n",
            "memory usage: 62.6 KB\n"
          ],
          "name": "stdout"
        },
        {
          "output_type": "display_data",
          "data": {
            "text/plain": [
              "None"
            ]
          },
          "metadata": {
            "tags": []
          }
        },
        {
          "output_type": "display_data",
          "data": {
            "text/html": [
              "<div>\n",
              "<style scoped>\n",
              "    .dataframe tbody tr th:only-of-type {\n",
              "        vertical-align: middle;\n",
              "    }\n",
              "\n",
              "    .dataframe tbody tr th {\n",
              "        vertical-align: top;\n",
              "    }\n",
              "\n",
              "    .dataframe thead th {\n",
              "        text-align: right;\n",
              "    }\n",
              "</style>\n",
              "<table border=\"1\" class=\"dataframe\">\n",
              "  <thead>\n",
              "    <tr style=\"text-align: right;\">\n",
              "      <th></th>\n",
              "      <th>Pclass</th>\n",
              "      <th>Sex</th>\n",
              "      <th>Age</th>\n",
              "      <th>SibSp</th>\n",
              "      <th>Parch</th>\n",
              "      <th>Fare</th>\n",
              "      <th>Embarked</th>\n",
              "      <th>Title</th>\n",
              "    </tr>\n",
              "    <tr>\n",
              "      <th>PassengerId</th>\n",
              "      <th></th>\n",
              "      <th></th>\n",
              "      <th></th>\n",
              "      <th></th>\n",
              "      <th></th>\n",
              "      <th></th>\n",
              "      <th></th>\n",
              "      <th></th>\n",
              "    </tr>\n",
              "  </thead>\n",
              "  <tbody>\n",
              "    <tr>\n",
              "      <th>1</th>\n",
              "      <td>3</td>\n",
              "      <td>0</td>\n",
              "      <td>22.0</td>\n",
              "      <td>1</td>\n",
              "      <td>0</td>\n",
              "      <td>7.2500</td>\n",
              "      <td>0.0</td>\n",
              "      <td>0</td>\n",
              "    </tr>\n",
              "    <tr>\n",
              "      <th>2</th>\n",
              "      <td>1</td>\n",
              "      <td>1</td>\n",
              "      <td>38.0</td>\n",
              "      <td>1</td>\n",
              "      <td>0</td>\n",
              "      <td>71.2833</td>\n",
              "      <td>1.0</td>\n",
              "      <td>1</td>\n",
              "    </tr>\n",
              "    <tr>\n",
              "      <th>3</th>\n",
              "      <td>3</td>\n",
              "      <td>1</td>\n",
              "      <td>26.0</td>\n",
              "      <td>0</td>\n",
              "      <td>0</td>\n",
              "      <td>7.9250</td>\n",
              "      <td>0.0</td>\n",
              "      <td>2</td>\n",
              "    </tr>\n",
              "    <tr>\n",
              "      <th>4</th>\n",
              "      <td>1</td>\n",
              "      <td>1</td>\n",
              "      <td>35.0</td>\n",
              "      <td>1</td>\n",
              "      <td>0</td>\n",
              "      <td>53.1000</td>\n",
              "      <td>0.0</td>\n",
              "      <td>1</td>\n",
              "    </tr>\n",
              "    <tr>\n",
              "      <th>5</th>\n",
              "      <td>3</td>\n",
              "      <td>0</td>\n",
              "      <td>35.0</td>\n",
              "      <td>0</td>\n",
              "      <td>0</td>\n",
              "      <td>8.0500</td>\n",
              "      <td>0.0</td>\n",
              "      <td>0</td>\n",
              "    </tr>\n",
              "  </tbody>\n",
              "</table>\n",
              "</div>"
            ],
            "text/plain": [
              "             Pclass  Sex   Age  SibSp  Parch     Fare  Embarked  Title\n",
              "PassengerId                                                           \n",
              "1                 3    0  22.0      1      0   7.2500       0.0      0\n",
              "2                 1    1  38.0      1      0  71.2833       1.0      1\n",
              "3                 3    1  26.0      0      0   7.9250       0.0      2\n",
              "4                 1    1  35.0      1      0  53.1000       0.0      1\n",
              "5                 3    0  35.0      0      0   8.0500       0.0      0"
            ]
          },
          "metadata": {
            "tags": []
          }
        }
      ]
    },
    {
      "cell_type": "code",
      "metadata": {
        "id": "qmYxETIr4a0g",
        "colab_type": "code",
        "colab": {}
      },
      "source": [
        "# Para el DataFrame de test\n",
        "# Se convierten las características 'Sex' y 'Embarked' en un variables categóricas\n",
        "# utilizando las categorías de las variables 'Sex' y 'Embarked' del DataFrame \n",
        "# de entrenamiento, a partir del diccionario generado\n",
        "X_test['Sex'] = X_test['Sex'].map(sex)\n",
        "X_test['Embarked'] = X_test['Embarked'].map(embarked)"
      ],
      "execution_count": 0,
      "outputs": []
    },
    {
      "cell_type": "code",
      "metadata": {
        "id": "8xhShqRef-Y3",
        "colab_type": "code",
        "outputId": "ae02498d-cb87-4735-f1ad-d33ba27ac5ee",
        "colab": {
          "base_uri": "https://localhost:8080/",
          "height": 507
        }
      },
      "source": [
        "# Se muestran las características del DataFrame de test\n",
        "display(X_test.info())\n",
        "display(X_test.head())"
      ],
      "execution_count": 22,
      "outputs": [
        {
          "output_type": "stream",
          "text": [
            "<class 'pandas.core.frame.DataFrame'>\n",
            "Int64Index: 418 entries, 892 to 1309\n",
            "Data columns (total 8 columns):\n",
            " #   Column    Non-Null Count  Dtype  \n",
            "---  ------    --------------  -----  \n",
            " 0   Pclass    418 non-null    int64  \n",
            " 1   Sex       418 non-null    int64  \n",
            " 2   Age       332 non-null    float64\n",
            " 3   SibSp     418 non-null    int64  \n",
            " 4   Parch     418 non-null    int64  \n",
            " 5   Fare      417 non-null    float64\n",
            " 6   Embarked  418 non-null    int64  \n",
            " 7   Title     417 non-null    float64\n",
            "dtypes: float64(3), int64(5)\n",
            "memory usage: 29.4 KB\n"
          ],
          "name": "stdout"
        },
        {
          "output_type": "display_data",
          "data": {
            "text/plain": [
              "None"
            ]
          },
          "metadata": {
            "tags": []
          }
        },
        {
          "output_type": "display_data",
          "data": {
            "text/html": [
              "<div>\n",
              "<style scoped>\n",
              "    .dataframe tbody tr th:only-of-type {\n",
              "        vertical-align: middle;\n",
              "    }\n",
              "\n",
              "    .dataframe tbody tr th {\n",
              "        vertical-align: top;\n",
              "    }\n",
              "\n",
              "    .dataframe thead th {\n",
              "        text-align: right;\n",
              "    }\n",
              "</style>\n",
              "<table border=\"1\" class=\"dataframe\">\n",
              "  <thead>\n",
              "    <tr style=\"text-align: right;\">\n",
              "      <th></th>\n",
              "      <th>Pclass</th>\n",
              "      <th>Sex</th>\n",
              "      <th>Age</th>\n",
              "      <th>SibSp</th>\n",
              "      <th>Parch</th>\n",
              "      <th>Fare</th>\n",
              "      <th>Embarked</th>\n",
              "      <th>Title</th>\n",
              "    </tr>\n",
              "    <tr>\n",
              "      <th>PassengerId</th>\n",
              "      <th></th>\n",
              "      <th></th>\n",
              "      <th></th>\n",
              "      <th></th>\n",
              "      <th></th>\n",
              "      <th></th>\n",
              "      <th></th>\n",
              "      <th></th>\n",
              "    </tr>\n",
              "  </thead>\n",
              "  <tbody>\n",
              "    <tr>\n",
              "      <th>892</th>\n",
              "      <td>3</td>\n",
              "      <td>0</td>\n",
              "      <td>34.5</td>\n",
              "      <td>0</td>\n",
              "      <td>0</td>\n",
              "      <td>7.8292</td>\n",
              "      <td>2</td>\n",
              "      <td>0.0</td>\n",
              "    </tr>\n",
              "    <tr>\n",
              "      <th>893</th>\n",
              "      <td>3</td>\n",
              "      <td>1</td>\n",
              "      <td>47.0</td>\n",
              "      <td>1</td>\n",
              "      <td>0</td>\n",
              "      <td>7.0000</td>\n",
              "      <td>0</td>\n",
              "      <td>1.0</td>\n",
              "    </tr>\n",
              "    <tr>\n",
              "      <th>894</th>\n",
              "      <td>2</td>\n",
              "      <td>0</td>\n",
              "      <td>62.0</td>\n",
              "      <td>0</td>\n",
              "      <td>0</td>\n",
              "      <td>9.6875</td>\n",
              "      <td>2</td>\n",
              "      <td>0.0</td>\n",
              "    </tr>\n",
              "    <tr>\n",
              "      <th>895</th>\n",
              "      <td>3</td>\n",
              "      <td>0</td>\n",
              "      <td>27.0</td>\n",
              "      <td>0</td>\n",
              "      <td>0</td>\n",
              "      <td>8.6625</td>\n",
              "      <td>0</td>\n",
              "      <td>0.0</td>\n",
              "    </tr>\n",
              "    <tr>\n",
              "      <th>896</th>\n",
              "      <td>3</td>\n",
              "      <td>1</td>\n",
              "      <td>22.0</td>\n",
              "      <td>1</td>\n",
              "      <td>1</td>\n",
              "      <td>12.2875</td>\n",
              "      <td>0</td>\n",
              "      <td>1.0</td>\n",
              "    </tr>\n",
              "  </tbody>\n",
              "</table>\n",
              "</div>"
            ],
            "text/plain": [
              "             Pclass  Sex   Age  SibSp  Parch     Fare  Embarked  Title\n",
              "PassengerId                                                           \n",
              "892               3    0  34.5      0      0   7.8292         2    0.0\n",
              "893               3    1  47.0      1      0   7.0000         0    1.0\n",
              "894               2    0  62.0      0      0   9.6875         2    0.0\n",
              "895               3    0  27.0      0      0   8.6625         0    0.0\n",
              "896               3    1  22.0      1      1  12.2875         0    1.0"
            ]
          },
          "metadata": {
            "tags": []
          }
        }
      ]
    },
    {
      "cell_type": "markdown",
      "metadata": {
        "id": "8LKjD6vu9e-h",
        "colab_type": "text"
      },
      "source": [
        "## Valores extremos"
      ]
    },
    {
      "cell_type": "code",
      "metadata": {
        "id": "8FVZdfxuH7Gw",
        "colab_type": "code",
        "colab": {}
      },
      "source": [
        "# Se define una función para elminar valores extremos\n",
        "def remove_outliers(X, feature, qmin, qmax):\n",
        "  X.loc[~X[feature].between(qmin, qmax), feature] = np.nan\n",
        "  return X"
      ],
      "execution_count": 0,
      "outputs": []
    },
    {
      "cell_type": "code",
      "metadata": {
        "id": "gxIQnqrqOa37",
        "colab_type": "code",
        "colab": {
          "base_uri": "https://localhost:8080/",
          "height": 279
        },
        "outputId": "3e348977-8394-4793-c2d9-4b58ab3c2b94"
      },
      "source": [
        "# El análisis de outliers solo tiene sentido para variables continuas\n",
        "# Se muestra una boxplot de la variable 'Age' para el DataFrame de entrenamiento\n",
        "plot = sns.boxplot(X_train['Age']);"
      ],
      "execution_count": 24,
      "outputs": [
        {
          "output_type": "display_data",
          "data": {
            "image/png": "[encoded data removed]",
            "text/plain": [
              "<Figure size 432x288 with 1 Axes>"
            ]
          },
          "metadata": {
            "tags": [],
            "needs_background": "light"
          }
        }
      ]
    },
    {
      "cell_type": "code",
      "metadata": {
        "id": "emGp9JVNOkFV",
        "colab_type": "code",
        "colab": {
          "base_uri": "https://localhost:8080/",
          "height": 279
        },
        "outputId": "0f0b2e96-4151-493f-9ecb-1440b233e32c"
      },
      "source": [
        "# Se muestra una boxplot de la variable 'Age' para el DataFrame de test\n",
        "plot = sns.boxplot(X_test['Age']);"
      ],
      "execution_count": 25,
      "outputs": [
        {
          "output_type": "display_data",
          "data": {
            "image/png": "[encoded data removed]",
            "text/plain": [
              "<Figure size 432x288 with 1 Axes>"
            ]
          },
          "metadata": {
            "tags": [],
            "needs_background": "light"
          }
        }
      ]
    },
    {
      "cell_type": "code",
      "metadata": {
        "id": "WCK2ZvcXOpKm",
        "colab_type": "code",
        "colab": {}
      },
      "source": [
        "if remove_outilers_quantile > 0:\n",
        "  # Se eliminan/reduce el número de los valore extremos\n",
        "  qmin = X_train['Age'].quantile(remove_outilers_quantile)\n",
        "  qmax = X_train['Age'].quantile(1 - remove_outilers_quantile)\n",
        "  X_train = remove_outliers(X_train, 'Age', qmin, qmax)\n",
        "  X_test = remove_outliers(X_test, 'Age', qmin, qmax)"
      ],
      "execution_count": 0,
      "outputs": []
    },
    {
      "cell_type": "code",
      "metadata": {
        "id": "1qwIMuXiO8KR",
        "colab_type": "code",
        "colab": {
          "base_uri": "https://localhost:8080/",
          "height": 279
        },
        "outputId": "b9658074-5a3e-45a2-c800-ac991eb98fca"
      },
      "source": [
        "if remove_outilers_quantile > 0:\n",
        "  # Se muestra una boxplot de la variable 'Age' para el DataFrame de entrenamiento\n",
        "  plot = sns.boxplot(X_train['Age']);"
      ],
      "execution_count": 27,
      "outputs": [
        {
          "output_type": "display_data",
          "data": {
            "image/png": "[encoded data removed]",
            "text/plain": [
              "<Figure size 432x288 with 1 Axes>"
            ]
          },
          "metadata": {
            "tags": [],
            "needs_background": "light"
          }
        }
      ]
    },
    {
      "cell_type": "code",
      "metadata": {
        "id": "BUsKxEziQBWM",
        "colab_type": "code",
        "colab": {
          "base_uri": "https://localhost:8080/",
          "height": 279
        },
        "outputId": "bfd24c76-4367-4539-ca72-126aac6f7611"
      },
      "source": [
        "if remove_outilers_quantile > 0:\n",
        "  # Se muestra una boxplot de la variable 'SibSp' para el DataFrame de test\n",
        "  plot = sns.boxplot(X_test['Age']);"
      ],
      "execution_count": 28,
      "outputs": [
        {
          "output_type": "display_data",
          "data": {
            "image/png": "[encoded data removed]",
            "text/plain": [
              "<Figure size 432x288 with 1 Axes>"
            ]
          },
          "metadata": {
            "tags": [],
            "needs_background": "light"
          }
        }
      ]
    },
    {
      "cell_type": "code",
      "metadata": {
        "id": "ZhDnso-kG0mX",
        "colab_type": "code",
        "colab": {
          "base_uri": "https://localhost:8080/",
          "height": 279
        },
        "outputId": "7c3be838-a4ca-4ddb-a052-0472f4bd0522"
      },
      "source": [
        "# Se muestra una boxplot de la variable 'SibSp' para el DataFrame de entrenamiento\n",
        "plot = sns.boxplot(X_train['Fare']);"
      ],
      "execution_count": 29,
      "outputs": [
        {
          "output_type": "display_data",
          "data": {
            "image/png": "[encoded data removed]",
            "text/plain": [
              "<Figure size 432x288 with 1 Axes>"
            ]
          },
          "metadata": {
            "tags": [],
            "needs_background": "light"
          }
        }
      ]
    },
    {
      "cell_type": "code",
      "metadata": {
        "id": "hgKlxYcLQHpw",
        "colab_type": "code",
        "colab": {
          "base_uri": "https://localhost:8080/",
          "height": 279
        },
        "outputId": "4c4e8f97-fbb2-4b61-81dc-70b860b8233d"
      },
      "source": [
        "# Se muestra una boxplot de la variable 'SibSp' para el DataFrame de test\n",
        "plot = sns.boxplot(X_test['Fare']);"
      ],
      "execution_count": 30,
      "outputs": [
        {
          "output_type": "display_data",
          "data": {
            "image/png": "[encoded data removed]",
            "text/plain": [
              "<Figure size 432x288 with 1 Axes>"
            ]
          },
          "metadata": {
            "tags": [],
            "needs_background": "light"
          }
        }
      ]
    },
    {
      "cell_type": "code",
      "metadata": {
        "id": "QrkDo_XQG4Od",
        "colab_type": "code",
        "colab": {}
      },
      "source": [
        "if remove_outilers_quantile > 0:\n",
        "  qmin = X_train['Fare'].quantile(remove_outilers_quantile)\n",
        "  qmax = X_train['Fare'].quantile(1 - remove_outilers_quantile)\n",
        "  X_train = remove_outliers(X_train, 'Fare', qmin, qmax)\n",
        "  X_test = remove_outliers(X_test, 'Fare', qmin, qmax)"
      ],
      "execution_count": 0,
      "outputs": []
    },
    {
      "cell_type": "code",
      "metadata": {
        "id": "exXgzP6SHGGB",
        "colab_type": "code",
        "colab": {
          "base_uri": "https://localhost:8080/",
          "height": 279
        },
        "outputId": "5b07631c-24ca-4e22-b348-e37370f04d52"
      },
      "source": [
        "if remove_outilers_quantile > 0:\n",
        "  # Se muestra una boxplot de la variable 'Parch' para el DataFrame de entrenamiento\n",
        "  plot = sns.boxplot(X_train['Fare']);"
      ],
      "execution_count": 32,
      "outputs": [
        {
          "output_type": "display_data",
          "data": {
            "image/png": "[encoded data removed]",
            "text/plain": [
              "<Figure size 432x288 with 1 Axes>"
            ]
          },
          "metadata": {
            "tags": [],
            "needs_background": "light"
          }
        }
      ]
    },
    {
      "cell_type": "code",
      "metadata": {
        "id": "PFvp9b5AQY-4",
        "colab_type": "code",
        "colab": {
          "base_uri": "https://localhost:8080/",
          "height": 279
        },
        "outputId": "c60de262-3643-4370-8fa7-5f38661bad59"
      },
      "source": [
        "if remove_outilers_quantile > 0:\n",
        "  # Se muestra una boxplot de la variable 'Parch' para el DataFrame de test\n",
        "  plot = sns.boxplot(X_test['Fare']);"
      ],
      "execution_count": 33,
      "outputs": [
        {
          "output_type": "display_data",
          "data": {
            "image/png": "[encoded data removed]",
            "text/plain": [
              "<Figure size 432x288 with 1 Axes>"
            ]
          },
          "metadata": {
            "tags": [],
            "needs_background": "light"
          }
        }
      ]
    },
    {
      "cell_type": "code",
      "metadata": {
        "id": "lpW_BTBQSZF5",
        "colab_type": "code",
        "colab": {
          "base_uri": "https://localhost:8080/",
          "height": 507
        },
        "outputId": "24c7bded-6a3a-4d42-d78e-ff5533d0b1ea"
      },
      "source": [
        "# Se muestran las características del DataFrame de entrenamiento\n",
        "display(X_train.info())\n",
        "display(X_train.head())"
      ],
      "execution_count": 34,
      "outputs": [
        {
          "output_type": "stream",
          "text": [
            "<class 'pandas.core.frame.DataFrame'>\n",
            "Int64Index: 891 entries, 1 to 891\n",
            "Data columns (total 8 columns):\n",
            " #   Column    Non-Null Count  Dtype  \n",
            "---  ------    --------------  -----  \n",
            " 0   Pclass    891 non-null    int64  \n",
            " 1   Sex       891 non-null    int64  \n",
            " 2   Age       511 non-null    float64\n",
            " 3   SibSp     891 non-null    int64  \n",
            " 4   Parch     891 non-null    int64  \n",
            " 5   Fare      656 non-null    float64\n",
            " 6   Embarked  889 non-null    float64\n",
            " 7   Title     891 non-null    int64  \n",
            "dtypes: float64(3), int64(5)\n",
            "memory usage: 62.6 KB\n"
          ],
          "name": "stdout"
        },
        {
          "output_type": "display_data",
          "data": {
            "text/plain": [
              "None"
            ]
          },
          "metadata": {
            "tags": []
          }
        },
        {
          "output_type": "display_data",
          "data": {
            "text/html": [
              "<div>\n",
              "<style scoped>\n",
              "    .dataframe tbody tr th:only-of-type {\n",
              "        vertical-align: middle;\n",
              "    }\n",
              "\n",
              "    .dataframe tbody tr th {\n",
              "        vertical-align: top;\n",
              "    }\n",
              "\n",
              "    .dataframe thead th {\n",
              "        text-align: right;\n",
              "    }\n",
              "</style>\n",
              "<table border=\"1\" class=\"dataframe\">\n",
              "  <thead>\n",
              "    <tr style=\"text-align: right;\">\n",
              "      <th></th>\n",
              "      <th>Pclass</th>\n",
              "      <th>Sex</th>\n",
              "      <th>Age</th>\n",
              "      <th>SibSp</th>\n",
              "      <th>Parch</th>\n",
              "      <th>Fare</th>\n",
              "      <th>Embarked</th>\n",
              "      <th>Title</th>\n",
              "    </tr>\n",
              "    <tr>\n",
              "      <th>PassengerId</th>\n",
              "      <th></th>\n",
              "      <th></th>\n",
              "      <th></th>\n",
              "      <th></th>\n",
              "      <th></th>\n",
              "      <th></th>\n",
              "      <th></th>\n",
              "      <th></th>\n",
              "    </tr>\n",
              "  </thead>\n",
              "  <tbody>\n",
              "    <tr>\n",
              "      <th>1</th>\n",
              "      <td>3</td>\n",
              "      <td>0</td>\n",
              "      <td>22.0</td>\n",
              "      <td>1</td>\n",
              "      <td>0</td>\n",
              "      <td>NaN</td>\n",
              "      <td>0.0</td>\n",
              "      <td>0</td>\n",
              "    </tr>\n",
              "    <tr>\n",
              "      <th>2</th>\n",
              "      <td>1</td>\n",
              "      <td>1</td>\n",
              "      <td>38.0</td>\n",
              "      <td>1</td>\n",
              "      <td>0</td>\n",
              "      <td>NaN</td>\n",
              "      <td>1.0</td>\n",
              "      <td>1</td>\n",
              "    </tr>\n",
              "    <tr>\n",
              "      <th>3</th>\n",
              "      <td>3</td>\n",
              "      <td>1</td>\n",
              "      <td>26.0</td>\n",
              "      <td>0</td>\n",
              "      <td>0</td>\n",
              "      <td>7.925</td>\n",
              "      <td>0.0</td>\n",
              "      <td>2</td>\n",
              "    </tr>\n",
              "    <tr>\n",
              "      <th>4</th>\n",
              "      <td>1</td>\n",
              "      <td>1</td>\n",
              "      <td>35.0</td>\n",
              "      <td>1</td>\n",
              "      <td>0</td>\n",
              "      <td>53.100</td>\n",
              "      <td>0.0</td>\n",
              "      <td>1</td>\n",
              "    </tr>\n",
              "    <tr>\n",
              "      <th>5</th>\n",
              "      <td>3</td>\n",
              "      <td>0</td>\n",
              "      <td>35.0</td>\n",
              "      <td>0</td>\n",
              "      <td>0</td>\n",
              "      <td>8.050</td>\n",
              "      <td>0.0</td>\n",
              "      <td>0</td>\n",
              "    </tr>\n",
              "  </tbody>\n",
              "</table>\n",
              "</div>"
            ],
            "text/plain": [
              "             Pclass  Sex   Age  SibSp  Parch    Fare  Embarked  Title\n",
              "PassengerId                                                          \n",
              "1                 3    0  22.0      1      0     NaN       0.0      0\n",
              "2                 1    1  38.0      1      0     NaN       1.0      1\n",
              "3                 3    1  26.0      0      0   7.925       0.0      2\n",
              "4                 1    1  35.0      1      0  53.100       0.0      1\n",
              "5                 3    0  35.0      0      0   8.050       0.0      0"
            ]
          },
          "metadata": {
            "tags": []
          }
        }
      ]
    },
    {
      "cell_type": "code",
      "metadata": {
        "id": "-DeXfFILSgly",
        "colab_type": "code",
        "colab": {
          "base_uri": "https://localhost:8080/",
          "height": 507
        },
        "outputId": "8cbb90e1-556c-4b6c-b596-a909b3cd2549"
      },
      "source": [
        "# Se muestran las características del DataFrame de test\n",
        "display(X_test.info())\n",
        "display(X_test.head())"
      ],
      "execution_count": 35,
      "outputs": [
        {
          "output_type": "stream",
          "text": [
            "<class 'pandas.core.frame.DataFrame'>\n",
            "Int64Index: 418 entries, 892 to 1309\n",
            "Data columns (total 8 columns):\n",
            " #   Column    Non-Null Count  Dtype  \n",
            "---  ------    --------------  -----  \n",
            " 0   Pclass    418 non-null    int64  \n",
            " 1   Sex       418 non-null    int64  \n",
            " 2   Age       246 non-null    float64\n",
            " 3   SibSp     418 non-null    int64  \n",
            " 4   Parch     418 non-null    int64  \n",
            " 5   Fare      299 non-null    float64\n",
            " 6   Embarked  418 non-null    int64  \n",
            " 7   Title     417 non-null    float64\n",
            "dtypes: float64(3), int64(5)\n",
            "memory usage: 29.4 KB\n"
          ],
          "name": "stdout"
        },
        {
          "output_type": "display_data",
          "data": {
            "text/plain": [
              "None"
            ]
          },
          "metadata": {
            "tags": []
          }
        },
        {
          "output_type": "display_data",
          "data": {
            "text/html": [
              "<div>\n",
              "<style scoped>\n",
              "    .dataframe tbody tr th:only-of-type {\n",
              "        vertical-align: middle;\n",
              "    }\n",
              "\n",
              "    .dataframe tbody tr th {\n",
              "        vertical-align: top;\n",
              "    }\n",
              "\n",
              "    .dataframe thead th {\n",
              "        text-align: right;\n",
              "    }\n",
              "</style>\n",
              "<table border=\"1\" class=\"dataframe\">\n",
              "  <thead>\n",
              "    <tr style=\"text-align: right;\">\n",
              "      <th></th>\n",
              "      <th>Pclass</th>\n",
              "      <th>Sex</th>\n",
              "      <th>Age</th>\n",
              "      <th>SibSp</th>\n",
              "      <th>Parch</th>\n",
              "      <th>Fare</th>\n",
              "      <th>Embarked</th>\n",
              "      <th>Title</th>\n",
              "    </tr>\n",
              "    <tr>\n",
              "      <th>PassengerId</th>\n",
              "      <th></th>\n",
              "      <th></th>\n",
              "      <th></th>\n",
              "      <th></th>\n",
              "      <th></th>\n",
              "      <th></th>\n",
              "      <th></th>\n",
              "      <th></th>\n",
              "    </tr>\n",
              "  </thead>\n",
              "  <tbody>\n",
              "    <tr>\n",
              "      <th>892</th>\n",
              "      <td>3</td>\n",
              "      <td>0</td>\n",
              "      <td>34.5</td>\n",
              "      <td>0</td>\n",
              "      <td>0</td>\n",
              "      <td>7.8292</td>\n",
              "      <td>2</td>\n",
              "      <td>0.0</td>\n",
              "    </tr>\n",
              "    <tr>\n",
              "      <th>893</th>\n",
              "      <td>3</td>\n",
              "      <td>1</td>\n",
              "      <td>NaN</td>\n",
              "      <td>1</td>\n",
              "      <td>0</td>\n",
              "      <td>NaN</td>\n",
              "      <td>0</td>\n",
              "      <td>1.0</td>\n",
              "    </tr>\n",
              "    <tr>\n",
              "      <th>894</th>\n",
              "      <td>2</td>\n",
              "      <td>0</td>\n",
              "      <td>NaN</td>\n",
              "      <td>0</td>\n",
              "      <td>0</td>\n",
              "      <td>9.6875</td>\n",
              "      <td>2</td>\n",
              "      <td>0.0</td>\n",
              "    </tr>\n",
              "    <tr>\n",
              "      <th>895</th>\n",
              "      <td>3</td>\n",
              "      <td>0</td>\n",
              "      <td>27.0</td>\n",
              "      <td>0</td>\n",
              "      <td>0</td>\n",
              "      <td>8.6625</td>\n",
              "      <td>0</td>\n",
              "      <td>0.0</td>\n",
              "    </tr>\n",
              "    <tr>\n",
              "      <th>896</th>\n",
              "      <td>3</td>\n",
              "      <td>1</td>\n",
              "      <td>22.0</td>\n",
              "      <td>1</td>\n",
              "      <td>1</td>\n",
              "      <td>12.2875</td>\n",
              "      <td>0</td>\n",
              "      <td>1.0</td>\n",
              "    </tr>\n",
              "  </tbody>\n",
              "</table>\n",
              "</div>"
            ],
            "text/plain": [
              "             Pclass  Sex   Age  SibSp  Parch     Fare  Embarked  Title\n",
              "PassengerId                                                           \n",
              "892               3    0  34.5      0      0   7.8292         2    0.0\n",
              "893               3    1   NaN      1      0      NaN         0    1.0\n",
              "894               2    0   NaN      0      0   9.6875         2    0.0\n",
              "895               3    0  27.0      0      0   8.6625         0    0.0\n",
              "896               3    1  22.0      1      1  12.2875         0    1.0"
            ]
          },
          "metadata": {
            "tags": []
          }
        }
      ]
    },
    {
      "cell_type": "markdown",
      "metadata": {
        "id": "h4Xmg8lVPBDl",
        "colab_type": "text"
      },
      "source": [
        "## Discretizar características"
      ]
    },
    {
      "cell_type": "code",
      "metadata": {
        "id": "0vALM8lrCn5N",
        "colab_type": "code",
        "colab": {}
      },
      "source": [
        "# Se define una función para convertir en categórica\n",
        "# una característica a partir de un diccionario con\n",
        "# el que mapear las categorías\n",
        "def map_discrete_categories(X, feature, _dict):\n",
        "  _list = []\n",
        "  for i, x in enumerate(list(X[feature])):\n",
        "    found = False\n",
        "    for k, v in _dict.items():\n",
        "      try:\n",
        "        if x in k:\n",
        "          _list.append(v)\n",
        "          found = True\n",
        "          break\n",
        "      except:\n",
        "        pass\n",
        "    if not found:\n",
        "      _list.append(np.nan)\n",
        "  X[feature] = _list\n",
        "  return X"
      ],
      "execution_count": 0,
      "outputs": []
    },
    {
      "cell_type": "code",
      "metadata": {
        "id": "-eUVy5LZgCw7",
        "colab_type": "code",
        "outputId": "b38b9b64-792a-437e-c065-08df1ea8189e",
        "colab": {
          "base_uri": "https://localhost:8080/",
          "height": 54
        }
      },
      "source": [
        "# Siempre que se decida discretizar la variable 'Age'\n",
        "if age_categories > 0:\n",
        "  # Se agrupan las muestras en categorías con el mismo número de muestras\n",
        "  # El número de categorías viene definido por la variable 'age_categories'\n",
        "  X_train['Age'] = pd.qcut(X_train['Age'], age_categories)\n",
        "\n",
        "  # Se convierte la característica 'Age' en una variable categórica\n",
        "  X_train, age = factorize_feature(X_train, 'Age')"
      ],
      "execution_count": 37,
      "outputs": [
        {
          "output_type": "stream",
          "text": [
            "{Interval(21.0, 24.0, closed='right'): 0, Interval(36.0, 40.0, closed='right'): 1, Interval(24.0, 26.0, closed='right'): 2, Interval(33.0, 36.0, closed='right'): 3, Interval(26.0, 28.0, closed='right'): 4, Interval(19.0, 21.0, closed='right'): 5, Interval(30.0, 33.0, closed='right'): 6, Interval(16.999, 19.0, closed='right'): 7, Interval(40.0, 45.0, closed='right'): 8, Interval(28.0, 30.0, closed='right'): 9}\n"
          ],
          "name": "stdout"
        }
      ]
    },
    {
      "cell_type": "code",
      "metadata": {
        "id": "Q0JtXkdM8ByY",
        "colab_type": "code",
        "outputId": "fc0adb8d-4967-4eae-b82f-7947fe6db78c",
        "colab": {
          "base_uri": "https://localhost:8080/",
          "height": 507
        }
      },
      "source": [
        "# Se muestran las características del DataFrame de entrenamiento\n",
        "display(X_train.info())\n",
        "display(X_train.head())"
      ],
      "execution_count": 38,
      "outputs": [
        {
          "output_type": "stream",
          "text": [
            "<class 'pandas.core.frame.DataFrame'>\n",
            "Int64Index: 891 entries, 1 to 891\n",
            "Data columns (total 8 columns):\n",
            " #   Column    Non-Null Count  Dtype  \n",
            "---  ------    --------------  -----  \n",
            " 0   Pclass    891 non-null    int64  \n",
            " 1   Sex       891 non-null    int64  \n",
            " 2   Age       511 non-null    float64\n",
            " 3   SibSp     891 non-null    int64  \n",
            " 4   Parch     891 non-null    int64  \n",
            " 5   Fare      656 non-null    float64\n",
            " 6   Embarked  889 non-null    float64\n",
            " 7   Title     891 non-null    int64  \n",
            "dtypes: float64(3), int64(5)\n",
            "memory usage: 62.6 KB\n"
          ],
          "name": "stdout"
        },
        {
          "output_type": "display_data",
          "data": {
            "text/plain": [
              "None"
            ]
          },
          "metadata": {
            "tags": []
          }
        },
        {
          "output_type": "display_data",
          "data": {
            "text/html": [
              "<div>\n",
              "<style scoped>\n",
              "    .dataframe tbody tr th:only-of-type {\n",
              "        vertical-align: middle;\n",
              "    }\n",
              "\n",
              "    .dataframe tbody tr th {\n",
              "        vertical-align: top;\n",
              "    }\n",
              "\n",
              "    .dataframe thead th {\n",
              "        text-align: right;\n",
              "    }\n",
              "</style>\n",
              "<table border=\"1\" class=\"dataframe\">\n",
              "  <thead>\n",
              "    <tr style=\"text-align: right;\">\n",
              "      <th></th>\n",
              "      <th>Pclass</th>\n",
              "      <th>Sex</th>\n",
              "      <th>Age</th>\n",
              "      <th>SibSp</th>\n",
              "      <th>Parch</th>\n",
              "      <th>Fare</th>\n",
              "      <th>Embarked</th>\n",
              "      <th>Title</th>\n",
              "    </tr>\n",
              "    <tr>\n",
              "      <th>PassengerId</th>\n",
              "      <th></th>\n",
              "      <th></th>\n",
              "      <th></th>\n",
              "      <th></th>\n",
              "      <th></th>\n",
              "      <th></th>\n",
              "      <th></th>\n",
              "      <th></th>\n",
              "    </tr>\n",
              "  </thead>\n",
              "  <tbody>\n",
              "    <tr>\n",
              "      <th>1</th>\n",
              "      <td>3</td>\n",
              "      <td>0</td>\n",
              "      <td>0.0</td>\n",
              "      <td>1</td>\n",
              "      <td>0</td>\n",
              "      <td>NaN</td>\n",
              "      <td>0.0</td>\n",
              "      <td>0</td>\n",
              "    </tr>\n",
              "    <tr>\n",
              "      <th>2</th>\n",
              "      <td>1</td>\n",
              "      <td>1</td>\n",
              "      <td>1.0</td>\n",
              "      <td>1</td>\n",
              "      <td>0</td>\n",
              "      <td>NaN</td>\n",
              "      <td>1.0</td>\n",
              "      <td>1</td>\n",
              "    </tr>\n",
              "    <tr>\n",
              "      <th>3</th>\n",
              "      <td>3</td>\n",
              "      <td>1</td>\n",
              "      <td>2.0</td>\n",
              "      <td>0</td>\n",
              "      <td>0</td>\n",
              "      <td>7.925</td>\n",
              "      <td>0.0</td>\n",
              "      <td>2</td>\n",
              "    </tr>\n",
              "    <tr>\n",
              "      <th>4</th>\n",
              "      <td>1</td>\n",
              "      <td>1</td>\n",
              "      <td>3.0</td>\n",
              "      <td>1</td>\n",
              "      <td>0</td>\n",
              "      <td>53.100</td>\n",
              "      <td>0.0</td>\n",
              "      <td>1</td>\n",
              "    </tr>\n",
              "    <tr>\n",
              "      <th>5</th>\n",
              "      <td>3</td>\n",
              "      <td>0</td>\n",
              "      <td>3.0</td>\n",
              "      <td>0</td>\n",
              "      <td>0</td>\n",
              "      <td>8.050</td>\n",
              "      <td>0.0</td>\n",
              "      <td>0</td>\n",
              "    </tr>\n",
              "  </tbody>\n",
              "</table>\n",
              "</div>"
            ],
            "text/plain": [
              "             Pclass  Sex  Age  SibSp  Parch    Fare  Embarked  Title\n",
              "PassengerId                                                         \n",
              "1                 3    0  0.0      1      0     NaN       0.0      0\n",
              "2                 1    1  1.0      1      0     NaN       1.0      1\n",
              "3                 3    1  2.0      0      0   7.925       0.0      2\n",
              "4                 1    1  3.0      1      0  53.100       0.0      1\n",
              "5                 3    0  3.0      0      0   8.050       0.0      0"
            ]
          },
          "metadata": {
            "tags": []
          }
        }
      ]
    },
    {
      "cell_type": "code",
      "metadata": {
        "id": "4tarW9_JPCSy",
        "colab_type": "code",
        "colab": {}
      },
      "source": [
        "# Siempre que se decida discretizar la variable 'Age'\n",
        "if age_categories > 0:\n",
        "  # Se asigna cada valor de la variable 'Age' del \n",
        "  # DataFrame de test al identificador numérico de \n",
        "  # la categoría que le corresponde, utilizando las categorías\n",
        "  # de la variable 'Age' del DataFrame de entrenamiento\n",
        "  map_discrete_categories(X_test, 'Age', age)"
      ],
      "execution_count": 0,
      "outputs": []
    },
    {
      "cell_type": "code",
      "metadata": {
        "id": "hS9Cc6xTQO60",
        "colab_type": "code",
        "outputId": "418a134c-c118-4817-e312-0afffa55cd19",
        "colab": {
          "base_uri": "https://localhost:8080/",
          "height": 507
        }
      },
      "source": [
        "# Se muestran las características del DataFrame de test\n",
        "display(X_test.info())\n",
        "display(X_test.head())"
      ],
      "execution_count": 40,
      "outputs": [
        {
          "output_type": "stream",
          "text": [
            "<class 'pandas.core.frame.DataFrame'>\n",
            "Int64Index: 418 entries, 892 to 1309\n",
            "Data columns (total 8 columns):\n",
            " #   Column    Non-Null Count  Dtype  \n",
            "---  ------    --------------  -----  \n",
            " 0   Pclass    418 non-null    int64  \n",
            " 1   Sex       418 non-null    int64  \n",
            " 2   Age       246 non-null    float64\n",
            " 3   SibSp     418 non-null    int64  \n",
            " 4   Parch     418 non-null    int64  \n",
            " 5   Fare      299 non-null    float64\n",
            " 6   Embarked  418 non-null    int64  \n",
            " 7   Title     417 non-null    float64\n",
            "dtypes: float64(3), int64(5)\n",
            "memory usage: 29.4 KB\n"
          ],
          "name": "stdout"
        },
        {
          "output_type": "display_data",
          "data": {
            "text/plain": [
              "None"
            ]
          },
          "metadata": {
            "tags": []
          }
        },
        {
          "output_type": "display_data",
          "data": {
            "text/html": [
              "<div>\n",
              "<style scoped>\n",
              "    .dataframe tbody tr th:only-of-type {\n",
              "        vertical-align: middle;\n",
              "    }\n",
              "\n",
              "    .dataframe tbody tr th {\n",
              "        vertical-align: top;\n",
              "    }\n",
              "\n",
              "    .dataframe thead th {\n",
              "        text-align: right;\n",
              "    }\n",
              "</style>\n",
              "<table border=\"1\" class=\"dataframe\">\n",
              "  <thead>\n",
              "    <tr style=\"text-align: right;\">\n",
              "      <th></th>\n",
              "      <th>Pclass</th>\n",
              "      <th>Sex</th>\n",
              "      <th>Age</th>\n",
              "      <th>SibSp</th>\n",
              "      <th>Parch</th>\n",
              "      <th>Fare</th>\n",
              "      <th>Embarked</th>\n",
              "      <th>Title</th>\n",
              "    </tr>\n",
              "    <tr>\n",
              "      <th>PassengerId</th>\n",
              "      <th></th>\n",
              "      <th></th>\n",
              "      <th></th>\n",
              "      <th></th>\n",
              "      <th></th>\n",
              "      <th></th>\n",
              "      <th></th>\n",
              "      <th></th>\n",
              "    </tr>\n",
              "  </thead>\n",
              "  <tbody>\n",
              "    <tr>\n",
              "      <th>892</th>\n",
              "      <td>3</td>\n",
              "      <td>0</td>\n",
              "      <td>3.0</td>\n",
              "      <td>0</td>\n",
              "      <td>0</td>\n",
              "      <td>7.8292</td>\n",
              "      <td>2</td>\n",
              "      <td>0.0</td>\n",
              "    </tr>\n",
              "    <tr>\n",
              "      <th>893</th>\n",
              "      <td>3</td>\n",
              "      <td>1</td>\n",
              "      <td>NaN</td>\n",
              "      <td>1</td>\n",
              "      <td>0</td>\n",
              "      <td>NaN</td>\n",
              "      <td>0</td>\n",
              "      <td>1.0</td>\n",
              "    </tr>\n",
              "    <tr>\n",
              "      <th>894</th>\n",
              "      <td>2</td>\n",
              "      <td>0</td>\n",
              "      <td>NaN</td>\n",
              "      <td>0</td>\n",
              "      <td>0</td>\n",
              "      <td>9.6875</td>\n",
              "      <td>2</td>\n",
              "      <td>0.0</td>\n",
              "    </tr>\n",
              "    <tr>\n",
              "      <th>895</th>\n",
              "      <td>3</td>\n",
              "      <td>0</td>\n",
              "      <td>4.0</td>\n",
              "      <td>0</td>\n",
              "      <td>0</td>\n",
              "      <td>8.6625</td>\n",
              "      <td>0</td>\n",
              "      <td>0.0</td>\n",
              "    </tr>\n",
              "    <tr>\n",
              "      <th>896</th>\n",
              "      <td>3</td>\n",
              "      <td>1</td>\n",
              "      <td>0.0</td>\n",
              "      <td>1</td>\n",
              "      <td>1</td>\n",
              "      <td>12.2875</td>\n",
              "      <td>0</td>\n",
              "      <td>1.0</td>\n",
              "    </tr>\n",
              "  </tbody>\n",
              "</table>\n",
              "</div>"
            ],
            "text/plain": [
              "             Pclass  Sex  Age  SibSp  Parch     Fare  Embarked  Title\n",
              "PassengerId                                                          \n",
              "892               3    0  3.0      0      0   7.8292         2    0.0\n",
              "893               3    1  NaN      1      0      NaN         0    1.0\n",
              "894               2    0  NaN      0      0   9.6875         2    0.0\n",
              "895               3    0  4.0      0      0   8.6625         0    0.0\n",
              "896               3    1  0.0      1      1  12.2875         0    1.0"
            ]
          },
          "metadata": {
            "tags": []
          }
        }
      ]
    },
    {
      "cell_type": "code",
      "metadata": {
        "id": "1wGn3pvBgJVd",
        "colab_type": "code",
        "outputId": "6c4b5a59-22fc-4455-f87b-b80f3b2f2448",
        "colab": {
          "base_uri": "https://localhost:8080/",
          "height": 54
        }
      },
      "source": [
        "if fare_categories > 0:\n",
        "  # Se agrupa las muestras en categorías con el mismo número de muestras\n",
        "  # El número de categorías viene definido por la variable 'fare_categories'\n",
        "  X_train['Fare'] = pd.qcut(X_train['Fare'], fare_categories)\n",
        "\n",
        "  # Se convierte la características 'Age' en una variable categórica\n",
        "  X_train, fare = factorize_feature(X_train, 'Fare')"
      ],
      "execution_count": 41,
      "outputs": [
        {
          "output_type": "stream",
          "text": [
            "{Interval(7.854, 7.925, closed='right'): 0, Interval(35.5, 56.496, closed='right'): 1, Interval(7.925, 8.662, closed='right'): 2, Interval(18.0, 25.965, closed='right'): 3, Interval(8.662, 11.242, closed='right'): 4, Interval(27.75, 35.5, closed='right'): 5, Interval(13.825, 18.0, closed='right'): 6, Interval(25.965, 27.75, closed='right'): 7, Interval(7.749, 7.854, closed='right'): 8, Interval(11.242, 13.825, closed='right'): 9}\n"
          ],
          "name": "stdout"
        }
      ]
    },
    {
      "cell_type": "code",
      "metadata": {
        "id": "dVK5ooa2EU_O",
        "colab_type": "code",
        "outputId": "8b9f5db4-5b54-4308-d8e1-35e85a6aae61",
        "colab": {
          "base_uri": "https://localhost:8080/",
          "height": 507
        }
      },
      "source": [
        "# Se muestran las características del DataFrame de entrenamiento\n",
        "display(X_train.info())\n",
        "display(X_train.head())"
      ],
      "execution_count": 42,
      "outputs": [
        {
          "output_type": "stream",
          "text": [
            "<class 'pandas.core.frame.DataFrame'>\n",
            "Int64Index: 891 entries, 1 to 891\n",
            "Data columns (total 8 columns):\n",
            " #   Column    Non-Null Count  Dtype  \n",
            "---  ------    --------------  -----  \n",
            " 0   Pclass    891 non-null    int64  \n",
            " 1   Sex       891 non-null    int64  \n",
            " 2   Age       511 non-null    float64\n",
            " 3   SibSp     891 non-null    int64  \n",
            " 4   Parch     891 non-null    int64  \n",
            " 5   Fare      656 non-null    float64\n",
            " 6   Embarked  889 non-null    float64\n",
            " 7   Title     891 non-null    int64  \n",
            "dtypes: float64(3), int64(5)\n",
            "memory usage: 62.6 KB\n"
          ],
          "name": "stdout"
        },
        {
          "output_type": "display_data",
          "data": {
            "text/plain": [
              "None"
            ]
          },
          "metadata": {
            "tags": []
          }
        },
        {
          "output_type": "display_data",
          "data": {
            "text/html": [
              "<div>\n",
              "<style scoped>\n",
              "    .dataframe tbody tr th:only-of-type {\n",
              "        vertical-align: middle;\n",
              "    }\n",
              "\n",
              "    .dataframe tbody tr th {\n",
              "        vertical-align: top;\n",
              "    }\n",
              "\n",
              "    .dataframe thead th {\n",
              "        text-align: right;\n",
              "    }\n",
              "</style>\n",
              "<table border=\"1\" class=\"dataframe\">\n",
              "  <thead>\n",
              "    <tr style=\"text-align: right;\">\n",
              "      <th></th>\n",
              "      <th>Pclass</th>\n",
              "      <th>Sex</th>\n",
              "      <th>Age</th>\n",
              "      <th>SibSp</th>\n",
              "      <th>Parch</th>\n",
              "      <th>Fare</th>\n",
              "      <th>Embarked</th>\n",
              "      <th>Title</th>\n",
              "    </tr>\n",
              "    <tr>\n",
              "      <th>PassengerId</th>\n",
              "      <th></th>\n",
              "      <th></th>\n",
              "      <th></th>\n",
              "      <th></th>\n",
              "      <th></th>\n",
              "      <th></th>\n",
              "      <th></th>\n",
              "      <th></th>\n",
              "    </tr>\n",
              "  </thead>\n",
              "  <tbody>\n",
              "    <tr>\n",
              "      <th>1</th>\n",
              "      <td>3</td>\n",
              "      <td>0</td>\n",
              "      <td>0.0</td>\n",
              "      <td>1</td>\n",
              "      <td>0</td>\n",
              "      <td>NaN</td>\n",
              "      <td>0.0</td>\n",
              "      <td>0</td>\n",
              "    </tr>\n",
              "    <tr>\n",
              "      <th>2</th>\n",
              "      <td>1</td>\n",
              "      <td>1</td>\n",
              "      <td>1.0</td>\n",
              "      <td>1</td>\n",
              "      <td>0</td>\n",
              "      <td>NaN</td>\n",
              "      <td>1.0</td>\n",
              "      <td>1</td>\n",
              "    </tr>\n",
              "    <tr>\n",
              "      <th>3</th>\n",
              "      <td>3</td>\n",
              "      <td>1</td>\n",
              "      <td>2.0</td>\n",
              "      <td>0</td>\n",
              "      <td>0</td>\n",
              "      <td>0.0</td>\n",
              "      <td>0.0</td>\n",
              "      <td>2</td>\n",
              "    </tr>\n",
              "    <tr>\n",
              "      <th>4</th>\n",
              "      <td>1</td>\n",
              "      <td>1</td>\n",
              "      <td>3.0</td>\n",
              "      <td>1</td>\n",
              "      <td>0</td>\n",
              "      <td>1.0</td>\n",
              "      <td>0.0</td>\n",
              "      <td>1</td>\n",
              "    </tr>\n",
              "    <tr>\n",
              "      <th>5</th>\n",
              "      <td>3</td>\n",
              "      <td>0</td>\n",
              "      <td>3.0</td>\n",
              "      <td>0</td>\n",
              "      <td>0</td>\n",
              "      <td>2.0</td>\n",
              "      <td>0.0</td>\n",
              "      <td>0</td>\n",
              "    </tr>\n",
              "  </tbody>\n",
              "</table>\n",
              "</div>"
            ],
            "text/plain": [
              "             Pclass  Sex  Age  SibSp  Parch  Fare  Embarked  Title\n",
              "PassengerId                                                       \n",
              "1                 3    0  0.0      1      0   NaN       0.0      0\n",
              "2                 1    1  1.0      1      0   NaN       1.0      1\n",
              "3                 3    1  2.0      0      0   0.0       0.0      2\n",
              "4                 1    1  3.0      1      0   1.0       0.0      1\n",
              "5                 3    0  3.0      0      0   2.0       0.0      0"
            ]
          },
          "metadata": {
            "tags": []
          }
        }
      ]
    },
    {
      "cell_type": "code",
      "metadata": {
        "id": "LHztELLMgHhf",
        "colab_type": "code",
        "colab": {}
      },
      "source": [
        "# Siempre que se decida discretizar la variable 'Fare'\n",
        "if fare_categories > 0:\n",
        "  # Se asigna cada valor de la variable 'Fare' del \n",
        "  # DataFrame de test al identificador numérico de \n",
        "  # la categoría que le corresponde, utilizando las categorías\n",
        "  # de la variable 'Age' del DataFrame de entrenamiento\n",
        "  map_discrete_categories(X_test, 'Fare', fare)"
      ],
      "execution_count": 0,
      "outputs": []
    },
    {
      "cell_type": "code",
      "metadata": {
        "id": "LfrGWwUAEOTl",
        "colab_type": "code",
        "outputId": "97aeb7d2-29a4-476a-9f2e-49c88bf5458d",
        "colab": {
          "base_uri": "https://localhost:8080/",
          "height": 507
        }
      },
      "source": [
        "# Se muestran las características del DataFrame de test\n",
        "display(X_test.info())\n",
        "display(X_test.head())"
      ],
      "execution_count": 44,
      "outputs": [
        {
          "output_type": "stream",
          "text": [
            "<class 'pandas.core.frame.DataFrame'>\n",
            "Int64Index: 418 entries, 892 to 1309\n",
            "Data columns (total 8 columns):\n",
            " #   Column    Non-Null Count  Dtype  \n",
            "---  ------    --------------  -----  \n",
            " 0   Pclass    418 non-null    int64  \n",
            " 1   Sex       418 non-null    int64  \n",
            " 2   Age       246 non-null    float64\n",
            " 3   SibSp     418 non-null    int64  \n",
            " 4   Parch     418 non-null    int64  \n",
            " 5   Fare      299 non-null    float64\n",
            " 6   Embarked  418 non-null    int64  \n",
            " 7   Title     417 non-null    float64\n",
            "dtypes: float64(3), int64(5)\n",
            "memory usage: 29.4 KB\n"
          ],
          "name": "stdout"
        },
        {
          "output_type": "display_data",
          "data": {
            "text/plain": [
              "None"
            ]
          },
          "metadata": {
            "tags": []
          }
        },
        {
          "output_type": "display_data",
          "data": {
            "text/html": [
              "<div>\n",
              "<style scoped>\n",
              "    .dataframe tbody tr th:only-of-type {\n",
              "        vertical-align: middle;\n",
              "    }\n",
              "\n",
              "    .dataframe tbody tr th {\n",
              "        vertical-align: top;\n",
              "    }\n",
              "\n",
              "    .dataframe thead th {\n",
              "        text-align: right;\n",
              "    }\n",
              "</style>\n",
              "<table border=\"1\" class=\"dataframe\">\n",
              "  <thead>\n",
              "    <tr style=\"text-align: right;\">\n",
              "      <th></th>\n",
              "      <th>Pclass</th>\n",
              "      <th>Sex</th>\n",
              "      <th>Age</th>\n",
              "      <th>SibSp</th>\n",
              "      <th>Parch</th>\n",
              "      <th>Fare</th>\n",
              "      <th>Embarked</th>\n",
              "      <th>Title</th>\n",
              "    </tr>\n",
              "    <tr>\n",
              "      <th>PassengerId</th>\n",
              "      <th></th>\n",
              "      <th></th>\n",
              "      <th></th>\n",
              "      <th></th>\n",
              "      <th></th>\n",
              "      <th></th>\n",
              "      <th></th>\n",
              "      <th></th>\n",
              "    </tr>\n",
              "  </thead>\n",
              "  <tbody>\n",
              "    <tr>\n",
              "      <th>892</th>\n",
              "      <td>3</td>\n",
              "      <td>0</td>\n",
              "      <td>3.0</td>\n",
              "      <td>0</td>\n",
              "      <td>0</td>\n",
              "      <td>8.0</td>\n",
              "      <td>2</td>\n",
              "      <td>0.0</td>\n",
              "    </tr>\n",
              "    <tr>\n",
              "      <th>893</th>\n",
              "      <td>3</td>\n",
              "      <td>1</td>\n",
              "      <td>NaN</td>\n",
              "      <td>1</td>\n",
              "      <td>0</td>\n",
              "      <td>NaN</td>\n",
              "      <td>0</td>\n",
              "      <td>1.0</td>\n",
              "    </tr>\n",
              "    <tr>\n",
              "      <th>894</th>\n",
              "      <td>2</td>\n",
              "      <td>0</td>\n",
              "      <td>NaN</td>\n",
              "      <td>0</td>\n",
              "      <td>0</td>\n",
              "      <td>4.0</td>\n",
              "      <td>2</td>\n",
              "      <td>0.0</td>\n",
              "    </tr>\n",
              "    <tr>\n",
              "      <th>895</th>\n",
              "      <td>3</td>\n",
              "      <td>0</td>\n",
              "      <td>4.0</td>\n",
              "      <td>0</td>\n",
              "      <td>0</td>\n",
              "      <td>4.0</td>\n",
              "      <td>0</td>\n",
              "      <td>0.0</td>\n",
              "    </tr>\n",
              "    <tr>\n",
              "      <th>896</th>\n",
              "      <td>3</td>\n",
              "      <td>1</td>\n",
              "      <td>0.0</td>\n",
              "      <td>1</td>\n",
              "      <td>1</td>\n",
              "      <td>9.0</td>\n",
              "      <td>0</td>\n",
              "      <td>1.0</td>\n",
              "    </tr>\n",
              "  </tbody>\n",
              "</table>\n",
              "</div>"
            ],
            "text/plain": [
              "             Pclass  Sex  Age  SibSp  Parch  Fare  Embarked  Title\n",
              "PassengerId                                                       \n",
              "892               3    0  3.0      0      0   8.0         2    0.0\n",
              "893               3    1  NaN      1      0   NaN         0    1.0\n",
              "894               2    0  NaN      0      0   4.0         2    0.0\n",
              "895               3    0  4.0      0      0   4.0         0    0.0\n",
              "896               3    1  0.0      1      1   9.0         0    1.0"
            ]
          },
          "metadata": {
            "tags": []
          }
        }
      ]
    },
    {
      "cell_type": "markdown",
      "metadata": {
        "id": "q4Y5zhTS6qqZ",
        "colab_type": "text"
      },
      "source": [
        "## Valores perdidos"
      ]
    },
    {
      "cell_type": "code",
      "metadata": {
        "id": "szoUMj_q6uw6",
        "colab_type": "code",
        "colab": {}
      },
      "source": [
        "# Se imputan los valores perdidos (o eliminados) utilizndo el método k-Nearest Neighbors\n",
        "imp = KNNImputer().fit(X_train)\n",
        "X_train = pd.DataFrame(imp.transform(X_train), columns = X_train.columns)\n",
        "X_test = pd.DataFrame(imp.transform(X_test), columns = X_test.columns)"
      ],
      "execution_count": 0,
      "outputs": []
    },
    {
      "cell_type": "code",
      "metadata": {
        "id": "wFMFg6VhiIqX",
        "colab_type": "code",
        "outputId": "77c5c1cf-ad5a-4f06-8b7d-63e55500449c",
        "colab": {
          "base_uri": "https://localhost:8080/",
          "height": 476
        }
      },
      "source": [
        "# Se muestran las características del DataFrame de entrenamiento\n",
        "display(X_train.info())\n",
        "display(X_train.head())"
      ],
      "execution_count": 46,
      "outputs": [
        {
          "output_type": "stream",
          "text": [
            "<class 'pandas.core.frame.DataFrame'>\n",
            "RangeIndex: 891 entries, 0 to 890\n",
            "Data columns (total 8 columns):\n",
            " #   Column    Non-Null Count  Dtype  \n",
            "---  ------    --------------  -----  \n",
            " 0   Pclass    891 non-null    float64\n",
            " 1   Sex       891 non-null    float64\n",
            " 2   Age       891 non-null    float64\n",
            " 3   SibSp     891 non-null    float64\n",
            " 4   Parch     891 non-null    float64\n",
            " 5   Fare      891 non-null    float64\n",
            " 6   Embarked  891 non-null    float64\n",
            " 7   Title     891 non-null    float64\n",
            "dtypes: float64(8)\n",
            "memory usage: 55.8 KB\n"
          ],
          "name": "stdout"
        },
        {
          "output_type": "display_data",
          "data": {
            "text/plain": [
              "None"
            ]
          },
          "metadata": {
            "tags": []
          }
        },
        {
          "output_type": "display_data",
          "data": {
            "text/html": [
              "<div>\n",
              "<style scoped>\n",
              "    .dataframe tbody tr th:only-of-type {\n",
              "        vertical-align: middle;\n",
              "    }\n",
              "\n",
              "    .dataframe tbody tr th {\n",
              "        vertical-align: top;\n",
              "    }\n",
              "\n",
              "    .dataframe thead th {\n",
              "        text-align: right;\n",
              "    }\n",
              "</style>\n",
              "<table border=\"1\" class=\"dataframe\">\n",
              "  <thead>\n",
              "    <tr style=\"text-align: right;\">\n",
              "      <th></th>\n",
              "      <th>Pclass</th>\n",
              "      <th>Sex</th>\n",
              "      <th>Age</th>\n",
              "      <th>SibSp</th>\n",
              "      <th>Parch</th>\n",
              "      <th>Fare</th>\n",
              "      <th>Embarked</th>\n",
              "      <th>Title</th>\n",
              "    </tr>\n",
              "  </thead>\n",
              "  <tbody>\n",
              "    <tr>\n",
              "      <th>0</th>\n",
              "      <td>3.0</td>\n",
              "      <td>0.0</td>\n",
              "      <td>0.0</td>\n",
              "      <td>1.0</td>\n",
              "      <td>0.0</td>\n",
              "      <td>4.4</td>\n",
              "      <td>0.0</td>\n",
              "      <td>0.0</td>\n",
              "    </tr>\n",
              "    <tr>\n",
              "      <th>1</th>\n",
              "      <td>1.0</td>\n",
              "      <td>1.0</td>\n",
              "      <td>1.0</td>\n",
              "      <td>1.0</td>\n",
              "      <td>0.0</td>\n",
              "      <td>2.6</td>\n",
              "      <td>1.0</td>\n",
              "      <td>1.0</td>\n",
              "    </tr>\n",
              "    <tr>\n",
              "      <th>2</th>\n",
              "      <td>3.0</td>\n",
              "      <td>1.0</td>\n",
              "      <td>2.0</td>\n",
              "      <td>0.0</td>\n",
              "      <td>0.0</td>\n",
              "      <td>0.0</td>\n",
              "      <td>0.0</td>\n",
              "      <td>2.0</td>\n",
              "    </tr>\n",
              "    <tr>\n",
              "      <th>3</th>\n",
              "      <td>1.0</td>\n",
              "      <td>1.0</td>\n",
              "      <td>3.0</td>\n",
              "      <td>1.0</td>\n",
              "      <td>0.0</td>\n",
              "      <td>1.0</td>\n",
              "      <td>0.0</td>\n",
              "      <td>1.0</td>\n",
              "    </tr>\n",
              "    <tr>\n",
              "      <th>4</th>\n",
              "      <td>3.0</td>\n",
              "      <td>0.0</td>\n",
              "      <td>3.0</td>\n",
              "      <td>0.0</td>\n",
              "      <td>0.0</td>\n",
              "      <td>2.0</td>\n",
              "      <td>0.0</td>\n",
              "      <td>0.0</td>\n",
              "    </tr>\n",
              "  </tbody>\n",
              "</table>\n",
              "</div>"
            ],
            "text/plain": [
              "   Pclass  Sex  Age  SibSp  Parch  Fare  Embarked  Title\n",
              "0     3.0  0.0  0.0    1.0    0.0   4.4       0.0    0.0\n",
              "1     1.0  1.0  1.0    1.0    0.0   2.6       1.0    1.0\n",
              "2     3.0  1.0  2.0    0.0    0.0   0.0       0.0    2.0\n",
              "3     1.0  1.0  3.0    1.0    0.0   1.0       0.0    1.0\n",
              "4     3.0  0.0  3.0    0.0    0.0   2.0       0.0    0.0"
            ]
          },
          "metadata": {
            "tags": []
          }
        }
      ]
    },
    {
      "cell_type": "code",
      "metadata": {
        "id": "j0yNp3LB9wL1",
        "colab_type": "code",
        "colab": {
          "base_uri": "https://localhost:8080/",
          "height": 476
        },
        "outputId": "6148d40d-1114-47aa-b4b3-8377895b8a49"
      },
      "source": [
        "# Se muestran las características del DataFrame de test\n",
        "display(X_test.info())\n",
        "display(X_test.head())"
      ],
      "execution_count": 47,
      "outputs": [
        {
          "output_type": "stream",
          "text": [
            "<class 'pandas.core.frame.DataFrame'>\n",
            "RangeIndex: 418 entries, 0 to 417\n",
            "Data columns (total 8 columns):\n",
            " #   Column    Non-Null Count  Dtype  \n",
            "---  ------    --------------  -----  \n",
            " 0   Pclass    418 non-null    float64\n",
            " 1   Sex       418 non-null    float64\n",
            " 2   Age       418 non-null    float64\n",
            " 3   SibSp     418 non-null    float64\n",
            " 4   Parch     418 non-null    float64\n",
            " 5   Fare      418 non-null    float64\n",
            " 6   Embarked  418 non-null    float64\n",
            " 7   Title     418 non-null    float64\n",
            "dtypes: float64(8)\n",
            "memory usage: 26.2 KB\n"
          ],
          "name": "stdout"
        },
        {
          "output_type": "display_data",
          "data": {
            "text/plain": [
              "None"
            ]
          },
          "metadata": {
            "tags": []
          }
        },
        {
          "output_type": "display_data",
          "data": {
            "text/html": [
              "<div>\n",
              "<style scoped>\n",
              "    .dataframe tbody tr th:only-of-type {\n",
              "        vertical-align: middle;\n",
              "    }\n",
              "\n",
              "    .dataframe tbody tr th {\n",
              "        vertical-align: top;\n",
              "    }\n",
              "\n",
              "    .dataframe thead th {\n",
              "        text-align: right;\n",
              "    }\n",
              "</style>\n",
              "<table border=\"1\" class=\"dataframe\">\n",
              "  <thead>\n",
              "    <tr style=\"text-align: right;\">\n",
              "      <th></th>\n",
              "      <th>Pclass</th>\n",
              "      <th>Sex</th>\n",
              "      <th>Age</th>\n",
              "      <th>SibSp</th>\n",
              "      <th>Parch</th>\n",
              "      <th>Fare</th>\n",
              "      <th>Embarked</th>\n",
              "      <th>Title</th>\n",
              "    </tr>\n",
              "  </thead>\n",
              "  <tbody>\n",
              "    <tr>\n",
              "      <th>0</th>\n",
              "      <td>3.0</td>\n",
              "      <td>0.0</td>\n",
              "      <td>3.0</td>\n",
              "      <td>0.0</td>\n",
              "      <td>0.0</td>\n",
              "      <td>8.0</td>\n",
              "      <td>2.0</td>\n",
              "      <td>0.0</td>\n",
              "    </tr>\n",
              "    <tr>\n",
              "      <th>1</th>\n",
              "      <td>3.0</td>\n",
              "      <td>1.0</td>\n",
              "      <td>2.4</td>\n",
              "      <td>1.0</td>\n",
              "      <td>0.0</td>\n",
              "      <td>5.6</td>\n",
              "      <td>0.0</td>\n",
              "      <td>1.0</td>\n",
              "    </tr>\n",
              "    <tr>\n",
              "      <th>2</th>\n",
              "      <td>2.0</td>\n",
              "      <td>0.0</td>\n",
              "      <td>4.6</td>\n",
              "      <td>0.0</td>\n",
              "      <td>0.0</td>\n",
              "      <td>4.0</td>\n",
              "      <td>2.0</td>\n",
              "      <td>0.0</td>\n",
              "    </tr>\n",
              "    <tr>\n",
              "      <th>3</th>\n",
              "      <td>3.0</td>\n",
              "      <td>0.0</td>\n",
              "      <td>4.0</td>\n",
              "      <td>0.0</td>\n",
              "      <td>0.0</td>\n",
              "      <td>4.0</td>\n",
              "      <td>0.0</td>\n",
              "      <td>0.0</td>\n",
              "    </tr>\n",
              "    <tr>\n",
              "      <th>4</th>\n",
              "      <td>3.0</td>\n",
              "      <td>1.0</td>\n",
              "      <td>0.0</td>\n",
              "      <td>1.0</td>\n",
              "      <td>1.0</td>\n",
              "      <td>9.0</td>\n",
              "      <td>0.0</td>\n",
              "      <td>1.0</td>\n",
              "    </tr>\n",
              "  </tbody>\n",
              "</table>\n",
              "</div>"
            ],
            "text/plain": [
              "   Pclass  Sex  Age  SibSp  Parch  Fare  Embarked  Title\n",
              "0     3.0  0.0  3.0    0.0    0.0   8.0       2.0    0.0\n",
              "1     3.0  1.0  2.4    1.0    0.0   5.6       0.0    1.0\n",
              "2     2.0  0.0  4.6    0.0    0.0   4.0       2.0    0.0\n",
              "3     3.0  0.0  4.0    0.0    0.0   4.0       0.0    0.0\n",
              "4     3.0  1.0  0.0    1.0    1.0   9.0       0.0    1.0"
            ]
          },
          "metadata": {
            "tags": []
          }
        }
      ]
    },
    {
      "cell_type": "markdown",
      "metadata": {
        "id": "fzFAZhrnB5vr",
        "colab_type": "text"
      },
      "source": [
        "## Reducción la dimensionalidad"
      ]
    },
    {
      "cell_type": "code",
      "metadata": {
        "id": "lsHQJGhGAieR",
        "colab_type": "code",
        "outputId": "fafcf7a3-8d7a-4fcb-fb91-c098f20ba047",
        "colab": {
          "base_uri": "https://localhost:8080/",
          "height": 299
        }
      },
      "source": [
        "# Se aplica un análisis de componentes principales\n",
        "# para indentificar las componentes mas información aportan\n",
        "# en el espacio de características\n",
        "pca = PCA(n_components = len(X_train.columns)).fit(X_train)\n",
        "_dict = {k:round(v, 6) for k, v in enumerate(pca.explained_variance_ratio_)}\n",
        "\n",
        "# Proporción de la variabilidad explicada por las componentes\n",
        "print('Proporción de la variabilidad explicada por elos componentes: \\n' +\n",
        "      str(_dict))\n",
        "\n",
        "# Representación gráfica de la proporción de la variabilidad explicada\n",
        "# por cada una de las componentes\n",
        "data = pd.DataFrame.from_dict(_dict, orient='index', columns = ['variance_ratio'] )\n",
        "plot = sns.barplot(x=data.index, y='variance_ratio', data = data)"
      ],
      "execution_count": 48,
      "outputs": [
        {
          "output_type": "stream",
          "text": [
            "Proporción de la variabilidad explicada por elos componentes: \n",
            "{0: 0.390701, 1: 0.292593, 2: 0.160694, 3: 0.067522, 4: 0.034344, 5: 0.024856, 6: 0.020086, 7: 0.009203}\n"
          ],
          "name": "stdout"
        },
        {
          "output_type": "display_data",
          "data": {
            "image/png": "[encoded data removed]",
            "text/plain": [
              "<Figure size 432x288 with 1 Axes>"
            ]
          },
          "metadata": {
            "tags": [],
            "needs_background": "light"
          }
        }
      ]
    },
    {
      "cell_type": "code",
      "metadata": {
        "id": "C-pdaTdcWXSR",
        "colab_type": "code",
        "colab": {}
      },
      "source": [
        "if dimensions_to_remove > 0:\n",
        "  pca = PCA(n_components = len(X_train.columns) - dimensions_to_remove).fit(X_train)\n",
        "  X_train = pd.DataFrame(pca.transform(X_train))\n",
        "  X_test = pd.DataFrame(pca.transform(X_test))"
      ],
      "execution_count": 0,
      "outputs": []
    },
    {
      "cell_type": "code",
      "metadata": {
        "id": "XkvH4BR1W7LI",
        "colab_type": "code",
        "colab": {}
      },
      "source": [
        "if dimensions_to_remove > 0:\n",
        "  # Se muestran las características del DataFrame de entrenamiento\n",
        "  display(X_train.info())\n",
        "  display(X_train.head())"
      ],
      "execution_count": 0,
      "outputs": []
    },
    {
      "cell_type": "code",
      "metadata": {
        "id": "Io6UgQOaW8-i",
        "colab_type": "code",
        "colab": {}
      },
      "source": [
        "if dimensions_to_remove > 0:\n",
        "  # Se muestran las características del DataFrame de test\n",
        "  display(X_train.info())\n",
        "  display(X_train.head())"
      ],
      "execution_count": 0,
      "outputs": []
    },
    {
      "cell_type": "markdown",
      "metadata": {
        "id": "95wEMYbm-WYh",
        "colab_type": "text"
      },
      "source": [
        "## Estandarización"
      ]
    },
    {
      "cell_type": "code",
      "metadata": {
        "id": "DSJ1PO6P-V8j",
        "colab_type": "code",
        "colab": {}
      },
      "source": [
        "# Se realiza una estandarización del cojunto de características,\n",
        "# de manera qu todas las características se ponderen igual en\n",
        "# los modelos que se implementaran en los siguientes puntos.\n",
        "# Esto es importante para implementar el modelo\n",
        "# de red neuronal porque es especialmenete sensible al escalado\n",
        "scaler = StandardScaler().fit(X_train)\n",
        "X_train = pd.DataFrame(scaler.transform(X_train), columns = X_train.columns)\n",
        "X_test = pd.DataFrame(scaler.transform(X_test), columns = X_test.columns)"
      ],
      "execution_count": 0,
      "outputs": []
    },
    {
      "cell_type": "code",
      "metadata": {
        "id": "72TmLFIU97aT",
        "colab_type": "code",
        "colab": {
          "base_uri": "https://localhost:8080/",
          "height": 476
        },
        "outputId": "5d7266ec-4503-475d-b3ee-2e089324850c"
      },
      "source": [
        "# Se muestran las características del DataFrame de entrenamiento\n",
        "display(X_train.info())\n",
        "display(X_train.head())"
      ],
      "execution_count": 53,
      "outputs": [
        {
          "output_type": "stream",
          "text": [
            "<class 'pandas.core.frame.DataFrame'>\n",
            "RangeIndex: 891 entries, 0 to 890\n",
            "Data columns (total 8 columns):\n",
            " #   Column    Non-Null Count  Dtype  \n",
            "---  ------    --------------  -----  \n",
            " 0   Pclass    891 non-null    float64\n",
            " 1   Sex       891 non-null    float64\n",
            " 2   Age       891 non-null    float64\n",
            " 3   SibSp     891 non-null    float64\n",
            " 4   Parch     891 non-null    float64\n",
            " 5   Fare      891 non-null    float64\n",
            " 6   Embarked  891 non-null    float64\n",
            " 7   Title     891 non-null    float64\n",
            "dtypes: float64(8)\n",
            "memory usage: 55.8 KB\n"
          ],
          "name": "stdout"
        },
        {
          "output_type": "display_data",
          "data": {
            "text/plain": [
              "None"
            ]
          },
          "metadata": {
            "tags": []
          }
        },
        {
          "output_type": "display_data",
          "data": {
            "text/html": [
              "<div>\n",
              "<style scoped>\n",
              "    .dataframe tbody tr th:only-of-type {\n",
              "        vertical-align: middle;\n",
              "    }\n",
              "\n",
              "    .dataframe tbody tr th {\n",
              "        vertical-align: top;\n",
              "    }\n",
              "\n",
              "    .dataframe thead th {\n",
              "        text-align: right;\n",
              "    }\n",
              "</style>\n",
              "<table border=\"1\" class=\"dataframe\">\n",
              "  <thead>\n",
              "    <tr style=\"text-align: right;\">\n",
              "      <th></th>\n",
              "      <th>Pclass</th>\n",
              "      <th>Sex</th>\n",
              "      <th>Age</th>\n",
              "      <th>SibSp</th>\n",
              "      <th>Parch</th>\n",
              "      <th>Fare</th>\n",
              "      <th>Embarked</th>\n",
              "      <th>Title</th>\n",
              "    </tr>\n",
              "  </thead>\n",
              "  <tbody>\n",
              "    <tr>\n",
              "      <th>0</th>\n",
              "      <td>0.827377</td>\n",
              "      <td>-0.737695</td>\n",
              "      <td>-1.787905</td>\n",
              "      <td>0.432793</td>\n",
              "      <td>-0.473674</td>\n",
              "      <td>-0.014208</td>\n",
              "      <td>-0.570766</td>\n",
              "      <td>-0.542822</td>\n",
              "    </tr>\n",
              "    <tr>\n",
              "      <th>1</th>\n",
              "      <td>-1.566107</td>\n",
              "      <td>1.355574</td>\n",
              "      <td>-1.373595</td>\n",
              "      <td>0.432793</td>\n",
              "      <td>-0.473674</td>\n",
              "      <td>-0.692374</td>\n",
              "      <td>1.003699</td>\n",
              "      <td>0.037099</td>\n",
              "    </tr>\n",
              "    <tr>\n",
              "      <th>2</th>\n",
              "      <td>0.827377</td>\n",
              "      <td>1.355574</td>\n",
              "      <td>-0.959285</td>\n",
              "      <td>-0.474545</td>\n",
              "      <td>-0.473674</td>\n",
              "      <td>-1.671948</td>\n",
              "      <td>-0.570766</td>\n",
              "      <td>0.617020</td>\n",
              "    </tr>\n",
              "    <tr>\n",
              "      <th>3</th>\n",
              "      <td>-1.566107</td>\n",
              "      <td>1.355574</td>\n",
              "      <td>-0.544974</td>\n",
              "      <td>0.432793</td>\n",
              "      <td>-0.473674</td>\n",
              "      <td>-1.295189</td>\n",
              "      <td>-0.570766</td>\n",
              "      <td>0.037099</td>\n",
              "    </tr>\n",
              "    <tr>\n",
              "      <th>4</th>\n",
              "      <td>0.827377</td>\n",
              "      <td>-0.737695</td>\n",
              "      <td>-0.544974</td>\n",
              "      <td>-0.474545</td>\n",
              "      <td>-0.473674</td>\n",
              "      <td>-0.918430</td>\n",
              "      <td>-0.570766</td>\n",
              "      <td>-0.542822</td>\n",
              "    </tr>\n",
              "  </tbody>\n",
              "</table>\n",
              "</div>"
            ],
            "text/plain": [
              "     Pclass       Sex       Age  ...      Fare  Embarked     Title\n",
              "0  0.827377 -0.737695 -1.787905  ... -0.014208 -0.570766 -0.542822\n",
              "1 -1.566107  1.355574 -1.373595  ... -0.692374  1.003699  0.037099\n",
              "2  0.827377  1.355574 -0.959285  ... -1.671948 -0.570766  0.617020\n",
              "3 -1.566107  1.355574 -0.544974  ... -1.295189 -0.570766  0.037099\n",
              "4  0.827377 -0.737695 -0.544974  ... -0.918430 -0.570766 -0.542822\n",
              "\n",
              "[5 rows x 8 columns]"
            ]
          },
          "metadata": {
            "tags": []
          }
        }
      ]
    },
    {
      "cell_type": "code",
      "metadata": {
        "id": "q6qVXoYF989V",
        "colab_type": "code",
        "colab": {
          "base_uri": "https://localhost:8080/",
          "height": 476
        },
        "outputId": "eaf4a982-dbcf-4a52-bd73-259441f004be"
      },
      "source": [
        "# Se muestran las características del DataFrame de test\n",
        "display(X_train.info())\n",
        "display(X_train.head())"
      ],
      "execution_count": 54,
      "outputs": [
        {
          "output_type": "stream",
          "text": [
            "<class 'pandas.core.frame.DataFrame'>\n",
            "RangeIndex: 891 entries, 0 to 890\n",
            "Data columns (total 8 columns):\n",
            " #   Column    Non-Null Count  Dtype  \n",
            "---  ------    --------------  -----  \n",
            " 0   Pclass    891 non-null    float64\n",
            " 1   Sex       891 non-null    float64\n",
            " 2   Age       891 non-null    float64\n",
            " 3   SibSp     891 non-null    float64\n",
            " 4   Parch     891 non-null    float64\n",
            " 5   Fare      891 non-null    float64\n",
            " 6   Embarked  891 non-null    float64\n",
            " 7   Title     891 non-null    float64\n",
            "dtypes: float64(8)\n",
            "memory usage: 55.8 KB\n"
          ],
          "name": "stdout"
        },
        {
          "output_type": "display_data",
          "data": {
            "text/plain": [
              "None"
            ]
          },
          "metadata": {
            "tags": []
          }
        },
        {
          "output_type": "display_data",
          "data": {
            "text/html": [
              "<div>\n",
              "<style scoped>\n",
              "    .dataframe tbody tr th:only-of-type {\n",
              "        vertical-align: middle;\n",
              "    }\n",
              "\n",
              "    .dataframe tbody tr th {\n",
              "        vertical-align: top;\n",
              "    }\n",
              "\n",
              "    .dataframe thead th {\n",
              "        text-align: right;\n",
              "    }\n",
              "</style>\n",
              "<table border=\"1\" class=\"dataframe\">\n",
              "  <thead>\n",
              "    <tr style=\"text-align: right;\">\n",
              "      <th></th>\n",
              "      <th>Pclass</th>\n",
              "      <th>Sex</th>\n",
              "      <th>Age</th>\n",
              "      <th>SibSp</th>\n",
              "      <th>Parch</th>\n",
              "      <th>Fare</th>\n",
              "      <th>Embarked</th>\n",
              "      <th>Title</th>\n",
              "    </tr>\n",
              "  </thead>\n",
              "  <tbody>\n",
              "    <tr>\n",
              "      <th>0</th>\n",
              "      <td>0.827377</td>\n",
              "      <td>-0.737695</td>\n",
              "      <td>-1.787905</td>\n",
              "      <td>0.432793</td>\n",
              "      <td>-0.473674</td>\n",
              "      <td>-0.014208</td>\n",
              "      <td>-0.570766</td>\n",
              "      <td>-0.542822</td>\n",
              "    </tr>\n",
              "    <tr>\n",
              "      <th>1</th>\n",
              "      <td>-1.566107</td>\n",
              "      <td>1.355574</td>\n",
              "      <td>-1.373595</td>\n",
              "      <td>0.432793</td>\n",
              "      <td>-0.473674</td>\n",
              "      <td>-0.692374</td>\n",
              "      <td>1.003699</td>\n",
              "      <td>0.037099</td>\n",
              "    </tr>\n",
              "    <tr>\n",
              "      <th>2</th>\n",
              "      <td>0.827377</td>\n",
              "      <td>1.355574</td>\n",
              "      <td>-0.959285</td>\n",
              "      <td>-0.474545</td>\n",
              "      <td>-0.473674</td>\n",
              "      <td>-1.671948</td>\n",
              "      <td>-0.570766</td>\n",
              "      <td>0.617020</td>\n",
              "    </tr>\n",
              "    <tr>\n",
              "      <th>3</th>\n",
              "      <td>-1.566107</td>\n",
              "      <td>1.355574</td>\n",
              "      <td>-0.544974</td>\n",
              "      <td>0.432793</td>\n",
              "      <td>-0.473674</td>\n",
              "      <td>-1.295189</td>\n",
              "      <td>-0.570766</td>\n",
              "      <td>0.037099</td>\n",
              "    </tr>\n",
              "    <tr>\n",
              "      <th>4</th>\n",
              "      <td>0.827377</td>\n",
              "      <td>-0.737695</td>\n",
              "      <td>-0.544974</td>\n",
              "      <td>-0.474545</td>\n",
              "      <td>-0.473674</td>\n",
              "      <td>-0.918430</td>\n",
              "      <td>-0.570766</td>\n",
              "      <td>-0.542822</td>\n",
              "    </tr>\n",
              "  </tbody>\n",
              "</table>\n",
              "</div>"
            ],
            "text/plain": [
              "     Pclass       Sex       Age  ...      Fare  Embarked     Title\n",
              "0  0.827377 -0.737695 -1.787905  ... -0.014208 -0.570766 -0.542822\n",
              "1 -1.566107  1.355574 -1.373595  ... -0.692374  1.003699  0.037099\n",
              "2  0.827377  1.355574 -0.959285  ... -1.671948 -0.570766  0.617020\n",
              "3 -1.566107  1.355574 -0.544974  ... -1.295189 -0.570766  0.037099\n",
              "4  0.827377 -0.737695 -0.544974  ... -0.918430 -0.570766 -0.542822\n",
              "\n",
              "[5 rows x 8 columns]"
            ]
          },
          "metadata": {
            "tags": []
          }
        }
      ]
    },
    {
      "cell_type": "markdown",
      "metadata": {
        "id": "SAMZ0fUT7LiE",
        "colab_type": "text"
      },
      "source": [
        "# Análisis"
      ]
    },
    {
      "cell_type": "markdown",
      "metadata": {
        "id": "V7p9wArT7DMF",
        "colab_type": "text"
      },
      "source": [
        "## Análisis estadístico descriptivo"
      ]
    },
    {
      "cell_type": "code",
      "metadata": {
        "id": "1G5dMMut7g4S",
        "colab_type": "code",
        "outputId": "a4c4d376-6ad5-4c96-f765-88db03b0a964",
        "colab": {
          "base_uri": "https://localhost:8080/",
          "height": 297
        }
      },
      "source": [
        "# Estadísticas del DataFrame de entrenamiento\n",
        "display(X_train.describe())"
      ],
      "execution_count": 55,
      "outputs": [
        {
          "output_type": "display_data",
          "data": {
            "text/html": [
              "<div>\n",
              "<style scoped>\n",
              "    .dataframe tbody tr th:only-of-type {\n",
              "        vertical-align: middle;\n",
              "    }\n",
              "\n",
              "    .dataframe tbody tr th {\n",
              "        vertical-align: top;\n",
              "    }\n",
              "\n",
              "    .dataframe thead th {\n",
              "        text-align: right;\n",
              "    }\n",
              "</style>\n",
              "<table border=\"1\" class=\"dataframe\">\n",
              "  <thead>\n",
              "    <tr style=\"text-align: right;\">\n",
              "      <th></th>\n",
              "      <th>Pclass</th>\n",
              "      <th>Sex</th>\n",
              "      <th>Age</th>\n",
              "      <th>SibSp</th>\n",
              "      <th>Parch</th>\n",
              "      <th>Fare</th>\n",
              "      <th>Embarked</th>\n",
              "      <th>Title</th>\n",
              "    </tr>\n",
              "  </thead>\n",
              "  <tbody>\n",
              "    <tr>\n",
              "      <th>count</th>\n",
              "      <td>8.910000e+02</td>\n",
              "      <td>8.910000e+02</td>\n",
              "      <td>8.910000e+02</td>\n",
              "      <td>8.910000e+02</td>\n",
              "      <td>8.910000e+02</td>\n",
              "      <td>8.910000e+02</td>\n",
              "      <td>8.910000e+02</td>\n",
              "      <td>8.910000e+02</td>\n",
              "    </tr>\n",
              "    <tr>\n",
              "      <th>mean</th>\n",
              "      <td>-2.031048e-16</td>\n",
              "      <td>3.162453e-16</td>\n",
              "      <td>1.080318e-16</td>\n",
              "      <td>3.456519e-16</td>\n",
              "      <td>6.716164e-17</td>\n",
              "      <td>2.791133e-17</td>\n",
              "      <td>-6.230208e-17</td>\n",
              "      <td>2.367479e-17</td>\n",
              "    </tr>\n",
              "    <tr>\n",
              "      <th>std</th>\n",
              "      <td>1.000562e+00</td>\n",
              "      <td>1.000562e+00</td>\n",
              "      <td>1.000562e+00</td>\n",
              "      <td>1.000562e+00</td>\n",
              "      <td>1.000562e+00</td>\n",
              "      <td>1.000562e+00</td>\n",
              "      <td>1.000562e+00</td>\n",
              "      <td>1.000562e+00</td>\n",
              "    </tr>\n",
              "    <tr>\n",
              "      <th>min</th>\n",
              "      <td>-1.566107e+00</td>\n",
              "      <td>-7.376951e-01</td>\n",
              "      <td>-1.787905e+00</td>\n",
              "      <td>-4.745452e-01</td>\n",
              "      <td>-4.736736e-01</td>\n",
              "      <td>-1.671948e+00</td>\n",
              "      <td>-5.707655e-01</td>\n",
              "      <td>-5.428218e-01</td>\n",
              "    </tr>\n",
              "    <tr>\n",
              "      <th>25%</th>\n",
              "      <td>-3.693648e-01</td>\n",
              "      <td>-7.376951e-01</td>\n",
              "      <td>-6.278361e-01</td>\n",
              "      <td>-4.745452e-01</td>\n",
              "      <td>-4.736736e-01</td>\n",
              "      <td>-9.184295e-01</td>\n",
              "      <td>-5.707655e-01</td>\n",
              "      <td>-5.428218e-01</td>\n",
              "    </tr>\n",
              "    <tr>\n",
              "      <th>50%</th>\n",
              "      <td>8.273772e-01</td>\n",
              "      <td>-7.376951e-01</td>\n",
              "      <td>-4.780148e-02</td>\n",
              "      <td>-4.745452e-01</td>\n",
              "      <td>-4.736736e-01</td>\n",
              "      <td>-8.955957e-02</td>\n",
              "      <td>-5.707655e-01</td>\n",
              "      <td>-5.428218e-01</td>\n",
              "    </tr>\n",
              "    <tr>\n",
              "      <th>75%</th>\n",
              "      <td>8.273772e-01</td>\n",
              "      <td>1.355574e+00</td>\n",
              "      <td>6.979574e-01</td>\n",
              "      <td>4.327934e-01</td>\n",
              "      <td>-4.736736e-01</td>\n",
              "      <td>8.146622e-01</td>\n",
              "      <td>1.003699e+00</td>\n",
              "      <td>6.170204e-01</td>\n",
              "    </tr>\n",
              "    <tr>\n",
              "      <th>max</th>\n",
              "      <td>8.273772e-01</td>\n",
              "      <td>1.355574e+00</td>\n",
              "      <td>1.940889e+00</td>\n",
              "      <td>6.784163e+00</td>\n",
              "      <td>6.974147e+00</td>\n",
              "      <td>1.718884e+00</td>\n",
              "      <td>2.578164e+00</td>\n",
              "      <td>8.735916e+00</td>\n",
              "    </tr>\n",
              "  </tbody>\n",
              "</table>\n",
              "</div>"
            ],
            "text/plain": [
              "             Pclass           Sex  ...      Embarked         Title\n",
              "count  8.910000e+02  8.910000e+02  ...  8.910000e+02  8.910000e+02\n",
              "mean  -2.031048e-16  3.162453e-16  ... -6.230208e-17  2.367479e-17\n",
              "std    1.000562e+00  1.000562e+00  ...  1.000562e+00  1.000562e+00\n",
              "min   -1.566107e+00 -7.376951e-01  ... -5.707655e-01 -5.428218e-01\n",
              "25%   -3.693648e-01 -7.376951e-01  ... -5.707655e-01 -5.428218e-01\n",
              "50%    8.273772e-01 -7.376951e-01  ... -5.707655e-01 -5.428218e-01\n",
              "75%    8.273772e-01  1.355574e+00  ...  1.003699e+00  6.170204e-01\n",
              "max    8.273772e-01  1.355574e+00  ...  2.578164e+00  8.735916e+00\n",
              "\n",
              "[8 rows x 8 columns]"
            ]
          },
          "metadata": {
            "tags": []
          }
        }
      ]
    },
    {
      "cell_type": "code",
      "metadata": {
        "id": "VQDMtS_c7ixI",
        "colab_type": "code",
        "outputId": "6b6ea0ad-b7df-427e-bb5e-a83b6463064f",
        "colab": {
          "base_uri": "https://localhost:8080/",
          "height": 297
        }
      },
      "source": [
        "# Estadísticas del DataFrame test\n",
        "display(X_test.describe())"
      ],
      "execution_count": 56,
      "outputs": [
        {
          "output_type": "display_data",
          "data": {
            "text/html": [
              "<div>\n",
              "<style scoped>\n",
              "    .dataframe tbody tr th:only-of-type {\n",
              "        vertical-align: middle;\n",
              "    }\n",
              "\n",
              "    .dataframe tbody tr th {\n",
              "        vertical-align: top;\n",
              "    }\n",
              "\n",
              "    .dataframe thead th {\n",
              "        text-align: right;\n",
              "    }\n",
              "</style>\n",
              "<table border=\"1\" class=\"dataframe\">\n",
              "  <thead>\n",
              "    <tr style=\"text-align: right;\">\n",
              "      <th></th>\n",
              "      <th>Pclass</th>\n",
              "      <th>Sex</th>\n",
              "      <th>Age</th>\n",
              "      <th>SibSp</th>\n",
              "      <th>Parch</th>\n",
              "      <th>Fare</th>\n",
              "      <th>Embarked</th>\n",
              "      <th>Title</th>\n",
              "    </tr>\n",
              "  </thead>\n",
              "  <tbody>\n",
              "    <tr>\n",
              "      <th>count</th>\n",
              "      <td>418.000000</td>\n",
              "      <td>418.000000</td>\n",
              "      <td>418.000000</td>\n",
              "      <td>418.000000</td>\n",
              "      <td>418.000000</td>\n",
              "      <td>418.000000</td>\n",
              "      <td>418.000000</td>\n",
              "      <td>418.000000</td>\n",
              "    </tr>\n",
              "    <tr>\n",
              "      <th>mean</th>\n",
              "      <td>-0.051570</td>\n",
              "      <td>0.023493</td>\n",
              "      <td>-0.000027</td>\n",
              "      <td>-0.068631</td>\n",
              "      <td>0.013345</td>\n",
              "      <td>0.027434</td>\n",
              "      <td>0.159967</td>\n",
              "      <td>-0.067231</td>\n",
              "    </tr>\n",
              "    <tr>\n",
              "      <th>std</th>\n",
              "      <td>1.007462</td>\n",
              "      <td>1.008165</td>\n",
              "      <td>1.058201</td>\n",
              "      <td>0.813665</td>\n",
              "      <td>1.218251</td>\n",
              "      <td>1.017912</td>\n",
              "      <td>1.079321</td>\n",
              "      <td>0.794717</td>\n",
              "    </tr>\n",
              "    <tr>\n",
              "      <th>min</th>\n",
              "      <td>-1.566107</td>\n",
              "      <td>-0.737695</td>\n",
              "      <td>-1.787905</td>\n",
              "      <td>-0.474545</td>\n",
              "      <td>-0.473674</td>\n",
              "      <td>-1.671948</td>\n",
              "      <td>-0.570766</td>\n",
              "      <td>-0.542822</td>\n",
              "    </tr>\n",
              "    <tr>\n",
              "      <th>25%</th>\n",
              "      <td>-1.566107</td>\n",
              "      <td>-0.737695</td>\n",
              "      <td>-0.793560</td>\n",
              "      <td>-0.474545</td>\n",
              "      <td>-0.473674</td>\n",
              "      <td>-0.843078</td>\n",
              "      <td>-0.570766</td>\n",
              "      <td>-0.542822</td>\n",
              "    </tr>\n",
              "    <tr>\n",
              "      <th>50%</th>\n",
              "      <td>0.827377</td>\n",
              "      <td>-0.737695</td>\n",
              "      <td>0.035061</td>\n",
              "      <td>-0.474545</td>\n",
              "      <td>-0.473674</td>\n",
              "      <td>-0.051884</td>\n",
              "      <td>-0.570766</td>\n",
              "      <td>-0.542822</td>\n",
              "    </tr>\n",
              "    <tr>\n",
              "      <th>75%</th>\n",
              "      <td>0.827377</td>\n",
              "      <td>1.355574</td>\n",
              "      <td>0.697957</td>\n",
              "      <td>0.432793</td>\n",
              "      <td>-0.473674</td>\n",
              "      <td>0.965366</td>\n",
              "      <td>1.003699</td>\n",
              "      <td>0.588024</td>\n",
              "    </tr>\n",
              "    <tr>\n",
              "      <th>max</th>\n",
              "      <td>0.827377</td>\n",
              "      <td>1.355574</td>\n",
              "      <td>1.940889</td>\n",
              "      <td>6.784163</td>\n",
              "      <td>10.698058</td>\n",
              "      <td>1.718884</td>\n",
              "      <td>2.578164</td>\n",
              "      <td>6.996152</td>\n",
              "    </tr>\n",
              "  </tbody>\n",
              "</table>\n",
              "</div>"
            ],
            "text/plain": [
              "           Pclass         Sex         Age  ...        Fare    Embarked       Title\n",
              "count  418.000000  418.000000  418.000000  ...  418.000000  418.000000  418.000000\n",
              "mean    -0.051570    0.023493   -0.000027  ...    0.027434    0.159967   -0.067231\n",
              "std      1.007462    1.008165    1.058201  ...    1.017912    1.079321    0.794717\n",
              "min     -1.566107   -0.737695   -1.787905  ...   -1.671948   -0.570766   -0.542822\n",
              "25%     -1.566107   -0.737695   -0.793560  ...   -0.843078   -0.570766   -0.542822\n",
              "50%      0.827377   -0.737695    0.035061  ...   -0.051884   -0.570766   -0.542822\n",
              "75%      0.827377    1.355574    0.697957  ...    0.965366    1.003699    0.588024\n",
              "max      0.827377    1.355574    1.940889  ...    1.718884    2.578164    6.996152\n",
              "\n",
              "[8 rows x 8 columns]"
            ]
          },
          "metadata": {
            "tags": []
          }
        }
      ]
    },
    {
      "cell_type": "markdown",
      "metadata": {
        "id": "6QcwOlmFsAWq",
        "colab_type": "text"
      },
      "source": [
        "## Análisis estadístico inferencial"
      ]
    },
    {
      "cell_type": "markdown",
      "metadata": {
        "id": "GQu6vQzI8161",
        "colab_type": "text"
      },
      "source": [
        "### Análisis de normalidad y homocedasticidad"
      ]
    },
    {
      "cell_type": "code",
      "metadata": {
        "id": "Yx5qkMO5snPk",
        "colab_type": "code",
        "colab": {}
      },
      "source": [
        "# Se define una función para realizar el análisis de normalidad\n",
        "def normality_test(X, variable):\n",
        "  # Se aplica el test Shapiro-Wilk para la variable\n",
        "  statistic, pvalue = stats.shapiro(X[variable])\n",
        "  statistic = round(statistic, 6)\n",
        "  pvalue = round(pvalue, 6)\n",
        "  print('statistic = '+str(statistic))\n",
        "  print('pvalue = '+str(pvalue))\n",
        "\n",
        "  if pvalue < 0.05:\n",
        "    print(\"La distribución no se ajusta a una distribución normal\")\n",
        "  if pvalue > 0.05:\n",
        "    print(\"La distribución se ajusta a una distribución normal\")\n",
        "    \n",
        "  # Se muestra el histograma de la variable\n",
        "  plot = sns.distplot(X[variable]);"
      ],
      "execution_count": 0,
      "outputs": []
    },
    {
      "cell_type": "code",
      "metadata": {
        "id": "1vkdQ14hs_E7",
        "colab_type": "code",
        "colab": {}
      },
      "source": [
        "# Se define una función para realizar el análisis de homocedasticidad\n",
        "def homoscedasticity_test(X, variable):\n",
        "  # Se aplica el test Fligner-Killeen para la variable y según si la persona sobrevivió o no\n",
        "  statistic, pvalue = stats.fligner(X[X['Survived'] == 0][variable], X[X['Survived'] == 1][variable])\n",
        "  statistic = round(statistic, 6)\n",
        "  pvalue = round(pvalue, 6)\n",
        "  print('statistic = '+str(statistic))\n",
        "  print('pvalue = '+str(pvalue))\n",
        "\n",
        "  if pvalue < 0.05:\n",
        "    print(\"Las varianzas son significativamente difernetes\")\n",
        "  else:\n",
        "    print(\"Las varianzas no son significativamente difernetes\")\n",
        "\n",
        "  # Se muestran los histogramas de la variable según si la persona sobrevivió o no\n",
        "  plot = sns.catplot(x = variable, kind = \"box\", row = 'Survived', height = 4, data = X)"
      ],
      "execution_count": 0,
      "outputs": []
    },
    {
      "cell_type": "code",
      "metadata": {
        "id": "_nfPqhVH0Wgk",
        "colab_type": "code",
        "colab": {}
      },
      "source": [
        "# Se vuelven a unir las características con la clase a predecir\n",
        "# para poder aplicar los tests\n",
        "Xy_train = X_train.copy()\n",
        "Xy_train['Survived'] = y_train"
      ],
      "execution_count": 0,
      "outputs": []
    },
    {
      "cell_type": "code",
      "metadata": {
        "id": "Oo81gPmTv2cz",
        "colab_type": "code",
        "outputId": "9f4f5671-a610-450c-b3b1-7ef4957b220e",
        "colab": {
          "base_uri": "https://localhost:8080/",
          "height": 34
        }
      },
      "source": [
        "X_train.columns"
      ],
      "execution_count": 60,
      "outputs": [
        {
          "output_type": "execute_result",
          "data": {
            "text/plain": [
              "Index(['Pclass', 'Sex', 'Age', 'SibSp', 'Parch', 'Fare', 'Embarked', 'Title'], dtype='object')"
            ]
          },
          "metadata": {
            "tags": []
          },
          "execution_count": 60
        }
      ]
    },
    {
      "cell_type": "code",
      "metadata": {
        "id": "_2eSzyqCsMFk",
        "colab_type": "code",
        "outputId": "b6b78f9c-89a9-4c62-9306-c486e644f6ce",
        "colab": {
          "base_uri": "https://localhost:8080/",
          "height": 330
        }
      },
      "source": [
        "normality_test(Xy_train, 'Age')"
      ],
      "execution_count": 61,
      "outputs": [
        {
          "output_type": "stream",
          "text": [
            "statistic = 0.972815\n",
            "pvalue = 0.0\n",
            "La distribución no se ajusta a una distribución normal\n"
          ],
          "name": "stdout"
        },
        {
          "output_type": "display_data",
          "data": {
            "image/png": "[encoded data removed]",
            "text/plain": [
              "<Figure size 432x288 with 1 Axes>"
            ]
          },
          "metadata": {
            "tags": [],
            "needs_background": "light"
          }
        }
      ]
    },
    {
      "cell_type": "code",
      "metadata": {
        "id": "qsG_6TV_pgOE",
        "colab_type": "code",
        "outputId": "e86766b4-a333-483e-9b55-66bd5fd5edda",
        "colab": {
          "base_uri": "https://localhost:8080/",
          "height": 636
        }
      },
      "source": [
        "homoscedasticity_test(Xy_train, 'Age')"
      ],
      "execution_count": 62,
      "outputs": [
        {
          "output_type": "stream",
          "text": [
            "statistic = 0.31684\n",
            "pvalue = 0.573513\n",
            "Las varianzas no son significativamente difernetes\n"
          ],
          "name": "stdout"
        },
        {
          "output_type": "display_data",
          "data": {
            "image/png": "[encoded data removed]",
            "text/plain": [
              "<Figure size 288x576 with 2 Axes>"
            ]
          },
          "metadata": {
            "tags": [],
            "needs_background": "light"
          }
        }
      ]
    },
    {
      "cell_type": "code",
      "metadata": {
        "id": "ddlvSFxgtbdx",
        "colab_type": "code",
        "outputId": "b67ad78b-fcdc-4e22-ec9a-9b994c62ddb0",
        "colab": {
          "base_uri": "https://localhost:8080/",
          "height": 330
        }
      },
      "source": [
        "normality_test(Xy_train, 'Fare')"
      ],
      "execution_count": 63,
      "outputs": [
        {
          "output_type": "stream",
          "text": [
            "statistic = 0.955148\n",
            "pvalue = 0.0\n",
            "La distribución no se ajusta a una distribución normal\n"
          ],
          "name": "stdout"
        },
        {
          "output_type": "display_data",
          "data": {
            "image/png": "[encoded data removed]",
            "text/plain": [
              "<Figure size 432x288 with 1 Axes>"
            ]
          },
          "metadata": {
            "tags": [],
            "needs_background": "light"
          }
        }
      ]
    },
    {
      "cell_type": "code",
      "metadata": {
        "id": "vn1VkARPtfJk",
        "colab_type": "code",
        "outputId": "481b7482-35a9-457d-e684-95709c34062f",
        "colab": {
          "base_uri": "https://localhost:8080/",
          "height": 636
        }
      },
      "source": [
        "homoscedasticity_test(Xy_train, 'Fare')"
      ],
      "execution_count": 64,
      "outputs": [
        {
          "output_type": "stream",
          "text": [
            "statistic = 0.239168\n",
            "pvalue = 0.624807\n",
            "Las varianzas no son significativamente difernetes\n"
          ],
          "name": "stdout"
        },
        {
          "output_type": "display_data",
          "data": {
            "image/png": "[encoded data removed]",
            "text/plain": [
              "<Figure size 288x576 with 2 Axes>"
            ]
          },
          "metadata": {
            "tags": [],
            "needs_background": "light"
          }
        }
      ]
    },
    {
      "cell_type": "markdown",
      "metadata": {
        "id": "zddc4RrCquqj",
        "colab_type": "text"
      },
      "source": [
        "### Análisis de correlación y regresión lineal"
      ]
    },
    {
      "cell_type": "code",
      "metadata": {
        "id": "goolCstyp5yy",
        "colab_type": "code",
        "outputId": "06083489-1af8-4023-b306-28f7b37bb672",
        "colab": {
          "base_uri": "https://localhost:8080/",
          "height": 537
        }
      },
      "source": [
        "# Compute the correlation matrix\n",
        "corr = Xy_train.corr()\n",
        "\n",
        "# Generate a mask for the upper triangle\n",
        "mask = np.triu(np.ones_like(corr, dtype=np.bool))\n",
        "\n",
        "# Set up the matplotlib figure\n",
        "f, ax = plt.subplots(figsize=(11, 9))\n",
        "\n",
        "# Generate a custom diverging colormap\n",
        "cmap = sns.diverging_palette(220, 10, as_cmap=True)\n",
        "\n",
        "# Draw the heatmap with the mask and correct aspect ratio\n",
        "plot = sns.heatmap(corr, mask=mask, cmap=cmap, vmax=.3, center=0,\n",
        "            square=True, linewidths=.5, cbar_kws={\"shrink\": .5})"
      ],
      "execution_count": 65,
      "outputs": [
        {
          "output_type": "display_data",
          "data": {
            "image/png": "[encoded data removed]",
            "text/plain": [
              "<Figure size 792x648 with 2 Axes>"
            ]
          },
          "metadata": {
            "tags": [],
            "needs_background": "light"
          }
        }
      ]
    },
    {
      "cell_type": "code",
      "metadata": {
        "id": "IQuRt9f3kAR7",
        "colab_type": "code",
        "outputId": "fef46653-f17d-4bcd-d23a-c87d1bdbca93",
        "colab": {
          "base_uri": "https://localhost:8080/",
          "height": 570
        }
      },
      "source": [
        "model = sm.OLS(y_train.values.ravel(), X_train).fit()\n",
        "display(model.summary())"
      ],
      "execution_count": 66,
      "outputs": [
        {
          "output_type": "display_data",
          "data": {
            "text/html": [
              "<table class=\"simpletable\">\n",
              "<caption>OLS Regression Results</caption>\n",
              "<tr>\n",
              "  <th>Dep. Variable:</th>            <td>y</td>        <th>  R-squared (uncentered):</th>      <td>   0.235</td>\n",
              "</tr>\n",
              "<tr>\n",
              "  <th>Model:</th>                   <td>OLS</td>       <th>  Adj. R-squared (uncentered):</th> <td>   0.228</td>\n",
              "</tr>\n",
              "<tr>\n",
              "  <th>Method:</th>             <td>Least Squares</td>  <th>  F-statistic:       </th>          <td>   33.96</td>\n",
              "</tr>\n",
              "<tr>\n",
              "  <th>Date:</th>             <td>Sun, 24 May 2020</td> <th>  Prob (F-statistic):</th>          <td>7.17e-47</td>\n",
              "</tr>\n",
              "<tr>\n",
              "  <th>Time:</th>                 <td>16:03:01</td>     <th>  Log-Likelihood:    </th>          <td> -718.19</td>\n",
              "</tr>\n",
              "<tr>\n",
              "  <th>No. Observations:</th>      <td>   891</td>      <th>  AIC:               </th>          <td>   1452.</td>\n",
              "</tr>\n",
              "<tr>\n",
              "  <th>Df Residuals:</th>          <td>   883</td>      <th>  BIC:               </th>          <td>   1491.</td>\n",
              "</tr>\n",
              "<tr>\n",
              "  <th>Df Model:</th>              <td>     8</td>      <th>                     </th>              <td> </td>   \n",
              "</tr>\n",
              "<tr>\n",
              "  <th>Covariance Type:</th>      <td>nonrobust</td>    <th>                     </th>              <td> </td>   \n",
              "</tr>\n",
              "</table>\n",
              "<table class=\"simpletable\">\n",
              "<tr>\n",
              "      <td></td>        <th>coef</th>     <th>std err</th>      <th>t</th>      <th>P>|t|</th>  <th>[0.025</th>    <th>0.975]</th>  \n",
              "</tr>\n",
              "<tr>\n",
              "  <th>Pclass</th>   <td>   -0.1258</td> <td>    0.019</td> <td>   -6.664</td> <td> 0.000</td> <td>   -0.163</td> <td>   -0.089</td>\n",
              "</tr>\n",
              "<tr>\n",
              "  <th>Sex</th>      <td>    0.2388</td> <td>    0.020</td> <td>   11.740</td> <td> 0.000</td> <td>    0.199</td> <td>    0.279</td>\n",
              "</tr>\n",
              "<tr>\n",
              "  <th>Age</th>      <td>    0.0048</td> <td>    0.019</td> <td>    0.259</td> <td> 0.796</td> <td>   -0.032</td> <td>    0.041</td>\n",
              "</tr>\n",
              "<tr>\n",
              "  <th>SibSp</th>    <td>   -0.0396</td> <td>    0.021</td> <td>   -1.925</td> <td> 0.055</td> <td>   -0.080</td> <td>    0.001</td>\n",
              "</tr>\n",
              "<tr>\n",
              "  <th>Parch</th>    <td>   -0.0044</td> <td>    0.021</td> <td>   -0.215</td> <td> 0.830</td> <td>   -0.045</td> <td>    0.036</td>\n",
              "</tr>\n",
              "<tr>\n",
              "  <th>Fare</th>     <td>   -0.0195</td> <td>    0.019</td> <td>   -1.028</td> <td> 0.304</td> <td>   -0.057</td> <td>    0.018</td>\n",
              "</tr>\n",
              "<tr>\n",
              "  <th>Embarked</th> <td>    0.0263</td> <td>    0.019</td> <td>    1.400</td> <td> 0.162</td> <td>   -0.011</td> <td>    0.063</td>\n",
              "</tr>\n",
              "<tr>\n",
              "  <th>Title</th>    <td>    0.0368</td> <td>    0.020</td> <td>    1.831</td> <td> 0.067</td> <td>   -0.003</td> <td>    0.076</td>\n",
              "</tr>\n",
              "</table>\n",
              "<table class=\"simpletable\">\n",
              "<tr>\n",
              "  <th>Omnibus:</th>       <td>39.513</td> <th>  Durbin-Watson:     </th> <td>   0.970</td>\n",
              "</tr>\n",
              "<tr>\n",
              "  <th>Prob(Omnibus):</th> <td> 0.000</td> <th>  Jarque-Bera (JB):  </th> <td>  43.876</td>\n",
              "</tr>\n",
              "<tr>\n",
              "  <th>Skew:</th>          <td> 0.542</td> <th>  Prob(JB):          </th> <td>2.97e-10</td>\n",
              "</tr>\n",
              "<tr>\n",
              "  <th>Kurtosis:</th>      <td> 3.083</td> <th>  Cond. No.          </th> <td>    1.84</td>\n",
              "</tr>\n",
              "</table><br/><br/>Warnings:<br/>[1] Standard Errors assume that the covariance matrix of the errors is correctly specified."
            ],
            "text/plain": [
              "<class 'statsmodels.iolib.summary.Summary'>\n",
              "\"\"\"\n",
              "                                 OLS Regression Results                                \n",
              "=======================================================================================\n",
              "Dep. Variable:                      y   R-squared (uncentered):                   0.235\n",
              "Model:                            OLS   Adj. R-squared (uncentered):              0.228\n",
              "Method:                 Least Squares   F-statistic:                              33.96\n",
              "Date:                Sun, 24 May 2020   Prob (F-statistic):                    7.17e-47\n",
              "Time:                        16:03:01   Log-Likelihood:                         -718.19\n",
              "No. Observations:                 891   AIC:                                      1452.\n",
              "Df Residuals:                     883   BIC:                                      1491.\n",
              "Df Model:                           8                                                  \n",
              "Covariance Type:            nonrobust                                                  \n",
              "==============================================================================\n",
              "                 coef    std err          t      P>|t|      [0.025      0.975]\n",
              "------------------------------------------------------------------------------\n",
              "Pclass        -0.1258      0.019     -6.664      0.000      -0.163      -0.089\n",
              "Sex            0.2388      0.020     11.740      0.000       0.199       0.279\n",
              "Age            0.0048      0.019      0.259      0.796      -0.032       0.041\n",
              "SibSp         -0.0396      0.021     -1.925      0.055      -0.080       0.001\n",
              "Parch         -0.0044      0.021     -0.215      0.830      -0.045       0.036\n",
              "Fare          -0.0195      0.019     -1.028      0.304      -0.057       0.018\n",
              "Embarked       0.0263      0.019      1.400      0.162      -0.011       0.063\n",
              "Title          0.0368      0.020      1.831      0.067      -0.003       0.076\n",
              "==============================================================================\n",
              "Omnibus:                       39.513   Durbin-Watson:                   0.970\n",
              "Prob(Omnibus):                  0.000   Jarque-Bera (JB):               43.876\n",
              "Skew:                           0.542   Prob(JB):                     2.97e-10\n",
              "Kurtosis:                       3.083   Cond. No.                         1.84\n",
              "==============================================================================\n",
              "\n",
              "Warnings:\n",
              "[1] Standard Errors assume that the covariance matrix of the errors is correctly specified.\n",
              "\"\"\""
            ]
          },
          "metadata": {
            "tags": []
          }
        }
      ]
    },
    {
      "cell_type": "markdown",
      "metadata": {
        "id": "JAI_dGwJBnV9",
        "colab_type": "text"
      },
      "source": [
        "### Análisis de Regresion"
      ]
    },
    {
      "cell_type": "code",
      "metadata": {
        "id": "mWxWapuBjbit",
        "colab_type": "code",
        "outputId": "ea143e6e-b728-4ecb-a188-d90b30305487",
        "colab": {
          "base_uri": "https://localhost:8080/",
          "height": 85
        }
      },
      "source": [
        "# Se genera un modelo de regresión logística a partir del subconjunto de \n",
        "# datos de entrenamiento\n",
        "clf = LogisticRegression(solver = 'lbfgs')\n",
        "clf.fit(X_train, y_train.values.ravel())\n",
        "\n",
        "# Se valida el modelo comparando las predicciones realizadas a partir\n",
        "# del subconjunto de datos de validación con los valores reales\n",
        "y_pred = clf.predict(X_train)\n",
        "\n",
        "train_acc = round(accuracy_score(y_train, y_pred, normalize=True),6)\n",
        "cmatrix_train = confusion_matrix(y_train, y_pred)\n",
        "\n",
        "print('Matriz de confusión del modelo:\\n', cmatrix_train)\n",
        "print('Precisión del modelo:', train_acc)"
      ],
      "execution_count": 67,
      "outputs": [
        {
          "output_type": "stream",
          "text": [
            "Matriz de confusión del modelo:\n",
            " [[479  70]\n",
            " [109 233]]\n",
            "Precisión del modelo: 0.799102\n"
          ],
          "name": "stdout"
        }
      ]
    },
    {
      "cell_type": "markdown",
      "metadata": {
        "id": "HGa9uiU5uzin",
        "colab_type": "text"
      },
      "source": [
        "## Aprendizaje automático"
      ]
    },
    {
      "cell_type": "code",
      "metadata": {
        "id": "lVHjvXzSu1ff",
        "colab_type": "code",
        "colab": {}
      },
      "source": [
        "# ML Model train\n",
        "def train_ml_model(model, X_train, y_train, X_val, y_val, epochs, batch_size, patience, shuffle=True):\n",
        "    # patient early stopping\n",
        "    es = EarlyStopping(monitor='val_loss', mode='min', verbose=1, patience=patience)\n",
        "    mc = ModelCheckpoint('best_model.h5', monitor='val_loss', mode='min', verbose=0, save_best_only=True)\n",
        "\n",
        "    # fit model\n",
        "    history = model.fit(X_train, y_train, validation_data=(X_val, y_val), epochs=epochs, batch_size=batch_size, verbose=1, shuffle=shuffle, callbacks=[es, mc])\n",
        "\n",
        "    # load the saved model\n",
        "    model = load_model('best_model.h5')\n",
        "\n",
        "    # plot training history\n",
        "    plt.plot(history.history['loss'], label='train')\n",
        "    plt.plot(history.history['val_loss'], label='val')\n",
        "    plt.legend()\n",
        "    plt.show()\n",
        "  \n",
        "    # Estimate model performance\n",
        "    trainScore = model.evaluate(X_train, y_train, batch_size=batch_size, verbose=0)\n",
        "    valScore = model.evaluate(X_val, y_val, batch_size=batch_size, verbose=0)\n",
        "  \n",
        "    print('Train Loss: %.6f' % trainScore[0])\n",
        "    print('Train Accuracy: %.6f' % trainScore[1])\n",
        "    print('Val Loss: %.6f' % valScore[0])\n",
        "    print('Val Accuracy: %.6f' % valScore[1])\n",
        "  \n",
        "    return model"
      ],
      "execution_count": 0,
      "outputs": []
    },
    {
      "cell_type": "code",
      "metadata": {
        "id": "Xef_UtJ2veEZ",
        "colab_type": "code",
        "colab": {}
      },
      "source": [
        "# Entrenar Red neuronal densa\n",
        "def dense_nn(X, y, epochs, batch_size, lr, patience, neurons, shuffle=True): \n",
        "  # Split test y val\n",
        "  X_train, X_val, y_train, y_val = train_test_split(X, y, test_size=0.1)\n",
        "\n",
        "  # Dimensiones\n",
        "  n_input =  X_train.shape[1]\n",
        "  n_output = y_train.shape[1]\n",
        "  \n",
        "  model = Sequential([\n",
        "      Dense(n_input, input_dim=n_input, activation='relu'),\n",
        "      Dense(neurons, activation='relu'),\n",
        "      Dense(n_output, activation='sigmoid')\n",
        "  ])\n",
        "  \n",
        "  model.compile(optimizer=Adam(lr=lr), loss='binary_crossentropy', metrics=['accuracy'])\n",
        "\n",
        "  model = train_ml_model(model, X_train, y_train, X_val, y_val, epochs, batch_size, patience, shuffle)\n",
        "  \n",
        "  return model"
      ],
      "execution_count": 0,
      "outputs": []
    },
    {
      "cell_type": "code",
      "metadata": {
        "id": "o_MSlFfIvbZB",
        "colab_type": "code",
        "colab": {}
      },
      "source": [
        "# ML Model predict\n",
        "def predict_with_ml_model(model, X, batch_size):\n",
        "  y_pred = (model.predict(X, batch_size=batch_size) > 0.5).astype(\"int32\")\n",
        "\n",
        "  return y_pred"
      ],
      "execution_count": 0,
      "outputs": []
    },
    {
      "cell_type": "code",
      "metadata": {
        "id": "7S2bc6uRwaTa",
        "colab_type": "code",
        "outputId": "da2ad190-7978-4073-d4b6-8390a2164182",
        "colab": {
          "base_uri": "https://localhost:8080/",
          "height": 1000
        }
      },
      "source": [
        "model = dense_nn(X_train, y_train, epochs=epochs, batch_size=batch_size, lr=lr, patience=patience, neurons=neurons)"
      ],
      "execution_count": 71,
      "outputs": [
        {
          "output_type": "stream",
          "text": [
            "Epoch 1/200\n",
            "801/801 [==============================] - 1s 2ms/step - loss: 0.6438 - accuracy: 0.6692 - val_loss: 0.6044 - val_accuracy: 0.7778\n",
            "Epoch 2/200\n",
            "801/801 [==============================] - 1s 1ms/step - loss: 0.5809 - accuracy: 0.7378 - val_loss: 0.5438 - val_accuracy: 0.7889\n",
            "Epoch 3/200\n",
            "801/801 [==============================] - 1s 1ms/step - loss: 0.5397 - accuracy: 0.7665 - val_loss: 0.5019 - val_accuracy: 0.8333\n",
            "Epoch 4/200\n",
            "801/801 [==============================] - 1s 1ms/step - loss: 0.5136 - accuracy: 0.7828 - val_loss: 0.4729 - val_accuracy: 0.8111\n",
            "Epoch 5/200\n",
            "801/801 [==============================] - 1s 1ms/step - loss: 0.4961 - accuracy: 0.7915 - val_loss: 0.4510 - val_accuracy: 0.8222\n",
            "Epoch 6/200\n",
            "801/801 [==============================] - 1s 1ms/step - loss: 0.4833 - accuracy: 0.7928 - val_loss: 0.4386 - val_accuracy: 0.8111\n",
            "Epoch 7/200\n",
            "801/801 [==============================] - 1s 1ms/step - loss: 0.4741 - accuracy: 0.7965 - val_loss: 0.4263 - val_accuracy: 0.8222\n",
            "Epoch 8/200\n",
            "801/801 [==============================] - 1s 1ms/step - loss: 0.4668 - accuracy: 0.8002 - val_loss: 0.4182 - val_accuracy: 0.8111\n",
            "Epoch 9/200\n",
            "801/801 [==============================] - 1s 1ms/step - loss: 0.4614 - accuracy: 0.8052 - val_loss: 0.4072 - val_accuracy: 0.8222\n",
            "Epoch 10/200\n",
            "801/801 [==============================] - 1s 1ms/step - loss: 0.4555 - accuracy: 0.8015 - val_loss: 0.4039 - val_accuracy: 0.8222\n",
            "Epoch 11/200\n",
            "801/801 [==============================] - 1s 1ms/step - loss: 0.4514 - accuracy: 0.8077 - val_loss: 0.3969 - val_accuracy: 0.8222\n",
            "Epoch 12/200\n",
            "801/801 [==============================] - 1s 1ms/step - loss: 0.4472 - accuracy: 0.8115 - val_loss: 0.3978 - val_accuracy: 0.8222\n",
            "Epoch 13/200\n",
            "801/801 [==============================] - 1s 1ms/step - loss: 0.4446 - accuracy: 0.8102 - val_loss: 0.3913 - val_accuracy: 0.8222\n",
            "Epoch 14/200\n",
            "801/801 [==============================] - 1s 1ms/step - loss: 0.4416 - accuracy: 0.8127 - val_loss: 0.3877 - val_accuracy: 0.8222\n",
            "Epoch 15/200\n",
            "801/801 [==============================] - 1s 1ms/step - loss: 0.4392 - accuracy: 0.8140 - val_loss: 0.3853 - val_accuracy: 0.8222\n",
            "Epoch 16/200\n",
            "801/801 [==============================] - 1s 1ms/step - loss: 0.4364 - accuracy: 0.8152 - val_loss: 0.3847 - val_accuracy: 0.8111\n",
            "Epoch 17/200\n",
            "801/801 [==============================] - 1s 1ms/step - loss: 0.4346 - accuracy: 0.8190 - val_loss: 0.3826 - val_accuracy: 0.8111\n",
            "Epoch 18/200\n",
            "801/801 [==============================] - 1s 1ms/step - loss: 0.4321 - accuracy: 0.8215 - val_loss: 0.3755 - val_accuracy: 0.8333\n",
            "Epoch 19/200\n",
            "801/801 [==============================] - 1s 1ms/step - loss: 0.4311 - accuracy: 0.8215 - val_loss: 0.3745 - val_accuracy: 0.8333\n",
            "Epoch 20/200\n",
            "801/801 [==============================] - 1s 1ms/step - loss: 0.4294 - accuracy: 0.8165 - val_loss: 0.3729 - val_accuracy: 0.8333\n",
            "Epoch 21/200\n",
            "801/801 [==============================] - 1s 1ms/step - loss: 0.4279 - accuracy: 0.8215 - val_loss: 0.3723 - val_accuracy: 0.8333\n",
            "Epoch 22/200\n",
            "801/801 [==============================] - 1s 1ms/step - loss: 0.4268 - accuracy: 0.8202 - val_loss: 0.3693 - val_accuracy: 0.8333\n",
            "Epoch 23/200\n",
            "801/801 [==============================] - 1s 1ms/step - loss: 0.4257 - accuracy: 0.8277 - val_loss: 0.3719 - val_accuracy: 0.8222\n",
            "Epoch 24/200\n",
            "801/801 [==============================] - 1s 1ms/step - loss: 0.4245 - accuracy: 0.8252 - val_loss: 0.3681 - val_accuracy: 0.8333\n",
            "Epoch 25/200\n",
            "801/801 [==============================] - 1s 1ms/step - loss: 0.4233 - accuracy: 0.8252 - val_loss: 0.3691 - val_accuracy: 0.8333\n",
            "Epoch 26/200\n",
            "801/801 [==============================] - 1s 1ms/step - loss: 0.4224 - accuracy: 0.8265 - val_loss: 0.3712 - val_accuracy: 0.8222\n",
            "Epoch 27/200\n",
            "801/801 [==============================] - 1s 1ms/step - loss: 0.4217 - accuracy: 0.8215 - val_loss: 0.3667 - val_accuracy: 0.8333\n",
            "Epoch 28/200\n",
            "801/801 [==============================] - 1s 1ms/step - loss: 0.4205 - accuracy: 0.8277 - val_loss: 0.3720 - val_accuracy: 0.8222\n",
            "Epoch 29/200\n",
            "801/801 [==============================] - 1s 1ms/step - loss: 0.4200 - accuracy: 0.8252 - val_loss: 0.3687 - val_accuracy: 0.8222\n",
            "Epoch 30/200\n",
            "801/801 [==============================] - 1s 1ms/step - loss: 0.4189 - accuracy: 0.8240 - val_loss: 0.3705 - val_accuracy: 0.8222\n",
            "Epoch 31/200\n",
            "801/801 [==============================] - 1s 1ms/step - loss: 0.4182 - accuracy: 0.8277 - val_loss: 0.3654 - val_accuracy: 0.8222\n",
            "Epoch 32/200\n",
            "801/801 [==============================] - 1s 1ms/step - loss: 0.4175 - accuracy: 0.8277 - val_loss: 0.3648 - val_accuracy: 0.8222\n",
            "Epoch 33/200\n",
            "801/801 [==============================] - 1s 1ms/step - loss: 0.4169 - accuracy: 0.8277 - val_loss: 0.3651 - val_accuracy: 0.8222\n",
            "Epoch 34/200\n",
            "801/801 [==============================] - 1s 1ms/step - loss: 0.4161 - accuracy: 0.8315 - val_loss: 0.3647 - val_accuracy: 0.8222\n",
            "Epoch 35/200\n",
            "801/801 [==============================] - 1s 1ms/step - loss: 0.4154 - accuracy: 0.8290 - val_loss: 0.3663 - val_accuracy: 0.8222\n",
            "Epoch 36/200\n",
            "801/801 [==============================] - 1s 1ms/step - loss: 0.4146 - accuracy: 0.8215 - val_loss: 0.3613 - val_accuracy: 0.8222\n",
            "Epoch 37/200\n",
            "801/801 [==============================] - 1s 1ms/step - loss: 0.4139 - accuracy: 0.8315 - val_loss: 0.3671 - val_accuracy: 0.8333\n",
            "Epoch 38/200\n",
            "801/801 [==============================] - 1s 1ms/step - loss: 0.4137 - accuracy: 0.8240 - val_loss: 0.3612 - val_accuracy: 0.8222\n",
            "Epoch 39/200\n",
            "801/801 [==============================] - 1s 1ms/step - loss: 0.4132 - accuracy: 0.8277 - val_loss: 0.3641 - val_accuracy: 0.8333\n",
            "Epoch 40/200\n",
            "801/801 [==============================] - 1s 1ms/step - loss: 0.4129 - accuracy: 0.8277 - val_loss: 0.3608 - val_accuracy: 0.8222\n",
            "Epoch 41/200\n",
            "801/801 [==============================] - 1s 1ms/step - loss: 0.4119 - accuracy: 0.8277 - val_loss: 0.3596 - val_accuracy: 0.8222\n",
            "Epoch 42/200\n",
            "801/801 [==============================] - 1s 1ms/step - loss: 0.4115 - accuracy: 0.8277 - val_loss: 0.3612 - val_accuracy: 0.8222\n",
            "Epoch 43/200\n",
            "801/801 [==============================] - 1s 1ms/step - loss: 0.4106 - accuracy: 0.8315 - val_loss: 0.3642 - val_accuracy: 0.8222\n",
            "Epoch 44/200\n",
            "801/801 [==============================] - 1s 1ms/step - loss: 0.4103 - accuracy: 0.8327 - val_loss: 0.3645 - val_accuracy: 0.8222\n",
            "Epoch 45/200\n",
            "801/801 [==============================] - 1s 1ms/step - loss: 0.4094 - accuracy: 0.8315 - val_loss: 0.3652 - val_accuracy: 0.8222\n",
            "Epoch 46/200\n",
            "801/801 [==============================] - 1s 1ms/step - loss: 0.4093 - accuracy: 0.8265 - val_loss: 0.3611 - val_accuracy: 0.8333\n",
            "Epoch 47/200\n",
            "801/801 [==============================] - 1s 1ms/step - loss: 0.4078 - accuracy: 0.8327 - val_loss: 0.3616 - val_accuracy: 0.8222\n",
            "Epoch 48/200\n",
            "801/801 [==============================] - 1s 1ms/step - loss: 0.4077 - accuracy: 0.8290 - val_loss: 0.3598 - val_accuracy: 0.8333\n",
            "Epoch 49/200\n",
            "801/801 [==============================] - 1s 1ms/step - loss: 0.4067 - accuracy: 0.8327 - val_loss: 0.3542 - val_accuracy: 0.8556\n",
            "Epoch 50/200\n",
            "801/801 [==============================] - 1s 1ms/step - loss: 0.4063 - accuracy: 0.8340 - val_loss: 0.3564 - val_accuracy: 0.8333\n",
            "Epoch 51/200\n",
            "801/801 [==============================] - 1s 1ms/step - loss: 0.4049 - accuracy: 0.8327 - val_loss: 0.3590 - val_accuracy: 0.8333\n",
            "Epoch 52/200\n",
            "801/801 [==============================] - 1s 1ms/step - loss: 0.4053 - accuracy: 0.8352 - val_loss: 0.3558 - val_accuracy: 0.8556\n",
            "Epoch 53/200\n",
            "801/801 [==============================] - 1s 1ms/step - loss: 0.4047 - accuracy: 0.8352 - val_loss: 0.3535 - val_accuracy: 0.8556\n",
            "Epoch 54/200\n",
            "801/801 [==============================] - 1s 1ms/step - loss: 0.4042 - accuracy: 0.8390 - val_loss: 0.3526 - val_accuracy: 0.8556\n",
            "Epoch 55/200\n",
            "801/801 [==============================] - 1s 1ms/step - loss: 0.4039 - accuracy: 0.8365 - val_loss: 0.3544 - val_accuracy: 0.8556\n",
            "Epoch 56/200\n",
            "801/801 [==============================] - 1s 1ms/step - loss: 0.4031 - accuracy: 0.8414 - val_loss: 0.3526 - val_accuracy: 0.8444\n",
            "Epoch 57/200\n",
            "801/801 [==============================] - 1s 1ms/step - loss: 0.4028 - accuracy: 0.8414 - val_loss: 0.3525 - val_accuracy: 0.8444\n",
            "Epoch 58/200\n",
            "801/801 [==============================] - 1s 1ms/step - loss: 0.4021 - accuracy: 0.8414 - val_loss: 0.3535 - val_accuracy: 0.8444\n",
            "Epoch 59/200\n",
            "801/801 [==============================] - 1s 1ms/step - loss: 0.4014 - accuracy: 0.8414 - val_loss: 0.3507 - val_accuracy: 0.8444\n",
            "Epoch 60/200\n",
            "801/801 [==============================] - 1s 1ms/step - loss: 0.4011 - accuracy: 0.8452 - val_loss: 0.3566 - val_accuracy: 0.8444\n",
            "Epoch 61/200\n",
            "801/801 [==============================] - 1s 1ms/step - loss: 0.4009 - accuracy: 0.8439 - val_loss: 0.3555 - val_accuracy: 0.8333\n",
            "Epoch 62/200\n",
            "801/801 [==============================] - 1s 1ms/step - loss: 0.4004 - accuracy: 0.8390 - val_loss: 0.3525 - val_accuracy: 0.8444\n",
            "Epoch 63/200\n",
            "801/801 [==============================] - 1s 1ms/step - loss: 0.4000 - accuracy: 0.8452 - val_loss: 0.3527 - val_accuracy: 0.8333\n",
            "Epoch 64/200\n",
            "801/801 [==============================] - 1s 1ms/step - loss: 0.3994 - accuracy: 0.8427 - val_loss: 0.3492 - val_accuracy: 0.8444\n",
            "Epoch 65/200\n",
            "801/801 [==============================] - 1s 1ms/step - loss: 0.3989 - accuracy: 0.8452 - val_loss: 0.3491 - val_accuracy: 0.8333\n",
            "Epoch 66/200\n",
            "801/801 [==============================] - 1s 1ms/step - loss: 0.3983 - accuracy: 0.8427 - val_loss: 0.3520 - val_accuracy: 0.8333\n",
            "Epoch 67/200\n",
            "801/801 [==============================] - 1s 1ms/step - loss: 0.3980 - accuracy: 0.8439 - val_loss: 0.3475 - val_accuracy: 0.8333\n",
            "Epoch 68/200\n",
            "801/801 [==============================] - 1s 1ms/step - loss: 0.3975 - accuracy: 0.8452 - val_loss: 0.3491 - val_accuracy: 0.8333\n",
            "Epoch 69/200\n",
            "801/801 [==============================] - 1s 1ms/step - loss: 0.3968 - accuracy: 0.8464 - val_loss: 0.3494 - val_accuracy: 0.8333\n",
            "Epoch 70/200\n",
            "801/801 [==============================] - 1s 1ms/step - loss: 0.3961 - accuracy: 0.8489 - val_loss: 0.3526 - val_accuracy: 0.8444\n",
            "Epoch 71/200\n",
            "801/801 [==============================] - 1s 1ms/step - loss: 0.3963 - accuracy: 0.8452 - val_loss: 0.3478 - val_accuracy: 0.8333\n",
            "Epoch 72/200\n",
            "801/801 [==============================] - 1s 1ms/step - loss: 0.3953 - accuracy: 0.8477 - val_loss: 0.3468 - val_accuracy: 0.8333\n",
            "Epoch 73/200\n",
            "801/801 [==============================] - 1s 1ms/step - loss: 0.3952 - accuracy: 0.8477 - val_loss: 0.3486 - val_accuracy: 0.8333\n",
            "Epoch 74/200\n",
            "801/801 [==============================] - 1s 1ms/step - loss: 0.3938 - accuracy: 0.8427 - val_loss: 0.3477 - val_accuracy: 0.8333\n",
            "Epoch 75/200\n",
            "801/801 [==============================] - 1s 1ms/step - loss: 0.3937 - accuracy: 0.8477 - val_loss: 0.3449 - val_accuracy: 0.8333\n",
            "Epoch 76/200\n",
            "801/801 [==============================] - 1s 1ms/step - loss: 0.3927 - accuracy: 0.8464 - val_loss: 0.3485 - val_accuracy: 0.8333\n",
            "Epoch 77/200\n",
            "801/801 [==============================] - 1s 1ms/step - loss: 0.3927 - accuracy: 0.8489 - val_loss: 0.3461 - val_accuracy: 0.8333\n",
            "Epoch 78/200\n",
            "801/801 [==============================] - 1s 1ms/step - loss: 0.3916 - accuracy: 0.8477 - val_loss: 0.3446 - val_accuracy: 0.8333\n",
            "Epoch 79/200\n",
            "801/801 [==============================] - 1s 1ms/step - loss: 0.3919 - accuracy: 0.8477 - val_loss: 0.3472 - val_accuracy: 0.8333\n",
            "Epoch 80/200\n",
            "801/801 [==============================] - 1s 1ms/step - loss: 0.3909 - accuracy: 0.8464 - val_loss: 0.3480 - val_accuracy: 0.8333\n",
            "Epoch 81/200\n",
            "801/801 [==============================] - 1s 1ms/step - loss: 0.3904 - accuracy: 0.8489 - val_loss: 0.3427 - val_accuracy: 0.8333\n",
            "Epoch 82/200\n",
            "801/801 [==============================] - 1s 1ms/step - loss: 0.3899 - accuracy: 0.8477 - val_loss: 0.3395 - val_accuracy: 0.8333\n",
            "Epoch 83/200\n",
            "801/801 [==============================] - 1s 1ms/step - loss: 0.3900 - accuracy: 0.8452 - val_loss: 0.3416 - val_accuracy: 0.8333\n",
            "Epoch 84/200\n",
            "801/801 [==============================] - 1s 1ms/step - loss: 0.3892 - accuracy: 0.8477 - val_loss: 0.3439 - val_accuracy: 0.8333\n",
            "Epoch 85/200\n",
            "801/801 [==============================] - 1s 1ms/step - loss: 0.3890 - accuracy: 0.8477 - val_loss: 0.3422 - val_accuracy: 0.8333\n",
            "Epoch 86/200\n",
            "801/801 [==============================] - 1s 1ms/step - loss: 0.3887 - accuracy: 0.8477 - val_loss: 0.3437 - val_accuracy: 0.8333\n",
            "Epoch 87/200\n",
            "801/801 [==============================] - 1s 1ms/step - loss: 0.3882 - accuracy: 0.8477 - val_loss: 0.3419 - val_accuracy: 0.8333\n",
            "Epoch 88/200\n",
            "801/801 [==============================] - 1s 1ms/step - loss: 0.3881 - accuracy: 0.8477 - val_loss: 0.3457 - val_accuracy: 0.8333\n",
            "Epoch 89/200\n",
            "801/801 [==============================] - 1s 1ms/step - loss: 0.3876 - accuracy: 0.8477 - val_loss: 0.3415 - val_accuracy: 0.8333\n",
            "Epoch 90/200\n",
            "801/801 [==============================] - 1s 1ms/step - loss: 0.3873 - accuracy: 0.8452 - val_loss: 0.3406 - val_accuracy: 0.8333\n",
            "Epoch 91/200\n",
            "801/801 [==============================] - 1s 1ms/step - loss: 0.3870 - accuracy: 0.8514 - val_loss: 0.3430 - val_accuracy: 0.8333\n",
            "Epoch 92/200\n",
            "801/801 [==============================] - 1s 1ms/step - loss: 0.3865 - accuracy: 0.8527 - val_loss: 0.3382 - val_accuracy: 0.8444\n",
            "Epoch 93/200\n",
            "801/801 [==============================] - 1s 1ms/step - loss: 0.3865 - accuracy: 0.8464 - val_loss: 0.3416 - val_accuracy: 0.8333\n",
            "Epoch 94/200\n",
            "801/801 [==============================] - 1s 1ms/step - loss: 0.3862 - accuracy: 0.8514 - val_loss: 0.3406 - val_accuracy: 0.8333\n",
            "Epoch 95/200\n",
            "801/801 [==============================] - 1s 1ms/step - loss: 0.3858 - accuracy: 0.8477 - val_loss: 0.3400 - val_accuracy: 0.8333\n",
            "Epoch 96/200\n",
            "801/801 [==============================] - 1s 1ms/step - loss: 0.3852 - accuracy: 0.8477 - val_loss: 0.3387 - val_accuracy: 0.8444\n",
            "Epoch 97/200\n",
            "801/801 [==============================] - 1s 1ms/step - loss: 0.3858 - accuracy: 0.8452 - val_loss: 0.3417 - val_accuracy: 0.8444\n",
            "Epoch 98/200\n",
            "801/801 [==============================] - 1s 1ms/step - loss: 0.3845 - accuracy: 0.8489 - val_loss: 0.3404 - val_accuracy: 0.8333\n",
            "Epoch 99/200\n",
            "801/801 [==============================] - 1s 1ms/step - loss: 0.3842 - accuracy: 0.8452 - val_loss: 0.3419 - val_accuracy: 0.8444\n",
            "Epoch 100/200\n",
            "801/801 [==============================] - 1s 1ms/step - loss: 0.3842 - accuracy: 0.8489 - val_loss: 0.3388 - val_accuracy: 0.8444\n",
            "Epoch 101/200\n",
            "801/801 [==============================] - 1s 1ms/step - loss: 0.3840 - accuracy: 0.8502 - val_loss: 0.3363 - val_accuracy: 0.8444\n",
            "Epoch 102/200\n",
            "801/801 [==============================] - 1s 1ms/step - loss: 0.3842 - accuracy: 0.8477 - val_loss: 0.3404 - val_accuracy: 0.8444\n",
            "Epoch 103/200\n",
            "801/801 [==============================] - 1s 1ms/step - loss: 0.3836 - accuracy: 0.8477 - val_loss: 0.3372 - val_accuracy: 0.8444\n",
            "Epoch 104/200\n",
            "801/801 [==============================] - 1s 1ms/step - loss: 0.3834 - accuracy: 0.8489 - val_loss: 0.3377 - val_accuracy: 0.8444\n",
            "Epoch 105/200\n",
            "801/801 [==============================] - 1s 1ms/step - loss: 0.3822 - accuracy: 0.8502 - val_loss: 0.3408 - val_accuracy: 0.8333\n",
            "Epoch 106/200\n",
            "801/801 [==============================] - 1s 1ms/step - loss: 0.3829 - accuracy: 0.8514 - val_loss: 0.3403 - val_accuracy: 0.8444\n",
            "Epoch 107/200\n",
            "801/801 [==============================] - 1s 1ms/step - loss: 0.3825 - accuracy: 0.8514 - val_loss: 0.3396 - val_accuracy: 0.8444\n",
            "Epoch 108/200\n",
            "801/801 [==============================] - 1s 1ms/step - loss: 0.3809 - accuracy: 0.8502 - val_loss: 0.3342 - val_accuracy: 0.8333\n",
            "Epoch 109/200\n",
            "801/801 [==============================] - 1s 1ms/step - loss: 0.3812 - accuracy: 0.8539 - val_loss: 0.3439 - val_accuracy: 0.8333\n",
            "Epoch 110/200\n",
            "801/801 [==============================] - 1s 1ms/step - loss: 0.3821 - accuracy: 0.8502 - val_loss: 0.3387 - val_accuracy: 0.8444\n",
            "Epoch 111/200\n",
            "801/801 [==============================] - 1s 1ms/step - loss: 0.3815 - accuracy: 0.8502 - val_loss: 0.3374 - val_accuracy: 0.8444\n",
            "Epoch 112/200\n",
            "801/801 [==============================] - 1s 1ms/step - loss: 0.3811 - accuracy: 0.8477 - val_loss: 0.3373 - val_accuracy: 0.8444\n",
            "Epoch 113/200\n",
            "801/801 [==============================] - 1s 1ms/step - loss: 0.3811 - accuracy: 0.8502 - val_loss: 0.3388 - val_accuracy: 0.8444\n",
            "Epoch 114/200\n",
            "801/801 [==============================] - 1s 1ms/step - loss: 0.3807 - accuracy: 0.8502 - val_loss: 0.3372 - val_accuracy: 0.8444\n",
            "Epoch 115/200\n",
            "801/801 [==============================] - 1s 1ms/step - loss: 0.3804 - accuracy: 0.8502 - val_loss: 0.3382 - val_accuracy: 0.8444\n",
            "Epoch 116/200\n",
            "801/801 [==============================] - 1s 1ms/step - loss: 0.3799 - accuracy: 0.8502 - val_loss: 0.3370 - val_accuracy: 0.8444\n",
            "Epoch 117/200\n",
            "801/801 [==============================] - 1s 1ms/step - loss: 0.3794 - accuracy: 0.8527 - val_loss: 0.3432 - val_accuracy: 0.8222\n",
            "Epoch 118/200\n",
            "801/801 [==============================] - 1s 1ms/step - loss: 0.3800 - accuracy: 0.8502 - val_loss: 0.3389 - val_accuracy: 0.8444\n",
            "Epoch 00118: early stopping\n"
          ],
          "name": "stdout"
        },
        {
          "output_type": "display_data",
          "data": {
            "image/png": "[encoded data removed]",
            "text/plain": [
              "<Figure size 432x288 with 1 Axes>"
            ]
          },
          "metadata": {
            "tags": [],
            "needs_background": "light"
          }
        },
        {
          "output_type": "stream",
          "text": [
            "Train Loss: 0.379405\n",
            "Train Accuracy: 0.846442\n",
            "Val Loss: 0.334203\n",
            "Val Accuracy: 0.833333\n"
          ],
          "name": "stdout"
        }
      ]
    },
    {
      "cell_type": "code",
      "metadata": {
        "id": "-sysTq7gjVb1",
        "colab_type": "code",
        "outputId": "e29b6390-1017-4f4e-9be7-6af12ab35f47",
        "colab": {
          "base_uri": "https://localhost:8080/",
          "height": 85
        }
      },
      "source": [
        "# accuracy\n",
        "y_pred = predict_with_ml_model(model, X_train, batch_size=batch_size)\n",
        "\n",
        "train_acc = round(accuracy_score(y_train, y_pred, normalize=True),6)\n",
        "cmatrix_train = confusion_matrix(y_train, y_pred)\n",
        "\n",
        "print('Matriz de confusión del modelo:\\n', cmatrix_train)\n",
        "print('Precisión del modelo:', train_acc)"
      ],
      "execution_count": 72,
      "outputs": [
        {
          "output_type": "stream",
          "text": [
            "Matriz de confusión del modelo:\n",
            " [[510  39]\n",
            " [ 99 243]]\n",
            "Precisión del modelo: 0.845118\n"
          ],
          "name": "stdout"
        }
      ]
    },
    {
      "cell_type": "code",
      "metadata": {
        "id": "k8j0qX7V86DZ",
        "colab_type": "code",
        "outputId": "654fe2eb-3672-427c-bcd7-ae71d411a938",
        "colab": {
          "base_uri": "https://localhost:8080/",
          "height": 515
        }
      },
      "source": [
        "# generate predictions for test\n",
        "df_pred = pd.DataFrame(predict_with_ml_model(model, X_test, batch_size=batch_size), columns=['Survived'], index =  df_test.index)\n",
        "  \n",
        "display(df_pred.describe())\n",
        "display(df_pred.head()) \n",
        "df_pred.to_csv('submission.csv', index=True)  "
      ],
      "execution_count": 73,
      "outputs": [
        {
          "output_type": "display_data",
          "data": {
            "text/html": [
              "<div>\n",
              "<style scoped>\n",
              "    .dataframe tbody tr th:only-of-type {\n",
              "        vertical-align: middle;\n",
              "    }\n",
              "\n",
              "    .dataframe tbody tr th {\n",
              "        vertical-align: top;\n",
              "    }\n",
              "\n",
              "    .dataframe thead th {\n",
              "        text-align: right;\n",
              "    }\n",
              "</style>\n",
              "<table border=\"1\" class=\"dataframe\">\n",
              "  <thead>\n",
              "    <tr style=\"text-align: right;\">\n",
              "      <th></th>\n",
              "      <th>Survived</th>\n",
              "    </tr>\n",
              "  </thead>\n",
              "  <tbody>\n",
              "    <tr>\n",
              "      <th>count</th>\n",
              "      <td>418.000000</td>\n",
              "    </tr>\n",
              "    <tr>\n",
              "      <th>mean</th>\n",
              "      <td>0.356459</td>\n",
              "    </tr>\n",
              "    <tr>\n",
              "      <th>std</th>\n",
              "      <td>0.479527</td>\n",
              "    </tr>\n",
              "    <tr>\n",
              "      <th>min</th>\n",
              "      <td>0.000000</td>\n",
              "    </tr>\n",
              "    <tr>\n",
              "      <th>25%</th>\n",
              "      <td>0.000000</td>\n",
              "    </tr>\n",
              "    <tr>\n",
              "      <th>50%</th>\n",
              "      <td>0.000000</td>\n",
              "    </tr>\n",
              "    <tr>\n",
              "      <th>75%</th>\n",
              "      <td>1.000000</td>\n",
              "    </tr>\n",
              "    <tr>\n",
              "      <th>max</th>\n",
              "      <td>1.000000</td>\n",
              "    </tr>\n",
              "  </tbody>\n",
              "</table>\n",
              "</div>"
            ],
            "text/plain": [
              "         Survived\n",
              "count  418.000000\n",
              "mean     0.356459\n",
              "std      0.479527\n",
              "min      0.000000\n",
              "25%      0.000000\n",
              "50%      0.000000\n",
              "75%      1.000000\n",
              "max      1.000000"
            ]
          },
          "metadata": {
            "tags": []
          }
        },
        {
          "output_type": "display_data",
          "data": {
            "text/html": [
              "<div>\n",
              "<style scoped>\n",
              "    .dataframe tbody tr th:only-of-type {\n",
              "        vertical-align: middle;\n",
              "    }\n",
              "\n",
              "    .dataframe tbody tr th {\n",
              "        vertical-align: top;\n",
              "    }\n",
              "\n",
              "    .dataframe thead th {\n",
              "        text-align: right;\n",
              "    }\n",
              "</style>\n",
              "<table border=\"1\" class=\"dataframe\">\n",
              "  <thead>\n",
              "    <tr style=\"text-align: right;\">\n",
              "      <th></th>\n",
              "      <th>Survived</th>\n",
              "    </tr>\n",
              "    <tr>\n",
              "      <th>PassengerId</th>\n",
              "      <th></th>\n",
              "    </tr>\n",
              "  </thead>\n",
              "  <tbody>\n",
              "    <tr>\n",
              "      <th>892</th>\n",
              "      <td>0</td>\n",
              "    </tr>\n",
              "    <tr>\n",
              "      <th>893</th>\n",
              "      <td>0</td>\n",
              "    </tr>\n",
              "    <tr>\n",
              "      <th>894</th>\n",
              "      <td>0</td>\n",
              "    </tr>\n",
              "    <tr>\n",
              "      <th>895</th>\n",
              "      <td>0</td>\n",
              "    </tr>\n",
              "    <tr>\n",
              "      <th>896</th>\n",
              "      <td>1</td>\n",
              "    </tr>\n",
              "  </tbody>\n",
              "</table>\n",
              "</div>"
            ],
            "text/plain": [
              "             Survived\n",
              "PassengerId          \n",
              "892                 0\n",
              "893                 0\n",
              "894                 0\n",
              "895                 0\n",
              "896                 1"
            ]
          },
          "metadata": {
            "tags": []
          }
        }
      ]
    },
    {
      "cell_type": "markdown",
      "metadata": {
        "id": "Vm2EK3jI_abb",
        "colab_type": "text"
      },
      "source": [
        "# Subir resultados a Kaggle"
      ]
    },
    {
      "cell_type": "code",
      "metadata": {
        "id": "1GUOvy37L6zy",
        "colab_type": "code",
        "outputId": "45644429-b635-4858-abad-11bef11c1e2e",
        "colab": {
          "base_uri": "https://localhost:8080/",
          "height": 51
        }
      },
      "source": [
        "%%bash\n",
        "kaggle competitions submit -c titanic -f submission.csv -m \"New submission test\""
      ],
      "execution_count": 75,
      "outputs": [
        {
          "output_type": "stream",
          "text": [
            "Warning: Looks like you're using an outdated API Version, please consider updating (server 1.5.6 / client 1.5.4)\n",
            "Successfully submitted to Titanic: Machine Learning from Disaster"
          ],
          "name": "stdout"
        },
        {
          "output_type": "stream",
          "text": [
            "\r  0%|          | 0.00/2.77k [00:00<?, ?B/s]\r100%|##########| 2.77k/2.77k [00:03<00:00, 881B/s]\n"
          ],
          "name": "stderr"
        }
      ]
    }
  ]
}