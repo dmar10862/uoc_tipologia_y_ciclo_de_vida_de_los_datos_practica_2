{
  "nbformat": 4,
  "nbformat_minor": 0,
  "metadata": {
    "colab": {
      "name": "UOC-M2851-DataAnalysis.ipynb",
      "provenance": [],
      "collapsed_sections": [],
      "authorship_tag": "ABX9TyOOA8V5cqnuV8jwnAfLORab",
      "include_colab_link": true
    },
    "kernelspec": {
      "name": "python3",
      "display_name": "Python 3"
    }
  },
  "cells": [
    {
      "cell_type": "markdown",
      "metadata": {
        "id": "view-in-github",
        "colab_type": "text"
      },
      "source": [
        "<a href=\"https://colab.research.google.com/github/dmar10862/uoc_tipologia_y_ciclo_de_vida_de_los_datos_practica_2/blob/develop/src/UOC_M2851_DataAnalysis.ipynb\" target=\"_parent\"><img src=\"https://colab.research.google.com/assets/colab-badge.svg\" alt=\"Open In Colab\"/></a>"
      ]
    },
    {
      "cell_type": "markdown",
      "metadata": {
        "id": "WnhsrUMxp9mH",
        "colab_type": "text"
      },
      "source": [
        "**Practica 2: Limpieza y análisis de datos**\n",
        "\n",
        "M2851 - Tipología y ciclo de vida de los datos\n",
        "\n",
        "Ciencia de Datos\n",
        "\n",
        "**David Marín Sánchez**\n",
        "\n",
        "Junio 2020"
      ]
    },
    {
      "cell_type": "markdown",
      "metadata": {
        "id": "fVa3SNNFfP7S",
        "colab_type": "text"
      },
      "source": [
        "**Kaggle Competition**\n",
        "\n",
        "[Titanic: Machine Learning from Disaster](https://www.kaggle.com/c/titanic/overview)"
      ]
    },
    {
      "cell_type": "markdown",
      "metadata": {
        "id": "UgIvNpeB_xZZ",
        "colab_type": "text"
      },
      "source": [
        "# Hyperparametros\n"
      ]
    },
    {
      "cell_type": "code",
      "metadata": {
        "id": "ZDUpIKZ4_zgL",
        "colab_type": "code",
        "colab": {}
      },
      "source": [
        "dimension_reduction = 0\n",
        "lr = 0.0002\n",
        "epochs = 100\n",
        "patience = 10\n",
        "batch_size = 1\n",
        "neurons = 32"
      ],
      "execution_count": 0,
      "outputs": []
    },
    {
      "cell_type": "markdown",
      "metadata": {
        "id": "CzHYyhMglcaw",
        "colab_type": "text"
      },
      "source": [
        "# Librerias y funciones"
      ]
    },
    {
      "cell_type": "markdown",
      "metadata": {
        "id": "4lP99xCBmozB",
        "colab_type": "text"
      },
      "source": [
        "https://github.com/Kaggle/kaggle-api"
      ]
    },
    {
      "cell_type": "code",
      "metadata": {
        "id": "8yGWffSUlcAX",
        "colab_type": "code",
        "outputId": "211f1036-0407-4785-e553-b999e24cbb64",
        "colab": {
          "base_uri": "https://localhost:8080/",
          "height": 71
        }
      },
      "source": [
        "from google.colab import drive\n",
        "from google.colab import auth\n",
        "import pandas as pd\n",
        "import numpy as np\n",
        "import matplotlib.pyplot as plt\n",
        "import seaborn as sns\n",
        "from sklearn.impute import KNNImputer\n",
        "from sklearn.preprocessing import StandardScaler\n",
        "from sklearn.model_selection import train_test_split\n",
        "from sklearn.metrics import accuracy_score, confusion_matrix\n",
        "from sklearn.decomposition import PCA\n",
        "import tensorflow as tf\n",
        "from tensorflow.keras.models import Sequential, load_model\n",
        "from tensorflow.keras.layers import Dense, Activation\n",
        "from tensorflow.keras.optimizers import Adam\n",
        "from tensorflow.keras.callbacks import EarlyStopping, ModelCheckpoint"
      ],
      "execution_count": 2,
      "outputs": [
        {
          "output_type": "stream",
          "text": [
            "/usr/local/lib/python3.6/dist-packages/statsmodels/tools/_testing.py:19: FutureWarning: pandas.util.testing is deprecated. Use the functions in the public API at pandas.testing instead.\n",
            "  import pandas.util.testing as tm\n"
          ],
          "name": "stderr"
        }
      ]
    },
    {
      "cell_type": "code",
      "metadata": {
        "id": "lVHjvXzSu1ff",
        "colab_type": "code",
        "colab": {}
      },
      "source": [
        "# ML Model train\n",
        "# https://machinelearningmastery.com/how-to-stop-training-deep-neural-networks-at-the-right-time-using-early-stopping/\n",
        "def train_ml_model(model, X_train, y_train, X_val, y_val, epochs, batch_size, patience, shuffle=True):\n",
        "    # patient early stopping\n",
        "    es = EarlyStopping(monitor='val_loss', mode='min', verbose=1, patience=patience)\n",
        "    mc = ModelCheckpoint('best_model.h5', monitor='val_loss', mode='min', verbose=0, save_best_only=True)\n",
        "\n",
        "    # fit model\n",
        "    history = model.fit(X_train, y_train, validation_data=(X_val, y_val), epochs=epochs, batch_size=batch_size, verbose=1, shuffle=shuffle, callbacks=[es, mc])\n",
        "\n",
        "    # load the saved model\n",
        "    model = load_model('best_model.h5')\n",
        "\n",
        "    # plot training history\n",
        "    plt.plot(history.history['loss'], label='train')\n",
        "    plt.plot(history.history['val_loss'], label='val')\n",
        "    plt.legend()\n",
        "    plt.show()\n",
        "  \n",
        "    # Estimate model performance\n",
        "    trainScore = model.evaluate(X_train, y_train, batch_size=batch_size, verbose=0)\n",
        "    valScore = model.evaluate(X_val, y_val, batch_size=batch_size, verbose=0)\n",
        "  \n",
        "    print('Train Loss: %.3f' % trainScore[0])\n",
        "    print('Train Accuracy: %.3f' % trainScore[1])\n",
        "    print('Val Loss: %.3f' % valScore[0])\n",
        "    print('Val Accuracy: %.3f' % valScore[1])\n",
        "  \n",
        "    return model"
      ],
      "execution_count": 0,
      "outputs": []
    },
    {
      "cell_type": "code",
      "metadata": {
        "id": "Xef_UtJ2veEZ",
        "colab_type": "code",
        "colab": {}
      },
      "source": [
        "# Entrenar Red neuronal densa\n",
        "# https://machinelearningmastery.com/binary-classification-tutorial-with-the-keras-deep-learning-library/\n",
        "# https://www.kaggle.com/parthsuresh/binary-classifier-using-keras-97-98-accuracy\n",
        "# @tf.function\n",
        "def dense_nn(X, y, epochs, batch_size, lr, patience, neurons, shuffle=True): \n",
        "  # Split test y val\n",
        "  X_train, X_val, y_train, y_val = train_test_split(X, y, test_size=0.1)\n",
        "\n",
        "  # Dimensiones\n",
        "  n_input =  X_train.shape[1]\n",
        "  n_output = y_train.shape[1]\n",
        "  \n",
        "  model = Sequential([\n",
        "      Dense(n_input, input_dim=n_input, activation='relu'),\n",
        "      Dense(neurons, activation='relu'),\n",
        "      Dense(n_output, activation='sigmoid')\n",
        "  ])\n",
        "  \n",
        "  model.compile(optimizer=Adam(lr=lr), loss='binary_crossentropy', metrics=['accuracy'])\n",
        "\n",
        "  model = train_ml_model(model, X_train, y_train, X_val, y_val, epochs, batch_size, patience, shuffle)\n",
        "  \n",
        "  return model"
      ],
      "execution_count": 0,
      "outputs": []
    },
    {
      "cell_type": "code",
      "metadata": {
        "id": "o_MSlFfIvbZB",
        "colab_type": "code",
        "colab": {}
      },
      "source": [
        "# ML Model predict\n",
        "def predict_with_ml_model(model, X, batch_size):\n",
        "  y_pred = (model.predict(X, batch_size=batch_size) > 0.5).astype(\"int32\")\n",
        "\n",
        "  return y_pred"
      ],
      "execution_count": 0,
      "outputs": []
    },
    {
      "cell_type": "markdown",
      "metadata": {
        "id": "WSASRXXVALwB",
        "colab_type": "text"
      },
      "source": [
        "# Descargar dataset de Kaggle"
      ]
    },
    {
      "cell_type": "code",
      "metadata": {
        "id": "kSbUb2i2mrZh",
        "colab_type": "code",
        "outputId": "8b7b5aab-2f4f-4272-8b7f-12db5c1dd7db",
        "colab": {
          "base_uri": "https://localhost:8080/",
          "height": 122
        }
      },
      "source": [
        "# Montar Google Drive\n",
        "drive.mount('/content/drive')"
      ],
      "execution_count": 6,
      "outputs": [
        {
          "output_type": "stream",
          "text": [
            "Go to this URL in a browser: https://accounts.google.com/o/oauth2/auth?client_id=947318989803-6bn6qk8qdgf4n4g3pfee6491hc0brc4i.apps.googleusercontent.com&redirect_uri=urn%3aietf%3awg%3aoauth%3a2.0%3aoob&response_type=code&scope=email%20https%3a%2f%2fwww.googleapis.com%2fauth%2fdocs.test%20https%3a%2f%2fwww.googleapis.com%2fauth%2fdrive%20https%3a%2f%2fwww.googleapis.com%2fauth%2fdrive.photos.readonly%20https%3a%2f%2fwww.googleapis.com%2fauth%2fpeopleapi.readonly\n",
            "\n",
            "Enter your authorization code:\n",
            "··········\n",
            "Mounted at /content/drive\n"
          ],
          "name": "stdout"
        }
      ]
    },
    {
      "cell_type": "code",
      "metadata": {
        "id": "wqxPpBiclgwX",
        "colab_type": "code",
        "outputId": "62118cdc-9ee9-40e0-aec1-891cf513c23f",
        "colab": {
          "base_uri": "https://localhost:8080/",
          "height": 51
        }
      },
      "source": [
        "%%bash\n",
        "# Instalar kaggle\n",
        "pip install -q kaggle\n",
        "\n",
        "# Cargar las credeciales de Kaggle\n",
        "mkdir -p /root/.kaggle\n",
        "cp -a \"/content/drive/My Drive/Credentials/kaggle.json\" /root/.kaggle/kaggle.json\n",
        "ls -l /root/.kaggle"
      ],
      "execution_count": 7,
      "outputs": [
        {
          "output_type": "stream",
          "text": [
            "total 4\n",
            "-rw------- 1 root root 64 May  9 08:42 kaggle.json\n"
          ],
          "name": "stdout"
        }
      ]
    },
    {
      "cell_type": "code",
      "metadata": {
        "id": "AeLUbs0JlUVf",
        "colab_type": "code",
        "outputId": "a67b7ccd-6259-4d59-dd81-160b47144045",
        "colab": {
          "base_uri": "https://localhost:8080/",
          "height": 289
        }
      },
      "source": [
        "# Descargar dataset\n",
        "%%bash\n",
        "mkdir -p datasets\n",
        "cd datasets\n",
        "kaggle competitions download -c titanic\n",
        "ls -la"
      ],
      "execution_count": 8,
      "outputs": [
        {
          "output_type": "stream",
          "text": [
            "Warning: Looks like you're using an outdated API Version, please consider updating (server 1.5.6 / client 1.5.4)\n",
            "Downloading gender_submission.csv to /content/datasets\n",
            "\n",
            "Downloading train.csv to /content/datasets\n",
            "\n",
            "Downloading test.csv to /content/datasets\n",
            "\n",
            "total 100\n",
            "drwxr-xr-x 2 root root  4096 May 17 10:57 .\n",
            "drwxr-xr-x 1 root root  4096 May 17 10:57 ..\n",
            "-rw-r--r-- 1 root root  3258 May 17 10:57 gender_submission.csv\n",
            "-rw-r--r-- 1 root root 28629 May 17 10:57 test.csv\n",
            "-rw-r--r-- 1 root root 61194 May 17 10:57 train.csv\n"
          ],
          "name": "stdout"
        },
        {
          "output_type": "stream",
          "text": [
            "\r  0%|          | 0.00/3.18k [00:00<?, ?B/s]\r100%|##########| 3.18k/3.18k [00:00<00:00, 5.69MB/s]\n",
            "\r  0%|          | 0.00/59.8k [00:00<?, ?B/s]\r100%|##########| 59.8k/59.8k [00:00<00:00, 61.9MB/s]\n",
            "\r  0%|          | 0.00/28.0k [00:00<?, ?B/s]\r100%|##########| 28.0k/28.0k [00:00<00:00, 29.3MB/s]\n"
          ],
          "name": "stderr"
        }
      ]
    },
    {
      "cell_type": "markdown",
      "metadata": {
        "id": "pyUPgmft7MEp",
        "colab_type": "text"
      },
      "source": [
        "# Cargar Datos"
      ]
    },
    {
      "cell_type": "code",
      "metadata": {
        "id": "Kz6v5JKYn25H",
        "colab_type": "code",
        "outputId": "d611bdc5-baa5-4ebd-e4ff-3f6d4ede778c",
        "colab": {
          "base_uri": "https://localhost:8080/",
          "height": 252
        }
      },
      "source": [
        "# Cargar dataset como Pandas DataFrame\n",
        "df_train = pd.read_csv('datasets/train.csv', index_col = 'PassengerId') \n",
        "display(df_train.shape)\n",
        "display(df_train.head())"
      ],
      "execution_count": 9,
      "outputs": [
        {
          "output_type": "display_data",
          "data": {
            "text/plain": [
              "(891, 11)"
            ]
          },
          "metadata": {
            "tags": []
          }
        },
        {
          "output_type": "display_data",
          "data": {
            "text/html": [
              "<div>\n",
              "<style scoped>\n",
              "    .dataframe tbody tr th:only-of-type {\n",
              "        vertical-align: middle;\n",
              "    }\n",
              "\n",
              "    .dataframe tbody tr th {\n",
              "        vertical-align: top;\n",
              "    }\n",
              "\n",
              "    .dataframe thead th {\n",
              "        text-align: right;\n",
              "    }\n",
              "</style>\n",
              "<table border=\"1\" class=\"dataframe\">\n",
              "  <thead>\n",
              "    <tr style=\"text-align: right;\">\n",
              "      <th></th>\n",
              "      <th>Survived</th>\n",
              "      <th>Pclass</th>\n",
              "      <th>Name</th>\n",
              "      <th>Sex</th>\n",
              "      <th>Age</th>\n",
              "      <th>SibSp</th>\n",
              "      <th>Parch</th>\n",
              "      <th>Ticket</th>\n",
              "      <th>Fare</th>\n",
              "      <th>Cabin</th>\n",
              "      <th>Embarked</th>\n",
              "    </tr>\n",
              "    <tr>\n",
              "      <th>PassengerId</th>\n",
              "      <th></th>\n",
              "      <th></th>\n",
              "      <th></th>\n",
              "      <th></th>\n",
              "      <th></th>\n",
              "      <th></th>\n",
              "      <th></th>\n",
              "      <th></th>\n",
              "      <th></th>\n",
              "      <th></th>\n",
              "      <th></th>\n",
              "    </tr>\n",
              "  </thead>\n",
              "  <tbody>\n",
              "    <tr>\n",
              "      <th>1</th>\n",
              "      <td>0</td>\n",
              "      <td>3</td>\n",
              "      <td>Braund, Mr. Owen Harris</td>\n",
              "      <td>male</td>\n",
              "      <td>22.0</td>\n",
              "      <td>1</td>\n",
              "      <td>0</td>\n",
              "      <td>A/5 21171</td>\n",
              "      <td>7.2500</td>\n",
              "      <td>NaN</td>\n",
              "      <td>S</td>\n",
              "    </tr>\n",
              "    <tr>\n",
              "      <th>2</th>\n",
              "      <td>1</td>\n",
              "      <td>1</td>\n",
              "      <td>Cumings, Mrs. John Bradley (Florence Briggs Th...</td>\n",
              "      <td>female</td>\n",
              "      <td>38.0</td>\n",
              "      <td>1</td>\n",
              "      <td>0</td>\n",
              "      <td>PC 17599</td>\n",
              "      <td>71.2833</td>\n",
              "      <td>C85</td>\n",
              "      <td>C</td>\n",
              "    </tr>\n",
              "    <tr>\n",
              "      <th>3</th>\n",
              "      <td>1</td>\n",
              "      <td>3</td>\n",
              "      <td>Heikkinen, Miss. Laina</td>\n",
              "      <td>female</td>\n",
              "      <td>26.0</td>\n",
              "      <td>0</td>\n",
              "      <td>0</td>\n",
              "      <td>STON/O2. 3101282</td>\n",
              "      <td>7.9250</td>\n",
              "      <td>NaN</td>\n",
              "      <td>S</td>\n",
              "    </tr>\n",
              "    <tr>\n",
              "      <th>4</th>\n",
              "      <td>1</td>\n",
              "      <td>1</td>\n",
              "      <td>Futrelle, Mrs. Jacques Heath (Lily May Peel)</td>\n",
              "      <td>female</td>\n",
              "      <td>35.0</td>\n",
              "      <td>1</td>\n",
              "      <td>0</td>\n",
              "      <td>113803</td>\n",
              "      <td>53.1000</td>\n",
              "      <td>C123</td>\n",
              "      <td>S</td>\n",
              "    </tr>\n",
              "    <tr>\n",
              "      <th>5</th>\n",
              "      <td>0</td>\n",
              "      <td>3</td>\n",
              "      <td>Allen, Mr. William Henry</td>\n",
              "      <td>male</td>\n",
              "      <td>35.0</td>\n",
              "      <td>0</td>\n",
              "      <td>0</td>\n",
              "      <td>373450</td>\n",
              "      <td>8.0500</td>\n",
              "      <td>NaN</td>\n",
              "      <td>S</td>\n",
              "    </tr>\n",
              "  </tbody>\n",
              "</table>\n",
              "</div>"
            ],
            "text/plain": [
              "             Survived  Pclass  ... Cabin Embarked\n",
              "PassengerId                    ...               \n",
              "1                   0       3  ...   NaN        S\n",
              "2                   1       1  ...   C85        C\n",
              "3                   1       3  ...   NaN        S\n",
              "4                   1       1  ...  C123        S\n",
              "5                   0       3  ...   NaN        S\n",
              "\n",
              "[5 rows x 11 columns]"
            ]
          },
          "metadata": {
            "tags": []
          }
        }
      ]
    },
    {
      "cell_type": "code",
      "metadata": {
        "id": "IJbXogW-__vi",
        "colab_type": "code",
        "outputId": "ba45f1fb-7e9e-4d66-c1db-00339fafc5c7",
        "colab": {
          "base_uri": "https://localhost:8080/",
          "height": 487
        }
      },
      "source": [
        "# Separar las caracteristicas de la variable a estimar\n",
        "X_train = df_train.copy()\n",
        "y_train = X_train[['Survived']]\n",
        "X_train = X_train.drop(columns=['Survived'])\n",
        "\n",
        "display(X_train.shape)\n",
        "display(X_train.head())\n",
        "display(y_train.shape)\n",
        "display(y_train.head())"
      ],
      "execution_count": 10,
      "outputs": [
        {
          "output_type": "display_data",
          "data": {
            "text/plain": [
              "(891, 10)"
            ]
          },
          "metadata": {
            "tags": []
          }
        },
        {
          "output_type": "display_data",
          "data": {
            "text/html": [
              "<div>\n",
              "<style scoped>\n",
              "    .dataframe tbody tr th:only-of-type {\n",
              "        vertical-align: middle;\n",
              "    }\n",
              "\n",
              "    .dataframe tbody tr th {\n",
              "        vertical-align: top;\n",
              "    }\n",
              "\n",
              "    .dataframe thead th {\n",
              "        text-align: right;\n",
              "    }\n",
              "</style>\n",
              "<table border=\"1\" class=\"dataframe\">\n",
              "  <thead>\n",
              "    <tr style=\"text-align: right;\">\n",
              "      <th></th>\n",
              "      <th>Pclass</th>\n",
              "      <th>Name</th>\n",
              "      <th>Sex</th>\n",
              "      <th>Age</th>\n",
              "      <th>SibSp</th>\n",
              "      <th>Parch</th>\n",
              "      <th>Ticket</th>\n",
              "      <th>Fare</th>\n",
              "      <th>Cabin</th>\n",
              "      <th>Embarked</th>\n",
              "    </tr>\n",
              "    <tr>\n",
              "      <th>PassengerId</th>\n",
              "      <th></th>\n",
              "      <th></th>\n",
              "      <th></th>\n",
              "      <th></th>\n",
              "      <th></th>\n",
              "      <th></th>\n",
              "      <th></th>\n",
              "      <th></th>\n",
              "      <th></th>\n",
              "      <th></th>\n",
              "    </tr>\n",
              "  </thead>\n",
              "  <tbody>\n",
              "    <tr>\n",
              "      <th>1</th>\n",
              "      <td>3</td>\n",
              "      <td>Braund, Mr. Owen Harris</td>\n",
              "      <td>male</td>\n",
              "      <td>22.0</td>\n",
              "      <td>1</td>\n",
              "      <td>0</td>\n",
              "      <td>A/5 21171</td>\n",
              "      <td>7.2500</td>\n",
              "      <td>NaN</td>\n",
              "      <td>S</td>\n",
              "    </tr>\n",
              "    <tr>\n",
              "      <th>2</th>\n",
              "      <td>1</td>\n",
              "      <td>Cumings, Mrs. John Bradley (Florence Briggs Th...</td>\n",
              "      <td>female</td>\n",
              "      <td>38.0</td>\n",
              "      <td>1</td>\n",
              "      <td>0</td>\n",
              "      <td>PC 17599</td>\n",
              "      <td>71.2833</td>\n",
              "      <td>C85</td>\n",
              "      <td>C</td>\n",
              "    </tr>\n",
              "    <tr>\n",
              "      <th>3</th>\n",
              "      <td>3</td>\n",
              "      <td>Heikkinen, Miss. Laina</td>\n",
              "      <td>female</td>\n",
              "      <td>26.0</td>\n",
              "      <td>0</td>\n",
              "      <td>0</td>\n",
              "      <td>STON/O2. 3101282</td>\n",
              "      <td>7.9250</td>\n",
              "      <td>NaN</td>\n",
              "      <td>S</td>\n",
              "    </tr>\n",
              "    <tr>\n",
              "      <th>4</th>\n",
              "      <td>1</td>\n",
              "      <td>Futrelle, Mrs. Jacques Heath (Lily May Peel)</td>\n",
              "      <td>female</td>\n",
              "      <td>35.0</td>\n",
              "      <td>1</td>\n",
              "      <td>0</td>\n",
              "      <td>113803</td>\n",
              "      <td>53.1000</td>\n",
              "      <td>C123</td>\n",
              "      <td>S</td>\n",
              "    </tr>\n",
              "    <tr>\n",
              "      <th>5</th>\n",
              "      <td>3</td>\n",
              "      <td>Allen, Mr. William Henry</td>\n",
              "      <td>male</td>\n",
              "      <td>35.0</td>\n",
              "      <td>0</td>\n",
              "      <td>0</td>\n",
              "      <td>373450</td>\n",
              "      <td>8.0500</td>\n",
              "      <td>NaN</td>\n",
              "      <td>S</td>\n",
              "    </tr>\n",
              "  </tbody>\n",
              "</table>\n",
              "</div>"
            ],
            "text/plain": [
              "             Pclass  ... Embarked\n",
              "PassengerId          ...         \n",
              "1                 3  ...        S\n",
              "2                 1  ...        C\n",
              "3                 3  ...        S\n",
              "4                 1  ...        S\n",
              "5                 3  ...        S\n",
              "\n",
              "[5 rows x 10 columns]"
            ]
          },
          "metadata": {
            "tags": []
          }
        },
        {
          "output_type": "display_data",
          "data": {
            "text/plain": [
              "(891, 1)"
            ]
          },
          "metadata": {
            "tags": []
          }
        },
        {
          "output_type": "display_data",
          "data": {
            "text/html": [
              "<div>\n",
              "<style scoped>\n",
              "    .dataframe tbody tr th:only-of-type {\n",
              "        vertical-align: middle;\n",
              "    }\n",
              "\n",
              "    .dataframe tbody tr th {\n",
              "        vertical-align: top;\n",
              "    }\n",
              "\n",
              "    .dataframe thead th {\n",
              "        text-align: right;\n",
              "    }\n",
              "</style>\n",
              "<table border=\"1\" class=\"dataframe\">\n",
              "  <thead>\n",
              "    <tr style=\"text-align: right;\">\n",
              "      <th></th>\n",
              "      <th>Survived</th>\n",
              "    </tr>\n",
              "    <tr>\n",
              "      <th>PassengerId</th>\n",
              "      <th></th>\n",
              "    </tr>\n",
              "  </thead>\n",
              "  <tbody>\n",
              "    <tr>\n",
              "      <th>1</th>\n",
              "      <td>0</td>\n",
              "    </tr>\n",
              "    <tr>\n",
              "      <th>2</th>\n",
              "      <td>1</td>\n",
              "    </tr>\n",
              "    <tr>\n",
              "      <th>3</th>\n",
              "      <td>1</td>\n",
              "    </tr>\n",
              "    <tr>\n",
              "      <th>4</th>\n",
              "      <td>1</td>\n",
              "    </tr>\n",
              "    <tr>\n",
              "      <th>5</th>\n",
              "      <td>0</td>\n",
              "    </tr>\n",
              "  </tbody>\n",
              "</table>\n",
              "</div>"
            ],
            "text/plain": [
              "             Survived\n",
              "PassengerId          \n",
              "1                   0\n",
              "2                   1\n",
              "3                   1\n",
              "4                   1\n",
              "5                   0"
            ]
          },
          "metadata": {
            "tags": []
          }
        }
      ]
    },
    {
      "cell_type": "code",
      "metadata": {
        "id": "zGDtXQK9DnWL",
        "colab_type": "code",
        "outputId": "d4eb3fb4-28d4-4b12-83de-0967e8159352",
        "colab": {
          "base_uri": "https://localhost:8080/",
          "height": 252
        }
      },
      "source": [
        "# Cargar dataset de test\n",
        "df_test = pd.read_csv('datasets/test.csv', index_col='PassengerId') \n",
        "X_test = df_test.copy()\n",
        "display(X_test.shape)\n",
        "display(X_test.head())"
      ],
      "execution_count": 11,
      "outputs": [
        {
          "output_type": "display_data",
          "data": {
            "text/plain": [
              "(418, 10)"
            ]
          },
          "metadata": {
            "tags": []
          }
        },
        {
          "output_type": "display_data",
          "data": {
            "text/html": [
              "<div>\n",
              "<style scoped>\n",
              "    .dataframe tbody tr th:only-of-type {\n",
              "        vertical-align: middle;\n",
              "    }\n",
              "\n",
              "    .dataframe tbody tr th {\n",
              "        vertical-align: top;\n",
              "    }\n",
              "\n",
              "    .dataframe thead th {\n",
              "        text-align: right;\n",
              "    }\n",
              "</style>\n",
              "<table border=\"1\" class=\"dataframe\">\n",
              "  <thead>\n",
              "    <tr style=\"text-align: right;\">\n",
              "      <th></th>\n",
              "      <th>Pclass</th>\n",
              "      <th>Name</th>\n",
              "      <th>Sex</th>\n",
              "      <th>Age</th>\n",
              "      <th>SibSp</th>\n",
              "      <th>Parch</th>\n",
              "      <th>Ticket</th>\n",
              "      <th>Fare</th>\n",
              "      <th>Cabin</th>\n",
              "      <th>Embarked</th>\n",
              "    </tr>\n",
              "    <tr>\n",
              "      <th>PassengerId</th>\n",
              "      <th></th>\n",
              "      <th></th>\n",
              "      <th></th>\n",
              "      <th></th>\n",
              "      <th></th>\n",
              "      <th></th>\n",
              "      <th></th>\n",
              "      <th></th>\n",
              "      <th></th>\n",
              "      <th></th>\n",
              "    </tr>\n",
              "  </thead>\n",
              "  <tbody>\n",
              "    <tr>\n",
              "      <th>892</th>\n",
              "      <td>3</td>\n",
              "      <td>Kelly, Mr. James</td>\n",
              "      <td>male</td>\n",
              "      <td>34.5</td>\n",
              "      <td>0</td>\n",
              "      <td>0</td>\n",
              "      <td>330911</td>\n",
              "      <td>7.8292</td>\n",
              "      <td>NaN</td>\n",
              "      <td>Q</td>\n",
              "    </tr>\n",
              "    <tr>\n",
              "      <th>893</th>\n",
              "      <td>3</td>\n",
              "      <td>Wilkes, Mrs. James (Ellen Needs)</td>\n",
              "      <td>female</td>\n",
              "      <td>47.0</td>\n",
              "      <td>1</td>\n",
              "      <td>0</td>\n",
              "      <td>363272</td>\n",
              "      <td>7.0000</td>\n",
              "      <td>NaN</td>\n",
              "      <td>S</td>\n",
              "    </tr>\n",
              "    <tr>\n",
              "      <th>894</th>\n",
              "      <td>2</td>\n",
              "      <td>Myles, Mr. Thomas Francis</td>\n",
              "      <td>male</td>\n",
              "      <td>62.0</td>\n",
              "      <td>0</td>\n",
              "      <td>0</td>\n",
              "      <td>240276</td>\n",
              "      <td>9.6875</td>\n",
              "      <td>NaN</td>\n",
              "      <td>Q</td>\n",
              "    </tr>\n",
              "    <tr>\n",
              "      <th>895</th>\n",
              "      <td>3</td>\n",
              "      <td>Wirz, Mr. Albert</td>\n",
              "      <td>male</td>\n",
              "      <td>27.0</td>\n",
              "      <td>0</td>\n",
              "      <td>0</td>\n",
              "      <td>315154</td>\n",
              "      <td>8.6625</td>\n",
              "      <td>NaN</td>\n",
              "      <td>S</td>\n",
              "    </tr>\n",
              "    <tr>\n",
              "      <th>896</th>\n",
              "      <td>3</td>\n",
              "      <td>Hirvonen, Mrs. Alexander (Helga E Lindqvist)</td>\n",
              "      <td>female</td>\n",
              "      <td>22.0</td>\n",
              "      <td>1</td>\n",
              "      <td>1</td>\n",
              "      <td>3101298</td>\n",
              "      <td>12.2875</td>\n",
              "      <td>NaN</td>\n",
              "      <td>S</td>\n",
              "    </tr>\n",
              "  </tbody>\n",
              "</table>\n",
              "</div>"
            ],
            "text/plain": [
              "             Pclass  ... Embarked\n",
              "PassengerId          ...         \n",
              "892               3  ...        Q\n",
              "893               3  ...        S\n",
              "894               2  ...        Q\n",
              "895               3  ...        S\n",
              "896               3  ...        S\n",
              "\n",
              "[5 rows x 10 columns]"
            ]
          },
          "metadata": {
            "tags": []
          }
        }
      ]
    },
    {
      "cell_type": "markdown",
      "metadata": {
        "id": "A277m6ABwqpB",
        "colab_type": "text"
      },
      "source": [
        "# Limpieza de datos"
      ]
    },
    {
      "cell_type": "markdown",
      "metadata": {
        "id": "8fOTZ6Wr5iju",
        "colab_type": "text"
      },
      "source": [
        "## Factorizar (de categorias a numeros)"
      ]
    },
    {
      "cell_type": "code",
      "metadata": {
        "id": "qbRWK0jKwtao",
        "colab_type": "code",
        "outputId": "67be13b2-9131-4bee-b06f-73879a493fa0",
        "colab": {
          "base_uri": "https://localhost:8080/",
          "height": 549
        }
      },
      "source": [
        "# Convertir variables en numéricas\n",
        "X_train['Sex'], sex = pd.factorize(X_train['Sex'])\n",
        "X_train['Embarked'], embarked = pd.factorize(X_train['Embarked'])\n",
        "\n",
        "sex = {k:v for v, k in enumerate(sex)}\n",
        "embarked = {k:v for v, k in enumerate(embarked)}\n",
        "\n",
        "print(sex)\n",
        "print(embarked)\n",
        "\n",
        "display(X_train.head())\n",
        "display(X_train.describe())"
      ],
      "execution_count": 12,
      "outputs": [
        {
          "output_type": "stream",
          "text": [
            "{'male': 0, 'female': 1}\n",
            "{'S': 0, 'C': 1, 'Q': 2}\n"
          ],
          "name": "stdout"
        },
        {
          "output_type": "display_data",
          "data": {
            "text/html": [
              "<div>\n",
              "<style scoped>\n",
              "    .dataframe tbody tr th:only-of-type {\n",
              "        vertical-align: middle;\n",
              "    }\n",
              "\n",
              "    .dataframe tbody tr th {\n",
              "        vertical-align: top;\n",
              "    }\n",
              "\n",
              "    .dataframe thead th {\n",
              "        text-align: right;\n",
              "    }\n",
              "</style>\n",
              "<table border=\"1\" class=\"dataframe\">\n",
              "  <thead>\n",
              "    <tr style=\"text-align: right;\">\n",
              "      <th></th>\n",
              "      <th>Pclass</th>\n",
              "      <th>Name</th>\n",
              "      <th>Sex</th>\n",
              "      <th>Age</th>\n",
              "      <th>SibSp</th>\n",
              "      <th>Parch</th>\n",
              "      <th>Ticket</th>\n",
              "      <th>Fare</th>\n",
              "      <th>Cabin</th>\n",
              "      <th>Embarked</th>\n",
              "    </tr>\n",
              "    <tr>\n",
              "      <th>PassengerId</th>\n",
              "      <th></th>\n",
              "      <th></th>\n",
              "      <th></th>\n",
              "      <th></th>\n",
              "      <th></th>\n",
              "      <th></th>\n",
              "      <th></th>\n",
              "      <th></th>\n",
              "      <th></th>\n",
              "      <th></th>\n",
              "    </tr>\n",
              "  </thead>\n",
              "  <tbody>\n",
              "    <tr>\n",
              "      <th>1</th>\n",
              "      <td>3</td>\n",
              "      <td>Braund, Mr. Owen Harris</td>\n",
              "      <td>0</td>\n",
              "      <td>22.0</td>\n",
              "      <td>1</td>\n",
              "      <td>0</td>\n",
              "      <td>A/5 21171</td>\n",
              "      <td>7.2500</td>\n",
              "      <td>NaN</td>\n",
              "      <td>0</td>\n",
              "    </tr>\n",
              "    <tr>\n",
              "      <th>2</th>\n",
              "      <td>1</td>\n",
              "      <td>Cumings, Mrs. John Bradley (Florence Briggs Th...</td>\n",
              "      <td>1</td>\n",
              "      <td>38.0</td>\n",
              "      <td>1</td>\n",
              "      <td>0</td>\n",
              "      <td>PC 17599</td>\n",
              "      <td>71.2833</td>\n",
              "      <td>C85</td>\n",
              "      <td>1</td>\n",
              "    </tr>\n",
              "    <tr>\n",
              "      <th>3</th>\n",
              "      <td>3</td>\n",
              "      <td>Heikkinen, Miss. Laina</td>\n",
              "      <td>1</td>\n",
              "      <td>26.0</td>\n",
              "      <td>0</td>\n",
              "      <td>0</td>\n",
              "      <td>STON/O2. 3101282</td>\n",
              "      <td>7.9250</td>\n",
              "      <td>NaN</td>\n",
              "      <td>0</td>\n",
              "    </tr>\n",
              "    <tr>\n",
              "      <th>4</th>\n",
              "      <td>1</td>\n",
              "      <td>Futrelle, Mrs. Jacques Heath (Lily May Peel)</td>\n",
              "      <td>1</td>\n",
              "      <td>35.0</td>\n",
              "      <td>1</td>\n",
              "      <td>0</td>\n",
              "      <td>113803</td>\n",
              "      <td>53.1000</td>\n",
              "      <td>C123</td>\n",
              "      <td>0</td>\n",
              "    </tr>\n",
              "    <tr>\n",
              "      <th>5</th>\n",
              "      <td>3</td>\n",
              "      <td>Allen, Mr. William Henry</td>\n",
              "      <td>0</td>\n",
              "      <td>35.0</td>\n",
              "      <td>0</td>\n",
              "      <td>0</td>\n",
              "      <td>373450</td>\n",
              "      <td>8.0500</td>\n",
              "      <td>NaN</td>\n",
              "      <td>0</td>\n",
              "    </tr>\n",
              "  </tbody>\n",
              "</table>\n",
              "</div>"
            ],
            "text/plain": [
              "             Pclass  ... Embarked\n",
              "PassengerId          ...         \n",
              "1                 3  ...        0\n",
              "2                 1  ...        1\n",
              "3                 3  ...        0\n",
              "4                 1  ...        0\n",
              "5                 3  ...        0\n",
              "\n",
              "[5 rows x 10 columns]"
            ]
          },
          "metadata": {
            "tags": []
          }
        },
        {
          "output_type": "display_data",
          "data": {
            "text/html": [
              "<div>\n",
              "<style scoped>\n",
              "    .dataframe tbody tr th:only-of-type {\n",
              "        vertical-align: middle;\n",
              "    }\n",
              "\n",
              "    .dataframe tbody tr th {\n",
              "        vertical-align: top;\n",
              "    }\n",
              "\n",
              "    .dataframe thead th {\n",
              "        text-align: right;\n",
              "    }\n",
              "</style>\n",
              "<table border=\"1\" class=\"dataframe\">\n",
              "  <thead>\n",
              "    <tr style=\"text-align: right;\">\n",
              "      <th></th>\n",
              "      <th>Pclass</th>\n",
              "      <th>Sex</th>\n",
              "      <th>Age</th>\n",
              "      <th>SibSp</th>\n",
              "      <th>Parch</th>\n",
              "      <th>Fare</th>\n",
              "      <th>Embarked</th>\n",
              "    </tr>\n",
              "  </thead>\n",
              "  <tbody>\n",
              "    <tr>\n",
              "      <th>count</th>\n",
              "      <td>891.000000</td>\n",
              "      <td>891.000000</td>\n",
              "      <td>714.000000</td>\n",
              "      <td>891.000000</td>\n",
              "      <td>891.000000</td>\n",
              "      <td>891.000000</td>\n",
              "      <td>891.000000</td>\n",
              "    </tr>\n",
              "    <tr>\n",
              "      <th>mean</th>\n",
              "      <td>2.308642</td>\n",
              "      <td>0.352413</td>\n",
              "      <td>29.699118</td>\n",
              "      <td>0.523008</td>\n",
              "      <td>0.381594</td>\n",
              "      <td>32.204208</td>\n",
              "      <td>0.359147</td>\n",
              "    </tr>\n",
              "    <tr>\n",
              "      <th>std</th>\n",
              "      <td>0.836071</td>\n",
              "      <td>0.477990</td>\n",
              "      <td>14.526497</td>\n",
              "      <td>1.102743</td>\n",
              "      <td>0.806057</td>\n",
              "      <td>49.693429</td>\n",
              "      <td>0.638707</td>\n",
              "    </tr>\n",
              "    <tr>\n",
              "      <th>min</th>\n",
              "      <td>1.000000</td>\n",
              "      <td>0.000000</td>\n",
              "      <td>0.420000</td>\n",
              "      <td>0.000000</td>\n",
              "      <td>0.000000</td>\n",
              "      <td>0.000000</td>\n",
              "      <td>-1.000000</td>\n",
              "    </tr>\n",
              "    <tr>\n",
              "      <th>25%</th>\n",
              "      <td>2.000000</td>\n",
              "      <td>0.000000</td>\n",
              "      <td>20.125000</td>\n",
              "      <td>0.000000</td>\n",
              "      <td>0.000000</td>\n",
              "      <td>7.910400</td>\n",
              "      <td>0.000000</td>\n",
              "    </tr>\n",
              "    <tr>\n",
              "      <th>50%</th>\n",
              "      <td>3.000000</td>\n",
              "      <td>0.000000</td>\n",
              "      <td>28.000000</td>\n",
              "      <td>0.000000</td>\n",
              "      <td>0.000000</td>\n",
              "      <td>14.454200</td>\n",
              "      <td>0.000000</td>\n",
              "    </tr>\n",
              "    <tr>\n",
              "      <th>75%</th>\n",
              "      <td>3.000000</td>\n",
              "      <td>1.000000</td>\n",
              "      <td>38.000000</td>\n",
              "      <td>1.000000</td>\n",
              "      <td>0.000000</td>\n",
              "      <td>31.000000</td>\n",
              "      <td>1.000000</td>\n",
              "    </tr>\n",
              "    <tr>\n",
              "      <th>max</th>\n",
              "      <td>3.000000</td>\n",
              "      <td>1.000000</td>\n",
              "      <td>80.000000</td>\n",
              "      <td>8.000000</td>\n",
              "      <td>6.000000</td>\n",
              "      <td>512.329200</td>\n",
              "      <td>2.000000</td>\n",
              "    </tr>\n",
              "  </tbody>\n",
              "</table>\n",
              "</div>"
            ],
            "text/plain": [
              "           Pclass         Sex         Age  ...       Parch        Fare    Embarked\n",
              "count  891.000000  891.000000  714.000000  ...  891.000000  891.000000  891.000000\n",
              "mean     2.308642    0.352413   29.699118  ...    0.381594   32.204208    0.359147\n",
              "std      0.836071    0.477990   14.526497  ...    0.806057   49.693429    0.638707\n",
              "min      1.000000    0.000000    0.420000  ...    0.000000    0.000000   -1.000000\n",
              "25%      2.000000    0.000000   20.125000  ...    0.000000    7.910400    0.000000\n",
              "50%      3.000000    0.000000   28.000000  ...    0.000000   14.454200    0.000000\n",
              "75%      3.000000    1.000000   38.000000  ...    0.000000   31.000000    1.000000\n",
              "max      3.000000    1.000000   80.000000  ...    6.000000  512.329200    2.000000\n",
              "\n",
              "[8 rows x 7 columns]"
            ]
          },
          "metadata": {
            "tags": []
          }
        }
      ]
    },
    {
      "cell_type": "code",
      "metadata": {
        "id": "8xhShqRef-Y3",
        "colab_type": "code",
        "outputId": "b8b90d7c-6c99-4b59-bc3b-fcc950a39055",
        "colab": {
          "base_uri": "https://localhost:8080/",
          "height": 515
        }
      },
      "source": [
        "X_test['Sex'] = X_test['Sex'].map(sex)\n",
        "X_test['Embarked'] = X_test['Embarked'].map(embarked)\n",
        "\n",
        "display(X_test.head())\n",
        "display(X_test.describe())"
      ],
      "execution_count": 13,
      "outputs": [
        {
          "output_type": "display_data",
          "data": {
            "text/html": [
              "<div>\n",
              "<style scoped>\n",
              "    .dataframe tbody tr th:only-of-type {\n",
              "        vertical-align: middle;\n",
              "    }\n",
              "\n",
              "    .dataframe tbody tr th {\n",
              "        vertical-align: top;\n",
              "    }\n",
              "\n",
              "    .dataframe thead th {\n",
              "        text-align: right;\n",
              "    }\n",
              "</style>\n",
              "<table border=\"1\" class=\"dataframe\">\n",
              "  <thead>\n",
              "    <tr style=\"text-align: right;\">\n",
              "      <th></th>\n",
              "      <th>Pclass</th>\n",
              "      <th>Name</th>\n",
              "      <th>Sex</th>\n",
              "      <th>Age</th>\n",
              "      <th>SibSp</th>\n",
              "      <th>Parch</th>\n",
              "      <th>Ticket</th>\n",
              "      <th>Fare</th>\n",
              "      <th>Cabin</th>\n",
              "      <th>Embarked</th>\n",
              "    </tr>\n",
              "    <tr>\n",
              "      <th>PassengerId</th>\n",
              "      <th></th>\n",
              "      <th></th>\n",
              "      <th></th>\n",
              "      <th></th>\n",
              "      <th></th>\n",
              "      <th></th>\n",
              "      <th></th>\n",
              "      <th></th>\n",
              "      <th></th>\n",
              "      <th></th>\n",
              "    </tr>\n",
              "  </thead>\n",
              "  <tbody>\n",
              "    <tr>\n",
              "      <th>892</th>\n",
              "      <td>3</td>\n",
              "      <td>Kelly, Mr. James</td>\n",
              "      <td>0</td>\n",
              "      <td>34.5</td>\n",
              "      <td>0</td>\n",
              "      <td>0</td>\n",
              "      <td>330911</td>\n",
              "      <td>7.8292</td>\n",
              "      <td>NaN</td>\n",
              "      <td>2</td>\n",
              "    </tr>\n",
              "    <tr>\n",
              "      <th>893</th>\n",
              "      <td>3</td>\n",
              "      <td>Wilkes, Mrs. James (Ellen Needs)</td>\n",
              "      <td>1</td>\n",
              "      <td>47.0</td>\n",
              "      <td>1</td>\n",
              "      <td>0</td>\n",
              "      <td>363272</td>\n",
              "      <td>7.0000</td>\n",
              "      <td>NaN</td>\n",
              "      <td>0</td>\n",
              "    </tr>\n",
              "    <tr>\n",
              "      <th>894</th>\n",
              "      <td>2</td>\n",
              "      <td>Myles, Mr. Thomas Francis</td>\n",
              "      <td>0</td>\n",
              "      <td>62.0</td>\n",
              "      <td>0</td>\n",
              "      <td>0</td>\n",
              "      <td>240276</td>\n",
              "      <td>9.6875</td>\n",
              "      <td>NaN</td>\n",
              "      <td>2</td>\n",
              "    </tr>\n",
              "    <tr>\n",
              "      <th>895</th>\n",
              "      <td>3</td>\n",
              "      <td>Wirz, Mr. Albert</td>\n",
              "      <td>0</td>\n",
              "      <td>27.0</td>\n",
              "      <td>0</td>\n",
              "      <td>0</td>\n",
              "      <td>315154</td>\n",
              "      <td>8.6625</td>\n",
              "      <td>NaN</td>\n",
              "      <td>0</td>\n",
              "    </tr>\n",
              "    <tr>\n",
              "      <th>896</th>\n",
              "      <td>3</td>\n",
              "      <td>Hirvonen, Mrs. Alexander (Helga E Lindqvist)</td>\n",
              "      <td>1</td>\n",
              "      <td>22.0</td>\n",
              "      <td>1</td>\n",
              "      <td>1</td>\n",
              "      <td>3101298</td>\n",
              "      <td>12.2875</td>\n",
              "      <td>NaN</td>\n",
              "      <td>0</td>\n",
              "    </tr>\n",
              "  </tbody>\n",
              "</table>\n",
              "</div>"
            ],
            "text/plain": [
              "             Pclass  ... Embarked\n",
              "PassengerId          ...         \n",
              "892               3  ...        2\n",
              "893               3  ...        0\n",
              "894               2  ...        2\n",
              "895               3  ...        0\n",
              "896               3  ...        0\n",
              "\n",
              "[5 rows x 10 columns]"
            ]
          },
          "metadata": {
            "tags": []
          }
        },
        {
          "output_type": "display_data",
          "data": {
            "text/html": [
              "<div>\n",
              "<style scoped>\n",
              "    .dataframe tbody tr th:only-of-type {\n",
              "        vertical-align: middle;\n",
              "    }\n",
              "\n",
              "    .dataframe tbody tr th {\n",
              "        vertical-align: top;\n",
              "    }\n",
              "\n",
              "    .dataframe thead th {\n",
              "        text-align: right;\n",
              "    }\n",
              "</style>\n",
              "<table border=\"1\" class=\"dataframe\">\n",
              "  <thead>\n",
              "    <tr style=\"text-align: right;\">\n",
              "      <th></th>\n",
              "      <th>Pclass</th>\n",
              "      <th>Sex</th>\n",
              "      <th>Age</th>\n",
              "      <th>SibSp</th>\n",
              "      <th>Parch</th>\n",
              "      <th>Fare</th>\n",
              "      <th>Embarked</th>\n",
              "    </tr>\n",
              "  </thead>\n",
              "  <tbody>\n",
              "    <tr>\n",
              "      <th>count</th>\n",
              "      <td>418.000000</td>\n",
              "      <td>418.000000</td>\n",
              "      <td>332.000000</td>\n",
              "      <td>418.000000</td>\n",
              "      <td>418.000000</td>\n",
              "      <td>417.000000</td>\n",
              "      <td>418.000000</td>\n",
              "    </tr>\n",
              "    <tr>\n",
              "      <th>mean</th>\n",
              "      <td>2.265550</td>\n",
              "      <td>0.363636</td>\n",
              "      <td>30.272590</td>\n",
              "      <td>0.447368</td>\n",
              "      <td>0.392344</td>\n",
              "      <td>35.627188</td>\n",
              "      <td>0.464115</td>\n",
              "    </tr>\n",
              "    <tr>\n",
              "      <th>std</th>\n",
              "      <td>0.841838</td>\n",
              "      <td>0.481622</td>\n",
              "      <td>14.181209</td>\n",
              "      <td>0.896760</td>\n",
              "      <td>0.981429</td>\n",
              "      <td>55.907576</td>\n",
              "      <td>0.685516</td>\n",
              "    </tr>\n",
              "    <tr>\n",
              "      <th>min</th>\n",
              "      <td>1.000000</td>\n",
              "      <td>0.000000</td>\n",
              "      <td>0.170000</td>\n",
              "      <td>0.000000</td>\n",
              "      <td>0.000000</td>\n",
              "      <td>0.000000</td>\n",
              "      <td>0.000000</td>\n",
              "    </tr>\n",
              "    <tr>\n",
              "      <th>25%</th>\n",
              "      <td>1.000000</td>\n",
              "      <td>0.000000</td>\n",
              "      <td>21.000000</td>\n",
              "      <td>0.000000</td>\n",
              "      <td>0.000000</td>\n",
              "      <td>7.895800</td>\n",
              "      <td>0.000000</td>\n",
              "    </tr>\n",
              "    <tr>\n",
              "      <th>50%</th>\n",
              "      <td>3.000000</td>\n",
              "      <td>0.000000</td>\n",
              "      <td>27.000000</td>\n",
              "      <td>0.000000</td>\n",
              "      <td>0.000000</td>\n",
              "      <td>14.454200</td>\n",
              "      <td>0.000000</td>\n",
              "    </tr>\n",
              "    <tr>\n",
              "      <th>75%</th>\n",
              "      <td>3.000000</td>\n",
              "      <td>1.000000</td>\n",
              "      <td>39.000000</td>\n",
              "      <td>1.000000</td>\n",
              "      <td>0.000000</td>\n",
              "      <td>31.500000</td>\n",
              "      <td>1.000000</td>\n",
              "    </tr>\n",
              "    <tr>\n",
              "      <th>max</th>\n",
              "      <td>3.000000</td>\n",
              "      <td>1.000000</td>\n",
              "      <td>76.000000</td>\n",
              "      <td>8.000000</td>\n",
              "      <td>9.000000</td>\n",
              "      <td>512.329200</td>\n",
              "      <td>2.000000</td>\n",
              "    </tr>\n",
              "  </tbody>\n",
              "</table>\n",
              "</div>"
            ],
            "text/plain": [
              "           Pclass         Sex         Age  ...       Parch        Fare    Embarked\n",
              "count  418.000000  418.000000  332.000000  ...  418.000000  417.000000  418.000000\n",
              "mean     2.265550    0.363636   30.272590  ...    0.392344   35.627188    0.464115\n",
              "std      0.841838    0.481622   14.181209  ...    0.981429   55.907576    0.685516\n",
              "min      1.000000    0.000000    0.170000  ...    0.000000    0.000000    0.000000\n",
              "25%      1.000000    0.000000   21.000000  ...    0.000000    7.895800    0.000000\n",
              "50%      3.000000    0.000000   27.000000  ...    0.000000   14.454200    0.000000\n",
              "75%      3.000000    1.000000   39.000000  ...    0.000000   31.500000    1.000000\n",
              "max      3.000000    1.000000   76.000000  ...    9.000000  512.329200    2.000000\n",
              "\n",
              "[8 rows x 7 columns]"
            ]
          },
          "metadata": {
            "tags": []
          }
        }
      ]
    },
    {
      "cell_type": "markdown",
      "metadata": {
        "id": "GZvYibYSw5WP",
        "colab_type": "text"
      },
      "source": [
        "## Extraer nuevas carcaterísticas (Fetature Engineering)"
      ]
    },
    {
      "cell_type": "code",
      "metadata": {
        "id": "PaWiLL6ew-x-",
        "colab_type": "code",
        "outputId": "23fd6134-083a-451d-cc3e-6fb542d0e93e",
        "colab": {
          "base_uri": "https://localhost:8080/",
          "height": 552
        }
      },
      "source": [
        "# https://www.kaggle.com/ouyangg/titanic\n",
        "X_train['Title'] = X_train['Name'].str.extract('([A-Za-z]+)\\.')\n",
        "X_train['Title'], title = pd.factorize(X_train['Title'])\n",
        "\n",
        "title = {k:v for v, k in enumerate(title)}\n",
        "\n",
        "print(title)\n",
        "display(X_train.head())\n",
        "display(X_train.describe())"
      ],
      "execution_count": 14,
      "outputs": [
        {
          "output_type": "stream",
          "text": [
            "{'Mr': 0, 'Mrs': 1, 'Miss': 2, 'Master': 3, 'Don': 4, 'Rev': 5, 'Dr': 6, 'Mme': 7, 'Ms': 8, 'Major': 9, 'Lady': 10, 'Sir': 11, 'Mlle': 12, 'Col': 13, 'Capt': 14, 'Countess': 15, 'Jonkheer': 16}\n"
          ],
          "name": "stdout"
        },
        {
          "output_type": "display_data",
          "data": {
            "text/html": [
              "<div>\n",
              "<style scoped>\n",
              "    .dataframe tbody tr th:only-of-type {\n",
              "        vertical-align: middle;\n",
              "    }\n",
              "\n",
              "    .dataframe tbody tr th {\n",
              "        vertical-align: top;\n",
              "    }\n",
              "\n",
              "    .dataframe thead th {\n",
              "        text-align: right;\n",
              "    }\n",
              "</style>\n",
              "<table border=\"1\" class=\"dataframe\">\n",
              "  <thead>\n",
              "    <tr style=\"text-align: right;\">\n",
              "      <th></th>\n",
              "      <th>Pclass</th>\n",
              "      <th>Name</th>\n",
              "      <th>Sex</th>\n",
              "      <th>Age</th>\n",
              "      <th>SibSp</th>\n",
              "      <th>Parch</th>\n",
              "      <th>Ticket</th>\n",
              "      <th>Fare</th>\n",
              "      <th>Cabin</th>\n",
              "      <th>Embarked</th>\n",
              "      <th>Title</th>\n",
              "    </tr>\n",
              "    <tr>\n",
              "      <th>PassengerId</th>\n",
              "      <th></th>\n",
              "      <th></th>\n",
              "      <th></th>\n",
              "      <th></th>\n",
              "      <th></th>\n",
              "      <th></th>\n",
              "      <th></th>\n",
              "      <th></th>\n",
              "      <th></th>\n",
              "      <th></th>\n",
              "      <th></th>\n",
              "    </tr>\n",
              "  </thead>\n",
              "  <tbody>\n",
              "    <tr>\n",
              "      <th>1</th>\n",
              "      <td>3</td>\n",
              "      <td>Braund, Mr. Owen Harris</td>\n",
              "      <td>0</td>\n",
              "      <td>22.0</td>\n",
              "      <td>1</td>\n",
              "      <td>0</td>\n",
              "      <td>A/5 21171</td>\n",
              "      <td>7.2500</td>\n",
              "      <td>NaN</td>\n",
              "      <td>0</td>\n",
              "      <td>0</td>\n",
              "    </tr>\n",
              "    <tr>\n",
              "      <th>2</th>\n",
              "      <td>1</td>\n",
              "      <td>Cumings, Mrs. John Bradley (Florence Briggs Th...</td>\n",
              "      <td>1</td>\n",
              "      <td>38.0</td>\n",
              "      <td>1</td>\n",
              "      <td>0</td>\n",
              "      <td>PC 17599</td>\n",
              "      <td>71.2833</td>\n",
              "      <td>C85</td>\n",
              "      <td>1</td>\n",
              "      <td>1</td>\n",
              "    </tr>\n",
              "    <tr>\n",
              "      <th>3</th>\n",
              "      <td>3</td>\n",
              "      <td>Heikkinen, Miss. Laina</td>\n",
              "      <td>1</td>\n",
              "      <td>26.0</td>\n",
              "      <td>0</td>\n",
              "      <td>0</td>\n",
              "      <td>STON/O2. 3101282</td>\n",
              "      <td>7.9250</td>\n",
              "      <td>NaN</td>\n",
              "      <td>0</td>\n",
              "      <td>2</td>\n",
              "    </tr>\n",
              "    <tr>\n",
              "      <th>4</th>\n",
              "      <td>1</td>\n",
              "      <td>Futrelle, Mrs. Jacques Heath (Lily May Peel)</td>\n",
              "      <td>1</td>\n",
              "      <td>35.0</td>\n",
              "      <td>1</td>\n",
              "      <td>0</td>\n",
              "      <td>113803</td>\n",
              "      <td>53.1000</td>\n",
              "      <td>C123</td>\n",
              "      <td>0</td>\n",
              "      <td>1</td>\n",
              "    </tr>\n",
              "    <tr>\n",
              "      <th>5</th>\n",
              "      <td>3</td>\n",
              "      <td>Allen, Mr. William Henry</td>\n",
              "      <td>0</td>\n",
              "      <td>35.0</td>\n",
              "      <td>0</td>\n",
              "      <td>0</td>\n",
              "      <td>373450</td>\n",
              "      <td>8.0500</td>\n",
              "      <td>NaN</td>\n",
              "      <td>0</td>\n",
              "      <td>0</td>\n",
              "    </tr>\n",
              "  </tbody>\n",
              "</table>\n",
              "</div>"
            ],
            "text/plain": [
              "             Pclass  ... Title\n",
              "PassengerId          ...      \n",
              "1                 3  ...     0\n",
              "2                 1  ...     1\n",
              "3                 3  ...     2\n",
              "4                 1  ...     1\n",
              "5                 3  ...     0\n",
              "\n",
              "[5 rows x 11 columns]"
            ]
          },
          "metadata": {
            "tags": []
          }
        },
        {
          "output_type": "display_data",
          "data": {
            "text/html": [
              "<div>\n",
              "<style scoped>\n",
              "    .dataframe tbody tr th:only-of-type {\n",
              "        vertical-align: middle;\n",
              "    }\n",
              "\n",
              "    .dataframe tbody tr th {\n",
              "        vertical-align: top;\n",
              "    }\n",
              "\n",
              "    .dataframe thead th {\n",
              "        text-align: right;\n",
              "    }\n",
              "</style>\n",
              "<table border=\"1\" class=\"dataframe\">\n",
              "  <thead>\n",
              "    <tr style=\"text-align: right;\">\n",
              "      <th></th>\n",
              "      <th>Pclass</th>\n",
              "      <th>Sex</th>\n",
              "      <th>Age</th>\n",
              "      <th>SibSp</th>\n",
              "      <th>Parch</th>\n",
              "      <th>Fare</th>\n",
              "      <th>Embarked</th>\n",
              "      <th>Title</th>\n",
              "    </tr>\n",
              "  </thead>\n",
              "  <tbody>\n",
              "    <tr>\n",
              "      <th>count</th>\n",
              "      <td>891.000000</td>\n",
              "      <td>891.000000</td>\n",
              "      <td>714.000000</td>\n",
              "      <td>891.000000</td>\n",
              "      <td>891.000000</td>\n",
              "      <td>891.000000</td>\n",
              "      <td>891.000000</td>\n",
              "      <td>891.000000</td>\n",
              "    </tr>\n",
              "    <tr>\n",
              "      <th>mean</th>\n",
              "      <td>2.308642</td>\n",
              "      <td>0.352413</td>\n",
              "      <td>29.699118</td>\n",
              "      <td>0.523008</td>\n",
              "      <td>0.381594</td>\n",
              "      <td>32.204208</td>\n",
              "      <td>0.359147</td>\n",
              "      <td>0.936027</td>\n",
              "    </tr>\n",
              "    <tr>\n",
              "      <th>std</th>\n",
              "      <td>0.836071</td>\n",
              "      <td>0.477990</td>\n",
              "      <td>14.526497</td>\n",
              "      <td>1.102743</td>\n",
              "      <td>0.806057</td>\n",
              "      <td>49.693429</td>\n",
              "      <td>0.638707</td>\n",
              "      <td>1.725341</td>\n",
              "    </tr>\n",
              "    <tr>\n",
              "      <th>min</th>\n",
              "      <td>1.000000</td>\n",
              "      <td>0.000000</td>\n",
              "      <td>0.420000</td>\n",
              "      <td>0.000000</td>\n",
              "      <td>0.000000</td>\n",
              "      <td>0.000000</td>\n",
              "      <td>-1.000000</td>\n",
              "      <td>0.000000</td>\n",
              "    </tr>\n",
              "    <tr>\n",
              "      <th>25%</th>\n",
              "      <td>2.000000</td>\n",
              "      <td>0.000000</td>\n",
              "      <td>20.125000</td>\n",
              "      <td>0.000000</td>\n",
              "      <td>0.000000</td>\n",
              "      <td>7.910400</td>\n",
              "      <td>0.000000</td>\n",
              "      <td>0.000000</td>\n",
              "    </tr>\n",
              "    <tr>\n",
              "      <th>50%</th>\n",
              "      <td>3.000000</td>\n",
              "      <td>0.000000</td>\n",
              "      <td>28.000000</td>\n",
              "      <td>0.000000</td>\n",
              "      <td>0.000000</td>\n",
              "      <td>14.454200</td>\n",
              "      <td>0.000000</td>\n",
              "      <td>0.000000</td>\n",
              "    </tr>\n",
              "    <tr>\n",
              "      <th>75%</th>\n",
              "      <td>3.000000</td>\n",
              "      <td>1.000000</td>\n",
              "      <td>38.000000</td>\n",
              "      <td>1.000000</td>\n",
              "      <td>0.000000</td>\n",
              "      <td>31.000000</td>\n",
              "      <td>1.000000</td>\n",
              "      <td>2.000000</td>\n",
              "    </tr>\n",
              "    <tr>\n",
              "      <th>max</th>\n",
              "      <td>3.000000</td>\n",
              "      <td>1.000000</td>\n",
              "      <td>80.000000</td>\n",
              "      <td>8.000000</td>\n",
              "      <td>6.000000</td>\n",
              "      <td>512.329200</td>\n",
              "      <td>2.000000</td>\n",
              "      <td>16.000000</td>\n",
              "    </tr>\n",
              "  </tbody>\n",
              "</table>\n",
              "</div>"
            ],
            "text/plain": [
              "           Pclass         Sex         Age  ...        Fare    Embarked       Title\n",
              "count  891.000000  891.000000  714.000000  ...  891.000000  891.000000  891.000000\n",
              "mean     2.308642    0.352413   29.699118  ...   32.204208    0.359147    0.936027\n",
              "std      0.836071    0.477990   14.526497  ...   49.693429    0.638707    1.725341\n",
              "min      1.000000    0.000000    0.420000  ...    0.000000   -1.000000    0.000000\n",
              "25%      2.000000    0.000000   20.125000  ...    7.910400    0.000000    0.000000\n",
              "50%      3.000000    0.000000   28.000000  ...   14.454200    0.000000    0.000000\n",
              "75%      3.000000    1.000000   38.000000  ...   31.000000    1.000000    2.000000\n",
              "max      3.000000    1.000000   80.000000  ...  512.329200    2.000000   16.000000\n",
              "\n",
              "[8 rows x 8 columns]"
            ]
          },
          "metadata": {
            "tags": []
          }
        }
      ]
    },
    {
      "cell_type": "code",
      "metadata": {
        "id": "dI66Zbpwxg13",
        "colab_type": "code",
        "outputId": "61160044-fbc3-40ad-d21a-dc02ab4787b7",
        "colab": {
          "base_uri": "https://localhost:8080/",
          "height": 515
        }
      },
      "source": [
        "X_test['Title'] = X_test['Name'].str.extract('([A-Za-z]+)\\.')\n",
        "X_test['Title'] = X_test['Title'].map(title)\n",
        "\n",
        "display(X_test.head())\n",
        "display(X_test.describe())"
      ],
      "execution_count": 15,
      "outputs": [
        {
          "output_type": "display_data",
          "data": {
            "text/html": [
              "<div>\n",
              "<style scoped>\n",
              "    .dataframe tbody tr th:only-of-type {\n",
              "        vertical-align: middle;\n",
              "    }\n",
              "\n",
              "    .dataframe tbody tr th {\n",
              "        vertical-align: top;\n",
              "    }\n",
              "\n",
              "    .dataframe thead th {\n",
              "        text-align: right;\n",
              "    }\n",
              "</style>\n",
              "<table border=\"1\" class=\"dataframe\">\n",
              "  <thead>\n",
              "    <tr style=\"text-align: right;\">\n",
              "      <th></th>\n",
              "      <th>Pclass</th>\n",
              "      <th>Name</th>\n",
              "      <th>Sex</th>\n",
              "      <th>Age</th>\n",
              "      <th>SibSp</th>\n",
              "      <th>Parch</th>\n",
              "      <th>Ticket</th>\n",
              "      <th>Fare</th>\n",
              "      <th>Cabin</th>\n",
              "      <th>Embarked</th>\n",
              "      <th>Title</th>\n",
              "    </tr>\n",
              "    <tr>\n",
              "      <th>PassengerId</th>\n",
              "      <th></th>\n",
              "      <th></th>\n",
              "      <th></th>\n",
              "      <th></th>\n",
              "      <th></th>\n",
              "      <th></th>\n",
              "      <th></th>\n",
              "      <th></th>\n",
              "      <th></th>\n",
              "      <th></th>\n",
              "      <th></th>\n",
              "    </tr>\n",
              "  </thead>\n",
              "  <tbody>\n",
              "    <tr>\n",
              "      <th>892</th>\n",
              "      <td>3</td>\n",
              "      <td>Kelly, Mr. James</td>\n",
              "      <td>0</td>\n",
              "      <td>34.5</td>\n",
              "      <td>0</td>\n",
              "      <td>0</td>\n",
              "      <td>330911</td>\n",
              "      <td>7.8292</td>\n",
              "      <td>NaN</td>\n",
              "      <td>2</td>\n",
              "      <td>0.0</td>\n",
              "    </tr>\n",
              "    <tr>\n",
              "      <th>893</th>\n",
              "      <td>3</td>\n",
              "      <td>Wilkes, Mrs. James (Ellen Needs)</td>\n",
              "      <td>1</td>\n",
              "      <td>47.0</td>\n",
              "      <td>1</td>\n",
              "      <td>0</td>\n",
              "      <td>363272</td>\n",
              "      <td>7.0000</td>\n",
              "      <td>NaN</td>\n",
              "      <td>0</td>\n",
              "      <td>1.0</td>\n",
              "    </tr>\n",
              "    <tr>\n",
              "      <th>894</th>\n",
              "      <td>2</td>\n",
              "      <td>Myles, Mr. Thomas Francis</td>\n",
              "      <td>0</td>\n",
              "      <td>62.0</td>\n",
              "      <td>0</td>\n",
              "      <td>0</td>\n",
              "      <td>240276</td>\n",
              "      <td>9.6875</td>\n",
              "      <td>NaN</td>\n",
              "      <td>2</td>\n",
              "      <td>0.0</td>\n",
              "    </tr>\n",
              "    <tr>\n",
              "      <th>895</th>\n",
              "      <td>3</td>\n",
              "      <td>Wirz, Mr. Albert</td>\n",
              "      <td>0</td>\n",
              "      <td>27.0</td>\n",
              "      <td>0</td>\n",
              "      <td>0</td>\n",
              "      <td>315154</td>\n",
              "      <td>8.6625</td>\n",
              "      <td>NaN</td>\n",
              "      <td>0</td>\n",
              "      <td>0.0</td>\n",
              "    </tr>\n",
              "    <tr>\n",
              "      <th>896</th>\n",
              "      <td>3</td>\n",
              "      <td>Hirvonen, Mrs. Alexander (Helga E Lindqvist)</td>\n",
              "      <td>1</td>\n",
              "      <td>22.0</td>\n",
              "      <td>1</td>\n",
              "      <td>1</td>\n",
              "      <td>3101298</td>\n",
              "      <td>12.2875</td>\n",
              "      <td>NaN</td>\n",
              "      <td>0</td>\n",
              "      <td>1.0</td>\n",
              "    </tr>\n",
              "  </tbody>\n",
              "</table>\n",
              "</div>"
            ],
            "text/plain": [
              "             Pclass  ... Title\n",
              "PassengerId          ...      \n",
              "892               3  ...   0.0\n",
              "893               3  ...   1.0\n",
              "894               2  ...   0.0\n",
              "895               3  ...   0.0\n",
              "896               3  ...   1.0\n",
              "\n",
              "[5 rows x 11 columns]"
            ]
          },
          "metadata": {
            "tags": []
          }
        },
        {
          "output_type": "display_data",
          "data": {
            "text/html": [
              "<div>\n",
              "<style scoped>\n",
              "    .dataframe tbody tr th:only-of-type {\n",
              "        vertical-align: middle;\n",
              "    }\n",
              "\n",
              "    .dataframe tbody tr th {\n",
              "        vertical-align: top;\n",
              "    }\n",
              "\n",
              "    .dataframe thead th {\n",
              "        text-align: right;\n",
              "    }\n",
              "</style>\n",
              "<table border=\"1\" class=\"dataframe\">\n",
              "  <thead>\n",
              "    <tr style=\"text-align: right;\">\n",
              "      <th></th>\n",
              "      <th>Pclass</th>\n",
              "      <th>Sex</th>\n",
              "      <th>Age</th>\n",
              "      <th>SibSp</th>\n",
              "      <th>Parch</th>\n",
              "      <th>Fare</th>\n",
              "      <th>Embarked</th>\n",
              "      <th>Title</th>\n",
              "    </tr>\n",
              "  </thead>\n",
              "  <tbody>\n",
              "    <tr>\n",
              "      <th>count</th>\n",
              "      <td>418.000000</td>\n",
              "      <td>418.000000</td>\n",
              "      <td>332.000000</td>\n",
              "      <td>418.000000</td>\n",
              "      <td>418.000000</td>\n",
              "      <td>417.000000</td>\n",
              "      <td>418.000000</td>\n",
              "      <td>417.000000</td>\n",
              "    </tr>\n",
              "    <tr>\n",
              "      <th>mean</th>\n",
              "      <td>2.265550</td>\n",
              "      <td>0.363636</td>\n",
              "      <td>30.272590</td>\n",
              "      <td>0.447368</td>\n",
              "      <td>0.392344</td>\n",
              "      <td>35.627188</td>\n",
              "      <td>0.464115</td>\n",
              "      <td>0.817746</td>\n",
              "    </tr>\n",
              "    <tr>\n",
              "      <th>std</th>\n",
              "      <td>0.841838</td>\n",
              "      <td>0.481622</td>\n",
              "      <td>14.181209</td>\n",
              "      <td>0.896760</td>\n",
              "      <td>0.981429</td>\n",
              "      <td>55.907576</td>\n",
              "      <td>0.685516</td>\n",
              "      <td>1.371191</td>\n",
              "    </tr>\n",
              "    <tr>\n",
              "      <th>min</th>\n",
              "      <td>1.000000</td>\n",
              "      <td>0.000000</td>\n",
              "      <td>0.170000</td>\n",
              "      <td>0.000000</td>\n",
              "      <td>0.000000</td>\n",
              "      <td>0.000000</td>\n",
              "      <td>0.000000</td>\n",
              "      <td>0.000000</td>\n",
              "    </tr>\n",
              "    <tr>\n",
              "      <th>25%</th>\n",
              "      <td>1.000000</td>\n",
              "      <td>0.000000</td>\n",
              "      <td>21.000000</td>\n",
              "      <td>0.000000</td>\n",
              "      <td>0.000000</td>\n",
              "      <td>7.895800</td>\n",
              "      <td>0.000000</td>\n",
              "      <td>0.000000</td>\n",
              "    </tr>\n",
              "    <tr>\n",
              "      <th>50%</th>\n",
              "      <td>3.000000</td>\n",
              "      <td>0.000000</td>\n",
              "      <td>27.000000</td>\n",
              "      <td>0.000000</td>\n",
              "      <td>0.000000</td>\n",
              "      <td>14.454200</td>\n",
              "      <td>0.000000</td>\n",
              "      <td>0.000000</td>\n",
              "    </tr>\n",
              "    <tr>\n",
              "      <th>75%</th>\n",
              "      <td>3.000000</td>\n",
              "      <td>1.000000</td>\n",
              "      <td>39.000000</td>\n",
              "      <td>1.000000</td>\n",
              "      <td>0.000000</td>\n",
              "      <td>31.500000</td>\n",
              "      <td>1.000000</td>\n",
              "      <td>2.000000</td>\n",
              "    </tr>\n",
              "    <tr>\n",
              "      <th>max</th>\n",
              "      <td>3.000000</td>\n",
              "      <td>1.000000</td>\n",
              "      <td>76.000000</td>\n",
              "      <td>8.000000</td>\n",
              "      <td>9.000000</td>\n",
              "      <td>512.329200</td>\n",
              "      <td>2.000000</td>\n",
              "      <td>13.000000</td>\n",
              "    </tr>\n",
              "  </tbody>\n",
              "</table>\n",
              "</div>"
            ],
            "text/plain": [
              "           Pclass         Sex         Age  ...        Fare    Embarked       Title\n",
              "count  418.000000  418.000000  332.000000  ...  417.000000  418.000000  417.000000\n",
              "mean     2.265550    0.363636   30.272590  ...   35.627188    0.464115    0.817746\n",
              "std      0.841838    0.481622   14.181209  ...   55.907576    0.685516    1.371191\n",
              "min      1.000000    0.000000    0.170000  ...    0.000000    0.000000    0.000000\n",
              "25%      1.000000    0.000000   21.000000  ...    7.895800    0.000000    0.000000\n",
              "50%      3.000000    0.000000   27.000000  ...   14.454200    0.000000    0.000000\n",
              "75%      3.000000    1.000000   39.000000  ...   31.500000    1.000000    2.000000\n",
              "max      3.000000    1.000000   76.000000  ...  512.329200    2.000000   13.000000\n",
              "\n",
              "[8 rows x 8 columns]"
            ]
          },
          "metadata": {
            "tags": []
          }
        }
      ]
    },
    {
      "cell_type": "markdown",
      "metadata": {
        "id": "vhUuoDkV6YA2",
        "colab_type": "text"
      },
      "source": [
        "## Eliminación de características"
      ]
    },
    {
      "cell_type": "code",
      "metadata": {
        "id": "B_xa0V4-wwxB",
        "colab_type": "code",
        "colab": {}
      },
      "source": [
        "# Deajar solo variables Numéricas\n",
        "X_train = X_train.drop(columns=['Name', 'Ticket', 'Cabin'])\n",
        "X_test = X_test.drop(columns=['Name', 'Ticket', 'Cabin'])"
      ],
      "execution_count": 0,
      "outputs": []
    },
    {
      "cell_type": "markdown",
      "metadata": {
        "id": "q4Y5zhTS6qqZ",
        "colab_type": "text"
      },
      "source": [
        "## Valores perdidos"
      ]
    },
    {
      "cell_type": "code",
      "metadata": {
        "id": "szoUMj_q6uw6",
        "colab_type": "code",
        "outputId": "9b6f7b98-6a43-4996-919a-99f8a62fe0a6",
        "colab": {
          "base_uri": "https://localhost:8080/",
          "height": 297
        }
      },
      "source": [
        "# https://scikit-learn.org/stable/modules/impute.html\n",
        "# https://scikit-learn.org/dev/modules/generated/sklearn.impute.KNNImputer.html\n",
        "\n",
        "# Se asigna a la variable imp un objeto del tipo KNNImputer\n",
        "imp = KNNImputer().fit(X_train)\n",
        "\n",
        "# Se aplica la transformación para cada atributo\n",
        "X_train = pd.DataFrame(imp.transform(X_train), columns = X_train.columns)\n",
        "\n",
        "# Se analiza la distribución del dataframe\n",
        "display(X_train.describe())"
      ],
      "execution_count": 17,
      "outputs": [
        {
          "output_type": "display_data",
          "data": {
            "text/html": [
              "<div>\n",
              "<style scoped>\n",
              "    .dataframe tbody tr th:only-of-type {\n",
              "        vertical-align: middle;\n",
              "    }\n",
              "\n",
              "    .dataframe tbody tr th {\n",
              "        vertical-align: top;\n",
              "    }\n",
              "\n",
              "    .dataframe thead th {\n",
              "        text-align: right;\n",
              "    }\n",
              "</style>\n",
              "<table border=\"1\" class=\"dataframe\">\n",
              "  <thead>\n",
              "    <tr style=\"text-align: right;\">\n",
              "      <th></th>\n",
              "      <th>Pclass</th>\n",
              "      <th>Sex</th>\n",
              "      <th>Age</th>\n",
              "      <th>SibSp</th>\n",
              "      <th>Parch</th>\n",
              "      <th>Fare</th>\n",
              "      <th>Embarked</th>\n",
              "      <th>Title</th>\n",
              "    </tr>\n",
              "  </thead>\n",
              "  <tbody>\n",
              "    <tr>\n",
              "      <th>count</th>\n",
              "      <td>891.000000</td>\n",
              "      <td>891.000000</td>\n",
              "      <td>891.000000</td>\n",
              "      <td>891.000000</td>\n",
              "      <td>891.000000</td>\n",
              "      <td>891.000000</td>\n",
              "      <td>891.000000</td>\n",
              "      <td>891.000000</td>\n",
              "    </tr>\n",
              "    <tr>\n",
              "      <th>mean</th>\n",
              "      <td>2.308642</td>\n",
              "      <td>0.352413</td>\n",
              "      <td>29.834929</td>\n",
              "      <td>0.523008</td>\n",
              "      <td>0.381594</td>\n",
              "      <td>32.204208</td>\n",
              "      <td>0.359147</td>\n",
              "      <td>0.936027</td>\n",
              "    </tr>\n",
              "    <tr>\n",
              "      <th>std</th>\n",
              "      <td>0.836071</td>\n",
              "      <td>0.477990</td>\n",
              "      <td>13.534761</td>\n",
              "      <td>1.102743</td>\n",
              "      <td>0.806057</td>\n",
              "      <td>49.693429</td>\n",
              "      <td>0.638707</td>\n",
              "      <td>1.725341</td>\n",
              "    </tr>\n",
              "    <tr>\n",
              "      <th>min</th>\n",
              "      <td>1.000000</td>\n",
              "      <td>0.000000</td>\n",
              "      <td>0.420000</td>\n",
              "      <td>0.000000</td>\n",
              "      <td>0.000000</td>\n",
              "      <td>0.000000</td>\n",
              "      <td>-1.000000</td>\n",
              "      <td>0.000000</td>\n",
              "    </tr>\n",
              "    <tr>\n",
              "      <th>25%</th>\n",
              "      <td>2.000000</td>\n",
              "      <td>0.000000</td>\n",
              "      <td>21.100000</td>\n",
              "      <td>0.000000</td>\n",
              "      <td>0.000000</td>\n",
              "      <td>7.910400</td>\n",
              "      <td>0.000000</td>\n",
              "      <td>0.000000</td>\n",
              "    </tr>\n",
              "    <tr>\n",
              "      <th>50%</th>\n",
              "      <td>3.000000</td>\n",
              "      <td>0.000000</td>\n",
              "      <td>29.000000</td>\n",
              "      <td>0.000000</td>\n",
              "      <td>0.000000</td>\n",
              "      <td>14.454200</td>\n",
              "      <td>0.000000</td>\n",
              "      <td>0.000000</td>\n",
              "    </tr>\n",
              "    <tr>\n",
              "      <th>75%</th>\n",
              "      <td>3.000000</td>\n",
              "      <td>1.000000</td>\n",
              "      <td>37.500000</td>\n",
              "      <td>1.000000</td>\n",
              "      <td>0.000000</td>\n",
              "      <td>31.000000</td>\n",
              "      <td>1.000000</td>\n",
              "      <td>2.000000</td>\n",
              "    </tr>\n",
              "    <tr>\n",
              "      <th>max</th>\n",
              "      <td>3.000000</td>\n",
              "      <td>1.000000</td>\n",
              "      <td>80.000000</td>\n",
              "      <td>8.000000</td>\n",
              "      <td>6.000000</td>\n",
              "      <td>512.329200</td>\n",
              "      <td>2.000000</td>\n",
              "      <td>16.000000</td>\n",
              "    </tr>\n",
              "  </tbody>\n",
              "</table>\n",
              "</div>"
            ],
            "text/plain": [
              "           Pclass         Sex         Age  ...        Fare    Embarked       Title\n",
              "count  891.000000  891.000000  891.000000  ...  891.000000  891.000000  891.000000\n",
              "mean     2.308642    0.352413   29.834929  ...   32.204208    0.359147    0.936027\n",
              "std      0.836071    0.477990   13.534761  ...   49.693429    0.638707    1.725341\n",
              "min      1.000000    0.000000    0.420000  ...    0.000000   -1.000000    0.000000\n",
              "25%      2.000000    0.000000   21.100000  ...    7.910400    0.000000    0.000000\n",
              "50%      3.000000    0.000000   29.000000  ...   14.454200    0.000000    0.000000\n",
              "75%      3.000000    1.000000   37.500000  ...   31.000000    1.000000    2.000000\n",
              "max      3.000000    1.000000   80.000000  ...  512.329200    2.000000   16.000000\n",
              "\n",
              "[8 rows x 8 columns]"
            ]
          },
          "metadata": {
            "tags": []
          }
        }
      ]
    },
    {
      "cell_type": "code",
      "metadata": {
        "id": "wFMFg6VhiIqX",
        "colab_type": "code",
        "outputId": "4d105ee2-f55b-47a0-f824-4a0b769132fd",
        "colab": {
          "base_uri": "https://localhost:8080/",
          "height": 297
        }
      },
      "source": [
        "# Se aplica la transformación para cada atributo\n",
        "X_test = pd.DataFrame(imp.transform(X_test), columns = X_test.columns)\n",
        "\n",
        "# Se analiza la distribución del dataframe\n",
        "display(X_test.describe())"
      ],
      "execution_count": 18,
      "outputs": [
        {
          "output_type": "display_data",
          "data": {
            "text/html": [
              "<div>\n",
              "<style scoped>\n",
              "    .dataframe tbody tr th:only-of-type {\n",
              "        vertical-align: middle;\n",
              "    }\n",
              "\n",
              "    .dataframe tbody tr th {\n",
              "        vertical-align: top;\n",
              "    }\n",
              "\n",
              "    .dataframe thead th {\n",
              "        text-align: right;\n",
              "    }\n",
              "</style>\n",
              "<table border=\"1\" class=\"dataframe\">\n",
              "  <thead>\n",
              "    <tr style=\"text-align: right;\">\n",
              "      <th></th>\n",
              "      <th>Pclass</th>\n",
              "      <th>Sex</th>\n",
              "      <th>Age</th>\n",
              "      <th>SibSp</th>\n",
              "      <th>Parch</th>\n",
              "      <th>Fare</th>\n",
              "      <th>Embarked</th>\n",
              "      <th>Title</th>\n",
              "    </tr>\n",
              "  </thead>\n",
              "  <tbody>\n",
              "    <tr>\n",
              "      <th>count</th>\n",
              "      <td>418.000000</td>\n",
              "      <td>418.000000</td>\n",
              "      <td>418.000000</td>\n",
              "      <td>418.000000</td>\n",
              "      <td>418.000000</td>\n",
              "      <td>418.000000</td>\n",
              "      <td>418.000000</td>\n",
              "      <td>418.000000</td>\n",
              "    </tr>\n",
              "    <tr>\n",
              "      <th>mean</th>\n",
              "      <td>2.265550</td>\n",
              "      <td>0.363636</td>\n",
              "      <td>30.284455</td>\n",
              "      <td>0.447368</td>\n",
              "      <td>0.392344</td>\n",
              "      <td>35.561067</td>\n",
              "      <td>0.464115</td>\n",
              "      <td>0.819139</td>\n",
              "    </tr>\n",
              "    <tr>\n",
              "      <th>std</th>\n",
              "      <td>0.841838</td>\n",
              "      <td>0.481622</td>\n",
              "      <td>13.303006</td>\n",
              "      <td>0.896760</td>\n",
              "      <td>0.981429</td>\n",
              "      <td>55.856862</td>\n",
              "      <td>0.685516</td>\n",
              "      <td>1.369842</td>\n",
              "    </tr>\n",
              "    <tr>\n",
              "      <th>min</th>\n",
              "      <td>1.000000</td>\n",
              "      <td>0.000000</td>\n",
              "      <td>0.170000</td>\n",
              "      <td>0.000000</td>\n",
              "      <td>0.000000</td>\n",
              "      <td>0.000000</td>\n",
              "      <td>0.000000</td>\n",
              "      <td>0.000000</td>\n",
              "    </tr>\n",
              "    <tr>\n",
              "      <th>25%</th>\n",
              "      <td>1.000000</td>\n",
              "      <td>0.000000</td>\n",
              "      <td>22.000000</td>\n",
              "      <td>0.000000</td>\n",
              "      <td>0.000000</td>\n",
              "      <td>7.895800</td>\n",
              "      <td>0.000000</td>\n",
              "      <td>0.000000</td>\n",
              "    </tr>\n",
              "    <tr>\n",
              "      <th>50%</th>\n",
              "      <td>3.000000</td>\n",
              "      <td>0.000000</td>\n",
              "      <td>28.550000</td>\n",
              "      <td>0.000000</td>\n",
              "      <td>0.000000</td>\n",
              "      <td>14.454200</td>\n",
              "      <td>0.000000</td>\n",
              "      <td>0.000000</td>\n",
              "    </tr>\n",
              "    <tr>\n",
              "      <th>75%</th>\n",
              "      <td>3.000000</td>\n",
              "      <td>1.000000</td>\n",
              "      <td>39.000000</td>\n",
              "      <td>1.000000</td>\n",
              "      <td>0.000000</td>\n",
              "      <td>31.471875</td>\n",
              "      <td>1.000000</td>\n",
              "      <td>1.850000</td>\n",
              "    </tr>\n",
              "    <tr>\n",
              "      <th>max</th>\n",
              "      <td>3.000000</td>\n",
              "      <td>1.000000</td>\n",
              "      <td>76.000000</td>\n",
              "      <td>8.000000</td>\n",
              "      <td>9.000000</td>\n",
              "      <td>512.329200</td>\n",
              "      <td>2.000000</td>\n",
              "      <td>13.000000</td>\n",
              "    </tr>\n",
              "  </tbody>\n",
              "</table>\n",
              "</div>"
            ],
            "text/plain": [
              "           Pclass         Sex         Age  ...        Fare    Embarked       Title\n",
              "count  418.000000  418.000000  418.000000  ...  418.000000  418.000000  418.000000\n",
              "mean     2.265550    0.363636   30.284455  ...   35.561067    0.464115    0.819139\n",
              "std      0.841838    0.481622   13.303006  ...   55.856862    0.685516    1.369842\n",
              "min      1.000000    0.000000    0.170000  ...    0.000000    0.000000    0.000000\n",
              "25%      1.000000    0.000000   22.000000  ...    7.895800    0.000000    0.000000\n",
              "50%      3.000000    0.000000   28.550000  ...   14.454200    0.000000    0.000000\n",
              "75%      3.000000    1.000000   39.000000  ...   31.471875    1.000000    1.850000\n",
              "max      3.000000    1.000000   76.000000  ...  512.329200    2.000000   13.000000\n",
              "\n",
              "[8 rows x 8 columns]"
            ]
          },
          "metadata": {
            "tags": []
          }
        }
      ]
    },
    {
      "cell_type": "markdown",
      "metadata": {
        "id": "DUG8-UC26kUV",
        "colab_type": "text"
      },
      "source": [
        "# Análisis descriptivo"
      ]
    },
    {
      "cell_type": "markdown",
      "metadata": {
        "id": "6QcwOlmFsAWq",
        "colab_type": "text"
      },
      "source": [
        "## Análisis de normalidad y homogeneidad de la varianza y valores extremos"
      ]
    },
    {
      "cell_type": "code",
      "metadata": {
        "id": "_2eSzyqCsMFk",
        "colab_type": "code",
        "outputId": "f22f3326-1ba5-46c6-f20b-5d470b366086",
        "colab": {
          "base_uri": "https://localhost:8080/",
          "height": 279
        }
      },
      "source": [
        "# Age\n",
        "plot = sns.distplot(X_train['Age']);"
      ],
      "execution_count": 19,
      "outputs": [
        {
          "output_type": "display_data",
          "data": {
            "image/png": "[encoded data removed]",
            "text/plain": [
              "<Figure size 432x288 with 1 Axes>"
            ]
          },
          "metadata": {
            "tags": [],
            "needs_background": "light"
          }
        }
      ]
    },
    {
      "cell_type": "code",
      "metadata": {
        "id": "KtwW19Od5-UM",
        "colab_type": "code",
        "outputId": "ebdb9937-38da-4232-c176-ceff0eb4639c",
        "colab": {
          "base_uri": "https://localhost:8080/",
          "height": 279
        }
      },
      "source": [
        "plot = sns.boxplot(X_train['Age']);"
      ],
      "execution_count": 20,
      "outputs": [
        {
          "output_type": "display_data",
          "data": {
            "image/png": "[encoded data removed]",
            "text/plain": [
              "<Figure size 432x288 with 1 Axes>"
            ]
          },
          "metadata": {
            "tags": [],
            "needs_background": "light"
          }
        }
      ]
    },
    {
      "cell_type": "code",
      "metadata": {
        "id": "STr975QDs09K",
        "colab_type": "code",
        "outputId": "77f7cd78-6663-45ae-a4d8-eeb5859771d4",
        "colab": {
          "base_uri": "https://localhost:8080/",
          "height": 280
        }
      },
      "source": [
        "plot = sns.distplot(X_train['Fare']);"
      ],
      "execution_count": 21,
      "outputs": [
        {
          "output_type": "display_data",
          "data": {
            "image/png": "[encoded data removed]",
            "text/plain": [
              "<Figure size 432x288 with 1 Axes>"
            ]
          },
          "metadata": {
            "tags": [],
            "needs_background": "light"
          }
        }
      ]
    },
    {
      "cell_type": "code",
      "metadata": {
        "id": "r9WcAyI76Lm9",
        "colab_type": "code",
        "outputId": "3c791dd9-37d2-427c-d65b-f0ff11294c71",
        "colab": {
          "base_uri": "https://localhost:8080/",
          "height": 279
        }
      },
      "source": [
        "plot = sns.boxplot(X_train['Fare']);"
      ],
      "execution_count": 22,
      "outputs": [
        {
          "output_type": "display_data",
          "data": {
            "image/png": "[encoded data removed]",
            "text/plain": [
              "<Figure size 432x288 with 1 Axes>"
            ]
          },
          "metadata": {
            "tags": [],
            "needs_background": "light"
          }
        }
      ]
    },
    {
      "cell_type": "markdown",
      "metadata": {
        "id": "zddc4RrCquqj",
        "colab_type": "text"
      },
      "source": [
        "## Análisis de correlación"
      ]
    },
    {
      "cell_type": "code",
      "metadata": {
        "id": "_nfPqhVH0Wgk",
        "colab_type": "code",
        "colab": {}
      },
      "source": [
        "# Volver a unir las características con la clase a predecir\n",
        "Xy_train = X_train.copy()\n",
        "Xy_train['Survived'] = y_train"
      ],
      "execution_count": 0,
      "outputs": []
    },
    {
      "cell_type": "code",
      "metadata": {
        "id": "goolCstyp5yy",
        "colab_type": "code",
        "outputId": "19be9f44-6ce3-4892-d096-b5f4b7b0f6f5",
        "colab": {
          "base_uri": "https://localhost:8080/",
          "height": 537
        }
      },
      "source": [
        "# https://seaborn.pydata.org/examples/many_pairwise_correlations.html\n",
        "# Compute the correlation matrix\n",
        "corr = Xy_train.corr()\n",
        "\n",
        "# Generate a mask for the upper triangle\n",
        "mask = np.triu(np.ones_like(corr, dtype=np.bool))\n",
        "\n",
        "# Set up the matplotlib figure\n",
        "f, ax = plt.subplots(figsize=(11, 9))\n",
        "\n",
        "# Generate a custom diverging colormap\n",
        "cmap = sns.diverging_palette(220, 10, as_cmap=True)\n",
        "\n",
        "# Draw the heatmap with the mask and correct aspect ratio\n",
        "plot = sns.heatmap(corr, mask=mask, cmap=cmap, vmax=.3, center=0,\n",
        "            square=True, linewidths=.5, cbar_kws={\"shrink\": .5})"
      ],
      "execution_count": 24,
      "outputs": [
        {
          "output_type": "display_data",
          "data": {
            "image/png": "[encoded data removed]",
            "text/plain": [
              "<Figure size 792x648 with 2 Axes>"
            ]
          },
          "metadata": {
            "tags": [],
            "needs_background": "light"
          }
        }
      ]
    },
    {
      "cell_type": "markdown",
      "metadata": {
        "id": "fzFAZhrnB5vr",
        "colab_type": "text"
      },
      "source": [
        "## Reducción de la dimensionalidad"
      ]
    },
    {
      "cell_type": "code",
      "metadata": {
        "id": "lsHQJGhGAieR",
        "colab_type": "code",
        "outputId": "550f2ccc-6a60-4251-ce87-701542d4c40a",
        "colab": {
          "base_uri": "https://localhost:8080/",
          "height": 282
        }
      },
      "source": [
        "# https://scikit-learn.org/stable/modules/generated/sklearn.decomposition.PCA.html\n",
        "pca = PCA(n_components = len(X_train.columns)).fit(X_train)\n",
        "\n",
        "# A) Proporción de la variabilidad explicada por el primer componente\n",
        "print('Proporción de la variabilidad explicada por elos componentes: ' +\n",
        "      str([round(value, 5) for value in pca.explained_variance_ratio_]))\n",
        "\n",
        "# B) Diagrama de barras que representa la proporción de variabilidad explicada\n",
        "# por los tres componentes más significativos\n",
        "\n",
        "# Se genera una nueva figura\n",
        "fig, ax = plt.subplots()\n",
        "# Se representa el eje y en escala logarítmica para apreciar mejor la\n",
        "# proporción de variabilidad explicada por los componentes menos significativos\n",
        "ax.set_yscale('log')\n",
        "# Se genera una gráfica de barras \n",
        "# https://matplotlib.org/3.1.1/api/_as_gen/matplotlib.pyplot.bar.html\n",
        "plt.bar(range(len(pca.explained_variance_ratio_)), pca.explained_variance_ratio_)\n",
        "# Se añade una etiqueta con el valor de la proporción de variabilidad explicada\n",
        "for i, value in enumerate(pca.explained_variance_ratio_):\n",
        "    plt.text(i, value, round(value,5), ha='center')\n",
        "# Se muestra la gráfica\n",
        "plt.show()"
      ],
      "execution_count": 25,
      "outputs": [
        {
          "output_type": "stream",
          "text": [
            "Proporción de la variabilidad explicada por elos componentes: [0.92957, 0.06832, 0.00112, 0.00046, 0.00018, 0.00017, 0.00012, 7e-05]\n"
          ],
          "name": "stdout"
        },
        {
          "output_type": "display_data",
          "data": {
            "image/png": "[encoded data removed]",
            "text/plain": [
              "<Figure size 432x288 with 1 Axes>"
            ]
          },
          "metadata": {
            "tags": [],
            "needs_background": "light"
          }
        }
      ]
    },
    {
      "cell_type": "markdown",
      "metadata": {
        "id": "vcq3VDrA7Li3",
        "colab_type": "text"
      },
      "source": [
        "# Análisis predictivo"
      ]
    },
    {
      "cell_type": "markdown",
      "metadata": {
        "id": "I9kZqonB7E_J",
        "colab_type": "text"
      },
      "source": [
        "## Preparación de los datos"
      ]
    },
    {
      "cell_type": "markdown",
      "metadata": {
        "id": "MMvWMASo_gHs",
        "colab_type": "text"
      },
      "source": [
        "### Reducir dimensiones (si aplica)"
      ]
    },
    {
      "cell_type": "code",
      "metadata": {
        "id": "vHM4XyoO8AN1",
        "colab_type": "code",
        "colab": {}
      },
      "source": [
        "if dimension_reduction > 0:\n",
        "  pca = PCA(n_components = len(X_train.columns) - dimension_reduction).fit(X_train)\n",
        "  X_train = pd.DataFrame(pca.transform(X_train))\n",
        "\n",
        "  display(X_train.describe())"
      ],
      "execution_count": 0,
      "outputs": []
    },
    {
      "cell_type": "code",
      "metadata": {
        "id": "e0sGHQ1x8nJ6",
        "colab_type": "code",
        "colab": {}
      },
      "source": [
        "if dimension_reduction > 0:\n",
        "  X_test = pd.DataFrame(pca.transform(X_test))\n",
        "  display(X_test.describe())"
      ],
      "execution_count": 0,
      "outputs": []
    },
    {
      "cell_type": "markdown",
      "metadata": {
        "id": "95wEMYbm-WYh",
        "colab_type": "text"
      },
      "source": [
        "### Estandarización"
      ]
    },
    {
      "cell_type": "code",
      "metadata": {
        "id": "DSJ1PO6P-V8j",
        "colab_type": "code",
        "outputId": "036c6d7a-2364-428b-c0b9-5d230b897409",
        "colab": {
          "base_uri": "https://localhost:8080/",
          "height": 297
        }
      },
      "source": [
        "# https://scikit-learn.org/stable/modules/neural_networks_supervised.html#mlp-tips\n",
        "scaler = StandardScaler().fit(X_train)\n",
        "X_train = pd.DataFrame(scaler.transform(X_train), columns = X_train.columns)\n",
        "display(X_train.describe())"
      ],
      "execution_count": 28,
      "outputs": [
        {
          "output_type": "display_data",
          "data": {
            "text/html": [
              "<div>\n",
              "<style scoped>\n",
              "    .dataframe tbody tr th:only-of-type {\n",
              "        vertical-align: middle;\n",
              "    }\n",
              "\n",
              "    .dataframe tbody tr th {\n",
              "        vertical-align: top;\n",
              "    }\n",
              "\n",
              "    .dataframe thead th {\n",
              "        text-align: right;\n",
              "    }\n",
              "</style>\n",
              "<table border=\"1\" class=\"dataframe\">\n",
              "  <thead>\n",
              "    <tr style=\"text-align: right;\">\n",
              "      <th></th>\n",
              "      <th>Pclass</th>\n",
              "      <th>Sex</th>\n",
              "      <th>Age</th>\n",
              "      <th>SibSp</th>\n",
              "      <th>Parch</th>\n",
              "      <th>Fare</th>\n",
              "      <th>Embarked</th>\n",
              "      <th>Title</th>\n",
              "    </tr>\n",
              "  </thead>\n",
              "  <tbody>\n",
              "    <tr>\n",
              "      <th>count</th>\n",
              "      <td>8.910000e+02</td>\n",
              "      <td>8.910000e+02</td>\n",
              "      <td>8.910000e+02</td>\n",
              "      <td>8.910000e+02</td>\n",
              "      <td>8.910000e+02</td>\n",
              "      <td>8.910000e+02</td>\n",
              "      <td>8.910000e+02</td>\n",
              "      <td>8.910000e+02</td>\n",
              "    </tr>\n",
              "    <tr>\n",
              "      <th>mean</th>\n",
              "      <td>-2.031048e-16</td>\n",
              "      <td>3.162453e-16</td>\n",
              "      <td>2.610457e-17</td>\n",
              "      <td>3.456519e-16</td>\n",
              "      <td>6.716164e-17</td>\n",
              "      <td>-4.373606e-17</td>\n",
              "      <td>1.171279e-16</td>\n",
              "      <td>2.367479e-17</td>\n",
              "    </tr>\n",
              "    <tr>\n",
              "      <th>std</th>\n",
              "      <td>1.000562e+00</td>\n",
              "      <td>1.000562e+00</td>\n",
              "      <td>1.000562e+00</td>\n",
              "      <td>1.000562e+00</td>\n",
              "      <td>1.000562e+00</td>\n",
              "      <td>1.000562e+00</td>\n",
              "      <td>1.000562e+00</td>\n",
              "      <td>1.000562e+00</td>\n",
              "    </tr>\n",
              "    <tr>\n",
              "      <th>min</th>\n",
              "      <td>-1.566107e+00</td>\n",
              "      <td>-7.376951e-01</td>\n",
              "      <td>-2.174508e+00</td>\n",
              "      <td>-4.745452e-01</td>\n",
              "      <td>-4.736736e-01</td>\n",
              "      <td>-6.484217e-01</td>\n",
              "      <td>-2.129160e+00</td>\n",
              "      <td>-5.428218e-01</td>\n",
              "    </tr>\n",
              "    <tr>\n",
              "      <th>25%</th>\n",
              "      <td>-3.693648e-01</td>\n",
              "      <td>-7.376951e-01</td>\n",
              "      <td>-6.457325e-01</td>\n",
              "      <td>-4.745452e-01</td>\n",
              "      <td>-4.736736e-01</td>\n",
              "      <td>-4.891482e-01</td>\n",
              "      <td>-5.626187e-01</td>\n",
              "      <td>-5.428218e-01</td>\n",
              "    </tr>\n",
              "    <tr>\n",
              "      <th>50%</th>\n",
              "      <td>8.273772e-01</td>\n",
              "      <td>-7.376951e-01</td>\n",
              "      <td>-6.172242e-02</td>\n",
              "      <td>-4.745452e-01</td>\n",
              "      <td>-4.736736e-01</td>\n",
              "      <td>-3.573909e-01</td>\n",
              "      <td>-5.626187e-01</td>\n",
              "      <td>-5.428218e-01</td>\n",
              "    </tr>\n",
              "    <tr>\n",
              "      <th>75%</th>\n",
              "      <td>8.273772e-01</td>\n",
              "      <td>1.355574e+00</td>\n",
              "      <td>5.666429e-01</td>\n",
              "      <td>4.327934e-01</td>\n",
              "      <td>-4.736736e-01</td>\n",
              "      <td>-2.424635e-02</td>\n",
              "      <td>1.003923e+00</td>\n",
              "      <td>6.170204e-01</td>\n",
              "    </tr>\n",
              "    <tr>\n",
              "      <th>max</th>\n",
              "      <td>8.273772e-01</td>\n",
              "      <td>1.355574e+00</td>\n",
              "      <td>3.708469e+00</td>\n",
              "      <td>6.784163e+00</td>\n",
              "      <td>6.974147e+00</td>\n",
              "      <td>9.667167e+00</td>\n",
              "      <td>2.570464e+00</td>\n",
              "      <td>8.735916e+00</td>\n",
              "    </tr>\n",
              "  </tbody>\n",
              "</table>\n",
              "</div>"
            ],
            "text/plain": [
              "             Pclass           Sex  ...      Embarked         Title\n",
              "count  8.910000e+02  8.910000e+02  ...  8.910000e+02  8.910000e+02\n",
              "mean  -2.031048e-16  3.162453e-16  ...  1.171279e-16  2.367479e-17\n",
              "std    1.000562e+00  1.000562e+00  ...  1.000562e+00  1.000562e+00\n",
              "min   -1.566107e+00 -7.376951e-01  ... -2.129160e+00 -5.428218e-01\n",
              "25%   -3.693648e-01 -7.376951e-01  ... -5.626187e-01 -5.428218e-01\n",
              "50%    8.273772e-01 -7.376951e-01  ... -5.626187e-01 -5.428218e-01\n",
              "75%    8.273772e-01  1.355574e+00  ...  1.003923e+00  6.170204e-01\n",
              "max    8.273772e-01  1.355574e+00  ...  2.570464e+00  8.735916e+00\n",
              "\n",
              "[8 rows x 8 columns]"
            ]
          },
          "metadata": {
            "tags": []
          }
        }
      ]
    },
    {
      "cell_type": "code",
      "metadata": {
        "id": "7akyKEwO__dY",
        "colab_type": "code",
        "outputId": "ae5537b2-958d-428e-9544-e30d70a55b1c",
        "colab": {
          "base_uri": "https://localhost:8080/",
          "height": 297
        }
      },
      "source": [
        "X_test = pd.DataFrame(scaler.transform(X_test), columns = X_test.columns)\n",
        "display(X_test.describe())"
      ],
      "execution_count": 29,
      "outputs": [
        {
          "output_type": "display_data",
          "data": {
            "text/html": [
              "<div>\n",
              "<style scoped>\n",
              "    .dataframe tbody tr th:only-of-type {\n",
              "        vertical-align: middle;\n",
              "    }\n",
              "\n",
              "    .dataframe tbody tr th {\n",
              "        vertical-align: top;\n",
              "    }\n",
              "\n",
              "    .dataframe thead th {\n",
              "        text-align: right;\n",
              "    }\n",
              "</style>\n",
              "<table border=\"1\" class=\"dataframe\">\n",
              "  <thead>\n",
              "    <tr style=\"text-align: right;\">\n",
              "      <th></th>\n",
              "      <th>Pclass</th>\n",
              "      <th>Sex</th>\n",
              "      <th>Age</th>\n",
              "      <th>SibSp</th>\n",
              "      <th>Parch</th>\n",
              "      <th>Fare</th>\n",
              "      <th>Embarked</th>\n",
              "      <th>Title</th>\n",
              "    </tr>\n",
              "  </thead>\n",
              "  <tbody>\n",
              "    <tr>\n",
              "      <th>count</th>\n",
              "      <td>418.000000</td>\n",
              "      <td>418.000000</td>\n",
              "      <td>418.000000</td>\n",
              "      <td>418.000000</td>\n",
              "      <td>418.000000</td>\n",
              "      <td>418.000000</td>\n",
              "      <td>418.000000</td>\n",
              "      <td>418.000000</td>\n",
              "    </tr>\n",
              "    <tr>\n",
              "      <th>mean</th>\n",
              "      <td>-0.051570</td>\n",
              "      <td>0.023493</td>\n",
              "      <td>0.033231</td>\n",
              "      <td>-0.068631</td>\n",
              "      <td>0.013345</td>\n",
              "      <td>0.067589</td>\n",
              "      <td>0.164436</td>\n",
              "      <td>-0.067786</td>\n",
              "    </tr>\n",
              "    <tr>\n",
              "      <th>std</th>\n",
              "      <td>1.007462</td>\n",
              "      <td>1.008165</td>\n",
              "      <td>0.983429</td>\n",
              "      <td>0.813665</td>\n",
              "      <td>1.218251</td>\n",
              "      <td>1.124660</td>\n",
              "      <td>1.073889</td>\n",
              "      <td>0.794400</td>\n",
              "    </tr>\n",
              "    <tr>\n",
              "      <th>min</th>\n",
              "      <td>-1.566107</td>\n",
              "      <td>-0.737695</td>\n",
              "      <td>-2.192990</td>\n",
              "      <td>-0.474545</td>\n",
              "      <td>-0.473674</td>\n",
              "      <td>-0.648422</td>\n",
              "      <td>-0.562619</td>\n",
              "      <td>-0.542822</td>\n",
              "    </tr>\n",
              "    <tr>\n",
              "      <th>25%</th>\n",
              "      <td>-1.566107</td>\n",
              "      <td>-0.737695</td>\n",
              "      <td>-0.579200</td>\n",
              "      <td>-0.474545</td>\n",
              "      <td>-0.473674</td>\n",
              "      <td>-0.489442</td>\n",
              "      <td>-0.562619</td>\n",
              "      <td>-0.542822</td>\n",
              "    </tr>\n",
              "    <tr>\n",
              "      <th>50%</th>\n",
              "      <td>0.827377</td>\n",
              "      <td>-0.737695</td>\n",
              "      <td>-0.094989</td>\n",
              "      <td>-0.474545</td>\n",
              "      <td>-0.473674</td>\n",
              "      <td>-0.357391</td>\n",
              "      <td>-0.562619</td>\n",
              "      <td>-0.542822</td>\n",
              "    </tr>\n",
              "    <tr>\n",
              "      <th>75%</th>\n",
              "      <td>0.827377</td>\n",
              "      <td>1.355574</td>\n",
              "      <td>0.677531</td>\n",
              "      <td>0.432793</td>\n",
              "      <td>-0.473674</td>\n",
              "      <td>-0.014745</td>\n",
              "      <td>1.003923</td>\n",
              "      <td>0.530032</td>\n",
              "    </tr>\n",
              "    <tr>\n",
              "      <th>max</th>\n",
              "      <td>0.827377</td>\n",
              "      <td>1.355574</td>\n",
              "      <td>3.412768</td>\n",
              "      <td>6.784163</td>\n",
              "      <td>10.698058</td>\n",
              "      <td>9.667167</td>\n",
              "      <td>2.570464</td>\n",
              "      <td>6.996152</td>\n",
              "    </tr>\n",
              "  </tbody>\n",
              "</table>\n",
              "</div>"
            ],
            "text/plain": [
              "           Pclass         Sex         Age  ...        Fare    Embarked       Title\n",
              "count  418.000000  418.000000  418.000000  ...  418.000000  418.000000  418.000000\n",
              "mean    -0.051570    0.023493    0.033231  ...    0.067589    0.164436   -0.067786\n",
              "std      1.007462    1.008165    0.983429  ...    1.124660    1.073889    0.794400\n",
              "min     -1.566107   -0.737695   -2.192990  ...   -0.648422   -0.562619   -0.542822\n",
              "25%     -1.566107   -0.737695   -0.579200  ...   -0.489442   -0.562619   -0.542822\n",
              "50%      0.827377   -0.737695   -0.094989  ...   -0.357391   -0.562619   -0.542822\n",
              "75%      0.827377    1.355574    0.677531  ...   -0.014745    1.003923    0.530032\n",
              "max      0.827377    1.355574    3.412768  ...    9.667167    2.570464    6.996152\n",
              "\n",
              "[8 rows x 8 columns]"
            ]
          },
          "metadata": {
            "tags": []
          }
        }
      ]
    },
    {
      "cell_type": "markdown",
      "metadata": {
        "id": "HGa9uiU5uzin",
        "colab_type": "text"
      },
      "source": [
        "## Modelado"
      ]
    },
    {
      "cell_type": "code",
      "metadata": {
        "id": "7S2bc6uRwaTa",
        "colab_type": "code",
        "outputId": "dd408141-037f-4870-bd57-715589768618",
        "colab": {
          "base_uri": "https://localhost:8080/",
          "height": 1000
        }
      },
      "source": [
        "model = dense_nn(X_train, y_train, epochs=epochs, batch_size=batch_size, lr=lr, patience=patience, neurons=neurons)"
      ],
      "execution_count": 30,
      "outputs": [
        {
          "output_type": "stream",
          "text": [
            "Epoch 1/100\n",
            "801/801 [==============================] - 1s 1ms/step - loss: 0.6546 - accuracy: 0.6517 - val_loss: 0.5948 - val_accuracy: 0.7222\n",
            "Epoch 2/100\n",
            "801/801 [==============================] - 1s 1ms/step - loss: 0.5476 - accuracy: 0.7965 - val_loss: 0.5281 - val_accuracy: 0.7889\n",
            "Epoch 3/100\n",
            "801/801 [==============================] - 1s 1ms/step - loss: 0.4838 - accuracy: 0.8077 - val_loss: 0.4949 - val_accuracy: 0.7778\n",
            "Epoch 4/100\n",
            "801/801 [==============================] - 1s 1ms/step - loss: 0.4553 - accuracy: 0.8102 - val_loss: 0.4800 - val_accuracy: 0.7667\n",
            "Epoch 5/100\n",
            "801/801 [==============================] - 1s 1ms/step - loss: 0.4433 - accuracy: 0.8077 - val_loss: 0.4700 - val_accuracy: 0.7667\n",
            "Epoch 6/100\n",
            "801/801 [==============================] - 1s 1ms/step - loss: 0.4376 - accuracy: 0.8077 - val_loss: 0.4640 - val_accuracy: 0.7667\n",
            "Epoch 7/100\n",
            "801/801 [==============================] - 1s 1ms/step - loss: 0.4341 - accuracy: 0.8090 - val_loss: 0.4572 - val_accuracy: 0.7667\n",
            "Epoch 8/100\n",
            "801/801 [==============================] - 1s 1ms/step - loss: 0.4310 - accuracy: 0.8077 - val_loss: 0.4527 - val_accuracy: 0.7667\n",
            "Epoch 9/100\n",
            "801/801 [==============================] - 1s 1ms/step - loss: 0.4286 - accuracy: 0.8077 - val_loss: 0.4486 - val_accuracy: 0.7667\n",
            "Epoch 10/100\n",
            "801/801 [==============================] - 1s 1ms/step - loss: 0.4270 - accuracy: 0.8077 - val_loss: 0.4453 - val_accuracy: 0.7667\n",
            "Epoch 11/100\n",
            "801/801 [==============================] - 1s 1ms/step - loss: 0.4256 - accuracy: 0.8077 - val_loss: 0.4420 - val_accuracy: 0.7667\n",
            "Epoch 12/100\n",
            "801/801 [==============================] - 1s 1ms/step - loss: 0.4245 - accuracy: 0.8102 - val_loss: 0.4389 - val_accuracy: 0.7667\n",
            "Epoch 13/100\n",
            "801/801 [==============================] - 1s 1ms/step - loss: 0.4228 - accuracy: 0.8077 - val_loss: 0.4373 - val_accuracy: 0.7667\n",
            "Epoch 14/100\n",
            "801/801 [==============================] - 1s 1ms/step - loss: 0.4220 - accuracy: 0.8090 - val_loss: 0.4338 - val_accuracy: 0.7667\n",
            "Epoch 15/100\n",
            "801/801 [==============================] - 1s 1ms/step - loss: 0.4207 - accuracy: 0.8090 - val_loss: 0.4335 - val_accuracy: 0.7667\n",
            "Epoch 16/100\n",
            "801/801 [==============================] - 1s 1ms/step - loss: 0.4198 - accuracy: 0.8115 - val_loss: 0.4327 - val_accuracy: 0.7667\n",
            "Epoch 17/100\n",
            "801/801 [==============================] - 1s 1ms/step - loss: 0.4191 - accuracy: 0.8090 - val_loss: 0.4305 - val_accuracy: 0.7889\n",
            "Epoch 18/100\n",
            "801/801 [==============================] - 1s 1ms/step - loss: 0.4176 - accuracy: 0.8115 - val_loss: 0.4312 - val_accuracy: 0.7778\n",
            "Epoch 19/100\n",
            "801/801 [==============================] - 1s 1ms/step - loss: 0.4173 - accuracy: 0.8102 - val_loss: 0.4291 - val_accuracy: 0.7778\n",
            "Epoch 20/100\n",
            "801/801 [==============================] - 1s 1ms/step - loss: 0.4161 - accuracy: 0.8102 - val_loss: 0.4279 - val_accuracy: 0.7889\n",
            "Epoch 21/100\n",
            "801/801 [==============================] - 1s 1ms/step - loss: 0.4149 - accuracy: 0.8165 - val_loss: 0.4259 - val_accuracy: 0.7889\n",
            "Epoch 22/100\n",
            "801/801 [==============================] - 1s 1ms/step - loss: 0.4139 - accuracy: 0.8177 - val_loss: 0.4254 - val_accuracy: 0.7889\n",
            "Epoch 23/100\n",
            "801/801 [==============================] - 1s 1ms/step - loss: 0.4128 - accuracy: 0.8165 - val_loss: 0.4252 - val_accuracy: 0.7889\n",
            "Epoch 24/100\n",
            "801/801 [==============================] - 1s 1ms/step - loss: 0.4117 - accuracy: 0.8177 - val_loss: 0.4238 - val_accuracy: 0.7889\n",
            "Epoch 25/100\n",
            "801/801 [==============================] - 1s 1ms/step - loss: 0.4106 - accuracy: 0.8202 - val_loss: 0.4229 - val_accuracy: 0.7889\n",
            "Epoch 26/100\n",
            "801/801 [==============================] - 1s 1ms/step - loss: 0.4096 - accuracy: 0.8227 - val_loss: 0.4218 - val_accuracy: 0.7889\n",
            "Epoch 27/100\n",
            "801/801 [==============================] - 1s 1ms/step - loss: 0.4088 - accuracy: 0.8215 - val_loss: 0.4207 - val_accuracy: 0.7889\n",
            "Epoch 28/100\n",
            "801/801 [==============================] - 1s 1ms/step - loss: 0.4080 - accuracy: 0.8252 - val_loss: 0.4209 - val_accuracy: 0.7889\n",
            "Epoch 29/100\n",
            "801/801 [==============================] - 1s 1ms/step - loss: 0.4071 - accuracy: 0.8252 - val_loss: 0.4210 - val_accuracy: 0.7889\n",
            "Epoch 30/100\n",
            "801/801 [==============================] - 1s 1ms/step - loss: 0.4070 - accuracy: 0.8302 - val_loss: 0.4203 - val_accuracy: 0.7889\n",
            "Epoch 31/100\n",
            "801/801 [==============================] - 1s 1ms/step - loss: 0.4063 - accuracy: 0.8277 - val_loss: 0.4192 - val_accuracy: 0.7889\n",
            "Epoch 32/100\n",
            "801/801 [==============================] - 1s 1ms/step - loss: 0.4054 - accuracy: 0.8277 - val_loss: 0.4182 - val_accuracy: 0.8000\n",
            "Epoch 33/100\n",
            "801/801 [==============================] - 1s 1ms/step - loss: 0.4042 - accuracy: 0.8290 - val_loss: 0.4198 - val_accuracy: 0.8000\n",
            "Epoch 34/100\n",
            "801/801 [==============================] - 1s 1ms/step - loss: 0.4043 - accuracy: 0.8315 - val_loss: 0.4194 - val_accuracy: 0.8000\n",
            "Epoch 35/100\n",
            "801/801 [==============================] - 1s 1ms/step - loss: 0.4035 - accuracy: 0.8327 - val_loss: 0.4192 - val_accuracy: 0.8000\n",
            "Epoch 36/100\n",
            "801/801 [==============================] - 1s 1ms/step - loss: 0.4030 - accuracy: 0.8290 - val_loss: 0.4180 - val_accuracy: 0.8000\n",
            "Epoch 37/100\n",
            "801/801 [==============================] - 1s 1ms/step - loss: 0.4026 - accuracy: 0.8327 - val_loss: 0.4172 - val_accuracy: 0.8000\n",
            "Epoch 38/100\n",
            "801/801 [==============================] - 1s 1ms/step - loss: 0.4021 - accuracy: 0.8302 - val_loss: 0.4191 - val_accuracy: 0.8000\n",
            "Epoch 39/100\n",
            "801/801 [==============================] - 1s 1ms/step - loss: 0.4014 - accuracy: 0.8315 - val_loss: 0.4171 - val_accuracy: 0.8000\n",
            "Epoch 40/100\n",
            "801/801 [==============================] - 1s 1ms/step - loss: 0.4010 - accuracy: 0.8340 - val_loss: 0.4159 - val_accuracy: 0.8000\n",
            "Epoch 41/100\n",
            "801/801 [==============================] - 1s 1ms/step - loss: 0.4010 - accuracy: 0.8327 - val_loss: 0.4170 - val_accuracy: 0.7889\n",
            "Epoch 42/100\n",
            "801/801 [==============================] - 1s 1ms/step - loss: 0.4001 - accuracy: 0.8377 - val_loss: 0.4174 - val_accuracy: 0.7889\n",
            "Epoch 43/100\n",
            "801/801 [==============================] - 1s 1ms/step - loss: 0.4000 - accuracy: 0.8390 - val_loss: 0.4166 - val_accuracy: 0.7889\n",
            "Epoch 44/100\n",
            "801/801 [==============================] - 1s 1ms/step - loss: 0.3993 - accuracy: 0.8390 - val_loss: 0.4163 - val_accuracy: 0.7889\n",
            "Epoch 45/100\n",
            "801/801 [==============================] - 1s 1ms/step - loss: 0.3988 - accuracy: 0.8377 - val_loss: 0.4150 - val_accuracy: 0.8000\n",
            "Epoch 46/100\n",
            "801/801 [==============================] - 1s 1ms/step - loss: 0.3982 - accuracy: 0.8402 - val_loss: 0.4144 - val_accuracy: 0.8000\n",
            "Epoch 47/100\n",
            "801/801 [==============================] - 1s 1ms/step - loss: 0.3976 - accuracy: 0.8390 - val_loss: 0.4142 - val_accuracy: 0.7889\n",
            "Epoch 48/100\n",
            "801/801 [==============================] - 1s 1ms/step - loss: 0.3973 - accuracy: 0.8390 - val_loss: 0.4155 - val_accuracy: 0.7889\n",
            "Epoch 49/100\n",
            "801/801 [==============================] - 1s 1ms/step - loss: 0.3967 - accuracy: 0.8414 - val_loss: 0.4147 - val_accuracy: 0.7889\n",
            "Epoch 50/100\n",
            "801/801 [==============================] - 1s 1ms/step - loss: 0.3964 - accuracy: 0.8414 - val_loss: 0.4141 - val_accuracy: 0.8000\n",
            "Epoch 51/100\n",
            "801/801 [==============================] - 1s 1ms/step - loss: 0.3956 - accuracy: 0.8414 - val_loss: 0.4141 - val_accuracy: 0.8333\n",
            "Epoch 52/100\n",
            "801/801 [==============================] - 1s 1ms/step - loss: 0.3950 - accuracy: 0.8414 - val_loss: 0.4154 - val_accuracy: 0.8000\n",
            "Epoch 53/100\n",
            "801/801 [==============================] - 1s 1ms/step - loss: 0.3953 - accuracy: 0.8402 - val_loss: 0.4152 - val_accuracy: 0.8111\n",
            "Epoch 54/100\n",
            "801/801 [==============================] - 1s 1ms/step - loss: 0.3944 - accuracy: 0.8402 - val_loss: 0.4169 - val_accuracy: 0.8000\n",
            "Epoch 55/100\n",
            "801/801 [==============================] - 1s 1ms/step - loss: 0.3947 - accuracy: 0.8414 - val_loss: 0.4176 - val_accuracy: 0.7889\n",
            "Epoch 56/100\n",
            "801/801 [==============================] - 1s 1ms/step - loss: 0.3937 - accuracy: 0.8427 - val_loss: 0.4162 - val_accuracy: 0.8111\n",
            "Epoch 57/100\n",
            "801/801 [==============================] - 1s 1ms/step - loss: 0.3937 - accuracy: 0.8377 - val_loss: 0.4179 - val_accuracy: 0.8111\n",
            "Epoch 58/100\n",
            "801/801 [==============================] - 1s 1ms/step - loss: 0.3926 - accuracy: 0.8439 - val_loss: 0.4163 - val_accuracy: 0.8222\n",
            "Epoch 59/100\n",
            "801/801 [==============================] - 1s 1ms/step - loss: 0.3933 - accuracy: 0.8414 - val_loss: 0.4159 - val_accuracy: 0.8111\n",
            "Epoch 60/100\n",
            "801/801 [==============================] - 1s 1ms/step - loss: 0.3928 - accuracy: 0.8390 - val_loss: 0.4152 - val_accuracy: 0.8111\n",
            "Epoch 61/100\n",
            "801/801 [==============================] - 1s 1ms/step - loss: 0.3922 - accuracy: 0.8365 - val_loss: 0.4168 - val_accuracy: 0.8111\n",
            "Epoch 00061: early stopping\n"
          ],
          "name": "stdout"
        },
        {
          "output_type": "display_data",
          "data": {
            "image/png": "[encoded data removed]",
            "text/plain": [
              "<Figure size 432x288 with 1 Axes>"
            ]
          },
          "metadata": {
            "tags": [],
            "needs_background": "light"
          }
        },
        {
          "output_type": "stream",
          "text": [
            "Train Loss: 0.393\n",
            "Train Accuracy: 0.840\n",
            "Val Loss: 0.414\n",
            "Val Accuracy: 0.833\n"
          ],
          "name": "stdout"
        }
      ]
    },
    {
      "cell_type": "code",
      "metadata": {
        "id": "-sysTq7gjVb1",
        "colab_type": "code",
        "outputId": "847715fa-d53d-4d43-98c1-ede44e2108fc",
        "colab": {
          "base_uri": "https://localhost:8080/",
          "height": 68
        }
      },
      "source": [
        "# accuracy\n",
        "y_pred = predict_with_ml_model(model, X_train, batch_size=batch_size)\n",
        "train_acc = accuracy_score(y_train, y_pred, normalize=True)\n",
        "cmatrix_train = confusion_matrix(y_train, y_pred)\n",
        "\n",
        "print('Accuracy: %.3f' % train_acc)\n",
        "print(cmatrix_train)"
      ],
      "execution_count": 31,
      "outputs": [
        {
          "output_type": "stream",
          "text": [
            "Accuracy: 0.840\n",
            "[[498  51]\n",
            " [ 92 250]]\n"
          ],
          "name": "stdout"
        }
      ]
    },
    {
      "cell_type": "code",
      "metadata": {
        "id": "k8j0qX7V86DZ",
        "colab_type": "code",
        "outputId": "b9917cad-728b-4432-d339-7612afbf7755",
        "colab": {
          "base_uri": "https://localhost:8080/",
          "height": 515
        }
      },
      "source": [
        "# generate predictions for test\n",
        "df_pred = pd.DataFrame(predict_with_ml_model(model, X_test, batch_size=batch_size), columns=['Survived'], index =  df_test.index)\n",
        "  \n",
        "display(df_pred.describe())\n",
        "display(df_pred.head()) \n",
        "df_pred.to_csv('submission.csv', index=True)  "
      ],
      "execution_count": 32,
      "outputs": [
        {
          "output_type": "display_data",
          "data": {
            "text/html": [
              "<div>\n",
              "<style scoped>\n",
              "    .dataframe tbody tr th:only-of-type {\n",
              "        vertical-align: middle;\n",
              "    }\n",
              "\n",
              "    .dataframe tbody tr th {\n",
              "        vertical-align: top;\n",
              "    }\n",
              "\n",
              "    .dataframe thead th {\n",
              "        text-align: right;\n",
              "    }\n",
              "</style>\n",
              "<table border=\"1\" class=\"dataframe\">\n",
              "  <thead>\n",
              "    <tr style=\"text-align: right;\">\n",
              "      <th></th>\n",
              "      <th>Survived</th>\n",
              "    </tr>\n",
              "  </thead>\n",
              "  <tbody>\n",
              "    <tr>\n",
              "      <th>count</th>\n",
              "      <td>418.000000</td>\n",
              "    </tr>\n",
              "    <tr>\n",
              "      <th>mean</th>\n",
              "      <td>0.370813</td>\n",
              "    </tr>\n",
              "    <tr>\n",
              "      <th>std</th>\n",
              "      <td>0.483601</td>\n",
              "    </tr>\n",
              "    <tr>\n",
              "      <th>min</th>\n",
              "      <td>0.000000</td>\n",
              "    </tr>\n",
              "    <tr>\n",
              "      <th>25%</th>\n",
              "      <td>0.000000</td>\n",
              "    </tr>\n",
              "    <tr>\n",
              "      <th>50%</th>\n",
              "      <td>0.000000</td>\n",
              "    </tr>\n",
              "    <tr>\n",
              "      <th>75%</th>\n",
              "      <td>1.000000</td>\n",
              "    </tr>\n",
              "    <tr>\n",
              "      <th>max</th>\n",
              "      <td>1.000000</td>\n",
              "    </tr>\n",
              "  </tbody>\n",
              "</table>\n",
              "</div>"
            ],
            "text/plain": [
              "         Survived\n",
              "count  418.000000\n",
              "mean     0.370813\n",
              "std      0.483601\n",
              "min      0.000000\n",
              "25%      0.000000\n",
              "50%      0.000000\n",
              "75%      1.000000\n",
              "max      1.000000"
            ]
          },
          "metadata": {
            "tags": []
          }
        },
        {
          "output_type": "display_data",
          "data": {
            "text/html": [
              "<div>\n",
              "<style scoped>\n",
              "    .dataframe tbody tr th:only-of-type {\n",
              "        vertical-align: middle;\n",
              "    }\n",
              "\n",
              "    .dataframe tbody tr th {\n",
              "        vertical-align: top;\n",
              "    }\n",
              "\n",
              "    .dataframe thead th {\n",
              "        text-align: right;\n",
              "    }\n",
              "</style>\n",
              "<table border=\"1\" class=\"dataframe\">\n",
              "  <thead>\n",
              "    <tr style=\"text-align: right;\">\n",
              "      <th></th>\n",
              "      <th>Survived</th>\n",
              "    </tr>\n",
              "    <tr>\n",
              "      <th>PassengerId</th>\n",
              "      <th></th>\n",
              "    </tr>\n",
              "  </thead>\n",
              "  <tbody>\n",
              "    <tr>\n",
              "      <th>892</th>\n",
              "      <td>0</td>\n",
              "    </tr>\n",
              "    <tr>\n",
              "      <th>893</th>\n",
              "      <td>1</td>\n",
              "    </tr>\n",
              "    <tr>\n",
              "      <th>894</th>\n",
              "      <td>0</td>\n",
              "    </tr>\n",
              "    <tr>\n",
              "      <th>895</th>\n",
              "      <td>0</td>\n",
              "    </tr>\n",
              "    <tr>\n",
              "      <th>896</th>\n",
              "      <td>1</td>\n",
              "    </tr>\n",
              "  </tbody>\n",
              "</table>\n",
              "</div>"
            ],
            "text/plain": [
              "             Survived\n",
              "PassengerId          \n",
              "892                 0\n",
              "893                 1\n",
              "894                 0\n",
              "895                 0\n",
              "896                 1"
            ]
          },
          "metadata": {
            "tags": []
          }
        }
      ]
    },
    {
      "cell_type": "code",
      "metadata": {
        "id": "1GUOvy37L6zy",
        "colab_type": "code",
        "outputId": "84335b19-735f-49de-ccd8-adf347bab13d",
        "colab": {
          "base_uri": "https://localhost:8080/",
          "height": 51
        }
      },
      "source": [
        "%%bash\n",
        "kaggle competitions submit -c titanic -f submission.csv -m \"New submission test\""
      ],
      "execution_count": 33,
      "outputs": [
        {
          "output_type": "stream",
          "text": [
            "Warning: Looks like you're using an outdated API Version, please consider updating (server 1.5.6 / client 1.5.4)\n",
            "Successfully submitted to Titanic: Machine Learning from Disaster"
          ],
          "name": "stdout"
        },
        {
          "output_type": "stream",
          "text": [
            "\r  0%|          | 0.00/2.77k [00:00<?, ?B/s]\r100%|##########| 2.77k/2.77k [00:08<00:00, 335B/s]\n"
          ],
          "name": "stderr"
        }
      ]
    }
  ]
}