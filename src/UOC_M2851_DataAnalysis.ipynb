{
  "nbformat": 4,
  "nbformat_minor": 0,
  "metadata": {
    "colab": {
      "name": "UOC-M2851-DataAnalysis.ipynb",
      "provenance": [],
      "collapsed_sections": [],
      "authorship_tag": "ABX9TyNVWGYmoZRh+zQSuD2vX2Ht",
      "include_colab_link": true
    },
    "kernelspec": {
      "name": "python3",
      "display_name": "Python 3"
    }
  },
  "cells": [
    {
      "cell_type": "markdown",
      "metadata": {
        "id": "view-in-github",
        "colab_type": "text"
      },
      "source": [
        "<a href=\"https://colab.research.google.com/github/dmar10862/uoc_tipologia_y_ciclo_de_vida_de_los_datos_practica_2/blob/develop/src/UOC_M2851_DataAnalysis.ipynb\" target=\"_parent\"><img src=\"https://colab.research.google.com/assets/colab-badge.svg\" alt=\"Open In Colab\"/></a>"
      ]
    },
    {
      "cell_type": "markdown",
      "metadata": {
        "id": "WnhsrUMxp9mH",
        "colab_type": "text"
      },
      "source": [
        "**Practica 2: Limpieza y análisis de datos**\n",
        "\n",
        "M2851 - Tipología y ciclo de vida de los datos\n",
        "\n",
        "Ciencia de Datos\n",
        "\n",
        "**David Marín Sánchez**\n",
        "\n",
        "Junio 2020"
      ]
    },
    {
      "cell_type": "markdown",
      "metadata": {
        "id": "fVa3SNNFfP7S",
        "colab_type": "text"
      },
      "source": [
        "**Kaggle Competition**\n",
        "\n",
        "[Titanic: Machine Learning from Disaster](https://www.kaggle.com/c/titanic/overview)"
      ]
    },
    {
      "cell_type": "markdown",
      "metadata": {
        "id": "CzHYyhMglcaw",
        "colab_type": "text"
      },
      "source": [
        "# Librerias y funciones"
      ]
    },
    {
      "cell_type": "markdown",
      "metadata": {
        "id": "4lP99xCBmozB",
        "colab_type": "text"
      },
      "source": [
        "https://github.com/Kaggle/kaggle-api"
      ]
    },
    {
      "cell_type": "code",
      "metadata": {
        "id": "8yGWffSUlcAX",
        "colab_type": "code",
        "colab": {}
      },
      "source": [
        "from google.colab import drive\n",
        "from google.colab import auth\n",
        "from scipy import stats\n",
        "import pandas as pd\n",
        "import numpy as np\n",
        "import matplotlib.pyplot as plt\n",
        "import seaborn as sns\n",
        "from sklearn.impute import KNNImputer\n",
        "from sklearn.preprocessing import StandardScaler\n",
        "from sklearn.model_selection import train_test_split\n",
        "import tensorflow as tf\n",
        "from tensorflow.keras.models import Sequential, Model, load_model\n",
        "from tensorflow.keras.layers import Dense, Activation, Input, Embedding, LSTM, Masking, Bidirectional, TimeDistributed, Conv1D, MaxPooling1D, Flatten\n",
        "from tensorflow.keras.optimizers import Adam\n",
        "from tensorflow.keras.callbacks import EarlyStopping, ModelCheckpoint, TensorBoard"
      ],
      "execution_count": 0,
      "outputs": []
    },
    {
      "cell_type": "code",
      "metadata": {
        "id": "kSbUb2i2mrZh",
        "colab_type": "code",
        "colab": {
          "base_uri": "https://localhost:8080/",
          "height": 122
        },
        "outputId": "3e292ad4-18bb-4a94-8d52-699c1dc64638"
      },
      "source": [
        "# Montar Google Drive\n",
        "drive.mount('/content/drive')"
      ],
      "execution_count": 6,
      "outputs": [
        {
          "output_type": "stream",
          "text": [
            "Go to this URL in a browser: https://accounts.google.com/o/oauth2/auth?client_id=947318989803-6bn6qk8qdgf4n4g3pfee6491hc0brc4i.apps.googleusercontent.com&redirect_uri=urn%3aietf%3awg%3aoauth%3a2.0%3aoob&response_type=code&scope=email%20https%3a%2f%2fwww.googleapis.com%2fauth%2fdocs.test%20https%3a%2f%2fwww.googleapis.com%2fauth%2fdrive%20https%3a%2f%2fwww.googleapis.com%2fauth%2fdrive.photos.readonly%20https%3a%2f%2fwww.googleapis.com%2fauth%2fpeopleapi.readonly\n",
            "\n",
            "Enter your authorization code:\n",
            "··········\n",
            "Mounted at /content/drive\n"
          ],
          "name": "stdout"
        }
      ]
    },
    {
      "cell_type": "code",
      "metadata": {
        "id": "wqxPpBiclgwX",
        "colab_type": "code",
        "colab": {}
      },
      "source": [
        "%%bash\n",
        "pip install -q kaggle"
      ],
      "execution_count": 0,
      "outputs": []
    },
    {
      "cell_type": "code",
      "metadata": {
        "id": "WC4DD19xm4Vh",
        "colab_type": "code",
        "colab": {
          "base_uri": "https://localhost:8080/",
          "height": 51
        },
        "outputId": "3b35acf3-46cb-4dd4-b99a-22606cb2c225"
      },
      "source": [
        "# Cargar las credeciales de Kaggle\n",
        "%%bash\n",
        "cp -a \"/content/drive/My Drive/Credentials/kaggle.json\" /root/.kaggle\n",
        "ls -l /root/.kaggle"
      ],
      "execution_count": 9,
      "outputs": [
        {
          "output_type": "stream",
          "text": [
            "total 4\n",
            "-rw------- 1 root root 64 May  9 08:42 kaggle.json\n"
          ],
          "name": "stdout"
        }
      ]
    },
    {
      "cell_type": "code",
      "metadata": {
        "id": "AeLUbs0JlUVf",
        "colab_type": "code",
        "colab": {
          "base_uri": "https://localhost:8080/",
          "height": 187
        },
        "outputId": "4020deb6-9c86-4c02-a5a8-03e416c53cd5"
      },
      "source": [
        "# Descargar dataset\n",
        "%%bash\n",
        "mkdir -p datasets\n",
        "cd datasets\n",
        "kaggle competitions download -c titanic\n",
        "ls -la datasets"
      ],
      "execution_count": 14,
      "outputs": [
        {
          "output_type": "stream",
          "text": [
            "Warning: Looks like you're using an outdated API Version, please consider updating (server 1.5.6 / client 1.5.4)\n",
            "Downloading test.csv to /content/datasets\n",
            "\n",
            "Downloading gender_submission.csv to /content/datasets\n",
            "\n",
            "Downloading train.csv to /content/datasets\n",
            "\n"
          ],
          "name": "stdout"
        },
        {
          "output_type": "stream",
          "text": [
            "\r  0%|          | 0.00/28.0k [00:00<?, ?B/s]\r100%|##########| 28.0k/28.0k [00:00<00:00, 43.4MB/s]\n",
            "\r  0%|          | 0.00/3.18k [00:00<?, ?B/s]\r100%|##########| 3.18k/3.18k [00:00<00:00, 3.32MB/s]\n",
            "\r  0%|          | 0.00/59.8k [00:00<?, ?B/s]\r100%|##########| 59.8k/59.8k [00:00<00:00, 61.1MB/s]\n"
          ],
          "name": "stderr"
        }
      ]
    },
    {
      "cell_type": "markdown",
      "metadata": {
        "id": "pyUPgmft7MEp",
        "colab_type": "text"
      },
      "source": [
        "# Cargar Datos"
      ]
    },
    {
      "cell_type": "code",
      "metadata": {
        "id": "Kz6v5JKYn25H",
        "colab_type": "code",
        "colab": {
          "base_uri": "https://localhost:8080/",
          "height": 221
        },
        "outputId": "36edf6d8-b122-4930-c08b-ce820b9b381d"
      },
      "source": [
        "# Cargar dataset como Pandas DataFrame\n",
        "df_train_orig = pd.read_csv('datasets/train.csv') \n",
        "df_train = df_train_orig.copy()\n",
        "display(df_train.shape)\n",
        "display(df_train.head())"
      ],
      "execution_count": 257,
      "outputs": [
        {
          "output_type": "display_data",
          "data": {
            "text/plain": [
              "(891, 12)"
            ]
          },
          "metadata": {
            "tags": []
          }
        },
        {
          "output_type": "display_data",
          "data": {
            "text/html": [
              "<div>\n",
              "<style scoped>\n",
              "    .dataframe tbody tr th:only-of-type {\n",
              "        vertical-align: middle;\n",
              "    }\n",
              "\n",
              "    .dataframe tbody tr th {\n",
              "        vertical-align: top;\n",
              "    }\n",
              "\n",
              "    .dataframe thead th {\n",
              "        text-align: right;\n",
              "    }\n",
              "</style>\n",
              "<table border=\"1\" class=\"dataframe\">\n",
              "  <thead>\n",
              "    <tr style=\"text-align: right;\">\n",
              "      <th></th>\n",
              "      <th>PassengerId</th>\n",
              "      <th>Survived</th>\n",
              "      <th>Pclass</th>\n",
              "      <th>Name</th>\n",
              "      <th>Sex</th>\n",
              "      <th>Age</th>\n",
              "      <th>SibSp</th>\n",
              "      <th>Parch</th>\n",
              "      <th>Ticket</th>\n",
              "      <th>Fare</th>\n",
              "      <th>Cabin</th>\n",
              "      <th>Embarked</th>\n",
              "    </tr>\n",
              "  </thead>\n",
              "  <tbody>\n",
              "    <tr>\n",
              "      <th>0</th>\n",
              "      <td>1</td>\n",
              "      <td>0</td>\n",
              "      <td>3</td>\n",
              "      <td>Braund, Mr. Owen Harris</td>\n",
              "      <td>male</td>\n",
              "      <td>22.0</td>\n",
              "      <td>1</td>\n",
              "      <td>0</td>\n",
              "      <td>A/5 21171</td>\n",
              "      <td>7.2500</td>\n",
              "      <td>NaN</td>\n",
              "      <td>S</td>\n",
              "    </tr>\n",
              "    <tr>\n",
              "      <th>1</th>\n",
              "      <td>2</td>\n",
              "      <td>1</td>\n",
              "      <td>1</td>\n",
              "      <td>Cumings, Mrs. John Bradley (Florence Briggs Th...</td>\n",
              "      <td>female</td>\n",
              "      <td>38.0</td>\n",
              "      <td>1</td>\n",
              "      <td>0</td>\n",
              "      <td>PC 17599</td>\n",
              "      <td>71.2833</td>\n",
              "      <td>C85</td>\n",
              "      <td>C</td>\n",
              "    </tr>\n",
              "    <tr>\n",
              "      <th>2</th>\n",
              "      <td>3</td>\n",
              "      <td>1</td>\n",
              "      <td>3</td>\n",
              "      <td>Heikkinen, Miss. Laina</td>\n",
              "      <td>female</td>\n",
              "      <td>26.0</td>\n",
              "      <td>0</td>\n",
              "      <td>0</td>\n",
              "      <td>STON/O2. 3101282</td>\n",
              "      <td>7.9250</td>\n",
              "      <td>NaN</td>\n",
              "      <td>S</td>\n",
              "    </tr>\n",
              "    <tr>\n",
              "      <th>3</th>\n",
              "      <td>4</td>\n",
              "      <td>1</td>\n",
              "      <td>1</td>\n",
              "      <td>Futrelle, Mrs. Jacques Heath (Lily May Peel)</td>\n",
              "      <td>female</td>\n",
              "      <td>35.0</td>\n",
              "      <td>1</td>\n",
              "      <td>0</td>\n",
              "      <td>113803</td>\n",
              "      <td>53.1000</td>\n",
              "      <td>C123</td>\n",
              "      <td>S</td>\n",
              "    </tr>\n",
              "    <tr>\n",
              "      <th>4</th>\n",
              "      <td>5</td>\n",
              "      <td>0</td>\n",
              "      <td>3</td>\n",
              "      <td>Allen, Mr. William Henry</td>\n",
              "      <td>male</td>\n",
              "      <td>35.0</td>\n",
              "      <td>0</td>\n",
              "      <td>0</td>\n",
              "      <td>373450</td>\n",
              "      <td>8.0500</td>\n",
              "      <td>NaN</td>\n",
              "      <td>S</td>\n",
              "    </tr>\n",
              "  </tbody>\n",
              "</table>\n",
              "</div>"
            ],
            "text/plain": [
              "   PassengerId  Survived  Pclass  ...     Fare Cabin  Embarked\n",
              "0            1         0       3  ...   7.2500   NaN         S\n",
              "1            2         1       1  ...  71.2833   C85         C\n",
              "2            3         1       3  ...   7.9250   NaN         S\n",
              "3            4         1       1  ...  53.1000  C123         S\n",
              "4            5         0       3  ...   8.0500   NaN         S\n",
              "\n",
              "[5 rows x 12 columns]"
            ]
          },
          "metadata": {
            "tags": []
          }
        }
      ]
    },
    {
      "cell_type": "code",
      "metadata": {
        "id": "zGDtXQK9DnWL",
        "colab_type": "code",
        "colab": {
          "base_uri": "https://localhost:8080/",
          "height": 221
        },
        "outputId": "d0aafa2e-217c-40ea-fea4-02e0fe4d57e4"
      },
      "source": [
        "# Cargar dataset de test\n",
        "X_test_orig = pd.read_csv('datasets/test.csv') \n",
        "X_test = X_test_orig.copy()\n",
        "display(X_test.shape)\n",
        "display(X_test.head())"
      ],
      "execution_count": 258,
      "outputs": [
        {
          "output_type": "display_data",
          "data": {
            "text/plain": [
              "(418, 11)"
            ]
          },
          "metadata": {
            "tags": []
          }
        },
        {
          "output_type": "display_data",
          "data": {
            "text/html": [
              "<div>\n",
              "<style scoped>\n",
              "    .dataframe tbody tr th:only-of-type {\n",
              "        vertical-align: middle;\n",
              "    }\n",
              "\n",
              "    .dataframe tbody tr th {\n",
              "        vertical-align: top;\n",
              "    }\n",
              "\n",
              "    .dataframe thead th {\n",
              "        text-align: right;\n",
              "    }\n",
              "</style>\n",
              "<table border=\"1\" class=\"dataframe\">\n",
              "  <thead>\n",
              "    <tr style=\"text-align: right;\">\n",
              "      <th></th>\n",
              "      <th>PassengerId</th>\n",
              "      <th>Pclass</th>\n",
              "      <th>Name</th>\n",
              "      <th>Sex</th>\n",
              "      <th>Age</th>\n",
              "      <th>SibSp</th>\n",
              "      <th>Parch</th>\n",
              "      <th>Ticket</th>\n",
              "      <th>Fare</th>\n",
              "      <th>Cabin</th>\n",
              "      <th>Embarked</th>\n",
              "    </tr>\n",
              "  </thead>\n",
              "  <tbody>\n",
              "    <tr>\n",
              "      <th>0</th>\n",
              "      <td>892</td>\n",
              "      <td>3</td>\n",
              "      <td>Kelly, Mr. James</td>\n",
              "      <td>male</td>\n",
              "      <td>34.5</td>\n",
              "      <td>0</td>\n",
              "      <td>0</td>\n",
              "      <td>330911</td>\n",
              "      <td>7.8292</td>\n",
              "      <td>NaN</td>\n",
              "      <td>Q</td>\n",
              "    </tr>\n",
              "    <tr>\n",
              "      <th>1</th>\n",
              "      <td>893</td>\n",
              "      <td>3</td>\n",
              "      <td>Wilkes, Mrs. James (Ellen Needs)</td>\n",
              "      <td>female</td>\n",
              "      <td>47.0</td>\n",
              "      <td>1</td>\n",
              "      <td>0</td>\n",
              "      <td>363272</td>\n",
              "      <td>7.0000</td>\n",
              "      <td>NaN</td>\n",
              "      <td>S</td>\n",
              "    </tr>\n",
              "    <tr>\n",
              "      <th>2</th>\n",
              "      <td>894</td>\n",
              "      <td>2</td>\n",
              "      <td>Myles, Mr. Thomas Francis</td>\n",
              "      <td>male</td>\n",
              "      <td>62.0</td>\n",
              "      <td>0</td>\n",
              "      <td>0</td>\n",
              "      <td>240276</td>\n",
              "      <td>9.6875</td>\n",
              "      <td>NaN</td>\n",
              "      <td>Q</td>\n",
              "    </tr>\n",
              "    <tr>\n",
              "      <th>3</th>\n",
              "      <td>895</td>\n",
              "      <td>3</td>\n",
              "      <td>Wirz, Mr. Albert</td>\n",
              "      <td>male</td>\n",
              "      <td>27.0</td>\n",
              "      <td>0</td>\n",
              "      <td>0</td>\n",
              "      <td>315154</td>\n",
              "      <td>8.6625</td>\n",
              "      <td>NaN</td>\n",
              "      <td>S</td>\n",
              "    </tr>\n",
              "    <tr>\n",
              "      <th>4</th>\n",
              "      <td>896</td>\n",
              "      <td>3</td>\n",
              "      <td>Hirvonen, Mrs. Alexander (Helga E Lindqvist)</td>\n",
              "      <td>female</td>\n",
              "      <td>22.0</td>\n",
              "      <td>1</td>\n",
              "      <td>1</td>\n",
              "      <td>3101298</td>\n",
              "      <td>12.2875</td>\n",
              "      <td>NaN</td>\n",
              "      <td>S</td>\n",
              "    </tr>\n",
              "  </tbody>\n",
              "</table>\n",
              "</div>"
            ],
            "text/plain": [
              "   PassengerId  Pclass  ... Cabin Embarked\n",
              "0          892       3  ...   NaN        Q\n",
              "1          893       3  ...   NaN        S\n",
              "2          894       2  ...   NaN        Q\n",
              "3          895       3  ...   NaN        S\n",
              "4          896       3  ...   NaN        S\n",
              "\n",
              "[5 rows x 11 columns]"
            ]
          },
          "metadata": {
            "tags": []
          }
        }
      ]
    },
    {
      "cell_type": "markdown",
      "metadata": {
        "id": "A277m6ABwqpB",
        "colab_type": "text"
      },
      "source": [
        "# Limpieza de datos"
      ]
    },
    {
      "cell_type": "code",
      "metadata": {
        "id": "B_xa0V4-wwxB",
        "colab_type": "code",
        "colab": {}
      },
      "source": [
        "# Deajar solo variables útiles\n",
        "df_train = df_train[['Survived', 'Pclass', 'Sex', 'Age', 'SibSp', 'Parch', 'Fare', 'Embarked']]\n",
        "X_test = X_test[['Pclass', 'Sex', 'Age', 'SibSp', 'Parch', 'Fare', 'Embarked']]"
      ],
      "execution_count": 0,
      "outputs": []
    },
    {
      "cell_type": "code",
      "metadata": {
        "id": "eQqF6Ud031NM",
        "colab_type": "code",
        "colab": {
          "base_uri": "https://localhost:8080/",
          "height": 297
        },
        "outputId": "6c56bd4c-2ce0-40c4-db51-5232c4071657"
      },
      "source": [
        "display(df_train.describe())"
      ],
      "execution_count": 260,
      "outputs": [
        {
          "output_type": "display_data",
          "data": {
            "text/html": [
              "<div>\n",
              "<style scoped>\n",
              "    .dataframe tbody tr th:only-of-type {\n",
              "        vertical-align: middle;\n",
              "    }\n",
              "\n",
              "    .dataframe tbody tr th {\n",
              "        vertical-align: top;\n",
              "    }\n",
              "\n",
              "    .dataframe thead th {\n",
              "        text-align: right;\n",
              "    }\n",
              "</style>\n",
              "<table border=\"1\" class=\"dataframe\">\n",
              "  <thead>\n",
              "    <tr style=\"text-align: right;\">\n",
              "      <th></th>\n",
              "      <th>Survived</th>\n",
              "      <th>Pclass</th>\n",
              "      <th>Age</th>\n",
              "      <th>SibSp</th>\n",
              "      <th>Parch</th>\n",
              "      <th>Fare</th>\n",
              "    </tr>\n",
              "  </thead>\n",
              "  <tbody>\n",
              "    <tr>\n",
              "      <th>count</th>\n",
              "      <td>891.000000</td>\n",
              "      <td>891.000000</td>\n",
              "      <td>714.000000</td>\n",
              "      <td>891.000000</td>\n",
              "      <td>891.000000</td>\n",
              "      <td>891.000000</td>\n",
              "    </tr>\n",
              "    <tr>\n",
              "      <th>mean</th>\n",
              "      <td>0.383838</td>\n",
              "      <td>2.308642</td>\n",
              "      <td>29.699118</td>\n",
              "      <td>0.523008</td>\n",
              "      <td>0.381594</td>\n",
              "      <td>32.204208</td>\n",
              "    </tr>\n",
              "    <tr>\n",
              "      <th>std</th>\n",
              "      <td>0.486592</td>\n",
              "      <td>0.836071</td>\n",
              "      <td>14.526497</td>\n",
              "      <td>1.102743</td>\n",
              "      <td>0.806057</td>\n",
              "      <td>49.693429</td>\n",
              "    </tr>\n",
              "    <tr>\n",
              "      <th>min</th>\n",
              "      <td>0.000000</td>\n",
              "      <td>1.000000</td>\n",
              "      <td>0.420000</td>\n",
              "      <td>0.000000</td>\n",
              "      <td>0.000000</td>\n",
              "      <td>0.000000</td>\n",
              "    </tr>\n",
              "    <tr>\n",
              "      <th>25%</th>\n",
              "      <td>0.000000</td>\n",
              "      <td>2.000000</td>\n",
              "      <td>20.125000</td>\n",
              "      <td>0.000000</td>\n",
              "      <td>0.000000</td>\n",
              "      <td>7.910400</td>\n",
              "    </tr>\n",
              "    <tr>\n",
              "      <th>50%</th>\n",
              "      <td>0.000000</td>\n",
              "      <td>3.000000</td>\n",
              "      <td>28.000000</td>\n",
              "      <td>0.000000</td>\n",
              "      <td>0.000000</td>\n",
              "      <td>14.454200</td>\n",
              "    </tr>\n",
              "    <tr>\n",
              "      <th>75%</th>\n",
              "      <td>1.000000</td>\n",
              "      <td>3.000000</td>\n",
              "      <td>38.000000</td>\n",
              "      <td>1.000000</td>\n",
              "      <td>0.000000</td>\n",
              "      <td>31.000000</td>\n",
              "    </tr>\n",
              "    <tr>\n",
              "      <th>max</th>\n",
              "      <td>1.000000</td>\n",
              "      <td>3.000000</td>\n",
              "      <td>80.000000</td>\n",
              "      <td>8.000000</td>\n",
              "      <td>6.000000</td>\n",
              "      <td>512.329200</td>\n",
              "    </tr>\n",
              "  </tbody>\n",
              "</table>\n",
              "</div>"
            ],
            "text/plain": [
              "         Survived      Pclass         Age       SibSp       Parch        Fare\n",
              "count  891.000000  891.000000  714.000000  891.000000  891.000000  891.000000\n",
              "mean     0.383838    2.308642   29.699118    0.523008    0.381594   32.204208\n",
              "std      0.486592    0.836071   14.526497    1.102743    0.806057   49.693429\n",
              "min      0.000000    1.000000    0.420000    0.000000    0.000000    0.000000\n",
              "25%      0.000000    2.000000   20.125000    0.000000    0.000000    7.910400\n",
              "50%      0.000000    3.000000   28.000000    0.000000    0.000000   14.454200\n",
              "75%      1.000000    3.000000   38.000000    1.000000    0.000000   31.000000\n",
              "max      1.000000    3.000000   80.000000    8.000000    6.000000  512.329200"
            ]
          },
          "metadata": {
            "tags": []
          }
        }
      ]
    },
    {
      "cell_type": "code",
      "metadata": {
        "id": "qbRWK0jKwtao",
        "colab_type": "code",
        "colab": {
          "base_uri": "https://localhost:8080/",
          "height": 238
        },
        "outputId": "21343809-11e0-491b-d800-90cb21352fae"
      },
      "source": [
        "# Convertir variables en numéricas\n",
        "df_train['Sex'], sex = pd.factorize(df_train['Sex'])\n",
        "df_train['Embarked'], embarked = pd.factorize(df_train['Embarked'])\n",
        "display(df_train.head())\n",
        "print(sex)\n",
        "print(embarked)"
      ],
      "execution_count": 261,
      "outputs": [
        {
          "output_type": "display_data",
          "data": {
            "text/html": [
              "<div>\n",
              "<style scoped>\n",
              "    .dataframe tbody tr th:only-of-type {\n",
              "        vertical-align: middle;\n",
              "    }\n",
              "\n",
              "    .dataframe tbody tr th {\n",
              "        vertical-align: top;\n",
              "    }\n",
              "\n",
              "    .dataframe thead th {\n",
              "        text-align: right;\n",
              "    }\n",
              "</style>\n",
              "<table border=\"1\" class=\"dataframe\">\n",
              "  <thead>\n",
              "    <tr style=\"text-align: right;\">\n",
              "      <th></th>\n",
              "      <th>Survived</th>\n",
              "      <th>Pclass</th>\n",
              "      <th>Sex</th>\n",
              "      <th>Age</th>\n",
              "      <th>SibSp</th>\n",
              "      <th>Parch</th>\n",
              "      <th>Fare</th>\n",
              "      <th>Embarked</th>\n",
              "    </tr>\n",
              "  </thead>\n",
              "  <tbody>\n",
              "    <tr>\n",
              "      <th>0</th>\n",
              "      <td>0</td>\n",
              "      <td>3</td>\n",
              "      <td>0</td>\n",
              "      <td>22.0</td>\n",
              "      <td>1</td>\n",
              "      <td>0</td>\n",
              "      <td>7.2500</td>\n",
              "      <td>0</td>\n",
              "    </tr>\n",
              "    <tr>\n",
              "      <th>1</th>\n",
              "      <td>1</td>\n",
              "      <td>1</td>\n",
              "      <td>1</td>\n",
              "      <td>38.0</td>\n",
              "      <td>1</td>\n",
              "      <td>0</td>\n",
              "      <td>71.2833</td>\n",
              "      <td>1</td>\n",
              "    </tr>\n",
              "    <tr>\n",
              "      <th>2</th>\n",
              "      <td>1</td>\n",
              "      <td>3</td>\n",
              "      <td>1</td>\n",
              "      <td>26.0</td>\n",
              "      <td>0</td>\n",
              "      <td>0</td>\n",
              "      <td>7.9250</td>\n",
              "      <td>0</td>\n",
              "    </tr>\n",
              "    <tr>\n",
              "      <th>3</th>\n",
              "      <td>1</td>\n",
              "      <td>1</td>\n",
              "      <td>1</td>\n",
              "      <td>35.0</td>\n",
              "      <td>1</td>\n",
              "      <td>0</td>\n",
              "      <td>53.1000</td>\n",
              "      <td>0</td>\n",
              "    </tr>\n",
              "    <tr>\n",
              "      <th>4</th>\n",
              "      <td>0</td>\n",
              "      <td>3</td>\n",
              "      <td>0</td>\n",
              "      <td>35.0</td>\n",
              "      <td>0</td>\n",
              "      <td>0</td>\n",
              "      <td>8.0500</td>\n",
              "      <td>0</td>\n",
              "    </tr>\n",
              "  </tbody>\n",
              "</table>\n",
              "</div>"
            ],
            "text/plain": [
              "   Survived  Pclass  Sex   Age  SibSp  Parch     Fare  Embarked\n",
              "0         0       3    0  22.0      1      0   7.2500         0\n",
              "1         1       1    1  38.0      1      0  71.2833         1\n",
              "2         1       3    1  26.0      0      0   7.9250         0\n",
              "3         1       1    1  35.0      1      0  53.1000         0\n",
              "4         0       3    0  35.0      0      0   8.0500         0"
            ]
          },
          "metadata": {
            "tags": []
          }
        },
        {
          "output_type": "stream",
          "text": [
            "Index(['male', 'female'], dtype='object')\n",
            "Index(['S', 'C', 'Q'], dtype='object')\n"
          ],
          "name": "stdout"
        }
      ]
    },
    {
      "cell_type": "code",
      "metadata": {
        "id": "z1bQf9H2sB1A",
        "colab_type": "code",
        "colab": {
          "base_uri": "https://localhost:8080/",
          "height": 297
        },
        "outputId": "d45b43db-6e6f-4fcd-8cee-1767ca84c252"
      },
      "source": [
        "display(df_train.describe())"
      ],
      "execution_count": 262,
      "outputs": [
        {
          "output_type": "display_data",
          "data": {
            "text/html": [
              "<div>\n",
              "<style scoped>\n",
              "    .dataframe tbody tr th:only-of-type {\n",
              "        vertical-align: middle;\n",
              "    }\n",
              "\n",
              "    .dataframe tbody tr th {\n",
              "        vertical-align: top;\n",
              "    }\n",
              "\n",
              "    .dataframe thead th {\n",
              "        text-align: right;\n",
              "    }\n",
              "</style>\n",
              "<table border=\"1\" class=\"dataframe\">\n",
              "  <thead>\n",
              "    <tr style=\"text-align: right;\">\n",
              "      <th></th>\n",
              "      <th>Survived</th>\n",
              "      <th>Pclass</th>\n",
              "      <th>Sex</th>\n",
              "      <th>Age</th>\n",
              "      <th>SibSp</th>\n",
              "      <th>Parch</th>\n",
              "      <th>Fare</th>\n",
              "      <th>Embarked</th>\n",
              "    </tr>\n",
              "  </thead>\n",
              "  <tbody>\n",
              "    <tr>\n",
              "      <th>count</th>\n",
              "      <td>891.000000</td>\n",
              "      <td>891.000000</td>\n",
              "      <td>891.000000</td>\n",
              "      <td>714.000000</td>\n",
              "      <td>891.000000</td>\n",
              "      <td>891.000000</td>\n",
              "      <td>891.000000</td>\n",
              "      <td>891.000000</td>\n",
              "    </tr>\n",
              "    <tr>\n",
              "      <th>mean</th>\n",
              "      <td>0.383838</td>\n",
              "      <td>2.308642</td>\n",
              "      <td>0.352413</td>\n",
              "      <td>29.699118</td>\n",
              "      <td>0.523008</td>\n",
              "      <td>0.381594</td>\n",
              "      <td>32.204208</td>\n",
              "      <td>0.359147</td>\n",
              "    </tr>\n",
              "    <tr>\n",
              "      <th>std</th>\n",
              "      <td>0.486592</td>\n",
              "      <td>0.836071</td>\n",
              "      <td>0.477990</td>\n",
              "      <td>14.526497</td>\n",
              "      <td>1.102743</td>\n",
              "      <td>0.806057</td>\n",
              "      <td>49.693429</td>\n",
              "      <td>0.638707</td>\n",
              "    </tr>\n",
              "    <tr>\n",
              "      <th>min</th>\n",
              "      <td>0.000000</td>\n",
              "      <td>1.000000</td>\n",
              "      <td>0.000000</td>\n",
              "      <td>0.420000</td>\n",
              "      <td>0.000000</td>\n",
              "      <td>0.000000</td>\n",
              "      <td>0.000000</td>\n",
              "      <td>-1.000000</td>\n",
              "    </tr>\n",
              "    <tr>\n",
              "      <th>25%</th>\n",
              "      <td>0.000000</td>\n",
              "      <td>2.000000</td>\n",
              "      <td>0.000000</td>\n",
              "      <td>20.125000</td>\n",
              "      <td>0.000000</td>\n",
              "      <td>0.000000</td>\n",
              "      <td>7.910400</td>\n",
              "      <td>0.000000</td>\n",
              "    </tr>\n",
              "    <tr>\n",
              "      <th>50%</th>\n",
              "      <td>0.000000</td>\n",
              "      <td>3.000000</td>\n",
              "      <td>0.000000</td>\n",
              "      <td>28.000000</td>\n",
              "      <td>0.000000</td>\n",
              "      <td>0.000000</td>\n",
              "      <td>14.454200</td>\n",
              "      <td>0.000000</td>\n",
              "    </tr>\n",
              "    <tr>\n",
              "      <th>75%</th>\n",
              "      <td>1.000000</td>\n",
              "      <td>3.000000</td>\n",
              "      <td>1.000000</td>\n",
              "      <td>38.000000</td>\n",
              "      <td>1.000000</td>\n",
              "      <td>0.000000</td>\n",
              "      <td>31.000000</td>\n",
              "      <td>1.000000</td>\n",
              "    </tr>\n",
              "    <tr>\n",
              "      <th>max</th>\n",
              "      <td>1.000000</td>\n",
              "      <td>3.000000</td>\n",
              "      <td>1.000000</td>\n",
              "      <td>80.000000</td>\n",
              "      <td>8.000000</td>\n",
              "      <td>6.000000</td>\n",
              "      <td>512.329200</td>\n",
              "      <td>2.000000</td>\n",
              "    </tr>\n",
              "  </tbody>\n",
              "</table>\n",
              "</div>"
            ],
            "text/plain": [
              "         Survived      Pclass         Sex  ...       Parch        Fare    Embarked\n",
              "count  891.000000  891.000000  891.000000  ...  891.000000  891.000000  891.000000\n",
              "mean     0.383838    2.308642    0.352413  ...    0.381594   32.204208    0.359147\n",
              "std      0.486592    0.836071    0.477990  ...    0.806057   49.693429    0.638707\n",
              "min      0.000000    1.000000    0.000000  ...    0.000000    0.000000   -1.000000\n",
              "25%      0.000000    2.000000    0.000000  ...    0.000000    7.910400    0.000000\n",
              "50%      0.000000    3.000000    0.000000  ...    0.000000   14.454200    0.000000\n",
              "75%      1.000000    3.000000    1.000000  ...    0.000000   31.000000    1.000000\n",
              "max      1.000000    3.000000    1.000000  ...    6.000000  512.329200    2.000000\n",
              "\n",
              "[8 rows x 8 columns]"
            ]
          },
          "metadata": {
            "tags": []
          }
        }
      ]
    },
    {
      "cell_type": "code",
      "metadata": {
        "id": "TficYeE4D1VT",
        "colab_type": "code",
        "colab": {
          "base_uri": "https://localhost:8080/",
          "height": 238
        },
        "outputId": "86f7f157-953b-495f-f54c-dc084b72ac5d"
      },
      "source": [
        "# Convertir variables en numéricas\n",
        "X_test['Sex'], sex = pd.factorize(X_test['Sex'])\n",
        "X_test['Embarked'], embarked = pd.factorize(X_test['Embarked'])\n",
        "display(X_test.head())\n",
        "print(sex)\n",
        "print(embarked)"
      ],
      "execution_count": 263,
      "outputs": [
        {
          "output_type": "display_data",
          "data": {
            "text/html": [
              "<div>\n",
              "<style scoped>\n",
              "    .dataframe tbody tr th:only-of-type {\n",
              "        vertical-align: middle;\n",
              "    }\n",
              "\n",
              "    .dataframe tbody tr th {\n",
              "        vertical-align: top;\n",
              "    }\n",
              "\n",
              "    .dataframe thead th {\n",
              "        text-align: right;\n",
              "    }\n",
              "</style>\n",
              "<table border=\"1\" class=\"dataframe\">\n",
              "  <thead>\n",
              "    <tr style=\"text-align: right;\">\n",
              "      <th></th>\n",
              "      <th>Pclass</th>\n",
              "      <th>Sex</th>\n",
              "      <th>Age</th>\n",
              "      <th>SibSp</th>\n",
              "      <th>Parch</th>\n",
              "      <th>Fare</th>\n",
              "      <th>Embarked</th>\n",
              "    </tr>\n",
              "  </thead>\n",
              "  <tbody>\n",
              "    <tr>\n",
              "      <th>0</th>\n",
              "      <td>3</td>\n",
              "      <td>0</td>\n",
              "      <td>34.5</td>\n",
              "      <td>0</td>\n",
              "      <td>0</td>\n",
              "      <td>7.8292</td>\n",
              "      <td>0</td>\n",
              "    </tr>\n",
              "    <tr>\n",
              "      <th>1</th>\n",
              "      <td>3</td>\n",
              "      <td>1</td>\n",
              "      <td>47.0</td>\n",
              "      <td>1</td>\n",
              "      <td>0</td>\n",
              "      <td>7.0000</td>\n",
              "      <td>1</td>\n",
              "    </tr>\n",
              "    <tr>\n",
              "      <th>2</th>\n",
              "      <td>2</td>\n",
              "      <td>0</td>\n",
              "      <td>62.0</td>\n",
              "      <td>0</td>\n",
              "      <td>0</td>\n",
              "      <td>9.6875</td>\n",
              "      <td>0</td>\n",
              "    </tr>\n",
              "    <tr>\n",
              "      <th>3</th>\n",
              "      <td>3</td>\n",
              "      <td>0</td>\n",
              "      <td>27.0</td>\n",
              "      <td>0</td>\n",
              "      <td>0</td>\n",
              "      <td>8.6625</td>\n",
              "      <td>1</td>\n",
              "    </tr>\n",
              "    <tr>\n",
              "      <th>4</th>\n",
              "      <td>3</td>\n",
              "      <td>1</td>\n",
              "      <td>22.0</td>\n",
              "      <td>1</td>\n",
              "      <td>1</td>\n",
              "      <td>12.2875</td>\n",
              "      <td>1</td>\n",
              "    </tr>\n",
              "  </tbody>\n",
              "</table>\n",
              "</div>"
            ],
            "text/plain": [
              "   Pclass  Sex   Age  SibSp  Parch     Fare  Embarked\n",
              "0       3    0  34.5      0      0   7.8292         0\n",
              "1       3    1  47.0      1      0   7.0000         1\n",
              "2       2    0  62.0      0      0   9.6875         0\n",
              "3       3    0  27.0      0      0   8.6625         1\n",
              "4       3    1  22.0      1      1  12.2875         1"
            ]
          },
          "metadata": {
            "tags": []
          }
        },
        {
          "output_type": "stream",
          "text": [
            "Index(['male', 'female'], dtype='object')\n",
            "Index(['Q', 'S', 'C'], dtype='object')\n"
          ],
          "name": "stdout"
        }
      ]
    },
    {
      "cell_type": "code",
      "metadata": {
        "id": "H-zP15nxEAFc",
        "colab_type": "code",
        "colab": {
          "base_uri": "https://localhost:8080/",
          "height": 297
        },
        "outputId": "4a02fd7a-005d-4c72-f9a6-ec29be514501"
      },
      "source": [
        "display(X_test.describe())"
      ],
      "execution_count": 264,
      "outputs": [
        {
          "output_type": "display_data",
          "data": {
            "text/html": [
              "<div>\n",
              "<style scoped>\n",
              "    .dataframe tbody tr th:only-of-type {\n",
              "        vertical-align: middle;\n",
              "    }\n",
              "\n",
              "    .dataframe tbody tr th {\n",
              "        vertical-align: top;\n",
              "    }\n",
              "\n",
              "    .dataframe thead th {\n",
              "        text-align: right;\n",
              "    }\n",
              "</style>\n",
              "<table border=\"1\" class=\"dataframe\">\n",
              "  <thead>\n",
              "    <tr style=\"text-align: right;\">\n",
              "      <th></th>\n",
              "      <th>Pclass</th>\n",
              "      <th>Sex</th>\n",
              "      <th>Age</th>\n",
              "      <th>SibSp</th>\n",
              "      <th>Parch</th>\n",
              "      <th>Fare</th>\n",
              "      <th>Embarked</th>\n",
              "    </tr>\n",
              "  </thead>\n",
              "  <tbody>\n",
              "    <tr>\n",
              "      <th>count</th>\n",
              "      <td>418.000000</td>\n",
              "      <td>418.000000</td>\n",
              "      <td>332.000000</td>\n",
              "      <td>418.000000</td>\n",
              "      <td>418.000000</td>\n",
              "      <td>417.000000</td>\n",
              "      <td>418.000000</td>\n",
              "    </tr>\n",
              "    <tr>\n",
              "      <th>mean</th>\n",
              "      <td>2.265550</td>\n",
              "      <td>0.363636</td>\n",
              "      <td>30.272590</td>\n",
              "      <td>0.447368</td>\n",
              "      <td>0.392344</td>\n",
              "      <td>35.627188</td>\n",
              "      <td>1.133971</td>\n",
              "    </tr>\n",
              "    <tr>\n",
              "      <th>std</th>\n",
              "      <td>0.841838</td>\n",
              "      <td>0.481622</td>\n",
              "      <td>14.181209</td>\n",
              "      <td>0.896760</td>\n",
              "      <td>0.981429</td>\n",
              "      <td>55.907576</td>\n",
              "      <td>0.580452</td>\n",
              "    </tr>\n",
              "    <tr>\n",
              "      <th>min</th>\n",
              "      <td>1.000000</td>\n",
              "      <td>0.000000</td>\n",
              "      <td>0.170000</td>\n",
              "      <td>0.000000</td>\n",
              "      <td>0.000000</td>\n",
              "      <td>0.000000</td>\n",
              "      <td>0.000000</td>\n",
              "    </tr>\n",
              "    <tr>\n",
              "      <th>25%</th>\n",
              "      <td>1.000000</td>\n",
              "      <td>0.000000</td>\n",
              "      <td>21.000000</td>\n",
              "      <td>0.000000</td>\n",
              "      <td>0.000000</td>\n",
              "      <td>7.895800</td>\n",
              "      <td>1.000000</td>\n",
              "    </tr>\n",
              "    <tr>\n",
              "      <th>50%</th>\n",
              "      <td>3.000000</td>\n",
              "      <td>0.000000</td>\n",
              "      <td>27.000000</td>\n",
              "      <td>0.000000</td>\n",
              "      <td>0.000000</td>\n",
              "      <td>14.454200</td>\n",
              "      <td>1.000000</td>\n",
              "    </tr>\n",
              "    <tr>\n",
              "      <th>75%</th>\n",
              "      <td>3.000000</td>\n",
              "      <td>1.000000</td>\n",
              "      <td>39.000000</td>\n",
              "      <td>1.000000</td>\n",
              "      <td>0.000000</td>\n",
              "      <td>31.500000</td>\n",
              "      <td>1.000000</td>\n",
              "    </tr>\n",
              "    <tr>\n",
              "      <th>max</th>\n",
              "      <td>3.000000</td>\n",
              "      <td>1.000000</td>\n",
              "      <td>76.000000</td>\n",
              "      <td>8.000000</td>\n",
              "      <td>9.000000</td>\n",
              "      <td>512.329200</td>\n",
              "      <td>2.000000</td>\n",
              "    </tr>\n",
              "  </tbody>\n",
              "</table>\n",
              "</div>"
            ],
            "text/plain": [
              "           Pclass         Sex         Age  ...       Parch        Fare    Embarked\n",
              "count  418.000000  418.000000  332.000000  ...  418.000000  417.000000  418.000000\n",
              "mean     2.265550    0.363636   30.272590  ...    0.392344   35.627188    1.133971\n",
              "std      0.841838    0.481622   14.181209  ...    0.981429   55.907576    0.580452\n",
              "min      1.000000    0.000000    0.170000  ...    0.000000    0.000000    0.000000\n",
              "25%      1.000000    0.000000   21.000000  ...    0.000000    7.895800    1.000000\n",
              "50%      3.000000    0.000000   27.000000  ...    0.000000   14.454200    1.000000\n",
              "75%      3.000000    1.000000   39.000000  ...    0.000000   31.500000    1.000000\n",
              "max      3.000000    1.000000   76.000000  ...    9.000000  512.329200    2.000000\n",
              "\n",
              "[8 rows x 7 columns]"
            ]
          },
          "metadata": {
            "tags": []
          }
        }
      ]
    },
    {
      "cell_type": "markdown",
      "metadata": {
        "id": "q4Y5zhTS6qqZ",
        "colab_type": "text"
      },
      "source": [
        "# Valores perdidos"
      ]
    },
    {
      "cell_type": "code",
      "metadata": {
        "id": "szoUMj_q6uw6",
        "colab_type": "code",
        "colab": {
          "base_uri": "https://localhost:8080/",
          "height": 297
        },
        "outputId": "05c561f7-360e-48f6-c22e-5b3591ec3177"
      },
      "source": [
        "# https://scikit-learn.org/stable/modules/impute.html\n",
        "# https://scikit-learn.org/dev/modules/generated/sklearn.impute.KNNImputer.html\n",
        "\n",
        "# Se asigna a la variable imp un objeto del tipo KNNImputer\n",
        "imp = KNNImputer()\n",
        "\n",
        "# Se aplica la transformación para cada atributo\n",
        "df_train['Age'] = pd.DataFrame(imp.fit_transform(df_train[['Age']]), columns = ['Age'])\n",
        "\n",
        "# Se analiza la distribución del dataframe\n",
        "display(df_train.describe())"
      ],
      "execution_count": 265,
      "outputs": [
        {
          "output_type": "display_data",
          "data": {
            "text/html": [
              "<div>\n",
              "<style scoped>\n",
              "    .dataframe tbody tr th:only-of-type {\n",
              "        vertical-align: middle;\n",
              "    }\n",
              "\n",
              "    .dataframe tbody tr th {\n",
              "        vertical-align: top;\n",
              "    }\n",
              "\n",
              "    .dataframe thead th {\n",
              "        text-align: right;\n",
              "    }\n",
              "</style>\n",
              "<table border=\"1\" class=\"dataframe\">\n",
              "  <thead>\n",
              "    <tr style=\"text-align: right;\">\n",
              "      <th></th>\n",
              "      <th>Survived</th>\n",
              "      <th>Pclass</th>\n",
              "      <th>Sex</th>\n",
              "      <th>Age</th>\n",
              "      <th>SibSp</th>\n",
              "      <th>Parch</th>\n",
              "      <th>Fare</th>\n",
              "      <th>Embarked</th>\n",
              "    </tr>\n",
              "  </thead>\n",
              "  <tbody>\n",
              "    <tr>\n",
              "      <th>count</th>\n",
              "      <td>891.000000</td>\n",
              "      <td>891.000000</td>\n",
              "      <td>891.000000</td>\n",
              "      <td>891.000000</td>\n",
              "      <td>891.000000</td>\n",
              "      <td>891.000000</td>\n",
              "      <td>891.000000</td>\n",
              "      <td>891.000000</td>\n",
              "    </tr>\n",
              "    <tr>\n",
              "      <th>mean</th>\n",
              "      <td>0.383838</td>\n",
              "      <td>2.308642</td>\n",
              "      <td>0.352413</td>\n",
              "      <td>29.699118</td>\n",
              "      <td>0.523008</td>\n",
              "      <td>0.381594</td>\n",
              "      <td>32.204208</td>\n",
              "      <td>0.359147</td>\n",
              "    </tr>\n",
              "    <tr>\n",
              "      <th>std</th>\n",
              "      <td>0.486592</td>\n",
              "      <td>0.836071</td>\n",
              "      <td>0.477990</td>\n",
              "      <td>13.002015</td>\n",
              "      <td>1.102743</td>\n",
              "      <td>0.806057</td>\n",
              "      <td>49.693429</td>\n",
              "      <td>0.638707</td>\n",
              "    </tr>\n",
              "    <tr>\n",
              "      <th>min</th>\n",
              "      <td>0.000000</td>\n",
              "      <td>1.000000</td>\n",
              "      <td>0.000000</td>\n",
              "      <td>0.420000</td>\n",
              "      <td>0.000000</td>\n",
              "      <td>0.000000</td>\n",
              "      <td>0.000000</td>\n",
              "      <td>-1.000000</td>\n",
              "    </tr>\n",
              "    <tr>\n",
              "      <th>25%</th>\n",
              "      <td>0.000000</td>\n",
              "      <td>2.000000</td>\n",
              "      <td>0.000000</td>\n",
              "      <td>22.000000</td>\n",
              "      <td>0.000000</td>\n",
              "      <td>0.000000</td>\n",
              "      <td>7.910400</td>\n",
              "      <td>0.000000</td>\n",
              "    </tr>\n",
              "    <tr>\n",
              "      <th>50%</th>\n",
              "      <td>0.000000</td>\n",
              "      <td>3.000000</td>\n",
              "      <td>0.000000</td>\n",
              "      <td>29.699118</td>\n",
              "      <td>0.000000</td>\n",
              "      <td>0.000000</td>\n",
              "      <td>14.454200</td>\n",
              "      <td>0.000000</td>\n",
              "    </tr>\n",
              "    <tr>\n",
              "      <th>75%</th>\n",
              "      <td>1.000000</td>\n",
              "      <td>3.000000</td>\n",
              "      <td>1.000000</td>\n",
              "      <td>35.000000</td>\n",
              "      <td>1.000000</td>\n",
              "      <td>0.000000</td>\n",
              "      <td>31.000000</td>\n",
              "      <td>1.000000</td>\n",
              "    </tr>\n",
              "    <tr>\n",
              "      <th>max</th>\n",
              "      <td>1.000000</td>\n",
              "      <td>3.000000</td>\n",
              "      <td>1.000000</td>\n",
              "      <td>80.000000</td>\n",
              "      <td>8.000000</td>\n",
              "      <td>6.000000</td>\n",
              "      <td>512.329200</td>\n",
              "      <td>2.000000</td>\n",
              "    </tr>\n",
              "  </tbody>\n",
              "</table>\n",
              "</div>"
            ],
            "text/plain": [
              "         Survived      Pclass         Sex  ...       Parch        Fare    Embarked\n",
              "count  891.000000  891.000000  891.000000  ...  891.000000  891.000000  891.000000\n",
              "mean     0.383838    2.308642    0.352413  ...    0.381594   32.204208    0.359147\n",
              "std      0.486592    0.836071    0.477990  ...    0.806057   49.693429    0.638707\n",
              "min      0.000000    1.000000    0.000000  ...    0.000000    0.000000   -1.000000\n",
              "25%      0.000000    2.000000    0.000000  ...    0.000000    7.910400    0.000000\n",
              "50%      0.000000    3.000000    0.000000  ...    0.000000   14.454200    0.000000\n",
              "75%      1.000000    3.000000    1.000000  ...    0.000000   31.000000    1.000000\n",
              "max      1.000000    3.000000    1.000000  ...    6.000000  512.329200    2.000000\n",
              "\n",
              "[8 rows x 8 columns]"
            ]
          },
          "metadata": {
            "tags": []
          }
        }
      ]
    },
    {
      "cell_type": "code",
      "metadata": {
        "id": "I-s8HnRhEISR",
        "colab_type": "code",
        "colab": {
          "base_uri": "https://localhost:8080/",
          "height": 297
        },
        "outputId": "5990bf02-5fbd-4f87-fe74-7d6a975a9442"
      },
      "source": [
        "# https://scikit-learn.org/stable/modules/impute.html\n",
        "# https://scikit-learn.org/dev/modules/generated/sklearn.impute.KNNImputer.html\n",
        "\n",
        "# Se asigna a la variable imp un objeto del tipo KNNImputer\n",
        "imp = KNNImputer()\n",
        "\n",
        "# Se aplica la transformación para cada atributo\n",
        "X_test['Age'] = pd.DataFrame(imp.fit_transform(X_test[['Age']]), columns = ['Age'])\n",
        "\n",
        "# Se analiza la distribución del dataframe\n",
        "display(X_test.describe())"
      ],
      "execution_count": 266,
      "outputs": [
        {
          "output_type": "display_data",
          "data": {
            "text/html": [
              "<div>\n",
              "<style scoped>\n",
              "    .dataframe tbody tr th:only-of-type {\n",
              "        vertical-align: middle;\n",
              "    }\n",
              "\n",
              "    .dataframe tbody tr th {\n",
              "        vertical-align: top;\n",
              "    }\n",
              "\n",
              "    .dataframe thead th {\n",
              "        text-align: right;\n",
              "    }\n",
              "</style>\n",
              "<table border=\"1\" class=\"dataframe\">\n",
              "  <thead>\n",
              "    <tr style=\"text-align: right;\">\n",
              "      <th></th>\n",
              "      <th>Pclass</th>\n",
              "      <th>Sex</th>\n",
              "      <th>Age</th>\n",
              "      <th>SibSp</th>\n",
              "      <th>Parch</th>\n",
              "      <th>Fare</th>\n",
              "      <th>Embarked</th>\n",
              "    </tr>\n",
              "  </thead>\n",
              "  <tbody>\n",
              "    <tr>\n",
              "      <th>count</th>\n",
              "      <td>418.000000</td>\n",
              "      <td>418.000000</td>\n",
              "      <td>418.000000</td>\n",
              "      <td>418.000000</td>\n",
              "      <td>418.000000</td>\n",
              "      <td>417.000000</td>\n",
              "      <td>418.000000</td>\n",
              "    </tr>\n",
              "    <tr>\n",
              "      <th>mean</th>\n",
              "      <td>2.265550</td>\n",
              "      <td>0.363636</td>\n",
              "      <td>30.272590</td>\n",
              "      <td>0.447368</td>\n",
              "      <td>0.392344</td>\n",
              "      <td>35.627188</td>\n",
              "      <td>1.133971</td>\n",
              "    </tr>\n",
              "    <tr>\n",
              "      <th>std</th>\n",
              "      <td>0.841838</td>\n",
              "      <td>0.481622</td>\n",
              "      <td>12.634534</td>\n",
              "      <td>0.896760</td>\n",
              "      <td>0.981429</td>\n",
              "      <td>55.907576</td>\n",
              "      <td>0.580452</td>\n",
              "    </tr>\n",
              "    <tr>\n",
              "      <th>min</th>\n",
              "      <td>1.000000</td>\n",
              "      <td>0.000000</td>\n",
              "      <td>0.170000</td>\n",
              "      <td>0.000000</td>\n",
              "      <td>0.000000</td>\n",
              "      <td>0.000000</td>\n",
              "      <td>0.000000</td>\n",
              "    </tr>\n",
              "    <tr>\n",
              "      <th>25%</th>\n",
              "      <td>1.000000</td>\n",
              "      <td>0.000000</td>\n",
              "      <td>23.000000</td>\n",
              "      <td>0.000000</td>\n",
              "      <td>0.000000</td>\n",
              "      <td>7.895800</td>\n",
              "      <td>1.000000</td>\n",
              "    </tr>\n",
              "    <tr>\n",
              "      <th>50%</th>\n",
              "      <td>3.000000</td>\n",
              "      <td>0.000000</td>\n",
              "      <td>30.272590</td>\n",
              "      <td>0.000000</td>\n",
              "      <td>0.000000</td>\n",
              "      <td>14.454200</td>\n",
              "      <td>1.000000</td>\n",
              "    </tr>\n",
              "    <tr>\n",
              "      <th>75%</th>\n",
              "      <td>3.000000</td>\n",
              "      <td>1.000000</td>\n",
              "      <td>35.750000</td>\n",
              "      <td>1.000000</td>\n",
              "      <td>0.000000</td>\n",
              "      <td>31.500000</td>\n",
              "      <td>1.000000</td>\n",
              "    </tr>\n",
              "    <tr>\n",
              "      <th>max</th>\n",
              "      <td>3.000000</td>\n",
              "      <td>1.000000</td>\n",
              "      <td>76.000000</td>\n",
              "      <td>8.000000</td>\n",
              "      <td>9.000000</td>\n",
              "      <td>512.329200</td>\n",
              "      <td>2.000000</td>\n",
              "    </tr>\n",
              "  </tbody>\n",
              "</table>\n",
              "</div>"
            ],
            "text/plain": [
              "           Pclass         Sex         Age  ...       Parch        Fare    Embarked\n",
              "count  418.000000  418.000000  418.000000  ...  418.000000  417.000000  418.000000\n",
              "mean     2.265550    0.363636   30.272590  ...    0.392344   35.627188    1.133971\n",
              "std      0.841838    0.481622   12.634534  ...    0.981429   55.907576    0.580452\n",
              "min      1.000000    0.000000    0.170000  ...    0.000000    0.000000    0.000000\n",
              "25%      1.000000    0.000000   23.000000  ...    0.000000    7.895800    1.000000\n",
              "50%      3.000000    0.000000   30.272590  ...    0.000000   14.454200    1.000000\n",
              "75%      3.000000    1.000000   35.750000  ...    0.000000   31.500000    1.000000\n",
              "max      3.000000    1.000000   76.000000  ...    9.000000  512.329200    2.000000\n",
              "\n",
              "[8 rows x 7 columns]"
            ]
          },
          "metadata": {
            "tags": []
          }
        }
      ]
    },
    {
      "cell_type": "markdown",
      "metadata": {
        "id": "usnP1Pp45JcF",
        "colab_type": "text"
      },
      "source": [
        "# Estandarización"
      ]
    },
    {
      "cell_type": "code",
      "metadata": {
        "id": "izp0BtpN5OV4",
        "colab_type": "code",
        "colab": {}
      },
      "source": [
        "df_train = pd.DataFrame(StandardScaler().fit_transform(df_train), \n",
        "                        columns = df_train.columns)"
      ],
      "execution_count": 0,
      "outputs": []
    },
    {
      "cell_type": "code",
      "metadata": {
        "id": "WpcLtDWT5faZ",
        "colab_type": "code",
        "colab": {
          "base_uri": "https://localhost:8080/",
          "height": 297
        },
        "outputId": "b11a67fd-06f3-4d5e-e11f-c75378e75d61"
      },
      "source": [
        "display(df_train.describe())"
      ],
      "execution_count": 268,
      "outputs": [
        {
          "output_type": "display_data",
          "data": {
            "text/html": [
              "<div>\n",
              "<style scoped>\n",
              "    .dataframe tbody tr th:only-of-type {\n",
              "        vertical-align: middle;\n",
              "    }\n",
              "\n",
              "    .dataframe tbody tr th {\n",
              "        vertical-align: top;\n",
              "    }\n",
              "\n",
              "    .dataframe thead th {\n",
              "        text-align: right;\n",
              "    }\n",
              "</style>\n",
              "<table border=\"1\" class=\"dataframe\">\n",
              "  <thead>\n",
              "    <tr style=\"text-align: right;\">\n",
              "      <th></th>\n",
              "      <th>Survived</th>\n",
              "      <th>Pclass</th>\n",
              "      <th>Sex</th>\n",
              "      <th>Age</th>\n",
              "      <th>SibSp</th>\n",
              "      <th>Parch</th>\n",
              "      <th>Fare</th>\n",
              "      <th>Embarked</th>\n",
              "    </tr>\n",
              "  </thead>\n",
              "  <tbody>\n",
              "    <tr>\n",
              "      <th>count</th>\n",
              "      <td>8.910000e+02</td>\n",
              "      <td>8.910000e+02</td>\n",
              "      <td>8.910000e+02</td>\n",
              "      <td>8.910000e+02</td>\n",
              "      <td>8.910000e+02</td>\n",
              "      <td>8.910000e+02</td>\n",
              "      <td>8.910000e+02</td>\n",
              "      <td>8.910000e+02</td>\n",
              "    </tr>\n",
              "    <tr>\n",
              "      <th>mean</th>\n",
              "      <td>-2.287732e-16</td>\n",
              "      <td>-2.031048e-16</td>\n",
              "      <td>3.162453e-16</td>\n",
              "      <td>2.562796e-16</td>\n",
              "      <td>3.456519e-16</td>\n",
              "      <td>6.716164e-17</td>\n",
              "      <td>-4.373606e-17</td>\n",
              "      <td>1.171279e-16</td>\n",
              "    </tr>\n",
              "    <tr>\n",
              "      <th>std</th>\n",
              "      <td>1.000562e+00</td>\n",
              "      <td>1.000562e+00</td>\n",
              "      <td>1.000562e+00</td>\n",
              "      <td>1.000562e+00</td>\n",
              "      <td>1.000562e+00</td>\n",
              "      <td>1.000562e+00</td>\n",
              "      <td>1.000562e+00</td>\n",
              "      <td>1.000562e+00</td>\n",
              "    </tr>\n",
              "    <tr>\n",
              "      <th>min</th>\n",
              "      <td>-7.892723e-01</td>\n",
              "      <td>-1.566107e+00</td>\n",
              "      <td>-7.376951e-01</td>\n",
              "      <td>-2.253155e+00</td>\n",
              "      <td>-4.745452e-01</td>\n",
              "      <td>-4.736736e-01</td>\n",
              "      <td>-6.484217e-01</td>\n",
              "      <td>-2.129160e+00</td>\n",
              "    </tr>\n",
              "    <tr>\n",
              "      <th>25%</th>\n",
              "      <td>-7.892723e-01</td>\n",
              "      <td>-3.693648e-01</td>\n",
              "      <td>-7.376951e-01</td>\n",
              "      <td>-5.924806e-01</td>\n",
              "      <td>-4.745452e-01</td>\n",
              "      <td>-4.736736e-01</td>\n",
              "      <td>-4.891482e-01</td>\n",
              "      <td>-5.626187e-01</td>\n",
              "    </tr>\n",
              "    <tr>\n",
              "      <th>50%</th>\n",
              "      <td>-7.892723e-01</td>\n",
              "      <td>8.273772e-01</td>\n",
              "      <td>-7.376951e-01</td>\n",
              "      <td>0.000000e+00</td>\n",
              "      <td>-4.745452e-01</td>\n",
              "      <td>-4.736736e-01</td>\n",
              "      <td>-3.573909e-01</td>\n",
              "      <td>-5.626187e-01</td>\n",
              "    </tr>\n",
              "    <tr>\n",
              "      <th>75%</th>\n",
              "      <td>1.266990e+00</td>\n",
              "      <td>8.273772e-01</td>\n",
              "      <td>1.355574e+00</td>\n",
              "      <td>4.079260e-01</td>\n",
              "      <td>4.327934e-01</td>\n",
              "      <td>-4.736736e-01</td>\n",
              "      <td>-2.424635e-02</td>\n",
              "      <td>1.003923e+00</td>\n",
              "    </tr>\n",
              "    <tr>\n",
              "      <th>max</th>\n",
              "      <td>1.266990e+00</td>\n",
              "      <td>8.273772e-01</td>\n",
              "      <td>1.355574e+00</td>\n",
              "      <td>3.870872e+00</td>\n",
              "      <td>6.784163e+00</td>\n",
              "      <td>6.974147e+00</td>\n",
              "      <td>9.667167e+00</td>\n",
              "      <td>2.570464e+00</td>\n",
              "    </tr>\n",
              "  </tbody>\n",
              "</table>\n",
              "</div>"
            ],
            "text/plain": [
              "           Survived        Pclass  ...          Fare      Embarked\n",
              "count  8.910000e+02  8.910000e+02  ...  8.910000e+02  8.910000e+02\n",
              "mean  -2.287732e-16 -2.031048e-16  ... -4.373606e-17  1.171279e-16\n",
              "std    1.000562e+00  1.000562e+00  ...  1.000562e+00  1.000562e+00\n",
              "min   -7.892723e-01 -1.566107e+00  ... -6.484217e-01 -2.129160e+00\n",
              "25%   -7.892723e-01 -3.693648e-01  ... -4.891482e-01 -5.626187e-01\n",
              "50%   -7.892723e-01  8.273772e-01  ... -3.573909e-01 -5.626187e-01\n",
              "75%    1.266990e+00  8.273772e-01  ... -2.424635e-02  1.003923e+00\n",
              "max    1.266990e+00  8.273772e-01  ...  9.667167e+00  2.570464e+00\n",
              "\n",
              "[8 rows x 8 columns]"
            ]
          },
          "metadata": {
            "tags": []
          }
        }
      ]
    },
    {
      "cell_type": "code",
      "metadata": {
        "id": "LALpajrOEQ0j",
        "colab_type": "code",
        "colab": {}
      },
      "source": [
        "X_test = pd.DataFrame(StandardScaler().fit_transform(X_test), \n",
        "                        columns = X_test.columns)"
      ],
      "execution_count": 0,
      "outputs": []
    },
    {
      "cell_type": "code",
      "metadata": {
        "id": "ALewQBk0EYGH",
        "colab_type": "code",
        "colab": {
          "base_uri": "https://localhost:8080/",
          "height": 297
        },
        "outputId": "b18b54bb-0ce9-4ab6-e750-8d4c2e182114"
      },
      "source": [
        "display(X_test.describe())"
      ],
      "execution_count": 270,
      "outputs": [
        {
          "output_type": "display_data",
          "data": {
            "text/html": [
              "<div>\n",
              "<style scoped>\n",
              "    .dataframe tbody tr th:only-of-type {\n",
              "        vertical-align: middle;\n",
              "    }\n",
              "\n",
              "    .dataframe tbody tr th {\n",
              "        vertical-align: top;\n",
              "    }\n",
              "\n",
              "    .dataframe thead th {\n",
              "        text-align: right;\n",
              "    }\n",
              "</style>\n",
              "<table border=\"1\" class=\"dataframe\">\n",
              "  <thead>\n",
              "    <tr style=\"text-align: right;\">\n",
              "      <th></th>\n",
              "      <th>Pclass</th>\n",
              "      <th>Sex</th>\n",
              "      <th>Age</th>\n",
              "      <th>SibSp</th>\n",
              "      <th>Parch</th>\n",
              "      <th>Fare</th>\n",
              "      <th>Embarked</th>\n",
              "    </tr>\n",
              "  </thead>\n",
              "  <tbody>\n",
              "    <tr>\n",
              "      <th>count</th>\n",
              "      <td>4.180000e+02</td>\n",
              "      <td>4.180000e+02</td>\n",
              "      <td>4.180000e+02</td>\n",
              "      <td>4.180000e+02</td>\n",
              "      <td>4.180000e+02</td>\n",
              "      <td>4.170000e+02</td>\n",
              "      <td>4.180000e+02</td>\n",
              "    </tr>\n",
              "    <tr>\n",
              "      <th>mean</th>\n",
              "      <td>-2.018587e-17</td>\n",
              "      <td>-1.859225e-17</td>\n",
              "      <td>1.328018e-17</td>\n",
              "      <td>-1.593622e-17</td>\n",
              "      <td>-1.407699e-16</td>\n",
              "      <td>-5.258251e-17</td>\n",
              "      <td>8.499315e-18</td>\n",
              "    </tr>\n",
              "    <tr>\n",
              "      <th>std</th>\n",
              "      <td>1.001198e+00</td>\n",
              "      <td>1.001198e+00</td>\n",
              "      <td>1.001198e+00</td>\n",
              "      <td>1.001198e+00</td>\n",
              "      <td>1.001198e+00</td>\n",
              "      <td>1.001201e+00</td>\n",
              "      <td>1.001198e+00</td>\n",
              "    </tr>\n",
              "    <tr>\n",
              "      <th>min</th>\n",
              "      <td>-1.505120e+00</td>\n",
              "      <td>-7.559289e-01</td>\n",
              "      <td>-2.385419e+00</td>\n",
              "      <td>-4.994700e-01</td>\n",
              "      <td>-4.002477e-01</td>\n",
              "      <td>-6.380170e-01</td>\n",
              "      <td>-1.955941e+00</td>\n",
              "    </tr>\n",
              "    <tr>\n",
              "      <th>25%</th>\n",
              "      <td>-1.505120e+00</td>\n",
              "      <td>-7.559289e-01</td>\n",
              "      <td>-5.763018e-01</td>\n",
              "      <td>-4.994700e-01</td>\n",
              "      <td>-4.002477e-01</td>\n",
              "      <td>-4.966178e-01</td>\n",
              "      <td>-2.310816e-01</td>\n",
              "    </tr>\n",
              "    <tr>\n",
              "      <th>50%</th>\n",
              "      <td>8.734819e-01</td>\n",
              "      <td>-7.559289e-01</td>\n",
              "      <td>0.000000e+00</td>\n",
              "      <td>-4.994700e-01</td>\n",
              "      <td>-4.002477e-01</td>\n",
              "      <td>-3.791690e-01</td>\n",
              "      <td>-2.310816e-01</td>\n",
              "    </tr>\n",
              "    <tr>\n",
              "      <th>75%</th>\n",
              "      <td>8.734819e-01</td>\n",
              "      <td>1.322876e+00</td>\n",
              "      <td>4.340463e-01</td>\n",
              "      <td>6.169924e-01</td>\n",
              "      <td>-4.002477e-01</td>\n",
              "      <td>-7.391031e-02</td>\n",
              "      <td>-2.310816e-01</td>\n",
              "    </tr>\n",
              "    <tr>\n",
              "      <th>max</th>\n",
              "      <td>8.734819e-01</td>\n",
              "      <td>1.322876e+00</td>\n",
              "      <td>3.623577e+00</td>\n",
              "      <td>8.432229e+00</td>\n",
              "      <td>8.781044e+00</td>\n",
              "      <td>8.536851e+00</td>\n",
              "      <td>1.493778e+00</td>\n",
              "    </tr>\n",
              "  </tbody>\n",
              "</table>\n",
              "</div>"
            ],
            "text/plain": [
              "             Pclass           Sex  ...          Fare      Embarked\n",
              "count  4.180000e+02  4.180000e+02  ...  4.170000e+02  4.180000e+02\n",
              "mean  -2.018587e-17 -1.859225e-17  ... -5.258251e-17  8.499315e-18\n",
              "std    1.001198e+00  1.001198e+00  ...  1.001201e+00  1.001198e+00\n",
              "min   -1.505120e+00 -7.559289e-01  ... -6.380170e-01 -1.955941e+00\n",
              "25%   -1.505120e+00 -7.559289e-01  ... -4.966178e-01 -2.310816e-01\n",
              "50%    8.734819e-01 -7.559289e-01  ... -3.791690e-01 -2.310816e-01\n",
              "75%    8.734819e-01  1.322876e+00  ... -7.391031e-02 -2.310816e-01\n",
              "max    8.734819e-01  1.322876e+00  ...  8.536851e+00  1.493778e+00\n",
              "\n",
              "[8 rows x 7 columns]"
            ]
          },
          "metadata": {
            "tags": []
          }
        }
      ]
    },
    {
      "cell_type": "markdown",
      "metadata": {
        "id": "6QcwOlmFsAWq",
        "colab_type": "text"
      },
      "source": [
        "# Análisis de normalidad y homogeneidad de la varianza y valores extremos"
      ]
    },
    {
      "cell_type": "code",
      "metadata": {
        "id": "_2eSzyqCsMFk",
        "colab_type": "code",
        "colab": {
          "base_uri": "https://localhost:8080/",
          "height": 279
        },
        "outputId": "74d23064-071e-4693-c688-9f491c94b32c"
      },
      "source": [
        "# Age\n",
        "plot = sns.distplot(df_train['Age']);"
      ],
      "execution_count": 271,
      "outputs": [
        {
          "output_type": "display_data",
          "data": {
            "image/png": "[encoded data removed]",
            "text/plain": [
              "<Figure size 432x288 with 1 Axes>"
            ]
          },
          "metadata": {
            "tags": [],
            "needs_background": "light"
          }
        }
      ]
    },
    {
      "cell_type": "code",
      "metadata": {
        "id": "STr975QDs09K",
        "colab_type": "code",
        "colab": {
          "base_uri": "https://localhost:8080/",
          "height": 281
        },
        "outputId": "6a01e2da-4d7d-481a-98a8-02604861ca91"
      },
      "source": [
        "plot = sns.distplot(df_train['Fare']);"
      ],
      "execution_count": 272,
      "outputs": [
        {
          "output_type": "display_data",
          "data": {
            "image/png": "[encoded data removed]",
            "text/plain": [
              "<Figure size 432x288 with 1 Axes>"
            ]
          },
          "metadata": {
            "tags": [],
            "needs_background": "light"
          }
        }
      ]
    },
    {
      "cell_type": "markdown",
      "metadata": {
        "id": "zddc4RrCquqj",
        "colab_type": "text"
      },
      "source": [
        "# Análisis de correlación"
      ]
    },
    {
      "cell_type": "code",
      "metadata": {
        "id": "goolCstyp5yy",
        "colab_type": "code",
        "colab": {
          "base_uri": "https://localhost:8080/",
          "height": 537
        },
        "outputId": "e240cc8b-dc8b-48f9-dbfb-0335eb157f0c"
      },
      "source": [
        "# https://seaborn.pydata.org/examples/many_pairwise_correlations.html\n",
        "# Compute the correlation matrix\n",
        "corr = df_train.corr()\n",
        "\n",
        "# Generate a mask for the upper triangle\n",
        "mask = np.triu(np.ones_like(corr, dtype=np.bool))\n",
        "\n",
        "# Set up the matplotlib figure\n",
        "f, ax = plt.subplots(figsize=(11, 9))\n",
        "\n",
        "# Generate a custom diverging colormap\n",
        "cmap = sns.diverging_palette(220, 10, as_cmap=True)\n",
        "\n",
        "# Draw the heatmap with the mask and correct aspect ratio\n",
        "plot = sns.heatmap(corr, mask=mask, cmap=cmap, vmax=.3, center=0,\n",
        "            square=True, linewidths=.5, cbar_kws={\"shrink\": .5})"
      ],
      "execution_count": 273,
      "outputs": [
        {
          "output_type": "display_data",
          "data": {
            "image/png": "[encoded data removed]",
            "text/plain": [
              "<Figure size 792x648 with 2 Axes>"
            ]
          },
          "metadata": {
            "tags": [],
            "needs_background": "light"
          }
        }
      ]
    },
    {
      "cell_type": "code",
      "metadata": {
        "id": "ffvjFBUMt0De",
        "colab_type": "code",
        "colab": {
          "base_uri": "https://localhost:8080/",
          "height": 441
        },
        "outputId": "f4886a6e-89d4-43ac-fca0-bb79094bd129"
      },
      "source": [
        "# https://seaborn.pydata.org/tutorial/regression.html\n",
        "sns.jointplot(x=\"Age\", y=\"Fare\", kind=\"reg\", data=df_train);"
      ],
      "execution_count": 274,
      "outputs": [
        {
          "output_type": "display_data",
          "data": {
            "image/png": "[encoded data removed]",
            "text/plain": [
              "<Figure size 432x432 with 3 Axes>"
            ]
          },
          "metadata": {
            "tags": [],
            "needs_background": "light"
          }
        }
      ]
    },
    {
      "cell_type": "markdown",
      "metadata": {
        "id": "HGa9uiU5uzin",
        "colab_type": "text"
      },
      "source": [
        "# Modelado"
      ]
    },
    {
      "cell_type": "code",
      "metadata": {
        "id": "HSUgD4q6vlbn",
        "colab_type": "code",
        "colab": {}
      },
      "source": [
        "# Preparar datos para ML\n",
        "def split_train_validation(X, y):\n",
        "  X_train, X_val, y_train, y_val = train_test_split(X, y, test_size=0.2, random_state=1)\n",
        "  return X_train, y_train, X_val, y_val"
      ],
      "execution_count": 0,
      "outputs": []
    },
    {
      "cell_type": "code",
      "metadata": {
        "id": "lVHjvXzSu1ff",
        "colab_type": "code",
        "colab": {}
      },
      "source": [
        "# ML Model train\n",
        "# https://machinelearningmastery.com/how-to-stop-training-deep-neural-networks-at-the-right-time-using-early-stopping/\n",
        "def train_ml_model(model, X_train, y_train, X_val, y_val, epochs=20, batch_size=1, patience=0, shuffle=True, stateful=False):\n",
        "  if stateful:\n",
        "    # fit model\n",
        "    for i in range(epochs):\n",
        "      model.fit(X_train, y_train, validation_data=(X_val, y_val), epochs=1, batch_size=batch_size, verbose=1, shuffle=shuffle)\n",
        "      model.reset_states()\n",
        "\n",
        "    # Estimate model performance\n",
        "    trainScore = model.evaluate(X_train, y_train, batch_size=batch_size, verbose=0)\n",
        "    model.reset_states()\n",
        "    valScore = model.evaluate(X_val, y_val, batch_size=batch_size, verbose=0)\n",
        "    model.reset_states()\n",
        "\n",
        "  else:\n",
        "    # patient early stopping\n",
        "    es = EarlyStopping(monitor='val_loss', mode='min', verbose=1, patience=patience)\n",
        "    mc = ModelCheckpoint('best_model.h5', monitor='val_loss', mode='min', verbose=0, save_best_only=True)\n",
        "    tb = TensorBoard(\"/tmp/TensorBoard/keras\")\n",
        "\n",
        "    # fit model\n",
        "    history = model.fit(X_train, y_train, validation_data=(X_val, y_val), epochs=epochs, batch_size=batch_size, verbose=1, shuffle=shuffle, callbacks=[es, mc, tb])\n",
        "\n",
        "    # load the saved model\n",
        "    model = load_model('best_model.h5')\n",
        "\n",
        "    # plot training history\n",
        "    plt.plot(history.history['loss'], label='train')\n",
        "    plt.plot(history.history['val_loss'], label='val')\n",
        "    plt.legend()\n",
        "    plt.show()\n",
        "  \n",
        "    # Estimate model performance\n",
        "    trainScore = model.evaluate(X_train, y_train, batch_size=batch_size, verbose=0)\n",
        "    valScore = model.evaluate(X_val, y_val, batch_size=batch_size, verbose=0)\n",
        "  \n",
        "  print('Train MSE: %.3f' % trainScore)\n",
        "  print('Validation MSE: %.3f' % valScore)\n",
        "  \n",
        "  return model"
      ],
      "execution_count": 0,
      "outputs": []
    },
    {
      "cell_type": "code",
      "metadata": {
        "id": "Xef_UtJ2veEZ",
        "colab_type": "code",
        "colab": {}
      },
      "source": [
        "# Red neuronal densa\n",
        "# https://machinelearningmastery.com/binary-classification-tutorial-with-the-keras-deep-learning-library/\n",
        "# @tf.function\n",
        "def dense_nn(X, y, epochs=200, batch_size=1, loss='mse', lr=0.0001, patience=10, shuffle=True, stateful=False):\n",
        "  \n",
        "  X_train, y_train, X_val, y_val = split_train_validation(X, y)\n",
        "\n",
        "  n_input =  X_train.shape[1]\n",
        "  n_output = y_train.shape[1]\n",
        "  \n",
        "  model = Sequential([\n",
        "      Dense(n_input, input_dim=n_input, activation='relu'),\n",
        "      Dense(60, activation='sigmoid'),\n",
        "      Dense(n_output)\n",
        "  ])\n",
        "  \n",
        "  optimizer = Adam(lr=lr, beta_1=0.9, beta_2=0.999, epsilon=None, decay=0.0, amsgrad=False)\n",
        "  model.compile(loss=loss, optimizer=optimizer)\n",
        "  \n",
        "  model = train_ml_model(model, X_train, y_train, X_val, y_val, epochs, batch_size, patience, shuffle, stateful)\n",
        "  \n",
        "  return model"
      ],
      "execution_count": 0,
      "outputs": []
    },
    {
      "cell_type": "code",
      "metadata": {
        "id": "o_MSlFfIvbZB",
        "colab_type": "code",
        "colab": {}
      },
      "source": [
        "# ML Model predict\n",
        "def predict_with_ml_model(model, X_test, batch_size=1, stateful=False):\n",
        "  y_pred = model.predict(X_test, batch_size=batch_size)\n",
        "  if stateful:\n",
        "    model.reset_states()\n",
        "\n",
        "  predictions = []\n",
        "  for pred in y_pred:\n",
        "    if pred > 0:\n",
        "      predictions.append(1)\n",
        "    else:\n",
        "      predictions.append(0)\n",
        "      \n",
        "  return predictions"
      ],
      "execution_count": 0,
      "outputs": []
    },
    {
      "cell_type": "code",
      "metadata": {
        "id": "IJbXogW-__vi",
        "colab_type": "code",
        "colab": {
          "base_uri": "https://localhost:8080/",
          "height": 221
        },
        "outputId": "a99ed670-3c8a-4bf4-88c0-36423cc9e342"
      },
      "source": [
        "X = df_train.drop(columns=['Survived'])\n",
        "display(X.head())\n",
        "print(X.shape)"
      ],
      "execution_count": 279,
      "outputs": [
        {
          "output_type": "display_data",
          "data": {
            "text/html": [
              "<div>\n",
              "<style scoped>\n",
              "    .dataframe tbody tr th:only-of-type {\n",
              "        vertical-align: middle;\n",
              "    }\n",
              "\n",
              "    .dataframe tbody tr th {\n",
              "        vertical-align: top;\n",
              "    }\n",
              "\n",
              "    .dataframe thead th {\n",
              "        text-align: right;\n",
              "    }\n",
              "</style>\n",
              "<table border=\"1\" class=\"dataframe\">\n",
              "  <thead>\n",
              "    <tr style=\"text-align: right;\">\n",
              "      <th></th>\n",
              "      <th>Pclass</th>\n",
              "      <th>Sex</th>\n",
              "      <th>Age</th>\n",
              "      <th>SibSp</th>\n",
              "      <th>Parch</th>\n",
              "      <th>Fare</th>\n",
              "      <th>Embarked</th>\n",
              "    </tr>\n",
              "  </thead>\n",
              "  <tbody>\n",
              "    <tr>\n",
              "      <th>0</th>\n",
              "      <td>0.827377</td>\n",
              "      <td>-0.737695</td>\n",
              "      <td>-0.592481</td>\n",
              "      <td>0.432793</td>\n",
              "      <td>-0.473674</td>\n",
              "      <td>-0.502445</td>\n",
              "      <td>-0.562619</td>\n",
              "    </tr>\n",
              "    <tr>\n",
              "      <th>1</th>\n",
              "      <td>-1.566107</td>\n",
              "      <td>1.355574</td>\n",
              "      <td>0.638789</td>\n",
              "      <td>0.432793</td>\n",
              "      <td>-0.473674</td>\n",
              "      <td>0.786845</td>\n",
              "      <td>1.003923</td>\n",
              "    </tr>\n",
              "    <tr>\n",
              "      <th>2</th>\n",
              "      <td>0.827377</td>\n",
              "      <td>1.355574</td>\n",
              "      <td>-0.284663</td>\n",
              "      <td>-0.474545</td>\n",
              "      <td>-0.473674</td>\n",
              "      <td>-0.488854</td>\n",
              "      <td>-0.562619</td>\n",
              "    </tr>\n",
              "    <tr>\n",
              "      <th>3</th>\n",
              "      <td>-1.566107</td>\n",
              "      <td>1.355574</td>\n",
              "      <td>0.407926</td>\n",
              "      <td>0.432793</td>\n",
              "      <td>-0.473674</td>\n",
              "      <td>0.420730</td>\n",
              "      <td>-0.562619</td>\n",
              "    </tr>\n",
              "    <tr>\n",
              "      <th>4</th>\n",
              "      <td>0.827377</td>\n",
              "      <td>-0.737695</td>\n",
              "      <td>0.407926</td>\n",
              "      <td>-0.474545</td>\n",
              "      <td>-0.473674</td>\n",
              "      <td>-0.486337</td>\n",
              "      <td>-0.562619</td>\n",
              "    </tr>\n",
              "  </tbody>\n",
              "</table>\n",
              "</div>"
            ],
            "text/plain": [
              "     Pclass       Sex       Age     SibSp     Parch      Fare  Embarked\n",
              "0  0.827377 -0.737695 -0.592481  0.432793 -0.473674 -0.502445 -0.562619\n",
              "1 -1.566107  1.355574  0.638789  0.432793 -0.473674  0.786845  1.003923\n",
              "2  0.827377  1.355574 -0.284663 -0.474545 -0.473674 -0.488854 -0.562619\n",
              "3 -1.566107  1.355574  0.407926  0.432793 -0.473674  0.420730 -0.562619\n",
              "4  0.827377 -0.737695  0.407926 -0.474545 -0.473674 -0.486337 -0.562619"
            ]
          },
          "metadata": {
            "tags": []
          }
        },
        {
          "output_type": "stream",
          "text": [
            "(891, 7)\n"
          ],
          "name": "stdout"
        }
      ]
    },
    {
      "cell_type": "code",
      "metadata": {
        "id": "6vX-_akIAEy0",
        "colab_type": "code",
        "colab": {
          "base_uri": "https://localhost:8080/",
          "height": 221
        },
        "outputId": "54f502a8-3899-451b-ebb7-7791b4a1f903"
      },
      "source": [
        "y = df_train[['Survived']]\n",
        "display(y.head())\n",
        "print(y.shape)"
      ],
      "execution_count": 280,
      "outputs": [
        {
          "output_type": "display_data",
          "data": {
            "text/html": [
              "<div>\n",
              "<style scoped>\n",
              "    .dataframe tbody tr th:only-of-type {\n",
              "        vertical-align: middle;\n",
              "    }\n",
              "\n",
              "    .dataframe tbody tr th {\n",
              "        vertical-align: top;\n",
              "    }\n",
              "\n",
              "    .dataframe thead th {\n",
              "        text-align: right;\n",
              "    }\n",
              "</style>\n",
              "<table border=\"1\" class=\"dataframe\">\n",
              "  <thead>\n",
              "    <tr style=\"text-align: right;\">\n",
              "      <th></th>\n",
              "      <th>Survived</th>\n",
              "    </tr>\n",
              "  </thead>\n",
              "  <tbody>\n",
              "    <tr>\n",
              "      <th>0</th>\n",
              "      <td>-0.789272</td>\n",
              "    </tr>\n",
              "    <tr>\n",
              "      <th>1</th>\n",
              "      <td>1.266990</td>\n",
              "    </tr>\n",
              "    <tr>\n",
              "      <th>2</th>\n",
              "      <td>1.266990</td>\n",
              "    </tr>\n",
              "    <tr>\n",
              "      <th>3</th>\n",
              "      <td>1.266990</td>\n",
              "    </tr>\n",
              "    <tr>\n",
              "      <th>4</th>\n",
              "      <td>-0.789272</td>\n",
              "    </tr>\n",
              "  </tbody>\n",
              "</table>\n",
              "</div>"
            ],
            "text/plain": [
              "   Survived\n",
              "0 -0.789272\n",
              "1  1.266990\n",
              "2  1.266990\n",
              "3  1.266990\n",
              "4 -0.789272"
            ]
          },
          "metadata": {
            "tags": []
          }
        },
        {
          "output_type": "stream",
          "text": [
            "(891, 1)\n"
          ],
          "name": "stdout"
        }
      ]
    },
    {
      "cell_type": "code",
      "metadata": {
        "id": "7S2bc6uRwaTa",
        "colab_type": "code",
        "colab": {
          "base_uri": "https://localhost:8080/",
          "height": 1000
        },
        "outputId": "71640f70-e46b-4f23-8f45-4123666e52a0"
      },
      "source": [
        "model = dense_nn(X, y, epochs=200, lr=0.0001, patience=10)"
      ],
      "execution_count": 306,
      "outputs": [
        {
          "output_type": "stream",
          "text": [
            "Epoch 1/200\n",
            "712/712 [==============================] - 1s 2ms/step - loss: 0.9551 - val_loss: 0.9641\n",
            "Epoch 2/200\n",
            "712/712 [==============================] - 1s 1ms/step - loss: 0.8876 - val_loss: 0.9241\n",
            "Epoch 3/200\n",
            "712/712 [==============================] - 1s 2ms/step - loss: 0.8400 - val_loss: 0.8760\n",
            "Epoch 4/200\n",
            "712/712 [==============================] - 1s 2ms/step - loss: 0.7931 - val_loss: 0.8396\n",
            "Epoch 5/200\n",
            "712/712 [==============================] - 1s 2ms/step - loss: 0.7484 - val_loss: 0.8055\n",
            "Epoch 6/200\n",
            "712/712 [==============================] - 1s 2ms/step - loss: 0.7108 - val_loss: 0.7768\n",
            "Epoch 7/200\n",
            "712/712 [==============================] - 1s 2ms/step - loss: 0.6780 - val_loss: 0.7560\n",
            "Epoch 8/200\n",
            "712/712 [==============================] - 1s 1ms/step - loss: 0.6548 - val_loss: 0.7528\n",
            "Epoch 9/200\n",
            "712/712 [==============================] - 1s 1ms/step - loss: 0.6367 - val_loss: 0.7463\n",
            "Epoch 10/200\n",
            "712/712 [==============================] - 1s 1ms/step - loss: 0.6261 - val_loss: 0.7308\n",
            "Epoch 11/200\n",
            "712/712 [==============================] - 1s 1ms/step - loss: 0.6160 - val_loss: 0.7249\n",
            "Epoch 12/200\n",
            "712/712 [==============================] - 1s 1ms/step - loss: 0.6093 - val_loss: 0.7248\n",
            "Epoch 13/200\n",
            "712/712 [==============================] - 1s 2ms/step - loss: 0.6042 - val_loss: 0.7187\n",
            "Epoch 14/200\n",
            "712/712 [==============================] - 1s 1ms/step - loss: 0.5980 - val_loss: 0.7289\n",
            "Epoch 15/200\n",
            "712/712 [==============================] - 1s 1ms/step - loss: 0.5984 - val_loss: 0.7171\n",
            "Epoch 16/200\n",
            "712/712 [==============================] - 1s 1ms/step - loss: 0.5930 - val_loss: 0.7135\n",
            "Epoch 17/200\n",
            "712/712 [==============================] - 1s 1ms/step - loss: 0.5918 - val_loss: 0.7129\n",
            "Epoch 18/200\n",
            "712/712 [==============================] - 1s 1ms/step - loss: 0.5891 - val_loss: 0.7130\n",
            "Epoch 19/200\n",
            "712/712 [==============================] - 1s 1ms/step - loss: 0.5866 - val_loss: 0.7091\n",
            "Epoch 20/200\n",
            "712/712 [==============================] - 1s 1ms/step - loss: 0.5841 - val_loss: 0.7082\n",
            "Epoch 21/200\n",
            "712/712 [==============================] - 1s 1ms/step - loss: 0.5813 - val_loss: 0.7111\n",
            "Epoch 22/200\n",
            "712/712 [==============================] - 1s 2ms/step - loss: 0.5797 - val_loss: 0.7068\n",
            "Epoch 23/200\n",
            "712/712 [==============================] - 1s 1ms/step - loss: 0.5772 - val_loss: 0.7063\n",
            "Epoch 24/200\n",
            "712/712 [==============================] - 1s 2ms/step - loss: 0.5760 - val_loss: 0.7052\n",
            "Epoch 25/200\n",
            "712/712 [==============================] - 1s 2ms/step - loss: 0.5736 - val_loss: 0.7016\n",
            "Epoch 26/200\n",
            "712/712 [==============================] - 1s 2ms/step - loss: 0.5738 - val_loss: 0.7023\n",
            "Epoch 27/200\n",
            "712/712 [==============================] - 1s 2ms/step - loss: 0.5705 - val_loss: 0.7049\n",
            "Epoch 28/200\n",
            "712/712 [==============================] - 1s 2ms/step - loss: 0.5700 - val_loss: 0.7021\n",
            "Epoch 29/200\n",
            "712/712 [==============================] - 1s 1ms/step - loss: 0.5674 - val_loss: 0.7017\n",
            "Epoch 30/200\n",
            "712/712 [==============================] - 1s 1ms/step - loss: 0.5662 - val_loss: 0.6994\n",
            "Epoch 31/200\n",
            "712/712 [==============================] - 1s 1ms/step - loss: 0.5641 - val_loss: 0.6965\n",
            "Epoch 32/200\n",
            "712/712 [==============================] - 1s 1ms/step - loss: 0.5627 - val_loss: 0.6976\n",
            "Epoch 33/200\n",
            "712/712 [==============================] - 1s 1ms/step - loss: 0.5617 - val_loss: 0.6970\n",
            "Epoch 34/200\n",
            "712/712 [==============================] - 1s 1ms/step - loss: 0.5598 - val_loss: 0.6943\n",
            "Epoch 35/200\n",
            "712/712 [==============================] - 1s 1ms/step - loss: 0.5595 - val_loss: 0.6947\n",
            "Epoch 36/200\n",
            "712/712 [==============================] - 1s 2ms/step - loss: 0.5573 - val_loss: 0.6936\n",
            "Epoch 37/200\n",
            "712/712 [==============================] - 1s 1ms/step - loss: 0.5566 - val_loss: 0.7011\n",
            "Epoch 38/200\n",
            "712/712 [==============================] - 1s 1ms/step - loss: 0.5564 - val_loss: 0.6950\n",
            "Epoch 39/200\n",
            "712/712 [==============================] - 1s 1ms/step - loss: 0.5549 - val_loss: 0.6996\n",
            "Epoch 40/200\n",
            "712/712 [==============================] - 1s 1ms/step - loss: 0.5522 - val_loss: 0.7048\n",
            "Epoch 41/200\n",
            "712/712 [==============================] - 1s 1ms/step - loss: 0.5537 - val_loss: 0.6923\n",
            "Epoch 42/200\n",
            "712/712 [==============================] - 1s 1ms/step - loss: 0.5514 - val_loss: 0.7013\n",
            "Epoch 43/200\n",
            "712/712 [==============================] - 1s 1ms/step - loss: 0.5508 - val_loss: 0.6959\n",
            "Epoch 44/200\n",
            "712/712 [==============================] - 1s 2ms/step - loss: 0.5501 - val_loss: 0.6973\n",
            "Epoch 45/200\n",
            "712/712 [==============================] - 1s 1ms/step - loss: 0.5494 - val_loss: 0.6983\n",
            "Epoch 46/200\n",
            "712/712 [==============================] - 1s 2ms/step - loss: 0.5490 - val_loss: 0.6986\n",
            "Epoch 47/200\n",
            "712/712 [==============================] - 1s 1ms/step - loss: 0.5450 - val_loss: 0.7039\n",
            "Epoch 48/200\n",
            "712/712 [==============================] - 1s 1ms/step - loss: 0.5471 - val_loss: 0.6983\n",
            "Epoch 49/200\n",
            "712/712 [==============================] - 1s 1ms/step - loss: 0.5460 - val_loss: 0.6939\n",
            "Epoch 50/200\n",
            "712/712 [==============================] - 1s 2ms/step - loss: 0.5450 - val_loss: 0.6899\n",
            "Epoch 51/200\n",
            "712/712 [==============================] - 1s 2ms/step - loss: 0.5448 - val_loss: 0.6908\n",
            "Epoch 52/200\n",
            "712/712 [==============================] - 1s 2ms/step - loss: 0.5438 - val_loss: 0.6967\n",
            "Epoch 53/200\n",
            "712/712 [==============================] - 1s 1ms/step - loss: 0.5436 - val_loss: 0.6935\n",
            "Epoch 54/200\n",
            "712/712 [==============================] - 1s 1ms/step - loss: 0.5424 - val_loss: 0.6971\n",
            "Epoch 55/200\n",
            "712/712 [==============================] - 1s 1ms/step - loss: 0.5422 - val_loss: 0.6953\n",
            "Epoch 56/200\n",
            "712/712 [==============================] - 1s 1ms/step - loss: 0.5417 - val_loss: 0.6887\n",
            "Epoch 57/200\n",
            "712/712 [==============================] - 1s 1ms/step - loss: 0.5410 - val_loss: 0.6879\n",
            "Epoch 58/200\n",
            "712/712 [==============================] - 1s 1ms/step - loss: 0.5408 - val_loss: 0.6916\n",
            "Epoch 59/200\n",
            "712/712 [==============================] - 1s 1ms/step - loss: 0.5388 - val_loss: 0.6887\n",
            "Epoch 60/200\n",
            "712/712 [==============================] - 1s 1ms/step - loss: 0.5393 - val_loss: 0.6893\n",
            "Epoch 61/200\n",
            "712/712 [==============================] - 1s 1ms/step - loss: 0.5375 - val_loss: 0.6989\n",
            "Epoch 62/200\n",
            "712/712 [==============================] - 1s 1ms/step - loss: 0.5373 - val_loss: 0.6902\n",
            "Epoch 63/200\n",
            "712/712 [==============================] - 1s 1ms/step - loss: 0.5375 - val_loss: 0.6943\n",
            "Epoch 64/200\n",
            "712/712 [==============================] - 1s 1ms/step - loss: 0.5376 - val_loss: 0.6901\n",
            "Epoch 65/200\n",
            "712/712 [==============================] - 1s 1ms/step - loss: 0.5362 - val_loss: 0.6972\n",
            "Epoch 66/200\n",
            "712/712 [==============================] - 1s 2ms/step - loss: 0.5367 - val_loss: 0.6915\n",
            "Epoch 67/200\n",
            "712/712 [==============================] - 1s 1ms/step - loss: 0.5363 - val_loss: 0.6894\n",
            "Epoch 00067: early stopping\n"
          ],
          "name": "stdout"
        },
        {
          "output_type": "display_data",
          "data": {
            "image/png": "[encoded data removed]",
            "text/plain": [
              "<Figure size 432x288 with 1 Axes>"
            ]
          },
          "metadata": {
            "tags": [],
            "needs_background": "light"
          }
        },
        {
          "output_type": "stream",
          "text": [
            "Train MSE: 0.541\n",
            "Validation MSE: 0.688\n"
          ],
          "name": "stdout"
        }
      ]
    },
    {
      "cell_type": "code",
      "metadata": {
        "id": "7vkDvhMRCz63",
        "colab_type": "code",
        "colab": {
          "base_uri": "https://localhost:8080/",
          "height": 204
        },
        "outputId": "b85f88b7-0913-46c6-ddd9-55f19b4da080"
      },
      "source": [
        "# generate predictions for test\n",
        "df_pred = X_test_orig.copy()\n",
        "df_pred = df_pred[['PassengerId']]\n",
        "df_pred['Survived'] = predict_with_ml_model(model, X_test)\n",
        "  \n",
        "display(df_pred.head())\n",
        "df_pred.to_csv('submission.csv', index=False)  "
      ],
      "execution_count": 307,
      "outputs": [
        {
          "output_type": "display_data",
          "data": {
            "text/html": [
              "<div>\n",
              "<style scoped>\n",
              "    .dataframe tbody tr th:only-of-type {\n",
              "        vertical-align: middle;\n",
              "    }\n",
              "\n",
              "    .dataframe tbody tr th {\n",
              "        vertical-align: top;\n",
              "    }\n",
              "\n",
              "    .dataframe thead th {\n",
              "        text-align: right;\n",
              "    }\n",
              "</style>\n",
              "<table border=\"1\" class=\"dataframe\">\n",
              "  <thead>\n",
              "    <tr style=\"text-align: right;\">\n",
              "      <th></th>\n",
              "      <th>PassengerId</th>\n",
              "      <th>Survived</th>\n",
              "    </tr>\n",
              "  </thead>\n",
              "  <tbody>\n",
              "    <tr>\n",
              "      <th>0</th>\n",
              "      <td>892</td>\n",
              "      <td>0</td>\n",
              "    </tr>\n",
              "    <tr>\n",
              "      <th>1</th>\n",
              "      <td>893</td>\n",
              "      <td>1</td>\n",
              "    </tr>\n",
              "    <tr>\n",
              "      <th>2</th>\n",
              "      <td>894</td>\n",
              "      <td>0</td>\n",
              "    </tr>\n",
              "    <tr>\n",
              "      <th>3</th>\n",
              "      <td>895</td>\n",
              "      <td>0</td>\n",
              "    </tr>\n",
              "    <tr>\n",
              "      <th>4</th>\n",
              "      <td>896</td>\n",
              "      <td>1</td>\n",
              "    </tr>\n",
              "  </tbody>\n",
              "</table>\n",
              "</div>"
            ],
            "text/plain": [
              "   PassengerId  Survived\n",
              "0          892         0\n",
              "1          893         1\n",
              "2          894         0\n",
              "3          895         0\n",
              "4          896         1"
            ]
          },
          "metadata": {
            "tags": []
          }
        }
      ]
    },
    {
      "cell_type": "code",
      "metadata": {
        "id": "1GUOvy37L6zy",
        "colab_type": "code",
        "colab": {
          "base_uri": "https://localhost:8080/",
          "height": 51
        },
        "outputId": "7bc3c05c-0946-48b3-eb7d-d038344246e9"
      },
      "source": [
        "%%bash\n",
        "kaggle competitions submit -c titanic -f submission.csv -m \"New submission test\""
      ],
      "execution_count": 294,
      "outputs": [
        {
          "output_type": "stream",
          "text": [
            "Warning: Looks like you're using an outdated API Version, please consider updating (server 1.5.6 / client 1.5.4)\n",
            "Successfully submitted to Titanic: Machine Learning from Disaster"
          ],
          "name": "stdout"
        },
        {
          "output_type": "stream",
          "text": [
            "\r  0%|          | 0.00/2.77k [00:00<?, ?B/s]\r100%|##########| 2.77k/2.77k [00:03<00:00, 854B/s]\n"
          ],
          "name": "stderr"
        }
      ]
    }
  ]
}