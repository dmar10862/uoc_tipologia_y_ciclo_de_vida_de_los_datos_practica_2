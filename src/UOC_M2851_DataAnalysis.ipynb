{
  "nbformat": 4,
  "nbformat_minor": 0,
  "metadata": {
    "colab": {
      "name": "UOC-M2851-DataAnalysis.ipynb",
      "provenance": [],
      "collapsed_sections": [],
      "authorship_tag": "ABX9TyMBeypiP+actXJDEPjVeQo2",
      "include_colab_link": true
    },
    "kernelspec": {
      "name": "python3",
      "display_name": "Python 3"
    }
  },
  "cells": [
    {
      "cell_type": "markdown",
      "metadata": {
        "id": "view-in-github",
        "colab_type": "text"
      },
      "source": [
        "<a href=\"https://colab.research.google.com/github/dmar10862/uoc_tipologia_y_ciclo_de_vida_de_los_datos_practica_2/blob/develop/src/UOC_M2851_DataAnalysis.ipynb\" target=\"_parent\"><img src=\"https://colab.research.google.com/assets/colab-badge.svg\" alt=\"Open In Colab\"/></a>"
      ]
    },
    {
      "cell_type": "markdown",
      "metadata": {
        "id": "WnhsrUMxp9mH",
        "colab_type": "text"
      },
      "source": [
        "**Practica 2: Limpieza y análisis de datos**\n",
        "\n",
        "M2851 - Tipología y ciclo de vida de los datos\n",
        "\n",
        "Ciencia de Datos\n",
        "\n",
        "**David Marín Sánchez**\n",
        "\n",
        "Junio 2020"
      ]
    },
    {
      "cell_type": "markdown",
      "metadata": {
        "id": "fVa3SNNFfP7S",
        "colab_type": "text"
      },
      "source": [
        "**Kaggle Competition**\n",
        "\n",
        "[Titanic: Machine Learning from Disaster](https://www.kaggle.com/c/titanic/overview)\n",
        "\n",
        "https://www.kaggle.com/ouyangg/titanic"
      ]
    },
    {
      "cell_type": "markdown",
      "metadata": {
        "id": "UgIvNpeB_xZZ",
        "colab_type": "text"
      },
      "source": [
        "# Hyperparametros\n"
      ]
    },
    {
      "cell_type": "code",
      "metadata": {
        "id": "ZDUpIKZ4_zgL",
        "colab_type": "code",
        "colab": {}
      },
      "source": [
        "# Limpieza\n",
        "age_categories = 10\n",
        "fare_categories = 10\n",
        "dimensions_removed = 0\n",
        "\n",
        "# Modelado\n",
        "neurons = 32\n",
        "lr = 0.0002\n",
        "epochs = 200\n",
        "batch_size = 1\n",
        "patience = 10"
      ],
      "execution_count": 0,
      "outputs": []
    },
    {
      "cell_type": "markdown",
      "metadata": {
        "id": "CzHYyhMglcaw",
        "colab_type": "text"
      },
      "source": [
        "# Librerias"
      ]
    },
    {
      "cell_type": "markdown",
      "metadata": {
        "id": "4lP99xCBmozB",
        "colab_type": "text"
      },
      "source": [
        "https://github.com/Kaggle/kaggle-api"
      ]
    },
    {
      "cell_type": "code",
      "metadata": {
        "id": "8yGWffSUlcAX",
        "colab_type": "code",
        "outputId": "91cac8f9-6a2c-458f-847a-4314e70227c2",
        "colab": {
          "base_uri": "https://localhost:8080/",
          "height": 71
        }
      },
      "source": [
        "from google.colab import drive\n",
        "from google.colab import auth\n",
        "import pandas as pd\n",
        "import numpy as np\n",
        "import matplotlib.pyplot as plt\n",
        "import seaborn as sns\n",
        "from math import isnan\n",
        "from sklearn.impute import KNNImputer\n",
        "from sklearn.preprocessing import StandardScaler\n",
        "from sklearn.decomposition import PCA\n",
        "from sklearn.model_selection import train_test_split\n",
        "from sklearn.metrics import accuracy_score, confusion_matrix\n",
        "from sklearn.linear_model import LinearRegression, LogisticRegression\n",
        "from scipy import stats\n",
        "import statsmodels.api as sm\n",
        "import tensorflow as tf\n",
        "from tensorflow.keras.models import Sequential, load_model\n",
        "from tensorflow.keras.layers import Dense, Activation\n",
        "from tensorflow.keras.optimizers import Adam\n",
        "from tensorflow.keras.callbacks import EarlyStopping, ModelCheckpoint"
      ],
      "execution_count": 2,
      "outputs": [
        {
          "output_type": "stream",
          "text": [
            "/usr/local/lib/python3.6/dist-packages/statsmodels/tools/_testing.py:19: FutureWarning: pandas.util.testing is deprecated. Use the functions in the public API at pandas.testing instead.\n",
            "  import pandas.util.testing as tm\n"
          ],
          "name": "stderr"
        }
      ]
    },
    {
      "cell_type": "markdown",
      "metadata": {
        "id": "WSASRXXVALwB",
        "colab_type": "text"
      },
      "source": [
        "# Descargar dataset de Kaggle"
      ]
    },
    {
      "cell_type": "code",
      "metadata": {
        "id": "kSbUb2i2mrZh",
        "colab_type": "code",
        "outputId": "75704d0e-643b-4b6c-96e9-bd118678ab13",
        "colab": {
          "base_uri": "https://localhost:8080/",
          "height": 34
        }
      },
      "source": [
        "# Montar Google Drive\n",
        "drive.mount('/content/drive')"
      ],
      "execution_count": 3,
      "outputs": [
        {
          "output_type": "stream",
          "text": [
            "Drive already mounted at /content/drive; to attempt to forcibly remount, call drive.mount(\"/content/drive\", force_remount=True).\n"
          ],
          "name": "stdout"
        }
      ]
    },
    {
      "cell_type": "code",
      "metadata": {
        "id": "wqxPpBiclgwX",
        "colab_type": "code",
        "outputId": "621b8bfb-4218-45bb-a3d1-d90349e7e924",
        "colab": {
          "base_uri": "https://localhost:8080/",
          "height": 51
        }
      },
      "source": [
        "%%bash\n",
        "# Instalar kaggle\n",
        "pip install -q kaggle\n",
        "\n",
        "# Cargar las credeciales de Kaggle\n",
        "mkdir -p /root/.kaggle\n",
        "cp -a \"/content/drive/My Drive/Credentials/kaggle.json\" /root/.kaggle/kaggle.json\n",
        "ls -l /root/.kaggle"
      ],
      "execution_count": 4,
      "outputs": [
        {
          "output_type": "stream",
          "text": [
            "total 4\n",
            "-rw------- 1 root root 64 May  9 08:42 kaggle.json\n"
          ],
          "name": "stdout"
        }
      ]
    },
    {
      "cell_type": "code",
      "metadata": {
        "id": "AeLUbs0JlUVf",
        "colab_type": "code",
        "outputId": "61765e42-3274-4d95-e52f-fa93b9b735c2",
        "colab": {
          "base_uri": "https://localhost:8080/",
          "height": 187
        }
      },
      "source": [
        "# Descargar dataset\n",
        "%%bash\n",
        "mkdir -p datasets\n",
        "cd datasets\n",
        "kaggle competitions download -c titanic\n",
        "ls -la"
      ],
      "execution_count": 5,
      "outputs": [
        {
          "output_type": "stream",
          "text": [
            "Warning: Looks like you're using an outdated API Version, please consider updating (server 1.5.6 / client 1.5.4)\n",
            "train.csv: Skipping, found more recently modified local copy (use --force to force download)\n",
            "gender_submission.csv: Skipping, found more recently modified local copy (use --force to force download)\n",
            "test.csv: Skipping, found more recently modified local copy (use --force to force download)\n",
            "total 100\n",
            "drwxr-xr-x 2 root root  4096 May 20 07:37 .\n",
            "drwxr-xr-x 1 root root  4096 May 20 07:50 ..\n",
            "-rw-r--r-- 1 root root  3258 May 20 07:37 gender_submission.csv\n",
            "-rw-r--r-- 1 root root 28629 May 20 07:37 test.csv\n",
            "-rw-r--r-- 1 root root 61194 May 20 07:37 train.csv\n"
          ],
          "name": "stdout"
        }
      ]
    },
    {
      "cell_type": "markdown",
      "metadata": {
        "id": "pyUPgmft7MEp",
        "colab_type": "text"
      },
      "source": [
        "# Cargar Datos"
      ]
    },
    {
      "cell_type": "code",
      "metadata": {
        "id": "Kz6v5JKYn25H",
        "colab_type": "code",
        "colab": {}
      },
      "source": [
        "# Cargar dataset como Pandas DataFrame\n",
        "df_train = pd.read_csv('datasets/train.csv', index_col = 'PassengerId') "
      ],
      "execution_count": 0,
      "outputs": []
    },
    {
      "cell_type": "code",
      "metadata": {
        "id": "IJbXogW-__vi",
        "colab_type": "code",
        "colab": {}
      },
      "source": [
        "# Separar las caracteristicas de la variable a estimar\n",
        "X_train = df_train.copy()\n",
        "y_train = X_train[['Survived']]\n",
        "X_train = X_train.drop(columns=['Survived'])"
      ],
      "execution_count": 0,
      "outputs": []
    },
    {
      "cell_type": "code",
      "metadata": {
        "id": "BesY7zliT7uJ",
        "colab_type": "code",
        "colab": {
          "base_uri": "https://localhost:8080/",
          "height": 708
        },
        "outputId": "8f932c94-c08e-452b-d96e-e714c4a7d1b6"
      },
      "source": [
        "display(X_train.shape)\n",
        "display(X_train.count())\n",
        "display(X_train.head())\n",
        "display(y_train.shape)\n",
        "display(y_train.count())\n",
        "display(y_train.head())"
      ],
      "execution_count": 8,
      "outputs": [
        {
          "output_type": "display_data",
          "data": {
            "text/plain": [
              "(891, 10)"
            ]
          },
          "metadata": {
            "tags": []
          }
        },
        {
          "output_type": "display_data",
          "data": {
            "text/plain": [
              "Pclass      891\n",
              "Name        891\n",
              "Sex         891\n",
              "Age         714\n",
              "SibSp       891\n",
              "Parch       891\n",
              "Ticket      891\n",
              "Fare        891\n",
              "Cabin       204\n",
              "Embarked    889\n",
              "dtype: int64"
            ]
          },
          "metadata": {
            "tags": []
          }
        },
        {
          "output_type": "display_data",
          "data": {
            "text/html": [
              "<div>\n",
              "<style scoped>\n",
              "    .dataframe tbody tr th:only-of-type {\n",
              "        vertical-align: middle;\n",
              "    }\n",
              "\n",
              "    .dataframe tbody tr th {\n",
              "        vertical-align: top;\n",
              "    }\n",
              "\n",
              "    .dataframe thead th {\n",
              "        text-align: right;\n",
              "    }\n",
              "</style>\n",
              "<table border=\"1\" class=\"dataframe\">\n",
              "  <thead>\n",
              "    <tr style=\"text-align: right;\">\n",
              "      <th></th>\n",
              "      <th>Pclass</th>\n",
              "      <th>Name</th>\n",
              "      <th>Sex</th>\n",
              "      <th>Age</th>\n",
              "      <th>SibSp</th>\n",
              "      <th>Parch</th>\n",
              "      <th>Ticket</th>\n",
              "      <th>Fare</th>\n",
              "      <th>Cabin</th>\n",
              "      <th>Embarked</th>\n",
              "    </tr>\n",
              "    <tr>\n",
              "      <th>PassengerId</th>\n",
              "      <th></th>\n",
              "      <th></th>\n",
              "      <th></th>\n",
              "      <th></th>\n",
              "      <th></th>\n",
              "      <th></th>\n",
              "      <th></th>\n",
              "      <th></th>\n",
              "      <th></th>\n",
              "      <th></th>\n",
              "    </tr>\n",
              "  </thead>\n",
              "  <tbody>\n",
              "    <tr>\n",
              "      <th>1</th>\n",
              "      <td>3</td>\n",
              "      <td>Braund, Mr. Owen Harris</td>\n",
              "      <td>male</td>\n",
              "      <td>22.0</td>\n",
              "      <td>1</td>\n",
              "      <td>0</td>\n",
              "      <td>A/5 21171</td>\n",
              "      <td>7.2500</td>\n",
              "      <td>NaN</td>\n",
              "      <td>S</td>\n",
              "    </tr>\n",
              "    <tr>\n",
              "      <th>2</th>\n",
              "      <td>1</td>\n",
              "      <td>Cumings, Mrs. John Bradley (Florence Briggs Th...</td>\n",
              "      <td>female</td>\n",
              "      <td>38.0</td>\n",
              "      <td>1</td>\n",
              "      <td>0</td>\n",
              "      <td>PC 17599</td>\n",
              "      <td>71.2833</td>\n",
              "      <td>C85</td>\n",
              "      <td>C</td>\n",
              "    </tr>\n",
              "    <tr>\n",
              "      <th>3</th>\n",
              "      <td>3</td>\n",
              "      <td>Heikkinen, Miss. Laina</td>\n",
              "      <td>female</td>\n",
              "      <td>26.0</td>\n",
              "      <td>0</td>\n",
              "      <td>0</td>\n",
              "      <td>STON/O2. 3101282</td>\n",
              "      <td>7.9250</td>\n",
              "      <td>NaN</td>\n",
              "      <td>S</td>\n",
              "    </tr>\n",
              "    <tr>\n",
              "      <th>4</th>\n",
              "      <td>1</td>\n",
              "      <td>Futrelle, Mrs. Jacques Heath (Lily May Peel)</td>\n",
              "      <td>female</td>\n",
              "      <td>35.0</td>\n",
              "      <td>1</td>\n",
              "      <td>0</td>\n",
              "      <td>113803</td>\n",
              "      <td>53.1000</td>\n",
              "      <td>C123</td>\n",
              "      <td>S</td>\n",
              "    </tr>\n",
              "    <tr>\n",
              "      <th>5</th>\n",
              "      <td>3</td>\n",
              "      <td>Allen, Mr. William Henry</td>\n",
              "      <td>male</td>\n",
              "      <td>35.0</td>\n",
              "      <td>0</td>\n",
              "      <td>0</td>\n",
              "      <td>373450</td>\n",
              "      <td>8.0500</td>\n",
              "      <td>NaN</td>\n",
              "      <td>S</td>\n",
              "    </tr>\n",
              "  </tbody>\n",
              "</table>\n",
              "</div>"
            ],
            "text/plain": [
              "             Pclass  ... Embarked\n",
              "PassengerId          ...         \n",
              "1                 3  ...        S\n",
              "2                 1  ...        C\n",
              "3                 3  ...        S\n",
              "4                 1  ...        S\n",
              "5                 3  ...        S\n",
              "\n",
              "[5 rows x 10 columns]"
            ]
          },
          "metadata": {
            "tags": []
          }
        },
        {
          "output_type": "display_data",
          "data": {
            "text/plain": [
              "(891, 1)"
            ]
          },
          "metadata": {
            "tags": []
          }
        },
        {
          "output_type": "display_data",
          "data": {
            "text/plain": [
              "Survived    891\n",
              "dtype: int64"
            ]
          },
          "metadata": {
            "tags": []
          }
        },
        {
          "output_type": "display_data",
          "data": {
            "text/html": [
              "<div>\n",
              "<style scoped>\n",
              "    .dataframe tbody tr th:only-of-type {\n",
              "        vertical-align: middle;\n",
              "    }\n",
              "\n",
              "    .dataframe tbody tr th {\n",
              "        vertical-align: top;\n",
              "    }\n",
              "\n",
              "    .dataframe thead th {\n",
              "        text-align: right;\n",
              "    }\n",
              "</style>\n",
              "<table border=\"1\" class=\"dataframe\">\n",
              "  <thead>\n",
              "    <tr style=\"text-align: right;\">\n",
              "      <th></th>\n",
              "      <th>Survived</th>\n",
              "    </tr>\n",
              "    <tr>\n",
              "      <th>PassengerId</th>\n",
              "      <th></th>\n",
              "    </tr>\n",
              "  </thead>\n",
              "  <tbody>\n",
              "    <tr>\n",
              "      <th>1</th>\n",
              "      <td>0</td>\n",
              "    </tr>\n",
              "    <tr>\n",
              "      <th>2</th>\n",
              "      <td>1</td>\n",
              "    </tr>\n",
              "    <tr>\n",
              "      <th>3</th>\n",
              "      <td>1</td>\n",
              "    </tr>\n",
              "    <tr>\n",
              "      <th>4</th>\n",
              "      <td>1</td>\n",
              "    </tr>\n",
              "    <tr>\n",
              "      <th>5</th>\n",
              "      <td>0</td>\n",
              "    </tr>\n",
              "  </tbody>\n",
              "</table>\n",
              "</div>"
            ],
            "text/plain": [
              "             Survived\n",
              "PassengerId          \n",
              "1                   0\n",
              "2                   1\n",
              "3                   1\n",
              "4                   1\n",
              "5                   0"
            ]
          },
          "metadata": {
            "tags": []
          }
        }
      ]
    },
    {
      "cell_type": "code",
      "metadata": {
        "id": "zGDtXQK9DnWL",
        "colab_type": "code",
        "colab": {}
      },
      "source": [
        "# Cargar dataset de test\n",
        "df_test = pd.read_csv('datasets/test.csv', index_col='PassengerId') \n",
        "X_test = df_test.copy()"
      ],
      "execution_count": 0,
      "outputs": []
    },
    {
      "cell_type": "code",
      "metadata": {
        "id": "IyRpU8_qT4Xs",
        "colab_type": "code",
        "colab": {
          "base_uri": "https://localhost:8080/",
          "height": 439
        },
        "outputId": "0af676bf-eb23-4b80-e237-9db105211e5a"
      },
      "source": [
        "display(X_test.shape)\n",
        "display(X_test.count())\n",
        "display(X_test.head())"
      ],
      "execution_count": 10,
      "outputs": [
        {
          "output_type": "display_data",
          "data": {
            "text/plain": [
              "(418, 10)"
            ]
          },
          "metadata": {
            "tags": []
          }
        },
        {
          "output_type": "display_data",
          "data": {
            "text/plain": [
              "Pclass      418\n",
              "Name        418\n",
              "Sex         418\n",
              "Age         332\n",
              "SibSp       418\n",
              "Parch       418\n",
              "Ticket      418\n",
              "Fare        417\n",
              "Cabin        91\n",
              "Embarked    418\n",
              "dtype: int64"
            ]
          },
          "metadata": {
            "tags": []
          }
        },
        {
          "output_type": "display_data",
          "data": {
            "text/html": [
              "<div>\n",
              "<style scoped>\n",
              "    .dataframe tbody tr th:only-of-type {\n",
              "        vertical-align: middle;\n",
              "    }\n",
              "\n",
              "    .dataframe tbody tr th {\n",
              "        vertical-align: top;\n",
              "    }\n",
              "\n",
              "    .dataframe thead th {\n",
              "        text-align: right;\n",
              "    }\n",
              "</style>\n",
              "<table border=\"1\" class=\"dataframe\">\n",
              "  <thead>\n",
              "    <tr style=\"text-align: right;\">\n",
              "      <th></th>\n",
              "      <th>Pclass</th>\n",
              "      <th>Name</th>\n",
              "      <th>Sex</th>\n",
              "      <th>Age</th>\n",
              "      <th>SibSp</th>\n",
              "      <th>Parch</th>\n",
              "      <th>Ticket</th>\n",
              "      <th>Fare</th>\n",
              "      <th>Cabin</th>\n",
              "      <th>Embarked</th>\n",
              "    </tr>\n",
              "    <tr>\n",
              "      <th>PassengerId</th>\n",
              "      <th></th>\n",
              "      <th></th>\n",
              "      <th></th>\n",
              "      <th></th>\n",
              "      <th></th>\n",
              "      <th></th>\n",
              "      <th></th>\n",
              "      <th></th>\n",
              "      <th></th>\n",
              "      <th></th>\n",
              "    </tr>\n",
              "  </thead>\n",
              "  <tbody>\n",
              "    <tr>\n",
              "      <th>892</th>\n",
              "      <td>3</td>\n",
              "      <td>Kelly, Mr. James</td>\n",
              "      <td>male</td>\n",
              "      <td>34.5</td>\n",
              "      <td>0</td>\n",
              "      <td>0</td>\n",
              "      <td>330911</td>\n",
              "      <td>7.8292</td>\n",
              "      <td>NaN</td>\n",
              "      <td>Q</td>\n",
              "    </tr>\n",
              "    <tr>\n",
              "      <th>893</th>\n",
              "      <td>3</td>\n",
              "      <td>Wilkes, Mrs. James (Ellen Needs)</td>\n",
              "      <td>female</td>\n",
              "      <td>47.0</td>\n",
              "      <td>1</td>\n",
              "      <td>0</td>\n",
              "      <td>363272</td>\n",
              "      <td>7.0000</td>\n",
              "      <td>NaN</td>\n",
              "      <td>S</td>\n",
              "    </tr>\n",
              "    <tr>\n",
              "      <th>894</th>\n",
              "      <td>2</td>\n",
              "      <td>Myles, Mr. Thomas Francis</td>\n",
              "      <td>male</td>\n",
              "      <td>62.0</td>\n",
              "      <td>0</td>\n",
              "      <td>0</td>\n",
              "      <td>240276</td>\n",
              "      <td>9.6875</td>\n",
              "      <td>NaN</td>\n",
              "      <td>Q</td>\n",
              "    </tr>\n",
              "    <tr>\n",
              "      <th>895</th>\n",
              "      <td>3</td>\n",
              "      <td>Wirz, Mr. Albert</td>\n",
              "      <td>male</td>\n",
              "      <td>27.0</td>\n",
              "      <td>0</td>\n",
              "      <td>0</td>\n",
              "      <td>315154</td>\n",
              "      <td>8.6625</td>\n",
              "      <td>NaN</td>\n",
              "      <td>S</td>\n",
              "    </tr>\n",
              "    <tr>\n",
              "      <th>896</th>\n",
              "      <td>3</td>\n",
              "      <td>Hirvonen, Mrs. Alexander (Helga E Lindqvist)</td>\n",
              "      <td>female</td>\n",
              "      <td>22.0</td>\n",
              "      <td>1</td>\n",
              "      <td>1</td>\n",
              "      <td>3101298</td>\n",
              "      <td>12.2875</td>\n",
              "      <td>NaN</td>\n",
              "      <td>S</td>\n",
              "    </tr>\n",
              "  </tbody>\n",
              "</table>\n",
              "</div>"
            ],
            "text/plain": [
              "             Pclass  ... Embarked\n",
              "PassengerId          ...         \n",
              "892               3  ...        Q\n",
              "893               3  ...        S\n",
              "894               2  ...        Q\n",
              "895               3  ...        S\n",
              "896               3  ...        S\n",
              "\n",
              "[5 rows x 10 columns]"
            ]
          },
          "metadata": {
            "tags": []
          }
        }
      ]
    },
    {
      "cell_type": "markdown",
      "metadata": {
        "id": "A277m6ABwqpB",
        "colab_type": "text"
      },
      "source": [
        "# Limpieza de datos y análisis estadístico descriptivo"
      ]
    },
    {
      "cell_type": "markdown",
      "metadata": {
        "id": "GZvYibYSw5WP",
        "colab_type": "text"
      },
      "source": [
        "## Extraer nuevas carcaterísticas (Fetature Engineering)"
      ]
    },
    {
      "cell_type": "code",
      "metadata": {
        "id": "PaWiLL6ew-x-",
        "colab_type": "code",
        "outputId": "1052fb2c-28c5-4a73-cdea-bd3c67c0e847",
        "colab": {
          "base_uri": "https://localhost:8080/",
          "height": 54
        }
      },
      "source": [
        "# https://www.kaggle.com/ouyangg/titanic\n",
        "X_train['Title'] = X_train['Name'].str.extract('([A-Za-z]+)\\.')\n",
        "X_train['Title'], title = pd.factorize(X_train['Title'])\n",
        "X_train['Title'] = X_train['Title'].replace(-1, np.nan)\n",
        "title = {k:v for v, k in enumerate(title)}\n",
        "print(title)\n",
        "\n",
        "X_test['Title'] = X_test['Name'].str.extract('([A-Za-z]+)\\.')\n",
        "X_test['Title'] = X_test['Title'].map(title)"
      ],
      "execution_count": 11,
      "outputs": [
        {
          "output_type": "stream",
          "text": [
            "{'Mr': 0, 'Mrs': 1, 'Miss': 2, 'Master': 3, 'Don': 4, 'Rev': 5, 'Dr': 6, 'Mme': 7, 'Ms': 8, 'Major': 9, 'Lady': 10, 'Sir': 11, 'Mlle': 12, 'Col': 13, 'Capt': 14, 'Countess': 15, 'Jonkheer': 16}\n"
          ],
          "name": "stdout"
        }
      ]
    },
    {
      "cell_type": "code",
      "metadata": {
        "id": "dI66Zbpwxg13",
        "colab_type": "code",
        "outputId": "06cc55ff-67e0-4fb1-a658-b088e0e6deba",
        "colab": {
          "base_uri": "https://localhost:8080/",
          "height": 861
        }
      },
      "source": [
        "display(X_train.count())\n",
        "display(X_train.head())\n",
        "display(X_test.count())\n",
        "display(X_test.head())"
      ],
      "execution_count": 12,
      "outputs": [
        {
          "output_type": "display_data",
          "data": {
            "text/plain": [
              "Pclass      891\n",
              "Name        891\n",
              "Sex         891\n",
              "Age         714\n",
              "SibSp       891\n",
              "Parch       891\n",
              "Ticket      891\n",
              "Fare        891\n",
              "Cabin       204\n",
              "Embarked    889\n",
              "Title       891\n",
              "dtype: int64"
            ]
          },
          "metadata": {
            "tags": []
          }
        },
        {
          "output_type": "display_data",
          "data": {
            "text/html": [
              "<div>\n",
              "<style scoped>\n",
              "    .dataframe tbody tr th:only-of-type {\n",
              "        vertical-align: middle;\n",
              "    }\n",
              "\n",
              "    .dataframe tbody tr th {\n",
              "        vertical-align: top;\n",
              "    }\n",
              "\n",
              "    .dataframe thead th {\n",
              "        text-align: right;\n",
              "    }\n",
              "</style>\n",
              "<table border=\"1\" class=\"dataframe\">\n",
              "  <thead>\n",
              "    <tr style=\"text-align: right;\">\n",
              "      <th></th>\n",
              "      <th>Pclass</th>\n",
              "      <th>Name</th>\n",
              "      <th>Sex</th>\n",
              "      <th>Age</th>\n",
              "      <th>SibSp</th>\n",
              "      <th>Parch</th>\n",
              "      <th>Ticket</th>\n",
              "      <th>Fare</th>\n",
              "      <th>Cabin</th>\n",
              "      <th>Embarked</th>\n",
              "      <th>Title</th>\n",
              "    </tr>\n",
              "    <tr>\n",
              "      <th>PassengerId</th>\n",
              "      <th></th>\n",
              "      <th></th>\n",
              "      <th></th>\n",
              "      <th></th>\n",
              "      <th></th>\n",
              "      <th></th>\n",
              "      <th></th>\n",
              "      <th></th>\n",
              "      <th></th>\n",
              "      <th></th>\n",
              "      <th></th>\n",
              "    </tr>\n",
              "  </thead>\n",
              "  <tbody>\n",
              "    <tr>\n",
              "      <th>1</th>\n",
              "      <td>3</td>\n",
              "      <td>Braund, Mr. Owen Harris</td>\n",
              "      <td>male</td>\n",
              "      <td>22.0</td>\n",
              "      <td>1</td>\n",
              "      <td>0</td>\n",
              "      <td>A/5 21171</td>\n",
              "      <td>7.2500</td>\n",
              "      <td>NaN</td>\n",
              "      <td>S</td>\n",
              "      <td>0</td>\n",
              "    </tr>\n",
              "    <tr>\n",
              "      <th>2</th>\n",
              "      <td>1</td>\n",
              "      <td>Cumings, Mrs. John Bradley (Florence Briggs Th...</td>\n",
              "      <td>female</td>\n",
              "      <td>38.0</td>\n",
              "      <td>1</td>\n",
              "      <td>0</td>\n",
              "      <td>PC 17599</td>\n",
              "      <td>71.2833</td>\n",
              "      <td>C85</td>\n",
              "      <td>C</td>\n",
              "      <td>1</td>\n",
              "    </tr>\n",
              "    <tr>\n",
              "      <th>3</th>\n",
              "      <td>3</td>\n",
              "      <td>Heikkinen, Miss. Laina</td>\n",
              "      <td>female</td>\n",
              "      <td>26.0</td>\n",
              "      <td>0</td>\n",
              "      <td>0</td>\n",
              "      <td>STON/O2. 3101282</td>\n",
              "      <td>7.9250</td>\n",
              "      <td>NaN</td>\n",
              "      <td>S</td>\n",
              "      <td>2</td>\n",
              "    </tr>\n",
              "    <tr>\n",
              "      <th>4</th>\n",
              "      <td>1</td>\n",
              "      <td>Futrelle, Mrs. Jacques Heath (Lily May Peel)</td>\n",
              "      <td>female</td>\n",
              "      <td>35.0</td>\n",
              "      <td>1</td>\n",
              "      <td>0</td>\n",
              "      <td>113803</td>\n",
              "      <td>53.1000</td>\n",
              "      <td>C123</td>\n",
              "      <td>S</td>\n",
              "      <td>1</td>\n",
              "    </tr>\n",
              "    <tr>\n",
              "      <th>5</th>\n",
              "      <td>3</td>\n",
              "      <td>Allen, Mr. William Henry</td>\n",
              "      <td>male</td>\n",
              "      <td>35.0</td>\n",
              "      <td>0</td>\n",
              "      <td>0</td>\n",
              "      <td>373450</td>\n",
              "      <td>8.0500</td>\n",
              "      <td>NaN</td>\n",
              "      <td>S</td>\n",
              "      <td>0</td>\n",
              "    </tr>\n",
              "  </tbody>\n",
              "</table>\n",
              "</div>"
            ],
            "text/plain": [
              "             Pclass  ... Title\n",
              "PassengerId          ...      \n",
              "1                 3  ...     0\n",
              "2                 1  ...     1\n",
              "3                 3  ...     2\n",
              "4                 1  ...     1\n",
              "5                 3  ...     0\n",
              "\n",
              "[5 rows x 11 columns]"
            ]
          },
          "metadata": {
            "tags": []
          }
        },
        {
          "output_type": "display_data",
          "data": {
            "text/plain": [
              "Pclass      418\n",
              "Name        418\n",
              "Sex         418\n",
              "Age         332\n",
              "SibSp       418\n",
              "Parch       418\n",
              "Ticket      418\n",
              "Fare        417\n",
              "Cabin        91\n",
              "Embarked    418\n",
              "Title       417\n",
              "dtype: int64"
            ]
          },
          "metadata": {
            "tags": []
          }
        },
        {
          "output_type": "display_data",
          "data": {
            "text/html": [
              "<div>\n",
              "<style scoped>\n",
              "    .dataframe tbody tr th:only-of-type {\n",
              "        vertical-align: middle;\n",
              "    }\n",
              "\n",
              "    .dataframe tbody tr th {\n",
              "        vertical-align: top;\n",
              "    }\n",
              "\n",
              "    .dataframe thead th {\n",
              "        text-align: right;\n",
              "    }\n",
              "</style>\n",
              "<table border=\"1\" class=\"dataframe\">\n",
              "  <thead>\n",
              "    <tr style=\"text-align: right;\">\n",
              "      <th></th>\n",
              "      <th>Pclass</th>\n",
              "      <th>Name</th>\n",
              "      <th>Sex</th>\n",
              "      <th>Age</th>\n",
              "      <th>SibSp</th>\n",
              "      <th>Parch</th>\n",
              "      <th>Ticket</th>\n",
              "      <th>Fare</th>\n",
              "      <th>Cabin</th>\n",
              "      <th>Embarked</th>\n",
              "      <th>Title</th>\n",
              "    </tr>\n",
              "    <tr>\n",
              "      <th>PassengerId</th>\n",
              "      <th></th>\n",
              "      <th></th>\n",
              "      <th></th>\n",
              "      <th></th>\n",
              "      <th></th>\n",
              "      <th></th>\n",
              "      <th></th>\n",
              "      <th></th>\n",
              "      <th></th>\n",
              "      <th></th>\n",
              "      <th></th>\n",
              "    </tr>\n",
              "  </thead>\n",
              "  <tbody>\n",
              "    <tr>\n",
              "      <th>892</th>\n",
              "      <td>3</td>\n",
              "      <td>Kelly, Mr. James</td>\n",
              "      <td>male</td>\n",
              "      <td>34.5</td>\n",
              "      <td>0</td>\n",
              "      <td>0</td>\n",
              "      <td>330911</td>\n",
              "      <td>7.8292</td>\n",
              "      <td>NaN</td>\n",
              "      <td>Q</td>\n",
              "      <td>0.0</td>\n",
              "    </tr>\n",
              "    <tr>\n",
              "      <th>893</th>\n",
              "      <td>3</td>\n",
              "      <td>Wilkes, Mrs. James (Ellen Needs)</td>\n",
              "      <td>female</td>\n",
              "      <td>47.0</td>\n",
              "      <td>1</td>\n",
              "      <td>0</td>\n",
              "      <td>363272</td>\n",
              "      <td>7.0000</td>\n",
              "      <td>NaN</td>\n",
              "      <td>S</td>\n",
              "      <td>1.0</td>\n",
              "    </tr>\n",
              "    <tr>\n",
              "      <th>894</th>\n",
              "      <td>2</td>\n",
              "      <td>Myles, Mr. Thomas Francis</td>\n",
              "      <td>male</td>\n",
              "      <td>62.0</td>\n",
              "      <td>0</td>\n",
              "      <td>0</td>\n",
              "      <td>240276</td>\n",
              "      <td>9.6875</td>\n",
              "      <td>NaN</td>\n",
              "      <td>Q</td>\n",
              "      <td>0.0</td>\n",
              "    </tr>\n",
              "    <tr>\n",
              "      <th>895</th>\n",
              "      <td>3</td>\n",
              "      <td>Wirz, Mr. Albert</td>\n",
              "      <td>male</td>\n",
              "      <td>27.0</td>\n",
              "      <td>0</td>\n",
              "      <td>0</td>\n",
              "      <td>315154</td>\n",
              "      <td>8.6625</td>\n",
              "      <td>NaN</td>\n",
              "      <td>S</td>\n",
              "      <td>0.0</td>\n",
              "    </tr>\n",
              "    <tr>\n",
              "      <th>896</th>\n",
              "      <td>3</td>\n",
              "      <td>Hirvonen, Mrs. Alexander (Helga E Lindqvist)</td>\n",
              "      <td>female</td>\n",
              "      <td>22.0</td>\n",
              "      <td>1</td>\n",
              "      <td>1</td>\n",
              "      <td>3101298</td>\n",
              "      <td>12.2875</td>\n",
              "      <td>NaN</td>\n",
              "      <td>S</td>\n",
              "      <td>1.0</td>\n",
              "    </tr>\n",
              "  </tbody>\n",
              "</table>\n",
              "</div>"
            ],
            "text/plain": [
              "             Pclass  ... Title\n",
              "PassengerId          ...      \n",
              "892               3  ...   0.0\n",
              "893               3  ...   1.0\n",
              "894               2  ...   0.0\n",
              "895               3  ...   0.0\n",
              "896               3  ...   1.0\n",
              "\n",
              "[5 rows x 11 columns]"
            ]
          },
          "metadata": {
            "tags": []
          }
        }
      ]
    },
    {
      "cell_type": "markdown",
      "metadata": {
        "id": "vhUuoDkV6YA2",
        "colab_type": "text"
      },
      "source": [
        "## Eliminación de características"
      ]
    },
    {
      "cell_type": "code",
      "metadata": {
        "id": "B_xa0V4-wwxB",
        "colab_type": "code",
        "colab": {}
      },
      "source": [
        "# Deajar solo variables útiles\n",
        "X_train = X_train.drop(columns=['Name', 'Ticket', 'Cabin'])\n",
        "X_test = X_test.drop(columns=['Name', 'Ticket', 'Cabin'])"
      ],
      "execution_count": 0,
      "outputs": []
    },
    {
      "cell_type": "code",
      "metadata": {
        "id": "BIPj2RRITwDb",
        "colab_type": "code",
        "colab": {
          "base_uri": "https://localhost:8080/",
          "height": 323
        },
        "outputId": "cc9c3083-e1d0-440b-c3a2-6cb81c301caa"
      },
      "source": [
        "display(X_train.count())\n",
        "display(X_test.count())"
      ],
      "execution_count": 14,
      "outputs": [
        {
          "output_type": "display_data",
          "data": {
            "text/plain": [
              "Pclass      891\n",
              "Sex         891\n",
              "Age         714\n",
              "SibSp       891\n",
              "Parch       891\n",
              "Fare        891\n",
              "Embarked    889\n",
              "Title       891\n",
              "dtype: int64"
            ]
          },
          "metadata": {
            "tags": []
          }
        },
        {
          "output_type": "display_data",
          "data": {
            "text/plain": [
              "Pclass      418\n",
              "Sex         418\n",
              "Age         332\n",
              "SibSp       418\n",
              "Parch       418\n",
              "Fare        417\n",
              "Embarked    418\n",
              "Title       417\n",
              "dtype: int64"
            ]
          },
          "metadata": {
            "tags": []
          }
        }
      ]
    },
    {
      "cell_type": "markdown",
      "metadata": {
        "id": "8fOTZ6Wr5iju",
        "colab_type": "text"
      },
      "source": [
        "## Factorizar (de texto a categorias)"
      ]
    },
    {
      "cell_type": "code",
      "metadata": {
        "id": "qbRWK0jKwtao",
        "colab_type": "code",
        "outputId": "e7adc04a-0c84-4cf0-f9ec-f095ffa44d6e",
        "colab": {
          "base_uri": "https://localhost:8080/",
          "height": 51
        }
      },
      "source": [
        "# Convertir variables en numéricas\n",
        "X_train['Sex'], sex = pd.factorize(X_train['Sex'])\n",
        "X_train['Sex'] = X_train['Sex'].replace(-1, np.nan)\n",
        "sex = {k:v for v, k in enumerate(sex)}\n",
        "print(sex)\n",
        "X_test['Sex'] = X_test['Sex'].map(sex)\n",
        "\n",
        "X_train['Embarked'], embarked = pd.factorize(X_train['Embarked'])\n",
        "X_train['Embarked'] = X_train['Embarked'].replace(-1, np.nan)\n",
        "embarked = {k:v for v, k in enumerate(embarked)}\n",
        "print(embarked)\n",
        "X_test['Embarked'] = X_test['Embarked'].map(embarked)"
      ],
      "execution_count": 15,
      "outputs": [
        {
          "output_type": "stream",
          "text": [
            "{'male': 0, 'female': 1}\n",
            "{'S': 0, 'C': 1, 'Q': 2}\n"
          ],
          "name": "stdout"
        }
      ]
    },
    {
      "cell_type": "code",
      "metadata": {
        "id": "8xhShqRef-Y3",
        "colab_type": "code",
        "outputId": "d13d7ad1-70bf-4449-ab1c-c0f44782f275",
        "colab": {
          "base_uri": "https://localhost:8080/",
          "height": 1000
        }
      },
      "source": [
        "display(X_train.head())\n",
        "display(X_train.describe())\n",
        "display(X_test.head())\n",
        "display(X_test.describe())"
      ],
      "execution_count": 16,
      "outputs": [
        {
          "output_type": "display_data",
          "data": {
            "text/html": [
              "<div>\n",
              "<style scoped>\n",
              "    .dataframe tbody tr th:only-of-type {\n",
              "        vertical-align: middle;\n",
              "    }\n",
              "\n",
              "    .dataframe tbody tr th {\n",
              "        vertical-align: top;\n",
              "    }\n",
              "\n",
              "    .dataframe thead th {\n",
              "        text-align: right;\n",
              "    }\n",
              "</style>\n",
              "<table border=\"1\" class=\"dataframe\">\n",
              "  <thead>\n",
              "    <tr style=\"text-align: right;\">\n",
              "      <th></th>\n",
              "      <th>Pclass</th>\n",
              "      <th>Sex</th>\n",
              "      <th>Age</th>\n",
              "      <th>SibSp</th>\n",
              "      <th>Parch</th>\n",
              "      <th>Fare</th>\n",
              "      <th>Embarked</th>\n",
              "      <th>Title</th>\n",
              "    </tr>\n",
              "    <tr>\n",
              "      <th>PassengerId</th>\n",
              "      <th></th>\n",
              "      <th></th>\n",
              "      <th></th>\n",
              "      <th></th>\n",
              "      <th></th>\n",
              "      <th></th>\n",
              "      <th></th>\n",
              "      <th></th>\n",
              "    </tr>\n",
              "  </thead>\n",
              "  <tbody>\n",
              "    <tr>\n",
              "      <th>1</th>\n",
              "      <td>3</td>\n",
              "      <td>0</td>\n",
              "      <td>22.0</td>\n",
              "      <td>1</td>\n",
              "      <td>0</td>\n",
              "      <td>7.2500</td>\n",
              "      <td>0.0</td>\n",
              "      <td>0</td>\n",
              "    </tr>\n",
              "    <tr>\n",
              "      <th>2</th>\n",
              "      <td>1</td>\n",
              "      <td>1</td>\n",
              "      <td>38.0</td>\n",
              "      <td>1</td>\n",
              "      <td>0</td>\n",
              "      <td>71.2833</td>\n",
              "      <td>1.0</td>\n",
              "      <td>1</td>\n",
              "    </tr>\n",
              "    <tr>\n",
              "      <th>3</th>\n",
              "      <td>3</td>\n",
              "      <td>1</td>\n",
              "      <td>26.0</td>\n",
              "      <td>0</td>\n",
              "      <td>0</td>\n",
              "      <td>7.9250</td>\n",
              "      <td>0.0</td>\n",
              "      <td>2</td>\n",
              "    </tr>\n",
              "    <tr>\n",
              "      <th>4</th>\n",
              "      <td>1</td>\n",
              "      <td>1</td>\n",
              "      <td>35.0</td>\n",
              "      <td>1</td>\n",
              "      <td>0</td>\n",
              "      <td>53.1000</td>\n",
              "      <td>0.0</td>\n",
              "      <td>1</td>\n",
              "    </tr>\n",
              "    <tr>\n",
              "      <th>5</th>\n",
              "      <td>3</td>\n",
              "      <td>0</td>\n",
              "      <td>35.0</td>\n",
              "      <td>0</td>\n",
              "      <td>0</td>\n",
              "      <td>8.0500</td>\n",
              "      <td>0.0</td>\n",
              "      <td>0</td>\n",
              "    </tr>\n",
              "  </tbody>\n",
              "</table>\n",
              "</div>"
            ],
            "text/plain": [
              "             Pclass  Sex   Age  SibSp  Parch     Fare  Embarked  Title\n",
              "PassengerId                                                           \n",
              "1                 3    0  22.0      1      0   7.2500       0.0      0\n",
              "2                 1    1  38.0      1      0  71.2833       1.0      1\n",
              "3                 3    1  26.0      0      0   7.9250       0.0      2\n",
              "4                 1    1  35.0      1      0  53.1000       0.0      1\n",
              "5                 3    0  35.0      0      0   8.0500       0.0      0"
            ]
          },
          "metadata": {
            "tags": []
          }
        },
        {
          "output_type": "display_data",
          "data": {
            "text/html": [
              "<div>\n",
              "<style scoped>\n",
              "    .dataframe tbody tr th:only-of-type {\n",
              "        vertical-align: middle;\n",
              "    }\n",
              "\n",
              "    .dataframe tbody tr th {\n",
              "        vertical-align: top;\n",
              "    }\n",
              "\n",
              "    .dataframe thead th {\n",
              "        text-align: right;\n",
              "    }\n",
              "</style>\n",
              "<table border=\"1\" class=\"dataframe\">\n",
              "  <thead>\n",
              "    <tr style=\"text-align: right;\">\n",
              "      <th></th>\n",
              "      <th>Pclass</th>\n",
              "      <th>Sex</th>\n",
              "      <th>Age</th>\n",
              "      <th>SibSp</th>\n",
              "      <th>Parch</th>\n",
              "      <th>Fare</th>\n",
              "      <th>Embarked</th>\n",
              "      <th>Title</th>\n",
              "    </tr>\n",
              "  </thead>\n",
              "  <tbody>\n",
              "    <tr>\n",
              "      <th>count</th>\n",
              "      <td>891.000000</td>\n",
              "      <td>891.000000</td>\n",
              "      <td>714.000000</td>\n",
              "      <td>891.000000</td>\n",
              "      <td>891.000000</td>\n",
              "      <td>891.000000</td>\n",
              "      <td>889.000000</td>\n",
              "      <td>891.000000</td>\n",
              "    </tr>\n",
              "    <tr>\n",
              "      <th>mean</th>\n",
              "      <td>2.308642</td>\n",
              "      <td>0.352413</td>\n",
              "      <td>29.699118</td>\n",
              "      <td>0.523008</td>\n",
              "      <td>0.381594</td>\n",
              "      <td>32.204208</td>\n",
              "      <td>0.362205</td>\n",
              "      <td>0.936027</td>\n",
              "    </tr>\n",
              "    <tr>\n",
              "      <th>std</th>\n",
              "      <td>0.836071</td>\n",
              "      <td>0.477990</td>\n",
              "      <td>14.526497</td>\n",
              "      <td>1.102743</td>\n",
              "      <td>0.806057</td>\n",
              "      <td>49.693429</td>\n",
              "      <td>0.636157</td>\n",
              "      <td>1.725341</td>\n",
              "    </tr>\n",
              "    <tr>\n",
              "      <th>min</th>\n",
              "      <td>1.000000</td>\n",
              "      <td>0.000000</td>\n",
              "      <td>0.420000</td>\n",
              "      <td>0.000000</td>\n",
              "      <td>0.000000</td>\n",
              "      <td>0.000000</td>\n",
              "      <td>0.000000</td>\n",
              "      <td>0.000000</td>\n",
              "    </tr>\n",
              "    <tr>\n",
              "      <th>25%</th>\n",
              "      <td>2.000000</td>\n",
              "      <td>0.000000</td>\n",
              "      <td>20.125000</td>\n",
              "      <td>0.000000</td>\n",
              "      <td>0.000000</td>\n",
              "      <td>7.910400</td>\n",
              "      <td>0.000000</td>\n",
              "      <td>0.000000</td>\n",
              "    </tr>\n",
              "    <tr>\n",
              "      <th>50%</th>\n",
              "      <td>3.000000</td>\n",
              "      <td>0.000000</td>\n",
              "      <td>28.000000</td>\n",
              "      <td>0.000000</td>\n",
              "      <td>0.000000</td>\n",
              "      <td>14.454200</td>\n",
              "      <td>0.000000</td>\n",
              "      <td>0.000000</td>\n",
              "    </tr>\n",
              "    <tr>\n",
              "      <th>75%</th>\n",
              "      <td>3.000000</td>\n",
              "      <td>1.000000</td>\n",
              "      <td>38.000000</td>\n",
              "      <td>1.000000</td>\n",
              "      <td>0.000000</td>\n",
              "      <td>31.000000</td>\n",
              "      <td>1.000000</td>\n",
              "      <td>2.000000</td>\n",
              "    </tr>\n",
              "    <tr>\n",
              "      <th>max</th>\n",
              "      <td>3.000000</td>\n",
              "      <td>1.000000</td>\n",
              "      <td>80.000000</td>\n",
              "      <td>8.000000</td>\n",
              "      <td>6.000000</td>\n",
              "      <td>512.329200</td>\n",
              "      <td>2.000000</td>\n",
              "      <td>16.000000</td>\n",
              "    </tr>\n",
              "  </tbody>\n",
              "</table>\n",
              "</div>"
            ],
            "text/plain": [
              "           Pclass         Sex         Age  ...        Fare    Embarked       Title\n",
              "count  891.000000  891.000000  714.000000  ...  891.000000  889.000000  891.000000\n",
              "mean     2.308642    0.352413   29.699118  ...   32.204208    0.362205    0.936027\n",
              "std      0.836071    0.477990   14.526497  ...   49.693429    0.636157    1.725341\n",
              "min      1.000000    0.000000    0.420000  ...    0.000000    0.000000    0.000000\n",
              "25%      2.000000    0.000000   20.125000  ...    7.910400    0.000000    0.000000\n",
              "50%      3.000000    0.000000   28.000000  ...   14.454200    0.000000    0.000000\n",
              "75%      3.000000    1.000000   38.000000  ...   31.000000    1.000000    2.000000\n",
              "max      3.000000    1.000000   80.000000  ...  512.329200    2.000000   16.000000\n",
              "\n",
              "[8 rows x 8 columns]"
            ]
          },
          "metadata": {
            "tags": []
          }
        },
        {
          "output_type": "display_data",
          "data": {
            "text/html": [
              "<div>\n",
              "<style scoped>\n",
              "    .dataframe tbody tr th:only-of-type {\n",
              "        vertical-align: middle;\n",
              "    }\n",
              "\n",
              "    .dataframe tbody tr th {\n",
              "        vertical-align: top;\n",
              "    }\n",
              "\n",
              "    .dataframe thead th {\n",
              "        text-align: right;\n",
              "    }\n",
              "</style>\n",
              "<table border=\"1\" class=\"dataframe\">\n",
              "  <thead>\n",
              "    <tr style=\"text-align: right;\">\n",
              "      <th></th>\n",
              "      <th>Pclass</th>\n",
              "      <th>Sex</th>\n",
              "      <th>Age</th>\n",
              "      <th>SibSp</th>\n",
              "      <th>Parch</th>\n",
              "      <th>Fare</th>\n",
              "      <th>Embarked</th>\n",
              "      <th>Title</th>\n",
              "    </tr>\n",
              "    <tr>\n",
              "      <th>PassengerId</th>\n",
              "      <th></th>\n",
              "      <th></th>\n",
              "      <th></th>\n",
              "      <th></th>\n",
              "      <th></th>\n",
              "      <th></th>\n",
              "      <th></th>\n",
              "      <th></th>\n",
              "    </tr>\n",
              "  </thead>\n",
              "  <tbody>\n",
              "    <tr>\n",
              "      <th>892</th>\n",
              "      <td>3</td>\n",
              "      <td>0</td>\n",
              "      <td>34.5</td>\n",
              "      <td>0</td>\n",
              "      <td>0</td>\n",
              "      <td>7.8292</td>\n",
              "      <td>2</td>\n",
              "      <td>0.0</td>\n",
              "    </tr>\n",
              "    <tr>\n",
              "      <th>893</th>\n",
              "      <td>3</td>\n",
              "      <td>1</td>\n",
              "      <td>47.0</td>\n",
              "      <td>1</td>\n",
              "      <td>0</td>\n",
              "      <td>7.0000</td>\n",
              "      <td>0</td>\n",
              "      <td>1.0</td>\n",
              "    </tr>\n",
              "    <tr>\n",
              "      <th>894</th>\n",
              "      <td>2</td>\n",
              "      <td>0</td>\n",
              "      <td>62.0</td>\n",
              "      <td>0</td>\n",
              "      <td>0</td>\n",
              "      <td>9.6875</td>\n",
              "      <td>2</td>\n",
              "      <td>0.0</td>\n",
              "    </tr>\n",
              "    <tr>\n",
              "      <th>895</th>\n",
              "      <td>3</td>\n",
              "      <td>0</td>\n",
              "      <td>27.0</td>\n",
              "      <td>0</td>\n",
              "      <td>0</td>\n",
              "      <td>8.6625</td>\n",
              "      <td>0</td>\n",
              "      <td>0.0</td>\n",
              "    </tr>\n",
              "    <tr>\n",
              "      <th>896</th>\n",
              "      <td>3</td>\n",
              "      <td>1</td>\n",
              "      <td>22.0</td>\n",
              "      <td>1</td>\n",
              "      <td>1</td>\n",
              "      <td>12.2875</td>\n",
              "      <td>0</td>\n",
              "      <td>1.0</td>\n",
              "    </tr>\n",
              "  </tbody>\n",
              "</table>\n",
              "</div>"
            ],
            "text/plain": [
              "             Pclass  Sex   Age  SibSp  Parch     Fare  Embarked  Title\n",
              "PassengerId                                                           \n",
              "892               3    0  34.5      0      0   7.8292         2    0.0\n",
              "893               3    1  47.0      1      0   7.0000         0    1.0\n",
              "894               2    0  62.0      0      0   9.6875         2    0.0\n",
              "895               3    0  27.0      0      0   8.6625         0    0.0\n",
              "896               3    1  22.0      1      1  12.2875         0    1.0"
            ]
          },
          "metadata": {
            "tags": []
          }
        },
        {
          "output_type": "display_data",
          "data": {
            "text/html": [
              "<div>\n",
              "<style scoped>\n",
              "    .dataframe tbody tr th:only-of-type {\n",
              "        vertical-align: middle;\n",
              "    }\n",
              "\n",
              "    .dataframe tbody tr th {\n",
              "        vertical-align: top;\n",
              "    }\n",
              "\n",
              "    .dataframe thead th {\n",
              "        text-align: right;\n",
              "    }\n",
              "</style>\n",
              "<table border=\"1\" class=\"dataframe\">\n",
              "  <thead>\n",
              "    <tr style=\"text-align: right;\">\n",
              "      <th></th>\n",
              "      <th>Pclass</th>\n",
              "      <th>Sex</th>\n",
              "      <th>Age</th>\n",
              "      <th>SibSp</th>\n",
              "      <th>Parch</th>\n",
              "      <th>Fare</th>\n",
              "      <th>Embarked</th>\n",
              "      <th>Title</th>\n",
              "    </tr>\n",
              "  </thead>\n",
              "  <tbody>\n",
              "    <tr>\n",
              "      <th>count</th>\n",
              "      <td>418.000000</td>\n",
              "      <td>418.000000</td>\n",
              "      <td>332.000000</td>\n",
              "      <td>418.000000</td>\n",
              "      <td>418.000000</td>\n",
              "      <td>417.000000</td>\n",
              "      <td>418.000000</td>\n",
              "      <td>417.000000</td>\n",
              "    </tr>\n",
              "    <tr>\n",
              "      <th>mean</th>\n",
              "      <td>2.265550</td>\n",
              "      <td>0.363636</td>\n",
              "      <td>30.272590</td>\n",
              "      <td>0.447368</td>\n",
              "      <td>0.392344</td>\n",
              "      <td>35.627188</td>\n",
              "      <td>0.464115</td>\n",
              "      <td>0.817746</td>\n",
              "    </tr>\n",
              "    <tr>\n",
              "      <th>std</th>\n",
              "      <td>0.841838</td>\n",
              "      <td>0.481622</td>\n",
              "      <td>14.181209</td>\n",
              "      <td>0.896760</td>\n",
              "      <td>0.981429</td>\n",
              "      <td>55.907576</td>\n",
              "      <td>0.685516</td>\n",
              "      <td>1.371191</td>\n",
              "    </tr>\n",
              "    <tr>\n",
              "      <th>min</th>\n",
              "      <td>1.000000</td>\n",
              "      <td>0.000000</td>\n",
              "      <td>0.170000</td>\n",
              "      <td>0.000000</td>\n",
              "      <td>0.000000</td>\n",
              "      <td>0.000000</td>\n",
              "      <td>0.000000</td>\n",
              "      <td>0.000000</td>\n",
              "    </tr>\n",
              "    <tr>\n",
              "      <th>25%</th>\n",
              "      <td>1.000000</td>\n",
              "      <td>0.000000</td>\n",
              "      <td>21.000000</td>\n",
              "      <td>0.000000</td>\n",
              "      <td>0.000000</td>\n",
              "      <td>7.895800</td>\n",
              "      <td>0.000000</td>\n",
              "      <td>0.000000</td>\n",
              "    </tr>\n",
              "    <tr>\n",
              "      <th>50%</th>\n",
              "      <td>3.000000</td>\n",
              "      <td>0.000000</td>\n",
              "      <td>27.000000</td>\n",
              "      <td>0.000000</td>\n",
              "      <td>0.000000</td>\n",
              "      <td>14.454200</td>\n",
              "      <td>0.000000</td>\n",
              "      <td>0.000000</td>\n",
              "    </tr>\n",
              "    <tr>\n",
              "      <th>75%</th>\n",
              "      <td>3.000000</td>\n",
              "      <td>1.000000</td>\n",
              "      <td>39.000000</td>\n",
              "      <td>1.000000</td>\n",
              "      <td>0.000000</td>\n",
              "      <td>31.500000</td>\n",
              "      <td>1.000000</td>\n",
              "      <td>2.000000</td>\n",
              "    </tr>\n",
              "    <tr>\n",
              "      <th>max</th>\n",
              "      <td>3.000000</td>\n",
              "      <td>1.000000</td>\n",
              "      <td>76.000000</td>\n",
              "      <td>8.000000</td>\n",
              "      <td>9.000000</td>\n",
              "      <td>512.329200</td>\n",
              "      <td>2.000000</td>\n",
              "      <td>13.000000</td>\n",
              "    </tr>\n",
              "  </tbody>\n",
              "</table>\n",
              "</div>"
            ],
            "text/plain": [
              "           Pclass         Sex         Age  ...        Fare    Embarked       Title\n",
              "count  418.000000  418.000000  332.000000  ...  417.000000  418.000000  417.000000\n",
              "mean     2.265550    0.363636   30.272590  ...   35.627188    0.464115    0.817746\n",
              "std      0.841838    0.481622   14.181209  ...   55.907576    0.685516    1.371191\n",
              "min      1.000000    0.000000    0.170000  ...    0.000000    0.000000    0.000000\n",
              "25%      1.000000    0.000000   21.000000  ...    7.895800    0.000000    0.000000\n",
              "50%      3.000000    0.000000   27.000000  ...   14.454200    0.000000    0.000000\n",
              "75%      3.000000    1.000000   39.000000  ...   31.500000    1.000000    2.000000\n",
              "max      3.000000    1.000000   76.000000  ...  512.329200    2.000000   13.000000\n",
              "\n",
              "[8 rows x 8 columns]"
            ]
          },
          "metadata": {
            "tags": []
          }
        }
      ]
    },
    {
      "cell_type": "markdown",
      "metadata": {
        "id": "h4Xmg8lVPBDl",
        "colab_type": "text"
      },
      "source": [
        "## Discretizar características (de numeros a segmentos)"
      ]
    },
    {
      "cell_type": "code",
      "metadata": {
        "id": "-eUVy5LZgCw7",
        "colab_type": "code",
        "colab": {
          "base_uri": "https://localhost:8080/",
          "height": 54
        },
        "outputId": "c10be286-1c74-421e-a270-44a6a52e7e77"
      },
      "source": [
        "if age_categories > 0:\n",
        "  X_train['Age'] = pd.qcut(X_train['Age'], age_categories)\n",
        "  X_train['Age'], age = pd.factorize(X_train['Age'])\n",
        "  X_train['Age'] = X_train['Age'].replace(-1, np.nan)\n",
        "  age = {k:v for v, k in enumerate(age)}\n",
        "  print(age)"
      ],
      "execution_count": 17,
      "outputs": [
        {
          "output_type": "stream",
          "text": [
            "{Interval(19.0, 22.0, closed='right'): 0, Interval(36.0, 41.0, closed='right'): 1, Interval(25.0, 28.0, closed='right'): 2, Interval(31.8, 36.0, closed='right'): 3, Interval(50.0, 80.0, closed='right'): 4, Interval(0.419, 14.0, closed='right'): 5, Interval(28.0, 31.8, closed='right'): 6, Interval(14.0, 19.0, closed='right'): 7, Interval(41.0, 50.0, closed='right'): 8, Interval(22.0, 25.0, closed='right'): 9}\n"
          ],
          "name": "stdout"
        }
      ]
    },
    {
      "cell_type": "code",
      "metadata": {
        "id": "4tarW9_JPCSy",
        "colab_type": "code",
        "colab": {}
      },
      "source": [
        "if age_categories > 0:\n",
        "  _list = []\n",
        "  for i, x in enumerate(list(X_test['Age'])):\n",
        "    found = False\n",
        "    for k, v in age.items():\n",
        "      try:\n",
        "        if x in k:\n",
        "          _list.append(v)\n",
        "          found = True\n",
        "          break\n",
        "      except:\n",
        "        pass\n",
        "    if not found:\n",
        "      _list.append(np.nan)\n",
        "\n",
        "  X_test['Age'] = _list"
      ],
      "execution_count": 0,
      "outputs": []
    },
    {
      "cell_type": "code",
      "metadata": {
        "id": "1wGn3pvBgJVd",
        "colab_type": "code",
        "colab": {
          "base_uri": "https://localhost:8080/",
          "height": 54
        },
        "outputId": "30dafaf4-7727-489c-9eaa-fcdacf2d51e1"
      },
      "source": [
        "if fare_categories > 0:\n",
        "  X_train['Fare'] = pd.qcut(X_train['Fare'], fare_categories)\n",
        "  X_train['Fare'], fare = pd.factorize(X_train['Fare'])\n",
        "  X_train['Fare'] = X_train['Fare'].replace(-1, np.nan)\n",
        "  fare = {k:v for v, k in enumerate(fare)}\n",
        "  print(fare)"
      ],
      "execution_count": 19,
      "outputs": [
        {
          "output_type": "stream",
          "text": [
            "{Interval(-0.001, 7.55, closed='right'): 0, Interval(39.688, 77.958, closed='right'): 1, Interval(7.854, 8.05, closed='right'): 2, Interval(8.05, 10.5, closed='right'): 3, Interval(14.454, 21.679, closed='right'): 4, Interval(10.5, 14.454, closed='right'): 5, Interval(27.0, 39.688, closed='right'): 6, Interval(21.679, 27.0, closed='right'): 7, Interval(7.55, 7.854, closed='right'): 8, Interval(77.958, 512.329, closed='right'): 9}\n"
          ],
          "name": "stdout"
        }
      ]
    },
    {
      "cell_type": "code",
      "metadata": {
        "id": "LHztELLMgHhf",
        "colab_type": "code",
        "colab": {}
      },
      "source": [
        "if fare_categories > 0:\n",
        "  _list = []\n",
        "  for i, x in enumerate(list(X_test['Fare'])):\n",
        "    found = False\n",
        "    for k, v in fare.items():\n",
        "      try:\n",
        "        if x in k:\n",
        "          _list.append(v)\n",
        "          found = True\n",
        "          break\n",
        "      except:\n",
        "        pass\n",
        "    if not found:\n",
        "      _list.append(np.nan)\n",
        "\n",
        "  X_test['Fare'] = _list"
      ],
      "execution_count": 0,
      "outputs": []
    },
    {
      "cell_type": "code",
      "metadata": {
        "id": "hS9Cc6xTQO60",
        "colab_type": "code",
        "colab": {
          "base_uri": "https://localhost:8080/",
          "height": 1000
        },
        "outputId": "e003a5f8-8243-4eaf-ff49-ed00ca9ebd04"
      },
      "source": [
        "display(X_train.head())\n",
        "display(X_train.describe())\n",
        "display(X_test.head())\n",
        "display(X_test.describe())"
      ],
      "execution_count": 21,
      "outputs": [
        {
          "output_type": "display_data",
          "data": {
            "text/html": [
              "<div>\n",
              "<style scoped>\n",
              "    .dataframe tbody tr th:only-of-type {\n",
              "        vertical-align: middle;\n",
              "    }\n",
              "\n",
              "    .dataframe tbody tr th {\n",
              "        vertical-align: top;\n",
              "    }\n",
              "\n",
              "    .dataframe thead th {\n",
              "        text-align: right;\n",
              "    }\n",
              "</style>\n",
              "<table border=\"1\" class=\"dataframe\">\n",
              "  <thead>\n",
              "    <tr style=\"text-align: right;\">\n",
              "      <th></th>\n",
              "      <th>Pclass</th>\n",
              "      <th>Sex</th>\n",
              "      <th>Age</th>\n",
              "      <th>SibSp</th>\n",
              "      <th>Parch</th>\n",
              "      <th>Fare</th>\n",
              "      <th>Embarked</th>\n",
              "      <th>Title</th>\n",
              "    </tr>\n",
              "    <tr>\n",
              "      <th>PassengerId</th>\n",
              "      <th></th>\n",
              "      <th></th>\n",
              "      <th></th>\n",
              "      <th></th>\n",
              "      <th></th>\n",
              "      <th></th>\n",
              "      <th></th>\n",
              "      <th></th>\n",
              "    </tr>\n",
              "  </thead>\n",
              "  <tbody>\n",
              "    <tr>\n",
              "      <th>1</th>\n",
              "      <td>3</td>\n",
              "      <td>0</td>\n",
              "      <td>0.0</td>\n",
              "      <td>1</td>\n",
              "      <td>0</td>\n",
              "      <td>0</td>\n",
              "      <td>0.0</td>\n",
              "      <td>0</td>\n",
              "    </tr>\n",
              "    <tr>\n",
              "      <th>2</th>\n",
              "      <td>1</td>\n",
              "      <td>1</td>\n",
              "      <td>1.0</td>\n",
              "      <td>1</td>\n",
              "      <td>0</td>\n",
              "      <td>1</td>\n",
              "      <td>1.0</td>\n",
              "      <td>1</td>\n",
              "    </tr>\n",
              "    <tr>\n",
              "      <th>3</th>\n",
              "      <td>3</td>\n",
              "      <td>1</td>\n",
              "      <td>2.0</td>\n",
              "      <td>0</td>\n",
              "      <td>0</td>\n",
              "      <td>2</td>\n",
              "      <td>0.0</td>\n",
              "      <td>2</td>\n",
              "    </tr>\n",
              "    <tr>\n",
              "      <th>4</th>\n",
              "      <td>1</td>\n",
              "      <td>1</td>\n",
              "      <td>3.0</td>\n",
              "      <td>1</td>\n",
              "      <td>0</td>\n",
              "      <td>1</td>\n",
              "      <td>0.0</td>\n",
              "      <td>1</td>\n",
              "    </tr>\n",
              "    <tr>\n",
              "      <th>5</th>\n",
              "      <td>3</td>\n",
              "      <td>0</td>\n",
              "      <td>3.0</td>\n",
              "      <td>0</td>\n",
              "      <td>0</td>\n",
              "      <td>2</td>\n",
              "      <td>0.0</td>\n",
              "      <td>0</td>\n",
              "    </tr>\n",
              "  </tbody>\n",
              "</table>\n",
              "</div>"
            ],
            "text/plain": [
              "             Pclass  Sex  Age  SibSp  Parch  Fare  Embarked  Title\n",
              "PassengerId                                                       \n",
              "1                 3    0  0.0      1      0     0       0.0      0\n",
              "2                 1    1  1.0      1      0     1       1.0      1\n",
              "3                 3    1  2.0      0      0     2       0.0      2\n",
              "4                 1    1  3.0      1      0     1       0.0      1\n",
              "5                 3    0  3.0      0      0     2       0.0      0"
            ]
          },
          "metadata": {
            "tags": []
          }
        },
        {
          "output_type": "display_data",
          "data": {
            "text/html": [
              "<div>\n",
              "<style scoped>\n",
              "    .dataframe tbody tr th:only-of-type {\n",
              "        vertical-align: middle;\n",
              "    }\n",
              "\n",
              "    .dataframe tbody tr th {\n",
              "        vertical-align: top;\n",
              "    }\n",
              "\n",
              "    .dataframe thead th {\n",
              "        text-align: right;\n",
              "    }\n",
              "</style>\n",
              "<table border=\"1\" class=\"dataframe\">\n",
              "  <thead>\n",
              "    <tr style=\"text-align: right;\">\n",
              "      <th></th>\n",
              "      <th>Pclass</th>\n",
              "      <th>Sex</th>\n",
              "      <th>Age</th>\n",
              "      <th>SibSp</th>\n",
              "      <th>Parch</th>\n",
              "      <th>Fare</th>\n",
              "      <th>Embarked</th>\n",
              "      <th>Title</th>\n",
              "    </tr>\n",
              "  </thead>\n",
              "  <tbody>\n",
              "    <tr>\n",
              "      <th>count</th>\n",
              "      <td>891.000000</td>\n",
              "      <td>891.000000</td>\n",
              "      <td>714.000000</td>\n",
              "      <td>891.000000</td>\n",
              "      <td>891.000000</td>\n",
              "      <td>891.000000</td>\n",
              "      <td>889.000000</td>\n",
              "      <td>891.000000</td>\n",
              "    </tr>\n",
              "    <tr>\n",
              "      <th>mean</th>\n",
              "      <td>2.308642</td>\n",
              "      <td>0.352413</td>\n",
              "      <td>4.689076</td>\n",
              "      <td>0.523008</td>\n",
              "      <td>0.381594</td>\n",
              "      <td>4.438833</td>\n",
              "      <td>0.362205</td>\n",
              "      <td>0.936027</td>\n",
              "    </tr>\n",
              "    <tr>\n",
              "      <th>std</th>\n",
              "      <td>0.836071</td>\n",
              "      <td>0.477990</td>\n",
              "      <td>2.819232</td>\n",
              "      <td>1.102743</td>\n",
              "      <td>0.806057</td>\n",
              "      <td>2.887286</td>\n",
              "      <td>0.636157</td>\n",
              "      <td>1.725341</td>\n",
              "    </tr>\n",
              "    <tr>\n",
              "      <th>min</th>\n",
              "      <td>1.000000</td>\n",
              "      <td>0.000000</td>\n",
              "      <td>0.000000</td>\n",
              "      <td>0.000000</td>\n",
              "      <td>0.000000</td>\n",
              "      <td>0.000000</td>\n",
              "      <td>0.000000</td>\n",
              "      <td>0.000000</td>\n",
              "    </tr>\n",
              "    <tr>\n",
              "      <th>25%</th>\n",
              "      <td>2.000000</td>\n",
              "      <td>0.000000</td>\n",
              "      <td>2.000000</td>\n",
              "      <td>0.000000</td>\n",
              "      <td>0.000000</td>\n",
              "      <td>2.000000</td>\n",
              "      <td>0.000000</td>\n",
              "      <td>0.000000</td>\n",
              "    </tr>\n",
              "    <tr>\n",
              "      <th>50%</th>\n",
              "      <td>3.000000</td>\n",
              "      <td>0.000000</td>\n",
              "      <td>5.000000</td>\n",
              "      <td>0.000000</td>\n",
              "      <td>0.000000</td>\n",
              "      <td>4.000000</td>\n",
              "      <td>0.000000</td>\n",
              "      <td>0.000000</td>\n",
              "    </tr>\n",
              "    <tr>\n",
              "      <th>75%</th>\n",
              "      <td>3.000000</td>\n",
              "      <td>1.000000</td>\n",
              "      <td>7.000000</td>\n",
              "      <td>1.000000</td>\n",
              "      <td>0.000000</td>\n",
              "      <td>7.000000</td>\n",
              "      <td>1.000000</td>\n",
              "      <td>2.000000</td>\n",
              "    </tr>\n",
              "    <tr>\n",
              "      <th>max</th>\n",
              "      <td>3.000000</td>\n",
              "      <td>1.000000</td>\n",
              "      <td>9.000000</td>\n",
              "      <td>8.000000</td>\n",
              "      <td>6.000000</td>\n",
              "      <td>9.000000</td>\n",
              "      <td>2.000000</td>\n",
              "      <td>16.000000</td>\n",
              "    </tr>\n",
              "  </tbody>\n",
              "</table>\n",
              "</div>"
            ],
            "text/plain": [
              "           Pclass         Sex         Age  ...        Fare    Embarked       Title\n",
              "count  891.000000  891.000000  714.000000  ...  891.000000  889.000000  891.000000\n",
              "mean     2.308642    0.352413    4.689076  ...    4.438833    0.362205    0.936027\n",
              "std      0.836071    0.477990    2.819232  ...    2.887286    0.636157    1.725341\n",
              "min      1.000000    0.000000    0.000000  ...    0.000000    0.000000    0.000000\n",
              "25%      2.000000    0.000000    2.000000  ...    2.000000    0.000000    0.000000\n",
              "50%      3.000000    0.000000    5.000000  ...    4.000000    0.000000    0.000000\n",
              "75%      3.000000    1.000000    7.000000  ...    7.000000    1.000000    2.000000\n",
              "max      3.000000    1.000000    9.000000  ...    9.000000    2.000000   16.000000\n",
              "\n",
              "[8 rows x 8 columns]"
            ]
          },
          "metadata": {
            "tags": []
          }
        },
        {
          "output_type": "display_data",
          "data": {
            "text/html": [
              "<div>\n",
              "<style scoped>\n",
              "    .dataframe tbody tr th:only-of-type {\n",
              "        vertical-align: middle;\n",
              "    }\n",
              "\n",
              "    .dataframe tbody tr th {\n",
              "        vertical-align: top;\n",
              "    }\n",
              "\n",
              "    .dataframe thead th {\n",
              "        text-align: right;\n",
              "    }\n",
              "</style>\n",
              "<table border=\"1\" class=\"dataframe\">\n",
              "  <thead>\n",
              "    <tr style=\"text-align: right;\">\n",
              "      <th></th>\n",
              "      <th>Pclass</th>\n",
              "      <th>Sex</th>\n",
              "      <th>Age</th>\n",
              "      <th>SibSp</th>\n",
              "      <th>Parch</th>\n",
              "      <th>Fare</th>\n",
              "      <th>Embarked</th>\n",
              "      <th>Title</th>\n",
              "    </tr>\n",
              "    <tr>\n",
              "      <th>PassengerId</th>\n",
              "      <th></th>\n",
              "      <th></th>\n",
              "      <th></th>\n",
              "      <th></th>\n",
              "      <th></th>\n",
              "      <th></th>\n",
              "      <th></th>\n",
              "      <th></th>\n",
              "    </tr>\n",
              "  </thead>\n",
              "  <tbody>\n",
              "    <tr>\n",
              "      <th>892</th>\n",
              "      <td>3</td>\n",
              "      <td>0</td>\n",
              "      <td>3.0</td>\n",
              "      <td>0</td>\n",
              "      <td>0</td>\n",
              "      <td>8.0</td>\n",
              "      <td>2</td>\n",
              "      <td>0.0</td>\n",
              "    </tr>\n",
              "    <tr>\n",
              "      <th>893</th>\n",
              "      <td>3</td>\n",
              "      <td>1</td>\n",
              "      <td>8.0</td>\n",
              "      <td>1</td>\n",
              "      <td>0</td>\n",
              "      <td>0.0</td>\n",
              "      <td>0</td>\n",
              "      <td>1.0</td>\n",
              "    </tr>\n",
              "    <tr>\n",
              "      <th>894</th>\n",
              "      <td>2</td>\n",
              "      <td>0</td>\n",
              "      <td>4.0</td>\n",
              "      <td>0</td>\n",
              "      <td>0</td>\n",
              "      <td>3.0</td>\n",
              "      <td>2</td>\n",
              "      <td>0.0</td>\n",
              "    </tr>\n",
              "    <tr>\n",
              "      <th>895</th>\n",
              "      <td>3</td>\n",
              "      <td>0</td>\n",
              "      <td>2.0</td>\n",
              "      <td>0</td>\n",
              "      <td>0</td>\n",
              "      <td>3.0</td>\n",
              "      <td>0</td>\n",
              "      <td>0.0</td>\n",
              "    </tr>\n",
              "    <tr>\n",
              "      <th>896</th>\n",
              "      <td>3</td>\n",
              "      <td>1</td>\n",
              "      <td>0.0</td>\n",
              "      <td>1</td>\n",
              "      <td>1</td>\n",
              "      <td>5.0</td>\n",
              "      <td>0</td>\n",
              "      <td>1.0</td>\n",
              "    </tr>\n",
              "  </tbody>\n",
              "</table>\n",
              "</div>"
            ],
            "text/plain": [
              "             Pclass  Sex  Age  SibSp  Parch  Fare  Embarked  Title\n",
              "PassengerId                                                       \n",
              "892               3    0  3.0      0      0   8.0         2    0.0\n",
              "893               3    1  8.0      1      0   0.0         0    1.0\n",
              "894               2    0  4.0      0      0   3.0         2    0.0\n",
              "895               3    0  2.0      0      0   3.0         0    0.0\n",
              "896               3    1  0.0      1      1   5.0         0    1.0"
            ]
          },
          "metadata": {
            "tags": []
          }
        },
        {
          "output_type": "display_data",
          "data": {
            "text/html": [
              "<div>\n",
              "<style scoped>\n",
              "    .dataframe tbody tr th:only-of-type {\n",
              "        vertical-align: middle;\n",
              "    }\n",
              "\n",
              "    .dataframe tbody tr th {\n",
              "        vertical-align: top;\n",
              "    }\n",
              "\n",
              "    .dataframe thead th {\n",
              "        text-align: right;\n",
              "    }\n",
              "</style>\n",
              "<table border=\"1\" class=\"dataframe\">\n",
              "  <thead>\n",
              "    <tr style=\"text-align: right;\">\n",
              "      <th></th>\n",
              "      <th>Pclass</th>\n",
              "      <th>Sex</th>\n",
              "      <th>Age</th>\n",
              "      <th>SibSp</th>\n",
              "      <th>Parch</th>\n",
              "      <th>Fare</th>\n",
              "      <th>Embarked</th>\n",
              "      <th>Title</th>\n",
              "    </tr>\n",
              "  </thead>\n",
              "  <tbody>\n",
              "    <tr>\n",
              "      <th>count</th>\n",
              "      <td>418.000000</td>\n",
              "      <td>418.000000</td>\n",
              "      <td>330.000000</td>\n",
              "      <td>418.000000</td>\n",
              "      <td>418.000000</td>\n",
              "      <td>416.000000</td>\n",
              "      <td>418.000000</td>\n",
              "      <td>417.000000</td>\n",
              "    </tr>\n",
              "    <tr>\n",
              "      <th>mean</th>\n",
              "      <td>2.265550</td>\n",
              "      <td>0.363636</td>\n",
              "      <td>4.642424</td>\n",
              "      <td>0.447368</td>\n",
              "      <td>0.392344</td>\n",
              "      <td>4.574519</td>\n",
              "      <td>0.464115</td>\n",
              "      <td>0.817746</td>\n",
              "    </tr>\n",
              "    <tr>\n",
              "      <th>std</th>\n",
              "      <td>0.841838</td>\n",
              "      <td>0.481622</td>\n",
              "      <td>3.008502</td>\n",
              "      <td>0.896760</td>\n",
              "      <td>0.981429</td>\n",
              "      <td>2.918858</td>\n",
              "      <td>0.685516</td>\n",
              "      <td>1.371191</td>\n",
              "    </tr>\n",
              "    <tr>\n",
              "      <th>min</th>\n",
              "      <td>1.000000</td>\n",
              "      <td>0.000000</td>\n",
              "      <td>0.000000</td>\n",
              "      <td>0.000000</td>\n",
              "      <td>0.000000</td>\n",
              "      <td>0.000000</td>\n",
              "      <td>0.000000</td>\n",
              "      <td>0.000000</td>\n",
              "    </tr>\n",
              "    <tr>\n",
              "      <th>25%</th>\n",
              "      <td>1.000000</td>\n",
              "      <td>0.000000</td>\n",
              "      <td>2.000000</td>\n",
              "      <td>0.000000</td>\n",
              "      <td>0.000000</td>\n",
              "      <td>2.000000</td>\n",
              "      <td>0.000000</td>\n",
              "      <td>0.000000</td>\n",
              "    </tr>\n",
              "    <tr>\n",
              "      <th>50%</th>\n",
              "      <td>3.000000</td>\n",
              "      <td>0.000000</td>\n",
              "      <td>5.000000</td>\n",
              "      <td>0.000000</td>\n",
              "      <td>0.000000</td>\n",
              "      <td>5.000000</td>\n",
              "      <td>0.000000</td>\n",
              "      <td>0.000000</td>\n",
              "    </tr>\n",
              "    <tr>\n",
              "      <th>75%</th>\n",
              "      <td>3.000000</td>\n",
              "      <td>1.000000</td>\n",
              "      <td>7.000000</td>\n",
              "      <td>1.000000</td>\n",
              "      <td>0.000000</td>\n",
              "      <td>7.000000</td>\n",
              "      <td>1.000000</td>\n",
              "      <td>2.000000</td>\n",
              "    </tr>\n",
              "    <tr>\n",
              "      <th>max</th>\n",
              "      <td>3.000000</td>\n",
              "      <td>1.000000</td>\n",
              "      <td>9.000000</td>\n",
              "      <td>8.000000</td>\n",
              "      <td>9.000000</td>\n",
              "      <td>9.000000</td>\n",
              "      <td>2.000000</td>\n",
              "      <td>13.000000</td>\n",
              "    </tr>\n",
              "  </tbody>\n",
              "</table>\n",
              "</div>"
            ],
            "text/plain": [
              "           Pclass         Sex         Age  ...        Fare    Embarked       Title\n",
              "count  418.000000  418.000000  330.000000  ...  416.000000  418.000000  417.000000\n",
              "mean     2.265550    0.363636    4.642424  ...    4.574519    0.464115    0.817746\n",
              "std      0.841838    0.481622    3.008502  ...    2.918858    0.685516    1.371191\n",
              "min      1.000000    0.000000    0.000000  ...    0.000000    0.000000    0.000000\n",
              "25%      1.000000    0.000000    2.000000  ...    2.000000    0.000000    0.000000\n",
              "50%      3.000000    0.000000    5.000000  ...    5.000000    0.000000    0.000000\n",
              "75%      3.000000    1.000000    7.000000  ...    7.000000    1.000000    2.000000\n",
              "max      3.000000    1.000000    9.000000  ...    9.000000    2.000000   13.000000\n",
              "\n",
              "[8 rows x 8 columns]"
            ]
          },
          "metadata": {
            "tags": []
          }
        }
      ]
    },
    {
      "cell_type": "markdown",
      "metadata": {
        "id": "q4Y5zhTS6qqZ",
        "colab_type": "text"
      },
      "source": [
        "## Valores perdidos"
      ]
    },
    {
      "cell_type": "code",
      "metadata": {
        "id": "szoUMj_q6uw6",
        "colab_type": "code",
        "colab": {}
      },
      "source": [
        "# https://scikit-learn.org/stable/modules/impute.html\n",
        "# https://scikit-learn.org/dev/modules/generated/sklearn.impute.KNNImputer.html\n",
        "\n",
        "# Se asigna a la variable imp un objeto del tipo KNNImputer\n",
        "imp = KNNImputer().fit(X_train)\n",
        "\n",
        "# Se aplica la transformación para cada atributo\n",
        "X_train = pd.DataFrame(imp.transform(X_train), columns = X_train.columns)\n",
        "X_test = pd.DataFrame(imp.transform(X_test), columns = X_test.columns)"
      ],
      "execution_count": 0,
      "outputs": []
    },
    {
      "cell_type": "code",
      "metadata": {
        "id": "wFMFg6VhiIqX",
        "colab_type": "code",
        "outputId": "9db22493-126a-4dcf-9f3d-42834f74bdf4",
        "colab": {
          "base_uri": "https://localhost:8080/",
          "height": 577
        }
      },
      "source": [
        "display(X_train.describe())\n",
        "display(X_test.describe())"
      ],
      "execution_count": 23,
      "outputs": [
        {
          "output_type": "display_data",
          "data": {
            "text/html": [
              "<div>\n",
              "<style scoped>\n",
              "    .dataframe tbody tr th:only-of-type {\n",
              "        vertical-align: middle;\n",
              "    }\n",
              "\n",
              "    .dataframe tbody tr th {\n",
              "        vertical-align: top;\n",
              "    }\n",
              "\n",
              "    .dataframe thead th {\n",
              "        text-align: right;\n",
              "    }\n",
              "</style>\n",
              "<table border=\"1\" class=\"dataframe\">\n",
              "  <thead>\n",
              "    <tr style=\"text-align: right;\">\n",
              "      <th></th>\n",
              "      <th>Pclass</th>\n",
              "      <th>Sex</th>\n",
              "      <th>Age</th>\n",
              "      <th>SibSp</th>\n",
              "      <th>Parch</th>\n",
              "      <th>Fare</th>\n",
              "      <th>Embarked</th>\n",
              "      <th>Title</th>\n",
              "    </tr>\n",
              "  </thead>\n",
              "  <tbody>\n",
              "    <tr>\n",
              "      <th>count</th>\n",
              "      <td>891.000000</td>\n",
              "      <td>891.000000</td>\n",
              "      <td>891.000000</td>\n",
              "      <td>891.000000</td>\n",
              "      <td>891.000000</td>\n",
              "      <td>891.000000</td>\n",
              "      <td>891.000000</td>\n",
              "      <td>891.000000</td>\n",
              "    </tr>\n",
              "    <tr>\n",
              "      <th>mean</th>\n",
              "      <td>2.308642</td>\n",
              "      <td>0.352413</td>\n",
              "      <td>4.685971</td>\n",
              "      <td>0.523008</td>\n",
              "      <td>0.381594</td>\n",
              "      <td>4.438833</td>\n",
              "      <td>0.362963</td>\n",
              "      <td>0.936027</td>\n",
              "    </tr>\n",
              "    <tr>\n",
              "      <th>std</th>\n",
              "      <td>0.836071</td>\n",
              "      <td>0.477990</td>\n",
              "      <td>2.554664</td>\n",
              "      <td>1.102743</td>\n",
              "      <td>0.806057</td>\n",
              "      <td>2.887286</td>\n",
              "      <td>0.635661</td>\n",
              "      <td>1.725341</td>\n",
              "    </tr>\n",
              "    <tr>\n",
              "      <th>min</th>\n",
              "      <td>1.000000</td>\n",
              "      <td>0.000000</td>\n",
              "      <td>0.000000</td>\n",
              "      <td>0.000000</td>\n",
              "      <td>0.000000</td>\n",
              "      <td>0.000000</td>\n",
              "      <td>0.000000</td>\n",
              "      <td>0.000000</td>\n",
              "    </tr>\n",
              "    <tr>\n",
              "      <th>25%</th>\n",
              "      <td>2.000000</td>\n",
              "      <td>0.000000</td>\n",
              "      <td>3.000000</td>\n",
              "      <td>0.000000</td>\n",
              "      <td>0.000000</td>\n",
              "      <td>2.000000</td>\n",
              "      <td>0.000000</td>\n",
              "      <td>0.000000</td>\n",
              "    </tr>\n",
              "    <tr>\n",
              "      <th>50%</th>\n",
              "      <td>3.000000</td>\n",
              "      <td>0.000000</td>\n",
              "      <td>5.000000</td>\n",
              "      <td>0.000000</td>\n",
              "      <td>0.000000</td>\n",
              "      <td>4.000000</td>\n",
              "      <td>0.000000</td>\n",
              "      <td>0.000000</td>\n",
              "    </tr>\n",
              "    <tr>\n",
              "      <th>75%</th>\n",
              "      <td>3.000000</td>\n",
              "      <td>1.000000</td>\n",
              "      <td>7.000000</td>\n",
              "      <td>1.000000</td>\n",
              "      <td>0.000000</td>\n",
              "      <td>7.000000</td>\n",
              "      <td>1.000000</td>\n",
              "      <td>2.000000</td>\n",
              "    </tr>\n",
              "    <tr>\n",
              "      <th>max</th>\n",
              "      <td>3.000000</td>\n",
              "      <td>1.000000</td>\n",
              "      <td>9.000000</td>\n",
              "      <td>8.000000</td>\n",
              "      <td>6.000000</td>\n",
              "      <td>9.000000</td>\n",
              "      <td>2.000000</td>\n",
              "      <td>16.000000</td>\n",
              "    </tr>\n",
              "  </tbody>\n",
              "</table>\n",
              "</div>"
            ],
            "text/plain": [
              "           Pclass         Sex         Age  ...        Fare    Embarked       Title\n",
              "count  891.000000  891.000000  891.000000  ...  891.000000  891.000000  891.000000\n",
              "mean     2.308642    0.352413    4.685971  ...    4.438833    0.362963    0.936027\n",
              "std      0.836071    0.477990    2.554664  ...    2.887286    0.635661    1.725341\n",
              "min      1.000000    0.000000    0.000000  ...    0.000000    0.000000    0.000000\n",
              "25%      2.000000    0.000000    3.000000  ...    2.000000    0.000000    0.000000\n",
              "50%      3.000000    0.000000    5.000000  ...    4.000000    0.000000    0.000000\n",
              "75%      3.000000    1.000000    7.000000  ...    7.000000    1.000000    2.000000\n",
              "max      3.000000    1.000000    9.000000  ...    9.000000    2.000000   16.000000\n",
              "\n",
              "[8 rows x 8 columns]"
            ]
          },
          "metadata": {
            "tags": []
          }
        },
        {
          "output_type": "display_data",
          "data": {
            "text/html": [
              "<div>\n",
              "<style scoped>\n",
              "    .dataframe tbody tr th:only-of-type {\n",
              "        vertical-align: middle;\n",
              "    }\n",
              "\n",
              "    .dataframe tbody tr th {\n",
              "        vertical-align: top;\n",
              "    }\n",
              "\n",
              "    .dataframe thead th {\n",
              "        text-align: right;\n",
              "    }\n",
              "</style>\n",
              "<table border=\"1\" class=\"dataframe\">\n",
              "  <thead>\n",
              "    <tr style=\"text-align: right;\">\n",
              "      <th></th>\n",
              "      <th>Pclass</th>\n",
              "      <th>Sex</th>\n",
              "      <th>Age</th>\n",
              "      <th>SibSp</th>\n",
              "      <th>Parch</th>\n",
              "      <th>Fare</th>\n",
              "      <th>Embarked</th>\n",
              "      <th>Title</th>\n",
              "    </tr>\n",
              "  </thead>\n",
              "  <tbody>\n",
              "    <tr>\n",
              "      <th>count</th>\n",
              "      <td>418.000000</td>\n",
              "      <td>418.000000</td>\n",
              "      <td>418.000000</td>\n",
              "      <td>418.000000</td>\n",
              "      <td>418.000000</td>\n",
              "      <td>418.000000</td>\n",
              "      <td>418.000000</td>\n",
              "      <td>418.000000</td>\n",
              "    </tr>\n",
              "    <tr>\n",
              "      <th>mean</th>\n",
              "      <td>2.265550</td>\n",
              "      <td>0.363636</td>\n",
              "      <td>4.669378</td>\n",
              "      <td>0.447368</td>\n",
              "      <td>0.392344</td>\n",
              "      <td>4.580861</td>\n",
              "      <td>0.464115</td>\n",
              "      <td>0.820096</td>\n",
              "    </tr>\n",
              "    <tr>\n",
              "      <th>std</th>\n",
              "      <td>0.841838</td>\n",
              "      <td>0.481622</td>\n",
              "      <td>2.704729</td>\n",
              "      <td>0.896760</td>\n",
              "      <td>0.981429</td>\n",
              "      <td>2.915142</td>\n",
              "      <td>0.685516</td>\n",
              "      <td>1.370388</td>\n",
              "    </tr>\n",
              "    <tr>\n",
              "      <th>min</th>\n",
              "      <td>1.000000</td>\n",
              "      <td>0.000000</td>\n",
              "      <td>0.000000</td>\n",
              "      <td>0.000000</td>\n",
              "      <td>0.000000</td>\n",
              "      <td>0.000000</td>\n",
              "      <td>0.000000</td>\n",
              "      <td>0.000000</td>\n",
              "    </tr>\n",
              "    <tr>\n",
              "      <th>25%</th>\n",
              "      <td>1.000000</td>\n",
              "      <td>0.000000</td>\n",
              "      <td>3.000000</td>\n",
              "      <td>0.000000</td>\n",
              "      <td>0.000000</td>\n",
              "      <td>2.000000</td>\n",
              "      <td>0.000000</td>\n",
              "      <td>0.000000</td>\n",
              "    </tr>\n",
              "    <tr>\n",
              "      <th>50%</th>\n",
              "      <td>3.000000</td>\n",
              "      <td>0.000000</td>\n",
              "      <td>4.900000</td>\n",
              "      <td>0.000000</td>\n",
              "      <td>0.000000</td>\n",
              "      <td>5.000000</td>\n",
              "      <td>0.000000</td>\n",
              "      <td>0.000000</td>\n",
              "    </tr>\n",
              "    <tr>\n",
              "      <th>75%</th>\n",
              "      <td>3.000000</td>\n",
              "      <td>1.000000</td>\n",
              "      <td>7.000000</td>\n",
              "      <td>1.000000</td>\n",
              "      <td>0.000000</td>\n",
              "      <td>7.000000</td>\n",
              "      <td>1.000000</td>\n",
              "      <td>1.950000</td>\n",
              "    </tr>\n",
              "    <tr>\n",
              "      <th>max</th>\n",
              "      <td>3.000000</td>\n",
              "      <td>1.000000</td>\n",
              "      <td>9.000000</td>\n",
              "      <td>8.000000</td>\n",
              "      <td>9.000000</td>\n",
              "      <td>9.000000</td>\n",
              "      <td>2.000000</td>\n",
              "      <td>13.000000</td>\n",
              "    </tr>\n",
              "  </tbody>\n",
              "</table>\n",
              "</div>"
            ],
            "text/plain": [
              "           Pclass         Sex         Age  ...        Fare    Embarked       Title\n",
              "count  418.000000  418.000000  418.000000  ...  418.000000  418.000000  418.000000\n",
              "mean     2.265550    0.363636    4.669378  ...    4.580861    0.464115    0.820096\n",
              "std      0.841838    0.481622    2.704729  ...    2.915142    0.685516    1.370388\n",
              "min      1.000000    0.000000    0.000000  ...    0.000000    0.000000    0.000000\n",
              "25%      1.000000    0.000000    3.000000  ...    2.000000    0.000000    0.000000\n",
              "50%      3.000000    0.000000    4.900000  ...    5.000000    0.000000    0.000000\n",
              "75%      3.000000    1.000000    7.000000  ...    7.000000    1.000000    1.950000\n",
              "max      3.000000    1.000000    9.000000  ...    9.000000    2.000000   13.000000\n",
              "\n",
              "[8 rows x 8 columns]"
            ]
          },
          "metadata": {
            "tags": []
          }
        }
      ]
    },
    {
      "cell_type": "markdown",
      "metadata": {
        "id": "8LKjD6vu9e-h",
        "colab_type": "text"
      },
      "source": [
        "## Valores extremos\n",
        "\n",
        "Añadir la opción de eliminar valore extermos o no"
      ]
    },
    {
      "cell_type": "code",
      "metadata": {
        "id": "KtwW19Od5-UM",
        "colab_type": "code",
        "outputId": "67916f77-2c15-403d-ed46-fc318a865604",
        "colab": {
          "base_uri": "https://localhost:8080/",
          "height": 279
        }
      },
      "source": [
        "plot = sns.boxplot(X_train['Age']);"
      ],
      "execution_count": 24,
      "outputs": [
        {
          "output_type": "display_data",
          "data": {
            "image/png": "[encoded data removed]",
            "text/plain": [
              "<Figure size 432x288 with 1 Axes>"
            ]
          },
          "metadata": {
            "tags": [],
            "needs_background": "light"
          }
        }
      ]
    },
    {
      "cell_type": "code",
      "metadata": {
        "id": "r9WcAyI76Lm9",
        "colab_type": "code",
        "outputId": "0147b71c-a692-4292-a497-5be194f9a9ec",
        "colab": {
          "base_uri": "https://localhost:8080/",
          "height": 279
        }
      },
      "source": [
        "plot = sns.boxplot(X_train['Fare']);"
      ],
      "execution_count": 25,
      "outputs": [
        {
          "output_type": "display_data",
          "data": {
            "image/png": "[encoded data removed]",
            "text/plain": [
              "<Figure size 432x288 with 1 Axes>"
            ]
          },
          "metadata": {
            "tags": [],
            "needs_background": "light"
          }
        }
      ]
    },
    {
      "cell_type": "markdown",
      "metadata": {
        "id": "fzFAZhrnB5vr",
        "colab_type": "text"
      },
      "source": [
        "## Reducción la dimensionalidad"
      ]
    },
    {
      "cell_type": "code",
      "metadata": {
        "id": "lsHQJGhGAieR",
        "colab_type": "code",
        "outputId": "1e2e284d-4a15-4b38-9253-de69c0a8fefe",
        "colab": {
          "base_uri": "https://localhost:8080/",
          "height": 282
        }
      },
      "source": [
        "# https://scikit-learn.org/stable/modules/generated/sklearn.decomposition.PCA.html\n",
        "pca = PCA(n_components = len(X_train.columns)).fit(X_train)\n",
        "\n",
        "# A) Proporción de la variabilidad explicada por el primer componente\n",
        "print('Proporción de la variabilidad explicada por elos componentes: ' +\n",
        "      str([round(value, 5) for value in pca.explained_variance_ratio_]))\n",
        "\n",
        "# B) Diagrama de barras que representa la proporción de variabilidad explicada\n",
        "# por los tres componentes más significativos\n",
        "\n",
        "# Se genera una nueva figura\n",
        "fig, ax = plt.subplots()\n",
        "# Se representa el eje y en escala logarítmica para apreciar mejor la\n",
        "# proporción de variabilidad explicada por los componentes menos significativos\n",
        "ax.set_yscale('log')\n",
        "# Se genera una gráfica de barras \n",
        "# https://matplotlib.org/3.1.1/api/_as_gen/matplotlib.pyplot.bar.html\n",
        "plt.bar(range(len(pca.explained_variance_ratio_)), pca.explained_variance_ratio_)\n",
        "# Se añade una etiqueta con el valor de la proporción de variabilidad explicada\n",
        "for i, value in enumerate(pca.explained_variance_ratio_):\n",
        "    plt.text(i, value, round(value,5), ha='center')\n",
        "# Se muestra la gráfica\n",
        "plt.show()"
      ],
      "execution_count": 26,
      "outputs": [
        {
          "output_type": "stream",
          "text": [
            "Proporción de la variabilidad explicada por elos componentes: [0.40693, 0.31076, 0.14126, 0.06438, 0.029, 0.02244, 0.01688, 0.00835]\n"
          ],
          "name": "stdout"
        },
        {
          "output_type": "display_data",
          "data": {
            "image/png": "[encoded data removed]",
            "text/plain": [
              "<Figure size 432x288 with 1 Axes>"
            ]
          },
          "metadata": {
            "tags": [],
            "needs_background": "light"
          }
        }
      ]
    },
    {
      "cell_type": "code",
      "metadata": {
        "id": "vHM4XyoO8AN1",
        "colab_type": "code",
        "colab": {}
      },
      "source": [
        "if dimensions_removed > 0:\n",
        "  pca = PCA(n_components = len(X_train.columns) - dimensions_removed).fit(X_train)\n",
        "  X_train = pd.DataFrame(pca.transform(X_train))\n",
        "  X_test = pd.DataFrame(pca.transform(X_test))  "
      ],
      "execution_count": 0,
      "outputs": []
    },
    {
      "cell_type": "code",
      "metadata": {
        "id": "e0sGHQ1x8nJ6",
        "colab_type": "code",
        "colab": {
          "base_uri": "https://localhost:8080/",
          "height": 577
        },
        "outputId": "24845282-4b0b-45a6-85c1-5d8a457b816d"
      },
      "source": [
        "display(X_train.describe())\n",
        "display(X_test.describe())"
      ],
      "execution_count": 28,
      "outputs": [
        {
          "output_type": "display_data",
          "data": {
            "text/html": [
              "<div>\n",
              "<style scoped>\n",
              "    .dataframe tbody tr th:only-of-type {\n",
              "        vertical-align: middle;\n",
              "    }\n",
              "\n",
              "    .dataframe tbody tr th {\n",
              "        vertical-align: top;\n",
              "    }\n",
              "\n",
              "    .dataframe thead th {\n",
              "        text-align: right;\n",
              "    }\n",
              "</style>\n",
              "<table border=\"1\" class=\"dataframe\">\n",
              "  <thead>\n",
              "    <tr style=\"text-align: right;\">\n",
              "      <th></th>\n",
              "      <th>Pclass</th>\n",
              "      <th>Sex</th>\n",
              "      <th>Age</th>\n",
              "      <th>SibSp</th>\n",
              "      <th>Parch</th>\n",
              "      <th>Fare</th>\n",
              "      <th>Embarked</th>\n",
              "      <th>Title</th>\n",
              "    </tr>\n",
              "  </thead>\n",
              "  <tbody>\n",
              "    <tr>\n",
              "      <th>count</th>\n",
              "      <td>891.000000</td>\n",
              "      <td>891.000000</td>\n",
              "      <td>891.000000</td>\n",
              "      <td>891.000000</td>\n",
              "      <td>891.000000</td>\n",
              "      <td>891.000000</td>\n",
              "      <td>891.000000</td>\n",
              "      <td>891.000000</td>\n",
              "    </tr>\n",
              "    <tr>\n",
              "      <th>mean</th>\n",
              "      <td>2.308642</td>\n",
              "      <td>0.352413</td>\n",
              "      <td>4.685971</td>\n",
              "      <td>0.523008</td>\n",
              "      <td>0.381594</td>\n",
              "      <td>4.438833</td>\n",
              "      <td>0.362963</td>\n",
              "      <td>0.936027</td>\n",
              "    </tr>\n",
              "    <tr>\n",
              "      <th>std</th>\n",
              "      <td>0.836071</td>\n",
              "      <td>0.477990</td>\n",
              "      <td>2.554664</td>\n",
              "      <td>1.102743</td>\n",
              "      <td>0.806057</td>\n",
              "      <td>2.887286</td>\n",
              "      <td>0.635661</td>\n",
              "      <td>1.725341</td>\n",
              "    </tr>\n",
              "    <tr>\n",
              "      <th>min</th>\n",
              "      <td>1.000000</td>\n",
              "      <td>0.000000</td>\n",
              "      <td>0.000000</td>\n",
              "      <td>0.000000</td>\n",
              "      <td>0.000000</td>\n",
              "      <td>0.000000</td>\n",
              "      <td>0.000000</td>\n",
              "      <td>0.000000</td>\n",
              "    </tr>\n",
              "    <tr>\n",
              "      <th>25%</th>\n",
              "      <td>2.000000</td>\n",
              "      <td>0.000000</td>\n",
              "      <td>3.000000</td>\n",
              "      <td>0.000000</td>\n",
              "      <td>0.000000</td>\n",
              "      <td>2.000000</td>\n",
              "      <td>0.000000</td>\n",
              "      <td>0.000000</td>\n",
              "    </tr>\n",
              "    <tr>\n",
              "      <th>50%</th>\n",
              "      <td>3.000000</td>\n",
              "      <td>0.000000</td>\n",
              "      <td>5.000000</td>\n",
              "      <td>0.000000</td>\n",
              "      <td>0.000000</td>\n",
              "      <td>4.000000</td>\n",
              "      <td>0.000000</td>\n",
              "      <td>0.000000</td>\n",
              "    </tr>\n",
              "    <tr>\n",
              "      <th>75%</th>\n",
              "      <td>3.000000</td>\n",
              "      <td>1.000000</td>\n",
              "      <td>7.000000</td>\n",
              "      <td>1.000000</td>\n",
              "      <td>0.000000</td>\n",
              "      <td>7.000000</td>\n",
              "      <td>1.000000</td>\n",
              "      <td>2.000000</td>\n",
              "    </tr>\n",
              "    <tr>\n",
              "      <th>max</th>\n",
              "      <td>3.000000</td>\n",
              "      <td>1.000000</td>\n",
              "      <td>9.000000</td>\n",
              "      <td>8.000000</td>\n",
              "      <td>6.000000</td>\n",
              "      <td>9.000000</td>\n",
              "      <td>2.000000</td>\n",
              "      <td>16.000000</td>\n",
              "    </tr>\n",
              "  </tbody>\n",
              "</table>\n",
              "</div>"
            ],
            "text/plain": [
              "           Pclass         Sex         Age  ...        Fare    Embarked       Title\n",
              "count  891.000000  891.000000  891.000000  ...  891.000000  891.000000  891.000000\n",
              "mean     2.308642    0.352413    4.685971  ...    4.438833    0.362963    0.936027\n",
              "std      0.836071    0.477990    2.554664  ...    2.887286    0.635661    1.725341\n",
              "min      1.000000    0.000000    0.000000  ...    0.000000    0.000000    0.000000\n",
              "25%      2.000000    0.000000    3.000000  ...    2.000000    0.000000    0.000000\n",
              "50%      3.000000    0.000000    5.000000  ...    4.000000    0.000000    0.000000\n",
              "75%      3.000000    1.000000    7.000000  ...    7.000000    1.000000    2.000000\n",
              "max      3.000000    1.000000    9.000000  ...    9.000000    2.000000   16.000000\n",
              "\n",
              "[8 rows x 8 columns]"
            ]
          },
          "metadata": {
            "tags": []
          }
        },
        {
          "output_type": "display_data",
          "data": {
            "text/html": [
              "<div>\n",
              "<style scoped>\n",
              "    .dataframe tbody tr th:only-of-type {\n",
              "        vertical-align: middle;\n",
              "    }\n",
              "\n",
              "    .dataframe tbody tr th {\n",
              "        vertical-align: top;\n",
              "    }\n",
              "\n",
              "    .dataframe thead th {\n",
              "        text-align: right;\n",
              "    }\n",
              "</style>\n",
              "<table border=\"1\" class=\"dataframe\">\n",
              "  <thead>\n",
              "    <tr style=\"text-align: right;\">\n",
              "      <th></th>\n",
              "      <th>Pclass</th>\n",
              "      <th>Sex</th>\n",
              "      <th>Age</th>\n",
              "      <th>SibSp</th>\n",
              "      <th>Parch</th>\n",
              "      <th>Fare</th>\n",
              "      <th>Embarked</th>\n",
              "      <th>Title</th>\n",
              "    </tr>\n",
              "  </thead>\n",
              "  <tbody>\n",
              "    <tr>\n",
              "      <th>count</th>\n",
              "      <td>418.000000</td>\n",
              "      <td>418.000000</td>\n",
              "      <td>418.000000</td>\n",
              "      <td>418.000000</td>\n",
              "      <td>418.000000</td>\n",
              "      <td>418.000000</td>\n",
              "      <td>418.000000</td>\n",
              "      <td>418.000000</td>\n",
              "    </tr>\n",
              "    <tr>\n",
              "      <th>mean</th>\n",
              "      <td>2.265550</td>\n",
              "      <td>0.363636</td>\n",
              "      <td>4.669378</td>\n",
              "      <td>0.447368</td>\n",
              "      <td>0.392344</td>\n",
              "      <td>4.580861</td>\n",
              "      <td>0.464115</td>\n",
              "      <td>0.820096</td>\n",
              "    </tr>\n",
              "    <tr>\n",
              "      <th>std</th>\n",
              "      <td>0.841838</td>\n",
              "      <td>0.481622</td>\n",
              "      <td>2.704729</td>\n",
              "      <td>0.896760</td>\n",
              "      <td>0.981429</td>\n",
              "      <td>2.915142</td>\n",
              "      <td>0.685516</td>\n",
              "      <td>1.370388</td>\n",
              "    </tr>\n",
              "    <tr>\n",
              "      <th>min</th>\n",
              "      <td>1.000000</td>\n",
              "      <td>0.000000</td>\n",
              "      <td>0.000000</td>\n",
              "      <td>0.000000</td>\n",
              "      <td>0.000000</td>\n",
              "      <td>0.000000</td>\n",
              "      <td>0.000000</td>\n",
              "      <td>0.000000</td>\n",
              "    </tr>\n",
              "    <tr>\n",
              "      <th>25%</th>\n",
              "      <td>1.000000</td>\n",
              "      <td>0.000000</td>\n",
              "      <td>3.000000</td>\n",
              "      <td>0.000000</td>\n",
              "      <td>0.000000</td>\n",
              "      <td>2.000000</td>\n",
              "      <td>0.000000</td>\n",
              "      <td>0.000000</td>\n",
              "    </tr>\n",
              "    <tr>\n",
              "      <th>50%</th>\n",
              "      <td>3.000000</td>\n",
              "      <td>0.000000</td>\n",
              "      <td>4.900000</td>\n",
              "      <td>0.000000</td>\n",
              "      <td>0.000000</td>\n",
              "      <td>5.000000</td>\n",
              "      <td>0.000000</td>\n",
              "      <td>0.000000</td>\n",
              "    </tr>\n",
              "    <tr>\n",
              "      <th>75%</th>\n",
              "      <td>3.000000</td>\n",
              "      <td>1.000000</td>\n",
              "      <td>7.000000</td>\n",
              "      <td>1.000000</td>\n",
              "      <td>0.000000</td>\n",
              "      <td>7.000000</td>\n",
              "      <td>1.000000</td>\n",
              "      <td>1.950000</td>\n",
              "    </tr>\n",
              "    <tr>\n",
              "      <th>max</th>\n",
              "      <td>3.000000</td>\n",
              "      <td>1.000000</td>\n",
              "      <td>9.000000</td>\n",
              "      <td>8.000000</td>\n",
              "      <td>9.000000</td>\n",
              "      <td>9.000000</td>\n",
              "      <td>2.000000</td>\n",
              "      <td>13.000000</td>\n",
              "    </tr>\n",
              "  </tbody>\n",
              "</table>\n",
              "</div>"
            ],
            "text/plain": [
              "           Pclass         Sex         Age  ...        Fare    Embarked       Title\n",
              "count  418.000000  418.000000  418.000000  ...  418.000000  418.000000  418.000000\n",
              "mean     2.265550    0.363636    4.669378  ...    4.580861    0.464115    0.820096\n",
              "std      0.841838    0.481622    2.704729  ...    2.915142    0.685516    1.370388\n",
              "min      1.000000    0.000000    0.000000  ...    0.000000    0.000000    0.000000\n",
              "25%      1.000000    0.000000    3.000000  ...    2.000000    0.000000    0.000000\n",
              "50%      3.000000    0.000000    4.900000  ...    5.000000    0.000000    0.000000\n",
              "75%      3.000000    1.000000    7.000000  ...    7.000000    1.000000    1.950000\n",
              "max      3.000000    1.000000    9.000000  ...    9.000000    2.000000   13.000000\n",
              "\n",
              "[8 rows x 8 columns]"
            ]
          },
          "metadata": {
            "tags": []
          }
        }
      ]
    },
    {
      "cell_type": "markdown",
      "metadata": {
        "id": "95wEMYbm-WYh",
        "colab_type": "text"
      },
      "source": [
        "## Estandarización"
      ]
    },
    {
      "cell_type": "code",
      "metadata": {
        "id": "DSJ1PO6P-V8j",
        "colab_type": "code",
        "colab": {}
      },
      "source": [
        "# https://scikit-learn.org/stable/modules/neural_networks_supervised.html#mlp-tips\n",
        "scaler = StandardScaler().fit(X_train)\n",
        "X_train = pd.DataFrame(scaler.transform(X_train), columns = X_train.columns)\n",
        "X_test = pd.DataFrame(scaler.transform(X_test), columns = X_test.columns)"
      ],
      "execution_count": 0,
      "outputs": []
    },
    {
      "cell_type": "code",
      "metadata": {
        "id": "7akyKEwO__dY",
        "colab_type": "code",
        "outputId": "c1a07aae-da13-4d4b-a146-f8065380b33c",
        "colab": {
          "base_uri": "https://localhost:8080/",
          "height": 577
        }
      },
      "source": [
        "display(X_train.describe())\n",
        "display(X_test.describe())"
      ],
      "execution_count": 30,
      "outputs": [
        {
          "output_type": "display_data",
          "data": {
            "text/html": [
              "<div>\n",
              "<style scoped>\n",
              "    .dataframe tbody tr th:only-of-type {\n",
              "        vertical-align: middle;\n",
              "    }\n",
              "\n",
              "    .dataframe tbody tr th {\n",
              "        vertical-align: top;\n",
              "    }\n",
              "\n",
              "    .dataframe thead th {\n",
              "        text-align: right;\n",
              "    }\n",
              "</style>\n",
              "<table border=\"1\" class=\"dataframe\">\n",
              "  <thead>\n",
              "    <tr style=\"text-align: right;\">\n",
              "      <th></th>\n",
              "      <th>Pclass</th>\n",
              "      <th>Sex</th>\n",
              "      <th>Age</th>\n",
              "      <th>SibSp</th>\n",
              "      <th>Parch</th>\n",
              "      <th>Fare</th>\n",
              "      <th>Embarked</th>\n",
              "      <th>Title</th>\n",
              "    </tr>\n",
              "  </thead>\n",
              "  <tbody>\n",
              "    <tr>\n",
              "      <th>count</th>\n",
              "      <td>8.910000e+02</td>\n",
              "      <td>8.910000e+02</td>\n",
              "      <td>8.910000e+02</td>\n",
              "      <td>8.910000e+02</td>\n",
              "      <td>8.910000e+02</td>\n",
              "      <td>8.910000e+02</td>\n",
              "      <td>8.910000e+02</td>\n",
              "      <td>8.910000e+02</td>\n",
              "    </tr>\n",
              "    <tr>\n",
              "      <th>mean</th>\n",
              "      <td>-2.031048e-16</td>\n",
              "      <td>3.162453e-16</td>\n",
              "      <td>-6.105604e-18</td>\n",
              "      <td>3.456519e-16</td>\n",
              "      <td>6.716164e-17</td>\n",
              "      <td>-1.993666e-17</td>\n",
              "      <td>6.678783e-17</td>\n",
              "      <td>2.367479e-17</td>\n",
              "    </tr>\n",
              "    <tr>\n",
              "      <th>std</th>\n",
              "      <td>1.000562e+00</td>\n",
              "      <td>1.000562e+00</td>\n",
              "      <td>1.000562e+00</td>\n",
              "      <td>1.000562e+00</td>\n",
              "      <td>1.000562e+00</td>\n",
              "      <td>1.000562e+00</td>\n",
              "      <td>1.000562e+00</td>\n",
              "      <td>1.000562e+00</td>\n",
              "    </tr>\n",
              "    <tr>\n",
              "      <th>min</th>\n",
              "      <td>-1.566107e+00</td>\n",
              "      <td>-7.376951e-01</td>\n",
              "      <td>-1.835311e+00</td>\n",
              "      <td>-4.745452e-01</td>\n",
              "      <td>-4.736736e-01</td>\n",
              "      <td>-1.538235e+00</td>\n",
              "      <td>-5.713215e-01</td>\n",
              "      <td>-5.428218e-01</td>\n",
              "    </tr>\n",
              "    <tr>\n",
              "      <th>25%</th>\n",
              "      <td>-3.693648e-01</td>\n",
              "      <td>-7.376951e-01</td>\n",
              "      <td>-6.603286e-01</td>\n",
              "      <td>-4.745452e-01</td>\n",
              "      <td>-4.736736e-01</td>\n",
              "      <td>-8.451543e-01</td>\n",
              "      <td>-5.713215e-01</td>\n",
              "      <td>-5.428218e-01</td>\n",
              "    </tr>\n",
              "    <tr>\n",
              "      <th>50%</th>\n",
              "      <td>8.273772e-01</td>\n",
              "      <td>-7.376951e-01</td>\n",
              "      <td>1.229929e-01</td>\n",
              "      <td>-4.745452e-01</td>\n",
              "      <td>-4.736736e-01</td>\n",
              "      <td>-1.520733e-01</td>\n",
              "      <td>-5.713215e-01</td>\n",
              "      <td>-5.428218e-01</td>\n",
              "    </tr>\n",
              "    <tr>\n",
              "      <th>75%</th>\n",
              "      <td>8.273772e-01</td>\n",
              "      <td>1.355574e+00</td>\n",
              "      <td>9.063144e-01</td>\n",
              "      <td>4.327934e-01</td>\n",
              "      <td>-4.736736e-01</td>\n",
              "      <td>8.875481e-01</td>\n",
              "      <td>1.002728e+00</td>\n",
              "      <td>6.170204e-01</td>\n",
              "    </tr>\n",
              "    <tr>\n",
              "      <th>max</th>\n",
              "      <td>8.273772e-01</td>\n",
              "      <td>1.355574e+00</td>\n",
              "      <td>1.689636e+00</td>\n",
              "      <td>6.784163e+00</td>\n",
              "      <td>6.974147e+00</td>\n",
              "      <td>1.580629e+00</td>\n",
              "      <td>2.576777e+00</td>\n",
              "      <td>8.735916e+00</td>\n",
              "    </tr>\n",
              "  </tbody>\n",
              "</table>\n",
              "</div>"
            ],
            "text/plain": [
              "             Pclass           Sex  ...      Embarked         Title\n",
              "count  8.910000e+02  8.910000e+02  ...  8.910000e+02  8.910000e+02\n",
              "mean  -2.031048e-16  3.162453e-16  ...  6.678783e-17  2.367479e-17\n",
              "std    1.000562e+00  1.000562e+00  ...  1.000562e+00  1.000562e+00\n",
              "min   -1.566107e+00 -7.376951e-01  ... -5.713215e-01 -5.428218e-01\n",
              "25%   -3.693648e-01 -7.376951e-01  ... -5.713215e-01 -5.428218e-01\n",
              "50%    8.273772e-01 -7.376951e-01  ... -5.713215e-01 -5.428218e-01\n",
              "75%    8.273772e-01  1.355574e+00  ...  1.002728e+00  6.170204e-01\n",
              "max    8.273772e-01  1.355574e+00  ...  2.576777e+00  8.735916e+00\n",
              "\n",
              "[8 rows x 8 columns]"
            ]
          },
          "metadata": {
            "tags": []
          }
        },
        {
          "output_type": "display_data",
          "data": {
            "text/html": [
              "<div>\n",
              "<style scoped>\n",
              "    .dataframe tbody tr th:only-of-type {\n",
              "        vertical-align: middle;\n",
              "    }\n",
              "\n",
              "    .dataframe tbody tr th {\n",
              "        vertical-align: top;\n",
              "    }\n",
              "\n",
              "    .dataframe thead th {\n",
              "        text-align: right;\n",
              "    }\n",
              "</style>\n",
              "<table border=\"1\" class=\"dataframe\">\n",
              "  <thead>\n",
              "    <tr style=\"text-align: right;\">\n",
              "      <th></th>\n",
              "      <th>Pclass</th>\n",
              "      <th>Sex</th>\n",
              "      <th>Age</th>\n",
              "      <th>SibSp</th>\n",
              "      <th>Parch</th>\n",
              "      <th>Fare</th>\n",
              "      <th>Embarked</th>\n",
              "      <th>Title</th>\n",
              "    </tr>\n",
              "  </thead>\n",
              "  <tbody>\n",
              "    <tr>\n",
              "      <th>count</th>\n",
              "      <td>418.000000</td>\n",
              "      <td>418.000000</td>\n",
              "      <td>418.000000</td>\n",
              "      <td>418.000000</td>\n",
              "      <td>418.000000</td>\n",
              "      <td>418.000000</td>\n",
              "      <td>418.000000</td>\n",
              "      <td>418.000000</td>\n",
              "    </tr>\n",
              "    <tr>\n",
              "      <th>mean</th>\n",
              "      <td>-0.051570</td>\n",
              "      <td>0.023493</td>\n",
              "      <td>-0.006499</td>\n",
              "      <td>-0.068631</td>\n",
              "      <td>0.013345</td>\n",
              "      <td>0.049219</td>\n",
              "      <td>0.159218</td>\n",
              "      <td>-0.067231</td>\n",
              "    </tr>\n",
              "    <tr>\n",
              "      <th>std</th>\n",
              "      <td>1.007462</td>\n",
              "      <td>1.008165</td>\n",
              "      <td>1.059336</td>\n",
              "      <td>0.813665</td>\n",
              "      <td>1.218251</td>\n",
              "      <td>1.010215</td>\n",
              "      <td>1.079036</td>\n",
              "      <td>0.794717</td>\n",
              "    </tr>\n",
              "    <tr>\n",
              "      <th>min</th>\n",
              "      <td>-1.566107</td>\n",
              "      <td>-0.737695</td>\n",
              "      <td>-1.835311</td>\n",
              "      <td>-0.474545</td>\n",
              "      <td>-0.473674</td>\n",
              "      <td>-1.538235</td>\n",
              "      <td>-0.571322</td>\n",
              "      <td>-0.542822</td>\n",
              "    </tr>\n",
              "    <tr>\n",
              "      <th>25%</th>\n",
              "      <td>-1.566107</td>\n",
              "      <td>-0.737695</td>\n",
              "      <td>-0.660329</td>\n",
              "      <td>-0.474545</td>\n",
              "      <td>-0.473674</td>\n",
              "      <td>-0.845154</td>\n",
              "      <td>-0.571322</td>\n",
              "      <td>-0.542822</td>\n",
              "    </tr>\n",
              "    <tr>\n",
              "      <th>50%</th>\n",
              "      <td>0.827377</td>\n",
              "      <td>-0.737695</td>\n",
              "      <td>0.083827</td>\n",
              "      <td>-0.474545</td>\n",
              "      <td>-0.473674</td>\n",
              "      <td>0.194467</td>\n",
              "      <td>-0.571322</td>\n",
              "      <td>-0.542822</td>\n",
              "    </tr>\n",
              "    <tr>\n",
              "      <th>75%</th>\n",
              "      <td>0.827377</td>\n",
              "      <td>1.355574</td>\n",
              "      <td>0.906314</td>\n",
              "      <td>0.432793</td>\n",
              "      <td>-0.473674</td>\n",
              "      <td>0.887548</td>\n",
              "      <td>1.002728</td>\n",
              "      <td>0.588024</td>\n",
              "    </tr>\n",
              "    <tr>\n",
              "      <th>max</th>\n",
              "      <td>0.827377</td>\n",
              "      <td>1.355574</td>\n",
              "      <td>1.689636</td>\n",
              "      <td>6.784163</td>\n",
              "      <td>10.698058</td>\n",
              "      <td>1.580629</td>\n",
              "      <td>2.576777</td>\n",
              "      <td>6.996152</td>\n",
              "    </tr>\n",
              "  </tbody>\n",
              "</table>\n",
              "</div>"
            ],
            "text/plain": [
              "           Pclass         Sex         Age  ...        Fare    Embarked       Title\n",
              "count  418.000000  418.000000  418.000000  ...  418.000000  418.000000  418.000000\n",
              "mean    -0.051570    0.023493   -0.006499  ...    0.049219    0.159218   -0.067231\n",
              "std      1.007462    1.008165    1.059336  ...    1.010215    1.079036    0.794717\n",
              "min     -1.566107   -0.737695   -1.835311  ...   -1.538235   -0.571322   -0.542822\n",
              "25%     -1.566107   -0.737695   -0.660329  ...   -0.845154   -0.571322   -0.542822\n",
              "50%      0.827377   -0.737695    0.083827  ...    0.194467   -0.571322   -0.542822\n",
              "75%      0.827377    1.355574    0.906314  ...    0.887548    1.002728    0.588024\n",
              "max      0.827377    1.355574    1.689636  ...    1.580629    2.576777    6.996152\n",
              "\n",
              "[8 rows x 8 columns]"
            ]
          },
          "metadata": {
            "tags": []
          }
        }
      ]
    },
    {
      "cell_type": "markdown",
      "metadata": {
        "id": "6QcwOlmFsAWq",
        "colab_type": "text"
      },
      "source": [
        "# Análisis estadístico inferencial"
      ]
    },
    {
      "cell_type": "markdown",
      "metadata": {
        "id": "GQu6vQzI8161",
        "colab_type": "text"
      },
      "source": [
        "## Normalidad y homocedasticidad\n",
        "\n",
        "Añadir los que sobreviven vs los que no\n",
        "\n",
        "Añadir alguna prueba estadística"
      ]
    },
    {
      "cell_type": "code",
      "metadata": {
        "id": "Yx5qkMO5snPk",
        "colab_type": "code",
        "colab": {}
      },
      "source": [
        "def normality_test(X, variable):\n",
        "  statistic, pvalue = stats.shapiro(X[variable])\n",
        "\n",
        "  statistic = round(statistic, 6)\n",
        "  pvalue = round(pvalue, 6)\n",
        "  print('statistic = '+str(statistic))\n",
        "  print('pvalue = '+str(pvalue))\n",
        "\n",
        "  if pvalue < 0.05:\n",
        "    print(\"La distribución no se ajusta a una distribución normal\")\n",
        "  if pvalue > 0.05:\n",
        "    print(\"La distribución se ajusta a una distribución normal\")\n",
        "    \n",
        "  plot = sns.distplot(X[variable]);"
      ],
      "execution_count": 0,
      "outputs": []
    },
    {
      "cell_type": "code",
      "metadata": {
        "id": "1vkdQ14hs_E7",
        "colab_type": "code",
        "colab": {}
      },
      "source": [
        " def homoscedasticity_test(X, variable):\n",
        "  statistic, pvalue = stats.fligner(X[X['Survived'] == 0][variable], X[X['Survived'] == 1][variable])\n",
        "\n",
        "  statistic = round(statistic, 6)\n",
        "  pvalue = round(pvalue, 6)\n",
        "  print('statistic = '+str(statistic))\n",
        "  print('pvalue = '+str(pvalue))\n",
        "\n",
        "  if pvalue < 0.05:\n",
        "    print(\"Las varianzas son significativamente difernetes\")\n",
        "  else:\n",
        "    print(\"Las varianzas no son significativamente difernetes\")\n",
        "\n",
        "  plot = sns.catplot(x = variable, kind = \"box\", row = 'Survived', height = 4, data = X)"
      ],
      "execution_count": 0,
      "outputs": []
    },
    {
      "cell_type": "code",
      "metadata": {
        "id": "_nfPqhVH0Wgk",
        "colab_type": "code",
        "colab": {}
      },
      "source": [
        "# Volver a unir las características con la clase a predecir\n",
        "Xy_train = X_train.copy()\n",
        "Xy_train['Survived'] = y_train"
      ],
      "execution_count": 0,
      "outputs": []
    },
    {
      "cell_type": "code",
      "metadata": {
        "id": "Oo81gPmTv2cz",
        "colab_type": "code",
        "colab": {
          "base_uri": "https://localhost:8080/",
          "height": 34
        },
        "outputId": "0a3c7d02-32d2-47d4-d784-ae01cf4d73e2"
      },
      "source": [
        "X_train.columns"
      ],
      "execution_count": 34,
      "outputs": [
        {
          "output_type": "execute_result",
          "data": {
            "text/plain": [
              "Index(['Pclass', 'Sex', 'Age', 'SibSp', 'Parch', 'Fare', 'Embarked', 'Title'], dtype='object')"
            ]
          },
          "metadata": {
            "tags": []
          },
          "execution_count": 34
        }
      ]
    },
    {
      "cell_type": "code",
      "metadata": {
        "id": "_2eSzyqCsMFk",
        "colab_type": "code",
        "outputId": "b292101b-d126-4bf1-9aef-3f47182706b9",
        "colab": {
          "base_uri": "https://localhost:8080/",
          "height": 330
        }
      },
      "source": [
        "normality_test(Xy_train, 'Age')"
      ],
      "execution_count": 35,
      "outputs": [
        {
          "output_type": "stream",
          "text": [
            "statistic = 0.961772\n",
            "pvalue = 0.0\n",
            "La distribución no se ajusta a una distribución normal\n"
          ],
          "name": "stdout"
        },
        {
          "output_type": "display_data",
          "data": {
            "image/png": "[encoded data removed]",
            "text/plain": [
              "<Figure size 432x288 with 1 Axes>"
            ]
          },
          "metadata": {
            "tags": [],
            "needs_background": "light"
          }
        }
      ]
    },
    {
      "cell_type": "code",
      "metadata": {
        "id": "qsG_6TV_pgOE",
        "colab_type": "code",
        "colab": {
          "base_uri": "https://localhost:8080/",
          "height": 636
        },
        "outputId": "d85b2bc3-09dc-4c96-8bb1-d2947b65b23d"
      },
      "source": [
        "homoscedasticity_test(Xy_train, 'Age')"
      ],
      "execution_count": 36,
      "outputs": [
        {
          "output_type": "stream",
          "text": [
            "statistic = 0.005528\n",
            "pvalue = 0.940733\n",
            "Las varianzas no son significativamente difernetes\n"
          ],
          "name": "stdout"
        },
        {
          "output_type": "display_data",
          "data": {
            "image/png": "[encoded data removed]",
            "text/plain": [
              "<Figure size 288x576 with 2 Axes>"
            ]
          },
          "metadata": {
            "tags": [],
            "needs_background": "light"
          }
        }
      ]
    },
    {
      "cell_type": "code",
      "metadata": {
        "id": "ddlvSFxgtbdx",
        "colab_type": "code",
        "colab": {
          "base_uri": "https://localhost:8080/",
          "height": 330
        },
        "outputId": "342dd58b-9a59-4061-e0ae-b6e304c62d68"
      },
      "source": [
        "normality_test(Xy_train, 'Fare')"
      ],
      "execution_count": 37,
      "outputs": [
        {
          "output_type": "stream",
          "text": [
            "statistic = 0.933014\n",
            "pvalue = 0.0\n",
            "La distribución no se ajusta a una distribución normal\n"
          ],
          "name": "stdout"
        },
        {
          "output_type": "display_data",
          "data": {
            "image/png": "[encoded data removed]",
            "text/plain": [
              "<Figure size 432x288 with 1 Axes>"
            ]
          },
          "metadata": {
            "tags": [],
            "needs_background": "light"
          }
        }
      ]
    },
    {
      "cell_type": "code",
      "metadata": {
        "id": "vn1VkARPtfJk",
        "colab_type": "code",
        "colab": {
          "base_uri": "https://localhost:8080/",
          "height": 636
        },
        "outputId": "544c7302-1ba0-4836-9afb-12b7aea162af"
      },
      "source": [
        "homoscedasticity_test(Xy_train, 'Fare')"
      ],
      "execution_count": 38,
      "outputs": [
        {
          "output_type": "stream",
          "text": [
            "statistic = 3.554969\n",
            "pvalue = 0.059367\n",
            "Las varianzas no son significativamente difernetes\n"
          ],
          "name": "stdout"
        },
        {
          "output_type": "display_data",
          "data": {
            "image/png": "[encoded data removed]",
            "text/plain": [
              "<Figure size 288x576 with 2 Axes>"
            ]
          },
          "metadata": {
            "tags": [],
            "needs_background": "light"
          }
        }
      ]
    },
    {
      "cell_type": "markdown",
      "metadata": {
        "id": "zddc4RrCquqj",
        "colab_type": "text"
      },
      "source": [
        "## Análisis de correlación y regresión lineal"
      ]
    },
    {
      "cell_type": "code",
      "metadata": {
        "id": "goolCstyp5yy",
        "colab_type": "code",
        "outputId": "96223825-d676-4cf8-9c34-26805affb93d",
        "colab": {
          "base_uri": "https://localhost:8080/",
          "height": 537
        }
      },
      "source": [
        "# https://seaborn.pydata.org/examples/many_pairwise_correlations.html\n",
        "# Compute the correlation matrix\n",
        "corr = Xy_train.corr()\n",
        "\n",
        "# Generate a mask for the upper triangle\n",
        "mask = np.triu(np.ones_like(corr, dtype=np.bool))\n",
        "\n",
        "# Set up the matplotlib figure\n",
        "f, ax = plt.subplots(figsize=(11, 9))\n",
        "\n",
        "# Generate a custom diverging colormap\n",
        "cmap = sns.diverging_palette(220, 10, as_cmap=True)\n",
        "\n",
        "# Draw the heatmap with the mask and correct aspect ratio\n",
        "plot = sns.heatmap(corr, mask=mask, cmap=cmap, vmax=.3, center=0,\n",
        "            square=True, linewidths=.5, cbar_kws={\"shrink\": .5})"
      ],
      "execution_count": 39,
      "outputs": [
        {
          "output_type": "display_data",
          "data": {
            "image/png": "[encoded data removed]",
            "text/plain": [
              "<Figure size 792x648 with 2 Axes>"
            ]
          },
          "metadata": {
            "tags": [],
            "needs_background": "light"
          }
        }
      ]
    },
    {
      "cell_type": "code",
      "metadata": {
        "id": "IQuRt9f3kAR7",
        "colab_type": "code",
        "colab": {
          "base_uri": "https://localhost:8080/",
          "height": 570
        },
        "outputId": "9564db33-1bf9-4e2b-be6d-6c44601f379e"
      },
      "source": [
        "model = sm.OLS(y_train.values.ravel(), X_train).fit()\n",
        "display(model.summary())"
      ],
      "execution_count": 40,
      "outputs": [
        {
          "output_type": "display_data",
          "data": {
            "text/html": [
              "<table class=\"simpletable\">\n",
              "<caption>OLS Regression Results</caption>\n",
              "<tr>\n",
              "  <th>Dep. Variable:</th>            <td>y</td>        <th>  R-squared (uncentered):</th>      <td>   0.235</td>\n",
              "</tr>\n",
              "<tr>\n",
              "  <th>Model:</th>                   <td>OLS</td>       <th>  Adj. R-squared (uncentered):</th> <td>   0.228</td>\n",
              "</tr>\n",
              "<tr>\n",
              "  <th>Method:</th>             <td>Least Squares</td>  <th>  F-statistic:       </th>          <td>   33.82</td>\n",
              "</tr>\n",
              "<tr>\n",
              "  <th>Date:</th>             <td>Wed, 20 May 2020</td> <th>  Prob (F-statistic):</th>          <td>1.08e-46</td>\n",
              "</tr>\n",
              "<tr>\n",
              "  <th>Time:</th>                 <td>15:55:22</td>     <th>  Log-Likelihood:    </th>          <td> -718.62</td>\n",
              "</tr>\n",
              "<tr>\n",
              "  <th>No. Observations:</th>      <td>   891</td>      <th>  AIC:               </th>          <td>   1453.</td>\n",
              "</tr>\n",
              "<tr>\n",
              "  <th>Df Residuals:</th>          <td>   883</td>      <th>  BIC:               </th>          <td>   1492.</td>\n",
              "</tr>\n",
              "<tr>\n",
              "  <th>Df Model:</th>              <td>     8</td>      <th>                     </th>              <td> </td>   \n",
              "</tr>\n",
              "<tr>\n",
              "  <th>Covariance Type:</th>      <td>nonrobust</td>    <th>                     </th>              <td> </td>   \n",
              "</tr>\n",
              "</table>\n",
              "<table class=\"simpletable\">\n",
              "<tr>\n",
              "      <td></td>        <th>coef</th>     <th>std err</th>      <th>t</th>      <th>P>|t|</th>  <th>[0.025</th>    <th>0.975]</th>  \n",
              "</tr>\n",
              "<tr>\n",
              "  <th>Pclass</th>   <td>   -0.1218</td> <td>    0.020</td> <td>   -6.147</td> <td> 0.000</td> <td>   -0.161</td> <td>   -0.083</td>\n",
              "</tr>\n",
              "<tr>\n",
              "  <th>Sex</th>      <td>    0.2361</td> <td>    0.020</td> <td>   11.568</td> <td> 0.000</td> <td>    0.196</td> <td>    0.276</td>\n",
              "</tr>\n",
              "<tr>\n",
              "  <th>Age</th>      <td>   -0.0025</td> <td>    0.018</td> <td>   -0.136</td> <td> 0.892</td> <td>   -0.038</td> <td>    0.033</td>\n",
              "</tr>\n",
              "<tr>\n",
              "  <th>SibSp</th>    <td>   -0.0357</td> <td>    0.020</td> <td>   -1.757</td> <td> 0.079</td> <td>   -0.076</td> <td>    0.004</td>\n",
              "</tr>\n",
              "<tr>\n",
              "  <th>Parch</th>    <td>   -0.0056</td> <td>    0.021</td> <td>   -0.270</td> <td> 0.788</td> <td>   -0.047</td> <td>    0.035</td>\n",
              "</tr>\n",
              "<tr>\n",
              "  <th>Fare</th>     <td>    0.0094</td> <td>    0.020</td> <td>    0.467</td> <td> 0.640</td> <td>   -0.030</td> <td>    0.049</td>\n",
              "</tr>\n",
              "<tr>\n",
              "  <th>Embarked</th> <td>    0.0226</td> <td>    0.019</td> <td>    1.183</td> <td> 0.237</td> <td>   -0.015</td> <td>    0.060</td>\n",
              "</tr>\n",
              "<tr>\n",
              "  <th>Title</th>    <td>    0.0355</td> <td>    0.020</td> <td>    1.773</td> <td> 0.076</td> <td>   -0.004</td> <td>    0.075</td>\n",
              "</tr>\n",
              "</table>\n",
              "<table class=\"simpletable\">\n",
              "<tr>\n",
              "  <th>Omnibus:</th>       <td>38.955</td> <th>  Durbin-Watson:     </th> <td>   0.969</td>\n",
              "</tr>\n",
              "<tr>\n",
              "  <th>Prob(Omnibus):</th> <td> 0.000</td> <th>  Jarque-Bera (JB):  </th> <td>  43.147</td>\n",
              "</tr>\n",
              "<tr>\n",
              "  <th>Skew:</th>          <td> 0.537</td> <th>  Prob(JB):          </th> <td>4.27e-10</td>\n",
              "</tr>\n",
              "<tr>\n",
              "  <th>Kurtosis:</th>      <td> 3.095</td> <th>  Cond. No.          </th> <td>    1.91</td>\n",
              "</tr>\n",
              "</table><br/><br/>Warnings:<br/>[1] Standard Errors assume that the covariance matrix of the errors is correctly specified."
            ],
            "text/plain": [
              "<class 'statsmodels.iolib.summary.Summary'>\n",
              "\"\"\"\n",
              "                                 OLS Regression Results                                \n",
              "=======================================================================================\n",
              "Dep. Variable:                      y   R-squared (uncentered):                   0.235\n",
              "Model:                            OLS   Adj. R-squared (uncentered):              0.228\n",
              "Method:                 Least Squares   F-statistic:                              33.82\n",
              "Date:                Wed, 20 May 2020   Prob (F-statistic):                    1.08e-46\n",
              "Time:                        15:55:22   Log-Likelihood:                         -718.62\n",
              "No. Observations:                 891   AIC:                                      1453.\n",
              "Df Residuals:                     883   BIC:                                      1492.\n",
              "Df Model:                           8                                                  \n",
              "Covariance Type:            nonrobust                                                  \n",
              "==============================================================================\n",
              "                 coef    std err          t      P>|t|      [0.025      0.975]\n",
              "------------------------------------------------------------------------------\n",
              "Pclass        -0.1218      0.020     -6.147      0.000      -0.161      -0.083\n",
              "Sex            0.2361      0.020     11.568      0.000       0.196       0.276\n",
              "Age           -0.0025      0.018     -0.136      0.892      -0.038       0.033\n",
              "SibSp         -0.0357      0.020     -1.757      0.079      -0.076       0.004\n",
              "Parch         -0.0056      0.021     -0.270      0.788      -0.047       0.035\n",
              "Fare           0.0094      0.020      0.467      0.640      -0.030       0.049\n",
              "Embarked       0.0226      0.019      1.183      0.237      -0.015       0.060\n",
              "Title          0.0355      0.020      1.773      0.076      -0.004       0.075\n",
              "==============================================================================\n",
              "Omnibus:                       38.955   Durbin-Watson:                   0.969\n",
              "Prob(Omnibus):                  0.000   Jarque-Bera (JB):               43.147\n",
              "Skew:                           0.537   Prob(JB):                     4.27e-10\n",
              "Kurtosis:                       3.095   Cond. No.                         1.91\n",
              "==============================================================================\n",
              "\n",
              "Warnings:\n",
              "[1] Standard Errors assume that the covariance matrix of the errors is correctly specified.\n",
              "\"\"\""
            ]
          },
          "metadata": {
            "tags": []
          }
        }
      ]
    },
    {
      "cell_type": "markdown",
      "metadata": {
        "id": "JAI_dGwJBnV9",
        "colab_type": "text"
      },
      "source": [
        "## Análisis de Regresion"
      ]
    },
    {
      "cell_type": "code",
      "metadata": {
        "id": "mWxWapuBjbit",
        "colab_type": "code",
        "colab": {
          "base_uri": "https://localhost:8080/",
          "height": 85
        },
        "outputId": "6122df52-88d7-4d7c-8bca-28c70b87e676"
      },
      "source": [
        "# Se genera un modelo de regresión logística a partir del subconjunto de \n",
        "# datos de entrenamiento\n",
        "clf = LogisticRegression(solver = 'lbfgs')\n",
        "clf.fit(X_train, y_train.values.ravel())\n",
        "\n",
        "# Se valida el modelo comparando las predicciones realizadas a partir\n",
        "# del subconjunto de datos de validación con los valores reales\n",
        "y_pred = clf.predict(X_train)\n",
        "\n",
        "train_acc = round(accuracy_score(y_train, y_pred, normalize=True),6)\n",
        "cmatrix_train = confusion_matrix(y_train, y_pred)\n",
        "\n",
        "print('Matriz de confusión del modelo:\\n', cmatrix_train)\n",
        "print('Precisión del modelo:', train_acc)"
      ],
      "execution_count": 41,
      "outputs": [
        {
          "output_type": "stream",
          "text": [
            "Matriz de confusión del modelo:\n",
            " [[477  72]\n",
            " [108 234]]\n",
            "Precisión del modelo: 0.79798\n"
          ],
          "name": "stdout"
        }
      ]
    },
    {
      "cell_type": "markdown",
      "metadata": {
        "id": "HGa9uiU5uzin",
        "colab_type": "text"
      },
      "source": [
        "# Aprendizaje automático"
      ]
    },
    {
      "cell_type": "markdown",
      "metadata": {
        "id": "uaS8ReVCyXTv",
        "colab_type": "text"
      },
      "source": [
        "## Modelado"
      ]
    },
    {
      "cell_type": "code",
      "metadata": {
        "id": "lVHjvXzSu1ff",
        "colab_type": "code",
        "colab": {}
      },
      "source": [
        "# ML Model train\n",
        "# https://machinelearningmastery.com/how-to-stop-training-deep-neural-networks-at-the-right-time-using-early-stopping/\n",
        "def train_ml_model(model, X_train, y_train, X_val, y_val, epochs, batch_size, patience, shuffle=True):\n",
        "    # patient early stopping\n",
        "    es = EarlyStopping(monitor='val_loss', mode='min', verbose=1, patience=patience)\n",
        "    mc = ModelCheckpoint('best_model.h5', monitor='val_loss', mode='min', verbose=0, save_best_only=True)\n",
        "\n",
        "    # fit model\n",
        "    history = model.fit(X_train, y_train, validation_data=(X_val, y_val), epochs=epochs, batch_size=batch_size, verbose=1, shuffle=shuffle, callbacks=[es, mc])\n",
        "\n",
        "    # load the saved model\n",
        "    model = load_model('best_model.h5')\n",
        "\n",
        "    # plot training history\n",
        "    plt.plot(history.history['loss'], label='train')\n",
        "    plt.plot(history.history['val_loss'], label='val')\n",
        "    plt.legend()\n",
        "    plt.show()\n",
        "  \n",
        "    # Estimate model performance\n",
        "    trainScore = model.evaluate(X_train, y_train, batch_size=batch_size, verbose=0)\n",
        "    valScore = model.evaluate(X_val, y_val, batch_size=batch_size, verbose=0)\n",
        "  \n",
        "    print('Train Loss: %.6f' % trainScore[0])\n",
        "    print('Train Accuracy: %.6f' % trainScore[1])\n",
        "    print('Val Loss: %.6f' % valScore[0])\n",
        "    print('Val Accuracy: %.6f' % valScore[1])\n",
        "  \n",
        "    return model"
      ],
      "execution_count": 0,
      "outputs": []
    },
    {
      "cell_type": "code",
      "metadata": {
        "id": "Xef_UtJ2veEZ",
        "colab_type": "code",
        "colab": {}
      },
      "source": [
        "# Entrenar Red neuronal densa\n",
        "# https://machinelearningmastery.com/binary-classification-tutorial-with-the-keras-deep-learning-library/\n",
        "# https://www.kaggle.com/parthsuresh/binary-classifier-using-keras-97-98-accuracy\n",
        "# @tf.function\n",
        "def dense_nn(X, y, epochs, batch_size, lr, patience, neurons, shuffle=True): \n",
        "  # Split test y val\n",
        "  X_train, X_val, y_train, y_val = train_test_split(X, y, test_size=0.1)\n",
        "\n",
        "  # Dimensiones\n",
        "  n_input =  X_train.shape[1]\n",
        "  n_output = y_train.shape[1]\n",
        "  \n",
        "  model = Sequential([\n",
        "      Dense(n_input, input_dim=n_input, activation='relu'),\n",
        "      Dense(neurons, activation='relu'),\n",
        "      Dense(n_output, activation='sigmoid')\n",
        "  ])\n",
        "  \n",
        "  model.compile(optimizer=Adam(lr=lr), loss='binary_crossentropy', metrics=['accuracy'])\n",
        "\n",
        "  model = train_ml_model(model, X_train, y_train, X_val, y_val, epochs, batch_size, patience, shuffle)\n",
        "  \n",
        "  return model"
      ],
      "execution_count": 0,
      "outputs": []
    },
    {
      "cell_type": "code",
      "metadata": {
        "id": "o_MSlFfIvbZB",
        "colab_type": "code",
        "colab": {}
      },
      "source": [
        "# ML Model predict\n",
        "def predict_with_ml_model(model, X, batch_size):\n",
        "  y_pred = (model.predict(X, batch_size=batch_size) > 0.5).astype(\"int32\")\n",
        "\n",
        "  return y_pred"
      ],
      "execution_count": 0,
      "outputs": []
    },
    {
      "cell_type": "code",
      "metadata": {
        "id": "7S2bc6uRwaTa",
        "colab_type": "code",
        "outputId": "3fbfecf0-d37e-41c0-8e51-baffbcbddbd7",
        "colab": {
          "base_uri": "https://localhost:8080/",
          "height": 1000
        }
      },
      "source": [
        "model = dense_nn(X_train, y_train, epochs=epochs, batch_size=batch_size, lr=lr, patience=patience, neurons=neurons)"
      ],
      "execution_count": 45,
      "outputs": [
        {
          "output_type": "stream",
          "text": [
            "Epoch 1/200\n",
            "801/801 [==============================] - 1s 1ms/step - loss: 0.6851 - accuracy: 0.5306 - val_loss: 0.6416 - val_accuracy: 0.6667\n",
            "Epoch 2/200\n",
            "801/801 [==============================] - 1s 1ms/step - loss: 0.6141 - accuracy: 0.6866 - val_loss: 0.6021 - val_accuracy: 0.7000\n",
            "Epoch 3/200\n",
            "801/801 [==============================] - 1s 1ms/step - loss: 0.5648 - accuracy: 0.7241 - val_loss: 0.5773 - val_accuracy: 0.7333\n",
            "Epoch 4/200\n",
            "801/801 [==============================] - 1s 1ms/step - loss: 0.5313 - accuracy: 0.7466 - val_loss: 0.5574 - val_accuracy: 0.7333\n",
            "Epoch 5/200\n",
            "801/801 [==============================] - 1s 1ms/step - loss: 0.5082 - accuracy: 0.7615 - val_loss: 0.5426 - val_accuracy: 0.7222\n",
            "Epoch 6/200\n",
            "801/801 [==============================] - 1s 1ms/step - loss: 0.4916 - accuracy: 0.7690 - val_loss: 0.5286 - val_accuracy: 0.7667\n",
            "Epoch 7/200\n",
            "801/801 [==============================] - 1s 1ms/step - loss: 0.4797 - accuracy: 0.7778 - val_loss: 0.5201 - val_accuracy: 0.7778\n",
            "Epoch 8/200\n",
            "801/801 [==============================] - 1s 1ms/step - loss: 0.4705 - accuracy: 0.7778 - val_loss: 0.5116 - val_accuracy: 0.7778\n",
            "Epoch 9/200\n",
            "801/801 [==============================] - 1s 1ms/step - loss: 0.4639 - accuracy: 0.7803 - val_loss: 0.5048 - val_accuracy: 0.8000\n",
            "Epoch 10/200\n",
            "801/801 [==============================] - 1s 1ms/step - loss: 0.4584 - accuracy: 0.7778 - val_loss: 0.5005 - val_accuracy: 0.8000\n",
            "Epoch 11/200\n",
            "801/801 [==============================] - 1s 1ms/step - loss: 0.4540 - accuracy: 0.7803 - val_loss: 0.4957 - val_accuracy: 0.8111\n",
            "Epoch 12/200\n",
            "801/801 [==============================] - 1s 1ms/step - loss: 0.4507 - accuracy: 0.7878 - val_loss: 0.4931 - val_accuracy: 0.8111\n",
            "Epoch 13/200\n",
            "801/801 [==============================] - 1s 1ms/step - loss: 0.4477 - accuracy: 0.7878 - val_loss: 0.4923 - val_accuracy: 0.8222\n",
            "Epoch 14/200\n",
            "801/801 [==============================] - 1s 1ms/step - loss: 0.4454 - accuracy: 0.7865 - val_loss: 0.4897 - val_accuracy: 0.8222\n",
            "Epoch 15/200\n",
            "801/801 [==============================] - 1s 1ms/step - loss: 0.4433 - accuracy: 0.7903 - val_loss: 0.4870 - val_accuracy: 0.8111\n",
            "Epoch 16/200\n",
            "801/801 [==============================] - 1s 1ms/step - loss: 0.4415 - accuracy: 0.7940 - val_loss: 0.4857 - val_accuracy: 0.8111\n",
            "Epoch 17/200\n",
            "801/801 [==============================] - 1s 1ms/step - loss: 0.4397 - accuracy: 0.7940 - val_loss: 0.4826 - val_accuracy: 0.8111\n",
            "Epoch 18/200\n",
            "801/801 [==============================] - 1s 1ms/step - loss: 0.4381 - accuracy: 0.7953 - val_loss: 0.4836 - val_accuracy: 0.8222\n",
            "Epoch 19/200\n",
            "801/801 [==============================] - 1s 1ms/step - loss: 0.4364 - accuracy: 0.7990 - val_loss: 0.4821 - val_accuracy: 0.8222\n",
            "Epoch 20/200\n",
            "801/801 [==============================] - 1s 1ms/step - loss: 0.4349 - accuracy: 0.7990 - val_loss: 0.4792 - val_accuracy: 0.8222\n",
            "Epoch 21/200\n",
            "801/801 [==============================] - 1s 1ms/step - loss: 0.4336 - accuracy: 0.8052 - val_loss: 0.4782 - val_accuracy: 0.8222\n",
            "Epoch 22/200\n",
            "801/801 [==============================] - 1s 1ms/step - loss: 0.4319 - accuracy: 0.8040 - val_loss: 0.4758 - val_accuracy: 0.8222\n",
            "Epoch 23/200\n",
            "801/801 [==============================] - 1s 1ms/step - loss: 0.4307 - accuracy: 0.8027 - val_loss: 0.4764 - val_accuracy: 0.8222\n",
            "Epoch 24/200\n",
            "801/801 [==============================] - 1s 1ms/step - loss: 0.4296 - accuracy: 0.8065 - val_loss: 0.4755 - val_accuracy: 0.8222\n",
            "Epoch 25/200\n",
            "801/801 [==============================] - 1s 1ms/step - loss: 0.4279 - accuracy: 0.8102 - val_loss: 0.4754 - val_accuracy: 0.8222\n",
            "Epoch 26/200\n",
            "801/801 [==============================] - 1s 1ms/step - loss: 0.4267 - accuracy: 0.8140 - val_loss: 0.4729 - val_accuracy: 0.8222\n",
            "Epoch 27/200\n",
            "801/801 [==============================] - 1s 1ms/step - loss: 0.4254 - accuracy: 0.8152 - val_loss: 0.4731 - val_accuracy: 0.8222\n",
            "Epoch 28/200\n",
            "801/801 [==============================] - 1s 1ms/step - loss: 0.4241 - accuracy: 0.8140 - val_loss: 0.4716 - val_accuracy: 0.8222\n",
            "Epoch 29/200\n",
            "801/801 [==============================] - 1s 1ms/step - loss: 0.4225 - accuracy: 0.8140 - val_loss: 0.4689 - val_accuracy: 0.8222\n",
            "Epoch 30/200\n",
            "801/801 [==============================] - 1s 1ms/step - loss: 0.4215 - accuracy: 0.8152 - val_loss: 0.4677 - val_accuracy: 0.8222\n",
            "Epoch 31/200\n",
            "801/801 [==============================] - 1s 1ms/step - loss: 0.4201 - accuracy: 0.8202 - val_loss: 0.4692 - val_accuracy: 0.8222\n",
            "Epoch 32/200\n",
            "801/801 [==============================] - 1s 1ms/step - loss: 0.4191 - accuracy: 0.8152 - val_loss: 0.4679 - val_accuracy: 0.8222\n",
            "Epoch 33/200\n",
            "801/801 [==============================] - 1s 1ms/step - loss: 0.4178 - accuracy: 0.8215 - val_loss: 0.4661 - val_accuracy: 0.8222\n",
            "Epoch 34/200\n",
            "801/801 [==============================] - 1s 1ms/step - loss: 0.4170 - accuracy: 0.8227 - val_loss: 0.4651 - val_accuracy: 0.8222\n",
            "Epoch 35/200\n",
            "801/801 [==============================] - 1s 1ms/step - loss: 0.4158 - accuracy: 0.8215 - val_loss: 0.4647 - val_accuracy: 0.8222\n",
            "Epoch 36/200\n",
            "801/801 [==============================] - 1s 1ms/step - loss: 0.4147 - accuracy: 0.8227 - val_loss: 0.4641 - val_accuracy: 0.8222\n",
            "Epoch 37/200\n",
            "801/801 [==============================] - 1s 1ms/step - loss: 0.4138 - accuracy: 0.8190 - val_loss: 0.4638 - val_accuracy: 0.8222\n",
            "Epoch 38/200\n",
            "801/801 [==============================] - 1s 1ms/step - loss: 0.4127 - accuracy: 0.8227 - val_loss: 0.4648 - val_accuracy: 0.8222\n",
            "Epoch 39/200\n",
            "801/801 [==============================] - 1s 1ms/step - loss: 0.4117 - accuracy: 0.8240 - val_loss: 0.4659 - val_accuracy: 0.8222\n",
            "Epoch 40/200\n",
            "801/801 [==============================] - 1s 1ms/step - loss: 0.4107 - accuracy: 0.8265 - val_loss: 0.4646 - val_accuracy: 0.8222\n",
            "Epoch 41/200\n",
            "801/801 [==============================] - 1s 1ms/step - loss: 0.4103 - accuracy: 0.8240 - val_loss: 0.4620 - val_accuracy: 0.8222\n",
            "Epoch 42/200\n",
            "801/801 [==============================] - 1s 1ms/step - loss: 0.4091 - accuracy: 0.8240 - val_loss: 0.4622 - val_accuracy: 0.8222\n",
            "Epoch 43/200\n",
            "801/801 [==============================] - 1s 1ms/step - loss: 0.4081 - accuracy: 0.8240 - val_loss: 0.4623 - val_accuracy: 0.8222\n",
            "Epoch 44/200\n",
            "801/801 [==============================] - 1s 1ms/step - loss: 0.4073 - accuracy: 0.8240 - val_loss: 0.4620 - val_accuracy: 0.8222\n",
            "Epoch 45/200\n",
            "801/801 [==============================] - 1s 1ms/step - loss: 0.4064 - accuracy: 0.8252 - val_loss: 0.4614 - val_accuracy: 0.8222\n",
            "Epoch 46/200\n",
            "801/801 [==============================] - 1s 1ms/step - loss: 0.4055 - accuracy: 0.8240 - val_loss: 0.4615 - val_accuracy: 0.8222\n",
            "Epoch 47/200\n",
            "801/801 [==============================] - 1s 1ms/step - loss: 0.4042 - accuracy: 0.8252 - val_loss: 0.4632 - val_accuracy: 0.8222\n",
            "Epoch 48/200\n",
            "801/801 [==============================] - 1s 1ms/step - loss: 0.4038 - accuracy: 0.8277 - val_loss: 0.4608 - val_accuracy: 0.8222\n",
            "Epoch 49/200\n",
            "801/801 [==============================] - 1s 1ms/step - loss: 0.4029 - accuracy: 0.8277 - val_loss: 0.4600 - val_accuracy: 0.8222\n",
            "Epoch 50/200\n",
            "801/801 [==============================] - 1s 1ms/step - loss: 0.4020 - accuracy: 0.8277 - val_loss: 0.4585 - val_accuracy: 0.8222\n",
            "Epoch 51/200\n",
            "801/801 [==============================] - 1s 1ms/step - loss: 0.4011 - accuracy: 0.8290 - val_loss: 0.4602 - val_accuracy: 0.8222\n",
            "Epoch 52/200\n",
            "801/801 [==============================] - 1s 1ms/step - loss: 0.4006 - accuracy: 0.8315 - val_loss: 0.4583 - val_accuracy: 0.8222\n",
            "Epoch 53/200\n",
            "801/801 [==============================] - 1s 1ms/step - loss: 0.3995 - accuracy: 0.8302 - val_loss: 0.4557 - val_accuracy: 0.8222\n",
            "Epoch 54/200\n",
            "801/801 [==============================] - 1s 1ms/step - loss: 0.3987 - accuracy: 0.8277 - val_loss: 0.4577 - val_accuracy: 0.8222\n",
            "Epoch 55/200\n",
            "801/801 [==============================] - 1s 1ms/step - loss: 0.3981 - accuracy: 0.8302 - val_loss: 0.4566 - val_accuracy: 0.8222\n",
            "Epoch 56/200\n",
            "801/801 [==============================] - 1s 1ms/step - loss: 0.3972 - accuracy: 0.8290 - val_loss: 0.4576 - val_accuracy: 0.8222\n",
            "Epoch 57/200\n",
            "801/801 [==============================] - 1s 2ms/step - loss: 0.3967 - accuracy: 0.8302 - val_loss: 0.4553 - val_accuracy: 0.8222\n",
            "Epoch 58/200\n",
            "801/801 [==============================] - 1s 2ms/step - loss: 0.3958 - accuracy: 0.8327 - val_loss: 0.4546 - val_accuracy: 0.8222\n",
            "Epoch 59/200\n",
            "801/801 [==============================] - 1s 2ms/step - loss: 0.3950 - accuracy: 0.8340 - val_loss: 0.4541 - val_accuracy: 0.8222\n",
            "Epoch 60/200\n",
            "801/801 [==============================] - 1s 2ms/step - loss: 0.3942 - accuracy: 0.8327 - val_loss: 0.4550 - val_accuracy: 0.8222\n",
            "Epoch 61/200\n",
            "801/801 [==============================] - 1s 1ms/step - loss: 0.3933 - accuracy: 0.8340 - val_loss: 0.4543 - val_accuracy: 0.8222\n",
            "Epoch 62/200\n",
            "801/801 [==============================] - 1s 1ms/step - loss: 0.3930 - accuracy: 0.8340 - val_loss: 0.4545 - val_accuracy: 0.8222\n",
            "Epoch 63/200\n",
            "801/801 [==============================] - 1s 1ms/step - loss: 0.3920 - accuracy: 0.8340 - val_loss: 0.4558 - val_accuracy: 0.8222\n",
            "Epoch 64/200\n",
            "801/801 [==============================] - 1s 1ms/step - loss: 0.3917 - accuracy: 0.8352 - val_loss: 0.4544 - val_accuracy: 0.8222\n",
            "Epoch 65/200\n",
            "801/801 [==============================] - 1s 1ms/step - loss: 0.3907 - accuracy: 0.8340 - val_loss: 0.4561 - val_accuracy: 0.8222\n",
            "Epoch 66/200\n",
            "801/801 [==============================] - 1s 1ms/step - loss: 0.3899 - accuracy: 0.8327 - val_loss: 0.4560 - val_accuracy: 0.8222\n",
            "Epoch 67/200\n",
            "801/801 [==============================] - 1s 1ms/step - loss: 0.3893 - accuracy: 0.8352 - val_loss: 0.4511 - val_accuracy: 0.8222\n",
            "Epoch 68/200\n",
            "801/801 [==============================] - 1s 1ms/step - loss: 0.3884 - accuracy: 0.8352 - val_loss: 0.4519 - val_accuracy: 0.8222\n",
            "Epoch 69/200\n",
            "801/801 [==============================] - 1s 1ms/step - loss: 0.3878 - accuracy: 0.8327 - val_loss: 0.4533 - val_accuracy: 0.8222\n",
            "Epoch 70/200\n",
            "801/801 [==============================] - 1s 1ms/step - loss: 0.3870 - accuracy: 0.8315 - val_loss: 0.4528 - val_accuracy: 0.8222\n",
            "Epoch 71/200\n",
            "801/801 [==============================] - 1s 1ms/step - loss: 0.3860 - accuracy: 0.8365 - val_loss: 0.4521 - val_accuracy: 0.8222\n",
            "Epoch 72/200\n",
            "801/801 [==============================] - 1s 1ms/step - loss: 0.3856 - accuracy: 0.8315 - val_loss: 0.4542 - val_accuracy: 0.8111\n",
            "Epoch 73/200\n",
            "801/801 [==============================] - 1s 1ms/step - loss: 0.3851 - accuracy: 0.8327 - val_loss: 0.4507 - val_accuracy: 0.8222\n",
            "Epoch 74/200\n",
            "801/801 [==============================] - 1s 1ms/step - loss: 0.3840 - accuracy: 0.8352 - val_loss: 0.4520 - val_accuracy: 0.8222\n",
            "Epoch 75/200\n",
            "801/801 [==============================] - 1s 1ms/step - loss: 0.3828 - accuracy: 0.8340 - val_loss: 0.4546 - val_accuracy: 0.8111\n",
            "Epoch 76/200\n",
            "801/801 [==============================] - 1s 1ms/step - loss: 0.3832 - accuracy: 0.8365 - val_loss: 0.4537 - val_accuracy: 0.8111\n",
            "Epoch 77/200\n",
            "801/801 [==============================] - 1s 1ms/step - loss: 0.3820 - accuracy: 0.8340 - val_loss: 0.4496 - val_accuracy: 0.8222\n",
            "Epoch 78/200\n",
            "801/801 [==============================] - 1s 1ms/step - loss: 0.3812 - accuracy: 0.8352 - val_loss: 0.4501 - val_accuracy: 0.8222\n",
            "Epoch 79/200\n",
            "801/801 [==============================] - 1s 1ms/step - loss: 0.3804 - accuracy: 0.8340 - val_loss: 0.4500 - val_accuracy: 0.8222\n",
            "Epoch 80/200\n",
            "801/801 [==============================] - 1s 1ms/step - loss: 0.3799 - accuracy: 0.8340 - val_loss: 0.4491 - val_accuracy: 0.8222\n",
            "Epoch 81/200\n",
            "801/801 [==============================] - 1s 1ms/step - loss: 0.3791 - accuracy: 0.8377 - val_loss: 0.4505 - val_accuracy: 0.8333\n",
            "Epoch 82/200\n",
            "801/801 [==============================] - 1s 1ms/step - loss: 0.3785 - accuracy: 0.8352 - val_loss: 0.4518 - val_accuracy: 0.8222\n",
            "Epoch 83/200\n",
            "801/801 [==============================] - 1s 1ms/step - loss: 0.3779 - accuracy: 0.8402 - val_loss: 0.4501 - val_accuracy: 0.8333\n",
            "Epoch 84/200\n",
            "801/801 [==============================] - 1s 1ms/step - loss: 0.3775 - accuracy: 0.8377 - val_loss: 0.4493 - val_accuracy: 0.8333\n",
            "Epoch 85/200\n",
            "801/801 [==============================] - 1s 1ms/step - loss: 0.3765 - accuracy: 0.8390 - val_loss: 0.4528 - val_accuracy: 0.8222\n",
            "Epoch 86/200\n",
            "801/801 [==============================] - 1s 1ms/step - loss: 0.3766 - accuracy: 0.8352 - val_loss: 0.4501 - val_accuracy: 0.8222\n",
            "Epoch 87/200\n",
            "801/801 [==============================] - 1s 1ms/step - loss: 0.3754 - accuracy: 0.8365 - val_loss: 0.4487 - val_accuracy: 0.8333\n",
            "Epoch 88/200\n",
            "801/801 [==============================] - 1s 1ms/step - loss: 0.3752 - accuracy: 0.8352 - val_loss: 0.4507 - val_accuracy: 0.8222\n",
            "Epoch 89/200\n",
            "801/801 [==============================] - 1s 1ms/step - loss: 0.3747 - accuracy: 0.8352 - val_loss: 0.4511 - val_accuracy: 0.8333\n",
            "Epoch 90/200\n",
            "801/801 [==============================] - 1s 1ms/step - loss: 0.3742 - accuracy: 0.8427 - val_loss: 0.4516 - val_accuracy: 0.8222\n",
            "Epoch 91/200\n",
            "801/801 [==============================] - 1s 1ms/step - loss: 0.3731 - accuracy: 0.8365 - val_loss: 0.4544 - val_accuracy: 0.8222\n",
            "Epoch 92/200\n",
            "801/801 [==============================] - 1s 1ms/step - loss: 0.3725 - accuracy: 0.8402 - val_loss: 0.4494 - val_accuracy: 0.8222\n",
            "Epoch 93/200\n",
            "801/801 [==============================] - 1s 1ms/step - loss: 0.3722 - accuracy: 0.8352 - val_loss: 0.4498 - val_accuracy: 0.8222\n",
            "Epoch 94/200\n",
            "801/801 [==============================] - 1s 1ms/step - loss: 0.3715 - accuracy: 0.8390 - val_loss: 0.4521 - val_accuracy: 0.8222\n",
            "Epoch 95/200\n",
            "801/801 [==============================] - 1s 1ms/step - loss: 0.3708 - accuracy: 0.8390 - val_loss: 0.4503 - val_accuracy: 0.8333\n",
            "Epoch 96/200\n",
            "801/801 [==============================] - 1s 1ms/step - loss: 0.3706 - accuracy: 0.8427 - val_loss: 0.4510 - val_accuracy: 0.8222\n",
            "Epoch 97/200\n",
            "801/801 [==============================] - 1s 1ms/step - loss: 0.3694 - accuracy: 0.8390 - val_loss: 0.4481 - val_accuracy: 0.8222\n",
            "Epoch 98/200\n",
            "801/801 [==============================] - 1s 1ms/step - loss: 0.3692 - accuracy: 0.8414 - val_loss: 0.4498 - val_accuracy: 0.8222\n",
            "Epoch 99/200\n",
            "801/801 [==============================] - 1s 1ms/step - loss: 0.3687 - accuracy: 0.8377 - val_loss: 0.4482 - val_accuracy: 0.8222\n",
            "Epoch 100/200\n",
            "801/801 [==============================] - 1s 1ms/step - loss: 0.3681 - accuracy: 0.8414 - val_loss: 0.4527 - val_accuracy: 0.8222\n",
            "Epoch 101/200\n",
            "801/801 [==============================] - 1s 1ms/step - loss: 0.3675 - accuracy: 0.8414 - val_loss: 0.4499 - val_accuracy: 0.8333\n",
            "Epoch 102/200\n",
            "801/801 [==============================] - 2s 2ms/step - loss: 0.3676 - accuracy: 0.8402 - val_loss: 0.4488 - val_accuracy: 0.8333\n",
            "Epoch 103/200\n",
            "801/801 [==============================] - 2s 2ms/step - loss: 0.3669 - accuracy: 0.8427 - val_loss: 0.4526 - val_accuracy: 0.8222\n",
            "Epoch 104/200\n",
            "801/801 [==============================] - 2s 2ms/step - loss: 0.3667 - accuracy: 0.8414 - val_loss: 0.4534 - val_accuracy: 0.8222\n",
            "Epoch 105/200\n",
            "801/801 [==============================] - 2s 2ms/step - loss: 0.3658 - accuracy: 0.8414 - val_loss: 0.4509 - val_accuracy: 0.8222\n",
            "Epoch 106/200\n",
            "801/801 [==============================] - 2s 2ms/step - loss: 0.3649 - accuracy: 0.8414 - val_loss: 0.4521 - val_accuracy: 0.8222\n",
            "Epoch 107/200\n",
            "801/801 [==============================] - 2s 2ms/step - loss: 0.3652 - accuracy: 0.8414 - val_loss: 0.4521 - val_accuracy: 0.8222\n",
            "Epoch 00107: early stopping\n"
          ],
          "name": "stdout"
        },
        {
          "output_type": "display_data",
          "data": {
            "image/png": "[encoded data removed]",
            "text/plain": [
              "<Figure size 432x288 with 1 Axes>"
            ]
          },
          "metadata": {
            "tags": [],
            "needs_background": "light"
          }
        },
        {
          "output_type": "stream",
          "text": [
            "Train Loss: 0.366539\n",
            "Train Accuracy: 0.842697\n",
            "Val Loss: 0.448062\n",
            "Val Accuracy: 0.822222\n"
          ],
          "name": "stdout"
        }
      ]
    },
    {
      "cell_type": "code",
      "metadata": {
        "id": "-sysTq7gjVb1",
        "colab_type": "code",
        "outputId": "504f49dc-b6c1-4bbf-cad6-64568da74303",
        "colab": {
          "base_uri": "https://localhost:8080/",
          "height": 85
        }
      },
      "source": [
        "# accuracy\n",
        "y_pred = predict_with_ml_model(model, X_train, batch_size=batch_size)\n",
        "\n",
        "train_acc = round(accuracy_score(y_train, y_pred, normalize=True),6)\n",
        "cmatrix_train = confusion_matrix(y_train, y_pred)\n",
        "\n",
        "print('Matriz de confusión del modelo:\\n', cmatrix_train)\n",
        "print('Precisión del modelo:', train_acc)"
      ],
      "execution_count": 46,
      "outputs": [
        {
          "output_type": "stream",
          "text": [
            "Matriz de confusión del modelo:\n",
            " [[508  41]\n",
            " [101 241]]\n",
            "Precisión del modelo: 0.840629\n"
          ],
          "name": "stdout"
        }
      ]
    },
    {
      "cell_type": "code",
      "metadata": {
        "id": "k8j0qX7V86DZ",
        "colab_type": "code",
        "outputId": "fe78de1b-04c5-4d41-f17f-d832967e24aa",
        "colab": {
          "base_uri": "https://localhost:8080/",
          "height": 515
        }
      },
      "source": [
        "# generate predictions for test\n",
        "df_pred = pd.DataFrame(predict_with_ml_model(model, X_test, batch_size=batch_size), columns=['Survived'], index =  df_test.index)\n",
        "  \n",
        "display(df_pred.describe())\n",
        "display(df_pred.head()) \n",
        "df_pred.to_csv('submission.csv', index=True)  "
      ],
      "execution_count": 47,
      "outputs": [
        {
          "output_type": "display_data",
          "data": {
            "text/html": [
              "<div>\n",
              "<style scoped>\n",
              "    .dataframe tbody tr th:only-of-type {\n",
              "        vertical-align: middle;\n",
              "    }\n",
              "\n",
              "    .dataframe tbody tr th {\n",
              "        vertical-align: top;\n",
              "    }\n",
              "\n",
              "    .dataframe thead th {\n",
              "        text-align: right;\n",
              "    }\n",
              "</style>\n",
              "<table border=\"1\" class=\"dataframe\">\n",
              "  <thead>\n",
              "    <tr style=\"text-align: right;\">\n",
              "      <th></th>\n",
              "      <th>Survived</th>\n",
              "    </tr>\n",
              "  </thead>\n",
              "  <tbody>\n",
              "    <tr>\n",
              "      <th>count</th>\n",
              "      <td>418.000000</td>\n",
              "    </tr>\n",
              "    <tr>\n",
              "      <th>mean</th>\n",
              "      <td>0.363636</td>\n",
              "    </tr>\n",
              "    <tr>\n",
              "      <th>std</th>\n",
              "      <td>0.481622</td>\n",
              "    </tr>\n",
              "    <tr>\n",
              "      <th>min</th>\n",
              "      <td>0.000000</td>\n",
              "    </tr>\n",
              "    <tr>\n",
              "      <th>25%</th>\n",
              "      <td>0.000000</td>\n",
              "    </tr>\n",
              "    <tr>\n",
              "      <th>50%</th>\n",
              "      <td>0.000000</td>\n",
              "    </tr>\n",
              "    <tr>\n",
              "      <th>75%</th>\n",
              "      <td>1.000000</td>\n",
              "    </tr>\n",
              "    <tr>\n",
              "      <th>max</th>\n",
              "      <td>1.000000</td>\n",
              "    </tr>\n",
              "  </tbody>\n",
              "</table>\n",
              "</div>"
            ],
            "text/plain": [
              "         Survived\n",
              "count  418.000000\n",
              "mean     0.363636\n",
              "std      0.481622\n",
              "min      0.000000\n",
              "25%      0.000000\n",
              "50%      0.000000\n",
              "75%      1.000000\n",
              "max      1.000000"
            ]
          },
          "metadata": {
            "tags": []
          }
        },
        {
          "output_type": "display_data",
          "data": {
            "text/html": [
              "<div>\n",
              "<style scoped>\n",
              "    .dataframe tbody tr th:only-of-type {\n",
              "        vertical-align: middle;\n",
              "    }\n",
              "\n",
              "    .dataframe tbody tr th {\n",
              "        vertical-align: top;\n",
              "    }\n",
              "\n",
              "    .dataframe thead th {\n",
              "        text-align: right;\n",
              "    }\n",
              "</style>\n",
              "<table border=\"1\" class=\"dataframe\">\n",
              "  <thead>\n",
              "    <tr style=\"text-align: right;\">\n",
              "      <th></th>\n",
              "      <th>Survived</th>\n",
              "    </tr>\n",
              "    <tr>\n",
              "      <th>PassengerId</th>\n",
              "      <th></th>\n",
              "    </tr>\n",
              "  </thead>\n",
              "  <tbody>\n",
              "    <tr>\n",
              "      <th>892</th>\n",
              "      <td>0</td>\n",
              "    </tr>\n",
              "    <tr>\n",
              "      <th>893</th>\n",
              "      <td>1</td>\n",
              "    </tr>\n",
              "    <tr>\n",
              "      <th>894</th>\n",
              "      <td>0</td>\n",
              "    </tr>\n",
              "    <tr>\n",
              "      <th>895</th>\n",
              "      <td>0</td>\n",
              "    </tr>\n",
              "    <tr>\n",
              "      <th>896</th>\n",
              "      <td>0</td>\n",
              "    </tr>\n",
              "  </tbody>\n",
              "</table>\n",
              "</div>"
            ],
            "text/plain": [
              "             Survived\n",
              "PassengerId          \n",
              "892                 0\n",
              "893                 1\n",
              "894                 0\n",
              "895                 0\n",
              "896                 0"
            ]
          },
          "metadata": {
            "tags": []
          }
        }
      ]
    },
    {
      "cell_type": "markdown",
      "metadata": {
        "id": "Vm2EK3jI_abb",
        "colab_type": "text"
      },
      "source": [
        "# Subir resultados a Kaggle"
      ]
    },
    {
      "cell_type": "code",
      "metadata": {
        "id": "1GUOvy37L6zy",
        "colab_type": "code",
        "outputId": "3c46d2e3-a517-4bdd-bec9-cad1c2c1f346",
        "colab": {
          "base_uri": "https://localhost:8080/",
          "height": 51
        }
      },
      "source": [
        "%%bash\n",
        "kaggle competitions submit -c titanic -f submission.csv -m \"New submission test\""
      ],
      "execution_count": 49,
      "outputs": [
        {
          "output_type": "stream",
          "text": [
            "Warning: Looks like you're using an outdated API Version, please consider updating (server 1.5.6 / client 1.5.4)\n",
            "Successfully submitted to Titanic: Machine Learning from Disaster"
          ],
          "name": "stdout"
        },
        {
          "output_type": "stream",
          "text": [
            "\r  0%|          | 0.00/2.77k [00:00<?, ?B/s]\r100%|##########| 2.77k/2.77k [00:00<00:00, 10.7kB/s]\n"
          ],
          "name": "stderr"
        }
      ]
    }
  ]
}