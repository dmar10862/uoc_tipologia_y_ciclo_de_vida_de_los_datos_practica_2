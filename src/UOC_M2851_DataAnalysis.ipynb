{
  "nbformat": 4,
  "nbformat_minor": 0,
  "metadata": {
    "colab": {
      "name": "UOC-M2851-DataAnalysis.ipynb",
      "provenance": [],
      "collapsed_sections": [],
      "authorship_tag": "ABX9TyMjPqRB5w7mAMnnv70CdAJA",
      "include_colab_link": true
    },
    "kernelspec": {
      "name": "python3",
      "display_name": "Python 3"
    }
  },
  "cells": [
    {
      "cell_type": "markdown",
      "metadata": {
        "id": "view-in-github",
        "colab_type": "text"
      },
      "source": [
        "<a href=\"https://colab.research.google.com/github/dmar10862/uoc_tipologia_y_ciclo_de_vida_de_los_datos_practica_2/blob/master/src/UOC_M2851_DataAnalysis.ipynb\" target=\"_parent\"><img src=\"https://colab.research.google.com/assets/colab-badge.svg\" alt=\"Open In Colab\"/></a>"
      ]
    },
    {
      "cell_type": "markdown",
      "metadata": {
        "id": "WnhsrUMxp9mH",
        "colab_type": "text"
      },
      "source": [
        "**Tipología y ciclo de vida de los datos  - PRAC2**\n",
        "\n",
        "Limpieza y análisis de datos\n",
        "\n",
        "**David Marín Sánchez**\n",
        "\n",
        "Junio 2020"
      ]
    },
    {
      "cell_type": "markdown",
      "metadata": {
        "id": "fVa3SNNFfP7S",
        "colab_type": "text"
      },
      "source": [
        "**Descripción y referencias**\n",
        "\n",
        "En esta práctica se ha tratado de resolver el problema planeado en la competición de Kaggle [Titanic: Machine Learning from Disaster](https://www.kaggle.com/c/titanic/overview).\n",
        "\n",
        "Para resolverlo se han utilizado ideas y métodos planteadas en las siguientes enlaces:\n",
        "\n",
        "https://www.kaggle.com/ouyangg/titanic\n",
        "\n",
        "https://www.kaggle.com/parthsuresh/binary-classifier-using-keras-97-98-accuracy\n",
        "\n",
        "https://machinelearningmastery.com/binary-classification-tutorial-with-the-keras-deep-learning-library/\n",
        "\n",
        "https://machinelearningmastery.com/how-to-stop-training-deep-neural-networks-at-the-right-time-using-early-stopping/\n",
        "\n",
        "https://github.com/Kaggle/kaggle-api\n",
        "\n",
        "https://scikit-learn.org/stable/modules/impute.html\n",
        "\n",
        "https://scikit-learn.org/dev/modules/generated/sklearn.impute.KNNImputer.html\n",
        "\n",
        "https://scikit-learn.org/stable/modules/generated/sklearn.decomposition.PCA.html\n",
        "\n",
        "https://scikit-learn.org/stable/modules/neural_networks_supervised.html#mlp-tips\n",
        "\n",
        "https://nextjournal.com/schmudde/how-to-remove-outliers-in-data\n",
        "\n",
        "https://matplotlib.org/3.1.1/api/_as_gen/matplotlib.pyplot.bar.html\n",
        "\n",
        "https://seaborn.pydata.org/examples/many_pairwise_correlations.html\n"
      ]
    },
    {
      "cell_type": "markdown",
      "metadata": {
        "id": "drdDazEtWofR",
        "colab_type": "text"
      },
      "source": [
        "# 0 - Preparación del entorno"
      ]
    },
    {
      "cell_type": "markdown",
      "metadata": {
        "id": "UgIvNpeB_xZZ",
        "colab_type": "text"
      },
      "source": [
        "## Definición de parámetros"
      ]
    },
    {
      "cell_type": "code",
      "metadata": {
        "id": "ZDUpIKZ4_zgL",
        "colab_type": "code",
        "colab": {}
      },
      "source": [
        "# Limpieza de datos\n",
        "# Proporción de outliers a eliminar (a partir de los cuantiles)\n",
        "remove_outilers_quantile = 0.15\n",
        "# Número de categorias en las que agrupar la variable 'age'\n",
        "age_categories = 10\n",
        "# Número de categorias en las que agrupar la variable 'fare'\n",
        "fare_categories = 10\n",
        "# Dimensiones a eliminar después del análisis PCA\n",
        "dimensions_to_remove = 0\n",
        "\n",
        "\n",
        "# Modelos predictivos\n",
        "# Proporción de muestras de validación\n",
        "val_size = 0.1\n",
        "\n",
        "# Modelado de red neuronal\n",
        "# Número de neuronas de la capa oculta\n",
        "neurons = 32\n",
        "# Ratio de aprendizaje\n",
        "lr = 0.0002\n",
        "# Épocas o repeticiones del proceso de entrenamiento de la red neuronal\n",
        "epochs = 200\n",
        "# Muestras a procesar en cada paso de entrenamiento\n",
        "batch_size = 1\n",
        "# Pacieiencia o número de épocas en las que se permite que el que el error obtenido \n",
        "# supere al anterior error antes de parar el proceso de entrenamiento\n",
        "patience = 10\n",
        "\n",
        "\n",
        "# Subir predicciones a Kaggle\n",
        "# Subir predicciones del modelo de regresión\n",
        "lr_pred_to_kaggle = True\n",
        "# Subir predicciones del modelo de red neuronal\n",
        "ann_pred_to_kaggle = True"
      ],
      "execution_count": 0,
      "outputs": []
    },
    {
      "cell_type": "markdown",
      "metadata": {
        "id": "CzHYyhMglcaw",
        "colab_type": "text"
      },
      "source": [
        "## Carga de librerias"
      ]
    },
    {
      "cell_type": "code",
      "metadata": {
        "id": "8yGWffSUlcAX",
        "colab_type": "code",
        "outputId": "7edd6285-72fe-4104-eb19-1cf0fb9a8618",
        "colab": {
          "base_uri": "https://localhost:8080/",
          "height": 51
        }
      },
      "source": [
        "from google.colab import drive\n",
        "from google.colab import auth\n",
        "import pandas as pd\n",
        "import numpy as np\n",
        "import matplotlib.pyplot as plt\n",
        "import seaborn as sns\n",
        "from sklearn.impute import KNNImputer\n",
        "from sklearn.preprocessing import StandardScaler\n",
        "from sklearn.decomposition import PCA\n",
        "from sklearn.model_selection import train_test_split\n",
        "from sklearn.metrics import accuracy_score, confusion_matrix\n",
        "from sklearn.linear_model import LogisticRegression\n",
        "from scipy import stats\n",
        "import tensorflow as tf\n",
        "from tensorflow.keras.models import Sequential, load_model\n",
        "from tensorflow.keras.layers import Dense, Activation\n",
        "from tensorflow.keras.optimizers import Adam\n",
        "from tensorflow.keras.callbacks import EarlyStopping, ModelCheckpoint"
      ],
      "execution_count": 2,
      "outputs": [
        {
          "output_type": "stream",
          "text": [
            "/usr/local/lib/python3.6/dist-packages/statsmodels/tools/_testing.py:19: FutureWarning: pandas.util.testing is deprecated. Use the functions in the public API at pandas.testing instead.\n",
            "  import pandas.util.testing as tm\n"
          ],
          "name": "stderr"
        }
      ]
    },
    {
      "cell_type": "markdown",
      "metadata": {
        "id": "A69ZvCWdV6zl",
        "colab_type": "text"
      },
      "source": [
        "# 1 - Adquisición de los datos"
      ]
    },
    {
      "cell_type": "markdown",
      "metadata": {
        "id": "WSASRXXVALwB",
        "colab_type": "text"
      },
      "source": [
        "## Descargar dataset de Kaggle"
      ]
    },
    {
      "cell_type": "code",
      "metadata": {
        "id": "kSbUb2i2mrZh",
        "colab_type": "code",
        "outputId": "1e6b714b-c781-4fda-dc0c-f5260328090f",
        "colab": {
          "base_uri": "https://localhost:8080/",
          "height": 34
        }
      },
      "source": [
        "# Montar Google Drive para poder recuperar las credenciales de Kaggle\n",
        "drive.mount('/content/drive')"
      ],
      "execution_count": 3,
      "outputs": [
        {
          "output_type": "stream",
          "text": [
            "Drive already mounted at /content/drive; to attempt to forcibly remount, call drive.mount(\"/content/drive\", force_remount=True).\n"
          ],
          "name": "stdout"
        }
      ]
    },
    {
      "cell_type": "code",
      "metadata": {
        "id": "wqxPpBiclgwX",
        "colab_type": "code",
        "outputId": "f1930133-8a21-47a2-908d-24b2e0825635",
        "colab": {
          "base_uri": "https://localhost:8080/",
          "height": 51
        }
      },
      "source": [
        "%%bash\n",
        "# Instalar kaggle\n",
        "pip install -q kaggle\n",
        "\n",
        "# Cargar las credeciales de Kaggle de Google Drive\n",
        "mkdir -p /root/.kaggle\n",
        "cp -a \"/content/drive/My Drive/Credentials/kaggle.json\" /root/.kaggle/kaggle.json\n",
        "ls -l /root/.kaggle"
      ],
      "execution_count": 4,
      "outputs": [
        {
          "output_type": "stream",
          "text": [
            "total 4\n",
            "-rw------- 1 root root 64 May  9 08:42 kaggle.json\n"
          ],
          "name": "stdout"
        }
      ]
    },
    {
      "cell_type": "code",
      "metadata": {
        "id": "AeLUbs0JlUVf",
        "colab_type": "code",
        "outputId": "4b54cd18-a334-49da-8e58-1505f062e6ec",
        "colab": {
          "base_uri": "https://localhost:8080/",
          "height": 187
        }
      },
      "source": [
        "# Descargar dataset de Kaggle\n",
        "%%bash\n",
        "mkdir -p datasets\n",
        "cd datasets\n",
        "kaggle competitions download -c titanic\n",
        "ls -la"
      ],
      "execution_count": 5,
      "outputs": [
        {
          "output_type": "stream",
          "text": [
            "Warning: Looks like you're using an outdated API Version, please consider updating (server 1.5.6 / client 1.5.4)\n",
            "train.csv: Skipping, found more recently modified local copy (use --force to force download)\n",
            "test.csv: Skipping, found more recently modified local copy (use --force to force download)\n",
            "gender_submission.csv: Skipping, found more recently modified local copy (use --force to force download)\n",
            "total 100\n",
            "drwxr-xr-x 2 root root  4096 Jun  1 08:17 .\n",
            "drwxr-xr-x 1 root root  4096 Jun  1 09:57 ..\n",
            "-rw-r--r-- 1 root root  3258 Jun  1 08:17 gender_submission.csv\n",
            "-rw-r--r-- 1 root root 28629 Jun  1 08:17 test.csv\n",
            "-rw-r--r-- 1 root root 61194 Jun  1 08:17 train.csv\n"
          ],
          "name": "stdout"
        }
      ]
    },
    {
      "cell_type": "markdown",
      "metadata": {
        "id": "pyUPgmft7MEp",
        "colab_type": "text"
      },
      "source": [
        "## Cargar los datos en el notebook"
      ]
    },
    {
      "cell_type": "code",
      "metadata": {
        "id": "Kz6v5JKYn25H",
        "colab_type": "code",
        "colab": {}
      },
      "source": [
        "# Se carga el dataset de entrenamiento como un DataFrame de Pandas\n",
        "df_train = pd.read_csv('datasets/train.csv', index_col = 'PassengerId') "
      ],
      "execution_count": 0,
      "outputs": []
    },
    {
      "cell_type": "code",
      "metadata": {
        "id": "IJbXogW-__vi",
        "colab_type": "code",
        "colab": {}
      },
      "source": [
        "# Se separan las caracteristicas de la variable objetivo ('Survived')\n",
        "X_train = df_train.copy()\n",
        "y_train = X_train[['Survived']]\n",
        "X_train = X_train.drop(columns=['Survived'])"
      ],
      "execution_count": 0,
      "outputs": []
    },
    {
      "cell_type": "code",
      "metadata": {
        "id": "BesY7zliT7uJ",
        "colab_type": "code",
        "outputId": "dfec57fb-b778-4ff2-cf3b-7cf3f4d32b37",
        "colab": {
          "base_uri": "https://localhost:8080/",
          "height": 541
        }
      },
      "source": [
        "# Se muestran las características del DataFrame de entrenamiento\n",
        "display(X_train.info())\n",
        "display(X_train.head())"
      ],
      "execution_count": 8,
      "outputs": [
        {
          "output_type": "stream",
          "text": [
            "<class 'pandas.core.frame.DataFrame'>\n",
            "Int64Index: 891 entries, 1 to 891\n",
            "Data columns (total 10 columns):\n",
            " #   Column    Non-Null Count  Dtype  \n",
            "---  ------    --------------  -----  \n",
            " 0   Pclass    891 non-null    int64  \n",
            " 1   Name      891 non-null    object \n",
            " 2   Sex       891 non-null    object \n",
            " 3   Age       714 non-null    float64\n",
            " 4   SibSp     891 non-null    int64  \n",
            " 5   Parch     891 non-null    int64  \n",
            " 6   Ticket    891 non-null    object \n",
            " 7   Fare      891 non-null    float64\n",
            " 8   Cabin     204 non-null    object \n",
            " 9   Embarked  889 non-null    object \n",
            "dtypes: float64(2), int64(3), object(5)\n",
            "memory usage: 76.6+ KB\n"
          ],
          "name": "stdout"
        },
        {
          "output_type": "display_data",
          "data": {
            "text/plain": [
              "None"
            ]
          },
          "metadata": {
            "tags": []
          }
        },
        {
          "output_type": "display_data",
          "data": {
            "text/html": [
              "<div>\n",
              "<style scoped>\n",
              "    .dataframe tbody tr th:only-of-type {\n",
              "        vertical-align: middle;\n",
              "    }\n",
              "\n",
              "    .dataframe tbody tr th {\n",
              "        vertical-align: top;\n",
              "    }\n",
              "\n",
              "    .dataframe thead th {\n",
              "        text-align: right;\n",
              "    }\n",
              "</style>\n",
              "<table border=\"1\" class=\"dataframe\">\n",
              "  <thead>\n",
              "    <tr style=\"text-align: right;\">\n",
              "      <th></th>\n",
              "      <th>Pclass</th>\n",
              "      <th>Name</th>\n",
              "      <th>Sex</th>\n",
              "      <th>Age</th>\n",
              "      <th>SibSp</th>\n",
              "      <th>Parch</th>\n",
              "      <th>Ticket</th>\n",
              "      <th>Fare</th>\n",
              "      <th>Cabin</th>\n",
              "      <th>Embarked</th>\n",
              "    </tr>\n",
              "    <tr>\n",
              "      <th>PassengerId</th>\n",
              "      <th></th>\n",
              "      <th></th>\n",
              "      <th></th>\n",
              "      <th></th>\n",
              "      <th></th>\n",
              "      <th></th>\n",
              "      <th></th>\n",
              "      <th></th>\n",
              "      <th></th>\n",
              "      <th></th>\n",
              "    </tr>\n",
              "  </thead>\n",
              "  <tbody>\n",
              "    <tr>\n",
              "      <th>1</th>\n",
              "      <td>3</td>\n",
              "      <td>Braund, Mr. Owen Harris</td>\n",
              "      <td>male</td>\n",
              "      <td>22.0</td>\n",
              "      <td>1</td>\n",
              "      <td>0</td>\n",
              "      <td>A/5 21171</td>\n",
              "      <td>7.2500</td>\n",
              "      <td>NaN</td>\n",
              "      <td>S</td>\n",
              "    </tr>\n",
              "    <tr>\n",
              "      <th>2</th>\n",
              "      <td>1</td>\n",
              "      <td>Cumings, Mrs. John Bradley (Florence Briggs Th...</td>\n",
              "      <td>female</td>\n",
              "      <td>38.0</td>\n",
              "      <td>1</td>\n",
              "      <td>0</td>\n",
              "      <td>PC 17599</td>\n",
              "      <td>71.2833</td>\n",
              "      <td>C85</td>\n",
              "      <td>C</td>\n",
              "    </tr>\n",
              "    <tr>\n",
              "      <th>3</th>\n",
              "      <td>3</td>\n",
              "      <td>Heikkinen, Miss. Laina</td>\n",
              "      <td>female</td>\n",
              "      <td>26.0</td>\n",
              "      <td>0</td>\n",
              "      <td>0</td>\n",
              "      <td>STON/O2. 3101282</td>\n",
              "      <td>7.9250</td>\n",
              "      <td>NaN</td>\n",
              "      <td>S</td>\n",
              "    </tr>\n",
              "    <tr>\n",
              "      <th>4</th>\n",
              "      <td>1</td>\n",
              "      <td>Futrelle, Mrs. Jacques Heath (Lily May Peel)</td>\n",
              "      <td>female</td>\n",
              "      <td>35.0</td>\n",
              "      <td>1</td>\n",
              "      <td>0</td>\n",
              "      <td>113803</td>\n",
              "      <td>53.1000</td>\n",
              "      <td>C123</td>\n",
              "      <td>S</td>\n",
              "    </tr>\n",
              "    <tr>\n",
              "      <th>5</th>\n",
              "      <td>3</td>\n",
              "      <td>Allen, Mr. William Henry</td>\n",
              "      <td>male</td>\n",
              "      <td>35.0</td>\n",
              "      <td>0</td>\n",
              "      <td>0</td>\n",
              "      <td>373450</td>\n",
              "      <td>8.0500</td>\n",
              "      <td>NaN</td>\n",
              "      <td>S</td>\n",
              "    </tr>\n",
              "  </tbody>\n",
              "</table>\n",
              "</div>"
            ],
            "text/plain": [
              "             Pclass  ... Embarked\n",
              "PassengerId          ...         \n",
              "1                 3  ...        S\n",
              "2                 1  ...        C\n",
              "3                 3  ...        S\n",
              "4                 1  ...        S\n",
              "5                 3  ...        S\n",
              "\n",
              "[5 rows x 10 columns]"
            ]
          },
          "metadata": {
            "tags": []
          }
        }
      ]
    },
    {
      "cell_type": "code",
      "metadata": {
        "id": "VxKIdKPd0crm",
        "colab_type": "code",
        "outputId": "8b235d6f-836c-463f-f751-9b1c8a3af476",
        "colab": {
          "base_uri": "https://localhost:8080/",
          "height": 388
        }
      },
      "source": [
        "# Se muestra la variable objetivo para el DataFrame de entremanieto\n",
        "display(y_train.info())\n",
        "display(y_train.head())"
      ],
      "execution_count": 9,
      "outputs": [
        {
          "output_type": "stream",
          "text": [
            "<class 'pandas.core.frame.DataFrame'>\n",
            "Int64Index: 891 entries, 1 to 891\n",
            "Data columns (total 1 columns):\n",
            " #   Column    Non-Null Count  Dtype\n",
            "---  ------    --------------  -----\n",
            " 0   Survived  891 non-null    int64\n",
            "dtypes: int64(1)\n",
            "memory usage: 13.9 KB\n"
          ],
          "name": "stdout"
        },
        {
          "output_type": "display_data",
          "data": {
            "text/plain": [
              "None"
            ]
          },
          "metadata": {
            "tags": []
          }
        },
        {
          "output_type": "display_data",
          "data": {
            "text/html": [
              "<div>\n",
              "<style scoped>\n",
              "    .dataframe tbody tr th:only-of-type {\n",
              "        vertical-align: middle;\n",
              "    }\n",
              "\n",
              "    .dataframe tbody tr th {\n",
              "        vertical-align: top;\n",
              "    }\n",
              "\n",
              "    .dataframe thead th {\n",
              "        text-align: right;\n",
              "    }\n",
              "</style>\n",
              "<table border=\"1\" class=\"dataframe\">\n",
              "  <thead>\n",
              "    <tr style=\"text-align: right;\">\n",
              "      <th></th>\n",
              "      <th>Survived</th>\n",
              "    </tr>\n",
              "    <tr>\n",
              "      <th>PassengerId</th>\n",
              "      <th></th>\n",
              "    </tr>\n",
              "  </thead>\n",
              "  <tbody>\n",
              "    <tr>\n",
              "      <th>1</th>\n",
              "      <td>0</td>\n",
              "    </tr>\n",
              "    <tr>\n",
              "      <th>2</th>\n",
              "      <td>1</td>\n",
              "    </tr>\n",
              "    <tr>\n",
              "      <th>3</th>\n",
              "      <td>1</td>\n",
              "    </tr>\n",
              "    <tr>\n",
              "      <th>4</th>\n",
              "      <td>1</td>\n",
              "    </tr>\n",
              "    <tr>\n",
              "      <th>5</th>\n",
              "      <td>0</td>\n",
              "    </tr>\n",
              "  </tbody>\n",
              "</table>\n",
              "</div>"
            ],
            "text/plain": [
              "             Survived\n",
              "PassengerId          \n",
              "1                   0\n",
              "2                   1\n",
              "3                   1\n",
              "4                   1\n",
              "5                   0"
            ]
          },
          "metadata": {
            "tags": []
          }
        }
      ]
    },
    {
      "cell_type": "code",
      "metadata": {
        "id": "zGDtXQK9DnWL",
        "colab_type": "code",
        "colab": {}
      },
      "source": [
        "# Se carga el dataset de test en un DataFrame de Pandas\n",
        "df_test = pd.read_csv('datasets/test.csv', index_col='PassengerId') \n",
        "X_test = df_test.copy()"
      ],
      "execution_count": 0,
      "outputs": []
    },
    {
      "cell_type": "code",
      "metadata": {
        "id": "IyRpU8_qT4Xs",
        "colab_type": "code",
        "outputId": "0a1d9ab2-eef5-4dcc-fdfd-b55a6123bbff",
        "colab": {
          "base_uri": "https://localhost:8080/",
          "height": 541
        }
      },
      "source": [
        "# Se muestran las características del DataFrame de test\n",
        "display(X_test.info())\n",
        "display(X_test.head())"
      ],
      "execution_count": 11,
      "outputs": [
        {
          "output_type": "stream",
          "text": [
            "<class 'pandas.core.frame.DataFrame'>\n",
            "Int64Index: 418 entries, 892 to 1309\n",
            "Data columns (total 10 columns):\n",
            " #   Column    Non-Null Count  Dtype  \n",
            "---  ------    --------------  -----  \n",
            " 0   Pclass    418 non-null    int64  \n",
            " 1   Name      418 non-null    object \n",
            " 2   Sex       418 non-null    object \n",
            " 3   Age       332 non-null    float64\n",
            " 4   SibSp     418 non-null    int64  \n",
            " 5   Parch     418 non-null    int64  \n",
            " 6   Ticket    418 non-null    object \n",
            " 7   Fare      417 non-null    float64\n",
            " 8   Cabin     91 non-null     object \n",
            " 9   Embarked  418 non-null    object \n",
            "dtypes: float64(2), int64(3), object(5)\n",
            "memory usage: 35.9+ KB\n"
          ],
          "name": "stdout"
        },
        {
          "output_type": "display_data",
          "data": {
            "text/plain": [
              "None"
            ]
          },
          "metadata": {
            "tags": []
          }
        },
        {
          "output_type": "display_data",
          "data": {
            "text/html": [
              "<div>\n",
              "<style scoped>\n",
              "    .dataframe tbody tr th:only-of-type {\n",
              "        vertical-align: middle;\n",
              "    }\n",
              "\n",
              "    .dataframe tbody tr th {\n",
              "        vertical-align: top;\n",
              "    }\n",
              "\n",
              "    .dataframe thead th {\n",
              "        text-align: right;\n",
              "    }\n",
              "</style>\n",
              "<table border=\"1\" class=\"dataframe\">\n",
              "  <thead>\n",
              "    <tr style=\"text-align: right;\">\n",
              "      <th></th>\n",
              "      <th>Pclass</th>\n",
              "      <th>Name</th>\n",
              "      <th>Sex</th>\n",
              "      <th>Age</th>\n",
              "      <th>SibSp</th>\n",
              "      <th>Parch</th>\n",
              "      <th>Ticket</th>\n",
              "      <th>Fare</th>\n",
              "      <th>Cabin</th>\n",
              "      <th>Embarked</th>\n",
              "    </tr>\n",
              "    <tr>\n",
              "      <th>PassengerId</th>\n",
              "      <th></th>\n",
              "      <th></th>\n",
              "      <th></th>\n",
              "      <th></th>\n",
              "      <th></th>\n",
              "      <th></th>\n",
              "      <th></th>\n",
              "      <th></th>\n",
              "      <th></th>\n",
              "      <th></th>\n",
              "    </tr>\n",
              "  </thead>\n",
              "  <tbody>\n",
              "    <tr>\n",
              "      <th>892</th>\n",
              "      <td>3</td>\n",
              "      <td>Kelly, Mr. James</td>\n",
              "      <td>male</td>\n",
              "      <td>34.5</td>\n",
              "      <td>0</td>\n",
              "      <td>0</td>\n",
              "      <td>330911</td>\n",
              "      <td>7.8292</td>\n",
              "      <td>NaN</td>\n",
              "      <td>Q</td>\n",
              "    </tr>\n",
              "    <tr>\n",
              "      <th>893</th>\n",
              "      <td>3</td>\n",
              "      <td>Wilkes, Mrs. James (Ellen Needs)</td>\n",
              "      <td>female</td>\n",
              "      <td>47.0</td>\n",
              "      <td>1</td>\n",
              "      <td>0</td>\n",
              "      <td>363272</td>\n",
              "      <td>7.0000</td>\n",
              "      <td>NaN</td>\n",
              "      <td>S</td>\n",
              "    </tr>\n",
              "    <tr>\n",
              "      <th>894</th>\n",
              "      <td>2</td>\n",
              "      <td>Myles, Mr. Thomas Francis</td>\n",
              "      <td>male</td>\n",
              "      <td>62.0</td>\n",
              "      <td>0</td>\n",
              "      <td>0</td>\n",
              "      <td>240276</td>\n",
              "      <td>9.6875</td>\n",
              "      <td>NaN</td>\n",
              "      <td>Q</td>\n",
              "    </tr>\n",
              "    <tr>\n",
              "      <th>895</th>\n",
              "      <td>3</td>\n",
              "      <td>Wirz, Mr. Albert</td>\n",
              "      <td>male</td>\n",
              "      <td>27.0</td>\n",
              "      <td>0</td>\n",
              "      <td>0</td>\n",
              "      <td>315154</td>\n",
              "      <td>8.6625</td>\n",
              "      <td>NaN</td>\n",
              "      <td>S</td>\n",
              "    </tr>\n",
              "    <tr>\n",
              "      <th>896</th>\n",
              "      <td>3</td>\n",
              "      <td>Hirvonen, Mrs. Alexander (Helga E Lindqvist)</td>\n",
              "      <td>female</td>\n",
              "      <td>22.0</td>\n",
              "      <td>1</td>\n",
              "      <td>1</td>\n",
              "      <td>3101298</td>\n",
              "      <td>12.2875</td>\n",
              "      <td>NaN</td>\n",
              "      <td>S</td>\n",
              "    </tr>\n",
              "  </tbody>\n",
              "</table>\n",
              "</div>"
            ],
            "text/plain": [
              "             Pclass  ... Embarked\n",
              "PassengerId          ...         \n",
              "892               3  ...        Q\n",
              "893               3  ...        S\n",
              "894               2  ...        Q\n",
              "895               3  ...        S\n",
              "896               3  ...        S\n",
              "\n",
              "[5 rows x 10 columns]"
            ]
          },
          "metadata": {
            "tags": []
          }
        }
      ]
    },
    {
      "cell_type": "markdown",
      "metadata": {
        "id": "DokFtGZceDGJ",
        "colab_type": "text"
      },
      "source": [
        "# 2 - Análisis de datos preliminar"
      ]
    },
    {
      "cell_type": "markdown",
      "metadata": {
        "id": "dS-512QgeIli",
        "colab_type": "text"
      },
      "source": [
        "## Análisis estadístico descriptivo"
      ]
    },
    {
      "cell_type": "code",
      "metadata": {
        "colab_type": "code",
        "outputId": "eb639cee-1ab7-4bc9-c43c-5f1cc99fed4e",
        "id": "4KJPozOYeA3p",
        "colab": {
          "base_uri": "https://localhost:8080/",
          "height": 297
        }
      },
      "source": [
        "# Estadísticas del DataFrame de entrenamiento\n",
        "display(X_train.describe())"
      ],
      "execution_count": 12,
      "outputs": [
        {
          "output_type": "display_data",
          "data": {
            "text/html": [
              "<div>\n",
              "<style scoped>\n",
              "    .dataframe tbody tr th:only-of-type {\n",
              "        vertical-align: middle;\n",
              "    }\n",
              "\n",
              "    .dataframe tbody tr th {\n",
              "        vertical-align: top;\n",
              "    }\n",
              "\n",
              "    .dataframe thead th {\n",
              "        text-align: right;\n",
              "    }\n",
              "</style>\n",
              "<table border=\"1\" class=\"dataframe\">\n",
              "  <thead>\n",
              "    <tr style=\"text-align: right;\">\n",
              "      <th></th>\n",
              "      <th>Pclass</th>\n",
              "      <th>Age</th>\n",
              "      <th>SibSp</th>\n",
              "      <th>Parch</th>\n",
              "      <th>Fare</th>\n",
              "    </tr>\n",
              "  </thead>\n",
              "  <tbody>\n",
              "    <tr>\n",
              "      <th>count</th>\n",
              "      <td>891.000000</td>\n",
              "      <td>714.000000</td>\n",
              "      <td>891.000000</td>\n",
              "      <td>891.000000</td>\n",
              "      <td>891.000000</td>\n",
              "    </tr>\n",
              "    <tr>\n",
              "      <th>mean</th>\n",
              "      <td>2.308642</td>\n",
              "      <td>29.699118</td>\n",
              "      <td>0.523008</td>\n",
              "      <td>0.381594</td>\n",
              "      <td>32.204208</td>\n",
              "    </tr>\n",
              "    <tr>\n",
              "      <th>std</th>\n",
              "      <td>0.836071</td>\n",
              "      <td>14.526497</td>\n",
              "      <td>1.102743</td>\n",
              "      <td>0.806057</td>\n",
              "      <td>49.693429</td>\n",
              "    </tr>\n",
              "    <tr>\n",
              "      <th>min</th>\n",
              "      <td>1.000000</td>\n",
              "      <td>0.420000</td>\n",
              "      <td>0.000000</td>\n",
              "      <td>0.000000</td>\n",
              "      <td>0.000000</td>\n",
              "    </tr>\n",
              "    <tr>\n",
              "      <th>25%</th>\n",
              "      <td>2.000000</td>\n",
              "      <td>20.125000</td>\n",
              "      <td>0.000000</td>\n",
              "      <td>0.000000</td>\n",
              "      <td>7.910400</td>\n",
              "    </tr>\n",
              "    <tr>\n",
              "      <th>50%</th>\n",
              "      <td>3.000000</td>\n",
              "      <td>28.000000</td>\n",
              "      <td>0.000000</td>\n",
              "      <td>0.000000</td>\n",
              "      <td>14.454200</td>\n",
              "    </tr>\n",
              "    <tr>\n",
              "      <th>75%</th>\n",
              "      <td>3.000000</td>\n",
              "      <td>38.000000</td>\n",
              "      <td>1.000000</td>\n",
              "      <td>0.000000</td>\n",
              "      <td>31.000000</td>\n",
              "    </tr>\n",
              "    <tr>\n",
              "      <th>max</th>\n",
              "      <td>3.000000</td>\n",
              "      <td>80.000000</td>\n",
              "      <td>8.000000</td>\n",
              "      <td>6.000000</td>\n",
              "      <td>512.329200</td>\n",
              "    </tr>\n",
              "  </tbody>\n",
              "</table>\n",
              "</div>"
            ],
            "text/plain": [
              "           Pclass         Age       SibSp       Parch        Fare\n",
              "count  891.000000  714.000000  891.000000  891.000000  891.000000\n",
              "mean     2.308642   29.699118    0.523008    0.381594   32.204208\n",
              "std      0.836071   14.526497    1.102743    0.806057   49.693429\n",
              "min      1.000000    0.420000    0.000000    0.000000    0.000000\n",
              "25%      2.000000   20.125000    0.000000    0.000000    7.910400\n",
              "50%      3.000000   28.000000    0.000000    0.000000   14.454200\n",
              "75%      3.000000   38.000000    1.000000    0.000000   31.000000\n",
              "max      3.000000   80.000000    8.000000    6.000000  512.329200"
            ]
          },
          "metadata": {
            "tags": []
          }
        }
      ]
    },
    {
      "cell_type": "code",
      "metadata": {
        "colab_type": "code",
        "outputId": "ab85fc97-7186-4a69-c742-afb72f7b0db8",
        "id": "megSNvG9eA38",
        "colab": {
          "base_uri": "https://localhost:8080/",
          "height": 297
        }
      },
      "source": [
        "# Estadísticas del DataFrame test\n",
        "display(X_test.describe())"
      ],
      "execution_count": 13,
      "outputs": [
        {
          "output_type": "display_data",
          "data": {
            "text/html": [
              "<div>\n",
              "<style scoped>\n",
              "    .dataframe tbody tr th:only-of-type {\n",
              "        vertical-align: middle;\n",
              "    }\n",
              "\n",
              "    .dataframe tbody tr th {\n",
              "        vertical-align: top;\n",
              "    }\n",
              "\n",
              "    .dataframe thead th {\n",
              "        text-align: right;\n",
              "    }\n",
              "</style>\n",
              "<table border=\"1\" class=\"dataframe\">\n",
              "  <thead>\n",
              "    <tr style=\"text-align: right;\">\n",
              "      <th></th>\n",
              "      <th>Pclass</th>\n",
              "      <th>Age</th>\n",
              "      <th>SibSp</th>\n",
              "      <th>Parch</th>\n",
              "      <th>Fare</th>\n",
              "    </tr>\n",
              "  </thead>\n",
              "  <tbody>\n",
              "    <tr>\n",
              "      <th>count</th>\n",
              "      <td>418.000000</td>\n",
              "      <td>332.000000</td>\n",
              "      <td>418.000000</td>\n",
              "      <td>418.000000</td>\n",
              "      <td>417.000000</td>\n",
              "    </tr>\n",
              "    <tr>\n",
              "      <th>mean</th>\n",
              "      <td>2.265550</td>\n",
              "      <td>30.272590</td>\n",
              "      <td>0.447368</td>\n",
              "      <td>0.392344</td>\n",
              "      <td>35.627188</td>\n",
              "    </tr>\n",
              "    <tr>\n",
              "      <th>std</th>\n",
              "      <td>0.841838</td>\n",
              "      <td>14.181209</td>\n",
              "      <td>0.896760</td>\n",
              "      <td>0.981429</td>\n",
              "      <td>55.907576</td>\n",
              "    </tr>\n",
              "    <tr>\n",
              "      <th>min</th>\n",
              "      <td>1.000000</td>\n",
              "      <td>0.170000</td>\n",
              "      <td>0.000000</td>\n",
              "      <td>0.000000</td>\n",
              "      <td>0.000000</td>\n",
              "    </tr>\n",
              "    <tr>\n",
              "      <th>25%</th>\n",
              "      <td>1.000000</td>\n",
              "      <td>21.000000</td>\n",
              "      <td>0.000000</td>\n",
              "      <td>0.000000</td>\n",
              "      <td>7.895800</td>\n",
              "    </tr>\n",
              "    <tr>\n",
              "      <th>50%</th>\n",
              "      <td>3.000000</td>\n",
              "      <td>27.000000</td>\n",
              "      <td>0.000000</td>\n",
              "      <td>0.000000</td>\n",
              "      <td>14.454200</td>\n",
              "    </tr>\n",
              "    <tr>\n",
              "      <th>75%</th>\n",
              "      <td>3.000000</td>\n",
              "      <td>39.000000</td>\n",
              "      <td>1.000000</td>\n",
              "      <td>0.000000</td>\n",
              "      <td>31.500000</td>\n",
              "    </tr>\n",
              "    <tr>\n",
              "      <th>max</th>\n",
              "      <td>3.000000</td>\n",
              "      <td>76.000000</td>\n",
              "      <td>8.000000</td>\n",
              "      <td>9.000000</td>\n",
              "      <td>512.329200</td>\n",
              "    </tr>\n",
              "  </tbody>\n",
              "</table>\n",
              "</div>"
            ],
            "text/plain": [
              "           Pclass         Age       SibSp       Parch        Fare\n",
              "count  418.000000  332.000000  418.000000  418.000000  417.000000\n",
              "mean     2.265550   30.272590    0.447368    0.392344   35.627188\n",
              "std      0.841838   14.181209    0.896760    0.981429   55.907576\n",
              "min      1.000000    0.170000    0.000000    0.000000    0.000000\n",
              "25%      1.000000   21.000000    0.000000    0.000000    7.895800\n",
              "50%      3.000000   27.000000    0.000000    0.000000   14.454200\n",
              "75%      3.000000   39.000000    1.000000    0.000000   31.500000\n",
              "max      3.000000   76.000000    8.000000    9.000000  512.329200"
            ]
          },
          "metadata": {
            "tags": []
          }
        }
      ]
    },
    {
      "cell_type": "markdown",
      "metadata": {
        "id": "GQu6vQzI8161",
        "colab_type": "text"
      },
      "source": [
        "## Análisis de normalidad y homocedasticidad"
      ]
    },
    {
      "cell_type": "code",
      "metadata": {
        "id": "Yx5qkMO5snPk",
        "colab_type": "code",
        "colab": {}
      },
      "source": [
        "# Se define una función para realizar el análisis de normalidad\n",
        "def normality_test(X, variable):\n",
        "  # Se aplica el test Shapiro-Wilk para la variable\n",
        "  statistic, pvalue = stats.shapiro(X[variable])\n",
        "  print('statistic = '+str(statistic))\n",
        "  print('pvalue = '+str(pvalue))\n",
        "\n",
        "  if pvalue < 0.05:\n",
        "    print(\"La distribución no se ajusta a una distribución normal\")\n",
        "  if pvalue > 0.05:\n",
        "    print(\"La distribución se ajusta a una distribución normal\")\n",
        "    \n",
        "  # Se muestra el histograma de la variable\n",
        "  plot = sns.distplot(X[variable]);"
      ],
      "execution_count": 0,
      "outputs": []
    },
    {
      "cell_type": "code",
      "metadata": {
        "id": "1vkdQ14hs_E7",
        "colab_type": "code",
        "colab": {}
      },
      "source": [
        "# Se define una función para realizar el análisis de homocedasticidad\n",
        "def homoscedasticity_test(X, variable):\n",
        "  # Se aplica el test Fligner-Killeen para la variable\n",
        "  # según si la persona sobrevivió o no\n",
        "  statistic, pvalue = stats.fligner(X[X['Survived'] == 0][variable], \n",
        "                                    X[X['Survived'] == 1][variable])\n",
        "  print('statistic = '+str(statistic))\n",
        "  print('pvalue = '+str(pvalue))\n",
        "\n",
        "  var_0 = np.var(X[X['Survived'] == 0][variable])\n",
        "  var_1 = np.var(X[X['Survived'] == 1][variable])\n",
        "\n",
        "  print('variance [Survived = 0] = '+str(var_0))\n",
        "  print('variance [Survived = 1] = '+str(var_1))\n",
        "\n",
        "  if pvalue < 0.05:\n",
        "    print(\"Las varianzas son significativamente difernetes\")\n",
        "  else:\n",
        "    print(\"Las varianzas no son significativamente difernetes\")\n",
        "\n",
        "  # Se muestran los histogramas de la variable \n",
        "  # según si la persona sobrevivió o no\n",
        "  plot = sns.catplot(x = variable, kind = \"box\", row = 'Survived', \n",
        "                     height = 4, data = X)"
      ],
      "execution_count": 0,
      "outputs": []
    },
    {
      "cell_type": "code",
      "metadata": {
        "id": "_2eSzyqCsMFk",
        "colab_type": "code",
        "outputId": "e868c643-8618-48db-fa73-f36749655bf1",
        "colab": {
          "base_uri": "https://localhost:8080/",
          "height": 330
        }
      },
      "source": [
        "# Se analiza la normalidad para las variables continuas\n",
        "# Análisis de normalidad para la variable 'Age'\n",
        "# en el conjunto de datos de entrenamiento\n",
        "normality_test(df_train, 'Age')"
      ],
      "execution_count": 16,
      "outputs": [
        {
          "output_type": "stream",
          "text": [
            "statistic = nan\n",
            "pvalue = 1.0\n",
            "La distribución se ajusta a una distribución normal\n"
          ],
          "name": "stdout"
        },
        {
          "output_type": "display_data",
          "data": {
            "image/png": "[encoded data removed]",
            "text/plain": [
              "<Figure size 432x288 with 1 Axes>"
            ]
          },
          "metadata": {
            "tags": [],
            "needs_background": "light"
          }
        }
      ]
    },
    {
      "cell_type": "code",
      "metadata": {
        "id": "XjoY3VsD87Rr",
        "colab_type": "code",
        "colab": {
          "base_uri": "https://localhost:8080/",
          "height": 330
        },
        "outputId": "1991778e-bebd-4f6d-e196-d2b463c77897"
      },
      "source": [
        "# Análisis de normalidad para la variable 'Age'\n",
        "# en el conjunto de datos de test\n",
        "normality_test(df_test, 'Age')"
      ],
      "execution_count": 17,
      "outputs": [
        {
          "output_type": "stream",
          "text": [
            "statistic = nan\n",
            "pvalue = 1.0\n",
            "La distribución se ajusta a una distribución normal\n"
          ],
          "name": "stdout"
        },
        {
          "output_type": "display_data",
          "data": {
            "image/png": "[encoded data removed]",
            "text/plain": [
              "<Figure size 432x288 with 1 Axes>"
            ]
          },
          "metadata": {
            "tags": [],
            "needs_background": "light"
          }
        }
      ]
    },
    {
      "cell_type": "code",
      "metadata": {
        "id": "oLQSgyvI9TTb",
        "colab_type": "code",
        "colab": {
          "base_uri": "https://localhost:8080/",
          "height": 331
        },
        "outputId": "2b20f551-4975-4109-befe-0f47798b8530"
      },
      "source": [
        "# Análisis de normalidad para la variable 'Fare'\n",
        "# en el conjunto de datos de entrenamiento\n",
        "normality_test(df_train, 'Fare')"
      ],
      "execution_count": 18,
      "outputs": [
        {
          "output_type": "stream",
          "text": [
            "statistic = 0.5218914747238159\n",
            "pvalue = 1.0789998175301091e-43\n",
            "La distribución no se ajusta a una distribución normal\n"
          ],
          "name": "stdout"
        },
        {
          "output_type": "display_data",
          "data": {
            "image/png": "[encoded data removed]",
            "text/plain": [
              "<Figure size 432x288 with 1 Axes>"
            ]
          },
          "metadata": {
            "tags": [],
            "needs_background": "light"
          }
        }
      ]
    },
    {
      "cell_type": "code",
      "metadata": {
        "id": "ddlvSFxgtbdx",
        "colab_type": "code",
        "outputId": "365763c7-8cbd-4eb4-d247-ba180f939b4e",
        "colab": {
          "base_uri": "https://localhost:8080/",
          "height": 330
        }
      },
      "source": [
        "# Análisis de normalidad para la variable 'Fare'\n",
        "# en el conjunto de datos de test\n",
        "normality_test(df_test, 'Fare')"
      ],
      "execution_count": 19,
      "outputs": [
        {
          "output_type": "stream",
          "text": [
            "statistic = nan\n",
            "pvalue = 1.0\n",
            "La distribución se ajusta a una distribución normal\n"
          ],
          "name": "stdout"
        },
        {
          "output_type": "display_data",
          "data": {
            "image/png": "[encoded data removed]",
            "text/plain": [
              "<Figure size 432x288 with 1 Axes>"
            ]
          },
          "metadata": {
            "tags": [],
            "needs_background": "light"
          }
        }
      ]
    },
    {
      "cell_type": "code",
      "metadata": {
        "id": "qsG_6TV_pgOE",
        "colab_type": "code",
        "outputId": "bffccbcb-0405-4f01-bf61-600efc34af35",
        "colab": {
          "base_uri": "https://localhost:8080/",
          "height": 670
        }
      },
      "source": [
        "# Análisis de homocedasticidad para la variable 'Age'\n",
        "homoscedasticity_test(df_train, 'Age')"
      ],
      "execution_count": 20,
      "outputs": [
        {
          "output_type": "stream",
          "text": [
            "statistic = 293.7173156541651\n",
            "pvalue = 7.702014597162354e-66\n",
            "variance [Survived = 0] = 200.3749986093805\n",
            "variance [Survived = 1] = 222.7601688002378\n",
            "Las varianzas son significativamente difernetes\n"
          ],
          "name": "stdout"
        },
        {
          "output_type": "display_data",
          "data": {
            "image/png": "[encoded data removed]",
            "text/plain": [
              "<Figure size 288x576 with 2 Axes>"
            ]
          },
          "metadata": {
            "tags": [],
            "needs_background": "light"
          }
        }
      ]
    },
    {
      "cell_type": "code",
      "metadata": {
        "id": "vn1VkARPtfJk",
        "colab_type": "code",
        "outputId": "e95f7453-0d31-4d19-d6f0-b198ae7113b5",
        "colab": {
          "base_uri": "https://localhost:8080/",
          "height": 670
        }
      },
      "source": [
        "# Análisis de homocedasticidad para la variable 'Fare'\n",
        "homoscedasticity_test(df_train, 'Fare')"
      ],
      "execution_count": 21,
      "outputs": [
        {
          "output_type": "stream",
          "text": [
            "statistic = 96.2527395111909\n",
            "pvalue = 1.0111515793725321e-22\n",
            "variance [Survived = 0] = 983.4249381503206\n",
            "variance [Survived = 1] = 4422.191853811519\n",
            "Las varianzas son significativamente difernetes\n"
          ],
          "name": "stdout"
        },
        {
          "output_type": "display_data",
          "data": {
            "image/png": "[encoded data removed]",
            "text/plain": [
              "<Figure size 288x576 with 2 Axes>"
            ]
          },
          "metadata": {
            "tags": [],
            "needs_background": "light"
          }
        }
      ]
    },
    {
      "cell_type": "markdown",
      "metadata": {
        "id": "A277m6ABwqpB",
        "colab_type": "text"
      },
      "source": [
        "# 3 - Limpieza de datos"
      ]
    },
    {
      "cell_type": "markdown",
      "metadata": {
        "id": "8LKjD6vu9e-h",
        "colab_type": "text"
      },
      "source": [
        "## Tratar los valores extremos"
      ]
    },
    {
      "cell_type": "code",
      "metadata": {
        "id": "8FVZdfxuH7Gw",
        "colab_type": "code",
        "colab": {}
      },
      "source": [
        "# Se define una función para elminar valores extremos\n",
        "def remove_outliers(X, feature, qmin, qmax):\n",
        "  X.loc[~X[feature].between(qmin, qmax), feature] = np.nan\n",
        "  return X"
      ],
      "execution_count": 0,
      "outputs": []
    },
    {
      "cell_type": "code",
      "metadata": {
        "id": "gxIQnqrqOa37",
        "colab_type": "code",
        "outputId": "187db649-8ca9-4f61-abc3-0964592dd54b",
        "colab": {
          "base_uri": "https://localhost:8080/",
          "height": 279
        }
      },
      "source": [
        "# El análisis de outliers solo tiene sentido para variables continuas\n",
        "# Se muestra una boxplot de la variable 'Age' para el DataFrame de entrenamiento\n",
        "plot = sns.boxplot(X_train['Age']);"
      ],
      "execution_count": 23,
      "outputs": [
        {
          "output_type": "display_data",
          "data": {
            "image/png": "[encoded data removed]",
            "text/plain": [
              "<Figure size 432x288 with 1 Axes>"
            ]
          },
          "metadata": {
            "tags": [],
            "needs_background": "light"
          }
        }
      ]
    },
    {
      "cell_type": "code",
      "metadata": {
        "id": "emGp9JVNOkFV",
        "colab_type": "code",
        "outputId": "f26b51e5-734e-415b-fd26-28e4bdae8ed1",
        "colab": {
          "base_uri": "https://localhost:8080/",
          "height": 279
        }
      },
      "source": [
        "# Se muestra una boxplot de la variable 'Age' para el DataFrame de test\n",
        "plot = sns.boxplot(X_test['Age']);"
      ],
      "execution_count": 24,
      "outputs": [
        {
          "output_type": "display_data",
          "data": {
            "image/png": "[encoded data removed]",
            "text/plain": [
              "<Figure size 432x288 with 1 Axes>"
            ]
          },
          "metadata": {
            "tags": [],
            "needs_background": "light"
          }
        }
      ]
    },
    {
      "cell_type": "code",
      "metadata": {
        "id": "WCK2ZvcXOpKm",
        "colab_type": "code",
        "colab": {}
      },
      "source": [
        "# Si se decide eliminar/reducir los outliers\n",
        "if remove_outilers_quantile > 0:\n",
        "  # Se eliminan/reduce el número de los valore extremos\n",
        "  qmin = X_train['Age'].quantile(remove_outilers_quantile)\n",
        "  qmax = X_train['Age'].quantile(1 - remove_outilers_quantile)\n",
        "  X_train = remove_outliers(X_train, 'Age', qmin, qmax)\n",
        "  X_test = remove_outliers(X_test, 'Age', qmin, qmax)"
      ],
      "execution_count": 0,
      "outputs": []
    },
    {
      "cell_type": "code",
      "metadata": {
        "id": "1qwIMuXiO8KR",
        "colab_type": "code",
        "outputId": "49044766-c5b2-4eb3-e5df-477d8eef8ec4",
        "colab": {
          "base_uri": "https://localhost:8080/",
          "height": 279
        }
      },
      "source": [
        "# Si se decide eliminar/reducir los outliers\n",
        "if remove_outilers_quantile > 0:\n",
        "  # Se muestra una boxplot de la variable 'Age' \n",
        "  # para el DataFrame de entrenamiento\n",
        "  plot = sns.boxplot(X_train['Age']);"
      ],
      "execution_count": 26,
      "outputs": [
        {
          "output_type": "display_data",
          "data": {
            "image/png": "[encoded data removed]",
            "text/plain": [
              "<Figure size 432x288 with 1 Axes>"
            ]
          },
          "metadata": {
            "tags": [],
            "needs_background": "light"
          }
        }
      ]
    },
    {
      "cell_type": "code",
      "metadata": {
        "id": "BUsKxEziQBWM",
        "colab_type": "code",
        "outputId": "35d204b6-38bb-403b-f5de-10347d9a05c9",
        "colab": {
          "base_uri": "https://localhost:8080/",
          "height": 279
        }
      },
      "source": [
        "# Si se decide eliminar/reducir los outliers\n",
        "if remove_outilers_quantile > 0:\n",
        "  # Se muestra una boxplot de la variable 'SibSp' \n",
        "  # para el DataFrame de test\n",
        "  plot = sns.boxplot(X_test['Age']);"
      ],
      "execution_count": 27,
      "outputs": [
        {
          "output_type": "display_data",
          "data": {
            "image/png": "[encoded data removed]",
            "text/plain": [
              "<Figure size 432x288 with 1 Axes>"
            ]
          },
          "metadata": {
            "tags": [],
            "needs_background": "light"
          }
        }
      ]
    },
    {
      "cell_type": "code",
      "metadata": {
        "id": "ZhDnso-kG0mX",
        "colab_type": "code",
        "outputId": "bcf83420-7e2b-4f3c-b45a-2323f1155f86",
        "colab": {
          "base_uri": "https://localhost:8080/",
          "height": 279
        }
      },
      "source": [
        "# Se muestra una boxplot de la variable 'SibSp' \n",
        "# para el DataFrame de entrenamiento\n",
        "plot = sns.boxplot(X_train['Fare']);"
      ],
      "execution_count": 28,
      "outputs": [
        {
          "output_type": "display_data",
          "data": {
            "image/png": "[encoded data removed]",
            "text/plain": [
              "<Figure size 432x288 with 1 Axes>"
            ]
          },
          "metadata": {
            "tags": [],
            "needs_background": "light"
          }
        }
      ]
    },
    {
      "cell_type": "code",
      "metadata": {
        "id": "hgKlxYcLQHpw",
        "colab_type": "code",
        "outputId": "31ad97da-41b7-4151-ab4b-36bdc5c8512f",
        "colab": {
          "base_uri": "https://localhost:8080/",
          "height": 279
        }
      },
      "source": [
        "# Se muestra una boxplot de la variable 'SibSp' \n",
        "# para el DataFrame de test\n",
        "plot = sns.boxplot(X_test['Fare']);"
      ],
      "execution_count": 29,
      "outputs": [
        {
          "output_type": "display_data",
          "data": {
            "image/png": "[encoded data removed]",
            "text/plain": [
              "<Figure size 432x288 with 1 Axes>"
            ]
          },
          "metadata": {
            "tags": [],
            "needs_background": "light"
          }
        }
      ]
    },
    {
      "cell_type": "code",
      "metadata": {
        "id": "QrkDo_XQG4Od",
        "colab_type": "code",
        "colab": {}
      },
      "source": [
        "# Si se decide eliminar/reducir los outliers\n",
        "if remove_outilers_quantile > 0:\n",
        "  qmin = X_train['Fare'].quantile(remove_outilers_quantile)\n",
        "  qmax = X_train['Fare'].quantile(1 - remove_outilers_quantile)\n",
        "  X_train = remove_outliers(X_train, 'Fare', qmin, qmax)\n",
        "  X_test = remove_outliers(X_test, 'Fare', qmin, qmax)"
      ],
      "execution_count": 0,
      "outputs": []
    },
    {
      "cell_type": "code",
      "metadata": {
        "id": "exXgzP6SHGGB",
        "colab_type": "code",
        "outputId": "eace9296-9195-48f2-c1a4-305c3c2b6f3e",
        "colab": {
          "base_uri": "https://localhost:8080/",
          "height": 279
        }
      },
      "source": [
        "# Si se decide eliminar/reducir los outliers\n",
        "if remove_outilers_quantile > 0:\n",
        "  # Se muestra una boxplot de la variable 'Parch' \n",
        "  # para el DataFrame de entrenamiento\n",
        "  plot = sns.boxplot(X_train['Fare']);"
      ],
      "execution_count": 31,
      "outputs": [
        {
          "output_type": "display_data",
          "data": {
            "image/png": "[encoded data removed]",
            "text/plain": [
              "<Figure size 432x288 with 1 Axes>"
            ]
          },
          "metadata": {
            "tags": [],
            "needs_background": "light"
          }
        }
      ]
    },
    {
      "cell_type": "code",
      "metadata": {
        "id": "PFvp9b5AQY-4",
        "colab_type": "code",
        "outputId": "60d385ca-3d96-4185-ac26-43e524794832",
        "colab": {
          "base_uri": "https://localhost:8080/",
          "height": 279
        }
      },
      "source": [
        "# Si se decide eliminar/reducir los outliers\n",
        "if remove_outilers_quantile > 0:\n",
        "  # Se muestra una boxplot de la variable 'Parch' para el DataFrame de test\n",
        "  plot = sns.boxplot(X_test['Fare']);"
      ],
      "execution_count": 32,
      "outputs": [
        {
          "output_type": "display_data",
          "data": {
            "image/png": "[encoded data removed]",
            "text/plain": [
              "<Figure size 432x288 with 1 Axes>"
            ]
          },
          "metadata": {
            "tags": [],
            "needs_background": "light"
          }
        }
      ]
    },
    {
      "cell_type": "code",
      "metadata": {
        "id": "lpW_BTBQSZF5",
        "colab_type": "code",
        "outputId": "b752ce23-ee66-4b69-ee79-37487bd6b2d5",
        "colab": {
          "base_uri": "https://localhost:8080/",
          "height": 541
        }
      },
      "source": [
        "# Se muestran las características del DataFrame de entrenamiento\n",
        "display(X_train.info())\n",
        "display(X_train.head())"
      ],
      "execution_count": 33,
      "outputs": [
        {
          "output_type": "stream",
          "text": [
            "<class 'pandas.core.frame.DataFrame'>\n",
            "Int64Index: 891 entries, 1 to 891\n",
            "Data columns (total 10 columns):\n",
            " #   Column    Non-Null Count  Dtype  \n",
            "---  ------    --------------  -----  \n",
            " 0   Pclass    891 non-null    int64  \n",
            " 1   Name      891 non-null    object \n",
            " 2   Sex       891 non-null    object \n",
            " 3   Age       511 non-null    float64\n",
            " 4   SibSp     891 non-null    int64  \n",
            " 5   Parch     891 non-null    int64  \n",
            " 6   Ticket    891 non-null    object \n",
            " 7   Fare      656 non-null    float64\n",
            " 8   Cabin     204 non-null    object \n",
            " 9   Embarked  889 non-null    object \n",
            "dtypes: float64(2), int64(3), object(5)\n",
            "memory usage: 76.6+ KB\n"
          ],
          "name": "stdout"
        },
        {
          "output_type": "display_data",
          "data": {
            "text/plain": [
              "None"
            ]
          },
          "metadata": {
            "tags": []
          }
        },
        {
          "output_type": "display_data",
          "data": {
            "text/html": [
              "<div>\n",
              "<style scoped>\n",
              "    .dataframe tbody tr th:only-of-type {\n",
              "        vertical-align: middle;\n",
              "    }\n",
              "\n",
              "    .dataframe tbody tr th {\n",
              "        vertical-align: top;\n",
              "    }\n",
              "\n",
              "    .dataframe thead th {\n",
              "        text-align: right;\n",
              "    }\n",
              "</style>\n",
              "<table border=\"1\" class=\"dataframe\">\n",
              "  <thead>\n",
              "    <tr style=\"text-align: right;\">\n",
              "      <th></th>\n",
              "      <th>Pclass</th>\n",
              "      <th>Name</th>\n",
              "      <th>Sex</th>\n",
              "      <th>Age</th>\n",
              "      <th>SibSp</th>\n",
              "      <th>Parch</th>\n",
              "      <th>Ticket</th>\n",
              "      <th>Fare</th>\n",
              "      <th>Cabin</th>\n",
              "      <th>Embarked</th>\n",
              "    </tr>\n",
              "    <tr>\n",
              "      <th>PassengerId</th>\n",
              "      <th></th>\n",
              "      <th></th>\n",
              "      <th></th>\n",
              "      <th></th>\n",
              "      <th></th>\n",
              "      <th></th>\n",
              "      <th></th>\n",
              "      <th></th>\n",
              "      <th></th>\n",
              "      <th></th>\n",
              "    </tr>\n",
              "  </thead>\n",
              "  <tbody>\n",
              "    <tr>\n",
              "      <th>1</th>\n",
              "      <td>3</td>\n",
              "      <td>Braund, Mr. Owen Harris</td>\n",
              "      <td>male</td>\n",
              "      <td>22.0</td>\n",
              "      <td>1</td>\n",
              "      <td>0</td>\n",
              "      <td>A/5 21171</td>\n",
              "      <td>NaN</td>\n",
              "      <td>NaN</td>\n",
              "      <td>S</td>\n",
              "    </tr>\n",
              "    <tr>\n",
              "      <th>2</th>\n",
              "      <td>1</td>\n",
              "      <td>Cumings, Mrs. John Bradley (Florence Briggs Th...</td>\n",
              "      <td>female</td>\n",
              "      <td>38.0</td>\n",
              "      <td>1</td>\n",
              "      <td>0</td>\n",
              "      <td>PC 17599</td>\n",
              "      <td>NaN</td>\n",
              "      <td>C85</td>\n",
              "      <td>C</td>\n",
              "    </tr>\n",
              "    <tr>\n",
              "      <th>3</th>\n",
              "      <td>3</td>\n",
              "      <td>Heikkinen, Miss. Laina</td>\n",
              "      <td>female</td>\n",
              "      <td>26.0</td>\n",
              "      <td>0</td>\n",
              "      <td>0</td>\n",
              "      <td>STON/O2. 3101282</td>\n",
              "      <td>7.925</td>\n",
              "      <td>NaN</td>\n",
              "      <td>S</td>\n",
              "    </tr>\n",
              "    <tr>\n",
              "      <th>4</th>\n",
              "      <td>1</td>\n",
              "      <td>Futrelle, Mrs. Jacques Heath (Lily May Peel)</td>\n",
              "      <td>female</td>\n",
              "      <td>35.0</td>\n",
              "      <td>1</td>\n",
              "      <td>0</td>\n",
              "      <td>113803</td>\n",
              "      <td>53.100</td>\n",
              "      <td>C123</td>\n",
              "      <td>S</td>\n",
              "    </tr>\n",
              "    <tr>\n",
              "      <th>5</th>\n",
              "      <td>3</td>\n",
              "      <td>Allen, Mr. William Henry</td>\n",
              "      <td>male</td>\n",
              "      <td>35.0</td>\n",
              "      <td>0</td>\n",
              "      <td>0</td>\n",
              "      <td>373450</td>\n",
              "      <td>8.050</td>\n",
              "      <td>NaN</td>\n",
              "      <td>S</td>\n",
              "    </tr>\n",
              "  </tbody>\n",
              "</table>\n",
              "</div>"
            ],
            "text/plain": [
              "             Pclass  ... Embarked\n",
              "PassengerId          ...         \n",
              "1                 3  ...        S\n",
              "2                 1  ...        C\n",
              "3                 3  ...        S\n",
              "4                 1  ...        S\n",
              "5                 3  ...        S\n",
              "\n",
              "[5 rows x 10 columns]"
            ]
          },
          "metadata": {
            "tags": []
          }
        }
      ]
    },
    {
      "cell_type": "code",
      "metadata": {
        "id": "-DeXfFILSgly",
        "colab_type": "code",
        "outputId": "a7782816-dd70-407e-d933-321b6e840202",
        "colab": {
          "base_uri": "https://localhost:8080/",
          "height": 541
        }
      },
      "source": [
        "# Se muestran las características del DataFrame de test\n",
        "display(X_test.info())\n",
        "display(X_test.head())"
      ],
      "execution_count": 34,
      "outputs": [
        {
          "output_type": "stream",
          "text": [
            "<class 'pandas.core.frame.DataFrame'>\n",
            "Int64Index: 418 entries, 892 to 1309\n",
            "Data columns (total 10 columns):\n",
            " #   Column    Non-Null Count  Dtype  \n",
            "---  ------    --------------  -----  \n",
            " 0   Pclass    418 non-null    int64  \n",
            " 1   Name      418 non-null    object \n",
            " 2   Sex       418 non-null    object \n",
            " 3   Age       246 non-null    float64\n",
            " 4   SibSp     418 non-null    int64  \n",
            " 5   Parch     418 non-null    int64  \n",
            " 6   Ticket    418 non-null    object \n",
            " 7   Fare      299 non-null    float64\n",
            " 8   Cabin     91 non-null     object \n",
            " 9   Embarked  418 non-null    object \n",
            "dtypes: float64(2), int64(3), object(5)\n",
            "memory usage: 35.9+ KB\n"
          ],
          "name": "stdout"
        },
        {
          "output_type": "display_data",
          "data": {
            "text/plain": [
              "None"
            ]
          },
          "metadata": {
            "tags": []
          }
        },
        {
          "output_type": "display_data",
          "data": {
            "text/html": [
              "<div>\n",
              "<style scoped>\n",
              "    .dataframe tbody tr th:only-of-type {\n",
              "        vertical-align: middle;\n",
              "    }\n",
              "\n",
              "    .dataframe tbody tr th {\n",
              "        vertical-align: top;\n",
              "    }\n",
              "\n",
              "    .dataframe thead th {\n",
              "        text-align: right;\n",
              "    }\n",
              "</style>\n",
              "<table border=\"1\" class=\"dataframe\">\n",
              "  <thead>\n",
              "    <tr style=\"text-align: right;\">\n",
              "      <th></th>\n",
              "      <th>Pclass</th>\n",
              "      <th>Name</th>\n",
              "      <th>Sex</th>\n",
              "      <th>Age</th>\n",
              "      <th>SibSp</th>\n",
              "      <th>Parch</th>\n",
              "      <th>Ticket</th>\n",
              "      <th>Fare</th>\n",
              "      <th>Cabin</th>\n",
              "      <th>Embarked</th>\n",
              "    </tr>\n",
              "    <tr>\n",
              "      <th>PassengerId</th>\n",
              "      <th></th>\n",
              "      <th></th>\n",
              "      <th></th>\n",
              "      <th></th>\n",
              "      <th></th>\n",
              "      <th></th>\n",
              "      <th></th>\n",
              "      <th></th>\n",
              "      <th></th>\n",
              "      <th></th>\n",
              "    </tr>\n",
              "  </thead>\n",
              "  <tbody>\n",
              "    <tr>\n",
              "      <th>892</th>\n",
              "      <td>3</td>\n",
              "      <td>Kelly, Mr. James</td>\n",
              "      <td>male</td>\n",
              "      <td>34.5</td>\n",
              "      <td>0</td>\n",
              "      <td>0</td>\n",
              "      <td>330911</td>\n",
              "      <td>7.8292</td>\n",
              "      <td>NaN</td>\n",
              "      <td>Q</td>\n",
              "    </tr>\n",
              "    <tr>\n",
              "      <th>893</th>\n",
              "      <td>3</td>\n",
              "      <td>Wilkes, Mrs. James (Ellen Needs)</td>\n",
              "      <td>female</td>\n",
              "      <td>NaN</td>\n",
              "      <td>1</td>\n",
              "      <td>0</td>\n",
              "      <td>363272</td>\n",
              "      <td>NaN</td>\n",
              "      <td>NaN</td>\n",
              "      <td>S</td>\n",
              "    </tr>\n",
              "    <tr>\n",
              "      <th>894</th>\n",
              "      <td>2</td>\n",
              "      <td>Myles, Mr. Thomas Francis</td>\n",
              "      <td>male</td>\n",
              "      <td>NaN</td>\n",
              "      <td>0</td>\n",
              "      <td>0</td>\n",
              "      <td>240276</td>\n",
              "      <td>9.6875</td>\n",
              "      <td>NaN</td>\n",
              "      <td>Q</td>\n",
              "    </tr>\n",
              "    <tr>\n",
              "      <th>895</th>\n",
              "      <td>3</td>\n",
              "      <td>Wirz, Mr. Albert</td>\n",
              "      <td>male</td>\n",
              "      <td>27.0</td>\n",
              "      <td>0</td>\n",
              "      <td>0</td>\n",
              "      <td>315154</td>\n",
              "      <td>8.6625</td>\n",
              "      <td>NaN</td>\n",
              "      <td>S</td>\n",
              "    </tr>\n",
              "    <tr>\n",
              "      <th>896</th>\n",
              "      <td>3</td>\n",
              "      <td>Hirvonen, Mrs. Alexander (Helga E Lindqvist)</td>\n",
              "      <td>female</td>\n",
              "      <td>22.0</td>\n",
              "      <td>1</td>\n",
              "      <td>1</td>\n",
              "      <td>3101298</td>\n",
              "      <td>12.2875</td>\n",
              "      <td>NaN</td>\n",
              "      <td>S</td>\n",
              "    </tr>\n",
              "  </tbody>\n",
              "</table>\n",
              "</div>"
            ],
            "text/plain": [
              "             Pclass  ... Embarked\n",
              "PassengerId          ...         \n",
              "892               3  ...        Q\n",
              "893               3  ...        S\n",
              "894               2  ...        Q\n",
              "895               3  ...        S\n",
              "896               3  ...        S\n",
              "\n",
              "[5 rows x 10 columns]"
            ]
          },
          "metadata": {
            "tags": []
          }
        }
      ]
    },
    {
      "cell_type": "markdown",
      "metadata": {
        "id": "GZvYibYSw5WP",
        "colab_type": "text"
      },
      "source": [
        "## Extraer nuevas carcaterísticas"
      ]
    },
    {
      "cell_type": "code",
      "metadata": {
        "id": "sNnx4_uh_fi_",
        "colab_type": "code",
        "colab": {}
      },
      "source": [
        "# Se define una función para convertir una variable a categórica\n",
        "def factorize_feature(X, feature):\n",
        "  # Se convierte la característica en un variable categórica\n",
        "  # identificada con un número entero\n",
        "  X[feature], _list = pd.factorize(X[feature])\n",
        "\n",
        "  # No interesa imputar los posibles valores perdidos con el valor -1,\n",
        "  # por lo que se subtituye el valor -1 por NaN\n",
        "  X_train[feature] = X[feature].replace(-1, np.nan)\n",
        "\n",
        "  # Se define un diccionario con el identificador de la categoria y su valor\n",
        "  _dict = {k:int(v) for v, k in enumerate(_list)}\n",
        "  print(_dict)\n",
        "\n",
        "  # Se devuelve el diccionario\n",
        "  return X, _dict"
      ],
      "execution_count": 0,
      "outputs": []
    },
    {
      "cell_type": "code",
      "metadata": {
        "id": "PaWiLL6ew-x-",
        "colab_type": "code",
        "outputId": "1792a6b7-4278-4c93-f089-077c649376ab",
        "colab": {
          "base_uri": "https://localhost:8080/",
          "height": 34
        }
      },
      "source": [
        "# Para el DataFrame de entrenamiento\n",
        "# Se genera una nueva característica 'Title' a partir de la extracción \n",
        "# de parte de los caractéres de la característica 'Name'\n",
        "X_train['Title'] = X_train['Name'].str.extract('([A-Za-z]+)\\.')\n",
        "\n",
        "# Se convierte la características 'Title'\n",
        "# en variables categóricas identificada con un número entero\n",
        "X_train, title = factorize_feature(X_train, 'Title')"
      ],
      "execution_count": 36,
      "outputs": [
        {
          "output_type": "stream",
          "text": [
            "{'Mr': 0, 'Mrs': 1, 'Miss': 2, 'Master': 3, 'Don': 4, 'Rev': 5, 'Dr': 6, 'Mme': 7, 'Ms': 8, 'Major': 9, 'Lady': 10, 'Sir': 11, 'Mlle': 12, 'Col': 13, 'Capt': 14, 'Countess': 15, 'Jonkheer': 16}\n"
          ],
          "name": "stdout"
        }
      ]
    },
    {
      "cell_type": "code",
      "metadata": {
        "id": "dI66Zbpwxg13",
        "colab_type": "code",
        "outputId": "f73ae107-dafd-46a5-a07c-e794666731b8",
        "colab": {
          "base_uri": "https://localhost:8080/",
          "height": 558
        }
      },
      "source": [
        "# Se muestran las características del DataFrame de entrenamiento\n",
        "display(X_train.info())\n",
        "display(X_train.head())"
      ],
      "execution_count": 37,
      "outputs": [
        {
          "output_type": "stream",
          "text": [
            "<class 'pandas.core.frame.DataFrame'>\n",
            "Int64Index: 891 entries, 1 to 891\n",
            "Data columns (total 11 columns):\n",
            " #   Column    Non-Null Count  Dtype  \n",
            "---  ------    --------------  -----  \n",
            " 0   Pclass    891 non-null    int64  \n",
            " 1   Name      891 non-null    object \n",
            " 2   Sex       891 non-null    object \n",
            " 3   Age       511 non-null    float64\n",
            " 4   SibSp     891 non-null    int64  \n",
            " 5   Parch     891 non-null    int64  \n",
            " 6   Ticket    891 non-null    object \n",
            " 7   Fare      656 non-null    float64\n",
            " 8   Cabin     204 non-null    object \n",
            " 9   Embarked  889 non-null    object \n",
            " 10  Title     891 non-null    int64  \n",
            "dtypes: float64(2), int64(4), object(5)\n",
            "memory usage: 83.5+ KB\n"
          ],
          "name": "stdout"
        },
        {
          "output_type": "display_data",
          "data": {
            "text/plain": [
              "None"
            ]
          },
          "metadata": {
            "tags": []
          }
        },
        {
          "output_type": "display_data",
          "data": {
            "text/html": [
              "<div>\n",
              "<style scoped>\n",
              "    .dataframe tbody tr th:only-of-type {\n",
              "        vertical-align: middle;\n",
              "    }\n",
              "\n",
              "    .dataframe tbody tr th {\n",
              "        vertical-align: top;\n",
              "    }\n",
              "\n",
              "    .dataframe thead th {\n",
              "        text-align: right;\n",
              "    }\n",
              "</style>\n",
              "<table border=\"1\" class=\"dataframe\">\n",
              "  <thead>\n",
              "    <tr style=\"text-align: right;\">\n",
              "      <th></th>\n",
              "      <th>Pclass</th>\n",
              "      <th>Name</th>\n",
              "      <th>Sex</th>\n",
              "      <th>Age</th>\n",
              "      <th>SibSp</th>\n",
              "      <th>Parch</th>\n",
              "      <th>Ticket</th>\n",
              "      <th>Fare</th>\n",
              "      <th>Cabin</th>\n",
              "      <th>Embarked</th>\n",
              "      <th>Title</th>\n",
              "    </tr>\n",
              "    <tr>\n",
              "      <th>PassengerId</th>\n",
              "      <th></th>\n",
              "      <th></th>\n",
              "      <th></th>\n",
              "      <th></th>\n",
              "      <th></th>\n",
              "      <th></th>\n",
              "      <th></th>\n",
              "      <th></th>\n",
              "      <th></th>\n",
              "      <th></th>\n",
              "      <th></th>\n",
              "    </tr>\n",
              "  </thead>\n",
              "  <tbody>\n",
              "    <tr>\n",
              "      <th>1</th>\n",
              "      <td>3</td>\n",
              "      <td>Braund, Mr. Owen Harris</td>\n",
              "      <td>male</td>\n",
              "      <td>22.0</td>\n",
              "      <td>1</td>\n",
              "      <td>0</td>\n",
              "      <td>A/5 21171</td>\n",
              "      <td>NaN</td>\n",
              "      <td>NaN</td>\n",
              "      <td>S</td>\n",
              "      <td>0</td>\n",
              "    </tr>\n",
              "    <tr>\n",
              "      <th>2</th>\n",
              "      <td>1</td>\n",
              "      <td>Cumings, Mrs. John Bradley (Florence Briggs Th...</td>\n",
              "      <td>female</td>\n",
              "      <td>38.0</td>\n",
              "      <td>1</td>\n",
              "      <td>0</td>\n",
              "      <td>PC 17599</td>\n",
              "      <td>NaN</td>\n",
              "      <td>C85</td>\n",
              "      <td>C</td>\n",
              "      <td>1</td>\n",
              "    </tr>\n",
              "    <tr>\n",
              "      <th>3</th>\n",
              "      <td>3</td>\n",
              "      <td>Heikkinen, Miss. Laina</td>\n",
              "      <td>female</td>\n",
              "      <td>26.0</td>\n",
              "      <td>0</td>\n",
              "      <td>0</td>\n",
              "      <td>STON/O2. 3101282</td>\n",
              "      <td>7.925</td>\n",
              "      <td>NaN</td>\n",
              "      <td>S</td>\n",
              "      <td>2</td>\n",
              "    </tr>\n",
              "    <tr>\n",
              "      <th>4</th>\n",
              "      <td>1</td>\n",
              "      <td>Futrelle, Mrs. Jacques Heath (Lily May Peel)</td>\n",
              "      <td>female</td>\n",
              "      <td>35.0</td>\n",
              "      <td>1</td>\n",
              "      <td>0</td>\n",
              "      <td>113803</td>\n",
              "      <td>53.100</td>\n",
              "      <td>C123</td>\n",
              "      <td>S</td>\n",
              "      <td>1</td>\n",
              "    </tr>\n",
              "    <tr>\n",
              "      <th>5</th>\n",
              "      <td>3</td>\n",
              "      <td>Allen, Mr. William Henry</td>\n",
              "      <td>male</td>\n",
              "      <td>35.0</td>\n",
              "      <td>0</td>\n",
              "      <td>0</td>\n",
              "      <td>373450</td>\n",
              "      <td>8.050</td>\n",
              "      <td>NaN</td>\n",
              "      <td>S</td>\n",
              "      <td>0</td>\n",
              "    </tr>\n",
              "  </tbody>\n",
              "</table>\n",
              "</div>"
            ],
            "text/plain": [
              "             Pclass  ... Title\n",
              "PassengerId          ...      \n",
              "1                 3  ...     0\n",
              "2                 1  ...     1\n",
              "3                 3  ...     2\n",
              "4                 1  ...     1\n",
              "5                 3  ...     0\n",
              "\n",
              "[5 rows x 11 columns]"
            ]
          },
          "metadata": {
            "tags": []
          }
        }
      ]
    },
    {
      "cell_type": "code",
      "metadata": {
        "id": "vkVLvq_i0MX2",
        "colab_type": "code",
        "colab": {}
      },
      "source": [
        "# Para el DataFrame de test\n",
        "# Se genera una nueva característica 'Title' a partir de la extracción \n",
        "X_test['Title'] = X_test['Name'].str.extract('([A-Za-z]+)\\.')\n",
        "\n",
        "# Se convierte la característica 'Title' en un variable categórica\n",
        "# utilizando las categorías de la variable 'Title' del DataFrame de entrenamiento,\n",
        "# a partir del diccionario generado\n",
        "X_test['Title'] = X_test['Title'].map(title)"
      ],
      "execution_count": 0,
      "outputs": []
    },
    {
      "cell_type": "code",
      "metadata": {
        "id": "M7cMkyyi0fqw",
        "colab_type": "code",
        "outputId": "27997067-18c4-40c7-80ef-953caa21840d",
        "colab": {
          "base_uri": "https://localhost:8080/",
          "height": 558
        }
      },
      "source": [
        "# Se muestran las características del DataFrame de test\n",
        "display(X_test.info())\n",
        "display(X_test.head())"
      ],
      "execution_count": 39,
      "outputs": [
        {
          "output_type": "stream",
          "text": [
            "<class 'pandas.core.frame.DataFrame'>\n",
            "Int64Index: 418 entries, 892 to 1309\n",
            "Data columns (total 11 columns):\n",
            " #   Column    Non-Null Count  Dtype  \n",
            "---  ------    --------------  -----  \n",
            " 0   Pclass    418 non-null    int64  \n",
            " 1   Name      418 non-null    object \n",
            " 2   Sex       418 non-null    object \n",
            " 3   Age       246 non-null    float64\n",
            " 4   SibSp     418 non-null    int64  \n",
            " 5   Parch     418 non-null    int64  \n",
            " 6   Ticket    418 non-null    object \n",
            " 7   Fare      299 non-null    float64\n",
            " 8   Cabin     91 non-null     object \n",
            " 9   Embarked  418 non-null    object \n",
            " 10  Title     417 non-null    float64\n",
            "dtypes: float64(3), int64(3), object(5)\n",
            "memory usage: 39.2+ KB\n"
          ],
          "name": "stdout"
        },
        {
          "output_type": "display_data",
          "data": {
            "text/plain": [
              "None"
            ]
          },
          "metadata": {
            "tags": []
          }
        },
        {
          "output_type": "display_data",
          "data": {
            "text/html": [
              "<div>\n",
              "<style scoped>\n",
              "    .dataframe tbody tr th:only-of-type {\n",
              "        vertical-align: middle;\n",
              "    }\n",
              "\n",
              "    .dataframe tbody tr th {\n",
              "        vertical-align: top;\n",
              "    }\n",
              "\n",
              "    .dataframe thead th {\n",
              "        text-align: right;\n",
              "    }\n",
              "</style>\n",
              "<table border=\"1\" class=\"dataframe\">\n",
              "  <thead>\n",
              "    <tr style=\"text-align: right;\">\n",
              "      <th></th>\n",
              "      <th>Pclass</th>\n",
              "      <th>Name</th>\n",
              "      <th>Sex</th>\n",
              "      <th>Age</th>\n",
              "      <th>SibSp</th>\n",
              "      <th>Parch</th>\n",
              "      <th>Ticket</th>\n",
              "      <th>Fare</th>\n",
              "      <th>Cabin</th>\n",
              "      <th>Embarked</th>\n",
              "      <th>Title</th>\n",
              "    </tr>\n",
              "    <tr>\n",
              "      <th>PassengerId</th>\n",
              "      <th></th>\n",
              "      <th></th>\n",
              "      <th></th>\n",
              "      <th></th>\n",
              "      <th></th>\n",
              "      <th></th>\n",
              "      <th></th>\n",
              "      <th></th>\n",
              "      <th></th>\n",
              "      <th></th>\n",
              "      <th></th>\n",
              "    </tr>\n",
              "  </thead>\n",
              "  <tbody>\n",
              "    <tr>\n",
              "      <th>892</th>\n",
              "      <td>3</td>\n",
              "      <td>Kelly, Mr. James</td>\n",
              "      <td>male</td>\n",
              "      <td>34.5</td>\n",
              "      <td>0</td>\n",
              "      <td>0</td>\n",
              "      <td>330911</td>\n",
              "      <td>7.8292</td>\n",
              "      <td>NaN</td>\n",
              "      <td>Q</td>\n",
              "      <td>0.0</td>\n",
              "    </tr>\n",
              "    <tr>\n",
              "      <th>893</th>\n",
              "      <td>3</td>\n",
              "      <td>Wilkes, Mrs. James (Ellen Needs)</td>\n",
              "      <td>female</td>\n",
              "      <td>NaN</td>\n",
              "      <td>1</td>\n",
              "      <td>0</td>\n",
              "      <td>363272</td>\n",
              "      <td>NaN</td>\n",
              "      <td>NaN</td>\n",
              "      <td>S</td>\n",
              "      <td>1.0</td>\n",
              "    </tr>\n",
              "    <tr>\n",
              "      <th>894</th>\n",
              "      <td>2</td>\n",
              "      <td>Myles, Mr. Thomas Francis</td>\n",
              "      <td>male</td>\n",
              "      <td>NaN</td>\n",
              "      <td>0</td>\n",
              "      <td>0</td>\n",
              "      <td>240276</td>\n",
              "      <td>9.6875</td>\n",
              "      <td>NaN</td>\n",
              "      <td>Q</td>\n",
              "      <td>0.0</td>\n",
              "    </tr>\n",
              "    <tr>\n",
              "      <th>895</th>\n",
              "      <td>3</td>\n",
              "      <td>Wirz, Mr. Albert</td>\n",
              "      <td>male</td>\n",
              "      <td>27.0</td>\n",
              "      <td>0</td>\n",
              "      <td>0</td>\n",
              "      <td>315154</td>\n",
              "      <td>8.6625</td>\n",
              "      <td>NaN</td>\n",
              "      <td>S</td>\n",
              "      <td>0.0</td>\n",
              "    </tr>\n",
              "    <tr>\n",
              "      <th>896</th>\n",
              "      <td>3</td>\n",
              "      <td>Hirvonen, Mrs. Alexander (Helga E Lindqvist)</td>\n",
              "      <td>female</td>\n",
              "      <td>22.0</td>\n",
              "      <td>1</td>\n",
              "      <td>1</td>\n",
              "      <td>3101298</td>\n",
              "      <td>12.2875</td>\n",
              "      <td>NaN</td>\n",
              "      <td>S</td>\n",
              "      <td>1.0</td>\n",
              "    </tr>\n",
              "  </tbody>\n",
              "</table>\n",
              "</div>"
            ],
            "text/plain": [
              "             Pclass  ... Title\n",
              "PassengerId          ...      \n",
              "892               3  ...   0.0\n",
              "893               3  ...   1.0\n",
              "894               2  ...   0.0\n",
              "895               3  ...   0.0\n",
              "896               3  ...   1.0\n",
              "\n",
              "[5 rows x 11 columns]"
            ]
          },
          "metadata": {
            "tags": []
          }
        }
      ]
    },
    {
      "cell_type": "markdown",
      "metadata": {
        "id": "vhUuoDkV6YA2",
        "colab_type": "text"
      },
      "source": [
        "## Eliminar características"
      ]
    },
    {
      "cell_type": "code",
      "metadata": {
        "id": "B_xa0V4-wwxB",
        "colab_type": "code",
        "outputId": "6e8b3f73-74e4-437b-feea-a591d1bdf172",
        "colab": {
          "base_uri": "https://localhost:8080/",
          "height": 289
        }
      },
      "source": [
        "# Se eliminan del DataFrame de entrenamiento las características que no son necesarias\n",
        "X_train = X_train.drop(columns=['Name', 'Ticket', 'Cabin'])\n",
        "\n",
        "# Se muestran las características del DataFrame de entrenamiento\n",
        "display(X_train.info())"
      ],
      "execution_count": 40,
      "outputs": [
        {
          "output_type": "stream",
          "text": [
            "<class 'pandas.core.frame.DataFrame'>\n",
            "Int64Index: 891 entries, 1 to 891\n",
            "Data columns (total 8 columns):\n",
            " #   Column    Non-Null Count  Dtype  \n",
            "---  ------    --------------  -----  \n",
            " 0   Pclass    891 non-null    int64  \n",
            " 1   Sex       891 non-null    object \n",
            " 2   Age       511 non-null    float64\n",
            " 3   SibSp     891 non-null    int64  \n",
            " 4   Parch     891 non-null    int64  \n",
            " 5   Fare      656 non-null    float64\n",
            " 6   Embarked  889 non-null    object \n",
            " 7   Title     891 non-null    int64  \n",
            "dtypes: float64(2), int64(4), object(2)\n",
            "memory usage: 62.6+ KB\n"
          ],
          "name": "stdout"
        },
        {
          "output_type": "display_data",
          "data": {
            "text/plain": [
              "None"
            ]
          },
          "metadata": {
            "tags": []
          }
        }
      ]
    },
    {
      "cell_type": "code",
      "metadata": {
        "id": "jVP3qnTC3SZT",
        "colab_type": "code",
        "outputId": "c9b9ddbf-45b3-4d61-add1-649f9efaf554",
        "colab": {
          "base_uri": "https://localhost:8080/",
          "height": 289
        }
      },
      "source": [
        "# Se eliminan del DataFrame de test las características que no son necesarias\n",
        "X_test = X_test.drop(columns=['Name', 'Ticket', 'Cabin'])\n",
        "\n",
        "# Se muestran las características del DataFrame de test\n",
        "display(X_test.info())"
      ],
      "execution_count": 41,
      "outputs": [
        {
          "output_type": "stream",
          "text": [
            "<class 'pandas.core.frame.DataFrame'>\n",
            "Int64Index: 418 entries, 892 to 1309\n",
            "Data columns (total 8 columns):\n",
            " #   Column    Non-Null Count  Dtype  \n",
            "---  ------    --------------  -----  \n",
            " 0   Pclass    418 non-null    int64  \n",
            " 1   Sex       418 non-null    object \n",
            " 2   Age       246 non-null    float64\n",
            " 3   SibSp     418 non-null    int64  \n",
            " 4   Parch     418 non-null    int64  \n",
            " 5   Fare      299 non-null    float64\n",
            " 6   Embarked  418 non-null    object \n",
            " 7   Title     417 non-null    float64\n",
            "dtypes: float64(3), int64(3), object(2)\n",
            "memory usage: 29.4+ KB\n"
          ],
          "name": "stdout"
        },
        {
          "output_type": "display_data",
          "data": {
            "text/plain": [
              "None"
            ]
          },
          "metadata": {
            "tags": []
          }
        }
      ]
    },
    {
      "cell_type": "markdown",
      "metadata": {
        "id": "8fOTZ6Wr5iju",
        "colab_type": "text"
      },
      "source": [
        "## Factorizar características"
      ]
    },
    {
      "cell_type": "code",
      "metadata": {
        "id": "qbRWK0jKwtao",
        "colab_type": "code",
        "outputId": "cbb12eff-83b1-4630-91fa-0453fb6c38e1",
        "colab": {
          "base_uri": "https://localhost:8080/",
          "height": 51
        }
      },
      "source": [
        "# Para el DataFrame de entrenamiento\n",
        "# Se convierten las características 'Sex' y 'Embarked' \n",
        "# en variables categóricas\n",
        "X_train, sex = factorize_feature(X_train, 'Sex')\n",
        "X_train, embarked = factorize_feature(X_train, 'Embarked')"
      ],
      "execution_count": 42,
      "outputs": [
        {
          "output_type": "stream",
          "text": [
            "{'male': 0, 'female': 1}\n",
            "{'S': 0, 'C': 1, 'Q': 2}\n"
          ],
          "name": "stdout"
        }
      ]
    },
    {
      "cell_type": "code",
      "metadata": {
        "id": "ZOD6MvbH4w7c",
        "colab_type": "code",
        "outputId": "79ce08fc-7c49-4b31-ed8c-2eeafcde4b67",
        "colab": {
          "base_uri": "https://localhost:8080/",
          "height": 507
        }
      },
      "source": [
        "# Se muestran las características del DataFrame de entrenamiento\n",
        "display(X_train.info())\n",
        "display(X_train.head())"
      ],
      "execution_count": 43,
      "outputs": [
        {
          "output_type": "stream",
          "text": [
            "<class 'pandas.core.frame.DataFrame'>\n",
            "Int64Index: 891 entries, 1 to 891\n",
            "Data columns (total 8 columns):\n",
            " #   Column    Non-Null Count  Dtype  \n",
            "---  ------    --------------  -----  \n",
            " 0   Pclass    891 non-null    int64  \n",
            " 1   Sex       891 non-null    int64  \n",
            " 2   Age       511 non-null    float64\n",
            " 3   SibSp     891 non-null    int64  \n",
            " 4   Parch     891 non-null    int64  \n",
            " 5   Fare      656 non-null    float64\n",
            " 6   Embarked  889 non-null    float64\n",
            " 7   Title     891 non-null    int64  \n",
            "dtypes: float64(3), int64(5)\n",
            "memory usage: 62.6 KB\n"
          ],
          "name": "stdout"
        },
        {
          "output_type": "display_data",
          "data": {
            "text/plain": [
              "None"
            ]
          },
          "metadata": {
            "tags": []
          }
        },
        {
          "output_type": "display_data",
          "data": {
            "text/html": [
              "<div>\n",
              "<style scoped>\n",
              "    .dataframe tbody tr th:only-of-type {\n",
              "        vertical-align: middle;\n",
              "    }\n",
              "\n",
              "    .dataframe tbody tr th {\n",
              "        vertical-align: top;\n",
              "    }\n",
              "\n",
              "    .dataframe thead th {\n",
              "        text-align: right;\n",
              "    }\n",
              "</style>\n",
              "<table border=\"1\" class=\"dataframe\">\n",
              "  <thead>\n",
              "    <tr style=\"text-align: right;\">\n",
              "      <th></th>\n",
              "      <th>Pclass</th>\n",
              "      <th>Sex</th>\n",
              "      <th>Age</th>\n",
              "      <th>SibSp</th>\n",
              "      <th>Parch</th>\n",
              "      <th>Fare</th>\n",
              "      <th>Embarked</th>\n",
              "      <th>Title</th>\n",
              "    </tr>\n",
              "    <tr>\n",
              "      <th>PassengerId</th>\n",
              "      <th></th>\n",
              "      <th></th>\n",
              "      <th></th>\n",
              "      <th></th>\n",
              "      <th></th>\n",
              "      <th></th>\n",
              "      <th></th>\n",
              "      <th></th>\n",
              "    </tr>\n",
              "  </thead>\n",
              "  <tbody>\n",
              "    <tr>\n",
              "      <th>1</th>\n",
              "      <td>3</td>\n",
              "      <td>0</td>\n",
              "      <td>22.0</td>\n",
              "      <td>1</td>\n",
              "      <td>0</td>\n",
              "      <td>NaN</td>\n",
              "      <td>0.0</td>\n",
              "      <td>0</td>\n",
              "    </tr>\n",
              "    <tr>\n",
              "      <th>2</th>\n",
              "      <td>1</td>\n",
              "      <td>1</td>\n",
              "      <td>38.0</td>\n",
              "      <td>1</td>\n",
              "      <td>0</td>\n",
              "      <td>NaN</td>\n",
              "      <td>1.0</td>\n",
              "      <td>1</td>\n",
              "    </tr>\n",
              "    <tr>\n",
              "      <th>3</th>\n",
              "      <td>3</td>\n",
              "      <td>1</td>\n",
              "      <td>26.0</td>\n",
              "      <td>0</td>\n",
              "      <td>0</td>\n",
              "      <td>7.925</td>\n",
              "      <td>0.0</td>\n",
              "      <td>2</td>\n",
              "    </tr>\n",
              "    <tr>\n",
              "      <th>4</th>\n",
              "      <td>1</td>\n",
              "      <td>1</td>\n",
              "      <td>35.0</td>\n",
              "      <td>1</td>\n",
              "      <td>0</td>\n",
              "      <td>53.100</td>\n",
              "      <td>0.0</td>\n",
              "      <td>1</td>\n",
              "    </tr>\n",
              "    <tr>\n",
              "      <th>5</th>\n",
              "      <td>3</td>\n",
              "      <td>0</td>\n",
              "      <td>35.0</td>\n",
              "      <td>0</td>\n",
              "      <td>0</td>\n",
              "      <td>8.050</td>\n",
              "      <td>0.0</td>\n",
              "      <td>0</td>\n",
              "    </tr>\n",
              "  </tbody>\n",
              "</table>\n",
              "</div>"
            ],
            "text/plain": [
              "             Pclass  Sex   Age  SibSp  Parch    Fare  Embarked  Title\n",
              "PassengerId                                                          \n",
              "1                 3    0  22.0      1      0     NaN       0.0      0\n",
              "2                 1    1  38.0      1      0     NaN       1.0      1\n",
              "3                 3    1  26.0      0      0   7.925       0.0      2\n",
              "4                 1    1  35.0      1      0  53.100       0.0      1\n",
              "5                 3    0  35.0      0      0   8.050       0.0      0"
            ]
          },
          "metadata": {
            "tags": []
          }
        }
      ]
    },
    {
      "cell_type": "code",
      "metadata": {
        "id": "qmYxETIr4a0g",
        "colab_type": "code",
        "colab": {}
      },
      "source": [
        "# Para el DataFrame de test\n",
        "# Se convierten las características 'Sex' y 'Embarked' en un variables categóricas\n",
        "# utilizando las categorías de las variables 'Sex' y 'Embarked' del DataFrame \n",
        "# de entrenamiento, a partir del diccionario generado\n",
        "X_test['Sex'] = X_test['Sex'].map(sex)\n",
        "X_test['Embarked'] = X_test['Embarked'].map(embarked)"
      ],
      "execution_count": 0,
      "outputs": []
    },
    {
      "cell_type": "code",
      "metadata": {
        "id": "8xhShqRef-Y3",
        "colab_type": "code",
        "outputId": "dddedf9c-0acd-4875-bee7-d9fe780da2a9",
        "colab": {
          "base_uri": "https://localhost:8080/",
          "height": 507
        }
      },
      "source": [
        "# Se muestran las características del DataFrame de test\n",
        "display(X_test.info())\n",
        "display(X_test.head())"
      ],
      "execution_count": 45,
      "outputs": [
        {
          "output_type": "stream",
          "text": [
            "<class 'pandas.core.frame.DataFrame'>\n",
            "Int64Index: 418 entries, 892 to 1309\n",
            "Data columns (total 8 columns):\n",
            " #   Column    Non-Null Count  Dtype  \n",
            "---  ------    --------------  -----  \n",
            " 0   Pclass    418 non-null    int64  \n",
            " 1   Sex       418 non-null    int64  \n",
            " 2   Age       246 non-null    float64\n",
            " 3   SibSp     418 non-null    int64  \n",
            " 4   Parch     418 non-null    int64  \n",
            " 5   Fare      299 non-null    float64\n",
            " 6   Embarked  418 non-null    int64  \n",
            " 7   Title     417 non-null    float64\n",
            "dtypes: float64(3), int64(5)\n",
            "memory usage: 29.4 KB\n"
          ],
          "name": "stdout"
        },
        {
          "output_type": "display_data",
          "data": {
            "text/plain": [
              "None"
            ]
          },
          "metadata": {
            "tags": []
          }
        },
        {
          "output_type": "display_data",
          "data": {
            "text/html": [
              "<div>\n",
              "<style scoped>\n",
              "    .dataframe tbody tr th:only-of-type {\n",
              "        vertical-align: middle;\n",
              "    }\n",
              "\n",
              "    .dataframe tbody tr th {\n",
              "        vertical-align: top;\n",
              "    }\n",
              "\n",
              "    .dataframe thead th {\n",
              "        text-align: right;\n",
              "    }\n",
              "</style>\n",
              "<table border=\"1\" class=\"dataframe\">\n",
              "  <thead>\n",
              "    <tr style=\"text-align: right;\">\n",
              "      <th></th>\n",
              "      <th>Pclass</th>\n",
              "      <th>Sex</th>\n",
              "      <th>Age</th>\n",
              "      <th>SibSp</th>\n",
              "      <th>Parch</th>\n",
              "      <th>Fare</th>\n",
              "      <th>Embarked</th>\n",
              "      <th>Title</th>\n",
              "    </tr>\n",
              "    <tr>\n",
              "      <th>PassengerId</th>\n",
              "      <th></th>\n",
              "      <th></th>\n",
              "      <th></th>\n",
              "      <th></th>\n",
              "      <th></th>\n",
              "      <th></th>\n",
              "      <th></th>\n",
              "      <th></th>\n",
              "    </tr>\n",
              "  </thead>\n",
              "  <tbody>\n",
              "    <tr>\n",
              "      <th>892</th>\n",
              "      <td>3</td>\n",
              "      <td>0</td>\n",
              "      <td>34.5</td>\n",
              "      <td>0</td>\n",
              "      <td>0</td>\n",
              "      <td>7.8292</td>\n",
              "      <td>2</td>\n",
              "      <td>0.0</td>\n",
              "    </tr>\n",
              "    <tr>\n",
              "      <th>893</th>\n",
              "      <td>3</td>\n",
              "      <td>1</td>\n",
              "      <td>NaN</td>\n",
              "      <td>1</td>\n",
              "      <td>0</td>\n",
              "      <td>NaN</td>\n",
              "      <td>0</td>\n",
              "      <td>1.0</td>\n",
              "    </tr>\n",
              "    <tr>\n",
              "      <th>894</th>\n",
              "      <td>2</td>\n",
              "      <td>0</td>\n",
              "      <td>NaN</td>\n",
              "      <td>0</td>\n",
              "      <td>0</td>\n",
              "      <td>9.6875</td>\n",
              "      <td>2</td>\n",
              "      <td>0.0</td>\n",
              "    </tr>\n",
              "    <tr>\n",
              "      <th>895</th>\n",
              "      <td>3</td>\n",
              "      <td>0</td>\n",
              "      <td>27.0</td>\n",
              "      <td>0</td>\n",
              "      <td>0</td>\n",
              "      <td>8.6625</td>\n",
              "      <td>0</td>\n",
              "      <td>0.0</td>\n",
              "    </tr>\n",
              "    <tr>\n",
              "      <th>896</th>\n",
              "      <td>3</td>\n",
              "      <td>1</td>\n",
              "      <td>22.0</td>\n",
              "      <td>1</td>\n",
              "      <td>1</td>\n",
              "      <td>12.2875</td>\n",
              "      <td>0</td>\n",
              "      <td>1.0</td>\n",
              "    </tr>\n",
              "  </tbody>\n",
              "</table>\n",
              "</div>"
            ],
            "text/plain": [
              "             Pclass  Sex   Age  SibSp  Parch     Fare  Embarked  Title\n",
              "PassengerId                                                           \n",
              "892               3    0  34.5      0      0   7.8292         2    0.0\n",
              "893               3    1   NaN      1      0      NaN         0    1.0\n",
              "894               2    0   NaN      0      0   9.6875         2    0.0\n",
              "895               3    0  27.0      0      0   8.6625         0    0.0\n",
              "896               3    1  22.0      1      1  12.2875         0    1.0"
            ]
          },
          "metadata": {
            "tags": []
          }
        }
      ]
    },
    {
      "cell_type": "markdown",
      "metadata": {
        "id": "h4Xmg8lVPBDl",
        "colab_type": "text"
      },
      "source": [
        "## Discretizar características"
      ]
    },
    {
      "cell_type": "code",
      "metadata": {
        "id": "0vALM8lrCn5N",
        "colab_type": "code",
        "colab": {}
      },
      "source": [
        "# Se define una función para convertir en categórica\n",
        "# una característica a partir de un diccionario con\n",
        "# el que mapear las categorías\n",
        "def map_discrete_categories(X, feature, _dict):\n",
        "  _list = []\n",
        "  for i, x in enumerate(list(X[feature])):\n",
        "    found = False\n",
        "    for k, v in _dict.items():\n",
        "      try:\n",
        "        if x in k:\n",
        "          _list.append(v)\n",
        "          found = True\n",
        "          break\n",
        "      except:\n",
        "        pass\n",
        "    if not found:\n",
        "      _list.append(np.nan)\n",
        "  X[feature] = _list\n",
        "  return X"
      ],
      "execution_count": 0,
      "outputs": []
    },
    {
      "cell_type": "code",
      "metadata": {
        "id": "-eUVy5LZgCw7",
        "colab_type": "code",
        "outputId": "ac5c59b5-3e4f-4e2f-96e8-5555ae942683",
        "colab": {
          "base_uri": "https://localhost:8080/",
          "height": 54
        }
      },
      "source": [
        "# Si se decide discretizar la variable 'Age'\n",
        "if age_categories > 0:\n",
        "  # Se agrupan las muestras en categorías con el mismo número de muestras\n",
        "  # El número de categorías viene definido por la variable 'age_categories'\n",
        "  X_train['Age'] = pd.qcut(X_train['Age'], age_categories)\n",
        "\n",
        "  # Se convierte la característica 'Age' en una variable categórica\n",
        "  X_train, age = factorize_feature(X_train, 'Age')"
      ],
      "execution_count": 47,
      "outputs": [
        {
          "output_type": "stream",
          "text": [
            "{Interval(21.0, 24.0, closed='right'): 0, Interval(36.0, 40.0, closed='right'): 1, Interval(24.0, 26.0, closed='right'): 2, Interval(33.0, 36.0, closed='right'): 3, Interval(26.0, 28.0, closed='right'): 4, Interval(19.0, 21.0, closed='right'): 5, Interval(30.0, 33.0, closed='right'): 6, Interval(16.999, 19.0, closed='right'): 7, Interval(40.0, 45.0, closed='right'): 8, Interval(28.0, 30.0, closed='right'): 9}\n"
          ],
          "name": "stdout"
        }
      ]
    },
    {
      "cell_type": "code",
      "metadata": {
        "id": "Q0JtXkdM8ByY",
        "colab_type": "code",
        "outputId": "edd61df4-7a49-4778-c4cc-6aecf59e5be8",
        "colab": {
          "base_uri": "https://localhost:8080/",
          "height": 507
        }
      },
      "source": [
        "# Se muestran las características del DataFrame de entrenamiento\n",
        "display(X_train.info())\n",
        "display(X_train.head())"
      ],
      "execution_count": 48,
      "outputs": [
        {
          "output_type": "stream",
          "text": [
            "<class 'pandas.core.frame.DataFrame'>\n",
            "Int64Index: 891 entries, 1 to 891\n",
            "Data columns (total 8 columns):\n",
            " #   Column    Non-Null Count  Dtype  \n",
            "---  ------    --------------  -----  \n",
            " 0   Pclass    891 non-null    int64  \n",
            " 1   Sex       891 non-null    int64  \n",
            " 2   Age       511 non-null    float64\n",
            " 3   SibSp     891 non-null    int64  \n",
            " 4   Parch     891 non-null    int64  \n",
            " 5   Fare      656 non-null    float64\n",
            " 6   Embarked  889 non-null    float64\n",
            " 7   Title     891 non-null    int64  \n",
            "dtypes: float64(3), int64(5)\n",
            "memory usage: 62.6 KB\n"
          ],
          "name": "stdout"
        },
        {
          "output_type": "display_data",
          "data": {
            "text/plain": [
              "None"
            ]
          },
          "metadata": {
            "tags": []
          }
        },
        {
          "output_type": "display_data",
          "data": {
            "text/html": [
              "<div>\n",
              "<style scoped>\n",
              "    .dataframe tbody tr th:only-of-type {\n",
              "        vertical-align: middle;\n",
              "    }\n",
              "\n",
              "    .dataframe tbody tr th {\n",
              "        vertical-align: top;\n",
              "    }\n",
              "\n",
              "    .dataframe thead th {\n",
              "        text-align: right;\n",
              "    }\n",
              "</style>\n",
              "<table border=\"1\" class=\"dataframe\">\n",
              "  <thead>\n",
              "    <tr style=\"text-align: right;\">\n",
              "      <th></th>\n",
              "      <th>Pclass</th>\n",
              "      <th>Sex</th>\n",
              "      <th>Age</th>\n",
              "      <th>SibSp</th>\n",
              "      <th>Parch</th>\n",
              "      <th>Fare</th>\n",
              "      <th>Embarked</th>\n",
              "      <th>Title</th>\n",
              "    </tr>\n",
              "    <tr>\n",
              "      <th>PassengerId</th>\n",
              "      <th></th>\n",
              "      <th></th>\n",
              "      <th></th>\n",
              "      <th></th>\n",
              "      <th></th>\n",
              "      <th></th>\n",
              "      <th></th>\n",
              "      <th></th>\n",
              "    </tr>\n",
              "  </thead>\n",
              "  <tbody>\n",
              "    <tr>\n",
              "      <th>1</th>\n",
              "      <td>3</td>\n",
              "      <td>0</td>\n",
              "      <td>0.0</td>\n",
              "      <td>1</td>\n",
              "      <td>0</td>\n",
              "      <td>NaN</td>\n",
              "      <td>0.0</td>\n",
              "      <td>0</td>\n",
              "    </tr>\n",
              "    <tr>\n",
              "      <th>2</th>\n",
              "      <td>1</td>\n",
              "      <td>1</td>\n",
              "      <td>1.0</td>\n",
              "      <td>1</td>\n",
              "      <td>0</td>\n",
              "      <td>NaN</td>\n",
              "      <td>1.0</td>\n",
              "      <td>1</td>\n",
              "    </tr>\n",
              "    <tr>\n",
              "      <th>3</th>\n",
              "      <td>3</td>\n",
              "      <td>1</td>\n",
              "      <td>2.0</td>\n",
              "      <td>0</td>\n",
              "      <td>0</td>\n",
              "      <td>7.925</td>\n",
              "      <td>0.0</td>\n",
              "      <td>2</td>\n",
              "    </tr>\n",
              "    <tr>\n",
              "      <th>4</th>\n",
              "      <td>1</td>\n",
              "      <td>1</td>\n",
              "      <td>3.0</td>\n",
              "      <td>1</td>\n",
              "      <td>0</td>\n",
              "      <td>53.100</td>\n",
              "      <td>0.0</td>\n",
              "      <td>1</td>\n",
              "    </tr>\n",
              "    <tr>\n",
              "      <th>5</th>\n",
              "      <td>3</td>\n",
              "      <td>0</td>\n",
              "      <td>3.0</td>\n",
              "      <td>0</td>\n",
              "      <td>0</td>\n",
              "      <td>8.050</td>\n",
              "      <td>0.0</td>\n",
              "      <td>0</td>\n",
              "    </tr>\n",
              "  </tbody>\n",
              "</table>\n",
              "</div>"
            ],
            "text/plain": [
              "             Pclass  Sex  Age  SibSp  Parch    Fare  Embarked  Title\n",
              "PassengerId                                                         \n",
              "1                 3    0  0.0      1      0     NaN       0.0      0\n",
              "2                 1    1  1.0      1      0     NaN       1.0      1\n",
              "3                 3    1  2.0      0      0   7.925       0.0      2\n",
              "4                 1    1  3.0      1      0  53.100       0.0      1\n",
              "5                 3    0  3.0      0      0   8.050       0.0      0"
            ]
          },
          "metadata": {
            "tags": []
          }
        }
      ]
    },
    {
      "cell_type": "code",
      "metadata": {
        "id": "4tarW9_JPCSy",
        "colab_type": "code",
        "colab": {}
      },
      "source": [
        "# Si se decide discretizar la variable 'Age'\n",
        "if age_categories > 0:\n",
        "  # Se asigna cada valor de la variable 'Age' del \n",
        "  # DataFrame de test al identificador numérico de \n",
        "  # la categoría que le corresponde, utilizando las categorías\n",
        "  # de la variable 'Age' del DataFrame de entrenamiento\n",
        "  map_discrete_categories(X_test, 'Age', age)"
      ],
      "execution_count": 0,
      "outputs": []
    },
    {
      "cell_type": "code",
      "metadata": {
        "id": "hS9Cc6xTQO60",
        "colab_type": "code",
        "outputId": "dfa1278a-b6c9-4390-f3cf-ca87e3e7c578",
        "colab": {
          "base_uri": "https://localhost:8080/",
          "height": 507
        }
      },
      "source": [
        "# Se muestran las características del DataFrame de test\n",
        "display(X_test.info())\n",
        "display(X_test.head())"
      ],
      "execution_count": 50,
      "outputs": [
        {
          "output_type": "stream",
          "text": [
            "<class 'pandas.core.frame.DataFrame'>\n",
            "Int64Index: 418 entries, 892 to 1309\n",
            "Data columns (total 8 columns):\n",
            " #   Column    Non-Null Count  Dtype  \n",
            "---  ------    --------------  -----  \n",
            " 0   Pclass    418 non-null    int64  \n",
            " 1   Sex       418 non-null    int64  \n",
            " 2   Age       246 non-null    float64\n",
            " 3   SibSp     418 non-null    int64  \n",
            " 4   Parch     418 non-null    int64  \n",
            " 5   Fare      299 non-null    float64\n",
            " 6   Embarked  418 non-null    int64  \n",
            " 7   Title     417 non-null    float64\n",
            "dtypes: float64(3), int64(5)\n",
            "memory usage: 29.4 KB\n"
          ],
          "name": "stdout"
        },
        {
          "output_type": "display_data",
          "data": {
            "text/plain": [
              "None"
            ]
          },
          "metadata": {
            "tags": []
          }
        },
        {
          "output_type": "display_data",
          "data": {
            "text/html": [
              "<div>\n",
              "<style scoped>\n",
              "    .dataframe tbody tr th:only-of-type {\n",
              "        vertical-align: middle;\n",
              "    }\n",
              "\n",
              "    .dataframe tbody tr th {\n",
              "        vertical-align: top;\n",
              "    }\n",
              "\n",
              "    .dataframe thead th {\n",
              "        text-align: right;\n",
              "    }\n",
              "</style>\n",
              "<table border=\"1\" class=\"dataframe\">\n",
              "  <thead>\n",
              "    <tr style=\"text-align: right;\">\n",
              "      <th></th>\n",
              "      <th>Pclass</th>\n",
              "      <th>Sex</th>\n",
              "      <th>Age</th>\n",
              "      <th>SibSp</th>\n",
              "      <th>Parch</th>\n",
              "      <th>Fare</th>\n",
              "      <th>Embarked</th>\n",
              "      <th>Title</th>\n",
              "    </tr>\n",
              "    <tr>\n",
              "      <th>PassengerId</th>\n",
              "      <th></th>\n",
              "      <th></th>\n",
              "      <th></th>\n",
              "      <th></th>\n",
              "      <th></th>\n",
              "      <th></th>\n",
              "      <th></th>\n",
              "      <th></th>\n",
              "    </tr>\n",
              "  </thead>\n",
              "  <tbody>\n",
              "    <tr>\n",
              "      <th>892</th>\n",
              "      <td>3</td>\n",
              "      <td>0</td>\n",
              "      <td>3.0</td>\n",
              "      <td>0</td>\n",
              "      <td>0</td>\n",
              "      <td>7.8292</td>\n",
              "      <td>2</td>\n",
              "      <td>0.0</td>\n",
              "    </tr>\n",
              "    <tr>\n",
              "      <th>893</th>\n",
              "      <td>3</td>\n",
              "      <td>1</td>\n",
              "      <td>NaN</td>\n",
              "      <td>1</td>\n",
              "      <td>0</td>\n",
              "      <td>NaN</td>\n",
              "      <td>0</td>\n",
              "      <td>1.0</td>\n",
              "    </tr>\n",
              "    <tr>\n",
              "      <th>894</th>\n",
              "      <td>2</td>\n",
              "      <td>0</td>\n",
              "      <td>NaN</td>\n",
              "      <td>0</td>\n",
              "      <td>0</td>\n",
              "      <td>9.6875</td>\n",
              "      <td>2</td>\n",
              "      <td>0.0</td>\n",
              "    </tr>\n",
              "    <tr>\n",
              "      <th>895</th>\n",
              "      <td>3</td>\n",
              "      <td>0</td>\n",
              "      <td>4.0</td>\n",
              "      <td>0</td>\n",
              "      <td>0</td>\n",
              "      <td>8.6625</td>\n",
              "      <td>0</td>\n",
              "      <td>0.0</td>\n",
              "    </tr>\n",
              "    <tr>\n",
              "      <th>896</th>\n",
              "      <td>3</td>\n",
              "      <td>1</td>\n",
              "      <td>0.0</td>\n",
              "      <td>1</td>\n",
              "      <td>1</td>\n",
              "      <td>12.2875</td>\n",
              "      <td>0</td>\n",
              "      <td>1.0</td>\n",
              "    </tr>\n",
              "  </tbody>\n",
              "</table>\n",
              "</div>"
            ],
            "text/plain": [
              "             Pclass  Sex  Age  SibSp  Parch     Fare  Embarked  Title\n",
              "PassengerId                                                          \n",
              "892               3    0  3.0      0      0   7.8292         2    0.0\n",
              "893               3    1  NaN      1      0      NaN         0    1.0\n",
              "894               2    0  NaN      0      0   9.6875         2    0.0\n",
              "895               3    0  4.0      0      0   8.6625         0    0.0\n",
              "896               3    1  0.0      1      1  12.2875         0    1.0"
            ]
          },
          "metadata": {
            "tags": []
          }
        }
      ]
    },
    {
      "cell_type": "code",
      "metadata": {
        "id": "1wGn3pvBgJVd",
        "colab_type": "code",
        "outputId": "a65a795e-ea2d-4dff-d3e4-4fb7f7185174",
        "colab": {
          "base_uri": "https://localhost:8080/",
          "height": 54
        }
      },
      "source": [
        "# Si se decide discretizar la variable 'Fare'\n",
        "if fare_categories > 0:\n",
        "  # Se agrupa las muestras en categorías con el mismo número de muestras\n",
        "  # El número de categorías viene definido por la variable 'fare_categories'\n",
        "  X_train['Fare'] = pd.qcut(X_train['Fare'], fare_categories)\n",
        "\n",
        "  # Se convierte la características 'Age' en una variable categórica\n",
        "  X_train, fare = factorize_feature(X_train, 'Fare')"
      ],
      "execution_count": 51,
      "outputs": [
        {
          "output_type": "stream",
          "text": [
            "{Interval(7.854, 7.925, closed='right'): 0, Interval(35.5, 56.496, closed='right'): 1, Interval(7.925, 8.662, closed='right'): 2, Interval(18.0, 25.965, closed='right'): 3, Interval(8.662, 11.242, closed='right'): 4, Interval(27.75, 35.5, closed='right'): 5, Interval(13.825, 18.0, closed='right'): 6, Interval(25.965, 27.75, closed='right'): 7, Interval(7.749, 7.854, closed='right'): 8, Interval(11.242, 13.825, closed='right'): 9}\n"
          ],
          "name": "stdout"
        }
      ]
    },
    {
      "cell_type": "code",
      "metadata": {
        "id": "dVK5ooa2EU_O",
        "colab_type": "code",
        "outputId": "4ec7b875-115b-4e3a-ad45-e0c6634a3493",
        "colab": {
          "base_uri": "https://localhost:8080/",
          "height": 507
        }
      },
      "source": [
        "# Se muestran las características del DataFrame de entrenamiento\n",
        "display(X_train.info())\n",
        "display(X_train.head())"
      ],
      "execution_count": 52,
      "outputs": [
        {
          "output_type": "stream",
          "text": [
            "<class 'pandas.core.frame.DataFrame'>\n",
            "Int64Index: 891 entries, 1 to 891\n",
            "Data columns (total 8 columns):\n",
            " #   Column    Non-Null Count  Dtype  \n",
            "---  ------    --------------  -----  \n",
            " 0   Pclass    891 non-null    int64  \n",
            " 1   Sex       891 non-null    int64  \n",
            " 2   Age       511 non-null    float64\n",
            " 3   SibSp     891 non-null    int64  \n",
            " 4   Parch     891 non-null    int64  \n",
            " 5   Fare      656 non-null    float64\n",
            " 6   Embarked  889 non-null    float64\n",
            " 7   Title     891 non-null    int64  \n",
            "dtypes: float64(3), int64(5)\n",
            "memory usage: 62.6 KB\n"
          ],
          "name": "stdout"
        },
        {
          "output_type": "display_data",
          "data": {
            "text/plain": [
              "None"
            ]
          },
          "metadata": {
            "tags": []
          }
        },
        {
          "output_type": "display_data",
          "data": {
            "text/html": [
              "<div>\n",
              "<style scoped>\n",
              "    .dataframe tbody tr th:only-of-type {\n",
              "        vertical-align: middle;\n",
              "    }\n",
              "\n",
              "    .dataframe tbody tr th {\n",
              "        vertical-align: top;\n",
              "    }\n",
              "\n",
              "    .dataframe thead th {\n",
              "        text-align: right;\n",
              "    }\n",
              "</style>\n",
              "<table border=\"1\" class=\"dataframe\">\n",
              "  <thead>\n",
              "    <tr style=\"text-align: right;\">\n",
              "      <th></th>\n",
              "      <th>Pclass</th>\n",
              "      <th>Sex</th>\n",
              "      <th>Age</th>\n",
              "      <th>SibSp</th>\n",
              "      <th>Parch</th>\n",
              "      <th>Fare</th>\n",
              "      <th>Embarked</th>\n",
              "      <th>Title</th>\n",
              "    </tr>\n",
              "    <tr>\n",
              "      <th>PassengerId</th>\n",
              "      <th></th>\n",
              "      <th></th>\n",
              "      <th></th>\n",
              "      <th></th>\n",
              "      <th></th>\n",
              "      <th></th>\n",
              "      <th></th>\n",
              "      <th></th>\n",
              "    </tr>\n",
              "  </thead>\n",
              "  <tbody>\n",
              "    <tr>\n",
              "      <th>1</th>\n",
              "      <td>3</td>\n",
              "      <td>0</td>\n",
              "      <td>0.0</td>\n",
              "      <td>1</td>\n",
              "      <td>0</td>\n",
              "      <td>NaN</td>\n",
              "      <td>0.0</td>\n",
              "      <td>0</td>\n",
              "    </tr>\n",
              "    <tr>\n",
              "      <th>2</th>\n",
              "      <td>1</td>\n",
              "      <td>1</td>\n",
              "      <td>1.0</td>\n",
              "      <td>1</td>\n",
              "      <td>0</td>\n",
              "      <td>NaN</td>\n",
              "      <td>1.0</td>\n",
              "      <td>1</td>\n",
              "    </tr>\n",
              "    <tr>\n",
              "      <th>3</th>\n",
              "      <td>3</td>\n",
              "      <td>1</td>\n",
              "      <td>2.0</td>\n",
              "      <td>0</td>\n",
              "      <td>0</td>\n",
              "      <td>0.0</td>\n",
              "      <td>0.0</td>\n",
              "      <td>2</td>\n",
              "    </tr>\n",
              "    <tr>\n",
              "      <th>4</th>\n",
              "      <td>1</td>\n",
              "      <td>1</td>\n",
              "      <td>3.0</td>\n",
              "      <td>1</td>\n",
              "      <td>0</td>\n",
              "      <td>1.0</td>\n",
              "      <td>0.0</td>\n",
              "      <td>1</td>\n",
              "    </tr>\n",
              "    <tr>\n",
              "      <th>5</th>\n",
              "      <td>3</td>\n",
              "      <td>0</td>\n",
              "      <td>3.0</td>\n",
              "      <td>0</td>\n",
              "      <td>0</td>\n",
              "      <td>2.0</td>\n",
              "      <td>0.0</td>\n",
              "      <td>0</td>\n",
              "    </tr>\n",
              "  </tbody>\n",
              "</table>\n",
              "</div>"
            ],
            "text/plain": [
              "             Pclass  Sex  Age  SibSp  Parch  Fare  Embarked  Title\n",
              "PassengerId                                                       \n",
              "1                 3    0  0.0      1      0   NaN       0.0      0\n",
              "2                 1    1  1.0      1      0   NaN       1.0      1\n",
              "3                 3    1  2.0      0      0   0.0       0.0      2\n",
              "4                 1    1  3.0      1      0   1.0       0.0      1\n",
              "5                 3    0  3.0      0      0   2.0       0.0      0"
            ]
          },
          "metadata": {
            "tags": []
          }
        }
      ]
    },
    {
      "cell_type": "code",
      "metadata": {
        "id": "LHztELLMgHhf",
        "colab_type": "code",
        "colab": {}
      },
      "source": [
        "# Si se decide discretizar la variable 'Fare'\n",
        "if fare_categories > 0:\n",
        "  # Se asigna cada valor de la variable 'Fare' del \n",
        "  # DataFrame de test al identificador numérico de \n",
        "  # la categoría que le corresponde, utilizando las categorías\n",
        "  # de la variable 'Age' del DataFrame de entrenamiento\n",
        "  map_discrete_categories(X_test, 'Fare', fare)"
      ],
      "execution_count": 0,
      "outputs": []
    },
    {
      "cell_type": "code",
      "metadata": {
        "id": "LfrGWwUAEOTl",
        "colab_type": "code",
        "outputId": "c6d77e24-3911-4927-b028-d81ebf883937",
        "colab": {
          "base_uri": "https://localhost:8080/",
          "height": 507
        }
      },
      "source": [
        "# Se muestran las características del DataFrame de test\n",
        "display(X_test.info())\n",
        "display(X_test.head())"
      ],
      "execution_count": 54,
      "outputs": [
        {
          "output_type": "stream",
          "text": [
            "<class 'pandas.core.frame.DataFrame'>\n",
            "Int64Index: 418 entries, 892 to 1309\n",
            "Data columns (total 8 columns):\n",
            " #   Column    Non-Null Count  Dtype  \n",
            "---  ------    --------------  -----  \n",
            " 0   Pclass    418 non-null    int64  \n",
            " 1   Sex       418 non-null    int64  \n",
            " 2   Age       246 non-null    float64\n",
            " 3   SibSp     418 non-null    int64  \n",
            " 4   Parch     418 non-null    int64  \n",
            " 5   Fare      299 non-null    float64\n",
            " 6   Embarked  418 non-null    int64  \n",
            " 7   Title     417 non-null    float64\n",
            "dtypes: float64(3), int64(5)\n",
            "memory usage: 29.4 KB\n"
          ],
          "name": "stdout"
        },
        {
          "output_type": "display_data",
          "data": {
            "text/plain": [
              "None"
            ]
          },
          "metadata": {
            "tags": []
          }
        },
        {
          "output_type": "display_data",
          "data": {
            "text/html": [
              "<div>\n",
              "<style scoped>\n",
              "    .dataframe tbody tr th:only-of-type {\n",
              "        vertical-align: middle;\n",
              "    }\n",
              "\n",
              "    .dataframe tbody tr th {\n",
              "        vertical-align: top;\n",
              "    }\n",
              "\n",
              "    .dataframe thead th {\n",
              "        text-align: right;\n",
              "    }\n",
              "</style>\n",
              "<table border=\"1\" class=\"dataframe\">\n",
              "  <thead>\n",
              "    <tr style=\"text-align: right;\">\n",
              "      <th></th>\n",
              "      <th>Pclass</th>\n",
              "      <th>Sex</th>\n",
              "      <th>Age</th>\n",
              "      <th>SibSp</th>\n",
              "      <th>Parch</th>\n",
              "      <th>Fare</th>\n",
              "      <th>Embarked</th>\n",
              "      <th>Title</th>\n",
              "    </tr>\n",
              "    <tr>\n",
              "      <th>PassengerId</th>\n",
              "      <th></th>\n",
              "      <th></th>\n",
              "      <th></th>\n",
              "      <th></th>\n",
              "      <th></th>\n",
              "      <th></th>\n",
              "      <th></th>\n",
              "      <th></th>\n",
              "    </tr>\n",
              "  </thead>\n",
              "  <tbody>\n",
              "    <tr>\n",
              "      <th>892</th>\n",
              "      <td>3</td>\n",
              "      <td>0</td>\n",
              "      <td>3.0</td>\n",
              "      <td>0</td>\n",
              "      <td>0</td>\n",
              "      <td>8.0</td>\n",
              "      <td>2</td>\n",
              "      <td>0.0</td>\n",
              "    </tr>\n",
              "    <tr>\n",
              "      <th>893</th>\n",
              "      <td>3</td>\n",
              "      <td>1</td>\n",
              "      <td>NaN</td>\n",
              "      <td>1</td>\n",
              "      <td>0</td>\n",
              "      <td>NaN</td>\n",
              "      <td>0</td>\n",
              "      <td>1.0</td>\n",
              "    </tr>\n",
              "    <tr>\n",
              "      <th>894</th>\n",
              "      <td>2</td>\n",
              "      <td>0</td>\n",
              "      <td>NaN</td>\n",
              "      <td>0</td>\n",
              "      <td>0</td>\n",
              "      <td>4.0</td>\n",
              "      <td>2</td>\n",
              "      <td>0.0</td>\n",
              "    </tr>\n",
              "    <tr>\n",
              "      <th>895</th>\n",
              "      <td>3</td>\n",
              "      <td>0</td>\n",
              "      <td>4.0</td>\n",
              "      <td>0</td>\n",
              "      <td>0</td>\n",
              "      <td>4.0</td>\n",
              "      <td>0</td>\n",
              "      <td>0.0</td>\n",
              "    </tr>\n",
              "    <tr>\n",
              "      <th>896</th>\n",
              "      <td>3</td>\n",
              "      <td>1</td>\n",
              "      <td>0.0</td>\n",
              "      <td>1</td>\n",
              "      <td>1</td>\n",
              "      <td>9.0</td>\n",
              "      <td>0</td>\n",
              "      <td>1.0</td>\n",
              "    </tr>\n",
              "  </tbody>\n",
              "</table>\n",
              "</div>"
            ],
            "text/plain": [
              "             Pclass  Sex  Age  SibSp  Parch  Fare  Embarked  Title\n",
              "PassengerId                                                       \n",
              "892               3    0  3.0      0      0   8.0         2    0.0\n",
              "893               3    1  NaN      1      0   NaN         0    1.0\n",
              "894               2    0  NaN      0      0   4.0         2    0.0\n",
              "895               3    0  4.0      0      0   4.0         0    0.0\n",
              "896               3    1  0.0      1      1   9.0         0    1.0"
            ]
          },
          "metadata": {
            "tags": []
          }
        }
      ]
    },
    {
      "cell_type": "markdown",
      "metadata": {
        "id": "q4Y5zhTS6qqZ",
        "colab_type": "text"
      },
      "source": [
        "## Imputar los valores perdidos"
      ]
    },
    {
      "cell_type": "code",
      "metadata": {
        "id": "szoUMj_q6uw6",
        "colab_type": "code",
        "colab": {}
      },
      "source": [
        "# Se imputan los valores perdidos (o eliminados) utilizndo el método k-Nearest Neighbors\n",
        "imp = KNNImputer().fit(X_train)\n",
        "X_train = pd.DataFrame(imp.transform(X_train), columns = X_train.columns)\n",
        "X_test = pd.DataFrame(imp.transform(X_test), columns = X_test.columns)"
      ],
      "execution_count": 0,
      "outputs": []
    },
    {
      "cell_type": "code",
      "metadata": {
        "id": "wFMFg6VhiIqX",
        "colab_type": "code",
        "outputId": "7bcb9248-0df4-4d1c-ee02-bf2caced0fff",
        "colab": {
          "base_uri": "https://localhost:8080/",
          "height": 476
        }
      },
      "source": [
        "# Se muestran las características del DataFrame de entrenamiento\n",
        "display(X_train.info())\n",
        "display(X_train.head())"
      ],
      "execution_count": 56,
      "outputs": [
        {
          "output_type": "stream",
          "text": [
            "<class 'pandas.core.frame.DataFrame'>\n",
            "RangeIndex: 891 entries, 0 to 890\n",
            "Data columns (total 8 columns):\n",
            " #   Column    Non-Null Count  Dtype  \n",
            "---  ------    --------------  -----  \n",
            " 0   Pclass    891 non-null    float64\n",
            " 1   Sex       891 non-null    float64\n",
            " 2   Age       891 non-null    float64\n",
            " 3   SibSp     891 non-null    float64\n",
            " 4   Parch     891 non-null    float64\n",
            " 5   Fare      891 non-null    float64\n",
            " 6   Embarked  891 non-null    float64\n",
            " 7   Title     891 non-null    float64\n",
            "dtypes: float64(8)\n",
            "memory usage: 55.8 KB\n"
          ],
          "name": "stdout"
        },
        {
          "output_type": "display_data",
          "data": {
            "text/plain": [
              "None"
            ]
          },
          "metadata": {
            "tags": []
          }
        },
        {
          "output_type": "display_data",
          "data": {
            "text/html": [
              "<div>\n",
              "<style scoped>\n",
              "    .dataframe tbody tr th:only-of-type {\n",
              "        vertical-align: middle;\n",
              "    }\n",
              "\n",
              "    .dataframe tbody tr th {\n",
              "        vertical-align: top;\n",
              "    }\n",
              "\n",
              "    .dataframe thead th {\n",
              "        text-align: right;\n",
              "    }\n",
              "</style>\n",
              "<table border=\"1\" class=\"dataframe\">\n",
              "  <thead>\n",
              "    <tr style=\"text-align: right;\">\n",
              "      <th></th>\n",
              "      <th>Pclass</th>\n",
              "      <th>Sex</th>\n",
              "      <th>Age</th>\n",
              "      <th>SibSp</th>\n",
              "      <th>Parch</th>\n",
              "      <th>Fare</th>\n",
              "      <th>Embarked</th>\n",
              "      <th>Title</th>\n",
              "    </tr>\n",
              "  </thead>\n",
              "  <tbody>\n",
              "    <tr>\n",
              "      <th>0</th>\n",
              "      <td>3.0</td>\n",
              "      <td>0.0</td>\n",
              "      <td>0.0</td>\n",
              "      <td>1.0</td>\n",
              "      <td>0.0</td>\n",
              "      <td>4.4</td>\n",
              "      <td>0.0</td>\n",
              "      <td>0.0</td>\n",
              "    </tr>\n",
              "    <tr>\n",
              "      <th>1</th>\n",
              "      <td>1.0</td>\n",
              "      <td>1.0</td>\n",
              "      <td>1.0</td>\n",
              "      <td>1.0</td>\n",
              "      <td>0.0</td>\n",
              "      <td>2.6</td>\n",
              "      <td>1.0</td>\n",
              "      <td>1.0</td>\n",
              "    </tr>\n",
              "    <tr>\n",
              "      <th>2</th>\n",
              "      <td>3.0</td>\n",
              "      <td>1.0</td>\n",
              "      <td>2.0</td>\n",
              "      <td>0.0</td>\n",
              "      <td>0.0</td>\n",
              "      <td>0.0</td>\n",
              "      <td>0.0</td>\n",
              "      <td>2.0</td>\n",
              "    </tr>\n",
              "    <tr>\n",
              "      <th>3</th>\n",
              "      <td>1.0</td>\n",
              "      <td>1.0</td>\n",
              "      <td>3.0</td>\n",
              "      <td>1.0</td>\n",
              "      <td>0.0</td>\n",
              "      <td>1.0</td>\n",
              "      <td>0.0</td>\n",
              "      <td>1.0</td>\n",
              "    </tr>\n",
              "    <tr>\n",
              "      <th>4</th>\n",
              "      <td>3.0</td>\n",
              "      <td>0.0</td>\n",
              "      <td>3.0</td>\n",
              "      <td>0.0</td>\n",
              "      <td>0.0</td>\n",
              "      <td>2.0</td>\n",
              "      <td>0.0</td>\n",
              "      <td>0.0</td>\n",
              "    </tr>\n",
              "  </tbody>\n",
              "</table>\n",
              "</div>"
            ],
            "text/plain": [
              "   Pclass  Sex  Age  SibSp  Parch  Fare  Embarked  Title\n",
              "0     3.0  0.0  0.0    1.0    0.0   4.4       0.0    0.0\n",
              "1     1.0  1.0  1.0    1.0    0.0   2.6       1.0    1.0\n",
              "2     3.0  1.0  2.0    0.0    0.0   0.0       0.0    2.0\n",
              "3     1.0  1.0  3.0    1.0    0.0   1.0       0.0    1.0\n",
              "4     3.0  0.0  3.0    0.0    0.0   2.0       0.0    0.0"
            ]
          },
          "metadata": {
            "tags": []
          }
        }
      ]
    },
    {
      "cell_type": "code",
      "metadata": {
        "id": "j0yNp3LB9wL1",
        "colab_type": "code",
        "outputId": "6173219e-50b6-4fba-e392-5999eec2d55e",
        "colab": {
          "base_uri": "https://localhost:8080/",
          "height": 476
        }
      },
      "source": [
        "# Se muestran las características del DataFrame de test\n",
        "display(X_test.info())\n",
        "display(X_test.head())"
      ],
      "execution_count": 57,
      "outputs": [
        {
          "output_type": "stream",
          "text": [
            "<class 'pandas.core.frame.DataFrame'>\n",
            "RangeIndex: 418 entries, 0 to 417\n",
            "Data columns (total 8 columns):\n",
            " #   Column    Non-Null Count  Dtype  \n",
            "---  ------    --------------  -----  \n",
            " 0   Pclass    418 non-null    float64\n",
            " 1   Sex       418 non-null    float64\n",
            " 2   Age       418 non-null    float64\n",
            " 3   SibSp     418 non-null    float64\n",
            " 4   Parch     418 non-null    float64\n",
            " 5   Fare      418 non-null    float64\n",
            " 6   Embarked  418 non-null    float64\n",
            " 7   Title     418 non-null    float64\n",
            "dtypes: float64(8)\n",
            "memory usage: 26.2 KB\n"
          ],
          "name": "stdout"
        },
        {
          "output_type": "display_data",
          "data": {
            "text/plain": [
              "None"
            ]
          },
          "metadata": {
            "tags": []
          }
        },
        {
          "output_type": "display_data",
          "data": {
            "text/html": [
              "<div>\n",
              "<style scoped>\n",
              "    .dataframe tbody tr th:only-of-type {\n",
              "        vertical-align: middle;\n",
              "    }\n",
              "\n",
              "    .dataframe tbody tr th {\n",
              "        vertical-align: top;\n",
              "    }\n",
              "\n",
              "    .dataframe thead th {\n",
              "        text-align: right;\n",
              "    }\n",
              "</style>\n",
              "<table border=\"1\" class=\"dataframe\">\n",
              "  <thead>\n",
              "    <tr style=\"text-align: right;\">\n",
              "      <th></th>\n",
              "      <th>Pclass</th>\n",
              "      <th>Sex</th>\n",
              "      <th>Age</th>\n",
              "      <th>SibSp</th>\n",
              "      <th>Parch</th>\n",
              "      <th>Fare</th>\n",
              "      <th>Embarked</th>\n",
              "      <th>Title</th>\n",
              "    </tr>\n",
              "  </thead>\n",
              "  <tbody>\n",
              "    <tr>\n",
              "      <th>0</th>\n",
              "      <td>3.0</td>\n",
              "      <td>0.0</td>\n",
              "      <td>3.0</td>\n",
              "      <td>0.0</td>\n",
              "      <td>0.0</td>\n",
              "      <td>8.0</td>\n",
              "      <td>2.0</td>\n",
              "      <td>0.0</td>\n",
              "    </tr>\n",
              "    <tr>\n",
              "      <th>1</th>\n",
              "      <td>3.0</td>\n",
              "      <td>1.0</td>\n",
              "      <td>2.4</td>\n",
              "      <td>1.0</td>\n",
              "      <td>0.0</td>\n",
              "      <td>5.6</td>\n",
              "      <td>0.0</td>\n",
              "      <td>1.0</td>\n",
              "    </tr>\n",
              "    <tr>\n",
              "      <th>2</th>\n",
              "      <td>2.0</td>\n",
              "      <td>0.0</td>\n",
              "      <td>4.6</td>\n",
              "      <td>0.0</td>\n",
              "      <td>0.0</td>\n",
              "      <td>4.0</td>\n",
              "      <td>2.0</td>\n",
              "      <td>0.0</td>\n",
              "    </tr>\n",
              "    <tr>\n",
              "      <th>3</th>\n",
              "      <td>3.0</td>\n",
              "      <td>0.0</td>\n",
              "      <td>4.0</td>\n",
              "      <td>0.0</td>\n",
              "      <td>0.0</td>\n",
              "      <td>4.0</td>\n",
              "      <td>0.0</td>\n",
              "      <td>0.0</td>\n",
              "    </tr>\n",
              "    <tr>\n",
              "      <th>4</th>\n",
              "      <td>3.0</td>\n",
              "      <td>1.0</td>\n",
              "      <td>0.0</td>\n",
              "      <td>1.0</td>\n",
              "      <td>1.0</td>\n",
              "      <td>9.0</td>\n",
              "      <td>0.0</td>\n",
              "      <td>1.0</td>\n",
              "    </tr>\n",
              "  </tbody>\n",
              "</table>\n",
              "</div>"
            ],
            "text/plain": [
              "   Pclass  Sex  Age  SibSp  Parch  Fare  Embarked  Title\n",
              "0     3.0  0.0  3.0    0.0    0.0   8.0       2.0    0.0\n",
              "1     3.0  1.0  2.4    1.0    0.0   5.6       0.0    1.0\n",
              "2     2.0  0.0  4.6    0.0    0.0   4.0       2.0    0.0\n",
              "3     3.0  0.0  4.0    0.0    0.0   4.0       0.0    0.0\n",
              "4     3.0  1.0  0.0    1.0    1.0   9.0       0.0    1.0"
            ]
          },
          "metadata": {
            "tags": []
          }
        }
      ]
    },
    {
      "cell_type": "markdown",
      "metadata": {
        "id": "fzFAZhrnB5vr",
        "colab_type": "text"
      },
      "source": [
        "## Reducir la dimensionalidad"
      ]
    },
    {
      "cell_type": "code",
      "metadata": {
        "id": "lsHQJGhGAieR",
        "colab_type": "code",
        "outputId": "09d5c72c-9355-4efb-f0e2-74bc96d4a9d6",
        "colab": {
          "base_uri": "https://localhost:8080/",
          "height": 299
        }
      },
      "source": [
        "# Se aplica un análisis de componentes principales\n",
        "# para indentificar las componentes mas información aportan\n",
        "# en el espacio de características\n",
        "pca = PCA(n_components = len(X_train.columns)).fit(X_train)\n",
        "_dict = {k:round(v, 6) for k, v in enumerate(pca.explained_variance_ratio_)}\n",
        "\n",
        "# Proporción de la variabilidad explicada por las componentes\n",
        "print('Proporción de la variabilidad explicada por elos componentes: \\n' +\n",
        "      str(_dict))\n",
        "\n",
        "# Representación gráfica de la proporción de la variabilidad explicada\n",
        "# por cada una de las componentes\n",
        "data = pd.DataFrame.from_dict(_dict, orient='index', columns = ['variance_ratio'] )\n",
        "plot = sns.barplot(x=data.index, y='variance_ratio', data = data)"
      ],
      "execution_count": 58,
      "outputs": [
        {
          "output_type": "stream",
          "text": [
            "Proporción de la variabilidad explicada por elos componentes: \n",
            "{0: 0.390701, 1: 0.292593, 2: 0.160694, 3: 0.067522, 4: 0.034344, 5: 0.024856, 6: 0.020086, 7: 0.009203}\n"
          ],
          "name": "stdout"
        },
        {
          "output_type": "display_data",
          "data": {
            "image/png": "[encoded data removed]",
            "text/plain": [
              "<Figure size 432x288 with 1 Axes>"
            ]
          },
          "metadata": {
            "tags": [],
            "needs_background": "light"
          }
        }
      ]
    },
    {
      "cell_type": "code",
      "metadata": {
        "id": "C-pdaTdcWXSR",
        "colab_type": "code",
        "colab": {}
      },
      "source": [
        "# Si se decide reducir el número de dimensiones\n",
        "if dimensions_to_remove > 0:\n",
        "  # Se aplica el análisis PCA para un número de dimensiones inferior\n",
        "  # al del espacio de características\n",
        "  pca = PCA(n_components = len(X_train.columns) - dimensions_to_remove).fit(X_train)\n",
        "  X_train = pd.DataFrame(pca.transform(X_train))\n",
        "  X_test = pd.DataFrame(pca.transform(X_test))"
      ],
      "execution_count": 0,
      "outputs": []
    },
    {
      "cell_type": "code",
      "metadata": {
        "id": "XkvH4BR1W7LI",
        "colab_type": "code",
        "colab": {}
      },
      "source": [
        "# Si se decide reducir el número de dimensiones\n",
        "if dimensions_to_remove > 0:\n",
        "  # Se muestran las características del DataFrame de entrenamiento\n",
        "  display(X_train.info())\n",
        "  display(X_train.head())"
      ],
      "execution_count": 0,
      "outputs": []
    },
    {
      "cell_type": "code",
      "metadata": {
        "id": "Io6UgQOaW8-i",
        "colab_type": "code",
        "colab": {}
      },
      "source": [
        "# Si se decide reducir el número de dimensiones\n",
        "if dimensions_to_remove > 0:\n",
        "  # Se muestran las características del DataFrame de test\n",
        "  display(X_test.info())\n",
        "  display(X_test.head())"
      ],
      "execution_count": 0,
      "outputs": []
    },
    {
      "cell_type": "markdown",
      "metadata": {
        "id": "95wEMYbm-WYh",
        "colab_type": "text"
      },
      "source": [
        "## Estandarizar"
      ]
    },
    {
      "cell_type": "code",
      "metadata": {
        "id": "DSJ1PO6P-V8j",
        "colab_type": "code",
        "colab": {}
      },
      "source": [
        "# Se realiza una estandarización del cojunto de características,\n",
        "# de manera qu todas las características se ponderen igual en\n",
        "# los modelos que se implementaran en los siguientes puntos.\n",
        "# Esto es importante para implementar el modelo\n",
        "# de red neuronal porque es especialmenete sensible al escalado\n",
        "scaler = StandardScaler().fit(X_train)\n",
        "X_train = pd.DataFrame(scaler.transform(X_train), columns = X_train.columns)\n",
        "X_test = pd.DataFrame(scaler.transform(X_test), columns = X_test.columns)"
      ],
      "execution_count": 0,
      "outputs": []
    },
    {
      "cell_type": "code",
      "metadata": {
        "id": "72TmLFIU97aT",
        "colab_type": "code",
        "outputId": "96000e47-81bb-45e7-c37e-4c6364f5a1de",
        "colab": {
          "base_uri": "https://localhost:8080/",
          "height": 476
        }
      },
      "source": [
        "# Se muestran las características del DataFrame de entrenamiento\n",
        "display(X_train.info())\n",
        "display(X_train.head())"
      ],
      "execution_count": 63,
      "outputs": [
        {
          "output_type": "stream",
          "text": [
            "<class 'pandas.core.frame.DataFrame'>\n",
            "RangeIndex: 891 entries, 0 to 890\n",
            "Data columns (total 8 columns):\n",
            " #   Column    Non-Null Count  Dtype  \n",
            "---  ------    --------------  -----  \n",
            " 0   Pclass    891 non-null    float64\n",
            " 1   Sex       891 non-null    float64\n",
            " 2   Age       891 non-null    float64\n",
            " 3   SibSp     891 non-null    float64\n",
            " 4   Parch     891 non-null    float64\n",
            " 5   Fare      891 non-null    float64\n",
            " 6   Embarked  891 non-null    float64\n",
            " 7   Title     891 non-null    float64\n",
            "dtypes: float64(8)\n",
            "memory usage: 55.8 KB\n"
          ],
          "name": "stdout"
        },
        {
          "output_type": "display_data",
          "data": {
            "text/plain": [
              "None"
            ]
          },
          "metadata": {
            "tags": []
          }
        },
        {
          "output_type": "display_data",
          "data": {
            "text/html": [
              "<div>\n",
              "<style scoped>\n",
              "    .dataframe tbody tr th:only-of-type {\n",
              "        vertical-align: middle;\n",
              "    }\n",
              "\n",
              "    .dataframe tbody tr th {\n",
              "        vertical-align: top;\n",
              "    }\n",
              "\n",
              "    .dataframe thead th {\n",
              "        text-align: right;\n",
              "    }\n",
              "</style>\n",
              "<table border=\"1\" class=\"dataframe\">\n",
              "  <thead>\n",
              "    <tr style=\"text-align: right;\">\n",
              "      <th></th>\n",
              "      <th>Pclass</th>\n",
              "      <th>Sex</th>\n",
              "      <th>Age</th>\n",
              "      <th>SibSp</th>\n",
              "      <th>Parch</th>\n",
              "      <th>Fare</th>\n",
              "      <th>Embarked</th>\n",
              "      <th>Title</th>\n",
              "    </tr>\n",
              "  </thead>\n",
              "  <tbody>\n",
              "    <tr>\n",
              "      <th>0</th>\n",
              "      <td>0.827377</td>\n",
              "      <td>-0.737695</td>\n",
              "      <td>-1.787905</td>\n",
              "      <td>0.432793</td>\n",
              "      <td>-0.473674</td>\n",
              "      <td>-0.014208</td>\n",
              "      <td>-0.570766</td>\n",
              "      <td>-0.542822</td>\n",
              "    </tr>\n",
              "    <tr>\n",
              "      <th>1</th>\n",
              "      <td>-1.566107</td>\n",
              "      <td>1.355574</td>\n",
              "      <td>-1.373595</td>\n",
              "      <td>0.432793</td>\n",
              "      <td>-0.473674</td>\n",
              "      <td>-0.692374</td>\n",
              "      <td>1.003699</td>\n",
              "      <td>0.037099</td>\n",
              "    </tr>\n",
              "    <tr>\n",
              "      <th>2</th>\n",
              "      <td>0.827377</td>\n",
              "      <td>1.355574</td>\n",
              "      <td>-0.959285</td>\n",
              "      <td>-0.474545</td>\n",
              "      <td>-0.473674</td>\n",
              "      <td>-1.671948</td>\n",
              "      <td>-0.570766</td>\n",
              "      <td>0.617020</td>\n",
              "    </tr>\n",
              "    <tr>\n",
              "      <th>3</th>\n",
              "      <td>-1.566107</td>\n",
              "      <td>1.355574</td>\n",
              "      <td>-0.544974</td>\n",
              "      <td>0.432793</td>\n",
              "      <td>-0.473674</td>\n",
              "      <td>-1.295189</td>\n",
              "      <td>-0.570766</td>\n",
              "      <td>0.037099</td>\n",
              "    </tr>\n",
              "    <tr>\n",
              "      <th>4</th>\n",
              "      <td>0.827377</td>\n",
              "      <td>-0.737695</td>\n",
              "      <td>-0.544974</td>\n",
              "      <td>-0.474545</td>\n",
              "      <td>-0.473674</td>\n",
              "      <td>-0.918430</td>\n",
              "      <td>-0.570766</td>\n",
              "      <td>-0.542822</td>\n",
              "    </tr>\n",
              "  </tbody>\n",
              "</table>\n",
              "</div>"
            ],
            "text/plain": [
              "     Pclass       Sex       Age  ...      Fare  Embarked     Title\n",
              "0  0.827377 -0.737695 -1.787905  ... -0.014208 -0.570766 -0.542822\n",
              "1 -1.566107  1.355574 -1.373595  ... -0.692374  1.003699  0.037099\n",
              "2  0.827377  1.355574 -0.959285  ... -1.671948 -0.570766  0.617020\n",
              "3 -1.566107  1.355574 -0.544974  ... -1.295189 -0.570766  0.037099\n",
              "4  0.827377 -0.737695 -0.544974  ... -0.918430 -0.570766 -0.542822\n",
              "\n",
              "[5 rows x 8 columns]"
            ]
          },
          "metadata": {
            "tags": []
          }
        }
      ]
    },
    {
      "cell_type": "code",
      "metadata": {
        "id": "q6qVXoYF989V",
        "colab_type": "code",
        "outputId": "34b521e9-8f87-4f18-ce3f-03550b61009c",
        "colab": {
          "base_uri": "https://localhost:8080/",
          "height": 476
        }
      },
      "source": [
        "# Se muestran las características del DataFrame de test\n",
        "display(X_test.info())\n",
        "display(X_test.head())"
      ],
      "execution_count": 64,
      "outputs": [
        {
          "output_type": "stream",
          "text": [
            "<class 'pandas.core.frame.DataFrame'>\n",
            "RangeIndex: 418 entries, 0 to 417\n",
            "Data columns (total 8 columns):\n",
            " #   Column    Non-Null Count  Dtype  \n",
            "---  ------    --------------  -----  \n",
            " 0   Pclass    418 non-null    float64\n",
            " 1   Sex       418 non-null    float64\n",
            " 2   Age       418 non-null    float64\n",
            " 3   SibSp     418 non-null    float64\n",
            " 4   Parch     418 non-null    float64\n",
            " 5   Fare      418 non-null    float64\n",
            " 6   Embarked  418 non-null    float64\n",
            " 7   Title     418 non-null    float64\n",
            "dtypes: float64(8)\n",
            "memory usage: 26.2 KB\n"
          ],
          "name": "stdout"
        },
        {
          "output_type": "display_data",
          "data": {
            "text/plain": [
              "None"
            ]
          },
          "metadata": {
            "tags": []
          }
        },
        {
          "output_type": "display_data",
          "data": {
            "text/html": [
              "<div>\n",
              "<style scoped>\n",
              "    .dataframe tbody tr th:only-of-type {\n",
              "        vertical-align: middle;\n",
              "    }\n",
              "\n",
              "    .dataframe tbody tr th {\n",
              "        vertical-align: top;\n",
              "    }\n",
              "\n",
              "    .dataframe thead th {\n",
              "        text-align: right;\n",
              "    }\n",
              "</style>\n",
              "<table border=\"1\" class=\"dataframe\">\n",
              "  <thead>\n",
              "    <tr style=\"text-align: right;\">\n",
              "      <th></th>\n",
              "      <th>Pclass</th>\n",
              "      <th>Sex</th>\n",
              "      <th>Age</th>\n",
              "      <th>SibSp</th>\n",
              "      <th>Parch</th>\n",
              "      <th>Fare</th>\n",
              "      <th>Embarked</th>\n",
              "      <th>Title</th>\n",
              "    </tr>\n",
              "  </thead>\n",
              "  <tbody>\n",
              "    <tr>\n",
              "      <th>0</th>\n",
              "      <td>0.827377</td>\n",
              "      <td>-0.737695</td>\n",
              "      <td>-0.544974</td>\n",
              "      <td>-0.474545</td>\n",
              "      <td>-0.473674</td>\n",
              "      <td>1.342125</td>\n",
              "      <td>2.578164</td>\n",
              "      <td>-0.542822</td>\n",
              "    </tr>\n",
              "    <tr>\n",
              "      <th>1</th>\n",
              "      <td>0.827377</td>\n",
              "      <td>1.355574</td>\n",
              "      <td>-0.793560</td>\n",
              "      <td>0.432793</td>\n",
              "      <td>-0.473674</td>\n",
              "      <td>0.437903</td>\n",
              "      <td>-0.570766</td>\n",
              "      <td>0.037099</td>\n",
              "    </tr>\n",
              "    <tr>\n",
              "      <th>2</th>\n",
              "      <td>-0.369365</td>\n",
              "      <td>-0.737695</td>\n",
              "      <td>0.117923</td>\n",
              "      <td>-0.474545</td>\n",
              "      <td>-0.473674</td>\n",
              "      <td>-0.164911</td>\n",
              "      <td>2.578164</td>\n",
              "      <td>-0.542822</td>\n",
              "    </tr>\n",
              "    <tr>\n",
              "      <th>3</th>\n",
              "      <td>0.827377</td>\n",
              "      <td>-0.737695</td>\n",
              "      <td>-0.130664</td>\n",
              "      <td>-0.474545</td>\n",
              "      <td>-0.473674</td>\n",
              "      <td>-0.164911</td>\n",
              "      <td>-0.570766</td>\n",
              "      <td>-0.542822</td>\n",
              "    </tr>\n",
              "    <tr>\n",
              "      <th>4</th>\n",
              "      <td>0.827377</td>\n",
              "      <td>1.355574</td>\n",
              "      <td>-1.787905</td>\n",
              "      <td>0.432793</td>\n",
              "      <td>0.767630</td>\n",
              "      <td>1.718884</td>\n",
              "      <td>-0.570766</td>\n",
              "      <td>0.037099</td>\n",
              "    </tr>\n",
              "  </tbody>\n",
              "</table>\n",
              "</div>"
            ],
            "text/plain": [
              "     Pclass       Sex       Age  ...      Fare  Embarked     Title\n",
              "0  0.827377 -0.737695 -0.544974  ...  1.342125  2.578164 -0.542822\n",
              "1  0.827377  1.355574 -0.793560  ...  0.437903 -0.570766  0.037099\n",
              "2 -0.369365 -0.737695  0.117923  ... -0.164911  2.578164 -0.542822\n",
              "3  0.827377 -0.737695 -0.130664  ... -0.164911 -0.570766 -0.542822\n",
              "4  0.827377  1.355574 -1.787905  ...  1.718884 -0.570766  0.037099\n",
              "\n",
              "[5 rows x 8 columns]"
            ]
          },
          "metadata": {
            "tags": []
          }
        }
      ]
    },
    {
      "cell_type": "markdown",
      "metadata": {
        "id": "SAMZ0fUT7LiE",
        "colab_type": "text"
      },
      "source": [
        "# 4 - Análisis de datos"
      ]
    },
    {
      "cell_type": "markdown",
      "metadata": {
        "id": "V7p9wArT7DMF",
        "colab_type": "text"
      },
      "source": [
        "## Análisis estadístico descriptivo"
      ]
    },
    {
      "cell_type": "code",
      "metadata": {
        "id": "1G5dMMut7g4S",
        "colab_type": "code",
        "outputId": "fbdaf462-0f43-4f15-8823-650d14c4b853",
        "colab": {
          "base_uri": "https://localhost:8080/",
          "height": 297
        }
      },
      "source": [
        "# Estadísticas del DataFrame de entrenamiento\n",
        "display(X_train.describe())"
      ],
      "execution_count": 65,
      "outputs": [
        {
          "output_type": "display_data",
          "data": {
            "text/html": [
              "<div>\n",
              "<style scoped>\n",
              "    .dataframe tbody tr th:only-of-type {\n",
              "        vertical-align: middle;\n",
              "    }\n",
              "\n",
              "    .dataframe tbody tr th {\n",
              "        vertical-align: top;\n",
              "    }\n",
              "\n",
              "    .dataframe thead th {\n",
              "        text-align: right;\n",
              "    }\n",
              "</style>\n",
              "<table border=\"1\" class=\"dataframe\">\n",
              "  <thead>\n",
              "    <tr style=\"text-align: right;\">\n",
              "      <th></th>\n",
              "      <th>Pclass</th>\n",
              "      <th>Sex</th>\n",
              "      <th>Age</th>\n",
              "      <th>SibSp</th>\n",
              "      <th>Parch</th>\n",
              "      <th>Fare</th>\n",
              "      <th>Embarked</th>\n",
              "      <th>Title</th>\n",
              "    </tr>\n",
              "  </thead>\n",
              "  <tbody>\n",
              "    <tr>\n",
              "      <th>count</th>\n",
              "      <td>8.910000e+02</td>\n",
              "      <td>8.910000e+02</td>\n",
              "      <td>8.910000e+02</td>\n",
              "      <td>8.910000e+02</td>\n",
              "      <td>8.910000e+02</td>\n",
              "      <td>8.910000e+02</td>\n",
              "      <td>8.910000e+02</td>\n",
              "      <td>8.910000e+02</td>\n",
              "    </tr>\n",
              "    <tr>\n",
              "      <th>mean</th>\n",
              "      <td>-2.031048e-16</td>\n",
              "      <td>3.162453e-16</td>\n",
              "      <td>1.080318e-16</td>\n",
              "      <td>3.456519e-16</td>\n",
              "      <td>6.716164e-17</td>\n",
              "      <td>2.791133e-17</td>\n",
              "      <td>-6.230208e-17</td>\n",
              "      <td>2.367479e-17</td>\n",
              "    </tr>\n",
              "    <tr>\n",
              "      <th>std</th>\n",
              "      <td>1.000562e+00</td>\n",
              "      <td>1.000562e+00</td>\n",
              "      <td>1.000562e+00</td>\n",
              "      <td>1.000562e+00</td>\n",
              "      <td>1.000562e+00</td>\n",
              "      <td>1.000562e+00</td>\n",
              "      <td>1.000562e+00</td>\n",
              "      <td>1.000562e+00</td>\n",
              "    </tr>\n",
              "    <tr>\n",
              "      <th>min</th>\n",
              "      <td>-1.566107e+00</td>\n",
              "      <td>-7.376951e-01</td>\n",
              "      <td>-1.787905e+00</td>\n",
              "      <td>-4.745452e-01</td>\n",
              "      <td>-4.736736e-01</td>\n",
              "      <td>-1.671948e+00</td>\n",
              "      <td>-5.707655e-01</td>\n",
              "      <td>-5.428218e-01</td>\n",
              "    </tr>\n",
              "    <tr>\n",
              "      <th>25%</th>\n",
              "      <td>-3.693648e-01</td>\n",
              "      <td>-7.376951e-01</td>\n",
              "      <td>-6.278361e-01</td>\n",
              "      <td>-4.745452e-01</td>\n",
              "      <td>-4.736736e-01</td>\n",
              "      <td>-9.184295e-01</td>\n",
              "      <td>-5.707655e-01</td>\n",
              "      <td>-5.428218e-01</td>\n",
              "    </tr>\n",
              "    <tr>\n",
              "      <th>50%</th>\n",
              "      <td>8.273772e-01</td>\n",
              "      <td>-7.376951e-01</td>\n",
              "      <td>-4.780148e-02</td>\n",
              "      <td>-4.745452e-01</td>\n",
              "      <td>-4.736736e-01</td>\n",
              "      <td>-8.955957e-02</td>\n",
              "      <td>-5.707655e-01</td>\n",
              "      <td>-5.428218e-01</td>\n",
              "    </tr>\n",
              "    <tr>\n",
              "      <th>75%</th>\n",
              "      <td>8.273772e-01</td>\n",
              "      <td>1.355574e+00</td>\n",
              "      <td>6.979574e-01</td>\n",
              "      <td>4.327934e-01</td>\n",
              "      <td>-4.736736e-01</td>\n",
              "      <td>8.146622e-01</td>\n",
              "      <td>1.003699e+00</td>\n",
              "      <td>6.170204e-01</td>\n",
              "    </tr>\n",
              "    <tr>\n",
              "      <th>max</th>\n",
              "      <td>8.273772e-01</td>\n",
              "      <td>1.355574e+00</td>\n",
              "      <td>1.940889e+00</td>\n",
              "      <td>6.784163e+00</td>\n",
              "      <td>6.974147e+00</td>\n",
              "      <td>1.718884e+00</td>\n",
              "      <td>2.578164e+00</td>\n",
              "      <td>8.735916e+00</td>\n",
              "    </tr>\n",
              "  </tbody>\n",
              "</table>\n",
              "</div>"
            ],
            "text/plain": [
              "             Pclass           Sex  ...      Embarked         Title\n",
              "count  8.910000e+02  8.910000e+02  ...  8.910000e+02  8.910000e+02\n",
              "mean  -2.031048e-16  3.162453e-16  ... -6.230208e-17  2.367479e-17\n",
              "std    1.000562e+00  1.000562e+00  ...  1.000562e+00  1.000562e+00\n",
              "min   -1.566107e+00 -7.376951e-01  ... -5.707655e-01 -5.428218e-01\n",
              "25%   -3.693648e-01 -7.376951e-01  ... -5.707655e-01 -5.428218e-01\n",
              "50%    8.273772e-01 -7.376951e-01  ... -5.707655e-01 -5.428218e-01\n",
              "75%    8.273772e-01  1.355574e+00  ...  1.003699e+00  6.170204e-01\n",
              "max    8.273772e-01  1.355574e+00  ...  2.578164e+00  8.735916e+00\n",
              "\n",
              "[8 rows x 8 columns]"
            ]
          },
          "metadata": {
            "tags": []
          }
        }
      ]
    },
    {
      "cell_type": "code",
      "metadata": {
        "id": "VQDMtS_c7ixI",
        "colab_type": "code",
        "outputId": "90880bf6-60f9-421b-9b13-0ba4a9542975",
        "colab": {
          "base_uri": "https://localhost:8080/",
          "height": 297
        }
      },
      "source": [
        "# Estadísticas del DataFrame test\n",
        "display(X_test.describe())"
      ],
      "execution_count": 66,
      "outputs": [
        {
          "output_type": "display_data",
          "data": {
            "text/html": [
              "<div>\n",
              "<style scoped>\n",
              "    .dataframe tbody tr th:only-of-type {\n",
              "        vertical-align: middle;\n",
              "    }\n",
              "\n",
              "    .dataframe tbody tr th {\n",
              "        vertical-align: top;\n",
              "    }\n",
              "\n",
              "    .dataframe thead th {\n",
              "        text-align: right;\n",
              "    }\n",
              "</style>\n",
              "<table border=\"1\" class=\"dataframe\">\n",
              "  <thead>\n",
              "    <tr style=\"text-align: right;\">\n",
              "      <th></th>\n",
              "      <th>Pclass</th>\n",
              "      <th>Sex</th>\n",
              "      <th>Age</th>\n",
              "      <th>SibSp</th>\n",
              "      <th>Parch</th>\n",
              "      <th>Fare</th>\n",
              "      <th>Embarked</th>\n",
              "      <th>Title</th>\n",
              "    </tr>\n",
              "  </thead>\n",
              "  <tbody>\n",
              "    <tr>\n",
              "      <th>count</th>\n",
              "      <td>418.000000</td>\n",
              "      <td>418.000000</td>\n",
              "      <td>418.000000</td>\n",
              "      <td>418.000000</td>\n",
              "      <td>418.000000</td>\n",
              "      <td>418.000000</td>\n",
              "      <td>418.000000</td>\n",
              "      <td>418.000000</td>\n",
              "    </tr>\n",
              "    <tr>\n",
              "      <th>mean</th>\n",
              "      <td>-0.051570</td>\n",
              "      <td>0.023493</td>\n",
              "      <td>-0.000027</td>\n",
              "      <td>-0.068631</td>\n",
              "      <td>0.013345</td>\n",
              "      <td>0.027434</td>\n",
              "      <td>0.159967</td>\n",
              "      <td>-0.067231</td>\n",
              "    </tr>\n",
              "    <tr>\n",
              "      <th>std</th>\n",
              "      <td>1.007462</td>\n",
              "      <td>1.008165</td>\n",
              "      <td>1.058201</td>\n",
              "      <td>0.813665</td>\n",
              "      <td>1.218251</td>\n",
              "      <td>1.017912</td>\n",
              "      <td>1.079321</td>\n",
              "      <td>0.794717</td>\n",
              "    </tr>\n",
              "    <tr>\n",
              "      <th>min</th>\n",
              "      <td>-1.566107</td>\n",
              "      <td>-0.737695</td>\n",
              "      <td>-1.787905</td>\n",
              "      <td>-0.474545</td>\n",
              "      <td>-0.473674</td>\n",
              "      <td>-1.671948</td>\n",
              "      <td>-0.570766</td>\n",
              "      <td>-0.542822</td>\n",
              "    </tr>\n",
              "    <tr>\n",
              "      <th>25%</th>\n",
              "      <td>-1.566107</td>\n",
              "      <td>-0.737695</td>\n",
              "      <td>-0.793560</td>\n",
              "      <td>-0.474545</td>\n",
              "      <td>-0.473674</td>\n",
              "      <td>-0.843078</td>\n",
              "      <td>-0.570766</td>\n",
              "      <td>-0.542822</td>\n",
              "    </tr>\n",
              "    <tr>\n",
              "      <th>50%</th>\n",
              "      <td>0.827377</td>\n",
              "      <td>-0.737695</td>\n",
              "      <td>0.035061</td>\n",
              "      <td>-0.474545</td>\n",
              "      <td>-0.473674</td>\n",
              "      <td>-0.051884</td>\n",
              "      <td>-0.570766</td>\n",
              "      <td>-0.542822</td>\n",
              "    </tr>\n",
              "    <tr>\n",
              "      <th>75%</th>\n",
              "      <td>0.827377</td>\n",
              "      <td>1.355574</td>\n",
              "      <td>0.697957</td>\n",
              "      <td>0.432793</td>\n",
              "      <td>-0.473674</td>\n",
              "      <td>0.965366</td>\n",
              "      <td>1.003699</td>\n",
              "      <td>0.588024</td>\n",
              "    </tr>\n",
              "    <tr>\n",
              "      <th>max</th>\n",
              "      <td>0.827377</td>\n",
              "      <td>1.355574</td>\n",
              "      <td>1.940889</td>\n",
              "      <td>6.784163</td>\n",
              "      <td>10.698058</td>\n",
              "      <td>1.718884</td>\n",
              "      <td>2.578164</td>\n",
              "      <td>6.996152</td>\n",
              "    </tr>\n",
              "  </tbody>\n",
              "</table>\n",
              "</div>"
            ],
            "text/plain": [
              "           Pclass         Sex         Age  ...        Fare    Embarked       Title\n",
              "count  418.000000  418.000000  418.000000  ...  418.000000  418.000000  418.000000\n",
              "mean    -0.051570    0.023493   -0.000027  ...    0.027434    0.159967   -0.067231\n",
              "std      1.007462    1.008165    1.058201  ...    1.017912    1.079321    0.794717\n",
              "min     -1.566107   -0.737695   -1.787905  ...   -1.671948   -0.570766   -0.542822\n",
              "25%     -1.566107   -0.737695   -0.793560  ...   -0.843078   -0.570766   -0.542822\n",
              "50%      0.827377   -0.737695    0.035061  ...   -0.051884   -0.570766   -0.542822\n",
              "75%      0.827377    1.355574    0.697957  ...    0.965366    1.003699    0.588024\n",
              "max      0.827377    1.355574    1.940889  ...    1.718884    2.578164    6.996152\n",
              "\n",
              "[8 rows x 8 columns]"
            ]
          },
          "metadata": {
            "tags": []
          }
        }
      ]
    },
    {
      "cell_type": "markdown",
      "metadata": {
        "id": "zddc4RrCquqj",
        "colab_type": "text"
      },
      "source": [
        "## Análisis de correlación\n"
      ]
    },
    {
      "cell_type": "code",
      "metadata": {
        "id": "N9JF8kE7fwg8",
        "colab_type": "code",
        "colab": {}
      },
      "source": [
        "# Se vuelven a unir las características con la clase a predecir\n",
        "# para poder aplicar los tests\n",
        "Xy_train = X_train.copy()\n",
        "Xy_train['Survived'] = y_train"
      ],
      "execution_count": 0,
      "outputs": []
    },
    {
      "cell_type": "code",
      "metadata": {
        "id": "goolCstyp5yy",
        "colab_type": "code",
        "outputId": "4c6253f6-f95d-4d6f-cf4a-483101770fc2",
        "colab": {
          "base_uri": "https://localhost:8080/",
          "height": 537
        }
      },
      "source": [
        "# Se calcula la matriz de correlación\n",
        "corr = Xy_train.corr()\n",
        "\n",
        "# Se muestra un gráfico con los valores de la matriz de correlación\n",
        "mask = np.triu(np.ones_like(corr, dtype=np.bool))\n",
        "f, ax = plt.subplots(figsize=(11, 9))\n",
        "cmap = sns.diverging_palette(220, 10, as_cmap=True)\n",
        "plot = sns.heatmap(corr, mask=mask, cmap=cmap, vmax=.3, center=0,\n",
        "            square=True, linewidths=.5, cbar_kws={\"shrink\": .5})"
      ],
      "execution_count": 68,
      "outputs": [
        {
          "output_type": "display_data",
          "data": {
            "image/png": "[encoded data removed]",
            "text/plain": [
              "<Figure size 792x648 with 2 Axes>"
            ]
          },
          "metadata": {
            "tags": [],
            "needs_background": "light"
          }
        }
      ]
    },
    {
      "cell_type": "markdown",
      "metadata": {
        "id": "HGa9uiU5uzin",
        "colab_type": "text"
      },
      "source": [
        "## Análisis predictivo"
      ]
    },
    {
      "cell_type": "code",
      "metadata": {
        "id": "ZJ7tLNY-HDHX",
        "colab_type": "code",
        "colab": {}
      },
      "source": [
        "# Se separa el conjunto de entrenamieto original en un nuevo\n",
        "# conjunto de entrenamiento y otro de validación del modelo\n",
        "X_train, X_val, y_train, y_val = train_test_split(X_train, y_train, test_size=val_size)"
      ],
      "execution_count": 0,
      "outputs": []
    },
    {
      "cell_type": "markdown",
      "metadata": {
        "id": "JAI_dGwJBnV9",
        "colab_type": "text"
      },
      "source": [
        "### Modeolo de regresion logística"
      ]
    },
    {
      "cell_type": "code",
      "metadata": {
        "id": "mWxWapuBjbit",
        "colab_type": "code",
        "outputId": "725601aa-e1fe-47e0-c982-d22743325988",
        "colab": {
          "base_uri": "https://localhost:8080/",
          "height": 85
        }
      },
      "source": [
        "# Se genera un modelo de regresión logística a partir del subconjunto de \n",
        "# datos de entrenamiento\n",
        "model_lr = LogisticRegression(solver = 'lbfgs')\n",
        "model_lr.fit(X_train, y_train.values.ravel())\n",
        "\n",
        "# Precisión del modelo de regresión logística\n",
        "y_pred_lr = model_lr.predict(X_val)\n",
        "\n",
        "val_acc_lr = round(accuracy_score(y_val, y_pred_lr, normalize=True),6)\n",
        "val_cmatrix_lr = confusion_matrix(y_val, y_pred_lr)\n",
        "\n",
        "print('Matriz de confusión del modelo:\\n', val_cmatrix_lr)\n",
        "print('Precisión del modelo:', val_acc_lr)"
      ],
      "execution_count": 97,
      "outputs": [
        {
          "output_type": "stream",
          "text": [
            "Matriz de confusión del modelo:\n",
            " [[24  3]\n",
            " [ 6 15]]\n",
            "Precisión del modelo: 0.8125\n"
          ],
          "name": "stdout"
        }
      ]
    },
    {
      "cell_type": "code",
      "metadata": {
        "id": "IyIB_KkTB5h5",
        "colab_type": "code",
        "outputId": "ad26de38-d72e-4262-bb26-297c21cbea01",
        "colab": {
          "base_uri": "https://localhost:8080/",
          "height": 515
        }
      },
      "source": [
        "# Generar DataFrame de predicciones a partir del DataFrame de test\n",
        "df_pred_lr = pd.DataFrame(model_lr.predict(X_test), columns=['Survived'], index = df_test.index)\n",
        "display(df_pred_lr.head())\n",
        "display(df_pred_lr.describe())"
      ],
      "execution_count": 98,
      "outputs": [
        {
          "output_type": "display_data",
          "data": {
            "text/html": [
              "<div>\n",
              "<style scoped>\n",
              "    .dataframe tbody tr th:only-of-type {\n",
              "        vertical-align: middle;\n",
              "    }\n",
              "\n",
              "    .dataframe tbody tr th {\n",
              "        vertical-align: top;\n",
              "    }\n",
              "\n",
              "    .dataframe thead th {\n",
              "        text-align: right;\n",
              "    }\n",
              "</style>\n",
              "<table border=\"1\" class=\"dataframe\">\n",
              "  <thead>\n",
              "    <tr style=\"text-align: right;\">\n",
              "      <th></th>\n",
              "      <th>Survived</th>\n",
              "    </tr>\n",
              "    <tr>\n",
              "      <th>PassengerId</th>\n",
              "      <th></th>\n",
              "    </tr>\n",
              "  </thead>\n",
              "  <tbody>\n",
              "    <tr>\n",
              "      <th>892</th>\n",
              "      <td>0</td>\n",
              "    </tr>\n",
              "    <tr>\n",
              "      <th>893</th>\n",
              "      <td>1</td>\n",
              "    </tr>\n",
              "    <tr>\n",
              "      <th>894</th>\n",
              "      <td>0</td>\n",
              "    </tr>\n",
              "    <tr>\n",
              "      <th>895</th>\n",
              "      <td>0</td>\n",
              "    </tr>\n",
              "    <tr>\n",
              "      <th>896</th>\n",
              "      <td>1</td>\n",
              "    </tr>\n",
              "  </tbody>\n",
              "</table>\n",
              "</div>"
            ],
            "text/plain": [
              "             Survived\n",
              "PassengerId          \n",
              "892                 0\n",
              "893                 1\n",
              "894                 0\n",
              "895                 0\n",
              "896                 1"
            ]
          },
          "metadata": {
            "tags": []
          }
        },
        {
          "output_type": "display_data",
          "data": {
            "text/html": [
              "<div>\n",
              "<style scoped>\n",
              "    .dataframe tbody tr th:only-of-type {\n",
              "        vertical-align: middle;\n",
              "    }\n",
              "\n",
              "    .dataframe tbody tr th {\n",
              "        vertical-align: top;\n",
              "    }\n",
              "\n",
              "    .dataframe thead th {\n",
              "        text-align: right;\n",
              "    }\n",
              "</style>\n",
              "<table border=\"1\" class=\"dataframe\">\n",
              "  <thead>\n",
              "    <tr style=\"text-align: right;\">\n",
              "      <th></th>\n",
              "      <th>Survived</th>\n",
              "    </tr>\n",
              "  </thead>\n",
              "  <tbody>\n",
              "    <tr>\n",
              "      <th>count</th>\n",
              "      <td>418.000000</td>\n",
              "    </tr>\n",
              "    <tr>\n",
              "      <th>mean</th>\n",
              "      <td>0.358852</td>\n",
              "    </tr>\n",
              "    <tr>\n",
              "      <th>std</th>\n",
              "      <td>0.480238</td>\n",
              "    </tr>\n",
              "    <tr>\n",
              "      <th>min</th>\n",
              "      <td>0.000000</td>\n",
              "    </tr>\n",
              "    <tr>\n",
              "      <th>25%</th>\n",
              "      <td>0.000000</td>\n",
              "    </tr>\n",
              "    <tr>\n",
              "      <th>50%</th>\n",
              "      <td>0.000000</td>\n",
              "    </tr>\n",
              "    <tr>\n",
              "      <th>75%</th>\n",
              "      <td>1.000000</td>\n",
              "    </tr>\n",
              "    <tr>\n",
              "      <th>max</th>\n",
              "      <td>1.000000</td>\n",
              "    </tr>\n",
              "  </tbody>\n",
              "</table>\n",
              "</div>"
            ],
            "text/plain": [
              "         Survived\n",
              "count  418.000000\n",
              "mean     0.358852\n",
              "std      0.480238\n",
              "min      0.000000\n",
              "25%      0.000000\n",
              "50%      0.000000\n",
              "75%      1.000000\n",
              "max      1.000000"
            ]
          },
          "metadata": {
            "tags": []
          }
        }
      ]
    },
    {
      "cell_type": "markdown",
      "metadata": {
        "id": "GtM2D39zGR6o",
        "colab_type": "text"
      },
      "source": [
        "### Modelo supervisado: red neuronal"
      ]
    },
    {
      "cell_type": "code",
      "metadata": {
        "id": "lVHjvXzSu1ff",
        "colab_type": "code",
        "colab": {}
      },
      "source": [
        "# Se define una función para el entrenamiento de la red neuronal\n",
        "def train_ann_model(model, X_train, y_train, X_val, y_val, epochs, batch_size, patience, shuffle=True):\n",
        "    # Se configura el entrenamiento para finalizarlo antes de tiempo si el error de validación\n",
        "    # crece durante el número de épocas establecido por el parámetro patience\n",
        "    es = EarlyStopping(monitor='val_loss', mode='min', verbose=1, patience=patience)\n",
        "\n",
        "    # Se guarda el modelo con menor error de validación\n",
        "    mc = ModelCheckpoint('best_model.h5', monitor='val_loss', mode='min', verbose=0, save_best_only=True)\n",
        "\n",
        "    # Se entrena el modelo\n",
        "    history = model.fit(X_train, y_train, validation_data=(X_val, y_val), epochs=epochs, batch_size=batch_size, verbose=1, shuffle=shuffle, callbacks=[es, mc])\n",
        "\n",
        "    # Se muestra una gráfica con la evolución de los errores de entrenamiento\n",
        "    # y validación durante el entrenamieto\n",
        "    plt.plot(history.history['loss'], label='train')\n",
        "    plt.plot(history.history['val_loss'], label='val')\n",
        "    plt.legend()\n",
        "    plt.show()\n",
        "  \n",
        "    # Se carga el modelo con menor error de validación\n",
        "    model = load_model('best_model.h5')\n",
        "\n",
        "    # Se evalua la precisión del modelo obtenido\n",
        "    trainScore = model.evaluate(X_train, y_train, batch_size=batch_size, verbose=0)\n",
        "    valScore = model.evaluate(X_val, y_val, batch_size=batch_size, verbose=0)\n",
        "  \n",
        "    print('Train Loss: %.6f' % trainScore[0])\n",
        "    print('Train Accuracy: %.6f' % trainScore[1])\n",
        "    print('Val Loss: %.6f' % valScore[0])\n",
        "    print('Val Accuracy: %.6f' % valScore[1])\n",
        "  \n",
        "    # Se devuelve el modelo obtenido después del entrenamieto\n",
        "    return model"
      ],
      "execution_count": 0,
      "outputs": []
    },
    {
      "cell_type": "code",
      "metadata": {
        "id": "Xef_UtJ2veEZ",
        "colab_type": "code",
        "colab": {}
      },
      "source": [
        "# Se define una función para entrenar red neuronal\n",
        "def ann_model(X_train, X_val, y_train, y_val, epochs, batch_size, lr, patience, \n",
        "              neurons, shuffle=True): \n",
        "  # Se obtienen el número de neuronas de entrada y salida del la red neuronal\n",
        "  # a partir de las dimensiones del conjunto de entrenamiento\n",
        "  n_input =  X_train.shape[1]\n",
        "  n_output = y_train.shape[1]\n",
        "  \n",
        "  # Se define la red neuronal\n",
        "  model = Sequential([\n",
        "      # Capa de entrada con el numero de neuronas obtenido anteriormente\n",
        "      # y función de activación relu\n",
        "      Dense(n_input, input_dim=n_input, activation='relu'),\n",
        "      # Capa oculta con el número de neuronas definido como parámetro\n",
        "      # y función de activación relu\n",
        "      Dense(neurons, activation='relu'),\n",
        "      # Capa de salida con el número de neuronas obtenido anteriormente \n",
        "      # y función de activación sigmoide para que la red funcione como \n",
        "      # un clasificador binario\n",
        "      Dense(n_output, activation='sigmoid')\n",
        "  ])\n",
        "  \n",
        "  # Se optimiza la red neuronal definida \n",
        "  # con la función de coste binary_crossentropy\n",
        "  # utilizando como ratio de aprendizaje el definido como parámetro\n",
        "  model.compile(optimizer=Adam(lr=lr), loss='binary_crossentropy', \n",
        "                metrics=['accuracy'])\n",
        "\n",
        "  # Se entrena el modelo de red neuronal definido\n",
        "  model = train_ann_model(model, X_train, y_train, X_val, y_val, epochs, \n",
        "                          batch_size, patience, shuffle)\n",
        "  \n",
        "  # Se devuelve el modelo obtenido después del entrenamieto\n",
        "  return model"
      ],
      "execution_count": 0,
      "outputs": []
    },
    {
      "cell_type": "code",
      "metadata": {
        "id": "o_MSlFfIvbZB",
        "colab_type": "code",
        "colab": {}
      },
      "source": [
        "# Predicciones para el modelo de red neuronal\n",
        "def predict_with_ann_model(model, X, batch_size):\n",
        "  # Se realizan las preducciones para el modelo dado\n",
        "  y_pred = (model.predict(X, batch_size=batch_size) > 0.5).astype(\"int32\")\n",
        "\n",
        "  # Se devuelven las predicciones\n",
        "  return y_pred"
      ],
      "execution_count": 0,
      "outputs": []
    },
    {
      "cell_type": "code",
      "metadata": {
        "id": "7S2bc6uRwaTa",
        "colab_type": "code",
        "outputId": "95ca986f-4171-4e0b-dab3-2995e4f9ef45",
        "colab": {
          "base_uri": "https://localhost:8080/",
          "height": 1000
        }
      },
      "source": [
        "# Se implementa y entrena el modelo de red neuronal\n",
        "model_ann = ann_model(X_train, X_val, y_train, y_val, epochs=epochs, batch_size=batch_size, lr=lr, patience=patience, neurons=neurons)"
      ],
      "execution_count": 94,
      "outputs": [
        {
          "output_type": "stream",
          "text": [
            "Epoch 1/200\n",
            "423/423 [==============================] - 1s 2ms/step - loss: 0.7217 - accuracy: 0.3570 - val_loss: 0.7046 - val_accuracy: 0.5208\n",
            "Epoch 2/200\n",
            "423/423 [==============================] - 1s 1ms/step - loss: 0.6541 - accuracy: 0.6099 - val_loss: 0.6562 - val_accuracy: 0.5625\n",
            "Epoch 3/200\n",
            "423/423 [==============================] - 1s 1ms/step - loss: 0.6122 - accuracy: 0.6312 - val_loss: 0.6237 - val_accuracy: 0.5625\n",
            "Epoch 4/200\n",
            "423/423 [==============================] - 1s 1ms/step - loss: 0.5824 - accuracy: 0.6383 - val_loss: 0.5989 - val_accuracy: 0.6250\n",
            "Epoch 5/200\n",
            "423/423 [==============================] - 1s 1ms/step - loss: 0.5589 - accuracy: 0.7281 - val_loss: 0.5777 - val_accuracy: 0.7083\n",
            "Epoch 6/200\n",
            "423/423 [==============================] - 1s 1ms/step - loss: 0.5389 - accuracy: 0.7612 - val_loss: 0.5580 - val_accuracy: 0.7708\n",
            "Epoch 7/200\n",
            "423/423 [==============================] - 1s 1ms/step - loss: 0.5206 - accuracy: 0.7707 - val_loss: 0.5404 - val_accuracy: 0.7708\n",
            "Epoch 8/200\n",
            "423/423 [==============================] - 1s 1ms/step - loss: 0.5044 - accuracy: 0.7730 - val_loss: 0.5216 - val_accuracy: 0.7500\n",
            "Epoch 9/200\n",
            "423/423 [==============================] - 1s 1ms/step - loss: 0.4886 - accuracy: 0.7943 - val_loss: 0.4996 - val_accuracy: 0.7708\n",
            "Epoch 10/200\n",
            "423/423 [==============================] - 1s 1ms/step - loss: 0.4745 - accuracy: 0.8014 - val_loss: 0.4857 - val_accuracy: 0.8125\n",
            "Epoch 11/200\n",
            "423/423 [==============================] - 1s 1ms/step - loss: 0.4623 - accuracy: 0.8038 - val_loss: 0.4705 - val_accuracy: 0.8333\n",
            "Epoch 12/200\n",
            "423/423 [==============================] - 1s 1ms/step - loss: 0.4523 - accuracy: 0.7967 - val_loss: 0.4600 - val_accuracy: 0.8333\n",
            "Epoch 13/200\n",
            "423/423 [==============================] - 1s 1ms/step - loss: 0.4442 - accuracy: 0.8014 - val_loss: 0.4503 - val_accuracy: 0.8333\n",
            "Epoch 14/200\n",
            "423/423 [==============================] - 1s 1ms/step - loss: 0.4365 - accuracy: 0.7967 - val_loss: 0.4407 - val_accuracy: 0.8333\n",
            "Epoch 15/200\n",
            "423/423 [==============================] - 1s 1ms/step - loss: 0.4319 - accuracy: 0.7991 - val_loss: 0.4373 - val_accuracy: 0.8333\n",
            "Epoch 16/200\n",
            "423/423 [==============================] - 1s 1ms/step - loss: 0.4263 - accuracy: 0.8038 - val_loss: 0.4313 - val_accuracy: 0.8542\n",
            "Epoch 17/200\n",
            "423/423 [==============================] - 1s 1ms/step - loss: 0.4221 - accuracy: 0.8014 - val_loss: 0.4267 - val_accuracy: 0.8542\n",
            "Epoch 18/200\n",
            "423/423 [==============================] - 1s 1ms/step - loss: 0.4182 - accuracy: 0.7967 - val_loss: 0.4240 - val_accuracy: 0.8542\n",
            "Epoch 19/200\n",
            "423/423 [==============================] - 1s 1ms/step - loss: 0.4151 - accuracy: 0.7991 - val_loss: 0.4203 - val_accuracy: 0.8542\n",
            "Epoch 20/200\n",
            "423/423 [==============================] - 1s 1ms/step - loss: 0.4126 - accuracy: 0.8061 - val_loss: 0.4182 - val_accuracy: 0.8542\n",
            "Epoch 21/200\n",
            "423/423 [==============================] - 1s 1ms/step - loss: 0.4097 - accuracy: 0.8014 - val_loss: 0.4149 - val_accuracy: 0.8542\n",
            "Epoch 22/200\n",
            "423/423 [==============================] - 1s 1ms/step - loss: 0.4073 - accuracy: 0.8038 - val_loss: 0.4136 - val_accuracy: 0.8542\n",
            "Epoch 23/200\n",
            "423/423 [==============================] - 1s 1ms/step - loss: 0.4056 - accuracy: 0.8038 - val_loss: 0.4117 - val_accuracy: 0.8542\n",
            "Epoch 24/200\n",
            "423/423 [==============================] - 1s 1ms/step - loss: 0.4035 - accuracy: 0.8085 - val_loss: 0.4099 - val_accuracy: 0.8542\n",
            "Epoch 25/200\n",
            "423/423 [==============================] - 1s 1ms/step - loss: 0.4007 - accuracy: 0.8180 - val_loss: 0.4049 - val_accuracy: 0.8542\n",
            "Epoch 26/200\n",
            "423/423 [==============================] - 1s 1ms/step - loss: 0.3989 - accuracy: 0.8109 - val_loss: 0.4038 - val_accuracy: 0.8542\n",
            "Epoch 27/200\n",
            "423/423 [==============================] - 1s 1ms/step - loss: 0.3968 - accuracy: 0.8203 - val_loss: 0.4013 - val_accuracy: 0.8542\n",
            "Epoch 28/200\n",
            "423/423 [==============================] - 1s 1ms/step - loss: 0.3949 - accuracy: 0.8132 - val_loss: 0.4012 - val_accuracy: 0.8542\n",
            "Epoch 29/200\n",
            "423/423 [==============================] - 1s 1ms/step - loss: 0.3929 - accuracy: 0.8227 - val_loss: 0.4001 - val_accuracy: 0.8542\n",
            "Epoch 30/200\n",
            "423/423 [==============================] - 1s 1ms/step - loss: 0.3912 - accuracy: 0.8203 - val_loss: 0.3991 - val_accuracy: 0.8542\n",
            "Epoch 31/200\n",
            "423/423 [==============================] - 1s 1ms/step - loss: 0.3892 - accuracy: 0.8274 - val_loss: 0.3969 - val_accuracy: 0.8542\n",
            "Epoch 32/200\n",
            "423/423 [==============================] - 1s 1ms/step - loss: 0.3880 - accuracy: 0.8274 - val_loss: 0.3961 - val_accuracy: 0.8542\n",
            "Epoch 33/200\n",
            "423/423 [==============================] - 1s 1ms/step - loss: 0.3858 - accuracy: 0.8345 - val_loss: 0.3953 - val_accuracy: 0.8542\n",
            "Epoch 34/200\n",
            "423/423 [==============================] - 1s 1ms/step - loss: 0.3843 - accuracy: 0.8298 - val_loss: 0.3931 - val_accuracy: 0.8542\n",
            "Epoch 35/200\n",
            "423/423 [==============================] - 1s 1ms/step - loss: 0.3835 - accuracy: 0.8274 - val_loss: 0.3912 - val_accuracy: 0.8542\n",
            "Epoch 36/200\n",
            "423/423 [==============================] - 1s 1ms/step - loss: 0.3818 - accuracy: 0.8345 - val_loss: 0.3896 - val_accuracy: 0.8542\n",
            "Epoch 37/200\n",
            "423/423 [==============================] - 1s 1ms/step - loss: 0.3806 - accuracy: 0.8274 - val_loss: 0.3882 - val_accuracy: 0.8333\n",
            "Epoch 38/200\n",
            "423/423 [==============================] - 1s 1ms/step - loss: 0.3790 - accuracy: 0.8274 - val_loss: 0.3882 - val_accuracy: 0.8542\n",
            "Epoch 39/200\n",
            "423/423 [==============================] - 1s 1ms/step - loss: 0.3777 - accuracy: 0.8345 - val_loss: 0.3872 - val_accuracy: 0.8333\n",
            "Epoch 40/200\n",
            "423/423 [==============================] - 1s 1ms/step - loss: 0.3766 - accuracy: 0.8369 - val_loss: 0.3854 - val_accuracy: 0.8125\n",
            "Epoch 41/200\n",
            "423/423 [==============================] - 1s 1ms/step - loss: 0.3754 - accuracy: 0.8369 - val_loss: 0.3853 - val_accuracy: 0.8333\n",
            "Epoch 42/200\n",
            "423/423 [==============================] - 1s 1ms/step - loss: 0.3749 - accuracy: 0.8392 - val_loss: 0.3839 - val_accuracy: 0.8125\n",
            "Epoch 43/200\n",
            "423/423 [==============================] - 1s 1ms/step - loss: 0.3729 - accuracy: 0.8392 - val_loss: 0.3837 - val_accuracy: 0.8125\n",
            "Epoch 44/200\n",
            "423/423 [==============================] - 1s 1ms/step - loss: 0.3721 - accuracy: 0.8487 - val_loss: 0.3822 - val_accuracy: 0.8125\n",
            "Epoch 45/200\n",
            "423/423 [==============================] - 1s 1ms/step - loss: 0.3711 - accuracy: 0.8392 - val_loss: 0.3810 - val_accuracy: 0.8125\n",
            "Epoch 46/200\n",
            "423/423 [==============================] - 1s 1ms/step - loss: 0.3708 - accuracy: 0.8440 - val_loss: 0.3799 - val_accuracy: 0.8125\n",
            "Epoch 47/200\n",
            "423/423 [==============================] - 1s 1ms/step - loss: 0.3685 - accuracy: 0.8440 - val_loss: 0.3786 - val_accuracy: 0.8125\n",
            "Epoch 48/200\n",
            "423/423 [==============================] - 1s 1ms/step - loss: 0.3685 - accuracy: 0.8416 - val_loss: 0.3780 - val_accuracy: 0.8125\n",
            "Epoch 49/200\n",
            "423/423 [==============================] - 1s 1ms/step - loss: 0.3671 - accuracy: 0.8392 - val_loss: 0.3776 - val_accuracy: 0.8125\n",
            "Epoch 50/200\n",
            "423/423 [==============================] - 1s 1ms/step - loss: 0.3665 - accuracy: 0.8416 - val_loss: 0.3771 - val_accuracy: 0.8125\n",
            "Epoch 51/200\n",
            "423/423 [==============================] - 1s 1ms/step - loss: 0.3654 - accuracy: 0.8392 - val_loss: 0.3764 - val_accuracy: 0.8125\n",
            "Epoch 52/200\n",
            "423/423 [==============================] - 1s 1ms/step - loss: 0.3647 - accuracy: 0.8440 - val_loss: 0.3757 - val_accuracy: 0.8125\n",
            "Epoch 53/200\n",
            "423/423 [==============================] - 1s 1ms/step - loss: 0.3635 - accuracy: 0.8345 - val_loss: 0.3752 - val_accuracy: 0.8125\n",
            "Epoch 54/200\n",
            "423/423 [==============================] - 1s 1ms/step - loss: 0.3626 - accuracy: 0.8392 - val_loss: 0.3749 - val_accuracy: 0.8125\n",
            "Epoch 55/200\n",
            "423/423 [==============================] - 1s 1ms/step - loss: 0.3621 - accuracy: 0.8345 - val_loss: 0.3734 - val_accuracy: 0.8333\n",
            "Epoch 56/200\n",
            "423/423 [==============================] - 1s 1ms/step - loss: 0.3613 - accuracy: 0.8345 - val_loss: 0.3727 - val_accuracy: 0.8542\n",
            "Epoch 57/200\n",
            "423/423 [==============================] - 1s 1ms/step - loss: 0.3605 - accuracy: 0.8392 - val_loss: 0.3721 - val_accuracy: 0.8542\n",
            "Epoch 58/200\n",
            "423/423 [==============================] - 1s 1ms/step - loss: 0.3588 - accuracy: 0.8369 - val_loss: 0.3712 - val_accuracy: 0.8542\n",
            "Epoch 59/200\n",
            "423/423 [==============================] - 1s 1ms/step - loss: 0.3588 - accuracy: 0.8369 - val_loss: 0.3712 - val_accuracy: 0.8542\n",
            "Epoch 60/200\n",
            "423/423 [==============================] - 1s 1ms/step - loss: 0.3580 - accuracy: 0.8345 - val_loss: 0.3709 - val_accuracy: 0.8542\n",
            "Epoch 61/200\n",
            "423/423 [==============================] - 1s 1ms/step - loss: 0.3566 - accuracy: 0.8416 - val_loss: 0.3706 - val_accuracy: 0.8542\n",
            "Epoch 62/200\n",
            "423/423 [==============================] - 1s 1ms/step - loss: 0.3562 - accuracy: 0.8392 - val_loss: 0.3706 - val_accuracy: 0.8542\n",
            "Epoch 63/200\n",
            "423/423 [==============================] - 1s 1ms/step - loss: 0.3554 - accuracy: 0.8369 - val_loss: 0.3702 - val_accuracy: 0.8542\n",
            "Epoch 64/200\n",
            "423/423 [==============================] - 1s 1ms/step - loss: 0.3549 - accuracy: 0.8416 - val_loss: 0.3701 - val_accuracy: 0.8542\n",
            "Epoch 65/200\n",
            "423/423 [==============================] - 1s 1ms/step - loss: 0.3540 - accuracy: 0.8440 - val_loss: 0.3699 - val_accuracy: 0.8542\n",
            "Epoch 66/200\n",
            "423/423 [==============================] - 1s 1ms/step - loss: 0.3536 - accuracy: 0.8416 - val_loss: 0.3699 - val_accuracy: 0.8542\n",
            "Epoch 67/200\n",
            "423/423 [==============================] - 1s 1ms/step - loss: 0.3526 - accuracy: 0.8463 - val_loss: 0.3695 - val_accuracy: 0.8542\n",
            "Epoch 68/200\n",
            "423/423 [==============================] - 1s 1ms/step - loss: 0.3520 - accuracy: 0.8392 - val_loss: 0.3703 - val_accuracy: 0.8333\n",
            "Epoch 69/200\n",
            "423/423 [==============================] - 1s 1ms/step - loss: 0.3516 - accuracy: 0.8463 - val_loss: 0.3694 - val_accuracy: 0.8333\n",
            "Epoch 70/200\n",
            "423/423 [==============================] - 1s 1ms/step - loss: 0.3512 - accuracy: 0.8463 - val_loss: 0.3690 - val_accuracy: 0.8333\n",
            "Epoch 71/200\n",
            "423/423 [==============================] - 1s 1ms/step - loss: 0.3502 - accuracy: 0.8463 - val_loss: 0.3690 - val_accuracy: 0.8333\n",
            "Epoch 72/200\n",
            "423/423 [==============================] - 1s 1ms/step - loss: 0.3495 - accuracy: 0.8487 - val_loss: 0.3691 - val_accuracy: 0.8333\n",
            "Epoch 73/200\n",
            "423/423 [==============================] - 1s 1ms/step - loss: 0.3497 - accuracy: 0.8463 - val_loss: 0.3700 - val_accuracy: 0.8333\n",
            "Epoch 74/200\n",
            "423/423 [==============================] - 1s 1ms/step - loss: 0.3483 - accuracy: 0.8487 - val_loss: 0.3700 - val_accuracy: 0.8333\n",
            "Epoch 75/200\n",
            "423/423 [==============================] - 1s 1ms/step - loss: 0.3483 - accuracy: 0.8463 - val_loss: 0.3700 - val_accuracy: 0.8333\n",
            "Epoch 76/200\n",
            "423/423 [==============================] - 1s 1ms/step - loss: 0.3470 - accuracy: 0.8440 - val_loss: 0.3692 - val_accuracy: 0.8333\n",
            "Epoch 77/200\n",
            "423/423 [==============================] - 1s 1ms/step - loss: 0.3469 - accuracy: 0.8511 - val_loss: 0.3692 - val_accuracy: 0.8333\n",
            "Epoch 78/200\n",
            "423/423 [==============================] - 1s 1ms/step - loss: 0.3463 - accuracy: 0.8487 - val_loss: 0.3690 - val_accuracy: 0.8333\n",
            "Epoch 79/200\n",
            "423/423 [==============================] - 1s 1ms/step - loss: 0.3453 - accuracy: 0.8487 - val_loss: 0.3693 - val_accuracy: 0.8333\n",
            "Epoch 80/200\n",
            "423/423 [==============================] - 1s 1ms/step - loss: 0.3451 - accuracy: 0.8463 - val_loss: 0.3689 - val_accuracy: 0.8333\n",
            "Epoch 81/200\n",
            "423/423 [==============================] - 1s 1ms/step - loss: 0.3441 - accuracy: 0.8511 - val_loss: 0.3686 - val_accuracy: 0.8333\n",
            "Epoch 82/200\n",
            "423/423 [==============================] - 1s 1ms/step - loss: 0.3439 - accuracy: 0.8463 - val_loss: 0.3696 - val_accuracy: 0.8333\n",
            "Epoch 83/200\n",
            "423/423 [==============================] - 1s 1ms/step - loss: 0.3432 - accuracy: 0.8463 - val_loss: 0.3697 - val_accuracy: 0.8333\n",
            "Epoch 84/200\n",
            "423/423 [==============================] - 1s 1ms/step - loss: 0.3427 - accuracy: 0.8511 - val_loss: 0.3693 - val_accuracy: 0.8333\n",
            "Epoch 85/200\n",
            "423/423 [==============================] - 1s 1ms/step - loss: 0.3419 - accuracy: 0.8463 - val_loss: 0.3699 - val_accuracy: 0.8333\n",
            "Epoch 86/200\n",
            "423/423 [==============================] - 1s 1ms/step - loss: 0.3413 - accuracy: 0.8463 - val_loss: 0.3695 - val_accuracy: 0.8333\n",
            "Epoch 87/200\n",
            "423/423 [==============================] - 1s 1ms/step - loss: 0.3415 - accuracy: 0.8511 - val_loss: 0.3696 - val_accuracy: 0.8333\n",
            "Epoch 88/200\n",
            "423/423 [==============================] - 1s 1ms/step - loss: 0.3411 - accuracy: 0.8534 - val_loss: 0.3688 - val_accuracy: 0.8333\n",
            "Epoch 89/200\n",
            "423/423 [==============================] - 1s 1ms/step - loss: 0.3401 - accuracy: 0.8558 - val_loss: 0.3701 - val_accuracy: 0.8125\n",
            "Epoch 90/200\n",
            "423/423 [==============================] - 1s 1ms/step - loss: 0.3390 - accuracy: 0.8487 - val_loss: 0.3706 - val_accuracy: 0.8333\n",
            "Epoch 91/200\n",
            "423/423 [==============================] - 1s 1ms/step - loss: 0.3392 - accuracy: 0.8487 - val_loss: 0.3701 - val_accuracy: 0.8333\n",
            "Epoch 00091: early stopping\n"
          ],
          "name": "stdout"
        },
        {
          "output_type": "display_data",
          "data": {
            "image/png": "[encoded data removed]",
            "text/plain": [
              "<Figure size 432x288 with 1 Axes>"
            ]
          },
          "metadata": {
            "tags": [],
            "needs_background": "light"
          }
        },
        {
          "output_type": "stream",
          "text": [
            "Train Loss: 0.340295\n",
            "Train Accuracy: 0.851064\n",
            "Val Loss: 0.368575\n",
            "Val Accuracy: 0.833333\n"
          ],
          "name": "stdout"
        }
      ]
    },
    {
      "cell_type": "code",
      "metadata": {
        "id": "-sysTq7gjVb1",
        "colab_type": "code",
        "outputId": "0982fa2a-f7cd-4765-e4b2-01d3e742c501",
        "colab": {
          "base_uri": "https://localhost:8080/",
          "height": 85
        }
      },
      "source": [
        "# Precisión del modelo de red neuronal\n",
        "y_pred_ann = predict_with_ann_model(model_ann, X_val, batch_size=batch_size)\n",
        "\n",
        "val_acc_ann = round(accuracy_score(y_val, y_pred_ann, normalize=True),6)\n",
        "val_cmatrix_ann = confusion_matrix(y_val, y_pred_ann)\n",
        "\n",
        "print('Matriz de confusión del modelo:\\n', val_cmatrix_ann)\n",
        "print('Precisión del modelo:', val_acc_ann)"
      ],
      "execution_count": 99,
      "outputs": [
        {
          "output_type": "stream",
          "text": [
            "Matriz de confusión del modelo:\n",
            " [[23  4]\n",
            " [ 4 17]]\n",
            "Precisión del modelo: 0.833333\n"
          ],
          "name": "stdout"
        }
      ]
    },
    {
      "cell_type": "code",
      "metadata": {
        "id": "k8j0qX7V86DZ",
        "colab_type": "code",
        "outputId": "7fed49cc-aea8-461a-c0fa-9ba766347555",
        "colab": {
          "base_uri": "https://localhost:8080/",
          "height": 515
        }
      },
      "source": [
        "# Generar DataFrame de predicciones a partir del DataFrame de test\n",
        "df_pred_ann = pd.DataFrame(predict_with_ann_model(model_ann, X_test, batch_size=batch_size), columns=['Survived'], index = df_test.index)\n",
        "display(df_pred_ann.head())\n",
        "display(df_pred_ann.describe())"
      ],
      "execution_count": 100,
      "outputs": [
        {
          "output_type": "display_data",
          "data": {
            "text/html": [
              "<div>\n",
              "<style scoped>\n",
              "    .dataframe tbody tr th:only-of-type {\n",
              "        vertical-align: middle;\n",
              "    }\n",
              "\n",
              "    .dataframe tbody tr th {\n",
              "        vertical-align: top;\n",
              "    }\n",
              "\n",
              "    .dataframe thead th {\n",
              "        text-align: right;\n",
              "    }\n",
              "</style>\n",
              "<table border=\"1\" class=\"dataframe\">\n",
              "  <thead>\n",
              "    <tr style=\"text-align: right;\">\n",
              "      <th></th>\n",
              "      <th>Survived</th>\n",
              "    </tr>\n",
              "    <tr>\n",
              "      <th>PassengerId</th>\n",
              "      <th></th>\n",
              "    </tr>\n",
              "  </thead>\n",
              "  <tbody>\n",
              "    <tr>\n",
              "      <th>892</th>\n",
              "      <td>0</td>\n",
              "    </tr>\n",
              "    <tr>\n",
              "      <th>893</th>\n",
              "      <td>1</td>\n",
              "    </tr>\n",
              "    <tr>\n",
              "      <th>894</th>\n",
              "      <td>0</td>\n",
              "    </tr>\n",
              "    <tr>\n",
              "      <th>895</th>\n",
              "      <td>0</td>\n",
              "    </tr>\n",
              "    <tr>\n",
              "      <th>896</th>\n",
              "      <td>1</td>\n",
              "    </tr>\n",
              "  </tbody>\n",
              "</table>\n",
              "</div>"
            ],
            "text/plain": [
              "             Survived\n",
              "PassengerId          \n",
              "892                 0\n",
              "893                 1\n",
              "894                 0\n",
              "895                 0\n",
              "896                 1"
            ]
          },
          "metadata": {
            "tags": []
          }
        },
        {
          "output_type": "display_data",
          "data": {
            "text/html": [
              "<div>\n",
              "<style scoped>\n",
              "    .dataframe tbody tr th:only-of-type {\n",
              "        vertical-align: middle;\n",
              "    }\n",
              "\n",
              "    .dataframe tbody tr th {\n",
              "        vertical-align: top;\n",
              "    }\n",
              "\n",
              "    .dataframe thead th {\n",
              "        text-align: right;\n",
              "    }\n",
              "</style>\n",
              "<table border=\"1\" class=\"dataframe\">\n",
              "  <thead>\n",
              "    <tr style=\"text-align: right;\">\n",
              "      <th></th>\n",
              "      <th>Survived</th>\n",
              "    </tr>\n",
              "  </thead>\n",
              "  <tbody>\n",
              "    <tr>\n",
              "      <th>count</th>\n",
              "      <td>418.000000</td>\n",
              "    </tr>\n",
              "    <tr>\n",
              "      <th>mean</th>\n",
              "      <td>0.354067</td>\n",
              "    </tr>\n",
              "    <tr>\n",
              "      <th>std</th>\n",
              "      <td>0.478803</td>\n",
              "    </tr>\n",
              "    <tr>\n",
              "      <th>min</th>\n",
              "      <td>0.000000</td>\n",
              "    </tr>\n",
              "    <tr>\n",
              "      <th>25%</th>\n",
              "      <td>0.000000</td>\n",
              "    </tr>\n",
              "    <tr>\n",
              "      <th>50%</th>\n",
              "      <td>0.000000</td>\n",
              "    </tr>\n",
              "    <tr>\n",
              "      <th>75%</th>\n",
              "      <td>1.000000</td>\n",
              "    </tr>\n",
              "    <tr>\n",
              "      <th>max</th>\n",
              "      <td>1.000000</td>\n",
              "    </tr>\n",
              "  </tbody>\n",
              "</table>\n",
              "</div>"
            ],
            "text/plain": [
              "         Survived\n",
              "count  418.000000\n",
              "mean     0.354067\n",
              "std      0.478803\n",
              "min      0.000000\n",
              "25%      0.000000\n",
              "50%      0.000000\n",
              "75%      1.000000\n",
              "max      1.000000"
            ]
          },
          "metadata": {
            "tags": []
          }
        }
      ]
    },
    {
      "cell_type": "markdown",
      "metadata": {
        "id": "Vm2EK3jI_abb",
        "colab_type": "text"
      },
      "source": [
        "# 5 - Subir predicciones a Kaggle"
      ]
    },
    {
      "cell_type": "code",
      "metadata": {
        "id": "wKpowglRA_Ap",
        "colab_type": "code",
        "outputId": "cd0d8477-5e94-4b9b-e325-c7aeac6abab5",
        "colab": {
          "base_uri": "https://localhost:8080/",
          "height": 68
        }
      },
      "source": [
        "# Guardar las predicciones realizadas a partir del DataFrame de test\n",
        "# como csv y subirlas a Kaggle\n",
        "# Si se ha decidido subir los resultados del modelo de regresión logística\n",
        "if lr_pred_to_kaggle:\n",
        "  df_pred_lr.to_csv('submission.csv', index=True)  \n",
        "  !kaggle competitions submit -c titanic -f submission.csv -m \"New lr_model test prediction\""
      ],
      "execution_count": 101,
      "outputs": [
        {
          "output_type": "stream",
          "text": [
            "Warning: Looks like you're using an outdated API Version, please consider updating (server 1.5.6 / client 1.5.4)\n",
            "100% 2.77k/2.77k [00:05<00:00, 559B/s]\n",
            "Successfully submitted to Titanic: Machine Learning from Disaster"
          ],
          "name": "stdout"
        }
      ]
    },
    {
      "cell_type": "code",
      "metadata": {
        "id": "2RLMqdJTE0q7",
        "colab_type": "code",
        "outputId": "afaab5b2-495b-4cf2-821f-d9854443c5d1",
        "colab": {
          "base_uri": "https://localhost:8080/",
          "height": 68
        }
      },
      "source": [
        "# Si se ha decidido subir los resultados del modelo de red neuronal\n",
        "if ann_pred_to_kaggle:\n",
        "  df_pred_ann.to_csv('submission.csv', index=True)  \n",
        "  !kaggle competitions submit -c titanic -f submission.csv -m \"New ann_model test prediction\""
      ],
      "execution_count": 102,
      "outputs": [
        {
          "output_type": "stream",
          "text": [
            "Warning: Looks like you're using an outdated API Version, please consider updating (server 1.5.6 / client 1.5.4)\n",
            "100% 2.77k/2.77k [00:03<00:00, 773B/s]\n",
            "Successfully submitted to Titanic: Machine Learning from Disaster"
          ],
          "name": "stdout"
        }
      ]
    }
  ]
}