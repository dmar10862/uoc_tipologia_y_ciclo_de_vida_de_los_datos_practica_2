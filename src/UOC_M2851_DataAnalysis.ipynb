{
  "nbformat": 4,
  "nbformat_minor": 0,
  "metadata": {
    "colab": {
      "name": "UOC-M2851-DataAnalysis.ipynb",
      "provenance": [],
      "collapsed_sections": [],
      "toc_visible": true,
      "authorship_tag": "ABX9TyONtgdHREZET2fiq2069SoJ",
      "include_colab_link": true
    },
    "kernelspec": {
      "name": "python3",
      "display_name": "Python 3"
    }
  },
  "cells": [
    {
      "cell_type": "markdown",
      "metadata": {
        "id": "view-in-github",
        "colab_type": "text"
      },
      "source": [
        "<a href=\"https://colab.research.google.com/github/dmar10862/uoc_tipologia_y_ciclo_de_vida_de_los_datos_practica_2/blob/master/src/UOC_M2851_DataAnalysis.ipynb\" target=\"_parent\"><img src=\"https://colab.research.google.com/assets/colab-badge.svg\" alt=\"Open In Colab\"/></a>"
      ]
    },
    {
      "cell_type": "markdown",
      "metadata": {
        "id": "WnhsrUMxp9mH",
        "colab_type": "text"
      },
      "source": [
        "**Tipología y ciclo de vida de los datos  - PRAC2**\n",
        "\n",
        "**Limpieza y análisis de datos**\n",
        "\n",
        "**David Marín Sánchez**\n",
        "\n",
        "Esta práctica se ha realizado bajo el contexto de la asignatura Tipología y ciclo de vida de los datos, perteneciente al Máster en Ciencia de Datos de la Universitat Oberta de Catalunya. En ella, se aplican técnicas de limpieza y análisis de datos, mediante el lenguaje de programación Python, para resolver el problema planteado en la competición de Kaggle [Titanic: Machine Learning from Disaster](https://www.kaggle.com/c/titanic/overview).\n",
        "\n",
        "Para resolver esta práctica se han utilizado ideas y métodos planteadas en las siguientes referencias:\n",
        "\n",
        "https://www.kaggle.com/ouyangg/titanic\n",
        "\n",
        "https://triangleinequality.wordpress.com/2013/09/08/basic-feature-engineering-with-the-titanic-data/\n",
        "\n",
        "https://www.kaggle.com/parthsuresh/binary-classifier-using-keras-97-98-accuracy\n",
        "\n",
        "https://machinelearningmastery.com/binary-classification-tutorial-with-the-keras-deep-learning-library/\n",
        "\n",
        "https://machinelearningmastery.com/how-to-stop-training-deep-neural-networks-at-the-right-time-using-early-stopping/\n",
        "\n",
        "https://github.com/Kaggle/kaggle-api\n",
        "\n",
        "https://scikit-learn.org/stable/modules/impute.html\n",
        "\n",
        "https://scikit-learn.org/dev/modules/generated/sklearn.impute.KNNImputer.html\n",
        "\n",
        "https://scikit-learn.org/stable/modules/generated/sklearn.decomposition.PCA.html\n",
        "\n",
        "https://scikit-learn.org/stable/modules/neural_networks_supervised.html#mlp-tips\n",
        "\n",
        "https://nextjournal.com/schmudde/how-to-remove-outliers-in-data\n",
        "\n",
        "https://matplotlib.org/3.1.1/api/_as_gen/matplotlib.pyplot.bar.html\n",
        "\n",
        "https://seaborn.pydata.org/examples/many_pairwise_correlations.html"
      ]
    },
    {
      "cell_type": "markdown",
      "metadata": {
        "id": "drdDazEtWofR",
        "colab_type": "text"
      },
      "source": [
        "# 0 - Preparación del entorno"
      ]
    },
    {
      "cell_type": "markdown",
      "metadata": {
        "id": "UgIvNpeB_xZZ",
        "colab_type": "text"
      },
      "source": [
        "## Definición de parámetros"
      ]
    },
    {
      "cell_type": "code",
      "metadata": {
        "id": "ZDUpIKZ4_zgL",
        "colab_type": "code",
        "colab": {}
      },
      "source": [
        "# Limpieza de datos\n",
        "# Proporción de outliers a eliminar (a partir de los cuantiles)\n",
        "remove_outilers_quantile = 0.1\n",
        "# Número de categorias en las que agrupar la variable 'age'\n",
        "age_categories = 10\n",
        "# Número de categorias en las que agrupar la variable 'fare'\n",
        "fare_categories = 10\n",
        "# Dimensiones a eliminar después del análisis PCA\n",
        "dimensions_to_remove = 0\n",
        "\n",
        "\n",
        "# Modelos predictivos\n",
        "# Proporción de muestras de validación\n",
        "val_size = 0.1\n",
        "\n",
        "# Modelado de red neuronal\n",
        "# Número de neuronas de la capa oculta\n",
        "neurons = 32\n",
        "# Ratio de aprendizaje\n",
        "lr = 0.0002\n",
        "# Épocas o repeticiones del proceso de entrenamiento de la red neuronal\n",
        "epochs = 200\n",
        "# Muestras a procesar en cada paso de entrenamiento\n",
        "batch_size = 1\n",
        "# Pacieiencia o número de épocas en las que se permite \n",
        "# que el que el error obtenido supere al anterior error \n",
        "# antes de parar el proceso de entrenamiento\n",
        "patience = 10\n",
        "\n",
        "\n",
        "# Enviar predicciones a Kaggle\n",
        "# Enviar predicciones del modelo de regresión\n",
        "lr_pred_to_kaggle = True\n",
        "# Enviar predicciones del modelo de red neuronal\n",
        "ann_pred_to_kaggle = True"
      ],
      "execution_count": 0,
      "outputs": []
    },
    {
      "cell_type": "markdown",
      "metadata": {
        "id": "CzHYyhMglcaw",
        "colab_type": "text"
      },
      "source": [
        "## Carga de librerias"
      ]
    },
    {
      "cell_type": "code",
      "metadata": {
        "id": "8yGWffSUlcAX",
        "colab_type": "code",
        "outputId": "89f0058f-9618-47c0-cef3-177d6359e997",
        "colab": {
          "base_uri": "https://localhost:8080/",
          "height": 51
        }
      },
      "source": [
        "from google.colab import drive\n",
        "from google.colab import auth\n",
        "import pandas as pd\n",
        "import numpy as np\n",
        "import matplotlib.pyplot as plt\n",
        "import seaborn as sns\n",
        "from sklearn.impute import KNNImputer\n",
        "from sklearn.preprocessing import StandardScaler\n",
        "from sklearn.decomposition import PCA\n",
        "from sklearn.model_selection import train_test_split\n",
        "from sklearn.metrics import accuracy_score, confusion_matrix\n",
        "from sklearn.linear_model import LogisticRegression\n",
        "from scipy import stats\n",
        "import tensorflow as tf\n",
        "from tensorflow.keras.models import Sequential, load_model\n",
        "from tensorflow.keras.layers import Dense, Activation\n",
        "from tensorflow.keras.optimizers import Adam\n",
        "from tensorflow.keras.callbacks import EarlyStopping, ModelCheckpoint"
      ],
      "execution_count": 2,
      "outputs": [
        {
          "output_type": "stream",
          "text": [
            "/usr/local/lib/python3.6/dist-packages/statsmodels/tools/_testing.py:19: FutureWarning: pandas.util.testing is deprecated. Use the functions in the public API at pandas.testing instead.\n",
            "  import pandas.util.testing as tm\n"
          ],
          "name": "stderr"
        }
      ]
    },
    {
      "cell_type": "markdown",
      "metadata": {
        "id": "A69ZvCWdV6zl",
        "colab_type": "text"
      },
      "source": [
        "# 1 - Adquisición de los datos"
      ]
    },
    {
      "cell_type": "markdown",
      "metadata": {
        "id": "WSASRXXVALwB",
        "colab_type": "text"
      },
      "source": [
        "## Descargar dataset de Kaggle"
      ]
    },
    {
      "cell_type": "code",
      "metadata": {
        "id": "kSbUb2i2mrZh",
        "colab_type": "code",
        "outputId": "5a319911-44f4-414b-afe2-0271cabf6c0b",
        "colab": {
          "base_uri": "https://localhost:8080/",
          "height": 34
        }
      },
      "source": [
        "# Se monta Google Drive para poder recuperar las credenciales de Kaggle\n",
        "drive.mount('/content/drive')"
      ],
      "execution_count": 3,
      "outputs": [
        {
          "output_type": "stream",
          "text": [
            "Drive already mounted at /content/drive; to attempt to forcibly remount, call drive.mount(\"/content/drive\", force_remount=True).\n"
          ],
          "name": "stdout"
        }
      ]
    },
    {
      "cell_type": "code",
      "metadata": {
        "id": "wqxPpBiclgwX",
        "colab_type": "code",
        "outputId": "7a6a6efc-9b59-4c5d-c8ea-388a5fae7623",
        "colab": {
          "base_uri": "https://localhost:8080/",
          "height": 51
        }
      },
      "source": [
        "%%bash\n",
        "# Se instala kaggle\n",
        "pip install -q kaggle\n",
        "\n",
        "# Se cargan las credenciales de Kaggle de Google Drive\n",
        "mkdir -p /root/.kaggle\n",
        "cp -a \"/content/drive/My Drive/Credentials/kaggle.json\" \\\n",
        "/root/.kaggle/kaggle.json\n",
        "ls -l /root/.kaggle"
      ],
      "execution_count": 4,
      "outputs": [
        {
          "output_type": "stream",
          "text": [
            "total 4\n",
            "-rw------- 1 root root 64 May  9 08:42 kaggle.json\n"
          ],
          "name": "stdout"
        }
      ]
    },
    {
      "cell_type": "code",
      "metadata": {
        "id": "AeLUbs0JlUVf",
        "colab_type": "code",
        "outputId": "9e02e95e-471d-4db4-9af4-b801687a03af",
        "colab": {
          "base_uri": "https://localhost:8080/",
          "height": 187
        }
      },
      "source": [
        "# Se descarga el dataset de Kaggle\n",
        "%%bash\n",
        "mkdir -p datasets\n",
        "cd datasets\n",
        "kaggle competitions download -c titanic\n",
        "ls -la"
      ],
      "execution_count": 5,
      "outputs": [
        {
          "output_type": "stream",
          "text": [
            "Warning: Looks like you're using an outdated API Version, please consider updating (server 1.5.6 / client 1.5.4)\n",
            "test.csv: Skipping, found more recently modified local copy (use --force to force download)\n",
            "gender_submission.csv: Skipping, found more recently modified local copy (use --force to force download)\n",
            "train.csv: Skipping, found more recently modified local copy (use --force to force download)\n",
            "total 100\n",
            "drwxr-xr-x 2 root root  4096 Jun  6 08:05 .\n",
            "drwxr-xr-x 1 root root  4096 Jun  6 08:54 ..\n",
            "-rw-r--r-- 1 root root  3258 Jun  6 08:05 gender_submission.csv\n",
            "-rw-r--r-- 1 root root 28629 Jun  6 08:05 test.csv\n",
            "-rw-r--r-- 1 root root 61194 Jun  6 08:05 train.csv\n"
          ],
          "name": "stdout"
        }
      ]
    },
    {
      "cell_type": "markdown",
      "metadata": {
        "id": "pyUPgmft7MEp",
        "colab_type": "text"
      },
      "source": [
        "## Cargar los datos en el notebook"
      ]
    },
    {
      "cell_type": "code",
      "metadata": {
        "id": "Kz6v5JKYn25H",
        "colab_type": "code",
        "colab": {}
      },
      "source": [
        "# Se carga el dataset de entrenamiento como un DataFrame de Pandas\n",
        "df_train = pd.read_csv('datasets/train.csv', index_col = 'PassengerId') "
      ],
      "execution_count": 0,
      "outputs": []
    },
    {
      "cell_type": "code",
      "metadata": {
        "id": "IJbXogW-__vi",
        "colab_type": "code",
        "colab": {}
      },
      "source": [
        "# Se separan las características de la variable objetivo ('Survived')\n",
        "X_train = df_train.copy()\n",
        "y_train = X_train[['Survived']]\n",
        "X_train = X_train.drop(columns=['Survived'])"
      ],
      "execution_count": 0,
      "outputs": []
    },
    {
      "cell_type": "code",
      "metadata": {
        "id": "BesY7zliT7uJ",
        "colab_type": "code",
        "outputId": "89981cbf-497f-40c4-efa9-a00637e3e9c5",
        "colab": {
          "base_uri": "https://localhost:8080/",
          "height": 541
        }
      },
      "source": [
        "# Se muestran las características del DataFrame de entrenamiento\n",
        "display(X_train.info())\n",
        "display(X_train.head())"
      ],
      "execution_count": 8,
      "outputs": [
        {
          "output_type": "stream",
          "text": [
            "<class 'pandas.core.frame.DataFrame'>\n",
            "Int64Index: 891 entries, 1 to 891\n",
            "Data columns (total 10 columns):\n",
            " #   Column    Non-Null Count  Dtype  \n",
            "---  ------    --------------  -----  \n",
            " 0   Pclass    891 non-null    int64  \n",
            " 1   Name      891 non-null    object \n",
            " 2   Sex       891 non-null    object \n",
            " 3   Age       714 non-null    float64\n",
            " 4   SibSp     891 non-null    int64  \n",
            " 5   Parch     891 non-null    int64  \n",
            " 6   Ticket    891 non-null    object \n",
            " 7   Fare      891 non-null    float64\n",
            " 8   Cabin     204 non-null    object \n",
            " 9   Embarked  889 non-null    object \n",
            "dtypes: float64(2), int64(3), object(5)\n",
            "memory usage: 76.6+ KB\n"
          ],
          "name": "stdout"
        },
        {
          "output_type": "display_data",
          "data": {
            "text/plain": [
              "None"
            ]
          },
          "metadata": {
            "tags": []
          }
        },
        {
          "output_type": "display_data",
          "data": {
            "text/html": [
              "<div>\n",
              "<style scoped>\n",
              "    .dataframe tbody tr th:only-of-type {\n",
              "        vertical-align: middle;\n",
              "    }\n",
              "\n",
              "    .dataframe tbody tr th {\n",
              "        vertical-align: top;\n",
              "    }\n",
              "\n",
              "    .dataframe thead th {\n",
              "        text-align: right;\n",
              "    }\n",
              "</style>\n",
              "<table border=\"1\" class=\"dataframe\">\n",
              "  <thead>\n",
              "    <tr style=\"text-align: right;\">\n",
              "      <th></th>\n",
              "      <th>Pclass</th>\n",
              "      <th>Name</th>\n",
              "      <th>Sex</th>\n",
              "      <th>Age</th>\n",
              "      <th>SibSp</th>\n",
              "      <th>Parch</th>\n",
              "      <th>Ticket</th>\n",
              "      <th>Fare</th>\n",
              "      <th>Cabin</th>\n",
              "      <th>Embarked</th>\n",
              "    </tr>\n",
              "    <tr>\n",
              "      <th>PassengerId</th>\n",
              "      <th></th>\n",
              "      <th></th>\n",
              "      <th></th>\n",
              "      <th></th>\n",
              "      <th></th>\n",
              "      <th></th>\n",
              "      <th></th>\n",
              "      <th></th>\n",
              "      <th></th>\n",
              "      <th></th>\n",
              "    </tr>\n",
              "  </thead>\n",
              "  <tbody>\n",
              "    <tr>\n",
              "      <th>1</th>\n",
              "      <td>3</td>\n",
              "      <td>Braund, Mr. Owen Harris</td>\n",
              "      <td>male</td>\n",
              "      <td>22.0</td>\n",
              "      <td>1</td>\n",
              "      <td>0</td>\n",
              "      <td>A/5 21171</td>\n",
              "      <td>7.2500</td>\n",
              "      <td>NaN</td>\n",
              "      <td>S</td>\n",
              "    </tr>\n",
              "    <tr>\n",
              "      <th>2</th>\n",
              "      <td>1</td>\n",
              "      <td>Cumings, Mrs. John Bradley (Florence Briggs Th...</td>\n",
              "      <td>female</td>\n",
              "      <td>38.0</td>\n",
              "      <td>1</td>\n",
              "      <td>0</td>\n",
              "      <td>PC 17599</td>\n",
              "      <td>71.2833</td>\n",
              "      <td>C85</td>\n",
              "      <td>C</td>\n",
              "    </tr>\n",
              "    <tr>\n",
              "      <th>3</th>\n",
              "      <td>3</td>\n",
              "      <td>Heikkinen, Miss. Laina</td>\n",
              "      <td>female</td>\n",
              "      <td>26.0</td>\n",
              "      <td>0</td>\n",
              "      <td>0</td>\n",
              "      <td>STON/O2. 3101282</td>\n",
              "      <td>7.9250</td>\n",
              "      <td>NaN</td>\n",
              "      <td>S</td>\n",
              "    </tr>\n",
              "    <tr>\n",
              "      <th>4</th>\n",
              "      <td>1</td>\n",
              "      <td>Futrelle, Mrs. Jacques Heath (Lily May Peel)</td>\n",
              "      <td>female</td>\n",
              "      <td>35.0</td>\n",
              "      <td>1</td>\n",
              "      <td>0</td>\n",
              "      <td>113803</td>\n",
              "      <td>53.1000</td>\n",
              "      <td>C123</td>\n",
              "      <td>S</td>\n",
              "    </tr>\n",
              "    <tr>\n",
              "      <th>5</th>\n",
              "      <td>3</td>\n",
              "      <td>Allen, Mr. William Henry</td>\n",
              "      <td>male</td>\n",
              "      <td>35.0</td>\n",
              "      <td>0</td>\n",
              "      <td>0</td>\n",
              "      <td>373450</td>\n",
              "      <td>8.0500</td>\n",
              "      <td>NaN</td>\n",
              "      <td>S</td>\n",
              "    </tr>\n",
              "  </tbody>\n",
              "</table>\n",
              "</div>"
            ],
            "text/plain": [
              "             Pclass  ... Embarked\n",
              "PassengerId          ...         \n",
              "1                 3  ...        S\n",
              "2                 1  ...        C\n",
              "3                 3  ...        S\n",
              "4                 1  ...        S\n",
              "5                 3  ...        S\n",
              "\n",
              "[5 rows x 10 columns]"
            ]
          },
          "metadata": {
            "tags": []
          }
        }
      ]
    },
    {
      "cell_type": "code",
      "metadata": {
        "id": "VxKIdKPd0crm",
        "colab_type": "code",
        "outputId": "59bfab65-802e-4a62-db16-f991f244deb2",
        "colab": {
          "base_uri": "https://localhost:8080/",
          "height": 388
        }
      },
      "source": [
        "# Se muestra la variable objetivo para el DataFrame de entrenamiento\n",
        "display(y_train.info())\n",
        "display(y_train.head())"
      ],
      "execution_count": 9,
      "outputs": [
        {
          "output_type": "stream",
          "text": [
            "<class 'pandas.core.frame.DataFrame'>\n",
            "Int64Index: 891 entries, 1 to 891\n",
            "Data columns (total 1 columns):\n",
            " #   Column    Non-Null Count  Dtype\n",
            "---  ------    --------------  -----\n",
            " 0   Survived  891 non-null    int64\n",
            "dtypes: int64(1)\n",
            "memory usage: 13.9 KB\n"
          ],
          "name": "stdout"
        },
        {
          "output_type": "display_data",
          "data": {
            "text/plain": [
              "None"
            ]
          },
          "metadata": {
            "tags": []
          }
        },
        {
          "output_type": "display_data",
          "data": {
            "text/html": [
              "<div>\n",
              "<style scoped>\n",
              "    .dataframe tbody tr th:only-of-type {\n",
              "        vertical-align: middle;\n",
              "    }\n",
              "\n",
              "    .dataframe tbody tr th {\n",
              "        vertical-align: top;\n",
              "    }\n",
              "\n",
              "    .dataframe thead th {\n",
              "        text-align: right;\n",
              "    }\n",
              "</style>\n",
              "<table border=\"1\" class=\"dataframe\">\n",
              "  <thead>\n",
              "    <tr style=\"text-align: right;\">\n",
              "      <th></th>\n",
              "      <th>Survived</th>\n",
              "    </tr>\n",
              "    <tr>\n",
              "      <th>PassengerId</th>\n",
              "      <th></th>\n",
              "    </tr>\n",
              "  </thead>\n",
              "  <tbody>\n",
              "    <tr>\n",
              "      <th>1</th>\n",
              "      <td>0</td>\n",
              "    </tr>\n",
              "    <tr>\n",
              "      <th>2</th>\n",
              "      <td>1</td>\n",
              "    </tr>\n",
              "    <tr>\n",
              "      <th>3</th>\n",
              "      <td>1</td>\n",
              "    </tr>\n",
              "    <tr>\n",
              "      <th>4</th>\n",
              "      <td>1</td>\n",
              "    </tr>\n",
              "    <tr>\n",
              "      <th>5</th>\n",
              "      <td>0</td>\n",
              "    </tr>\n",
              "  </tbody>\n",
              "</table>\n",
              "</div>"
            ],
            "text/plain": [
              "             Survived\n",
              "PassengerId          \n",
              "1                   0\n",
              "2                   1\n",
              "3                   1\n",
              "4                   1\n",
              "5                   0"
            ]
          },
          "metadata": {
            "tags": []
          }
        }
      ]
    },
    {
      "cell_type": "code",
      "metadata": {
        "id": "zGDtXQK9DnWL",
        "colab_type": "code",
        "colab": {}
      },
      "source": [
        "# Se carga el dataset de test en un DataFrame de Pandas\n",
        "df_test = pd.read_csv('datasets/test.csv', index_col='PassengerId') \n",
        "X_test = df_test.copy()"
      ],
      "execution_count": 0,
      "outputs": []
    },
    {
      "cell_type": "code",
      "metadata": {
        "id": "IyRpU8_qT4Xs",
        "colab_type": "code",
        "outputId": "73d3a218-b8d3-423a-d8ce-2ce47352322d",
        "colab": {
          "base_uri": "https://localhost:8080/",
          "height": 541
        }
      },
      "source": [
        "# Se muestran las características del DataFrame de test\n",
        "display(X_test.info())\n",
        "display(X_test.head())"
      ],
      "execution_count": 11,
      "outputs": [
        {
          "output_type": "stream",
          "text": [
            "<class 'pandas.core.frame.DataFrame'>\n",
            "Int64Index: 418 entries, 892 to 1309\n",
            "Data columns (total 10 columns):\n",
            " #   Column    Non-Null Count  Dtype  \n",
            "---  ------    --------------  -----  \n",
            " 0   Pclass    418 non-null    int64  \n",
            " 1   Name      418 non-null    object \n",
            " 2   Sex       418 non-null    object \n",
            " 3   Age       332 non-null    float64\n",
            " 4   SibSp     418 non-null    int64  \n",
            " 5   Parch     418 non-null    int64  \n",
            " 6   Ticket    418 non-null    object \n",
            " 7   Fare      417 non-null    float64\n",
            " 8   Cabin     91 non-null     object \n",
            " 9   Embarked  418 non-null    object \n",
            "dtypes: float64(2), int64(3), object(5)\n",
            "memory usage: 35.9+ KB\n"
          ],
          "name": "stdout"
        },
        {
          "output_type": "display_data",
          "data": {
            "text/plain": [
              "None"
            ]
          },
          "metadata": {
            "tags": []
          }
        },
        {
          "output_type": "display_data",
          "data": {
            "text/html": [
              "<div>\n",
              "<style scoped>\n",
              "    .dataframe tbody tr th:only-of-type {\n",
              "        vertical-align: middle;\n",
              "    }\n",
              "\n",
              "    .dataframe tbody tr th {\n",
              "        vertical-align: top;\n",
              "    }\n",
              "\n",
              "    .dataframe thead th {\n",
              "        text-align: right;\n",
              "    }\n",
              "</style>\n",
              "<table border=\"1\" class=\"dataframe\">\n",
              "  <thead>\n",
              "    <tr style=\"text-align: right;\">\n",
              "      <th></th>\n",
              "      <th>Pclass</th>\n",
              "      <th>Name</th>\n",
              "      <th>Sex</th>\n",
              "      <th>Age</th>\n",
              "      <th>SibSp</th>\n",
              "      <th>Parch</th>\n",
              "      <th>Ticket</th>\n",
              "      <th>Fare</th>\n",
              "      <th>Cabin</th>\n",
              "      <th>Embarked</th>\n",
              "    </tr>\n",
              "    <tr>\n",
              "      <th>PassengerId</th>\n",
              "      <th></th>\n",
              "      <th></th>\n",
              "      <th></th>\n",
              "      <th></th>\n",
              "      <th></th>\n",
              "      <th></th>\n",
              "      <th></th>\n",
              "      <th></th>\n",
              "      <th></th>\n",
              "      <th></th>\n",
              "    </tr>\n",
              "  </thead>\n",
              "  <tbody>\n",
              "    <tr>\n",
              "      <th>892</th>\n",
              "      <td>3</td>\n",
              "      <td>Kelly, Mr. James</td>\n",
              "      <td>male</td>\n",
              "      <td>34.5</td>\n",
              "      <td>0</td>\n",
              "      <td>0</td>\n",
              "      <td>330911</td>\n",
              "      <td>7.8292</td>\n",
              "      <td>NaN</td>\n",
              "      <td>Q</td>\n",
              "    </tr>\n",
              "    <tr>\n",
              "      <th>893</th>\n",
              "      <td>3</td>\n",
              "      <td>Wilkes, Mrs. James (Ellen Needs)</td>\n",
              "      <td>female</td>\n",
              "      <td>47.0</td>\n",
              "      <td>1</td>\n",
              "      <td>0</td>\n",
              "      <td>363272</td>\n",
              "      <td>7.0000</td>\n",
              "      <td>NaN</td>\n",
              "      <td>S</td>\n",
              "    </tr>\n",
              "    <tr>\n",
              "      <th>894</th>\n",
              "      <td>2</td>\n",
              "      <td>Myles, Mr. Thomas Francis</td>\n",
              "      <td>male</td>\n",
              "      <td>62.0</td>\n",
              "      <td>0</td>\n",
              "      <td>0</td>\n",
              "      <td>240276</td>\n",
              "      <td>9.6875</td>\n",
              "      <td>NaN</td>\n",
              "      <td>Q</td>\n",
              "    </tr>\n",
              "    <tr>\n",
              "      <th>895</th>\n",
              "      <td>3</td>\n",
              "      <td>Wirz, Mr. Albert</td>\n",
              "      <td>male</td>\n",
              "      <td>27.0</td>\n",
              "      <td>0</td>\n",
              "      <td>0</td>\n",
              "      <td>315154</td>\n",
              "      <td>8.6625</td>\n",
              "      <td>NaN</td>\n",
              "      <td>S</td>\n",
              "    </tr>\n",
              "    <tr>\n",
              "      <th>896</th>\n",
              "      <td>3</td>\n",
              "      <td>Hirvonen, Mrs. Alexander (Helga E Lindqvist)</td>\n",
              "      <td>female</td>\n",
              "      <td>22.0</td>\n",
              "      <td>1</td>\n",
              "      <td>1</td>\n",
              "      <td>3101298</td>\n",
              "      <td>12.2875</td>\n",
              "      <td>NaN</td>\n",
              "      <td>S</td>\n",
              "    </tr>\n",
              "  </tbody>\n",
              "</table>\n",
              "</div>"
            ],
            "text/plain": [
              "             Pclass  ... Embarked\n",
              "PassengerId          ...         \n",
              "892               3  ...        Q\n",
              "893               3  ...        S\n",
              "894               2  ...        Q\n",
              "895               3  ...        S\n",
              "896               3  ...        S\n",
              "\n",
              "[5 rows x 10 columns]"
            ]
          },
          "metadata": {
            "tags": []
          }
        }
      ]
    },
    {
      "cell_type": "markdown",
      "metadata": {
        "id": "DokFtGZceDGJ",
        "colab_type": "text"
      },
      "source": [
        "# 2 - Análisis de datos preliminar"
      ]
    },
    {
      "cell_type": "markdown",
      "metadata": {
        "id": "dS-512QgeIli",
        "colab_type": "text"
      },
      "source": [
        "## Análisis estadístico descriptivo"
      ]
    },
    {
      "cell_type": "code",
      "metadata": {
        "colab_type": "code",
        "outputId": "6753e555-a447-49d0-d873-09b4d678b3e6",
        "id": "4KJPozOYeA3p",
        "colab": {
          "base_uri": "https://localhost:8080/",
          "height": 297
        }
      },
      "source": [
        "# Estadísticas del DataFrame de entrenamiento\n",
        "display(X_train.describe())"
      ],
      "execution_count": 12,
      "outputs": [
        {
          "output_type": "display_data",
          "data": {
            "text/html": [
              "<div>\n",
              "<style scoped>\n",
              "    .dataframe tbody tr th:only-of-type {\n",
              "        vertical-align: middle;\n",
              "    }\n",
              "\n",
              "    .dataframe tbody tr th {\n",
              "        vertical-align: top;\n",
              "    }\n",
              "\n",
              "    .dataframe thead th {\n",
              "        text-align: right;\n",
              "    }\n",
              "</style>\n",
              "<table border=\"1\" class=\"dataframe\">\n",
              "  <thead>\n",
              "    <tr style=\"text-align: right;\">\n",
              "      <th></th>\n",
              "      <th>Pclass</th>\n",
              "      <th>Age</th>\n",
              "      <th>SibSp</th>\n",
              "      <th>Parch</th>\n",
              "      <th>Fare</th>\n",
              "    </tr>\n",
              "  </thead>\n",
              "  <tbody>\n",
              "    <tr>\n",
              "      <th>count</th>\n",
              "      <td>891.000000</td>\n",
              "      <td>714.000000</td>\n",
              "      <td>891.000000</td>\n",
              "      <td>891.000000</td>\n",
              "      <td>891.000000</td>\n",
              "    </tr>\n",
              "    <tr>\n",
              "      <th>mean</th>\n",
              "      <td>2.308642</td>\n",
              "      <td>29.699118</td>\n",
              "      <td>0.523008</td>\n",
              "      <td>0.381594</td>\n",
              "      <td>32.204208</td>\n",
              "    </tr>\n",
              "    <tr>\n",
              "      <th>std</th>\n",
              "      <td>0.836071</td>\n",
              "      <td>14.526497</td>\n",
              "      <td>1.102743</td>\n",
              "      <td>0.806057</td>\n",
              "      <td>49.693429</td>\n",
              "    </tr>\n",
              "    <tr>\n",
              "      <th>min</th>\n",
              "      <td>1.000000</td>\n",
              "      <td>0.420000</td>\n",
              "      <td>0.000000</td>\n",
              "      <td>0.000000</td>\n",
              "      <td>0.000000</td>\n",
              "    </tr>\n",
              "    <tr>\n",
              "      <th>25%</th>\n",
              "      <td>2.000000</td>\n",
              "      <td>20.125000</td>\n",
              "      <td>0.000000</td>\n",
              "      <td>0.000000</td>\n",
              "      <td>7.910400</td>\n",
              "    </tr>\n",
              "    <tr>\n",
              "      <th>50%</th>\n",
              "      <td>3.000000</td>\n",
              "      <td>28.000000</td>\n",
              "      <td>0.000000</td>\n",
              "      <td>0.000000</td>\n",
              "      <td>14.454200</td>\n",
              "    </tr>\n",
              "    <tr>\n",
              "      <th>75%</th>\n",
              "      <td>3.000000</td>\n",
              "      <td>38.000000</td>\n",
              "      <td>1.000000</td>\n",
              "      <td>0.000000</td>\n",
              "      <td>31.000000</td>\n",
              "    </tr>\n",
              "    <tr>\n",
              "      <th>max</th>\n",
              "      <td>3.000000</td>\n",
              "      <td>80.000000</td>\n",
              "      <td>8.000000</td>\n",
              "      <td>6.000000</td>\n",
              "      <td>512.329200</td>\n",
              "    </tr>\n",
              "  </tbody>\n",
              "</table>\n",
              "</div>"
            ],
            "text/plain": [
              "           Pclass         Age       SibSp       Parch        Fare\n",
              "count  891.000000  714.000000  891.000000  891.000000  891.000000\n",
              "mean     2.308642   29.699118    0.523008    0.381594   32.204208\n",
              "std      0.836071   14.526497    1.102743    0.806057   49.693429\n",
              "min      1.000000    0.420000    0.000000    0.000000    0.000000\n",
              "25%      2.000000   20.125000    0.000000    0.000000    7.910400\n",
              "50%      3.000000   28.000000    0.000000    0.000000   14.454200\n",
              "75%      3.000000   38.000000    1.000000    0.000000   31.000000\n",
              "max      3.000000   80.000000    8.000000    6.000000  512.329200"
            ]
          },
          "metadata": {
            "tags": []
          }
        }
      ]
    },
    {
      "cell_type": "code",
      "metadata": {
        "colab_type": "code",
        "outputId": "2604d146-c22a-4ac1-8dd2-2e405d2174ad",
        "id": "megSNvG9eA38",
        "colab": {
          "base_uri": "https://localhost:8080/",
          "height": 297
        }
      },
      "source": [
        "# Estadísticas del DataFrame test\n",
        "display(X_test.describe())"
      ],
      "execution_count": 13,
      "outputs": [
        {
          "output_type": "display_data",
          "data": {
            "text/html": [
              "<div>\n",
              "<style scoped>\n",
              "    .dataframe tbody tr th:only-of-type {\n",
              "        vertical-align: middle;\n",
              "    }\n",
              "\n",
              "    .dataframe tbody tr th {\n",
              "        vertical-align: top;\n",
              "    }\n",
              "\n",
              "    .dataframe thead th {\n",
              "        text-align: right;\n",
              "    }\n",
              "</style>\n",
              "<table border=\"1\" class=\"dataframe\">\n",
              "  <thead>\n",
              "    <tr style=\"text-align: right;\">\n",
              "      <th></th>\n",
              "      <th>Pclass</th>\n",
              "      <th>Age</th>\n",
              "      <th>SibSp</th>\n",
              "      <th>Parch</th>\n",
              "      <th>Fare</th>\n",
              "    </tr>\n",
              "  </thead>\n",
              "  <tbody>\n",
              "    <tr>\n",
              "      <th>count</th>\n",
              "      <td>418.000000</td>\n",
              "      <td>332.000000</td>\n",
              "      <td>418.000000</td>\n",
              "      <td>418.000000</td>\n",
              "      <td>417.000000</td>\n",
              "    </tr>\n",
              "    <tr>\n",
              "      <th>mean</th>\n",
              "      <td>2.265550</td>\n",
              "      <td>30.272590</td>\n",
              "      <td>0.447368</td>\n",
              "      <td>0.392344</td>\n",
              "      <td>35.627188</td>\n",
              "    </tr>\n",
              "    <tr>\n",
              "      <th>std</th>\n",
              "      <td>0.841838</td>\n",
              "      <td>14.181209</td>\n",
              "      <td>0.896760</td>\n",
              "      <td>0.981429</td>\n",
              "      <td>55.907576</td>\n",
              "    </tr>\n",
              "    <tr>\n",
              "      <th>min</th>\n",
              "      <td>1.000000</td>\n",
              "      <td>0.170000</td>\n",
              "      <td>0.000000</td>\n",
              "      <td>0.000000</td>\n",
              "      <td>0.000000</td>\n",
              "    </tr>\n",
              "    <tr>\n",
              "      <th>25%</th>\n",
              "      <td>1.000000</td>\n",
              "      <td>21.000000</td>\n",
              "      <td>0.000000</td>\n",
              "      <td>0.000000</td>\n",
              "      <td>7.895800</td>\n",
              "    </tr>\n",
              "    <tr>\n",
              "      <th>50%</th>\n",
              "      <td>3.000000</td>\n",
              "      <td>27.000000</td>\n",
              "      <td>0.000000</td>\n",
              "      <td>0.000000</td>\n",
              "      <td>14.454200</td>\n",
              "    </tr>\n",
              "    <tr>\n",
              "      <th>75%</th>\n",
              "      <td>3.000000</td>\n",
              "      <td>39.000000</td>\n",
              "      <td>1.000000</td>\n",
              "      <td>0.000000</td>\n",
              "      <td>31.500000</td>\n",
              "    </tr>\n",
              "    <tr>\n",
              "      <th>max</th>\n",
              "      <td>3.000000</td>\n",
              "      <td>76.000000</td>\n",
              "      <td>8.000000</td>\n",
              "      <td>9.000000</td>\n",
              "      <td>512.329200</td>\n",
              "    </tr>\n",
              "  </tbody>\n",
              "</table>\n",
              "</div>"
            ],
            "text/plain": [
              "           Pclass         Age       SibSp       Parch        Fare\n",
              "count  418.000000  332.000000  418.000000  418.000000  417.000000\n",
              "mean     2.265550   30.272590    0.447368    0.392344   35.627188\n",
              "std      0.841838   14.181209    0.896760    0.981429   55.907576\n",
              "min      1.000000    0.170000    0.000000    0.000000    0.000000\n",
              "25%      1.000000   21.000000    0.000000    0.000000    7.895800\n",
              "50%      3.000000   27.000000    0.000000    0.000000   14.454200\n",
              "75%      3.000000   39.000000    1.000000    0.000000   31.500000\n",
              "max      3.000000   76.000000    8.000000    9.000000  512.329200"
            ]
          },
          "metadata": {
            "tags": []
          }
        }
      ]
    },
    {
      "cell_type": "markdown",
      "metadata": {
        "id": "GQu6vQzI8161",
        "colab_type": "text"
      },
      "source": [
        "## Análisis de normalidad y homocedasticidad"
      ]
    },
    {
      "cell_type": "code",
      "metadata": {
        "id": "Yx5qkMO5snPk",
        "colab_type": "code",
        "colab": {}
      },
      "source": [
        "# Se define una función para realizar el análisis de normalidad\n",
        "def normality_test(X, variable):\n",
        "  # Se aplica el test Shapiro-Wilk para la variable\n",
        "  statistic, pvalue = stats.shapiro(X[variable])\n",
        "  print('statistic = '+str(statistic))\n",
        "  print('pvalue = '+str(pvalue))\n",
        "\n",
        "  if pvalue < 0.05:\n",
        "    print(\"La distribución no se ajusta a una distribución normal\")\n",
        "  if pvalue > 0.05:\n",
        "    print(\"La distribución se ajusta a una distribución normal\")\n",
        "    \n",
        "  # Se muestra el histograma de la variable\n",
        "  plot = sns.distplot(X[variable]);"
      ],
      "execution_count": 0,
      "outputs": []
    },
    {
      "cell_type": "code",
      "metadata": {
        "id": "1vkdQ14hs_E7",
        "colab_type": "code",
        "colab": {}
      },
      "source": [
        "# Se define una función para realizar el análisis de homocedasticidad\n",
        "def homoscedasticity_test(X, variable):\n",
        "  # Se aplica el test Fligner-Killeen para la variable\n",
        "  # según si la persona sobrevivió o no\n",
        "  statistic, pvalue = stats.fligner(X[X['Survived'] == 0][variable], \n",
        "                                    X[X['Survived'] == 1][variable])\n",
        "  print('statistic = '+str(statistic))\n",
        "  print('pvalue = '+str(pvalue))\n",
        "\n",
        "  var_0 = np.var(X[X['Survived'] == 0][variable])\n",
        "  var_1 = np.var(X[X['Survived'] == 1][variable])\n",
        "\n",
        "  print('variance [Survived = 0] = '+str(var_0))\n",
        "  print('variance [Survived = 1] = '+str(var_1))\n",
        "\n",
        "  if pvalue < 0.05:\n",
        "    print(\"Las varianzas son significativamente difernetes\")\n",
        "  else:\n",
        "    print(\"Las varianzas no son significativamente difernetes\")\n",
        "\n",
        "  # Se muestran los histogramas de la variable \n",
        "  # según si la persona sobrevivió o no\n",
        "  plot = sns.catplot(x = variable, kind = \"box\", row = 'Survived', \n",
        "                     height = 4, data = X)"
      ],
      "execution_count": 0,
      "outputs": []
    },
    {
      "cell_type": "code",
      "metadata": {
        "id": "_2eSzyqCsMFk",
        "colab_type": "code",
        "outputId": "948b1e5f-c08a-40c0-e2f4-a44f07716037",
        "colab": {
          "base_uri": "https://localhost:8080/",
          "height": 330
        }
      },
      "source": [
        "# Se analiza la normalidad para las variables continuas\n",
        "# Análisis de normalidad para la variable 'Age'\n",
        "# en el conjunto de datos de entrenamiento\n",
        "normality_test(df_train, 'Age')"
      ],
      "execution_count": 16,
      "outputs": [
        {
          "output_type": "stream",
          "text": [
            "statistic = nan\n",
            "pvalue = 1.0\n",
            "La distribución se ajusta a una distribución normal\n"
          ],
          "name": "stdout"
        },
        {
          "output_type": "display_data",
          "data": {
            "image/png": "[encoded data removed]",
            "text/plain": [
              "<Figure size 432x288 with 1 Axes>"
            ]
          },
          "metadata": {
            "tags": [],
            "needs_background": "light"
          }
        }
      ]
    },
    {
      "cell_type": "code",
      "metadata": {
        "id": "XjoY3VsD87Rr",
        "colab_type": "code",
        "outputId": "00222506-0811-4624-e8a7-e65e6ad3a5f8",
        "colab": {
          "base_uri": "https://localhost:8080/",
          "height": 330
        }
      },
      "source": [
        "# Análisis de normalidad para la variable 'Age'\n",
        "# en el conjunto de datos de test\n",
        "normality_test(df_test, 'Age')"
      ],
      "execution_count": 17,
      "outputs": [
        {
          "output_type": "stream",
          "text": [
            "statistic = nan\n",
            "pvalue = 1.0\n",
            "La distribución se ajusta a una distribución normal\n"
          ],
          "name": "stdout"
        },
        {
          "output_type": "display_data",
          "data": {
            "image/png": "[encoded data removed]",
            "text/plain": [
              "<Figure size 432x288 with 1 Axes>"
            ]
          },
          "metadata": {
            "tags": [],
            "needs_background": "light"
          }
        }
      ]
    },
    {
      "cell_type": "code",
      "metadata": {
        "id": "oLQSgyvI9TTb",
        "colab_type": "code",
        "outputId": "e414d5e8-31eb-4c64-aaa3-bf46c0f83949",
        "colab": {
          "base_uri": "https://localhost:8080/",
          "height": 331
        }
      },
      "source": [
        "# Análisis de normalidad para la variable 'Fare'\n",
        "# en el conjunto de datos de entrenamiento\n",
        "normality_test(df_train, 'Fare')"
      ],
      "execution_count": 18,
      "outputs": [
        {
          "output_type": "stream",
          "text": [
            "statistic = 0.5218914747238159\n",
            "pvalue = 1.0789998175301091e-43\n",
            "La distribución no se ajusta a una distribución normal\n"
          ],
          "name": "stdout"
        },
        {
          "output_type": "display_data",
          "data": {
            "image/png": "[encoded data removed]",
            "text/plain": [
              "<Figure size 432x288 with 1 Axes>"
            ]
          },
          "metadata": {
            "tags": [],
            "needs_background": "light"
          }
        }
      ]
    },
    {
      "cell_type": "code",
      "metadata": {
        "id": "ddlvSFxgtbdx",
        "colab_type": "code",
        "outputId": "ad283bfe-bf9b-4edc-901e-98eb6dd73d59",
        "colab": {
          "base_uri": "https://localhost:8080/",
          "height": 330
        }
      },
      "source": [
        "# Análisis de normalidad para la variable 'Fare'\n",
        "# en el conjunto de datos de test\n",
        "normality_test(df_test, 'Fare')"
      ],
      "execution_count": 19,
      "outputs": [
        {
          "output_type": "stream",
          "text": [
            "statistic = nan\n",
            "pvalue = 1.0\n",
            "La distribución se ajusta a una distribución normal\n"
          ],
          "name": "stdout"
        },
        {
          "output_type": "display_data",
          "data": {
            "image/png": "[encoded data removed]",
            "text/plain": [
              "<Figure size 432x288 with 1 Axes>"
            ]
          },
          "metadata": {
            "tags": [],
            "needs_background": "light"
          }
        }
      ]
    },
    {
      "cell_type": "code",
      "metadata": {
        "id": "qsG_6TV_pgOE",
        "colab_type": "code",
        "outputId": "9b3d0433-da59-48e4-9c46-8441b6d13f11",
        "colab": {
          "base_uri": "https://localhost:8080/",
          "height": 670
        }
      },
      "source": [
        "# Análisis de homocedasticidad para la variable 'Age'\n",
        "homoscedasticity_test(df_train, 'Age')"
      ],
      "execution_count": 20,
      "outputs": [
        {
          "output_type": "stream",
          "text": [
            "statistic = 293.7173156541651\n",
            "pvalue = 7.702014597162354e-66\n",
            "variance [Survived = 0] = 200.3749986093805\n",
            "variance [Survived = 1] = 222.7601688002378\n",
            "Las varianzas son significativamente difernetes\n"
          ],
          "name": "stdout"
        },
        {
          "output_type": "display_data",
          "data": {
            "image/png": "[encoded data removed]",
            "text/plain": [
              "<Figure size 288x576 with 2 Axes>"
            ]
          },
          "metadata": {
            "tags": [],
            "needs_background": "light"
          }
        }
      ]
    },
    {
      "cell_type": "code",
      "metadata": {
        "id": "vn1VkARPtfJk",
        "colab_type": "code",
        "outputId": "b7a5edd6-492e-44e7-d0eb-0487ea05e017",
        "colab": {
          "base_uri": "https://localhost:8080/",
          "height": 670
        }
      },
      "source": [
        "# Análisis de homocedasticidad para la variable 'Fare'\n",
        "homoscedasticity_test(df_train, 'Fare')"
      ],
      "execution_count": 21,
      "outputs": [
        {
          "output_type": "stream",
          "text": [
            "statistic = 96.2527395111909\n",
            "pvalue = 1.0111515793725321e-22\n",
            "variance [Survived = 0] = 983.4249381503206\n",
            "variance [Survived = 1] = 4422.191853811519\n",
            "Las varianzas son significativamente difernetes\n"
          ],
          "name": "stdout"
        },
        {
          "output_type": "display_data",
          "data": {
            "image/png": "[encoded data removed]",
            "text/plain": [
              "<Figure size 288x576 with 2 Axes>"
            ]
          },
          "metadata": {
            "tags": [],
            "needs_background": "light"
          }
        }
      ]
    },
    {
      "cell_type": "markdown",
      "metadata": {
        "id": "A277m6ABwqpB",
        "colab_type": "text"
      },
      "source": [
        "# 3 - Limpieza de datos"
      ]
    },
    {
      "cell_type": "markdown",
      "metadata": {
        "id": "8LKjD6vu9e-h",
        "colab_type": "text"
      },
      "source": [
        "## Tratar los valores extremos"
      ]
    },
    {
      "cell_type": "code",
      "metadata": {
        "id": "8FVZdfxuH7Gw",
        "colab_type": "code",
        "colab": {}
      },
      "source": [
        "# Se define una función para eliminar valores extremos\n",
        "def remove_outliers(X, feature, qmin, qmax):\n",
        "  X.loc[~X[feature].between(qmin, qmax), feature] = np.nan\n",
        "  return X"
      ],
      "execution_count": 0,
      "outputs": []
    },
    {
      "cell_type": "code",
      "metadata": {
        "id": "gxIQnqrqOa37",
        "colab_type": "code",
        "outputId": "89acf6a7-b14d-4421-ed63-a11ac0c96003",
        "colab": {
          "base_uri": "https://localhost:8080/",
          "height": 279
        }
      },
      "source": [
        "# El análisis de outliers solo tiene sentido para variables continuas\n",
        "# Se muestra una boxplot de la variable 'Age' para el DataFrame de entrenamiento\n",
        "plot = sns.boxplot(X_train['Age']);"
      ],
      "execution_count": 23,
      "outputs": [
        {
          "output_type": "display_data",
          "data": {
            "image/png": "[encoded data removed]",
            "text/plain": [
              "<Figure size 432x288 with 1 Axes>"
            ]
          },
          "metadata": {
            "tags": [],
            "needs_background": "light"
          }
        }
      ]
    },
    {
      "cell_type": "code",
      "metadata": {
        "id": "emGp9JVNOkFV",
        "colab_type": "code",
        "outputId": "c66fa281-15ed-4bbe-c8e8-ce433e845db1",
        "colab": {
          "base_uri": "https://localhost:8080/",
          "height": 279
        }
      },
      "source": [
        "# Se muestra una boxplot de la variable 'Age' para el DataFrame de test\n",
        "plot = sns.boxplot(X_test['Age']);"
      ],
      "execution_count": 24,
      "outputs": [
        {
          "output_type": "display_data",
          "data": {
            "image/png": "[encoded data removed]",
            "text/plain": [
              "<Figure size 432x288 with 1 Axes>"
            ]
          },
          "metadata": {
            "tags": [],
            "needs_background": "light"
          }
        }
      ]
    },
    {
      "cell_type": "code",
      "metadata": {
        "id": "WCK2ZvcXOpKm",
        "colab_type": "code",
        "colab": {}
      },
      "source": [
        "# Si se decide eliminar/reducir los outliers\n",
        "if remove_outilers_quantile > 0:\n",
        "  # Se eliminan/reduce el número de valores extremos\n",
        "  qmin = X_train['Age'].quantile(remove_outilers_quantile)\n",
        "  qmax = X_train['Age'].quantile(1 - remove_outilers_quantile)\n",
        "  X_train = remove_outliers(X_train, 'Age', qmin, qmax)\n",
        "  X_test = remove_outliers(X_test, 'Age', qmin, qmax)"
      ],
      "execution_count": 0,
      "outputs": []
    },
    {
      "cell_type": "code",
      "metadata": {
        "id": "1qwIMuXiO8KR",
        "colab_type": "code",
        "outputId": "070685c4-b302-4133-cf7d-3fa838fdd317",
        "colab": {
          "base_uri": "https://localhost:8080/",
          "height": 279
        }
      },
      "source": [
        "# Si se decide eliminar/reducir los outliers\n",
        "if remove_outilers_quantile > 0:\n",
        "  # Se muestra una boxplot de la variable 'Age' \n",
        "  # para el DataFrame de entrenamiento\n",
        "  plot = sns.boxplot(X_train['Age']);"
      ],
      "execution_count": 26,
      "outputs": [
        {
          "output_type": "display_data",
          "data": {
            "image/png": "[encoded data removed]",
            "text/plain": [
              "<Figure size 432x288 with 1 Axes>"
            ]
          },
          "metadata": {
            "tags": [],
            "needs_background": "light"
          }
        }
      ]
    },
    {
      "cell_type": "code",
      "metadata": {
        "id": "BUsKxEziQBWM",
        "colab_type": "code",
        "outputId": "878e5abf-56d6-4ee3-cf46-04a0f44fe11b",
        "colab": {
          "base_uri": "https://localhost:8080/",
          "height": 279
        }
      },
      "source": [
        "# Si se decide eliminar/reducir los outliers\n",
        "if remove_outilers_quantile > 0:\n",
        "  # Se muestra una boxplot de la variable 'Fare' \n",
        "  # para el DataFrame de test\n",
        "  plot = sns.boxplot(X_test['Age']);"
      ],
      "execution_count": 27,
      "outputs": [
        {
          "output_type": "display_data",
          "data": {
            "image/png": "[encoded data removed]",
            "text/plain": [
              "<Figure size 432x288 with 1 Axes>"
            ]
          },
          "metadata": {
            "tags": [],
            "needs_background": "light"
          }
        }
      ]
    },
    {
      "cell_type": "code",
      "metadata": {
        "id": "ZhDnso-kG0mX",
        "colab_type": "code",
        "outputId": "15c96636-cb26-4f6a-d8ec-5d8cc9de1cae",
        "colab": {
          "base_uri": "https://localhost:8080/",
          "height": 279
        }
      },
      "source": [
        "# Se muestra una boxplot de la variable 'Fare' \n",
        "# para el DataFrame de entrenamiento\n",
        "plot = sns.boxplot(X_train['Fare']);"
      ],
      "execution_count": 28,
      "outputs": [
        {
          "output_type": "display_data",
          "data": {
            "image/png": "[encoded data removed]",
            "text/plain": [
              "<Figure size 432x288 with 1 Axes>"
            ]
          },
          "metadata": {
            "tags": [],
            "needs_background": "light"
          }
        }
      ]
    },
    {
      "cell_type": "code",
      "metadata": {
        "id": "hgKlxYcLQHpw",
        "colab_type": "code",
        "outputId": "47e77d2d-08c8-4af2-ae3e-9b74976d9559",
        "colab": {
          "base_uri": "https://localhost:8080/",
          "height": 279
        }
      },
      "source": [
        "# Se muestra una boxplot de la variable 'Fare' \n",
        "# para el DataFrame de test\n",
        "plot = sns.boxplot(X_test['Fare']);"
      ],
      "execution_count": 29,
      "outputs": [
        {
          "output_type": "display_data",
          "data": {
            "image/png": "[encoded data removed]",
            "text/plain": [
              "<Figure size 432x288 with 1 Axes>"
            ]
          },
          "metadata": {
            "tags": [],
            "needs_background": "light"
          }
        }
      ]
    },
    {
      "cell_type": "code",
      "metadata": {
        "id": "QrkDo_XQG4Od",
        "colab_type": "code",
        "colab": {}
      },
      "source": [
        "# Si se decide eliminar/reducir los outliers\n",
        "if remove_outilers_quantile > 0:\n",
        "  # Se eliminan/reduce el número de valores extremos\n",
        "  qmin = X_train['Fare'].quantile(remove_outilers_quantile)\n",
        "  qmax = X_train['Fare'].quantile(1 - remove_outilers_quantile)\n",
        "  X_train = remove_outliers(X_train, 'Fare', qmin, qmax)\n",
        "  X_test = remove_outliers(X_test, 'Fare', qmin, qmax)"
      ],
      "execution_count": 0,
      "outputs": []
    },
    {
      "cell_type": "code",
      "metadata": {
        "id": "exXgzP6SHGGB",
        "colab_type": "code",
        "outputId": "b3a6930f-7f66-44d0-cdb5-f36c65425e83",
        "colab": {
          "base_uri": "https://localhost:8080/",
          "height": 279
        }
      },
      "source": [
        "# Si se decide eliminar/reducir los outliers\n",
        "if remove_outilers_quantile > 0:\n",
        "  # Se muestra una boxplot de la variable 'Fare' \n",
        "  # para el DataFrame de entrenamiento\n",
        "  plot = sns.boxplot(X_train['Fare']);"
      ],
      "execution_count": 31,
      "outputs": [
        {
          "output_type": "display_data",
          "data": {
            "image/png": "[encoded data removed]",
            "text/plain": [
              "<Figure size 432x288 with 1 Axes>"
            ]
          },
          "metadata": {
            "tags": [],
            "needs_background": "light"
          }
        }
      ]
    },
    {
      "cell_type": "code",
      "metadata": {
        "id": "PFvp9b5AQY-4",
        "colab_type": "code",
        "outputId": "182e93d9-e8bf-41a3-e5ff-1dafed195551",
        "colab": {
          "base_uri": "https://localhost:8080/",
          "height": 279
        }
      },
      "source": [
        "# Si se decide eliminar/reducir los outliers\n",
        "if remove_outilers_quantile > 0:\n",
        "  # Se muestra una boxplot de la variable 'Parch' para el DataFrame de test\n",
        "  plot = sns.boxplot(X_test['Fare']);"
      ],
      "execution_count": 32,
      "outputs": [
        {
          "output_type": "display_data",
          "data": {
            "image/png": "[encoded data removed]",
            "text/plain": [
              "<Figure size 432x288 with 1 Axes>"
            ]
          },
          "metadata": {
            "tags": [],
            "needs_background": "light"
          }
        }
      ]
    },
    {
      "cell_type": "code",
      "metadata": {
        "id": "lpW_BTBQSZF5",
        "colab_type": "code",
        "outputId": "85595b9b-f702-4b4a-d028-3ce5bc973a58",
        "colab": {
          "base_uri": "https://localhost:8080/",
          "height": 541
        }
      },
      "source": [
        "# Se muestran las características del DataFrame de entrenamiento\n",
        "display(X_train.info())\n",
        "display(X_train.head())"
      ],
      "execution_count": 33,
      "outputs": [
        {
          "output_type": "stream",
          "text": [
            "<class 'pandas.core.frame.DataFrame'>\n",
            "Int64Index: 891 entries, 1 to 891\n",
            "Data columns (total 10 columns):\n",
            " #   Column    Non-Null Count  Dtype  \n",
            "---  ------    --------------  -----  \n",
            " 0   Pclass    891 non-null    int64  \n",
            " 1   Name      891 non-null    object \n",
            " 2   Sex       891 non-null    object \n",
            " 3   Age       579 non-null    float64\n",
            " 4   SibSp     891 non-null    int64  \n",
            " 5   Parch     891 non-null    int64  \n",
            " 6   Ticket    891 non-null    object \n",
            " 7   Fare      716 non-null    float64\n",
            " 8   Cabin     204 non-null    object \n",
            " 9   Embarked  889 non-null    object \n",
            "dtypes: float64(2), int64(3), object(5)\n",
            "memory usage: 76.6+ KB\n"
          ],
          "name": "stdout"
        },
        {
          "output_type": "display_data",
          "data": {
            "text/plain": [
              "None"
            ]
          },
          "metadata": {
            "tags": []
          }
        },
        {
          "output_type": "display_data",
          "data": {
            "text/html": [
              "<div>\n",
              "<style scoped>\n",
              "    .dataframe tbody tr th:only-of-type {\n",
              "        vertical-align: middle;\n",
              "    }\n",
              "\n",
              "    .dataframe tbody tr th {\n",
              "        vertical-align: top;\n",
              "    }\n",
              "\n",
              "    .dataframe thead th {\n",
              "        text-align: right;\n",
              "    }\n",
              "</style>\n",
              "<table border=\"1\" class=\"dataframe\">\n",
              "  <thead>\n",
              "    <tr style=\"text-align: right;\">\n",
              "      <th></th>\n",
              "      <th>Pclass</th>\n",
              "      <th>Name</th>\n",
              "      <th>Sex</th>\n",
              "      <th>Age</th>\n",
              "      <th>SibSp</th>\n",
              "      <th>Parch</th>\n",
              "      <th>Ticket</th>\n",
              "      <th>Fare</th>\n",
              "      <th>Cabin</th>\n",
              "      <th>Embarked</th>\n",
              "    </tr>\n",
              "    <tr>\n",
              "      <th>PassengerId</th>\n",
              "      <th></th>\n",
              "      <th></th>\n",
              "      <th></th>\n",
              "      <th></th>\n",
              "      <th></th>\n",
              "      <th></th>\n",
              "      <th></th>\n",
              "      <th></th>\n",
              "      <th></th>\n",
              "      <th></th>\n",
              "    </tr>\n",
              "  </thead>\n",
              "  <tbody>\n",
              "    <tr>\n",
              "      <th>1</th>\n",
              "      <td>3</td>\n",
              "      <td>Braund, Mr. Owen Harris</td>\n",
              "      <td>male</td>\n",
              "      <td>22.0</td>\n",
              "      <td>1</td>\n",
              "      <td>0</td>\n",
              "      <td>A/5 21171</td>\n",
              "      <td>NaN</td>\n",
              "      <td>NaN</td>\n",
              "      <td>S</td>\n",
              "    </tr>\n",
              "    <tr>\n",
              "      <th>2</th>\n",
              "      <td>1</td>\n",
              "      <td>Cumings, Mrs. John Bradley (Florence Briggs Th...</td>\n",
              "      <td>female</td>\n",
              "      <td>38.0</td>\n",
              "      <td>1</td>\n",
              "      <td>0</td>\n",
              "      <td>PC 17599</td>\n",
              "      <td>71.2833</td>\n",
              "      <td>C85</td>\n",
              "      <td>C</td>\n",
              "    </tr>\n",
              "    <tr>\n",
              "      <th>3</th>\n",
              "      <td>3</td>\n",
              "      <td>Heikkinen, Miss. Laina</td>\n",
              "      <td>female</td>\n",
              "      <td>26.0</td>\n",
              "      <td>0</td>\n",
              "      <td>0</td>\n",
              "      <td>STON/O2. 3101282</td>\n",
              "      <td>7.9250</td>\n",
              "      <td>NaN</td>\n",
              "      <td>S</td>\n",
              "    </tr>\n",
              "    <tr>\n",
              "      <th>4</th>\n",
              "      <td>1</td>\n",
              "      <td>Futrelle, Mrs. Jacques Heath (Lily May Peel)</td>\n",
              "      <td>female</td>\n",
              "      <td>35.0</td>\n",
              "      <td>1</td>\n",
              "      <td>0</td>\n",
              "      <td>113803</td>\n",
              "      <td>53.1000</td>\n",
              "      <td>C123</td>\n",
              "      <td>S</td>\n",
              "    </tr>\n",
              "    <tr>\n",
              "      <th>5</th>\n",
              "      <td>3</td>\n",
              "      <td>Allen, Mr. William Henry</td>\n",
              "      <td>male</td>\n",
              "      <td>35.0</td>\n",
              "      <td>0</td>\n",
              "      <td>0</td>\n",
              "      <td>373450</td>\n",
              "      <td>8.0500</td>\n",
              "      <td>NaN</td>\n",
              "      <td>S</td>\n",
              "    </tr>\n",
              "  </tbody>\n",
              "</table>\n",
              "</div>"
            ],
            "text/plain": [
              "             Pclass  ... Embarked\n",
              "PassengerId          ...         \n",
              "1                 3  ...        S\n",
              "2                 1  ...        C\n",
              "3                 3  ...        S\n",
              "4                 1  ...        S\n",
              "5                 3  ...        S\n",
              "\n",
              "[5 rows x 10 columns]"
            ]
          },
          "metadata": {
            "tags": []
          }
        }
      ]
    },
    {
      "cell_type": "code",
      "metadata": {
        "id": "-DeXfFILSgly",
        "colab_type": "code",
        "outputId": "106e4671-cf0a-4a7d-c836-bf8011374c15",
        "colab": {
          "base_uri": "https://localhost:8080/",
          "height": 541
        }
      },
      "source": [
        "# Se muestran las características del DataFrame de test\n",
        "display(X_test.info())\n",
        "display(X_test.head())"
      ],
      "execution_count": 34,
      "outputs": [
        {
          "output_type": "stream",
          "text": [
            "<class 'pandas.core.frame.DataFrame'>\n",
            "Int64Index: 418 entries, 892 to 1309\n",
            "Data columns (total 10 columns):\n",
            " #   Column    Non-Null Count  Dtype  \n",
            "---  ------    --------------  -----  \n",
            " 0   Pclass    418 non-null    int64  \n",
            " 1   Name      418 non-null    object \n",
            " 2   Sex       418 non-null    object \n",
            " 3   Age       273 non-null    float64\n",
            " 4   SibSp     418 non-null    int64  \n",
            " 5   Parch     418 non-null    int64  \n",
            " 6   Ticket    418 non-null    object \n",
            " 7   Fare      338 non-null    float64\n",
            " 8   Cabin     91 non-null     object \n",
            " 9   Embarked  418 non-null    object \n",
            "dtypes: float64(2), int64(3), object(5)\n",
            "memory usage: 35.9+ KB\n"
          ],
          "name": "stdout"
        },
        {
          "output_type": "display_data",
          "data": {
            "text/plain": [
              "None"
            ]
          },
          "metadata": {
            "tags": []
          }
        },
        {
          "output_type": "display_data",
          "data": {
            "text/html": [
              "<div>\n",
              "<style scoped>\n",
              "    .dataframe tbody tr th:only-of-type {\n",
              "        vertical-align: middle;\n",
              "    }\n",
              "\n",
              "    .dataframe tbody tr th {\n",
              "        vertical-align: top;\n",
              "    }\n",
              "\n",
              "    .dataframe thead th {\n",
              "        text-align: right;\n",
              "    }\n",
              "</style>\n",
              "<table border=\"1\" class=\"dataframe\">\n",
              "  <thead>\n",
              "    <tr style=\"text-align: right;\">\n",
              "      <th></th>\n",
              "      <th>Pclass</th>\n",
              "      <th>Name</th>\n",
              "      <th>Sex</th>\n",
              "      <th>Age</th>\n",
              "      <th>SibSp</th>\n",
              "      <th>Parch</th>\n",
              "      <th>Ticket</th>\n",
              "      <th>Fare</th>\n",
              "      <th>Cabin</th>\n",
              "      <th>Embarked</th>\n",
              "    </tr>\n",
              "    <tr>\n",
              "      <th>PassengerId</th>\n",
              "      <th></th>\n",
              "      <th></th>\n",
              "      <th></th>\n",
              "      <th></th>\n",
              "      <th></th>\n",
              "      <th></th>\n",
              "      <th></th>\n",
              "      <th></th>\n",
              "      <th></th>\n",
              "      <th></th>\n",
              "    </tr>\n",
              "  </thead>\n",
              "  <tbody>\n",
              "    <tr>\n",
              "      <th>892</th>\n",
              "      <td>3</td>\n",
              "      <td>Kelly, Mr. James</td>\n",
              "      <td>male</td>\n",
              "      <td>34.5</td>\n",
              "      <td>0</td>\n",
              "      <td>0</td>\n",
              "      <td>330911</td>\n",
              "      <td>7.8292</td>\n",
              "      <td>NaN</td>\n",
              "      <td>Q</td>\n",
              "    </tr>\n",
              "    <tr>\n",
              "      <th>893</th>\n",
              "      <td>3</td>\n",
              "      <td>Wilkes, Mrs. James (Ellen Needs)</td>\n",
              "      <td>female</td>\n",
              "      <td>47.0</td>\n",
              "      <td>1</td>\n",
              "      <td>0</td>\n",
              "      <td>363272</td>\n",
              "      <td>NaN</td>\n",
              "      <td>NaN</td>\n",
              "      <td>S</td>\n",
              "    </tr>\n",
              "    <tr>\n",
              "      <th>894</th>\n",
              "      <td>2</td>\n",
              "      <td>Myles, Mr. Thomas Francis</td>\n",
              "      <td>male</td>\n",
              "      <td>NaN</td>\n",
              "      <td>0</td>\n",
              "      <td>0</td>\n",
              "      <td>240276</td>\n",
              "      <td>9.6875</td>\n",
              "      <td>NaN</td>\n",
              "      <td>Q</td>\n",
              "    </tr>\n",
              "    <tr>\n",
              "      <th>895</th>\n",
              "      <td>3</td>\n",
              "      <td>Wirz, Mr. Albert</td>\n",
              "      <td>male</td>\n",
              "      <td>27.0</td>\n",
              "      <td>0</td>\n",
              "      <td>0</td>\n",
              "      <td>315154</td>\n",
              "      <td>8.6625</td>\n",
              "      <td>NaN</td>\n",
              "      <td>S</td>\n",
              "    </tr>\n",
              "    <tr>\n",
              "      <th>896</th>\n",
              "      <td>3</td>\n",
              "      <td>Hirvonen, Mrs. Alexander (Helga E Lindqvist)</td>\n",
              "      <td>female</td>\n",
              "      <td>22.0</td>\n",
              "      <td>1</td>\n",
              "      <td>1</td>\n",
              "      <td>3101298</td>\n",
              "      <td>12.2875</td>\n",
              "      <td>NaN</td>\n",
              "      <td>S</td>\n",
              "    </tr>\n",
              "  </tbody>\n",
              "</table>\n",
              "</div>"
            ],
            "text/plain": [
              "             Pclass  ... Embarked\n",
              "PassengerId          ...         \n",
              "892               3  ...        Q\n",
              "893               3  ...        S\n",
              "894               2  ...        Q\n",
              "895               3  ...        S\n",
              "896               3  ...        S\n",
              "\n",
              "[5 rows x 10 columns]"
            ]
          },
          "metadata": {
            "tags": []
          }
        }
      ]
    },
    {
      "cell_type": "markdown",
      "metadata": {
        "id": "GZvYibYSw5WP",
        "colab_type": "text"
      },
      "source": [
        "## Extraer nuevas carcaterísticas"
      ]
    },
    {
      "cell_type": "code",
      "metadata": {
        "id": "sNnx4_uh_fi_",
        "colab_type": "code",
        "colab": {}
      },
      "source": [
        "# Se define una función para convertir una variable a categórica\n",
        "def factorize_feature(X, feature):\n",
        "  # Se convierte la característica en un variable categórica\n",
        "  # identificada con un número entero\n",
        "  X[feature], _list = pd.factorize(X[feature])\n",
        "\n",
        "  # No interesa imputar los posibles valores perdidos con el valor -1,\n",
        "  # por lo que se subtituye el valor -1 por NaN\n",
        "  X_train[feature] = X[feature].replace(-1, np.nan)\n",
        "\n",
        "  # Se define un diccionario con el identificador de la categoria y su valor\n",
        "  _dict = {k:int(v) for v, k in enumerate(_list)}\n",
        "  print(_dict)\n",
        "\n",
        "  # Se devuelve el diccionario\n",
        "  return X, _dict"
      ],
      "execution_count": 0,
      "outputs": []
    },
    {
      "cell_type": "code",
      "metadata": {
        "id": "PaWiLL6ew-x-",
        "colab_type": "code",
        "outputId": "7212eba6-edf9-473d-d0fc-2505e9749e54",
        "colab": {
          "base_uri": "https://localhost:8080/",
          "height": 34
        }
      },
      "source": [
        "# Para el DataFrame de entrenamiento\n",
        "# Se genera una nueva característica 'Title' a partir de la extracción\n",
        "# de parte de los caracteres de la característica 'Name'\n",
        "X_train['Title'] = X_train['Name'].str.extract('([A-Za-z]+)\\.')\n",
        "\n",
        "# Se convierte la característica 'Title'\n",
        "# en variables categóricas identificada con un número entero\n",
        "X_train, title = factorize_feature(X_train, 'Title')"
      ],
      "execution_count": 36,
      "outputs": [
        {
          "output_type": "stream",
          "text": [
            "{'Mr': 0, 'Mrs': 1, 'Miss': 2, 'Master': 3, 'Don': 4, 'Rev': 5, 'Dr': 6, 'Mme': 7, 'Ms': 8, 'Major': 9, 'Lady': 10, 'Sir': 11, 'Mlle': 12, 'Col': 13, 'Capt': 14, 'Countess': 15, 'Jonkheer': 16}\n"
          ],
          "name": "stdout"
        }
      ]
    },
    {
      "cell_type": "code",
      "metadata": {
        "id": "dI66Zbpwxg13",
        "colab_type": "code",
        "outputId": "4943e3b2-8b58-4b0c-a3ec-5c59f5c32c1b",
        "colab": {
          "base_uri": "https://localhost:8080/",
          "height": 558
        }
      },
      "source": [
        "# Se muestran las características del DataFrame de entrenamiento\n",
        "display(X_train.info())\n",
        "display(X_train.head())"
      ],
      "execution_count": 37,
      "outputs": [
        {
          "output_type": "stream",
          "text": [
            "<class 'pandas.core.frame.DataFrame'>\n",
            "Int64Index: 891 entries, 1 to 891\n",
            "Data columns (total 11 columns):\n",
            " #   Column    Non-Null Count  Dtype  \n",
            "---  ------    --------------  -----  \n",
            " 0   Pclass    891 non-null    int64  \n",
            " 1   Name      891 non-null    object \n",
            " 2   Sex       891 non-null    object \n",
            " 3   Age       579 non-null    float64\n",
            " 4   SibSp     891 non-null    int64  \n",
            " 5   Parch     891 non-null    int64  \n",
            " 6   Ticket    891 non-null    object \n",
            " 7   Fare      716 non-null    float64\n",
            " 8   Cabin     204 non-null    object \n",
            " 9   Embarked  889 non-null    object \n",
            " 10  Title     891 non-null    int64  \n",
            "dtypes: float64(2), int64(4), object(5)\n",
            "memory usage: 83.5+ KB\n"
          ],
          "name": "stdout"
        },
        {
          "output_type": "display_data",
          "data": {
            "text/plain": [
              "None"
            ]
          },
          "metadata": {
            "tags": []
          }
        },
        {
          "output_type": "display_data",
          "data": {
            "text/html": [
              "<div>\n",
              "<style scoped>\n",
              "    .dataframe tbody tr th:only-of-type {\n",
              "        vertical-align: middle;\n",
              "    }\n",
              "\n",
              "    .dataframe tbody tr th {\n",
              "        vertical-align: top;\n",
              "    }\n",
              "\n",
              "    .dataframe thead th {\n",
              "        text-align: right;\n",
              "    }\n",
              "</style>\n",
              "<table border=\"1\" class=\"dataframe\">\n",
              "  <thead>\n",
              "    <tr style=\"text-align: right;\">\n",
              "      <th></th>\n",
              "      <th>Pclass</th>\n",
              "      <th>Name</th>\n",
              "      <th>Sex</th>\n",
              "      <th>Age</th>\n",
              "      <th>SibSp</th>\n",
              "      <th>Parch</th>\n",
              "      <th>Ticket</th>\n",
              "      <th>Fare</th>\n",
              "      <th>Cabin</th>\n",
              "      <th>Embarked</th>\n",
              "      <th>Title</th>\n",
              "    </tr>\n",
              "    <tr>\n",
              "      <th>PassengerId</th>\n",
              "      <th></th>\n",
              "      <th></th>\n",
              "      <th></th>\n",
              "      <th></th>\n",
              "      <th></th>\n",
              "      <th></th>\n",
              "      <th></th>\n",
              "      <th></th>\n",
              "      <th></th>\n",
              "      <th></th>\n",
              "      <th></th>\n",
              "    </tr>\n",
              "  </thead>\n",
              "  <tbody>\n",
              "    <tr>\n",
              "      <th>1</th>\n",
              "      <td>3</td>\n",
              "      <td>Braund, Mr. Owen Harris</td>\n",
              "      <td>male</td>\n",
              "      <td>22.0</td>\n",
              "      <td>1</td>\n",
              "      <td>0</td>\n",
              "      <td>A/5 21171</td>\n",
              "      <td>NaN</td>\n",
              "      <td>NaN</td>\n",
              "      <td>S</td>\n",
              "      <td>0</td>\n",
              "    </tr>\n",
              "    <tr>\n",
              "      <th>2</th>\n",
              "      <td>1</td>\n",
              "      <td>Cumings, Mrs. John Bradley (Florence Briggs Th...</td>\n",
              "      <td>female</td>\n",
              "      <td>38.0</td>\n",
              "      <td>1</td>\n",
              "      <td>0</td>\n",
              "      <td>PC 17599</td>\n",
              "      <td>71.2833</td>\n",
              "      <td>C85</td>\n",
              "      <td>C</td>\n",
              "      <td>1</td>\n",
              "    </tr>\n",
              "    <tr>\n",
              "      <th>3</th>\n",
              "      <td>3</td>\n",
              "      <td>Heikkinen, Miss. Laina</td>\n",
              "      <td>female</td>\n",
              "      <td>26.0</td>\n",
              "      <td>0</td>\n",
              "      <td>0</td>\n",
              "      <td>STON/O2. 3101282</td>\n",
              "      <td>7.9250</td>\n",
              "      <td>NaN</td>\n",
              "      <td>S</td>\n",
              "      <td>2</td>\n",
              "    </tr>\n",
              "    <tr>\n",
              "      <th>4</th>\n",
              "      <td>1</td>\n",
              "      <td>Futrelle, Mrs. Jacques Heath (Lily May Peel)</td>\n",
              "      <td>female</td>\n",
              "      <td>35.0</td>\n",
              "      <td>1</td>\n",
              "      <td>0</td>\n",
              "      <td>113803</td>\n",
              "      <td>53.1000</td>\n",
              "      <td>C123</td>\n",
              "      <td>S</td>\n",
              "      <td>1</td>\n",
              "    </tr>\n",
              "    <tr>\n",
              "      <th>5</th>\n",
              "      <td>3</td>\n",
              "      <td>Allen, Mr. William Henry</td>\n",
              "      <td>male</td>\n",
              "      <td>35.0</td>\n",
              "      <td>0</td>\n",
              "      <td>0</td>\n",
              "      <td>373450</td>\n",
              "      <td>8.0500</td>\n",
              "      <td>NaN</td>\n",
              "      <td>S</td>\n",
              "      <td>0</td>\n",
              "    </tr>\n",
              "  </tbody>\n",
              "</table>\n",
              "</div>"
            ],
            "text/plain": [
              "             Pclass  ... Title\n",
              "PassengerId          ...      \n",
              "1                 3  ...     0\n",
              "2                 1  ...     1\n",
              "3                 3  ...     2\n",
              "4                 1  ...     1\n",
              "5                 3  ...     0\n",
              "\n",
              "[5 rows x 11 columns]"
            ]
          },
          "metadata": {
            "tags": []
          }
        }
      ]
    },
    {
      "cell_type": "code",
      "metadata": {
        "id": "vkVLvq_i0MX2",
        "colab_type": "code",
        "colab": {}
      },
      "source": [
        "# Para el DataFrame de test\n",
        "# Se genera una nueva característica 'Title' a partir de la extracción\n",
        "# de parte de los caracteres de la característica 'Name'\n",
        "X_test['Title'] = X_test['Name'].str.extract('([A-Za-z]+)\\.')\n",
        "\n",
        "# Se convierte la característica 'Title' en un variable categórica\n",
        "# utilizando las categorías de la variable 'Title' del DataFrame de entrenamiento,\n",
        "# a partir del diccionario generado\n",
        "X_test['Title'] = X_test['Title'].map(title)"
      ],
      "execution_count": 0,
      "outputs": []
    },
    {
      "cell_type": "code",
      "metadata": {
        "id": "M7cMkyyi0fqw",
        "colab_type": "code",
        "outputId": "fe5a8d6b-7226-4487-9006-dd1c81fecac1",
        "colab": {
          "base_uri": "https://localhost:8080/",
          "height": 558
        }
      },
      "source": [
        "# Se muestran las características del DataFrame de test\n",
        "display(X_test.info())\n",
        "display(X_test.head())"
      ],
      "execution_count": 39,
      "outputs": [
        {
          "output_type": "stream",
          "text": [
            "<class 'pandas.core.frame.DataFrame'>\n",
            "Int64Index: 418 entries, 892 to 1309\n",
            "Data columns (total 11 columns):\n",
            " #   Column    Non-Null Count  Dtype  \n",
            "---  ------    --------------  -----  \n",
            " 0   Pclass    418 non-null    int64  \n",
            " 1   Name      418 non-null    object \n",
            " 2   Sex       418 non-null    object \n",
            " 3   Age       273 non-null    float64\n",
            " 4   SibSp     418 non-null    int64  \n",
            " 5   Parch     418 non-null    int64  \n",
            " 6   Ticket    418 non-null    object \n",
            " 7   Fare      338 non-null    float64\n",
            " 8   Cabin     91 non-null     object \n",
            " 9   Embarked  418 non-null    object \n",
            " 10  Title     417 non-null    float64\n",
            "dtypes: float64(3), int64(3), object(5)\n",
            "memory usage: 39.2+ KB\n"
          ],
          "name": "stdout"
        },
        {
          "output_type": "display_data",
          "data": {
            "text/plain": [
              "None"
            ]
          },
          "metadata": {
            "tags": []
          }
        },
        {
          "output_type": "display_data",
          "data": {
            "text/html": [
              "<div>\n",
              "<style scoped>\n",
              "    .dataframe tbody tr th:only-of-type {\n",
              "        vertical-align: middle;\n",
              "    }\n",
              "\n",
              "    .dataframe tbody tr th {\n",
              "        vertical-align: top;\n",
              "    }\n",
              "\n",
              "    .dataframe thead th {\n",
              "        text-align: right;\n",
              "    }\n",
              "</style>\n",
              "<table border=\"1\" class=\"dataframe\">\n",
              "  <thead>\n",
              "    <tr style=\"text-align: right;\">\n",
              "      <th></th>\n",
              "      <th>Pclass</th>\n",
              "      <th>Name</th>\n",
              "      <th>Sex</th>\n",
              "      <th>Age</th>\n",
              "      <th>SibSp</th>\n",
              "      <th>Parch</th>\n",
              "      <th>Ticket</th>\n",
              "      <th>Fare</th>\n",
              "      <th>Cabin</th>\n",
              "      <th>Embarked</th>\n",
              "      <th>Title</th>\n",
              "    </tr>\n",
              "    <tr>\n",
              "      <th>PassengerId</th>\n",
              "      <th></th>\n",
              "      <th></th>\n",
              "      <th></th>\n",
              "      <th></th>\n",
              "      <th></th>\n",
              "      <th></th>\n",
              "      <th></th>\n",
              "      <th></th>\n",
              "      <th></th>\n",
              "      <th></th>\n",
              "      <th></th>\n",
              "    </tr>\n",
              "  </thead>\n",
              "  <tbody>\n",
              "    <tr>\n",
              "      <th>892</th>\n",
              "      <td>3</td>\n",
              "      <td>Kelly, Mr. James</td>\n",
              "      <td>male</td>\n",
              "      <td>34.5</td>\n",
              "      <td>0</td>\n",
              "      <td>0</td>\n",
              "      <td>330911</td>\n",
              "      <td>7.8292</td>\n",
              "      <td>NaN</td>\n",
              "      <td>Q</td>\n",
              "      <td>0.0</td>\n",
              "    </tr>\n",
              "    <tr>\n",
              "      <th>893</th>\n",
              "      <td>3</td>\n",
              "      <td>Wilkes, Mrs. James (Ellen Needs)</td>\n",
              "      <td>female</td>\n",
              "      <td>47.0</td>\n",
              "      <td>1</td>\n",
              "      <td>0</td>\n",
              "      <td>363272</td>\n",
              "      <td>NaN</td>\n",
              "      <td>NaN</td>\n",
              "      <td>S</td>\n",
              "      <td>1.0</td>\n",
              "    </tr>\n",
              "    <tr>\n",
              "      <th>894</th>\n",
              "      <td>2</td>\n",
              "      <td>Myles, Mr. Thomas Francis</td>\n",
              "      <td>male</td>\n",
              "      <td>NaN</td>\n",
              "      <td>0</td>\n",
              "      <td>0</td>\n",
              "      <td>240276</td>\n",
              "      <td>9.6875</td>\n",
              "      <td>NaN</td>\n",
              "      <td>Q</td>\n",
              "      <td>0.0</td>\n",
              "    </tr>\n",
              "    <tr>\n",
              "      <th>895</th>\n",
              "      <td>3</td>\n",
              "      <td>Wirz, Mr. Albert</td>\n",
              "      <td>male</td>\n",
              "      <td>27.0</td>\n",
              "      <td>0</td>\n",
              "      <td>0</td>\n",
              "      <td>315154</td>\n",
              "      <td>8.6625</td>\n",
              "      <td>NaN</td>\n",
              "      <td>S</td>\n",
              "      <td>0.0</td>\n",
              "    </tr>\n",
              "    <tr>\n",
              "      <th>896</th>\n",
              "      <td>3</td>\n",
              "      <td>Hirvonen, Mrs. Alexander (Helga E Lindqvist)</td>\n",
              "      <td>female</td>\n",
              "      <td>22.0</td>\n",
              "      <td>1</td>\n",
              "      <td>1</td>\n",
              "      <td>3101298</td>\n",
              "      <td>12.2875</td>\n",
              "      <td>NaN</td>\n",
              "      <td>S</td>\n",
              "      <td>1.0</td>\n",
              "    </tr>\n",
              "  </tbody>\n",
              "</table>\n",
              "</div>"
            ],
            "text/plain": [
              "             Pclass  ... Title\n",
              "PassengerId          ...      \n",
              "892               3  ...   0.0\n",
              "893               3  ...   1.0\n",
              "894               2  ...   0.0\n",
              "895               3  ...   0.0\n",
              "896               3  ...   1.0\n",
              "\n",
              "[5 rows x 11 columns]"
            ]
          },
          "metadata": {
            "tags": []
          }
        }
      ]
    },
    {
      "cell_type": "markdown",
      "metadata": {
        "id": "vhUuoDkV6YA2",
        "colab_type": "text"
      },
      "source": [
        "## Eliminar características"
      ]
    },
    {
      "cell_type": "code",
      "metadata": {
        "id": "B_xa0V4-wwxB",
        "colab_type": "code",
        "outputId": "ec11aad4-ca63-49b5-f14c-73ca54163786",
        "colab": {
          "base_uri": "https://localhost:8080/",
          "height": 289
        }
      },
      "source": [
        "# Se eliminan del DataFrame de entrenamiento las características \n",
        "# que no son necesarias ('Name', 'Ticket', 'Cabin')\n",
        "X_train = X_train.drop(columns=['Name', 'Ticket', 'Cabin'])\n",
        "\n",
        "# Se muestran las características del DataFrame de entrenamiento\n",
        "display(X_train.info())"
      ],
      "execution_count": 40,
      "outputs": [
        {
          "output_type": "stream",
          "text": [
            "<class 'pandas.core.frame.DataFrame'>\n",
            "Int64Index: 891 entries, 1 to 891\n",
            "Data columns (total 8 columns):\n",
            " #   Column    Non-Null Count  Dtype  \n",
            "---  ------    --------------  -----  \n",
            " 0   Pclass    891 non-null    int64  \n",
            " 1   Sex       891 non-null    object \n",
            " 2   Age       579 non-null    float64\n",
            " 3   SibSp     891 non-null    int64  \n",
            " 4   Parch     891 non-null    int64  \n",
            " 5   Fare      716 non-null    float64\n",
            " 6   Embarked  889 non-null    object \n",
            " 7   Title     891 non-null    int64  \n",
            "dtypes: float64(2), int64(4), object(2)\n",
            "memory usage: 62.6+ KB\n"
          ],
          "name": "stdout"
        },
        {
          "output_type": "display_data",
          "data": {
            "text/plain": [
              "None"
            ]
          },
          "metadata": {
            "tags": []
          }
        }
      ]
    },
    {
      "cell_type": "code",
      "metadata": {
        "id": "jVP3qnTC3SZT",
        "colab_type": "code",
        "outputId": "79dd006c-9b2c-434b-f3bb-390273a4182c",
        "colab": {
          "base_uri": "https://localhost:8080/",
          "height": 289
        }
      },
      "source": [
        "# Se eliminan del DataFrame de test las características que no son necesarias\n",
        "X_test = X_test.drop(columns=['Name', 'Ticket', 'Cabin'])\n",
        "\n",
        "# Se muestran las características del DataFrame de test\n",
        "display(X_test.info())"
      ],
      "execution_count": 41,
      "outputs": [
        {
          "output_type": "stream",
          "text": [
            "<class 'pandas.core.frame.DataFrame'>\n",
            "Int64Index: 418 entries, 892 to 1309\n",
            "Data columns (total 8 columns):\n",
            " #   Column    Non-Null Count  Dtype  \n",
            "---  ------    --------------  -----  \n",
            " 0   Pclass    418 non-null    int64  \n",
            " 1   Sex       418 non-null    object \n",
            " 2   Age       273 non-null    float64\n",
            " 3   SibSp     418 non-null    int64  \n",
            " 4   Parch     418 non-null    int64  \n",
            " 5   Fare      338 non-null    float64\n",
            " 6   Embarked  418 non-null    object \n",
            " 7   Title     417 non-null    float64\n",
            "dtypes: float64(3), int64(3), object(2)\n",
            "memory usage: 29.4+ KB\n"
          ],
          "name": "stdout"
        },
        {
          "output_type": "display_data",
          "data": {
            "text/plain": [
              "None"
            ]
          },
          "metadata": {
            "tags": []
          }
        }
      ]
    },
    {
      "cell_type": "markdown",
      "metadata": {
        "id": "8fOTZ6Wr5iju",
        "colab_type": "text"
      },
      "source": [
        "## Factorizar características"
      ]
    },
    {
      "cell_type": "code",
      "metadata": {
        "id": "qbRWK0jKwtao",
        "colab_type": "code",
        "outputId": "31e9ff1c-5cf2-4538-dd17-0ddf3092d0e7",
        "colab": {
          "base_uri": "https://localhost:8080/",
          "height": 51
        }
      },
      "source": [
        "# Para el DataFrame de entrenamiento\n",
        "# Se convierten las características 'Sex' y 'Embarked' \n",
        "# en variables categóricas identificadas con un número entero\n",
        "X_train, sex = factorize_feature(X_train, 'Sex')\n",
        "X_train, embarked = factorize_feature(X_train, 'Embarked')"
      ],
      "execution_count": 42,
      "outputs": [
        {
          "output_type": "stream",
          "text": [
            "{'male': 0, 'female': 1}\n",
            "{'S': 0, 'C': 1, 'Q': 2}\n"
          ],
          "name": "stdout"
        }
      ]
    },
    {
      "cell_type": "code",
      "metadata": {
        "id": "ZOD6MvbH4w7c",
        "colab_type": "code",
        "outputId": "532e5de4-0844-4310-f254-b9fdc2711d0f",
        "colab": {
          "base_uri": "https://localhost:8080/",
          "height": 507
        }
      },
      "source": [
        "# Se muestran las características del DataFrame de entrenamiento\n",
        "display(X_train.info())\n",
        "display(X_train.head())"
      ],
      "execution_count": 43,
      "outputs": [
        {
          "output_type": "stream",
          "text": [
            "<class 'pandas.core.frame.DataFrame'>\n",
            "Int64Index: 891 entries, 1 to 891\n",
            "Data columns (total 8 columns):\n",
            " #   Column    Non-Null Count  Dtype  \n",
            "---  ------    --------------  -----  \n",
            " 0   Pclass    891 non-null    int64  \n",
            " 1   Sex       891 non-null    int64  \n",
            " 2   Age       579 non-null    float64\n",
            " 3   SibSp     891 non-null    int64  \n",
            " 4   Parch     891 non-null    int64  \n",
            " 5   Fare      716 non-null    float64\n",
            " 6   Embarked  889 non-null    float64\n",
            " 7   Title     891 non-null    int64  \n",
            "dtypes: float64(3), int64(5)\n",
            "memory usage: 62.6 KB\n"
          ],
          "name": "stdout"
        },
        {
          "output_type": "display_data",
          "data": {
            "text/plain": [
              "None"
            ]
          },
          "metadata": {
            "tags": []
          }
        },
        {
          "output_type": "display_data",
          "data": {
            "text/html": [
              "<div>\n",
              "<style scoped>\n",
              "    .dataframe tbody tr th:only-of-type {\n",
              "        vertical-align: middle;\n",
              "    }\n",
              "\n",
              "    .dataframe tbody tr th {\n",
              "        vertical-align: top;\n",
              "    }\n",
              "\n",
              "    .dataframe thead th {\n",
              "        text-align: right;\n",
              "    }\n",
              "</style>\n",
              "<table border=\"1\" class=\"dataframe\">\n",
              "  <thead>\n",
              "    <tr style=\"text-align: right;\">\n",
              "      <th></th>\n",
              "      <th>Pclass</th>\n",
              "      <th>Sex</th>\n",
              "      <th>Age</th>\n",
              "      <th>SibSp</th>\n",
              "      <th>Parch</th>\n",
              "      <th>Fare</th>\n",
              "      <th>Embarked</th>\n",
              "      <th>Title</th>\n",
              "    </tr>\n",
              "    <tr>\n",
              "      <th>PassengerId</th>\n",
              "      <th></th>\n",
              "      <th></th>\n",
              "      <th></th>\n",
              "      <th></th>\n",
              "      <th></th>\n",
              "      <th></th>\n",
              "      <th></th>\n",
              "      <th></th>\n",
              "    </tr>\n",
              "  </thead>\n",
              "  <tbody>\n",
              "    <tr>\n",
              "      <th>1</th>\n",
              "      <td>3</td>\n",
              "      <td>0</td>\n",
              "      <td>22.0</td>\n",
              "      <td>1</td>\n",
              "      <td>0</td>\n",
              "      <td>NaN</td>\n",
              "      <td>0.0</td>\n",
              "      <td>0</td>\n",
              "    </tr>\n",
              "    <tr>\n",
              "      <th>2</th>\n",
              "      <td>1</td>\n",
              "      <td>1</td>\n",
              "      <td>38.0</td>\n",
              "      <td>1</td>\n",
              "      <td>0</td>\n",
              "      <td>71.2833</td>\n",
              "      <td>1.0</td>\n",
              "      <td>1</td>\n",
              "    </tr>\n",
              "    <tr>\n",
              "      <th>3</th>\n",
              "      <td>3</td>\n",
              "      <td>1</td>\n",
              "      <td>26.0</td>\n",
              "      <td>0</td>\n",
              "      <td>0</td>\n",
              "      <td>7.9250</td>\n",
              "      <td>0.0</td>\n",
              "      <td>2</td>\n",
              "    </tr>\n",
              "    <tr>\n",
              "      <th>4</th>\n",
              "      <td>1</td>\n",
              "      <td>1</td>\n",
              "      <td>35.0</td>\n",
              "      <td>1</td>\n",
              "      <td>0</td>\n",
              "      <td>53.1000</td>\n",
              "      <td>0.0</td>\n",
              "      <td>1</td>\n",
              "    </tr>\n",
              "    <tr>\n",
              "      <th>5</th>\n",
              "      <td>3</td>\n",
              "      <td>0</td>\n",
              "      <td>35.0</td>\n",
              "      <td>0</td>\n",
              "      <td>0</td>\n",
              "      <td>8.0500</td>\n",
              "      <td>0.0</td>\n",
              "      <td>0</td>\n",
              "    </tr>\n",
              "  </tbody>\n",
              "</table>\n",
              "</div>"
            ],
            "text/plain": [
              "             Pclass  Sex   Age  SibSp  Parch     Fare  Embarked  Title\n",
              "PassengerId                                                           \n",
              "1                 3    0  22.0      1      0      NaN       0.0      0\n",
              "2                 1    1  38.0      1      0  71.2833       1.0      1\n",
              "3                 3    1  26.0      0      0   7.9250       0.0      2\n",
              "4                 1    1  35.0      1      0  53.1000       0.0      1\n",
              "5                 3    0  35.0      0      0   8.0500       0.0      0"
            ]
          },
          "metadata": {
            "tags": []
          }
        }
      ]
    },
    {
      "cell_type": "code",
      "metadata": {
        "id": "qmYxETIr4a0g",
        "colab_type": "code",
        "colab": {}
      },
      "source": [
        "# Para el DataFrame de test\n",
        "# Se convierten las características 'Sex' y 'Embarked' \n",
        "# en variables categóricas identificadas por números enteros,\n",
        "# utilizando las categorías de las variables 'Sex' y 'Embarked' del DataFrame\n",
        "# de entrenamiento, a partir del diccionario generado\n",
        "X_test['Sex'] = X_test['Sex'].map(sex)\n",
        "X_test['Embarked'] = X_test['Embarked'].map(embarked)"
      ],
      "execution_count": 0,
      "outputs": []
    },
    {
      "cell_type": "code",
      "metadata": {
        "id": "8xhShqRef-Y3",
        "colab_type": "code",
        "outputId": "f77e7f78-2717-4edb-cdc1-b40e89cf017c",
        "colab": {
          "base_uri": "https://localhost:8080/",
          "height": 507
        }
      },
      "source": [
        "# Se muestran las características del DataFrame de test\n",
        "display(X_test.info())\n",
        "display(X_test.head())"
      ],
      "execution_count": 45,
      "outputs": [
        {
          "output_type": "stream",
          "text": [
            "<class 'pandas.core.frame.DataFrame'>\n",
            "Int64Index: 418 entries, 892 to 1309\n",
            "Data columns (total 8 columns):\n",
            " #   Column    Non-Null Count  Dtype  \n",
            "---  ------    --------------  -----  \n",
            " 0   Pclass    418 non-null    int64  \n",
            " 1   Sex       418 non-null    int64  \n",
            " 2   Age       273 non-null    float64\n",
            " 3   SibSp     418 non-null    int64  \n",
            " 4   Parch     418 non-null    int64  \n",
            " 5   Fare      338 non-null    float64\n",
            " 6   Embarked  418 non-null    int64  \n",
            " 7   Title     417 non-null    float64\n",
            "dtypes: float64(3), int64(5)\n",
            "memory usage: 29.4 KB\n"
          ],
          "name": "stdout"
        },
        {
          "output_type": "display_data",
          "data": {
            "text/plain": [
              "None"
            ]
          },
          "metadata": {
            "tags": []
          }
        },
        {
          "output_type": "display_data",
          "data": {
            "text/html": [
              "<div>\n",
              "<style scoped>\n",
              "    .dataframe tbody tr th:only-of-type {\n",
              "        vertical-align: middle;\n",
              "    }\n",
              "\n",
              "    .dataframe tbody tr th {\n",
              "        vertical-align: top;\n",
              "    }\n",
              "\n",
              "    .dataframe thead th {\n",
              "        text-align: right;\n",
              "    }\n",
              "</style>\n",
              "<table border=\"1\" class=\"dataframe\">\n",
              "  <thead>\n",
              "    <tr style=\"text-align: right;\">\n",
              "      <th></th>\n",
              "      <th>Pclass</th>\n",
              "      <th>Sex</th>\n",
              "      <th>Age</th>\n",
              "      <th>SibSp</th>\n",
              "      <th>Parch</th>\n",
              "      <th>Fare</th>\n",
              "      <th>Embarked</th>\n",
              "      <th>Title</th>\n",
              "    </tr>\n",
              "    <tr>\n",
              "      <th>PassengerId</th>\n",
              "      <th></th>\n",
              "      <th></th>\n",
              "      <th></th>\n",
              "      <th></th>\n",
              "      <th></th>\n",
              "      <th></th>\n",
              "      <th></th>\n",
              "      <th></th>\n",
              "    </tr>\n",
              "  </thead>\n",
              "  <tbody>\n",
              "    <tr>\n",
              "      <th>892</th>\n",
              "      <td>3</td>\n",
              "      <td>0</td>\n",
              "      <td>34.5</td>\n",
              "      <td>0</td>\n",
              "      <td>0</td>\n",
              "      <td>7.8292</td>\n",
              "      <td>2</td>\n",
              "      <td>0.0</td>\n",
              "    </tr>\n",
              "    <tr>\n",
              "      <th>893</th>\n",
              "      <td>3</td>\n",
              "      <td>1</td>\n",
              "      <td>47.0</td>\n",
              "      <td>1</td>\n",
              "      <td>0</td>\n",
              "      <td>NaN</td>\n",
              "      <td>0</td>\n",
              "      <td>1.0</td>\n",
              "    </tr>\n",
              "    <tr>\n",
              "      <th>894</th>\n",
              "      <td>2</td>\n",
              "      <td>0</td>\n",
              "      <td>NaN</td>\n",
              "      <td>0</td>\n",
              "      <td>0</td>\n",
              "      <td>9.6875</td>\n",
              "      <td>2</td>\n",
              "      <td>0.0</td>\n",
              "    </tr>\n",
              "    <tr>\n",
              "      <th>895</th>\n",
              "      <td>3</td>\n",
              "      <td>0</td>\n",
              "      <td>27.0</td>\n",
              "      <td>0</td>\n",
              "      <td>0</td>\n",
              "      <td>8.6625</td>\n",
              "      <td>0</td>\n",
              "      <td>0.0</td>\n",
              "    </tr>\n",
              "    <tr>\n",
              "      <th>896</th>\n",
              "      <td>3</td>\n",
              "      <td>1</td>\n",
              "      <td>22.0</td>\n",
              "      <td>1</td>\n",
              "      <td>1</td>\n",
              "      <td>12.2875</td>\n",
              "      <td>0</td>\n",
              "      <td>1.0</td>\n",
              "    </tr>\n",
              "  </tbody>\n",
              "</table>\n",
              "</div>"
            ],
            "text/plain": [
              "             Pclass  Sex   Age  SibSp  Parch     Fare  Embarked  Title\n",
              "PassengerId                                                           \n",
              "892               3    0  34.5      0      0   7.8292         2    0.0\n",
              "893               3    1  47.0      1      0      NaN         0    1.0\n",
              "894               2    0   NaN      0      0   9.6875         2    0.0\n",
              "895               3    0  27.0      0      0   8.6625         0    0.0\n",
              "896               3    1  22.0      1      1  12.2875         0    1.0"
            ]
          },
          "metadata": {
            "tags": []
          }
        }
      ]
    },
    {
      "cell_type": "markdown",
      "metadata": {
        "id": "h4Xmg8lVPBDl",
        "colab_type": "text"
      },
      "source": [
        "## Discretizar características"
      ]
    },
    {
      "cell_type": "code",
      "metadata": {
        "id": "0vALM8lrCn5N",
        "colab_type": "code",
        "colab": {}
      },
      "source": [
        "# Se define una función para convertir en categórica\n",
        "# una característica a partir de un diccionario con\n",
        "# el que mapear las categorías\n",
        "def map_discrete_categories(X, feature, _dict):\n",
        "  _list = []\n",
        "  for i, x in enumerate(list(X[feature])):\n",
        "    found = False\n",
        "    for k, v in _dict.items():\n",
        "      try:\n",
        "        if x in k:\n",
        "          _list.append(v)\n",
        "          found = True\n",
        "          break\n",
        "      except:\n",
        "        pass\n",
        "    if not found:\n",
        "      _list.append(np.nan)\n",
        "  X[feature] = _list\n",
        "  return X"
      ],
      "execution_count": 0,
      "outputs": []
    },
    {
      "cell_type": "code",
      "metadata": {
        "id": "-eUVy5LZgCw7",
        "colab_type": "code",
        "outputId": "966c495d-7efd-4072-f0e6-d39c4b6d98c0",
        "colab": {
          "base_uri": "https://localhost:8080/",
          "height": 54
        }
      },
      "source": [
        "# Si se decide discretizar la variable 'Age'\n",
        "if age_categories > 0:\n",
        "  # Se agrupan las muestras en categorías con el mismo número de muestras\n",
        "  # El número de categorías viene definido por la variable 'age_categories'\n",
        "  X_train['Age'] = pd.qcut(X_train['Age'], age_categories)\n",
        "\n",
        "  # Se convierte la característica 'Age' en una variable categórica\n",
        "  # identificada por números enteros\n",
        "  X_train, age = factorize_feature(X_train, 'Age')"
      ],
      "execution_count": 47,
      "outputs": [
        {
          "output_type": "stream",
          "text": [
            "{Interval(21.0, 23.0, closed='right'): 0, Interval(34.0, 38.0, closed='right'): 1, Interval(23.0, 26.0, closed='right'): 2, Interval(26.0, 28.0, closed='right'): 3, Interval(13.999, 18.0, closed='right'): 4, Interval(18.0, 21.0, closed='right'): 5, Interval(38.0, 44.0, closed='right'): 6, Interval(28.0, 31.0, closed='right'): 7, Interval(31.0, 34.0, closed='right'): 8, Interval(44.0, 50.0, closed='right'): 9}\n"
          ],
          "name": "stdout"
        }
      ]
    },
    {
      "cell_type": "code",
      "metadata": {
        "id": "Q0JtXkdM8ByY",
        "colab_type": "code",
        "outputId": "28c54bca-ee6d-4218-bea4-4958b99077be",
        "colab": {
          "base_uri": "https://localhost:8080/",
          "height": 507
        }
      },
      "source": [
        "# Se muestran las características del DataFrame de entrenamiento\n",
        "display(X_train.info())\n",
        "display(X_train.head())"
      ],
      "execution_count": 48,
      "outputs": [
        {
          "output_type": "stream",
          "text": [
            "<class 'pandas.core.frame.DataFrame'>\n",
            "Int64Index: 891 entries, 1 to 891\n",
            "Data columns (total 8 columns):\n",
            " #   Column    Non-Null Count  Dtype  \n",
            "---  ------    --------------  -----  \n",
            " 0   Pclass    891 non-null    int64  \n",
            " 1   Sex       891 non-null    int64  \n",
            " 2   Age       579 non-null    float64\n",
            " 3   SibSp     891 non-null    int64  \n",
            " 4   Parch     891 non-null    int64  \n",
            " 5   Fare      716 non-null    float64\n",
            " 6   Embarked  889 non-null    float64\n",
            " 7   Title     891 non-null    int64  \n",
            "dtypes: float64(3), int64(5)\n",
            "memory usage: 62.6 KB\n"
          ],
          "name": "stdout"
        },
        {
          "output_type": "display_data",
          "data": {
            "text/plain": [
              "None"
            ]
          },
          "metadata": {
            "tags": []
          }
        },
        {
          "output_type": "display_data",
          "data": {
            "text/html": [
              "<div>\n",
              "<style scoped>\n",
              "    .dataframe tbody tr th:only-of-type {\n",
              "        vertical-align: middle;\n",
              "    }\n",
              "\n",
              "    .dataframe tbody tr th {\n",
              "        vertical-align: top;\n",
              "    }\n",
              "\n",
              "    .dataframe thead th {\n",
              "        text-align: right;\n",
              "    }\n",
              "</style>\n",
              "<table border=\"1\" class=\"dataframe\">\n",
              "  <thead>\n",
              "    <tr style=\"text-align: right;\">\n",
              "      <th></th>\n",
              "      <th>Pclass</th>\n",
              "      <th>Sex</th>\n",
              "      <th>Age</th>\n",
              "      <th>SibSp</th>\n",
              "      <th>Parch</th>\n",
              "      <th>Fare</th>\n",
              "      <th>Embarked</th>\n",
              "      <th>Title</th>\n",
              "    </tr>\n",
              "    <tr>\n",
              "      <th>PassengerId</th>\n",
              "      <th></th>\n",
              "      <th></th>\n",
              "      <th></th>\n",
              "      <th></th>\n",
              "      <th></th>\n",
              "      <th></th>\n",
              "      <th></th>\n",
              "      <th></th>\n",
              "    </tr>\n",
              "  </thead>\n",
              "  <tbody>\n",
              "    <tr>\n",
              "      <th>1</th>\n",
              "      <td>3</td>\n",
              "      <td>0</td>\n",
              "      <td>0.0</td>\n",
              "      <td>1</td>\n",
              "      <td>0</td>\n",
              "      <td>NaN</td>\n",
              "      <td>0.0</td>\n",
              "      <td>0</td>\n",
              "    </tr>\n",
              "    <tr>\n",
              "      <th>2</th>\n",
              "      <td>1</td>\n",
              "      <td>1</td>\n",
              "      <td>1.0</td>\n",
              "      <td>1</td>\n",
              "      <td>0</td>\n",
              "      <td>71.2833</td>\n",
              "      <td>1.0</td>\n",
              "      <td>1</td>\n",
              "    </tr>\n",
              "    <tr>\n",
              "      <th>3</th>\n",
              "      <td>3</td>\n",
              "      <td>1</td>\n",
              "      <td>2.0</td>\n",
              "      <td>0</td>\n",
              "      <td>0</td>\n",
              "      <td>7.9250</td>\n",
              "      <td>0.0</td>\n",
              "      <td>2</td>\n",
              "    </tr>\n",
              "    <tr>\n",
              "      <th>4</th>\n",
              "      <td>1</td>\n",
              "      <td>1</td>\n",
              "      <td>1.0</td>\n",
              "      <td>1</td>\n",
              "      <td>0</td>\n",
              "      <td>53.1000</td>\n",
              "      <td>0.0</td>\n",
              "      <td>1</td>\n",
              "    </tr>\n",
              "    <tr>\n",
              "      <th>5</th>\n",
              "      <td>3</td>\n",
              "      <td>0</td>\n",
              "      <td>1.0</td>\n",
              "      <td>0</td>\n",
              "      <td>0</td>\n",
              "      <td>8.0500</td>\n",
              "      <td>0.0</td>\n",
              "      <td>0</td>\n",
              "    </tr>\n",
              "  </tbody>\n",
              "</table>\n",
              "</div>"
            ],
            "text/plain": [
              "             Pclass  Sex  Age  SibSp  Parch     Fare  Embarked  Title\n",
              "PassengerId                                                          \n",
              "1                 3    0  0.0      1      0      NaN       0.0      0\n",
              "2                 1    1  1.0      1      0  71.2833       1.0      1\n",
              "3                 3    1  2.0      0      0   7.9250       0.0      2\n",
              "4                 1    1  1.0      1      0  53.1000       0.0      1\n",
              "5                 3    0  1.0      0      0   8.0500       0.0      0"
            ]
          },
          "metadata": {
            "tags": []
          }
        }
      ]
    },
    {
      "cell_type": "code",
      "metadata": {
        "id": "4tarW9_JPCSy",
        "colab_type": "code",
        "colab": {}
      },
      "source": [
        "# Si se decide discretizar la variable 'Age'\n",
        "if age_categories > 0:\n",
        "  # Se asigna cada valor de la variable 'Age' del \n",
        "  # DataFrame de test al identificador numérico de \n",
        "  # la categoría que le corresponde, utilizando las categorías\n",
        "  # de la variable 'Age' del DataFrame de entrenamiento\n",
        "  map_discrete_categories(X_test, 'Age', age)"
      ],
      "execution_count": 0,
      "outputs": []
    },
    {
      "cell_type": "code",
      "metadata": {
        "id": "hS9Cc6xTQO60",
        "colab_type": "code",
        "outputId": "16645ea7-ae12-49bd-da62-0a42db594b3e",
        "colab": {
          "base_uri": "https://localhost:8080/",
          "height": 507
        }
      },
      "source": [
        "# Se muestran las características del DataFrame de test\n",
        "display(X_test.info())\n",
        "display(X_test.head())"
      ],
      "execution_count": 50,
      "outputs": [
        {
          "output_type": "stream",
          "text": [
            "<class 'pandas.core.frame.DataFrame'>\n",
            "Int64Index: 418 entries, 892 to 1309\n",
            "Data columns (total 8 columns):\n",
            " #   Column    Non-Null Count  Dtype  \n",
            "---  ------    --------------  -----  \n",
            " 0   Pclass    418 non-null    int64  \n",
            " 1   Sex       418 non-null    int64  \n",
            " 2   Age       273 non-null    float64\n",
            " 3   SibSp     418 non-null    int64  \n",
            " 4   Parch     418 non-null    int64  \n",
            " 5   Fare      338 non-null    float64\n",
            " 6   Embarked  418 non-null    int64  \n",
            " 7   Title     417 non-null    float64\n",
            "dtypes: float64(3), int64(5)\n",
            "memory usage: 29.4 KB\n"
          ],
          "name": "stdout"
        },
        {
          "output_type": "display_data",
          "data": {
            "text/plain": [
              "None"
            ]
          },
          "metadata": {
            "tags": []
          }
        },
        {
          "output_type": "display_data",
          "data": {
            "text/html": [
              "<div>\n",
              "<style scoped>\n",
              "    .dataframe tbody tr th:only-of-type {\n",
              "        vertical-align: middle;\n",
              "    }\n",
              "\n",
              "    .dataframe tbody tr th {\n",
              "        vertical-align: top;\n",
              "    }\n",
              "\n",
              "    .dataframe thead th {\n",
              "        text-align: right;\n",
              "    }\n",
              "</style>\n",
              "<table border=\"1\" class=\"dataframe\">\n",
              "  <thead>\n",
              "    <tr style=\"text-align: right;\">\n",
              "      <th></th>\n",
              "      <th>Pclass</th>\n",
              "      <th>Sex</th>\n",
              "      <th>Age</th>\n",
              "      <th>SibSp</th>\n",
              "      <th>Parch</th>\n",
              "      <th>Fare</th>\n",
              "      <th>Embarked</th>\n",
              "      <th>Title</th>\n",
              "    </tr>\n",
              "    <tr>\n",
              "      <th>PassengerId</th>\n",
              "      <th></th>\n",
              "      <th></th>\n",
              "      <th></th>\n",
              "      <th></th>\n",
              "      <th></th>\n",
              "      <th></th>\n",
              "      <th></th>\n",
              "      <th></th>\n",
              "    </tr>\n",
              "  </thead>\n",
              "  <tbody>\n",
              "    <tr>\n",
              "      <th>892</th>\n",
              "      <td>3</td>\n",
              "      <td>0</td>\n",
              "      <td>1.0</td>\n",
              "      <td>0</td>\n",
              "      <td>0</td>\n",
              "      <td>7.8292</td>\n",
              "      <td>2</td>\n",
              "      <td>0.0</td>\n",
              "    </tr>\n",
              "    <tr>\n",
              "      <th>893</th>\n",
              "      <td>3</td>\n",
              "      <td>1</td>\n",
              "      <td>9.0</td>\n",
              "      <td>1</td>\n",
              "      <td>0</td>\n",
              "      <td>NaN</td>\n",
              "      <td>0</td>\n",
              "      <td>1.0</td>\n",
              "    </tr>\n",
              "    <tr>\n",
              "      <th>894</th>\n",
              "      <td>2</td>\n",
              "      <td>0</td>\n",
              "      <td>NaN</td>\n",
              "      <td>0</td>\n",
              "      <td>0</td>\n",
              "      <td>9.6875</td>\n",
              "      <td>2</td>\n",
              "      <td>0.0</td>\n",
              "    </tr>\n",
              "    <tr>\n",
              "      <th>895</th>\n",
              "      <td>3</td>\n",
              "      <td>0</td>\n",
              "      <td>3.0</td>\n",
              "      <td>0</td>\n",
              "      <td>0</td>\n",
              "      <td>8.6625</td>\n",
              "      <td>0</td>\n",
              "      <td>0.0</td>\n",
              "    </tr>\n",
              "    <tr>\n",
              "      <th>896</th>\n",
              "      <td>3</td>\n",
              "      <td>1</td>\n",
              "      <td>0.0</td>\n",
              "      <td>1</td>\n",
              "      <td>1</td>\n",
              "      <td>12.2875</td>\n",
              "      <td>0</td>\n",
              "      <td>1.0</td>\n",
              "    </tr>\n",
              "  </tbody>\n",
              "</table>\n",
              "</div>"
            ],
            "text/plain": [
              "             Pclass  Sex  Age  SibSp  Parch     Fare  Embarked  Title\n",
              "PassengerId                                                          \n",
              "892               3    0  1.0      0      0   7.8292         2    0.0\n",
              "893               3    1  9.0      1      0      NaN         0    1.0\n",
              "894               2    0  NaN      0      0   9.6875         2    0.0\n",
              "895               3    0  3.0      0      0   8.6625         0    0.0\n",
              "896               3    1  0.0      1      1  12.2875         0    1.0"
            ]
          },
          "metadata": {
            "tags": []
          }
        }
      ]
    },
    {
      "cell_type": "code",
      "metadata": {
        "id": "1wGn3pvBgJVd",
        "colab_type": "code",
        "outputId": "260eba14-89f4-4d7c-d0d0-f6db5d24110d",
        "colab": {
          "base_uri": "https://localhost:8080/",
          "height": 54
        }
      },
      "source": [
        "# Si se decide discretizar la variable 'Fare'\n",
        "if fare_categories > 0:\n",
        "  # Se agrupan las muestras en categorías con el mismo número de muestras\n",
        "  # El número de categorías viene definido por la variable 'fare_categories'\n",
        "  X_train['Fare'] = pd.qcut(X_train['Fare'], fare_categories)\n",
        "\n",
        "  # Se convierte la características 'Fare' en una variable categórica\n",
        "  # identificada por números enteros\n",
        "  X_train, fare = factorize_feature(X_train, 'Fare')"
      ],
      "execution_count": 51,
      "outputs": [
        {
          "output_type": "stream",
          "text": [
            "{Interval(50.988, 77.958, closed='right'): 0, Interval(7.796, 7.925, closed='right'): 1, Interval(7.925, 8.662, closed='right'): 2, Interval(20.25, 26.0, closed='right'): 3, Interval(8.662, 12.275, closed='right'): 4, Interval(26.0, 30.5, closed='right'): 5, Interval(14.454, 20.25, closed='right'): 6, Interval(30.5, 50.988, closed='right'): 7, Interval(12.275, 14.454, closed='right'): 8, Interval(7.5489999999999995, 7.796, closed='right'): 9}\n"
          ],
          "name": "stdout"
        }
      ]
    },
    {
      "cell_type": "code",
      "metadata": {
        "id": "dVK5ooa2EU_O",
        "colab_type": "code",
        "outputId": "e21fded6-4feb-432e-e60e-3b7f7769eba7",
        "colab": {
          "base_uri": "https://localhost:8080/",
          "height": 507
        }
      },
      "source": [
        "# Se muestran las características del DataFrame de entrenamiento\n",
        "display(X_train.info())\n",
        "display(X_train.head())"
      ],
      "execution_count": 52,
      "outputs": [
        {
          "output_type": "stream",
          "text": [
            "<class 'pandas.core.frame.DataFrame'>\n",
            "Int64Index: 891 entries, 1 to 891\n",
            "Data columns (total 8 columns):\n",
            " #   Column    Non-Null Count  Dtype  \n",
            "---  ------    --------------  -----  \n",
            " 0   Pclass    891 non-null    int64  \n",
            " 1   Sex       891 non-null    int64  \n",
            " 2   Age       579 non-null    float64\n",
            " 3   SibSp     891 non-null    int64  \n",
            " 4   Parch     891 non-null    int64  \n",
            " 5   Fare      716 non-null    float64\n",
            " 6   Embarked  889 non-null    float64\n",
            " 7   Title     891 non-null    int64  \n",
            "dtypes: float64(3), int64(5)\n",
            "memory usage: 62.6 KB\n"
          ],
          "name": "stdout"
        },
        {
          "output_type": "display_data",
          "data": {
            "text/plain": [
              "None"
            ]
          },
          "metadata": {
            "tags": []
          }
        },
        {
          "output_type": "display_data",
          "data": {
            "text/html": [
              "<div>\n",
              "<style scoped>\n",
              "    .dataframe tbody tr th:only-of-type {\n",
              "        vertical-align: middle;\n",
              "    }\n",
              "\n",
              "    .dataframe tbody tr th {\n",
              "        vertical-align: top;\n",
              "    }\n",
              "\n",
              "    .dataframe thead th {\n",
              "        text-align: right;\n",
              "    }\n",
              "</style>\n",
              "<table border=\"1\" class=\"dataframe\">\n",
              "  <thead>\n",
              "    <tr style=\"text-align: right;\">\n",
              "      <th></th>\n",
              "      <th>Pclass</th>\n",
              "      <th>Sex</th>\n",
              "      <th>Age</th>\n",
              "      <th>SibSp</th>\n",
              "      <th>Parch</th>\n",
              "      <th>Fare</th>\n",
              "      <th>Embarked</th>\n",
              "      <th>Title</th>\n",
              "    </tr>\n",
              "    <tr>\n",
              "      <th>PassengerId</th>\n",
              "      <th></th>\n",
              "      <th></th>\n",
              "      <th></th>\n",
              "      <th></th>\n",
              "      <th></th>\n",
              "      <th></th>\n",
              "      <th></th>\n",
              "      <th></th>\n",
              "    </tr>\n",
              "  </thead>\n",
              "  <tbody>\n",
              "    <tr>\n",
              "      <th>1</th>\n",
              "      <td>3</td>\n",
              "      <td>0</td>\n",
              "      <td>0.0</td>\n",
              "      <td>1</td>\n",
              "      <td>0</td>\n",
              "      <td>NaN</td>\n",
              "      <td>0.0</td>\n",
              "      <td>0</td>\n",
              "    </tr>\n",
              "    <tr>\n",
              "      <th>2</th>\n",
              "      <td>1</td>\n",
              "      <td>1</td>\n",
              "      <td>1.0</td>\n",
              "      <td>1</td>\n",
              "      <td>0</td>\n",
              "      <td>0.0</td>\n",
              "      <td>1.0</td>\n",
              "      <td>1</td>\n",
              "    </tr>\n",
              "    <tr>\n",
              "      <th>3</th>\n",
              "      <td>3</td>\n",
              "      <td>1</td>\n",
              "      <td>2.0</td>\n",
              "      <td>0</td>\n",
              "      <td>0</td>\n",
              "      <td>1.0</td>\n",
              "      <td>0.0</td>\n",
              "      <td>2</td>\n",
              "    </tr>\n",
              "    <tr>\n",
              "      <th>4</th>\n",
              "      <td>1</td>\n",
              "      <td>1</td>\n",
              "      <td>1.0</td>\n",
              "      <td>1</td>\n",
              "      <td>0</td>\n",
              "      <td>0.0</td>\n",
              "      <td>0.0</td>\n",
              "      <td>1</td>\n",
              "    </tr>\n",
              "    <tr>\n",
              "      <th>5</th>\n",
              "      <td>3</td>\n",
              "      <td>0</td>\n",
              "      <td>1.0</td>\n",
              "      <td>0</td>\n",
              "      <td>0</td>\n",
              "      <td>2.0</td>\n",
              "      <td>0.0</td>\n",
              "      <td>0</td>\n",
              "    </tr>\n",
              "  </tbody>\n",
              "</table>\n",
              "</div>"
            ],
            "text/plain": [
              "             Pclass  Sex  Age  SibSp  Parch  Fare  Embarked  Title\n",
              "PassengerId                                                       \n",
              "1                 3    0  0.0      1      0   NaN       0.0      0\n",
              "2                 1    1  1.0      1      0   0.0       1.0      1\n",
              "3                 3    1  2.0      0      0   1.0       0.0      2\n",
              "4                 1    1  1.0      1      0   0.0       0.0      1\n",
              "5                 3    0  1.0      0      0   2.0       0.0      0"
            ]
          },
          "metadata": {
            "tags": []
          }
        }
      ]
    },
    {
      "cell_type": "code",
      "metadata": {
        "id": "LHztELLMgHhf",
        "colab_type": "code",
        "colab": {}
      },
      "source": [
        "# Si se decide discretizar la variable 'Fare'\n",
        "if fare_categories > 0:\n",
        "  # Se asigna cada valor de la variable 'Fare' del \n",
        "  # DataFrame de test al identificador numérico de \n",
        "  # la categoría que le corresponde, utilizando las categorías\n",
        "  # de la variable 'Age' del DataFrame de entrenamiento\n",
        "  map_discrete_categories(X_test, 'Fare', fare)"
      ],
      "execution_count": 0,
      "outputs": []
    },
    {
      "cell_type": "code",
      "metadata": {
        "id": "LfrGWwUAEOTl",
        "colab_type": "code",
        "outputId": "8c9c91fa-a5ed-4cb3-ea74-db1e40ad8255",
        "colab": {
          "base_uri": "https://localhost:8080/",
          "height": 507
        }
      },
      "source": [
        "# Se muestran las características del DataFrame de test\n",
        "display(X_test.info())\n",
        "display(X_test.head())"
      ],
      "execution_count": 54,
      "outputs": [
        {
          "output_type": "stream",
          "text": [
            "<class 'pandas.core.frame.DataFrame'>\n",
            "Int64Index: 418 entries, 892 to 1309\n",
            "Data columns (total 8 columns):\n",
            " #   Column    Non-Null Count  Dtype  \n",
            "---  ------    --------------  -----  \n",
            " 0   Pclass    418 non-null    int64  \n",
            " 1   Sex       418 non-null    int64  \n",
            " 2   Age       273 non-null    float64\n",
            " 3   SibSp     418 non-null    int64  \n",
            " 4   Parch     418 non-null    int64  \n",
            " 5   Fare      338 non-null    float64\n",
            " 6   Embarked  418 non-null    int64  \n",
            " 7   Title     417 non-null    float64\n",
            "dtypes: float64(3), int64(5)\n",
            "memory usage: 29.4 KB\n"
          ],
          "name": "stdout"
        },
        {
          "output_type": "display_data",
          "data": {
            "text/plain": [
              "None"
            ]
          },
          "metadata": {
            "tags": []
          }
        },
        {
          "output_type": "display_data",
          "data": {
            "text/html": [
              "<div>\n",
              "<style scoped>\n",
              "    .dataframe tbody tr th:only-of-type {\n",
              "        vertical-align: middle;\n",
              "    }\n",
              "\n",
              "    .dataframe tbody tr th {\n",
              "        vertical-align: top;\n",
              "    }\n",
              "\n",
              "    .dataframe thead th {\n",
              "        text-align: right;\n",
              "    }\n",
              "</style>\n",
              "<table border=\"1\" class=\"dataframe\">\n",
              "  <thead>\n",
              "    <tr style=\"text-align: right;\">\n",
              "      <th></th>\n",
              "      <th>Pclass</th>\n",
              "      <th>Sex</th>\n",
              "      <th>Age</th>\n",
              "      <th>SibSp</th>\n",
              "      <th>Parch</th>\n",
              "      <th>Fare</th>\n",
              "      <th>Embarked</th>\n",
              "      <th>Title</th>\n",
              "    </tr>\n",
              "    <tr>\n",
              "      <th>PassengerId</th>\n",
              "      <th></th>\n",
              "      <th></th>\n",
              "      <th></th>\n",
              "      <th></th>\n",
              "      <th></th>\n",
              "      <th></th>\n",
              "      <th></th>\n",
              "      <th></th>\n",
              "    </tr>\n",
              "  </thead>\n",
              "  <tbody>\n",
              "    <tr>\n",
              "      <th>892</th>\n",
              "      <td>3</td>\n",
              "      <td>0</td>\n",
              "      <td>1.0</td>\n",
              "      <td>0</td>\n",
              "      <td>0</td>\n",
              "      <td>1.0</td>\n",
              "      <td>2</td>\n",
              "      <td>0.0</td>\n",
              "    </tr>\n",
              "    <tr>\n",
              "      <th>893</th>\n",
              "      <td>3</td>\n",
              "      <td>1</td>\n",
              "      <td>9.0</td>\n",
              "      <td>1</td>\n",
              "      <td>0</td>\n",
              "      <td>NaN</td>\n",
              "      <td>0</td>\n",
              "      <td>1.0</td>\n",
              "    </tr>\n",
              "    <tr>\n",
              "      <th>894</th>\n",
              "      <td>2</td>\n",
              "      <td>0</td>\n",
              "      <td>NaN</td>\n",
              "      <td>0</td>\n",
              "      <td>0</td>\n",
              "      <td>4.0</td>\n",
              "      <td>2</td>\n",
              "      <td>0.0</td>\n",
              "    </tr>\n",
              "    <tr>\n",
              "      <th>895</th>\n",
              "      <td>3</td>\n",
              "      <td>0</td>\n",
              "      <td>3.0</td>\n",
              "      <td>0</td>\n",
              "      <td>0</td>\n",
              "      <td>4.0</td>\n",
              "      <td>0</td>\n",
              "      <td>0.0</td>\n",
              "    </tr>\n",
              "    <tr>\n",
              "      <th>896</th>\n",
              "      <td>3</td>\n",
              "      <td>1</td>\n",
              "      <td>0.0</td>\n",
              "      <td>1</td>\n",
              "      <td>1</td>\n",
              "      <td>8.0</td>\n",
              "      <td>0</td>\n",
              "      <td>1.0</td>\n",
              "    </tr>\n",
              "  </tbody>\n",
              "</table>\n",
              "</div>"
            ],
            "text/plain": [
              "             Pclass  Sex  Age  SibSp  Parch  Fare  Embarked  Title\n",
              "PassengerId                                                       \n",
              "892               3    0  1.0      0      0   1.0         2    0.0\n",
              "893               3    1  9.0      1      0   NaN         0    1.0\n",
              "894               2    0  NaN      0      0   4.0         2    0.0\n",
              "895               3    0  3.0      0      0   4.0         0    0.0\n",
              "896               3    1  0.0      1      1   8.0         0    1.0"
            ]
          },
          "metadata": {
            "tags": []
          }
        }
      ]
    },
    {
      "cell_type": "markdown",
      "metadata": {
        "id": "q4Y5zhTS6qqZ",
        "colab_type": "text"
      },
      "source": [
        "## Imputar los valores perdidos"
      ]
    },
    {
      "cell_type": "code",
      "metadata": {
        "id": "szoUMj_q6uw6",
        "colab_type": "code",
        "colab": {}
      },
      "source": [
        "# Se imputan los valores perdidos (o eliminados) \n",
        "# utilizado el método k-Nearest Neighbors\n",
        "imp = KNNImputer().fit(X_train)\n",
        "X_train = pd.DataFrame(imp.transform(X_train), columns = X_train.columns)\n",
        "X_test = pd.DataFrame(imp.transform(X_test), columns = X_test.columns)"
      ],
      "execution_count": 0,
      "outputs": []
    },
    {
      "cell_type": "code",
      "metadata": {
        "id": "wFMFg6VhiIqX",
        "colab_type": "code",
        "outputId": "d519702d-8616-45c2-d8ab-a1bd5e811fd4",
        "colab": {
          "base_uri": "https://localhost:8080/",
          "height": 476
        }
      },
      "source": [
        "# Se muestran las características del DataFrame de entrenamiento\n",
        "display(X_train.info())\n",
        "display(X_train.head())"
      ],
      "execution_count": 56,
      "outputs": [
        {
          "output_type": "stream",
          "text": [
            "<class 'pandas.core.frame.DataFrame'>\n",
            "RangeIndex: 891 entries, 0 to 890\n",
            "Data columns (total 8 columns):\n",
            " #   Column    Non-Null Count  Dtype  \n",
            "---  ------    --------------  -----  \n",
            " 0   Pclass    891 non-null    float64\n",
            " 1   Sex       891 non-null    float64\n",
            " 2   Age       891 non-null    float64\n",
            " 3   SibSp     891 non-null    float64\n",
            " 4   Parch     891 non-null    float64\n",
            " 5   Fare      891 non-null    float64\n",
            " 6   Embarked  891 non-null    float64\n",
            " 7   Title     891 non-null    float64\n",
            "dtypes: float64(8)\n",
            "memory usage: 55.8 KB\n"
          ],
          "name": "stdout"
        },
        {
          "output_type": "display_data",
          "data": {
            "text/plain": [
              "None"
            ]
          },
          "metadata": {
            "tags": []
          }
        },
        {
          "output_type": "display_data",
          "data": {
            "text/html": [
              "<div>\n",
              "<style scoped>\n",
              "    .dataframe tbody tr th:only-of-type {\n",
              "        vertical-align: middle;\n",
              "    }\n",
              "\n",
              "    .dataframe tbody tr th {\n",
              "        vertical-align: top;\n",
              "    }\n",
              "\n",
              "    .dataframe thead th {\n",
              "        text-align: right;\n",
              "    }\n",
              "</style>\n",
              "<table border=\"1\" class=\"dataframe\">\n",
              "  <thead>\n",
              "    <tr style=\"text-align: right;\">\n",
              "      <th></th>\n",
              "      <th>Pclass</th>\n",
              "      <th>Sex</th>\n",
              "      <th>Age</th>\n",
              "      <th>SibSp</th>\n",
              "      <th>Parch</th>\n",
              "      <th>Fare</th>\n",
              "      <th>Embarked</th>\n",
              "      <th>Title</th>\n",
              "    </tr>\n",
              "  </thead>\n",
              "  <tbody>\n",
              "    <tr>\n",
              "      <th>0</th>\n",
              "      <td>3.0</td>\n",
              "      <td>0.0</td>\n",
              "      <td>0.0</td>\n",
              "      <td>1.0</td>\n",
              "      <td>0.0</td>\n",
              "      <td>5.0</td>\n",
              "      <td>0.0</td>\n",
              "      <td>0.0</td>\n",
              "    </tr>\n",
              "    <tr>\n",
              "      <th>1</th>\n",
              "      <td>1.0</td>\n",
              "      <td>1.0</td>\n",
              "      <td>1.0</td>\n",
              "      <td>1.0</td>\n",
              "      <td>0.0</td>\n",
              "      <td>0.0</td>\n",
              "      <td>1.0</td>\n",
              "      <td>1.0</td>\n",
              "    </tr>\n",
              "    <tr>\n",
              "      <th>2</th>\n",
              "      <td>3.0</td>\n",
              "      <td>1.0</td>\n",
              "      <td>2.0</td>\n",
              "      <td>0.0</td>\n",
              "      <td>0.0</td>\n",
              "      <td>1.0</td>\n",
              "      <td>0.0</td>\n",
              "      <td>2.0</td>\n",
              "    </tr>\n",
              "    <tr>\n",
              "      <th>3</th>\n",
              "      <td>1.0</td>\n",
              "      <td>1.0</td>\n",
              "      <td>1.0</td>\n",
              "      <td>1.0</td>\n",
              "      <td>0.0</td>\n",
              "      <td>0.0</td>\n",
              "      <td>0.0</td>\n",
              "      <td>1.0</td>\n",
              "    </tr>\n",
              "    <tr>\n",
              "      <th>4</th>\n",
              "      <td>3.0</td>\n",
              "      <td>0.0</td>\n",
              "      <td>1.0</td>\n",
              "      <td>0.0</td>\n",
              "      <td>0.0</td>\n",
              "      <td>2.0</td>\n",
              "      <td>0.0</td>\n",
              "      <td>0.0</td>\n",
              "    </tr>\n",
              "  </tbody>\n",
              "</table>\n",
              "</div>"
            ],
            "text/plain": [
              "   Pclass  Sex  Age  SibSp  Parch  Fare  Embarked  Title\n",
              "0     3.0  0.0  0.0    1.0    0.0   5.0       0.0    0.0\n",
              "1     1.0  1.0  1.0    1.0    0.0   0.0       1.0    1.0\n",
              "2     3.0  1.0  2.0    0.0    0.0   1.0       0.0    2.0\n",
              "3     1.0  1.0  1.0    1.0    0.0   0.0       0.0    1.0\n",
              "4     3.0  0.0  1.0    0.0    0.0   2.0       0.0    0.0"
            ]
          },
          "metadata": {
            "tags": []
          }
        }
      ]
    },
    {
      "cell_type": "code",
      "metadata": {
        "id": "j0yNp3LB9wL1",
        "colab_type": "code",
        "outputId": "db0b0c13-ccd1-4d9d-9aa2-acad844fd341",
        "colab": {
          "base_uri": "https://localhost:8080/",
          "height": 476
        }
      },
      "source": [
        "# Se muestran las características del DataFrame de test\n",
        "display(X_test.info())\n",
        "display(X_test.head())"
      ],
      "execution_count": 57,
      "outputs": [
        {
          "output_type": "stream",
          "text": [
            "<class 'pandas.core.frame.DataFrame'>\n",
            "RangeIndex: 418 entries, 0 to 417\n",
            "Data columns (total 8 columns):\n",
            " #   Column    Non-Null Count  Dtype  \n",
            "---  ------    --------------  -----  \n",
            " 0   Pclass    418 non-null    float64\n",
            " 1   Sex       418 non-null    float64\n",
            " 2   Age       418 non-null    float64\n",
            " 3   SibSp     418 non-null    float64\n",
            " 4   Parch     418 non-null    float64\n",
            " 5   Fare      418 non-null    float64\n",
            " 6   Embarked  418 non-null    float64\n",
            " 7   Title     418 non-null    float64\n",
            "dtypes: float64(8)\n",
            "memory usage: 26.2 KB\n"
          ],
          "name": "stdout"
        },
        {
          "output_type": "display_data",
          "data": {
            "text/plain": [
              "None"
            ]
          },
          "metadata": {
            "tags": []
          }
        },
        {
          "output_type": "display_data",
          "data": {
            "text/html": [
              "<div>\n",
              "<style scoped>\n",
              "    .dataframe tbody tr th:only-of-type {\n",
              "        vertical-align: middle;\n",
              "    }\n",
              "\n",
              "    .dataframe tbody tr th {\n",
              "        vertical-align: top;\n",
              "    }\n",
              "\n",
              "    .dataframe thead th {\n",
              "        text-align: right;\n",
              "    }\n",
              "</style>\n",
              "<table border=\"1\" class=\"dataframe\">\n",
              "  <thead>\n",
              "    <tr style=\"text-align: right;\">\n",
              "      <th></th>\n",
              "      <th>Pclass</th>\n",
              "      <th>Sex</th>\n",
              "      <th>Age</th>\n",
              "      <th>SibSp</th>\n",
              "      <th>Parch</th>\n",
              "      <th>Fare</th>\n",
              "      <th>Embarked</th>\n",
              "      <th>Title</th>\n",
              "    </tr>\n",
              "  </thead>\n",
              "  <tbody>\n",
              "    <tr>\n",
              "      <th>0</th>\n",
              "      <td>3.0</td>\n",
              "      <td>0.0</td>\n",
              "      <td>1.0</td>\n",
              "      <td>0.0</td>\n",
              "      <td>0.0</td>\n",
              "      <td>1.0</td>\n",
              "      <td>2.0</td>\n",
              "      <td>0.0</td>\n",
              "    </tr>\n",
              "    <tr>\n",
              "      <th>1</th>\n",
              "      <td>3.0</td>\n",
              "      <td>1.0</td>\n",
              "      <td>9.0</td>\n",
              "      <td>1.0</td>\n",
              "      <td>0.0</td>\n",
              "      <td>4.8</td>\n",
              "      <td>0.0</td>\n",
              "      <td>1.0</td>\n",
              "    </tr>\n",
              "    <tr>\n",
              "      <th>2</th>\n",
              "      <td>2.0</td>\n",
              "      <td>0.0</td>\n",
              "      <td>4.4</td>\n",
              "      <td>0.0</td>\n",
              "      <td>0.0</td>\n",
              "      <td>4.0</td>\n",
              "      <td>2.0</td>\n",
              "      <td>0.0</td>\n",
              "    </tr>\n",
              "    <tr>\n",
              "      <th>3</th>\n",
              "      <td>3.0</td>\n",
              "      <td>0.0</td>\n",
              "      <td>3.0</td>\n",
              "      <td>0.0</td>\n",
              "      <td>0.0</td>\n",
              "      <td>4.0</td>\n",
              "      <td>0.0</td>\n",
              "      <td>0.0</td>\n",
              "    </tr>\n",
              "    <tr>\n",
              "      <th>4</th>\n",
              "      <td>3.0</td>\n",
              "      <td>1.0</td>\n",
              "      <td>0.0</td>\n",
              "      <td>1.0</td>\n",
              "      <td>1.0</td>\n",
              "      <td>8.0</td>\n",
              "      <td>0.0</td>\n",
              "      <td>1.0</td>\n",
              "    </tr>\n",
              "  </tbody>\n",
              "</table>\n",
              "</div>"
            ],
            "text/plain": [
              "   Pclass  Sex  Age  SibSp  Parch  Fare  Embarked  Title\n",
              "0     3.0  0.0  1.0    0.0    0.0   1.0       2.0    0.0\n",
              "1     3.0  1.0  9.0    1.0    0.0   4.8       0.0    1.0\n",
              "2     2.0  0.0  4.4    0.0    0.0   4.0       2.0    0.0\n",
              "3     3.0  0.0  3.0    0.0    0.0   4.0       0.0    0.0\n",
              "4     3.0  1.0  0.0    1.0    1.0   8.0       0.0    1.0"
            ]
          },
          "metadata": {
            "tags": []
          }
        }
      ]
    },
    {
      "cell_type": "markdown",
      "metadata": {
        "id": "fzFAZhrnB5vr",
        "colab_type": "text"
      },
      "source": [
        "## Reducir la dimensionalidad"
      ]
    },
    {
      "cell_type": "code",
      "metadata": {
        "id": "lsHQJGhGAieR",
        "colab_type": "code",
        "outputId": "56f0cd16-5144-4e2a-bf97-01c13ebc2158",
        "colab": {
          "base_uri": "https://localhost:8080/",
          "height": 299
        }
      },
      "source": [
        "# Se aplica un análisis de componentes principales\n",
        "pca = PCA(n_components = len(X_train.columns)).fit(X_train)\n",
        "_dict = {k:round(v, 6) for k, v in enumerate(pca.explained_variance_ratio_)}\n",
        "\n",
        "# Se muestra la proporción de la variabilidad explicada por las componentes\n",
        "print('Proporción de la variabilidad explicada por elos componentes: \\n' +\n",
        "      str(_dict))\n",
        "\n",
        "# Se representa la gráfica de la proporción de la variabilidad explicada\n",
        "# por cada una de las componentes\n",
        "data = pd.DataFrame.from_dict(_dict, orient='index', \n",
        "                              columns = ['variance_ratio'] )\n",
        "plot = sns.barplot(x=data.index, y='variance_ratio', data = data)"
      ],
      "execution_count": 58,
      "outputs": [
        {
          "output_type": "stream",
          "text": [
            "Proporción de la variabilidad explicada por elos componentes: \n",
            "{0: 0.404995, 1: 0.279824, 2: 0.159435, 3: 0.069782, 4: 0.033007, 5: 0.024354, 6: 0.019466, 7: 0.009137}\n"
          ],
          "name": "stdout"
        },
        {
          "output_type": "display_data",
          "data": {
            "image/png": "[encoded data removed]",
            "text/plain": [
              "<Figure size 432x288 with 1 Axes>"
            ]
          },
          "metadata": {
            "tags": [],
            "needs_background": "light"
          }
        }
      ]
    },
    {
      "cell_type": "code",
      "metadata": {
        "id": "C-pdaTdcWXSR",
        "colab_type": "code",
        "colab": {}
      },
      "source": [
        "# Si se decide reducir el número de dimensiones\n",
        "if dimensions_to_remove > 0:\n",
        "  # Se aplica el análisis PCA para un número de dimensiones inferior\n",
        "  # al del espacio de características\n",
        "  pca = PCA(n_components = len(X_train.columns) - dimensions_to_remove).fit(X_train)\n",
        "  X_train = pd.DataFrame(pca.transform(X_train))\n",
        "  X_test = pd.DataFrame(pca.transform(X_test))"
      ],
      "execution_count": 0,
      "outputs": []
    },
    {
      "cell_type": "code",
      "metadata": {
        "id": "XkvH4BR1W7LI",
        "colab_type": "code",
        "colab": {}
      },
      "source": [
        "# Si se decide reducir el número de dimensiones\n",
        "if dimensions_to_remove > 0:\n",
        "  # Se muestran las características del DataFrame de entrenamiento\n",
        "  display(X_train.info())\n",
        "  display(X_train.head())"
      ],
      "execution_count": 0,
      "outputs": []
    },
    {
      "cell_type": "code",
      "metadata": {
        "id": "Io6UgQOaW8-i",
        "colab_type": "code",
        "colab": {}
      },
      "source": [
        "# Si se decide reducir el número de dimensiones\n",
        "if dimensions_to_remove > 0:\n",
        "  # Se muestran las características del DataFrame de test\n",
        "  display(X_test.info())\n",
        "  display(X_test.head())"
      ],
      "execution_count": 0,
      "outputs": []
    },
    {
      "cell_type": "markdown",
      "metadata": {
        "id": "95wEMYbm-WYh",
        "colab_type": "text"
      },
      "source": [
        "## Estandarizar"
      ]
    },
    {
      "cell_type": "code",
      "metadata": {
        "id": "DSJ1PO6P-V8j",
        "colab_type": "code",
        "colab": {}
      },
      "source": [
        "# Se realiza una estandarización del conjunto de características,\n",
        "# de manera qu todas las características se ponderen igual en\n",
        "# los modelos que se implementaran en los siguientes puntos.\n",
        "# Esto es importante para implementar el modelo\n",
        "# de red neuronal porque es especialmente sensible al escalado\n",
        "scaler = StandardScaler().fit(X_train)\n",
        "X_train = pd.DataFrame(scaler.transform(X_train), columns = X_train.columns)\n",
        "X_test = pd.DataFrame(scaler.transform(X_test), columns = X_test.columns)"
      ],
      "execution_count": 0,
      "outputs": []
    },
    {
      "cell_type": "code",
      "metadata": {
        "id": "72TmLFIU97aT",
        "colab_type": "code",
        "outputId": "21b28f6e-98e1-454c-e2f9-2a2718786fb9",
        "colab": {
          "base_uri": "https://localhost:8080/",
          "height": 476
        }
      },
      "source": [
        "# Se muestran las características del DataFrame de entrenamiento\n",
        "display(X_train.info())\n",
        "display(X_train.head())"
      ],
      "execution_count": 63,
      "outputs": [
        {
          "output_type": "stream",
          "text": [
            "<class 'pandas.core.frame.DataFrame'>\n",
            "RangeIndex: 891 entries, 0 to 890\n",
            "Data columns (total 8 columns):\n",
            " #   Column    Non-Null Count  Dtype  \n",
            "---  ------    --------------  -----  \n",
            " 0   Pclass    891 non-null    float64\n",
            " 1   Sex       891 non-null    float64\n",
            " 2   Age       891 non-null    float64\n",
            " 3   SibSp     891 non-null    float64\n",
            " 4   Parch     891 non-null    float64\n",
            " 5   Fare      891 non-null    float64\n",
            " 6   Embarked  891 non-null    float64\n",
            " 7   Title     891 non-null    float64\n",
            "dtypes: float64(8)\n",
            "memory usage: 55.8 KB\n"
          ],
          "name": "stdout"
        },
        {
          "output_type": "display_data",
          "data": {
            "text/plain": [
              "None"
            ]
          },
          "metadata": {
            "tags": []
          }
        },
        {
          "output_type": "display_data",
          "data": {
            "text/html": [
              "<div>\n",
              "<style scoped>\n",
              "    .dataframe tbody tr th:only-of-type {\n",
              "        vertical-align: middle;\n",
              "    }\n",
              "\n",
              "    .dataframe tbody tr th {\n",
              "        vertical-align: top;\n",
              "    }\n",
              "\n",
              "    .dataframe thead th {\n",
              "        text-align: right;\n",
              "    }\n",
              "</style>\n",
              "<table border=\"1\" class=\"dataframe\">\n",
              "  <thead>\n",
              "    <tr style=\"text-align: right;\">\n",
              "      <th></th>\n",
              "      <th>Pclass</th>\n",
              "      <th>Sex</th>\n",
              "      <th>Age</th>\n",
              "      <th>SibSp</th>\n",
              "      <th>Parch</th>\n",
              "      <th>Fare</th>\n",
              "      <th>Embarked</th>\n",
              "      <th>Title</th>\n",
              "    </tr>\n",
              "  </thead>\n",
              "  <tbody>\n",
              "    <tr>\n",
              "      <th>0</th>\n",
              "      <td>0.827377</td>\n",
              "      <td>-0.737695</td>\n",
              "      <td>-1.961031</td>\n",
              "      <td>0.432793</td>\n",
              "      <td>-0.473674</td>\n",
              "      <td>0.268258</td>\n",
              "      <td>-0.571322</td>\n",
              "      <td>-0.542822</td>\n",
              "    </tr>\n",
              "    <tr>\n",
              "      <th>1</th>\n",
              "      <td>-1.566107</td>\n",
              "      <td>1.355574</td>\n",
              "      <td>-1.529242</td>\n",
              "      <td>0.432793</td>\n",
              "      <td>-0.473674</td>\n",
              "      <td>-1.533202</td>\n",
              "      <td>1.002728</td>\n",
              "      <td>0.037099</td>\n",
              "    </tr>\n",
              "    <tr>\n",
              "      <th>2</th>\n",
              "      <td>0.827377</td>\n",
              "      <td>1.355574</td>\n",
              "      <td>-1.097452</td>\n",
              "      <td>-0.474545</td>\n",
              "      <td>-0.473674</td>\n",
              "      <td>-1.172910</td>\n",
              "      <td>-0.571322</td>\n",
              "      <td>0.617020</td>\n",
              "    </tr>\n",
              "    <tr>\n",
              "      <th>3</th>\n",
              "      <td>-1.566107</td>\n",
              "      <td>1.355574</td>\n",
              "      <td>-1.529242</td>\n",
              "      <td>0.432793</td>\n",
              "      <td>-0.473674</td>\n",
              "      <td>-1.533202</td>\n",
              "      <td>-0.571322</td>\n",
              "      <td>0.037099</td>\n",
              "    </tr>\n",
              "    <tr>\n",
              "      <th>4</th>\n",
              "      <td>0.827377</td>\n",
              "      <td>-0.737695</td>\n",
              "      <td>-1.529242</td>\n",
              "      <td>-0.474545</td>\n",
              "      <td>-0.473674</td>\n",
              "      <td>-0.812618</td>\n",
              "      <td>-0.571322</td>\n",
              "      <td>-0.542822</td>\n",
              "    </tr>\n",
              "  </tbody>\n",
              "</table>\n",
              "</div>"
            ],
            "text/plain": [
              "     Pclass       Sex       Age  ...      Fare  Embarked     Title\n",
              "0  0.827377 -0.737695 -1.961031  ...  0.268258 -0.571322 -0.542822\n",
              "1 -1.566107  1.355574 -1.529242  ... -1.533202  1.002728  0.037099\n",
              "2  0.827377  1.355574 -1.097452  ... -1.172910 -0.571322  0.617020\n",
              "3 -1.566107  1.355574 -1.529242  ... -1.533202 -0.571322  0.037099\n",
              "4  0.827377 -0.737695 -1.529242  ... -0.812618 -0.571322 -0.542822\n",
              "\n",
              "[5 rows x 8 columns]"
            ]
          },
          "metadata": {
            "tags": []
          }
        }
      ]
    },
    {
      "cell_type": "code",
      "metadata": {
        "id": "q6qVXoYF989V",
        "colab_type": "code",
        "outputId": "e60b37fa-4463-46cb-bad9-53aca7540803",
        "colab": {
          "base_uri": "https://localhost:8080/",
          "height": 476
        }
      },
      "source": [
        "# Se muestran las características del DataFrame de test\n",
        "display(X_test.info())\n",
        "display(X_test.head())"
      ],
      "execution_count": 64,
      "outputs": [
        {
          "output_type": "stream",
          "text": [
            "<class 'pandas.core.frame.DataFrame'>\n",
            "RangeIndex: 418 entries, 0 to 417\n",
            "Data columns (total 8 columns):\n",
            " #   Column    Non-Null Count  Dtype  \n",
            "---  ------    --------------  -----  \n",
            " 0   Pclass    418 non-null    float64\n",
            " 1   Sex       418 non-null    float64\n",
            " 2   Age       418 non-null    float64\n",
            " 3   SibSp     418 non-null    float64\n",
            " 4   Parch     418 non-null    float64\n",
            " 5   Fare      418 non-null    float64\n",
            " 6   Embarked  418 non-null    float64\n",
            " 7   Title     418 non-null    float64\n",
            "dtypes: float64(8)\n",
            "memory usage: 26.2 KB\n"
          ],
          "name": "stdout"
        },
        {
          "output_type": "display_data",
          "data": {
            "text/plain": [
              "None"
            ]
          },
          "metadata": {
            "tags": []
          }
        },
        {
          "output_type": "display_data",
          "data": {
            "text/html": [
              "<div>\n",
              "<style scoped>\n",
              "    .dataframe tbody tr th:only-of-type {\n",
              "        vertical-align: middle;\n",
              "    }\n",
              "\n",
              "    .dataframe tbody tr th {\n",
              "        vertical-align: top;\n",
              "    }\n",
              "\n",
              "    .dataframe thead th {\n",
              "        text-align: right;\n",
              "    }\n",
              "</style>\n",
              "<table border=\"1\" class=\"dataframe\">\n",
              "  <thead>\n",
              "    <tr style=\"text-align: right;\">\n",
              "      <th></th>\n",
              "      <th>Pclass</th>\n",
              "      <th>Sex</th>\n",
              "      <th>Age</th>\n",
              "      <th>SibSp</th>\n",
              "      <th>Parch</th>\n",
              "      <th>Fare</th>\n",
              "      <th>Embarked</th>\n",
              "      <th>Title</th>\n",
              "    </tr>\n",
              "  </thead>\n",
              "  <tbody>\n",
              "    <tr>\n",
              "      <th>0</th>\n",
              "      <td>0.827377</td>\n",
              "      <td>-0.737695</td>\n",
              "      <td>-1.529242</td>\n",
              "      <td>-0.474545</td>\n",
              "      <td>-0.473674</td>\n",
              "      <td>-1.172910</td>\n",
              "      <td>2.576777</td>\n",
              "      <td>-0.542822</td>\n",
              "    </tr>\n",
              "    <tr>\n",
              "      <th>1</th>\n",
              "      <td>0.827377</td>\n",
              "      <td>1.355574</td>\n",
              "      <td>1.925073</td>\n",
              "      <td>0.432793</td>\n",
              "      <td>-0.473674</td>\n",
              "      <td>0.196199</td>\n",
              "      <td>-0.571322</td>\n",
              "      <td>0.037099</td>\n",
              "    </tr>\n",
              "    <tr>\n",
              "      <th>2</th>\n",
              "      <td>-0.369365</td>\n",
              "      <td>-0.737695</td>\n",
              "      <td>-0.061158</td>\n",
              "      <td>-0.474545</td>\n",
              "      <td>-0.473674</td>\n",
              "      <td>-0.092034</td>\n",
              "      <td>2.576777</td>\n",
              "      <td>-0.542822</td>\n",
              "    </tr>\n",
              "    <tr>\n",
              "      <th>3</th>\n",
              "      <td>0.827377</td>\n",
              "      <td>-0.737695</td>\n",
              "      <td>-0.665663</td>\n",
              "      <td>-0.474545</td>\n",
              "      <td>-0.473674</td>\n",
              "      <td>-0.092034</td>\n",
              "      <td>-0.571322</td>\n",
              "      <td>-0.542822</td>\n",
              "    </tr>\n",
              "    <tr>\n",
              "      <th>4</th>\n",
              "      <td>0.827377</td>\n",
              "      <td>1.355574</td>\n",
              "      <td>-1.961031</td>\n",
              "      <td>0.432793</td>\n",
              "      <td>0.767630</td>\n",
              "      <td>1.349134</td>\n",
              "      <td>-0.571322</td>\n",
              "      <td>0.037099</td>\n",
              "    </tr>\n",
              "  </tbody>\n",
              "</table>\n",
              "</div>"
            ],
            "text/plain": [
              "     Pclass       Sex       Age  ...      Fare  Embarked     Title\n",
              "0  0.827377 -0.737695 -1.529242  ... -1.172910  2.576777 -0.542822\n",
              "1  0.827377  1.355574  1.925073  ...  0.196199 -0.571322  0.037099\n",
              "2 -0.369365 -0.737695 -0.061158  ... -0.092034  2.576777 -0.542822\n",
              "3  0.827377 -0.737695 -0.665663  ... -0.092034 -0.571322 -0.542822\n",
              "4  0.827377  1.355574 -1.961031  ...  1.349134 -0.571322  0.037099\n",
              "\n",
              "[5 rows x 8 columns]"
            ]
          },
          "metadata": {
            "tags": []
          }
        }
      ]
    },
    {
      "cell_type": "markdown",
      "metadata": {
        "id": "SAMZ0fUT7LiE",
        "colab_type": "text"
      },
      "source": [
        "# 4 - Análisis de datos"
      ]
    },
    {
      "cell_type": "markdown",
      "metadata": {
        "id": "V7p9wArT7DMF",
        "colab_type": "text"
      },
      "source": [
        "## Análisis estadístico descriptivo"
      ]
    },
    {
      "cell_type": "code",
      "metadata": {
        "id": "1G5dMMut7g4S",
        "colab_type": "code",
        "outputId": "51733482-919c-4eb0-ecb1-80e45a9d66c9",
        "colab": {
          "base_uri": "https://localhost:8080/",
          "height": 297
        }
      },
      "source": [
        "# Estadísticas del DataFrame de entrenamiento\n",
        "display(X_train.describe())"
      ],
      "execution_count": 65,
      "outputs": [
        {
          "output_type": "display_data",
          "data": {
            "text/html": [
              "<div>\n",
              "<style scoped>\n",
              "    .dataframe tbody tr th:only-of-type {\n",
              "        vertical-align: middle;\n",
              "    }\n",
              "\n",
              "    .dataframe tbody tr th {\n",
              "        vertical-align: top;\n",
              "    }\n",
              "\n",
              "    .dataframe thead th {\n",
              "        text-align: right;\n",
              "    }\n",
              "</style>\n",
              "<table border=\"1\" class=\"dataframe\">\n",
              "  <thead>\n",
              "    <tr style=\"text-align: right;\">\n",
              "      <th></th>\n",
              "      <th>Pclass</th>\n",
              "      <th>Sex</th>\n",
              "      <th>Age</th>\n",
              "      <th>SibSp</th>\n",
              "      <th>Parch</th>\n",
              "      <th>Fare</th>\n",
              "      <th>Embarked</th>\n",
              "      <th>Title</th>\n",
              "    </tr>\n",
              "  </thead>\n",
              "  <tbody>\n",
              "    <tr>\n",
              "      <th>count</th>\n",
              "      <td>8.910000e+02</td>\n",
              "      <td>8.910000e+02</td>\n",
              "      <td>8.910000e+02</td>\n",
              "      <td>8.910000e+02</td>\n",
              "      <td>8.910000e+02</td>\n",
              "      <td>8.910000e+02</td>\n",
              "      <td>8.910000e+02</td>\n",
              "      <td>8.910000e+02</td>\n",
              "    </tr>\n",
              "    <tr>\n",
              "      <th>mean</th>\n",
              "      <td>-2.031048e-16</td>\n",
              "      <td>3.162453e-16</td>\n",
              "      <td>1.869062e-16</td>\n",
              "      <td>3.456519e-16</td>\n",
              "      <td>6.716164e-17</td>\n",
              "      <td>-1.265978e-16</td>\n",
              "      <td>6.678783e-17</td>\n",
              "      <td>2.367479e-17</td>\n",
              "    </tr>\n",
              "    <tr>\n",
              "      <th>std</th>\n",
              "      <td>1.000562e+00</td>\n",
              "      <td>1.000562e+00</td>\n",
              "      <td>1.000562e+00</td>\n",
              "      <td>1.000562e+00</td>\n",
              "      <td>1.000562e+00</td>\n",
              "      <td>1.000562e+00</td>\n",
              "      <td>1.000562e+00</td>\n",
              "      <td>1.000562e+00</td>\n",
              "    </tr>\n",
              "    <tr>\n",
              "      <th>min</th>\n",
              "      <td>-1.566107e+00</td>\n",
              "      <td>-7.376951e-01</td>\n",
              "      <td>-1.961031e+00</td>\n",
              "      <td>-4.745452e-01</td>\n",
              "      <td>-4.736736e-01</td>\n",
              "      <td>-1.533202e+00</td>\n",
              "      <td>-5.713215e-01</td>\n",
              "      <td>-5.428218e-01</td>\n",
              "    </tr>\n",
              "    <tr>\n",
              "      <th>25%</th>\n",
              "      <td>-3.693648e-01</td>\n",
              "      <td>-7.376951e-01</td>\n",
              "      <td>-6.656631e-01</td>\n",
              "      <td>-4.745452e-01</td>\n",
              "      <td>-4.736736e-01</td>\n",
              "      <td>-8.126182e-01</td>\n",
              "      <td>-5.713215e-01</td>\n",
              "      <td>-5.428218e-01</td>\n",
              "    </tr>\n",
              "    <tr>\n",
              "      <th>50%</th>\n",
              "      <td>8.273772e-01</td>\n",
              "      <td>-7.376951e-01</td>\n",
              "      <td>2.519983e-02</td>\n",
              "      <td>-4.745452e-01</td>\n",
              "      <td>-4.736736e-01</td>\n",
              "      <td>-9.203418e-02</td>\n",
              "      <td>-5.713215e-01</td>\n",
              "      <td>-5.428218e-01</td>\n",
              "    </tr>\n",
              "    <tr>\n",
              "      <th>75%</th>\n",
              "      <td>8.273772e-01</td>\n",
              "      <td>1.355574e+00</td>\n",
              "      <td>6.297049e-01</td>\n",
              "      <td>4.327934e-01</td>\n",
              "      <td>-4.736736e-01</td>\n",
              "      <td>7.366374e-01</td>\n",
              "      <td>1.002728e+00</td>\n",
              "      <td>6.170204e-01</td>\n",
              "    </tr>\n",
              "    <tr>\n",
              "      <th>max</th>\n",
              "      <td>8.273772e-01</td>\n",
              "      <td>1.355574e+00</td>\n",
              "      <td>1.925073e+00</td>\n",
              "      <td>6.784163e+00</td>\n",
              "      <td>6.974147e+00</td>\n",
              "      <td>1.709426e+00</td>\n",
              "      <td>2.576777e+00</td>\n",
              "      <td>8.735916e+00</td>\n",
              "    </tr>\n",
              "  </tbody>\n",
              "</table>\n",
              "</div>"
            ],
            "text/plain": [
              "             Pclass           Sex  ...      Embarked         Title\n",
              "count  8.910000e+02  8.910000e+02  ...  8.910000e+02  8.910000e+02\n",
              "mean  -2.031048e-16  3.162453e-16  ...  6.678783e-17  2.367479e-17\n",
              "std    1.000562e+00  1.000562e+00  ...  1.000562e+00  1.000562e+00\n",
              "min   -1.566107e+00 -7.376951e-01  ... -5.713215e-01 -5.428218e-01\n",
              "25%   -3.693648e-01 -7.376951e-01  ... -5.713215e-01 -5.428218e-01\n",
              "50%    8.273772e-01 -7.376951e-01  ... -5.713215e-01 -5.428218e-01\n",
              "75%    8.273772e-01  1.355574e+00  ...  1.002728e+00  6.170204e-01\n",
              "max    8.273772e-01  1.355574e+00  ...  2.576777e+00  8.735916e+00\n",
              "\n",
              "[8 rows x 8 columns]"
            ]
          },
          "metadata": {
            "tags": []
          }
        }
      ]
    },
    {
      "cell_type": "code",
      "metadata": {
        "id": "VQDMtS_c7ixI",
        "colab_type": "code",
        "outputId": "dc894ce3-4d4e-4702-a1eb-3454fd250867",
        "colab": {
          "base_uri": "https://localhost:8080/",
          "height": 297
        }
      },
      "source": [
        "# Estadísticas del DataFrame test\n",
        "display(X_test.describe())"
      ],
      "execution_count": 66,
      "outputs": [
        {
          "output_type": "display_data",
          "data": {
            "text/html": [
              "<div>\n",
              "<style scoped>\n",
              "    .dataframe tbody tr th:only-of-type {\n",
              "        vertical-align: middle;\n",
              "    }\n",
              "\n",
              "    .dataframe tbody tr th {\n",
              "        vertical-align: top;\n",
              "    }\n",
              "\n",
              "    .dataframe thead th {\n",
              "        text-align: right;\n",
              "    }\n",
              "</style>\n",
              "<table border=\"1\" class=\"dataframe\">\n",
              "  <thead>\n",
              "    <tr style=\"text-align: right;\">\n",
              "      <th></th>\n",
              "      <th>Pclass</th>\n",
              "      <th>Sex</th>\n",
              "      <th>Age</th>\n",
              "      <th>SibSp</th>\n",
              "      <th>Parch</th>\n",
              "      <th>Fare</th>\n",
              "      <th>Embarked</th>\n",
              "      <th>Title</th>\n",
              "    </tr>\n",
              "  </thead>\n",
              "  <tbody>\n",
              "    <tr>\n",
              "      <th>count</th>\n",
              "      <td>418.000000</td>\n",
              "      <td>418.000000</td>\n",
              "      <td>418.000000</td>\n",
              "      <td>418.000000</td>\n",
              "      <td>418.000000</td>\n",
              "      <td>418.000000</td>\n",
              "      <td>418.000000</td>\n",
              "      <td>418.000000</td>\n",
              "    </tr>\n",
              "    <tr>\n",
              "      <th>mean</th>\n",
              "      <td>-0.051570</td>\n",
              "      <td>0.023493</td>\n",
              "      <td>-0.019012</td>\n",
              "      <td>-0.068631</td>\n",
              "      <td>0.013345</td>\n",
              "      <td>0.065874</td>\n",
              "      <td>0.159218</td>\n",
              "      <td>-0.067508</td>\n",
              "    </tr>\n",
              "    <tr>\n",
              "      <th>std</th>\n",
              "      <td>1.007462</td>\n",
              "      <td>1.008165</td>\n",
              "      <td>1.034796</td>\n",
              "      <td>0.813665</td>\n",
              "      <td>1.218251</td>\n",
              "      <td>1.043931</td>\n",
              "      <td>1.079036</td>\n",
              "      <td>0.794538</td>\n",
              "    </tr>\n",
              "    <tr>\n",
              "      <th>min</th>\n",
              "      <td>-1.566107</td>\n",
              "      <td>-0.737695</td>\n",
              "      <td>-1.961031</td>\n",
              "      <td>-0.474545</td>\n",
              "      <td>-0.473674</td>\n",
              "      <td>-1.533202</td>\n",
              "      <td>-0.571322</td>\n",
              "      <td>-0.542822</td>\n",
              "    </tr>\n",
              "    <tr>\n",
              "      <th>25%</th>\n",
              "      <td>-1.566107</td>\n",
              "      <td>-0.737695</td>\n",
              "      <td>-0.665663</td>\n",
              "      <td>-0.474545</td>\n",
              "      <td>-0.473674</td>\n",
              "      <td>-0.812618</td>\n",
              "      <td>-0.571322</td>\n",
              "      <td>-0.542822</td>\n",
              "    </tr>\n",
              "    <tr>\n",
              "      <th>50%</th>\n",
              "      <td>0.827377</td>\n",
              "      <td>-0.737695</td>\n",
              "      <td>0.025200</td>\n",
              "      <td>-0.474545</td>\n",
              "      <td>-0.473674</td>\n",
              "      <td>-0.092034</td>\n",
              "      <td>-0.571322</td>\n",
              "      <td>-0.542822</td>\n",
              "    </tr>\n",
              "    <tr>\n",
              "      <th>75%</th>\n",
              "      <td>0.827377</td>\n",
              "      <td>1.355574</td>\n",
              "      <td>0.629705</td>\n",
              "      <td>0.432793</td>\n",
              "      <td>-0.473674</td>\n",
              "      <td>0.988842</td>\n",
              "      <td>1.002728</td>\n",
              "      <td>0.559028</td>\n",
              "    </tr>\n",
              "    <tr>\n",
              "      <th>max</th>\n",
              "      <td>0.827377</td>\n",
              "      <td>1.355574</td>\n",
              "      <td>1.925073</td>\n",
              "      <td>6.784163</td>\n",
              "      <td>10.698058</td>\n",
              "      <td>1.709426</td>\n",
              "      <td>2.576777</td>\n",
              "      <td>6.996152</td>\n",
              "    </tr>\n",
              "  </tbody>\n",
              "</table>\n",
              "</div>"
            ],
            "text/plain": [
              "           Pclass         Sex         Age  ...        Fare    Embarked       Title\n",
              "count  418.000000  418.000000  418.000000  ...  418.000000  418.000000  418.000000\n",
              "mean    -0.051570    0.023493   -0.019012  ...    0.065874    0.159218   -0.067508\n",
              "std      1.007462    1.008165    1.034796  ...    1.043931    1.079036    0.794538\n",
              "min     -1.566107   -0.737695   -1.961031  ...   -1.533202   -0.571322   -0.542822\n",
              "25%     -1.566107   -0.737695   -0.665663  ...   -0.812618   -0.571322   -0.542822\n",
              "50%      0.827377   -0.737695    0.025200  ...   -0.092034   -0.571322   -0.542822\n",
              "75%      0.827377    1.355574    0.629705  ...    0.988842    1.002728    0.559028\n",
              "max      0.827377    1.355574    1.925073  ...    1.709426    2.576777    6.996152\n",
              "\n",
              "[8 rows x 8 columns]"
            ]
          },
          "metadata": {
            "tags": []
          }
        }
      ]
    },
    {
      "cell_type": "markdown",
      "metadata": {
        "id": "zddc4RrCquqj",
        "colab_type": "text"
      },
      "source": [
        "## Análisis de correlación\n"
      ]
    },
    {
      "cell_type": "code",
      "metadata": {
        "id": "N9JF8kE7fwg8",
        "colab_type": "code",
        "colab": {}
      },
      "source": [
        "# Se vuelven a unir las características con la clase a predecir\n",
        "# para poder aplicar los tests\n",
        "Xy_train = X_train.copy()\n",
        "Xy_train['Survived'] = y_train"
      ],
      "execution_count": 0,
      "outputs": []
    },
    {
      "cell_type": "code",
      "metadata": {
        "id": "goolCstyp5yy",
        "colab_type": "code",
        "outputId": "4d202b49-735b-43ec-b98d-23403fbe87d1",
        "colab": {
          "base_uri": "https://localhost:8080/",
          "height": 537
        }
      },
      "source": [
        "# Se calcula la matriz de correlación\n",
        "corr = Xy_train.corr()\n",
        "\n",
        "# Se muestra un gráfico con los valores de la matriz de correlación\n",
        "mask = np.triu(np.ones_like(corr, dtype=np.bool))\n",
        "f, ax = plt.subplots(figsize=(11, 9))\n",
        "cmap = sns.diverging_palette(220, 10, as_cmap=True)\n",
        "plot = sns.heatmap(corr, mask=mask, cmap=cmap, vmax=.3, center=0,\n",
        "            square=True, linewidths=.5, cbar_kws={\"shrink\": .5})"
      ],
      "execution_count": 68,
      "outputs": [
        {
          "output_type": "display_data",
          "data": {
            "image/png": "[encoded data removed]",
            "text/plain": [
              "<Figure size 792x648 with 2 Axes>"
            ]
          },
          "metadata": {
            "tags": [],
            "needs_background": "light"
          }
        }
      ]
    },
    {
      "cell_type": "markdown",
      "metadata": {
        "id": "HGa9uiU5uzin",
        "colab_type": "text"
      },
      "source": [
        "## Análisis predictivo"
      ]
    },
    {
      "cell_type": "code",
      "metadata": {
        "id": "ZJ7tLNY-HDHX",
        "colab_type": "code",
        "colab": {}
      },
      "source": [
        "# Se separa el conjunto de entrenamiento original en un nuevo\n",
        "# conjunto de entrenamiento y otro de validación del modelo\n",
        "X_train, X_val, y_train, y_val = train_test_split(X_train, y_train, \n",
        "                                                  test_size=val_size)"
      ],
      "execution_count": 0,
      "outputs": []
    },
    {
      "cell_type": "markdown",
      "metadata": {
        "id": "JAI_dGwJBnV9",
        "colab_type": "text"
      },
      "source": [
        "### Modeolo de regresion logística"
      ]
    },
    {
      "cell_type": "code",
      "metadata": {
        "id": "mWxWapuBjbit",
        "colab_type": "code",
        "outputId": "5644bf3f-4892-494c-d3c4-0b4481cdec07",
        "colab": {
          "base_uri": "https://localhost:8080/",
          "height": 85
        }
      },
      "source": [
        "# Se genera un modelo de regresión logística a partir del subconjunto de \n",
        "# datos de entrenamiento\n",
        "model_lr = LogisticRegression(solver = 'lbfgs')\n",
        "model_lr.fit(X_train, y_train.values.ravel())\n",
        "\n",
        "# Precisión del modelo de regresión logística\n",
        "y_pred_lr = model_lr.predict(X_val)\n",
        "\n",
        "val_acc_lr = round(accuracy_score(y_val, y_pred_lr, normalize=True),6)\n",
        "val_cmatrix_lr = confusion_matrix(y_val, y_pred_lr)\n",
        "\n",
        "print('Matriz de confusión del modelo:\\n', val_cmatrix_lr)\n",
        "print('Precisión del modelo:', val_acc_lr)"
      ],
      "execution_count": 70,
      "outputs": [
        {
          "output_type": "stream",
          "text": [
            "Matriz de confusión del modelo:\n",
            " [[55  8]\n",
            " [ 9 18]]\n",
            "Precisión del modelo: 0.811111\n"
          ],
          "name": "stdout"
        }
      ]
    },
    {
      "cell_type": "code",
      "metadata": {
        "id": "IyIB_KkTB5h5",
        "colab_type": "code",
        "outputId": "efb85a69-ece0-4e29-cb85-d7afedc7cfe2",
        "colab": {
          "base_uri": "https://localhost:8080/",
          "height": 515
        }
      },
      "source": [
        "# Generar DataFrame de predicciones a partir del DataFrame de test\n",
        "df_pred_lr = pd.DataFrame(model_lr.predict(X_test), columns=['Survived'], \n",
        "                          index = df_test.index)\n",
        "display(df_pred_lr.head())\n",
        "display(df_pred_lr.describe())"
      ],
      "execution_count": 71,
      "outputs": [
        {
          "output_type": "display_data",
          "data": {
            "text/html": [
              "<div>\n",
              "<style scoped>\n",
              "    .dataframe tbody tr th:only-of-type {\n",
              "        vertical-align: middle;\n",
              "    }\n",
              "\n",
              "    .dataframe tbody tr th {\n",
              "        vertical-align: top;\n",
              "    }\n",
              "\n",
              "    .dataframe thead th {\n",
              "        text-align: right;\n",
              "    }\n",
              "</style>\n",
              "<table border=\"1\" class=\"dataframe\">\n",
              "  <thead>\n",
              "    <tr style=\"text-align: right;\">\n",
              "      <th></th>\n",
              "      <th>Survived</th>\n",
              "    </tr>\n",
              "    <tr>\n",
              "      <th>PassengerId</th>\n",
              "      <th></th>\n",
              "    </tr>\n",
              "  </thead>\n",
              "  <tbody>\n",
              "    <tr>\n",
              "      <th>892</th>\n",
              "      <td>0</td>\n",
              "    </tr>\n",
              "    <tr>\n",
              "      <th>893</th>\n",
              "      <td>0</td>\n",
              "    </tr>\n",
              "    <tr>\n",
              "      <th>894</th>\n",
              "      <td>0</td>\n",
              "    </tr>\n",
              "    <tr>\n",
              "      <th>895</th>\n",
              "      <td>0</td>\n",
              "    </tr>\n",
              "    <tr>\n",
              "      <th>896</th>\n",
              "      <td>1</td>\n",
              "    </tr>\n",
              "  </tbody>\n",
              "</table>\n",
              "</div>"
            ],
            "text/plain": [
              "             Survived\n",
              "PassengerId          \n",
              "892                 0\n",
              "893                 0\n",
              "894                 0\n",
              "895                 0\n",
              "896                 1"
            ]
          },
          "metadata": {
            "tags": []
          }
        },
        {
          "output_type": "display_data",
          "data": {
            "text/html": [
              "<div>\n",
              "<style scoped>\n",
              "    .dataframe tbody tr th:only-of-type {\n",
              "        vertical-align: middle;\n",
              "    }\n",
              "\n",
              "    .dataframe tbody tr th {\n",
              "        vertical-align: top;\n",
              "    }\n",
              "\n",
              "    .dataframe thead th {\n",
              "        text-align: right;\n",
              "    }\n",
              "</style>\n",
              "<table border=\"1\" class=\"dataframe\">\n",
              "  <thead>\n",
              "    <tr style=\"text-align: right;\">\n",
              "      <th></th>\n",
              "      <th>Survived</th>\n",
              "    </tr>\n",
              "  </thead>\n",
              "  <tbody>\n",
              "    <tr>\n",
              "      <th>count</th>\n",
              "      <td>418.000000</td>\n",
              "    </tr>\n",
              "    <tr>\n",
              "      <th>mean</th>\n",
              "      <td>0.366029</td>\n",
              "    </tr>\n",
              "    <tr>\n",
              "      <th>std</th>\n",
              "      <td>0.482295</td>\n",
              "    </tr>\n",
              "    <tr>\n",
              "      <th>min</th>\n",
              "      <td>0.000000</td>\n",
              "    </tr>\n",
              "    <tr>\n",
              "      <th>25%</th>\n",
              "      <td>0.000000</td>\n",
              "    </tr>\n",
              "    <tr>\n",
              "      <th>50%</th>\n",
              "      <td>0.000000</td>\n",
              "    </tr>\n",
              "    <tr>\n",
              "      <th>75%</th>\n",
              "      <td>1.000000</td>\n",
              "    </tr>\n",
              "    <tr>\n",
              "      <th>max</th>\n",
              "      <td>1.000000</td>\n",
              "    </tr>\n",
              "  </tbody>\n",
              "</table>\n",
              "</div>"
            ],
            "text/plain": [
              "         Survived\n",
              "count  418.000000\n",
              "mean     0.366029\n",
              "std      0.482295\n",
              "min      0.000000\n",
              "25%      0.000000\n",
              "50%      0.000000\n",
              "75%      1.000000\n",
              "max      1.000000"
            ]
          },
          "metadata": {
            "tags": []
          }
        }
      ]
    },
    {
      "cell_type": "markdown",
      "metadata": {
        "id": "GtM2D39zGR6o",
        "colab_type": "text"
      },
      "source": [
        "### Modelo supervisado: red neuronal"
      ]
    },
    {
      "cell_type": "code",
      "metadata": {
        "id": "lVHjvXzSu1ff",
        "colab_type": "code",
        "colab": {}
      },
      "source": [
        "# Se define una función para el entrenamiento de la red neuronal\n",
        "def train_ann_model(model, X_train, y_train, X_val, y_val, epochs, \n",
        "                    batch_size, patience, shuffle=True):\n",
        "    # Se configura el entrenamiento para finalizarlo antes de tiempo \n",
        "    # si el error de validación crece durante el número de épocas \n",
        "    # establecido por el parámetro 'patience'\n",
        "    es = EarlyStopping(monitor='val_loss', mode='min', verbose=1, \n",
        "                       patience=patience)\n",
        "\n",
        "    # Se guarda el modelo con menor error de validación\n",
        "    mc = ModelCheckpoint('best_model.h5', monitor='val_loss', mode='min', \n",
        "                         verbose=0, save_best_only=True)\n",
        "\n",
        "    # Se entrena el modelo\n",
        "    history = model.fit(X_train, y_train, validation_data=(X_val, y_val), \n",
        "                        epochs=epochs, batch_size=batch_size, verbose=1, \n",
        "                        shuffle=shuffle, callbacks=[es, mc])\n",
        "\n",
        "    # Se muestra una gráfica con la evolución de los errores de entrenamiento\n",
        "    # y validación durante el entrenamiento\n",
        "    plt.plot(history.history['loss'], label='train')\n",
        "    plt.plot(history.history['val_loss'], label='val')\n",
        "    plt.legend()\n",
        "    plt.show()\n",
        "  \n",
        "    # Se carga el modelo con menor error de validación\n",
        "    model = load_model('best_model.h5')\n",
        "\n",
        "    # Se evalúa la precisión del modelo obtenido\n",
        "    trainScore = model.evaluate(X_train, y_train, batch_size=batch_size, \n",
        "                                verbose=0)\n",
        "    valScore = model.evaluate(X_val, y_val, batch_size=batch_size, \n",
        "                              verbose=0)\n",
        "  \n",
        "    print('Train Loss: %.6f' % trainScore[0])\n",
        "    print('Train Accuracy: %.6f' % trainScore[1])\n",
        "    print('Val Loss: %.6f' % valScore[0])\n",
        "    print('Val Accuracy: %.6f' % valScore[1])\n",
        "  \n",
        "    # Se devuelve el modelo obtenido después del entrenamiento\n",
        "    return model"
      ],
      "execution_count": 0,
      "outputs": []
    },
    {
      "cell_type": "code",
      "metadata": {
        "id": "Xef_UtJ2veEZ",
        "colab_type": "code",
        "colab": {}
      },
      "source": [
        "# Se define una función para implementar la red neuronal\n",
        "def ann_model(X_train, X_val, y_train, y_val, epochs, batch_size, lr, patience, \n",
        "              neurons, shuffle=True): \n",
        "  # Se obtienen el número de neuronas de entrada y salida del la red neuronal\n",
        "  # a partir de las dimensiones del conjunto de entrenamiento\n",
        "  n_input =  X_train.shape[1]\n",
        "  n_output = y_train.shape[1]\n",
        "  \n",
        "  # Se define la red neuronal\n",
        "  model = Sequential([\n",
        "      # Capa de entrada con el número de neuronas obtenido anteriormente\n",
        "      # y función de activación relu\n",
        "      Dense(n_input, input_dim=n_input, activation='relu'),\n",
        "      # Capa oculta con el número de neuronas definido como parámetro\n",
        "      # y función de activación relu\n",
        "      Dense(neurons, activation='relu'),\n",
        "      # Capa de salida con el número de neuronas obtenido anteriormente \n",
        "      # y función de activación sigmoide para que la red funcione como \n",
        "      # un clasificador binario\n",
        "      Dense(n_output, activation='sigmoid')\n",
        "  ])\n",
        "  \n",
        "  # Se optimiza la red neuronal definida \n",
        "  # con la función de coste 'binary_crossentropy'\n",
        "  # utilizando como ratio de aprendizaje el definido como parámetro\n",
        "  model.compile(optimizer=Adam(lr=lr), loss='binary_crossentropy', \n",
        "                metrics=['accuracy'])\n",
        "\n",
        "  # Se entrena el modelo de red neuronal definido\n",
        "  model = train_ann_model(model, X_train, y_train, X_val, y_val, epochs, \n",
        "                          batch_size, patience, shuffle)\n",
        "  \n",
        "  # Se devuelve el modelo obtenido después del entrenamiento\n",
        "  return model"
      ],
      "execution_count": 0,
      "outputs": []
    },
    {
      "cell_type": "code",
      "metadata": {
        "id": "o_MSlFfIvbZB",
        "colab_type": "code",
        "colab": {}
      },
      "source": [
        "# Predicciones para el modelo de red neuronal\n",
        "def predict_with_ann_model(model, X, batch_size):\n",
        "  # Se realizan las predicciones para el modelo dado\n",
        "  y_pred = (model.predict(X, batch_size=batch_size) > 0.5).astype(\"int32\")\n",
        "\n",
        "  # Se devuelven las predicciones\n",
        "  return y_pred"
      ],
      "execution_count": 0,
      "outputs": []
    },
    {
      "cell_type": "code",
      "metadata": {
        "id": "7S2bc6uRwaTa",
        "colab_type": "code",
        "outputId": "3b0d4608-86fa-4d21-d4f8-c7bee51befd8",
        "colab": {
          "base_uri": "https://localhost:8080/",
          "height": 1000
        }
      },
      "source": [
        "# Se implementa y entrena el modelo de red neuronal\n",
        "model_ann = ann_model(X_train, X_val, y_train, y_val, epochs=epochs, \n",
        "                      batch_size=batch_size, lr=lr, patience=patience, \n",
        "                      neurons=neurons)"
      ],
      "execution_count": 77,
      "outputs": [
        {
          "output_type": "stream",
          "text": [
            "Epoch 1/200\n",
            "801/801 [==============================] - 1s 1ms/step - loss: 0.5982 - accuracy: 0.6866 - val_loss: 0.5225 - val_accuracy: 0.7667\n",
            "Epoch 2/200\n",
            "801/801 [==============================] - 1s 1ms/step - loss: 0.5441 - accuracy: 0.7191 - val_loss: 0.4725 - val_accuracy: 0.8222\n",
            "Epoch 3/200\n",
            "801/801 [==============================] - 1s 1ms/step - loss: 0.5122 - accuracy: 0.7615 - val_loss: 0.4500 - val_accuracy: 0.8556\n",
            "Epoch 4/200\n",
            "801/801 [==============================] - 1s 1ms/step - loss: 0.4942 - accuracy: 0.7878 - val_loss: 0.4371 - val_accuracy: 0.8333\n",
            "Epoch 5/200\n",
            "801/801 [==============================] - 1s 1ms/step - loss: 0.4827 - accuracy: 0.7940 - val_loss: 0.4287 - val_accuracy: 0.8444\n",
            "Epoch 6/200\n",
            "801/801 [==============================] - 1s 1ms/step - loss: 0.4749 - accuracy: 0.7978 - val_loss: 0.4245 - val_accuracy: 0.8444\n",
            "Epoch 7/200\n",
            "801/801 [==============================] - 1s 1ms/step - loss: 0.4684 - accuracy: 0.7965 - val_loss: 0.4174 - val_accuracy: 0.8444\n",
            "Epoch 8/200\n",
            "801/801 [==============================] - 1s 1ms/step - loss: 0.4636 - accuracy: 0.7978 - val_loss: 0.4177 - val_accuracy: 0.8444\n",
            "Epoch 9/200\n",
            "801/801 [==============================] - 1s 1ms/step - loss: 0.4587 - accuracy: 0.7965 - val_loss: 0.4177 - val_accuracy: 0.8333\n",
            "Epoch 10/200\n",
            "801/801 [==============================] - 1s 1ms/step - loss: 0.4544 - accuracy: 0.8027 - val_loss: 0.4154 - val_accuracy: 0.8333\n",
            "Epoch 11/200\n",
            "801/801 [==============================] - 1s 1ms/step - loss: 0.4509 - accuracy: 0.8002 - val_loss: 0.4121 - val_accuracy: 0.8333\n",
            "Epoch 12/200\n",
            "801/801 [==============================] - 1s 1ms/step - loss: 0.4473 - accuracy: 0.8040 - val_loss: 0.4133 - val_accuracy: 0.8333\n",
            "Epoch 13/200\n",
            "801/801 [==============================] - 1s 1ms/step - loss: 0.4438 - accuracy: 0.8002 - val_loss: 0.4101 - val_accuracy: 0.8333\n",
            "Epoch 14/200\n",
            "801/801 [==============================] - 1s 1ms/step - loss: 0.4410 - accuracy: 0.8015 - val_loss: 0.4063 - val_accuracy: 0.8222\n",
            "Epoch 15/200\n",
            "801/801 [==============================] - 1s 1ms/step - loss: 0.4378 - accuracy: 0.8077 - val_loss: 0.4073 - val_accuracy: 0.8222\n",
            "Epoch 16/200\n",
            "801/801 [==============================] - 1s 1ms/step - loss: 0.4347 - accuracy: 0.8115 - val_loss: 0.4063 - val_accuracy: 0.8222\n",
            "Epoch 17/200\n",
            "801/801 [==============================] - 1s 1ms/step - loss: 0.4312 - accuracy: 0.8077 - val_loss: 0.4023 - val_accuracy: 0.8222\n",
            "Epoch 18/200\n",
            "801/801 [==============================] - 1s 1ms/step - loss: 0.4291 - accuracy: 0.8102 - val_loss: 0.4028 - val_accuracy: 0.8222\n",
            "Epoch 19/200\n",
            "801/801 [==============================] - 1s 1ms/step - loss: 0.4257 - accuracy: 0.8102 - val_loss: 0.4018 - val_accuracy: 0.8222\n",
            "Epoch 20/200\n",
            "801/801 [==============================] - 1s 1ms/step - loss: 0.4232 - accuracy: 0.8115 - val_loss: 0.4012 - val_accuracy: 0.8222\n",
            "Epoch 21/200\n",
            "801/801 [==============================] - 1s 1ms/step - loss: 0.4203 - accuracy: 0.8090 - val_loss: 0.4018 - val_accuracy: 0.8222\n",
            "Epoch 22/200\n",
            "801/801 [==============================] - 1s 1ms/step - loss: 0.4179 - accuracy: 0.8165 - val_loss: 0.3989 - val_accuracy: 0.8222\n",
            "Epoch 23/200\n",
            "801/801 [==============================] - 1s 1ms/step - loss: 0.4154 - accuracy: 0.8140 - val_loss: 0.4001 - val_accuracy: 0.8333\n",
            "Epoch 24/200\n",
            "801/801 [==============================] - 1s 1ms/step - loss: 0.4137 - accuracy: 0.8202 - val_loss: 0.3973 - val_accuracy: 0.8222\n",
            "Epoch 25/200\n",
            "801/801 [==============================] - 1s 1ms/step - loss: 0.4116 - accuracy: 0.8177 - val_loss: 0.3964 - val_accuracy: 0.8222\n",
            "Epoch 26/200\n",
            "801/801 [==============================] - 1s 1ms/step - loss: 0.4104 - accuracy: 0.8252 - val_loss: 0.3972 - val_accuracy: 0.8333\n",
            "Epoch 27/200\n",
            "801/801 [==============================] - 1s 1ms/step - loss: 0.4080 - accuracy: 0.8215 - val_loss: 0.3956 - val_accuracy: 0.8333\n",
            "Epoch 28/200\n",
            "801/801 [==============================] - 1s 1ms/step - loss: 0.4062 - accuracy: 0.8202 - val_loss: 0.3969 - val_accuracy: 0.8333\n",
            "Epoch 29/200\n",
            "801/801 [==============================] - 1s 1ms/step - loss: 0.4048 - accuracy: 0.8227 - val_loss: 0.3940 - val_accuracy: 0.8333\n",
            "Epoch 30/200\n",
            "801/801 [==============================] - 1s 1ms/step - loss: 0.4030 - accuracy: 0.8265 - val_loss: 0.3939 - val_accuracy: 0.8333\n",
            "Epoch 31/200\n",
            "801/801 [==============================] - 1s 1ms/step - loss: 0.4015 - accuracy: 0.8302 - val_loss: 0.3964 - val_accuracy: 0.8333\n",
            "Epoch 32/200\n",
            "801/801 [==============================] - 1s 1ms/step - loss: 0.4007 - accuracy: 0.8290 - val_loss: 0.3948 - val_accuracy: 0.8333\n",
            "Epoch 33/200\n",
            "801/801 [==============================] - 1s 1ms/step - loss: 0.3993 - accuracy: 0.8340 - val_loss: 0.3951 - val_accuracy: 0.8444\n",
            "Epoch 34/200\n",
            "801/801 [==============================] - 1s 1ms/step - loss: 0.3977 - accuracy: 0.8327 - val_loss: 0.3919 - val_accuracy: 0.8444\n",
            "Epoch 35/200\n",
            "801/801 [==============================] - 1s 1ms/step - loss: 0.3966 - accuracy: 0.8327 - val_loss: 0.3917 - val_accuracy: 0.8444\n",
            "Epoch 36/200\n",
            "801/801 [==============================] - 1s 1ms/step - loss: 0.3955 - accuracy: 0.8352 - val_loss: 0.3945 - val_accuracy: 0.8444\n",
            "Epoch 37/200\n",
            "801/801 [==============================] - 1s 1ms/step - loss: 0.3944 - accuracy: 0.8302 - val_loss: 0.3921 - val_accuracy: 0.8444\n",
            "Epoch 38/200\n",
            "801/801 [==============================] - 1s 1ms/step - loss: 0.3932 - accuracy: 0.8377 - val_loss: 0.3959 - val_accuracy: 0.8444\n",
            "Epoch 39/200\n",
            "801/801 [==============================] - 1s 1ms/step - loss: 0.3923 - accuracy: 0.8365 - val_loss: 0.3927 - val_accuracy: 0.8444\n",
            "Epoch 40/200\n",
            "801/801 [==============================] - 1s 1ms/step - loss: 0.3918 - accuracy: 0.8340 - val_loss: 0.3934 - val_accuracy: 0.8444\n",
            "Epoch 41/200\n",
            "801/801 [==============================] - 1s 1ms/step - loss: 0.3907 - accuracy: 0.8390 - val_loss: 0.3952 - val_accuracy: 0.8444\n",
            "Epoch 42/200\n",
            "801/801 [==============================] - 1s 1ms/step - loss: 0.3897 - accuracy: 0.8352 - val_loss: 0.3945 - val_accuracy: 0.8556\n",
            "Epoch 43/200\n",
            "801/801 [==============================] - 1s 1ms/step - loss: 0.3884 - accuracy: 0.8427 - val_loss: 0.3950 - val_accuracy: 0.8556\n",
            "Epoch 44/200\n",
            "801/801 [==============================] - 1s 1ms/step - loss: 0.3880 - accuracy: 0.8427 - val_loss: 0.3933 - val_accuracy: 0.8556\n",
            "Epoch 45/200\n",
            "801/801 [==============================] - 1s 1ms/step - loss: 0.3876 - accuracy: 0.8464 - val_loss: 0.3946 - val_accuracy: 0.8556\n",
            "Epoch 00045: early stopping\n"
          ],
          "name": "stdout"
        },
        {
          "output_type": "display_data",
          "data": {
            "image/png": "[encoded data removed]",
            "text/plain": [
              "<Figure size 432x288 with 1 Axes>"
            ]
          },
          "metadata": {
            "tags": [],
            "needs_background": "light"
          }
        },
        {
          "output_type": "stream",
          "text": [
            "Train Loss: 0.393104\n",
            "Train Accuracy: 0.833958\n",
            "Val Loss: 0.391723\n",
            "Val Accuracy: 0.844444\n"
          ],
          "name": "stdout"
        }
      ]
    },
    {
      "cell_type": "code",
      "metadata": {
        "id": "-sysTq7gjVb1",
        "colab_type": "code",
        "outputId": "d3094de7-2c20-4233-dee0-5c203a809630",
        "colab": {
          "base_uri": "https://localhost:8080/",
          "height": 85
        }
      },
      "source": [
        "# Precisión del modelo de red neuronal\n",
        "y_pred_ann = predict_with_ann_model(model_ann, X_val, batch_size=batch_size)\n",
        "\n",
        "val_acc_ann = round(accuracy_score(y_val, y_pred_ann, normalize=True),6)\n",
        "val_cmatrix_ann = confusion_matrix(y_val, y_pred_ann)\n",
        "\n",
        "print('Matriz de confusión del modelo:\\n', val_cmatrix_ann)\n",
        "print('Precisión del modelo:', val_acc_ann)"
      ],
      "execution_count": 78,
      "outputs": [
        {
          "output_type": "stream",
          "text": [
            "Matriz de confusión del modelo:\n",
            " [[58  5]\n",
            " [ 9 18]]\n",
            "Precisión del modelo: 0.844444\n"
          ],
          "name": "stdout"
        }
      ]
    },
    {
      "cell_type": "code",
      "metadata": {
        "id": "k8j0qX7V86DZ",
        "colab_type": "code",
        "outputId": "8f9781df-5cba-49b5-cde0-df5f98eccf3b",
        "colab": {
          "base_uri": "https://localhost:8080/",
          "height": 515
        }
      },
      "source": [
        "# Generar DataFrame de predicciones a partir del DataFrame de test\n",
        "df_pred_ann = pd.DataFrame(predict_with_ann_model(model_ann, X_test, \n",
        "                                                  batch_size=batch_size), \n",
        "                           columns=['Survived'], index = df_test.index)\n",
        "display(df_pred_ann.head())\n",
        "display(df_pred_ann.describe())"
      ],
      "execution_count": 79,
      "outputs": [
        {
          "output_type": "display_data",
          "data": {
            "text/html": [
              "<div>\n",
              "<style scoped>\n",
              "    .dataframe tbody tr th:only-of-type {\n",
              "        vertical-align: middle;\n",
              "    }\n",
              "\n",
              "    .dataframe tbody tr th {\n",
              "        vertical-align: top;\n",
              "    }\n",
              "\n",
              "    .dataframe thead th {\n",
              "        text-align: right;\n",
              "    }\n",
              "</style>\n",
              "<table border=\"1\" class=\"dataframe\">\n",
              "  <thead>\n",
              "    <tr style=\"text-align: right;\">\n",
              "      <th></th>\n",
              "      <th>Survived</th>\n",
              "    </tr>\n",
              "    <tr>\n",
              "      <th>PassengerId</th>\n",
              "      <th></th>\n",
              "    </tr>\n",
              "  </thead>\n",
              "  <tbody>\n",
              "    <tr>\n",
              "      <th>892</th>\n",
              "      <td>0</td>\n",
              "    </tr>\n",
              "    <tr>\n",
              "      <th>893</th>\n",
              "      <td>0</td>\n",
              "    </tr>\n",
              "    <tr>\n",
              "      <th>894</th>\n",
              "      <td>0</td>\n",
              "    </tr>\n",
              "    <tr>\n",
              "      <th>895</th>\n",
              "      <td>0</td>\n",
              "    </tr>\n",
              "    <tr>\n",
              "      <th>896</th>\n",
              "      <td>1</td>\n",
              "    </tr>\n",
              "  </tbody>\n",
              "</table>\n",
              "</div>"
            ],
            "text/plain": [
              "             Survived\n",
              "PassengerId          \n",
              "892                 0\n",
              "893                 0\n",
              "894                 0\n",
              "895                 0\n",
              "896                 1"
            ]
          },
          "metadata": {
            "tags": []
          }
        },
        {
          "output_type": "display_data",
          "data": {
            "text/html": [
              "<div>\n",
              "<style scoped>\n",
              "    .dataframe tbody tr th:only-of-type {\n",
              "        vertical-align: middle;\n",
              "    }\n",
              "\n",
              "    .dataframe tbody tr th {\n",
              "        vertical-align: top;\n",
              "    }\n",
              "\n",
              "    .dataframe thead th {\n",
              "        text-align: right;\n",
              "    }\n",
              "</style>\n",
              "<table border=\"1\" class=\"dataframe\">\n",
              "  <thead>\n",
              "    <tr style=\"text-align: right;\">\n",
              "      <th></th>\n",
              "      <th>Survived</th>\n",
              "    </tr>\n",
              "  </thead>\n",
              "  <tbody>\n",
              "    <tr>\n",
              "      <th>count</th>\n",
              "      <td>418.000000</td>\n",
              "    </tr>\n",
              "    <tr>\n",
              "      <th>mean</th>\n",
              "      <td>0.356459</td>\n",
              "    </tr>\n",
              "    <tr>\n",
              "      <th>std</th>\n",
              "      <td>0.479527</td>\n",
              "    </tr>\n",
              "    <tr>\n",
              "      <th>min</th>\n",
              "      <td>0.000000</td>\n",
              "    </tr>\n",
              "    <tr>\n",
              "      <th>25%</th>\n",
              "      <td>0.000000</td>\n",
              "    </tr>\n",
              "    <tr>\n",
              "      <th>50%</th>\n",
              "      <td>0.000000</td>\n",
              "    </tr>\n",
              "    <tr>\n",
              "      <th>75%</th>\n",
              "      <td>1.000000</td>\n",
              "    </tr>\n",
              "    <tr>\n",
              "      <th>max</th>\n",
              "      <td>1.000000</td>\n",
              "    </tr>\n",
              "  </tbody>\n",
              "</table>\n",
              "</div>"
            ],
            "text/plain": [
              "         Survived\n",
              "count  418.000000\n",
              "mean     0.356459\n",
              "std      0.479527\n",
              "min      0.000000\n",
              "25%      0.000000\n",
              "50%      0.000000\n",
              "75%      1.000000\n",
              "max      1.000000"
            ]
          },
          "metadata": {
            "tags": []
          }
        }
      ]
    },
    {
      "cell_type": "markdown",
      "metadata": {
        "id": "Vm2EK3jI_abb",
        "colab_type": "text"
      },
      "source": [
        "# 5 - Enviar las predicciones a Kaggle"
      ]
    },
    {
      "cell_type": "code",
      "metadata": {
        "id": "wKpowglRA_Ap",
        "colab_type": "code",
        "outputId": "fbca138c-51f4-4066-953c-af02186663fb",
        "colab": {
          "base_uri": "https://localhost:8080/",
          "height": 68
        }
      },
      "source": [
        "# Guardar las predicciones realizadas a partir del DataFrame de test\n",
        "# como csv y subirlas a Kaggle\n",
        "# Si se ha decidido subir los resultados del modelo de regresión logística\n",
        "if lr_pred_to_kaggle:\n",
        "  df_pred_lr.to_csv('submission.csv', index=True)  \n",
        "  !kaggle competitions submit -c titanic -f submission.csv \\\n",
        "  -m \"New lr_model test prediction\""
      ],
      "execution_count": 80,
      "outputs": [
        {
          "output_type": "stream",
          "text": [
            "Warning: Looks like you're using an outdated API Version, please consider updating (server 1.5.6 / client 1.5.4)\n",
            "100% 2.77k/2.77k [00:03<00:00, 784B/s]\n",
            "Successfully submitted to Titanic: Machine Learning from Disaster"
          ],
          "name": "stdout"
        }
      ]
    },
    {
      "cell_type": "code",
      "metadata": {
        "id": "2RLMqdJTE0q7",
        "colab_type": "code",
        "outputId": "3549191d-294e-4534-ee0c-0e9f37eed86b",
        "colab": {
          "base_uri": "https://localhost:8080/",
          "height": 68
        }
      },
      "source": [
        "# Si se ha decidido subir los resultados del modelo de red neuronal\n",
        "if ann_pred_to_kaggle:\n",
        "  df_pred_ann.to_csv('submission.csv', index=True)  \n",
        "  !kaggle competitions submit -c titanic -f submission.csv \\\n",
        "  -m \"New ann_model test prediction\""
      ],
      "execution_count": 81,
      "outputs": [
        {
          "output_type": "stream",
          "text": [
            "Warning: Looks like you're using an outdated API Version, please consider updating (server 1.5.6 / client 1.5.4)\n",
            "100% 2.77k/2.77k [00:03<00:00, 795B/s]\n",
            "Successfully submitted to Titanic: Machine Learning from Disaster"
          ],
          "name": "stdout"
        }
      ]
    }
  ]
}