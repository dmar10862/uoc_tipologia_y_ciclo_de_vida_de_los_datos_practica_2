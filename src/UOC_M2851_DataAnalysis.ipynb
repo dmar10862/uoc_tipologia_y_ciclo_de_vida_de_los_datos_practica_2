{
  "nbformat": 4,
  "nbformat_minor": 0,
  "metadata": {
    "colab": {
      "name": "UOC-M2851-DataAnalysis.ipynb",
      "provenance": [],
      "collapsed_sections": [],
      "authorship_tag": "ABX9TyOuhpgMlTNgcrQlbcacgXxq",
      "include_colab_link": true
    },
    "kernelspec": {
      "name": "python3",
      "display_name": "Python 3"
    }
  },
  "cells": [
    {
      "cell_type": "markdown",
      "metadata": {
        "id": "view-in-github",
        "colab_type": "text"
      },
      "source": [
        "<a href=\"https://colab.research.google.com/github/dmar10862/uoc_tipologia_y_ciclo_de_vida_de_los_datos_practica_2/blob/develop/src/UOC_M2851_DataAnalysis.ipynb\" target=\"_parent\"><img src=\"https://colab.research.google.com/assets/colab-badge.svg\" alt=\"Open In Colab\"/></a>"
      ]
    },
    {
      "cell_type": "markdown",
      "metadata": {
        "id": "WnhsrUMxp9mH",
        "colab_type": "text"
      },
      "source": [
        "**Practica 2: Limpieza y análisis de datos**\n",
        "\n",
        "M2851 - Tipología y ciclo de vida de los datos\n",
        "\n",
        "Ciencia de Datos\n",
        "\n",
        "**David Marín Sánchez**\n",
        "\n",
        "Junio 2020"
      ]
    },
    {
      "cell_type": "markdown",
      "metadata": {
        "id": "fVa3SNNFfP7S",
        "colab_type": "text"
      },
      "source": [
        "**Kaggle Competition**\n",
        "\n",
        "[Titanic: Machine Learning from Disaster](https://www.kaggle.com/c/titanic/overview)"
      ]
    },
    {
      "cell_type": "markdown",
      "metadata": {
        "id": "CzHYyhMglcaw",
        "colab_type": "text"
      },
      "source": [
        "# Librerias y funciones"
      ]
    },
    {
      "cell_type": "markdown",
      "metadata": {
        "id": "4lP99xCBmozB",
        "colab_type": "text"
      },
      "source": [
        "https://github.com/Kaggle/kaggle-api"
      ]
    },
    {
      "cell_type": "code",
      "metadata": {
        "id": "8yGWffSUlcAX",
        "colab_type": "code",
        "colab": {
          "base_uri": "https://localhost:8080/",
          "height": 71
        },
        "outputId": "bc4f4be0-43fe-4f5f-babf-7654e4b272d4"
      },
      "source": [
        "from google.colab import drive\n",
        "from google.colab import auth\n",
        "from scipy import stats\n",
        "import pandas as pd\n",
        "import numpy as np\n",
        "import matplotlib.pyplot as plt\n",
        "import seaborn as sns\n",
        "from sklearn.impute import KNNImputer\n",
        "from sklearn.preprocessing import StandardScaler\n",
        "from sklearn.model_selection import train_test_split\n",
        "from sklearn.metrics import accuracy_score\n",
        "import tensorflow as tf\n",
        "from tensorflow.keras.models import Sequential, Model, load_model\n",
        "from tensorflow.keras.layers import Dense, Activation, Input, Embedding, LSTM, Masking, Bidirectional, TimeDistributed, Conv1D, MaxPooling1D, Flatten\n",
        "from tensorflow.keras.optimizers import Adam\n",
        "from tensorflow.keras.callbacks import EarlyStopping, ModelCheckpoint, TensorBoard"
      ],
      "execution_count": 1,
      "outputs": [
        {
          "output_type": "stream",
          "text": [
            "/usr/local/lib/python3.6/dist-packages/statsmodels/tools/_testing.py:19: FutureWarning: pandas.util.testing is deprecated. Use the functions in the public API at pandas.testing instead.\n",
            "  import pandas.util.testing as tm\n"
          ],
          "name": "stderr"
        }
      ]
    },
    {
      "cell_type": "code",
      "metadata": {
        "id": "kSbUb2i2mrZh",
        "colab_type": "code",
        "outputId": "9396c4fc-20e1-465f-daf4-11e70afa6346",
        "colab": {
          "base_uri": "https://localhost:8080/",
          "height": 34
        }
      },
      "source": [
        "# Montar Google Drive\n",
        "drive.mount('/content/drive')"
      ],
      "execution_count": 2,
      "outputs": [
        {
          "output_type": "stream",
          "text": [
            "Drive already mounted at /content/drive; to attempt to forcibly remount, call drive.mount(\"/content/drive\", force_remount=True).\n"
          ],
          "name": "stdout"
        }
      ]
    },
    {
      "cell_type": "code",
      "metadata": {
        "id": "wqxPpBiclgwX",
        "colab_type": "code",
        "outputId": "67279c39-c4bf-46fa-d17b-8b143c96bad8",
        "colab": {
          "base_uri": "https://localhost:8080/",
          "height": 51
        }
      },
      "source": [
        "%%bash\n",
        "# Instalar kaggle\n",
        "pip install -q kaggle\n",
        "\n",
        "# Cargar las credeciales de Kaggle\n",
        "mkdir -p /root/.kaggle\n",
        "cp -a \"/content/drive/My Drive/Credentials/kaggle.json\" /root/.kaggle/kaggle.json\n",
        "ls -l /root/.kaggle"
      ],
      "execution_count": 4,
      "outputs": [
        {
          "output_type": "stream",
          "text": [
            "total 4\n",
            "-rw------- 1 root root 64 May  9 08:42 kaggle.json\n"
          ],
          "name": "stdout"
        }
      ]
    },
    {
      "cell_type": "code",
      "metadata": {
        "id": "AeLUbs0JlUVf",
        "colab_type": "code",
        "outputId": "469a6da2-effa-4d3b-c999-6e2a8a7888bf",
        "colab": {
          "base_uri": "https://localhost:8080/",
          "height": 102
        }
      },
      "source": [
        "# Descargar dataset\n",
        "%%bash\n",
        "mkdir -p datasets\n",
        "cd datasets\n",
        "kaggle competitions download -c titanic\n",
        "ls -la datasets"
      ],
      "execution_count": 5,
      "outputs": [
        {
          "output_type": "stream",
          "text": [
            "Warning: Looks like you're using an outdated API Version, please consider updating (server 1.5.6 / client 1.5.4)\n",
            "train.csv: Skipping, found more recently modified local copy (use --force to force download)\n",
            "test.csv: Skipping, found more recently modified local copy (use --force to force download)\n",
            "gender_submission.csv: Skipping, found more recently modified local copy (use --force to force download)\n"
          ],
          "name": "stdout"
        },
        {
          "output_type": "stream",
          "text": [
            "ls: cannot access 'datasets': No such file or directory\n"
          ],
          "name": "stderr"
        }
      ]
    },
    {
      "cell_type": "markdown",
      "metadata": {
        "id": "pyUPgmft7MEp",
        "colab_type": "text"
      },
      "source": [
        "# Cargar Datos"
      ]
    },
    {
      "cell_type": "code",
      "metadata": {
        "id": "Kz6v5JKYn25H",
        "colab_type": "code",
        "outputId": "1dd5da80-7f85-449e-a4fb-aacd0ba63e3d",
        "colab": {
          "base_uri": "https://localhost:8080/",
          "height": 221
        }
      },
      "source": [
        "# Cargar dataset como Pandas DataFrame\n",
        "df_train_orig = pd.read_csv('datasets/train.csv') \n",
        "df_train = df_train_orig.copy()\n",
        "display(df_train.shape)\n",
        "display(df_train.head())"
      ],
      "execution_count": 128,
      "outputs": [
        {
          "output_type": "display_data",
          "data": {
            "text/plain": [
              "(891, 12)"
            ]
          },
          "metadata": {
            "tags": []
          }
        },
        {
          "output_type": "display_data",
          "data": {
            "text/html": [
              "<div>\n",
              "<style scoped>\n",
              "    .dataframe tbody tr th:only-of-type {\n",
              "        vertical-align: middle;\n",
              "    }\n",
              "\n",
              "    .dataframe tbody tr th {\n",
              "        vertical-align: top;\n",
              "    }\n",
              "\n",
              "    .dataframe thead th {\n",
              "        text-align: right;\n",
              "    }\n",
              "</style>\n",
              "<table border=\"1\" class=\"dataframe\">\n",
              "  <thead>\n",
              "    <tr style=\"text-align: right;\">\n",
              "      <th></th>\n",
              "      <th>PassengerId</th>\n",
              "      <th>Survived</th>\n",
              "      <th>Pclass</th>\n",
              "      <th>Name</th>\n",
              "      <th>Sex</th>\n",
              "      <th>Age</th>\n",
              "      <th>SibSp</th>\n",
              "      <th>Parch</th>\n",
              "      <th>Ticket</th>\n",
              "      <th>Fare</th>\n",
              "      <th>Cabin</th>\n",
              "      <th>Embarked</th>\n",
              "    </tr>\n",
              "  </thead>\n",
              "  <tbody>\n",
              "    <tr>\n",
              "      <th>0</th>\n",
              "      <td>1</td>\n",
              "      <td>0</td>\n",
              "      <td>3</td>\n",
              "      <td>Braund, Mr. Owen Harris</td>\n",
              "      <td>male</td>\n",
              "      <td>22.0</td>\n",
              "      <td>1</td>\n",
              "      <td>0</td>\n",
              "      <td>A/5 21171</td>\n",
              "      <td>7.2500</td>\n",
              "      <td>NaN</td>\n",
              "      <td>S</td>\n",
              "    </tr>\n",
              "    <tr>\n",
              "      <th>1</th>\n",
              "      <td>2</td>\n",
              "      <td>1</td>\n",
              "      <td>1</td>\n",
              "      <td>Cumings, Mrs. John Bradley (Florence Briggs Th...</td>\n",
              "      <td>female</td>\n",
              "      <td>38.0</td>\n",
              "      <td>1</td>\n",
              "      <td>0</td>\n",
              "      <td>PC 17599</td>\n",
              "      <td>71.2833</td>\n",
              "      <td>C85</td>\n",
              "      <td>C</td>\n",
              "    </tr>\n",
              "    <tr>\n",
              "      <th>2</th>\n",
              "      <td>3</td>\n",
              "      <td>1</td>\n",
              "      <td>3</td>\n",
              "      <td>Heikkinen, Miss. Laina</td>\n",
              "      <td>female</td>\n",
              "      <td>26.0</td>\n",
              "      <td>0</td>\n",
              "      <td>0</td>\n",
              "      <td>STON/O2. 3101282</td>\n",
              "      <td>7.9250</td>\n",
              "      <td>NaN</td>\n",
              "      <td>S</td>\n",
              "    </tr>\n",
              "    <tr>\n",
              "      <th>3</th>\n",
              "      <td>4</td>\n",
              "      <td>1</td>\n",
              "      <td>1</td>\n",
              "      <td>Futrelle, Mrs. Jacques Heath (Lily May Peel)</td>\n",
              "      <td>female</td>\n",
              "      <td>35.0</td>\n",
              "      <td>1</td>\n",
              "      <td>0</td>\n",
              "      <td>113803</td>\n",
              "      <td>53.1000</td>\n",
              "      <td>C123</td>\n",
              "      <td>S</td>\n",
              "    </tr>\n",
              "    <tr>\n",
              "      <th>4</th>\n",
              "      <td>5</td>\n",
              "      <td>0</td>\n",
              "      <td>3</td>\n",
              "      <td>Allen, Mr. William Henry</td>\n",
              "      <td>male</td>\n",
              "      <td>35.0</td>\n",
              "      <td>0</td>\n",
              "      <td>0</td>\n",
              "      <td>373450</td>\n",
              "      <td>8.0500</td>\n",
              "      <td>NaN</td>\n",
              "      <td>S</td>\n",
              "    </tr>\n",
              "  </tbody>\n",
              "</table>\n",
              "</div>"
            ],
            "text/plain": [
              "   PassengerId  Survived  Pclass  ...     Fare Cabin  Embarked\n",
              "0            1         0       3  ...   7.2500   NaN         S\n",
              "1            2         1       1  ...  71.2833   C85         C\n",
              "2            3         1       3  ...   7.9250   NaN         S\n",
              "3            4         1       1  ...  53.1000  C123         S\n",
              "4            5         0       3  ...   8.0500   NaN         S\n",
              "\n",
              "[5 rows x 12 columns]"
            ]
          },
          "metadata": {
            "tags": []
          }
        }
      ]
    },
    {
      "cell_type": "code",
      "metadata": {
        "id": "IJbXogW-__vi",
        "colab_type": "code",
        "outputId": "234d022a-b248-4fb1-accf-b7db5f656da7",
        "colab": {
          "base_uri": "https://localhost:8080/",
          "height": 425
        }
      },
      "source": [
        "# Separar las caracteristicas de la variable a estimar\n",
        "X = df_train.drop(columns=['Survived'])\n",
        "y = df_train[['Survived']]\n",
        "\n",
        "display(X.shape)\n",
        "display(X.head())\n",
        "display(y.shape)\n",
        "display(y.head())"
      ],
      "execution_count": 129,
      "outputs": [
        {
          "output_type": "display_data",
          "data": {
            "text/plain": [
              "(891, 11)"
            ]
          },
          "metadata": {
            "tags": []
          }
        },
        {
          "output_type": "display_data",
          "data": {
            "text/html": [
              "<div>\n",
              "<style scoped>\n",
              "    .dataframe tbody tr th:only-of-type {\n",
              "        vertical-align: middle;\n",
              "    }\n",
              "\n",
              "    .dataframe tbody tr th {\n",
              "        vertical-align: top;\n",
              "    }\n",
              "\n",
              "    .dataframe thead th {\n",
              "        text-align: right;\n",
              "    }\n",
              "</style>\n",
              "<table border=\"1\" class=\"dataframe\">\n",
              "  <thead>\n",
              "    <tr style=\"text-align: right;\">\n",
              "      <th></th>\n",
              "      <th>PassengerId</th>\n",
              "      <th>Pclass</th>\n",
              "      <th>Name</th>\n",
              "      <th>Sex</th>\n",
              "      <th>Age</th>\n",
              "      <th>SibSp</th>\n",
              "      <th>Parch</th>\n",
              "      <th>Ticket</th>\n",
              "      <th>Fare</th>\n",
              "      <th>Cabin</th>\n",
              "      <th>Embarked</th>\n",
              "    </tr>\n",
              "  </thead>\n",
              "  <tbody>\n",
              "    <tr>\n",
              "      <th>0</th>\n",
              "      <td>1</td>\n",
              "      <td>3</td>\n",
              "      <td>Braund, Mr. Owen Harris</td>\n",
              "      <td>male</td>\n",
              "      <td>22.0</td>\n",
              "      <td>1</td>\n",
              "      <td>0</td>\n",
              "      <td>A/5 21171</td>\n",
              "      <td>7.2500</td>\n",
              "      <td>NaN</td>\n",
              "      <td>S</td>\n",
              "    </tr>\n",
              "    <tr>\n",
              "      <th>1</th>\n",
              "      <td>2</td>\n",
              "      <td>1</td>\n",
              "      <td>Cumings, Mrs. John Bradley (Florence Briggs Th...</td>\n",
              "      <td>female</td>\n",
              "      <td>38.0</td>\n",
              "      <td>1</td>\n",
              "      <td>0</td>\n",
              "      <td>PC 17599</td>\n",
              "      <td>71.2833</td>\n",
              "      <td>C85</td>\n",
              "      <td>C</td>\n",
              "    </tr>\n",
              "    <tr>\n",
              "      <th>2</th>\n",
              "      <td>3</td>\n",
              "      <td>3</td>\n",
              "      <td>Heikkinen, Miss. Laina</td>\n",
              "      <td>female</td>\n",
              "      <td>26.0</td>\n",
              "      <td>0</td>\n",
              "      <td>0</td>\n",
              "      <td>STON/O2. 3101282</td>\n",
              "      <td>7.9250</td>\n",
              "      <td>NaN</td>\n",
              "      <td>S</td>\n",
              "    </tr>\n",
              "    <tr>\n",
              "      <th>3</th>\n",
              "      <td>4</td>\n",
              "      <td>1</td>\n",
              "      <td>Futrelle, Mrs. Jacques Heath (Lily May Peel)</td>\n",
              "      <td>female</td>\n",
              "      <td>35.0</td>\n",
              "      <td>1</td>\n",
              "      <td>0</td>\n",
              "      <td>113803</td>\n",
              "      <td>53.1000</td>\n",
              "      <td>C123</td>\n",
              "      <td>S</td>\n",
              "    </tr>\n",
              "    <tr>\n",
              "      <th>4</th>\n",
              "      <td>5</td>\n",
              "      <td>3</td>\n",
              "      <td>Allen, Mr. William Henry</td>\n",
              "      <td>male</td>\n",
              "      <td>35.0</td>\n",
              "      <td>0</td>\n",
              "      <td>0</td>\n",
              "      <td>373450</td>\n",
              "      <td>8.0500</td>\n",
              "      <td>NaN</td>\n",
              "      <td>S</td>\n",
              "    </tr>\n",
              "  </tbody>\n",
              "</table>\n",
              "</div>"
            ],
            "text/plain": [
              "   PassengerId  Pclass  ... Cabin Embarked\n",
              "0            1       3  ...   NaN        S\n",
              "1            2       1  ...   C85        C\n",
              "2            3       3  ...   NaN        S\n",
              "3            4       1  ...  C123        S\n",
              "4            5       3  ...   NaN        S\n",
              "\n",
              "[5 rows x 11 columns]"
            ]
          },
          "metadata": {
            "tags": []
          }
        },
        {
          "output_type": "display_data",
          "data": {
            "text/plain": [
              "(891, 1)"
            ]
          },
          "metadata": {
            "tags": []
          }
        },
        {
          "output_type": "display_data",
          "data": {
            "text/html": [
              "<div>\n",
              "<style scoped>\n",
              "    .dataframe tbody tr th:only-of-type {\n",
              "        vertical-align: middle;\n",
              "    }\n",
              "\n",
              "    .dataframe tbody tr th {\n",
              "        vertical-align: top;\n",
              "    }\n",
              "\n",
              "    .dataframe thead th {\n",
              "        text-align: right;\n",
              "    }\n",
              "</style>\n",
              "<table border=\"1\" class=\"dataframe\">\n",
              "  <thead>\n",
              "    <tr style=\"text-align: right;\">\n",
              "      <th></th>\n",
              "      <th>Survived</th>\n",
              "    </tr>\n",
              "  </thead>\n",
              "  <tbody>\n",
              "    <tr>\n",
              "      <th>0</th>\n",
              "      <td>0</td>\n",
              "    </tr>\n",
              "    <tr>\n",
              "      <th>1</th>\n",
              "      <td>1</td>\n",
              "    </tr>\n",
              "    <tr>\n",
              "      <th>2</th>\n",
              "      <td>1</td>\n",
              "    </tr>\n",
              "    <tr>\n",
              "      <th>3</th>\n",
              "      <td>1</td>\n",
              "    </tr>\n",
              "    <tr>\n",
              "      <th>4</th>\n",
              "      <td>0</td>\n",
              "    </tr>\n",
              "  </tbody>\n",
              "</table>\n",
              "</div>"
            ],
            "text/plain": [
              "   Survived\n",
              "0         0\n",
              "1         1\n",
              "2         1\n",
              "3         1\n",
              "4         0"
            ]
          },
          "metadata": {
            "tags": []
          }
        }
      ]
    },
    {
      "cell_type": "code",
      "metadata": {
        "id": "zGDtXQK9DnWL",
        "colab_type": "code",
        "outputId": "6d6851bb-7c6e-4433-b453-ccaf0a33bf90",
        "colab": {
          "base_uri": "https://localhost:8080/",
          "height": 221
        }
      },
      "source": [
        "# Cargar dataset de test\n",
        "X_test_orig = pd.read_csv('datasets/test.csv') \n",
        "X_test = X_test_orig.copy()\n",
        "display(X_test.shape)\n",
        "display(X_test.head())"
      ],
      "execution_count": 130,
      "outputs": [
        {
          "output_type": "display_data",
          "data": {
            "text/plain": [
              "(418, 11)"
            ]
          },
          "metadata": {
            "tags": []
          }
        },
        {
          "output_type": "display_data",
          "data": {
            "text/html": [
              "<div>\n",
              "<style scoped>\n",
              "    .dataframe tbody tr th:only-of-type {\n",
              "        vertical-align: middle;\n",
              "    }\n",
              "\n",
              "    .dataframe tbody tr th {\n",
              "        vertical-align: top;\n",
              "    }\n",
              "\n",
              "    .dataframe thead th {\n",
              "        text-align: right;\n",
              "    }\n",
              "</style>\n",
              "<table border=\"1\" class=\"dataframe\">\n",
              "  <thead>\n",
              "    <tr style=\"text-align: right;\">\n",
              "      <th></th>\n",
              "      <th>PassengerId</th>\n",
              "      <th>Pclass</th>\n",
              "      <th>Name</th>\n",
              "      <th>Sex</th>\n",
              "      <th>Age</th>\n",
              "      <th>SibSp</th>\n",
              "      <th>Parch</th>\n",
              "      <th>Ticket</th>\n",
              "      <th>Fare</th>\n",
              "      <th>Cabin</th>\n",
              "      <th>Embarked</th>\n",
              "    </tr>\n",
              "  </thead>\n",
              "  <tbody>\n",
              "    <tr>\n",
              "      <th>0</th>\n",
              "      <td>892</td>\n",
              "      <td>3</td>\n",
              "      <td>Kelly, Mr. James</td>\n",
              "      <td>male</td>\n",
              "      <td>34.5</td>\n",
              "      <td>0</td>\n",
              "      <td>0</td>\n",
              "      <td>330911</td>\n",
              "      <td>7.8292</td>\n",
              "      <td>NaN</td>\n",
              "      <td>Q</td>\n",
              "    </tr>\n",
              "    <tr>\n",
              "      <th>1</th>\n",
              "      <td>893</td>\n",
              "      <td>3</td>\n",
              "      <td>Wilkes, Mrs. James (Ellen Needs)</td>\n",
              "      <td>female</td>\n",
              "      <td>47.0</td>\n",
              "      <td>1</td>\n",
              "      <td>0</td>\n",
              "      <td>363272</td>\n",
              "      <td>7.0000</td>\n",
              "      <td>NaN</td>\n",
              "      <td>S</td>\n",
              "    </tr>\n",
              "    <tr>\n",
              "      <th>2</th>\n",
              "      <td>894</td>\n",
              "      <td>2</td>\n",
              "      <td>Myles, Mr. Thomas Francis</td>\n",
              "      <td>male</td>\n",
              "      <td>62.0</td>\n",
              "      <td>0</td>\n",
              "      <td>0</td>\n",
              "      <td>240276</td>\n",
              "      <td>9.6875</td>\n",
              "      <td>NaN</td>\n",
              "      <td>Q</td>\n",
              "    </tr>\n",
              "    <tr>\n",
              "      <th>3</th>\n",
              "      <td>895</td>\n",
              "      <td>3</td>\n",
              "      <td>Wirz, Mr. Albert</td>\n",
              "      <td>male</td>\n",
              "      <td>27.0</td>\n",
              "      <td>0</td>\n",
              "      <td>0</td>\n",
              "      <td>315154</td>\n",
              "      <td>8.6625</td>\n",
              "      <td>NaN</td>\n",
              "      <td>S</td>\n",
              "    </tr>\n",
              "    <tr>\n",
              "      <th>4</th>\n",
              "      <td>896</td>\n",
              "      <td>3</td>\n",
              "      <td>Hirvonen, Mrs. Alexander (Helga E Lindqvist)</td>\n",
              "      <td>female</td>\n",
              "      <td>22.0</td>\n",
              "      <td>1</td>\n",
              "      <td>1</td>\n",
              "      <td>3101298</td>\n",
              "      <td>12.2875</td>\n",
              "      <td>NaN</td>\n",
              "      <td>S</td>\n",
              "    </tr>\n",
              "  </tbody>\n",
              "</table>\n",
              "</div>"
            ],
            "text/plain": [
              "   PassengerId  Pclass  ... Cabin Embarked\n",
              "0          892       3  ...   NaN        Q\n",
              "1          893       3  ...   NaN        S\n",
              "2          894       2  ...   NaN        Q\n",
              "3          895       3  ...   NaN        S\n",
              "4          896       3  ...   NaN        S\n",
              "\n",
              "[5 rows x 11 columns]"
            ]
          },
          "metadata": {
            "tags": []
          }
        }
      ]
    },
    {
      "cell_type": "code",
      "metadata": {
        "id": "B_xa0V4-wwxB",
        "colab_type": "code",
        "colab": {}
      },
      "source": [
        "# Deajar solo variables útiles\n",
        "X = X.drop(columns=['Ticket', 'Name'])\n",
        "X_test = X_test.drop(columns=['Ticket', 'Name'])"
      ],
      "execution_count": 0,
      "outputs": []
    },
    {
      "cell_type": "markdown",
      "metadata": {
        "id": "A277m6ABwqpB",
        "colab_type": "text"
      },
      "source": [
        "# Limpieza de datos"
      ]
    },
    {
      "cell_type": "code",
      "metadata": {
        "id": "qbRWK0jKwtao",
        "colab_type": "code",
        "outputId": "22e9345b-c54e-41e1-d055-b2525fab959c",
        "colab": {
          "base_uri": "https://localhost:8080/",
          "height": 323
        }
      },
      "source": [
        "# Convertir variables en numéricas\n",
        "X['Sex'], sex = pd.factorize(X['Sex'])\n",
        "X['Embarked'], embarked = pd.factorize(X['Embarked'])\n",
        "X['Cabin'], cabin = pd.factorize(X['Cabin'])\n",
        "X['Cabin'] = X['Cabin'].replace(-1,np.nan)\n",
        "\n",
        "display(X.head())\n",
        "print(sex)\n",
        "print(embarked)\n",
        "print(cabin)"
      ],
      "execution_count": 135,
      "outputs": [
        {
          "output_type": "display_data",
          "data": {
            "text/html": [
              "<div>\n",
              "<style scoped>\n",
              "    .dataframe tbody tr th:only-of-type {\n",
              "        vertical-align: middle;\n",
              "    }\n",
              "\n",
              "    .dataframe tbody tr th {\n",
              "        vertical-align: top;\n",
              "    }\n",
              "\n",
              "    .dataframe thead th {\n",
              "        text-align: right;\n",
              "    }\n",
              "</style>\n",
              "<table border=\"1\" class=\"dataframe\">\n",
              "  <thead>\n",
              "    <tr style=\"text-align: right;\">\n",
              "      <th></th>\n",
              "      <th>PassengerId</th>\n",
              "      <th>Pclass</th>\n",
              "      <th>Sex</th>\n",
              "      <th>Age</th>\n",
              "      <th>SibSp</th>\n",
              "      <th>Parch</th>\n",
              "      <th>Fare</th>\n",
              "      <th>Cabin</th>\n",
              "      <th>Embarked</th>\n",
              "    </tr>\n",
              "  </thead>\n",
              "  <tbody>\n",
              "    <tr>\n",
              "      <th>0</th>\n",
              "      <td>1</td>\n",
              "      <td>3</td>\n",
              "      <td>0</td>\n",
              "      <td>22.0</td>\n",
              "      <td>1</td>\n",
              "      <td>0</td>\n",
              "      <td>7.2500</td>\n",
              "      <td>NaN</td>\n",
              "      <td>0</td>\n",
              "    </tr>\n",
              "    <tr>\n",
              "      <th>1</th>\n",
              "      <td>2</td>\n",
              "      <td>1</td>\n",
              "      <td>1</td>\n",
              "      <td>38.0</td>\n",
              "      <td>1</td>\n",
              "      <td>0</td>\n",
              "      <td>71.2833</td>\n",
              "      <td>0.0</td>\n",
              "      <td>1</td>\n",
              "    </tr>\n",
              "    <tr>\n",
              "      <th>2</th>\n",
              "      <td>3</td>\n",
              "      <td>3</td>\n",
              "      <td>1</td>\n",
              "      <td>26.0</td>\n",
              "      <td>0</td>\n",
              "      <td>0</td>\n",
              "      <td>7.9250</td>\n",
              "      <td>NaN</td>\n",
              "      <td>0</td>\n",
              "    </tr>\n",
              "    <tr>\n",
              "      <th>3</th>\n",
              "      <td>4</td>\n",
              "      <td>1</td>\n",
              "      <td>1</td>\n",
              "      <td>35.0</td>\n",
              "      <td>1</td>\n",
              "      <td>0</td>\n",
              "      <td>53.1000</td>\n",
              "      <td>1.0</td>\n",
              "      <td>0</td>\n",
              "    </tr>\n",
              "    <tr>\n",
              "      <th>4</th>\n",
              "      <td>5</td>\n",
              "      <td>3</td>\n",
              "      <td>0</td>\n",
              "      <td>35.0</td>\n",
              "      <td>0</td>\n",
              "      <td>0</td>\n",
              "      <td>8.0500</td>\n",
              "      <td>NaN</td>\n",
              "      <td>0</td>\n",
              "    </tr>\n",
              "  </tbody>\n",
              "</table>\n",
              "</div>"
            ],
            "text/plain": [
              "   PassengerId  Pclass  Sex   Age  SibSp  Parch     Fare  Cabin  Embarked\n",
              "0            1       3    0  22.0      1      0   7.2500    NaN         0\n",
              "1            2       1    1  38.0      1      0  71.2833    0.0         1\n",
              "2            3       3    1  26.0      0      0   7.9250    NaN         0\n",
              "3            4       1    1  35.0      1      0  53.1000    1.0         0\n",
              "4            5       3    0  35.0      0      0   8.0500    NaN         0"
            ]
          },
          "metadata": {
            "tags": []
          }
        },
        {
          "output_type": "stream",
          "text": [
            "Int64Index([0, 1], dtype='int64')\n",
            "Int64Index([0, 1, 2, -1], dtype='int64')\n",
            "Index(['C85', 'C123', 'E46', 'G6', 'C103', 'D56', 'A6', 'C23 C25 C27', 'B78',\n",
            "       'D33',\n",
            "       ...\n",
            "       'B102', 'B69', 'E49', 'C47', 'D28', 'E17', 'A24', 'C50', 'B42', 'C148'],\n",
            "      dtype='object', length=147)\n"
          ],
          "name": "stdout"
        }
      ]
    },
    {
      "cell_type": "code",
      "metadata": {
        "id": "z1bQf9H2sB1A",
        "colab_type": "code",
        "outputId": "e8d57672-f1c3-4cae-94d7-ffc599758c62",
        "colab": {
          "base_uri": "https://localhost:8080/",
          "height": 297
        }
      },
      "source": [
        "display(X.describe())"
      ],
      "execution_count": 111,
      "outputs": [
        {
          "output_type": "display_data",
          "data": {
            "text/html": [
              "<div>\n",
              "<style scoped>\n",
              "    .dataframe tbody tr th:only-of-type {\n",
              "        vertical-align: middle;\n",
              "    }\n",
              "\n",
              "    .dataframe tbody tr th {\n",
              "        vertical-align: top;\n",
              "    }\n",
              "\n",
              "    .dataframe thead th {\n",
              "        text-align: right;\n",
              "    }\n",
              "</style>\n",
              "<table border=\"1\" class=\"dataframe\">\n",
              "  <thead>\n",
              "    <tr style=\"text-align: right;\">\n",
              "      <th></th>\n",
              "      <th>PassengerId</th>\n",
              "      <th>Pclass</th>\n",
              "      <th>Sex</th>\n",
              "      <th>Age</th>\n",
              "      <th>SibSp</th>\n",
              "      <th>Parch</th>\n",
              "      <th>Fare</th>\n",
              "      <th>Cabin</th>\n",
              "      <th>Embarked</th>\n",
              "    </tr>\n",
              "  </thead>\n",
              "  <tbody>\n",
              "    <tr>\n",
              "      <th>count</th>\n",
              "      <td>891.000000</td>\n",
              "      <td>891.000000</td>\n",
              "      <td>891.000000</td>\n",
              "      <td>714.000000</td>\n",
              "      <td>891.000000</td>\n",
              "      <td>891.000000</td>\n",
              "      <td>891.000000</td>\n",
              "      <td>891.000000</td>\n",
              "      <td>891.000000</td>\n",
              "    </tr>\n",
              "    <tr>\n",
              "      <th>mean</th>\n",
              "      <td>446.000000</td>\n",
              "      <td>2.308642</td>\n",
              "      <td>0.352413</td>\n",
              "      <td>29.699118</td>\n",
              "      <td>0.523008</td>\n",
              "      <td>0.381594</td>\n",
              "      <td>32.204208</td>\n",
              "      <td>14.527497</td>\n",
              "      <td>0.359147</td>\n",
              "    </tr>\n",
              "    <tr>\n",
              "      <th>std</th>\n",
              "      <td>257.353842</td>\n",
              "      <td>0.836071</td>\n",
              "      <td>0.477990</td>\n",
              "      <td>14.526497</td>\n",
              "      <td>1.102743</td>\n",
              "      <td>0.806057</td>\n",
              "      <td>49.693429</td>\n",
              "      <td>34.996694</td>\n",
              "      <td>0.638707</td>\n",
              "    </tr>\n",
              "    <tr>\n",
              "      <th>min</th>\n",
              "      <td>1.000000</td>\n",
              "      <td>1.000000</td>\n",
              "      <td>0.000000</td>\n",
              "      <td>0.420000</td>\n",
              "      <td>0.000000</td>\n",
              "      <td>0.000000</td>\n",
              "      <td>0.000000</td>\n",
              "      <td>-1.000000</td>\n",
              "      <td>-1.000000</td>\n",
              "    </tr>\n",
              "    <tr>\n",
              "      <th>25%</th>\n",
              "      <td>223.500000</td>\n",
              "      <td>2.000000</td>\n",
              "      <td>0.000000</td>\n",
              "      <td>20.125000</td>\n",
              "      <td>0.000000</td>\n",
              "      <td>0.000000</td>\n",
              "      <td>7.910400</td>\n",
              "      <td>-1.000000</td>\n",
              "      <td>0.000000</td>\n",
              "    </tr>\n",
              "    <tr>\n",
              "      <th>50%</th>\n",
              "      <td>446.000000</td>\n",
              "      <td>3.000000</td>\n",
              "      <td>0.000000</td>\n",
              "      <td>28.000000</td>\n",
              "      <td>0.000000</td>\n",
              "      <td>0.000000</td>\n",
              "      <td>14.454200</td>\n",
              "      <td>-1.000000</td>\n",
              "      <td>0.000000</td>\n",
              "    </tr>\n",
              "    <tr>\n",
              "      <th>75%</th>\n",
              "      <td>668.500000</td>\n",
              "      <td>3.000000</td>\n",
              "      <td>1.000000</td>\n",
              "      <td>38.000000</td>\n",
              "      <td>1.000000</td>\n",
              "      <td>0.000000</td>\n",
              "      <td>31.000000</td>\n",
              "      <td>-1.000000</td>\n",
              "      <td>1.000000</td>\n",
              "    </tr>\n",
              "    <tr>\n",
              "      <th>max</th>\n",
              "      <td>891.000000</td>\n",
              "      <td>3.000000</td>\n",
              "      <td>1.000000</td>\n",
              "      <td>80.000000</td>\n",
              "      <td>8.000000</td>\n",
              "      <td>6.000000</td>\n",
              "      <td>512.329200</td>\n",
              "      <td>146.000000</td>\n",
              "      <td>2.000000</td>\n",
              "    </tr>\n",
              "  </tbody>\n",
              "</table>\n",
              "</div>"
            ],
            "text/plain": [
              "       PassengerId      Pclass         Sex  ...        Fare       Cabin    Embarked\n",
              "count   891.000000  891.000000  891.000000  ...  891.000000  891.000000  891.000000\n",
              "mean    446.000000    2.308642    0.352413  ...   32.204208   14.527497    0.359147\n",
              "std     257.353842    0.836071    0.477990  ...   49.693429   34.996694    0.638707\n",
              "min       1.000000    1.000000    0.000000  ...    0.000000   -1.000000   -1.000000\n",
              "25%     223.500000    2.000000    0.000000  ...    7.910400   -1.000000    0.000000\n",
              "50%     446.000000    3.000000    0.000000  ...   14.454200   -1.000000    0.000000\n",
              "75%     668.500000    3.000000    1.000000  ...   31.000000   -1.000000    1.000000\n",
              "max     891.000000    3.000000    1.000000  ...  512.329200  146.000000    2.000000\n",
              "\n",
              "[8 rows x 9 columns]"
            ]
          },
          "metadata": {
            "tags": []
          }
        }
      ]
    },
    {
      "cell_type": "code",
      "metadata": {
        "id": "TficYeE4D1VT",
        "colab_type": "code",
        "outputId": "914e4994-b8ec-4fcd-bbd1-f225951d0a5c",
        "colab": {
          "base_uri": "https://localhost:8080/",
          "height": 408
        }
      },
      "source": [
        "# Convertir variables en numéricas\n",
        "X_test['Sex'], sex = pd.factorize(X_test['Sex'])\n",
        "X_test['Embarked'], embarked = pd.factorize(X_test['Embarked'])\n",
        "X_test['Cabin'], cabin = pd.factorize(X_test['Cabin'])\n",
        "X_test['Cabin'] = X_test['Cabin'].replace(-1,np.nan)\n",
        "\n",
        "display(X_test.head())\n",
        "print(sex)\n",
        "print(embarked)\n",
        "print(cabin)"
      ],
      "execution_count": 136,
      "outputs": [
        {
          "output_type": "display_data",
          "data": {
            "text/html": [
              "<div>\n",
              "<style scoped>\n",
              "    .dataframe tbody tr th:only-of-type {\n",
              "        vertical-align: middle;\n",
              "    }\n",
              "\n",
              "    .dataframe tbody tr th {\n",
              "        vertical-align: top;\n",
              "    }\n",
              "\n",
              "    .dataframe thead th {\n",
              "        text-align: right;\n",
              "    }\n",
              "</style>\n",
              "<table border=\"1\" class=\"dataframe\">\n",
              "  <thead>\n",
              "    <tr style=\"text-align: right;\">\n",
              "      <th></th>\n",
              "      <th>PassengerId</th>\n",
              "      <th>Pclass</th>\n",
              "      <th>Sex</th>\n",
              "      <th>Age</th>\n",
              "      <th>SibSp</th>\n",
              "      <th>Parch</th>\n",
              "      <th>Fare</th>\n",
              "      <th>Cabin</th>\n",
              "      <th>Embarked</th>\n",
              "    </tr>\n",
              "  </thead>\n",
              "  <tbody>\n",
              "    <tr>\n",
              "      <th>0</th>\n",
              "      <td>892</td>\n",
              "      <td>3</td>\n",
              "      <td>0</td>\n",
              "      <td>34.5</td>\n",
              "      <td>0</td>\n",
              "      <td>0</td>\n",
              "      <td>7.8292</td>\n",
              "      <td>NaN</td>\n",
              "      <td>0</td>\n",
              "    </tr>\n",
              "    <tr>\n",
              "      <th>1</th>\n",
              "      <td>893</td>\n",
              "      <td>3</td>\n",
              "      <td>1</td>\n",
              "      <td>47.0</td>\n",
              "      <td>1</td>\n",
              "      <td>0</td>\n",
              "      <td>7.0000</td>\n",
              "      <td>NaN</td>\n",
              "      <td>1</td>\n",
              "    </tr>\n",
              "    <tr>\n",
              "      <th>2</th>\n",
              "      <td>894</td>\n",
              "      <td>2</td>\n",
              "      <td>0</td>\n",
              "      <td>62.0</td>\n",
              "      <td>0</td>\n",
              "      <td>0</td>\n",
              "      <td>9.6875</td>\n",
              "      <td>NaN</td>\n",
              "      <td>0</td>\n",
              "    </tr>\n",
              "    <tr>\n",
              "      <th>3</th>\n",
              "      <td>895</td>\n",
              "      <td>3</td>\n",
              "      <td>0</td>\n",
              "      <td>27.0</td>\n",
              "      <td>0</td>\n",
              "      <td>0</td>\n",
              "      <td>8.6625</td>\n",
              "      <td>NaN</td>\n",
              "      <td>1</td>\n",
              "    </tr>\n",
              "    <tr>\n",
              "      <th>4</th>\n",
              "      <td>896</td>\n",
              "      <td>3</td>\n",
              "      <td>1</td>\n",
              "      <td>22.0</td>\n",
              "      <td>1</td>\n",
              "      <td>1</td>\n",
              "      <td>12.2875</td>\n",
              "      <td>NaN</td>\n",
              "      <td>1</td>\n",
              "    </tr>\n",
              "  </tbody>\n",
              "</table>\n",
              "</div>"
            ],
            "text/plain": [
              "   PassengerId  Pclass  Sex   Age  SibSp  Parch     Fare  Cabin  Embarked\n",
              "0          892       3    0  34.5      0      0   7.8292    NaN         0\n",
              "1          893       3    1  47.0      1      0   7.0000    NaN         1\n",
              "2          894       2    0  62.0      0      0   9.6875    NaN         0\n",
              "3          895       3    0  27.0      0      0   8.6625    NaN         1\n",
              "4          896       3    1  22.0      1      1  12.2875    NaN         1"
            ]
          },
          "metadata": {
            "tags": []
          }
        },
        {
          "output_type": "stream",
          "text": [
            "Index(['male', 'female'], dtype='object')\n",
            "Index(['Q', 'S', 'C'], dtype='object')\n",
            "Index(['B45', 'E31', 'B57 B59 B63 B66', 'B36', 'A21', 'C78', 'D34', 'D19',\n",
            "       'A9', 'D15', 'C31', 'C23 C25 C27', 'F G63', 'B61', 'C53', 'D43', 'C130',\n",
            "       'C132', 'C101', 'C55 C57', 'B71', 'C46', 'C116', 'F', 'A29', 'G6', 'C6',\n",
            "       'C28', 'C51', 'E46', 'C54', 'C97', 'D22', 'B10', 'F4', 'E45', 'E52',\n",
            "       'D30', 'B58 B60', 'E34', 'C62 C64', 'A11', 'B11', 'C80', 'F33', 'C85',\n",
            "       'D37', 'C86', 'D21', 'C89', 'F E46', 'A34', 'D', 'B26', 'C22 C26',\n",
            "       'B69', 'C32', 'B78', 'F E57', 'F2', 'A18', 'C106', 'B51 B53 B55',\n",
            "       'D10 D12', 'E60', 'E50', 'E39 E41', 'B52 B54 B56', 'C39', 'B24', 'D28',\n",
            "       'B41', 'C7', 'D40', 'D38', 'C105'],\n",
            "      dtype='object')\n"
          ],
          "name": "stdout"
        }
      ]
    },
    {
      "cell_type": "code",
      "metadata": {
        "id": "H-zP15nxEAFc",
        "colab_type": "code",
        "outputId": "ad02e1e3-35e8-4dfd-fac2-d3745e008f3c",
        "colab": {
          "base_uri": "https://localhost:8080/",
          "height": 297
        }
      },
      "source": [
        "display(X_test.describe())"
      ],
      "execution_count": 137,
      "outputs": [
        {
          "output_type": "display_data",
          "data": {
            "text/html": [
              "<div>\n",
              "<style scoped>\n",
              "    .dataframe tbody tr th:only-of-type {\n",
              "        vertical-align: middle;\n",
              "    }\n",
              "\n",
              "    .dataframe tbody tr th {\n",
              "        vertical-align: top;\n",
              "    }\n",
              "\n",
              "    .dataframe thead th {\n",
              "        text-align: right;\n",
              "    }\n",
              "</style>\n",
              "<table border=\"1\" class=\"dataframe\">\n",
              "  <thead>\n",
              "    <tr style=\"text-align: right;\">\n",
              "      <th></th>\n",
              "      <th>PassengerId</th>\n",
              "      <th>Pclass</th>\n",
              "      <th>Sex</th>\n",
              "      <th>Age</th>\n",
              "      <th>SibSp</th>\n",
              "      <th>Parch</th>\n",
              "      <th>Fare</th>\n",
              "      <th>Cabin</th>\n",
              "      <th>Embarked</th>\n",
              "    </tr>\n",
              "  </thead>\n",
              "  <tbody>\n",
              "    <tr>\n",
              "      <th>count</th>\n",
              "      <td>418.000000</td>\n",
              "      <td>418.000000</td>\n",
              "      <td>418.000000</td>\n",
              "      <td>332.000000</td>\n",
              "      <td>418.000000</td>\n",
              "      <td>418.000000</td>\n",
              "      <td>417.000000</td>\n",
              "      <td>91.000000</td>\n",
              "      <td>418.000000</td>\n",
              "    </tr>\n",
              "    <tr>\n",
              "      <th>mean</th>\n",
              "      <td>1100.500000</td>\n",
              "      <td>2.265550</td>\n",
              "      <td>0.363636</td>\n",
              "      <td>30.272590</td>\n",
              "      <td>0.447368</td>\n",
              "      <td>0.392344</td>\n",
              "      <td>35.627188</td>\n",
              "      <td>34.956044</td>\n",
              "      <td>1.133971</td>\n",
              "    </tr>\n",
              "    <tr>\n",
              "      <th>std</th>\n",
              "      <td>120.810458</td>\n",
              "      <td>0.841838</td>\n",
              "      <td>0.481622</td>\n",
              "      <td>14.181209</td>\n",
              "      <td>0.896760</td>\n",
              "      <td>0.981429</td>\n",
              "      <td>55.907576</td>\n",
              "      <td>22.081119</td>\n",
              "      <td>0.580452</td>\n",
              "    </tr>\n",
              "    <tr>\n",
              "      <th>min</th>\n",
              "      <td>892.000000</td>\n",
              "      <td>1.000000</td>\n",
              "      <td>0.000000</td>\n",
              "      <td>0.170000</td>\n",
              "      <td>0.000000</td>\n",
              "      <td>0.000000</td>\n",
              "      <td>0.000000</td>\n",
              "      <td>0.000000</td>\n",
              "      <td>0.000000</td>\n",
              "    </tr>\n",
              "    <tr>\n",
              "      <th>25%</th>\n",
              "      <td>996.250000</td>\n",
              "      <td>1.000000</td>\n",
              "      <td>0.000000</td>\n",
              "      <td>21.000000</td>\n",
              "      <td>0.000000</td>\n",
              "      <td>0.000000</td>\n",
              "      <td>7.895800</td>\n",
              "      <td>16.500000</td>\n",
              "      <td>1.000000</td>\n",
              "    </tr>\n",
              "    <tr>\n",
              "      <th>50%</th>\n",
              "      <td>1100.500000</td>\n",
              "      <td>3.000000</td>\n",
              "      <td>0.000000</td>\n",
              "      <td>27.000000</td>\n",
              "      <td>0.000000</td>\n",
              "      <td>0.000000</td>\n",
              "      <td>14.454200</td>\n",
              "      <td>34.000000</td>\n",
              "      <td>1.000000</td>\n",
              "    </tr>\n",
              "    <tr>\n",
              "      <th>75%</th>\n",
              "      <td>1204.750000</td>\n",
              "      <td>3.000000</td>\n",
              "      <td>1.000000</td>\n",
              "      <td>39.000000</td>\n",
              "      <td>1.000000</td>\n",
              "      <td>0.000000</td>\n",
              "      <td>31.500000</td>\n",
              "      <td>52.500000</td>\n",
              "      <td>1.000000</td>\n",
              "    </tr>\n",
              "    <tr>\n",
              "      <th>max</th>\n",
              "      <td>1309.000000</td>\n",
              "      <td>3.000000</td>\n",
              "      <td>1.000000</td>\n",
              "      <td>76.000000</td>\n",
              "      <td>8.000000</td>\n",
              "      <td>9.000000</td>\n",
              "      <td>512.329200</td>\n",
              "      <td>75.000000</td>\n",
              "      <td>2.000000</td>\n",
              "    </tr>\n",
              "  </tbody>\n",
              "</table>\n",
              "</div>"
            ],
            "text/plain": [
              "       PassengerId      Pclass         Sex  ...        Fare      Cabin    Embarked\n",
              "count   418.000000  418.000000  418.000000  ...  417.000000  91.000000  418.000000\n",
              "mean   1100.500000    2.265550    0.363636  ...   35.627188  34.956044    1.133971\n",
              "std     120.810458    0.841838    0.481622  ...   55.907576  22.081119    0.580452\n",
              "min     892.000000    1.000000    0.000000  ...    0.000000   0.000000    0.000000\n",
              "25%     996.250000    1.000000    0.000000  ...    7.895800  16.500000    1.000000\n",
              "50%    1100.500000    3.000000    0.000000  ...   14.454200  34.000000    1.000000\n",
              "75%    1204.750000    3.000000    1.000000  ...   31.500000  52.500000    1.000000\n",
              "max    1309.000000    3.000000    1.000000  ...  512.329200  75.000000    2.000000\n",
              "\n",
              "[8 rows x 9 columns]"
            ]
          },
          "metadata": {
            "tags": []
          }
        }
      ]
    },
    {
      "cell_type": "markdown",
      "metadata": {
        "id": "q4Y5zhTS6qqZ",
        "colab_type": "text"
      },
      "source": [
        "# Valores perdidos"
      ]
    },
    {
      "cell_type": "code",
      "metadata": {
        "id": "szoUMj_q6uw6",
        "colab_type": "code",
        "outputId": "b7fbbe6a-95db-41dc-98d8-79abbb123086",
        "colab": {
          "base_uri": "https://localhost:8080/",
          "height": 297
        }
      },
      "source": [
        "# https://scikit-learn.org/stable/modules/impute.html\n",
        "# https://scikit-learn.org/dev/modules/generated/sklearn.impute.KNNImputer.html\n",
        "\n",
        "# Se asigna a la variable imp un objeto del tipo KNNImputer\n",
        "imp = KNNImputer()\n",
        "\n",
        "# Se aplica la transformación para cada atributo\n",
        "X['Age'] = pd.DataFrame(imp.fit_transform(X[['Age']]), columns = ['Age'])\n",
        "X['Cabin'] = pd.DataFrame(imp.fit_transform(X[['Cabin']]), columns = ['Cabin'])\n",
        "\n",
        "# Se analiza la distribución del dataframe\n",
        "display(X.describe())"
      ],
      "execution_count": 138,
      "outputs": [
        {
          "output_type": "display_data",
          "data": {
            "text/html": [
              "<div>\n",
              "<style scoped>\n",
              "    .dataframe tbody tr th:only-of-type {\n",
              "        vertical-align: middle;\n",
              "    }\n",
              "\n",
              "    .dataframe tbody tr th {\n",
              "        vertical-align: top;\n",
              "    }\n",
              "\n",
              "    .dataframe thead th {\n",
              "        text-align: right;\n",
              "    }\n",
              "</style>\n",
              "<table border=\"1\" class=\"dataframe\">\n",
              "  <thead>\n",
              "    <tr style=\"text-align: right;\">\n",
              "      <th></th>\n",
              "      <th>PassengerId</th>\n",
              "      <th>Pclass</th>\n",
              "      <th>Sex</th>\n",
              "      <th>Age</th>\n",
              "      <th>SibSp</th>\n",
              "      <th>Parch</th>\n",
              "      <th>Fare</th>\n",
              "      <th>Cabin</th>\n",
              "      <th>Embarked</th>\n",
              "    </tr>\n",
              "  </thead>\n",
              "  <tbody>\n",
              "    <tr>\n",
              "      <th>count</th>\n",
              "      <td>891.000000</td>\n",
              "      <td>891.000000</td>\n",
              "      <td>891.000000</td>\n",
              "      <td>891.000000</td>\n",
              "      <td>891.000000</td>\n",
              "      <td>891.000000</td>\n",
              "      <td>891.000000</td>\n",
              "      <td>891.000000</td>\n",
              "      <td>891.000000</td>\n",
              "    </tr>\n",
              "    <tr>\n",
              "      <th>mean</th>\n",
              "      <td>446.000000</td>\n",
              "      <td>2.308642</td>\n",
              "      <td>0.352413</td>\n",
              "      <td>29.699118</td>\n",
              "      <td>0.523008</td>\n",
              "      <td>0.381594</td>\n",
              "      <td>32.204208</td>\n",
              "      <td>66.818627</td>\n",
              "      <td>0.368126</td>\n",
              "    </tr>\n",
              "    <tr>\n",
              "      <th>std</th>\n",
              "      <td>257.353842</td>\n",
              "      <td>0.836071</td>\n",
              "      <td>0.477990</td>\n",
              "      <td>13.002015</td>\n",
              "      <td>1.102743</td>\n",
              "      <td>0.806057</td>\n",
              "      <td>49.693429</td>\n",
              "      <td>20.295466</td>\n",
              "      <td>0.647601</td>\n",
              "    </tr>\n",
              "    <tr>\n",
              "      <th>min</th>\n",
              "      <td>1.000000</td>\n",
              "      <td>1.000000</td>\n",
              "      <td>0.000000</td>\n",
              "      <td>0.420000</td>\n",
              "      <td>0.000000</td>\n",
              "      <td>0.000000</td>\n",
              "      <td>0.000000</td>\n",
              "      <td>0.000000</td>\n",
              "      <td>0.000000</td>\n",
              "    </tr>\n",
              "    <tr>\n",
              "      <th>25%</th>\n",
              "      <td>223.500000</td>\n",
              "      <td>2.000000</td>\n",
              "      <td>0.000000</td>\n",
              "      <td>22.000000</td>\n",
              "      <td>0.000000</td>\n",
              "      <td>0.000000</td>\n",
              "      <td>7.910400</td>\n",
              "      <td>66.818627</td>\n",
              "      <td>0.000000</td>\n",
              "    </tr>\n",
              "    <tr>\n",
              "      <th>50%</th>\n",
              "      <td>446.000000</td>\n",
              "      <td>3.000000</td>\n",
              "      <td>0.000000</td>\n",
              "      <td>29.699118</td>\n",
              "      <td>0.000000</td>\n",
              "      <td>0.000000</td>\n",
              "      <td>14.454200</td>\n",
              "      <td>66.818627</td>\n",
              "      <td>0.000000</td>\n",
              "    </tr>\n",
              "    <tr>\n",
              "      <th>75%</th>\n",
              "      <td>668.500000</td>\n",
              "      <td>3.000000</td>\n",
              "      <td>1.000000</td>\n",
              "      <td>35.000000</td>\n",
              "      <td>1.000000</td>\n",
              "      <td>0.000000</td>\n",
              "      <td>31.000000</td>\n",
              "      <td>66.818627</td>\n",
              "      <td>1.000000</td>\n",
              "    </tr>\n",
              "    <tr>\n",
              "      <th>max</th>\n",
              "      <td>891.000000</td>\n",
              "      <td>3.000000</td>\n",
              "      <td>1.000000</td>\n",
              "      <td>80.000000</td>\n",
              "      <td>8.000000</td>\n",
              "      <td>6.000000</td>\n",
              "      <td>512.329200</td>\n",
              "      <td>146.000000</td>\n",
              "      <td>3.000000</td>\n",
              "    </tr>\n",
              "  </tbody>\n",
              "</table>\n",
              "</div>"
            ],
            "text/plain": [
              "       PassengerId      Pclass         Sex  ...        Fare       Cabin    Embarked\n",
              "count   891.000000  891.000000  891.000000  ...  891.000000  891.000000  891.000000\n",
              "mean    446.000000    2.308642    0.352413  ...   32.204208   66.818627    0.368126\n",
              "std     257.353842    0.836071    0.477990  ...   49.693429   20.295466    0.647601\n",
              "min       1.000000    1.000000    0.000000  ...    0.000000    0.000000    0.000000\n",
              "25%     223.500000    2.000000    0.000000  ...    7.910400   66.818627    0.000000\n",
              "50%     446.000000    3.000000    0.000000  ...   14.454200   66.818627    0.000000\n",
              "75%     668.500000    3.000000    1.000000  ...   31.000000   66.818627    1.000000\n",
              "max     891.000000    3.000000    1.000000  ...  512.329200  146.000000    3.000000\n",
              "\n",
              "[8 rows x 9 columns]"
            ]
          },
          "metadata": {
            "tags": []
          }
        }
      ]
    },
    {
      "cell_type": "code",
      "metadata": {
        "id": "I-s8HnRhEISR",
        "colab_type": "code",
        "outputId": "7d18b016-d85f-4d89-ef11-66c218401367",
        "colab": {
          "base_uri": "https://localhost:8080/",
          "height": 297
        }
      },
      "source": [
        "# https://scikit-learn.org/stable/modules/impute.html\n",
        "# https://scikit-learn.org/dev/modules/generated/sklearn.impute.KNNImputer.html\n",
        "\n",
        "# Se asigna a la variable imp un objeto del tipo KNNImputer\n",
        "imp = KNNImputer()\n",
        "\n",
        "# Se aplica la transformación para cada atributo\n",
        "X_test['Age'] = pd.DataFrame(imp.fit_transform(X_test[['Age']]), columns = ['Age'])\n",
        "X_test['Cabin'] = pd.DataFrame(imp.fit_transform(X_test[['Cabin']]), columns = ['Cabin'])\n",
        "\n",
        "# Se analiza la distribución del dataframe\n",
        "display(X_test.describe())"
      ],
      "execution_count": 139,
      "outputs": [
        {
          "output_type": "display_data",
          "data": {
            "text/html": [
              "<div>\n",
              "<style scoped>\n",
              "    .dataframe tbody tr th:only-of-type {\n",
              "        vertical-align: middle;\n",
              "    }\n",
              "\n",
              "    .dataframe tbody tr th {\n",
              "        vertical-align: top;\n",
              "    }\n",
              "\n",
              "    .dataframe thead th {\n",
              "        text-align: right;\n",
              "    }\n",
              "</style>\n",
              "<table border=\"1\" class=\"dataframe\">\n",
              "  <thead>\n",
              "    <tr style=\"text-align: right;\">\n",
              "      <th></th>\n",
              "      <th>PassengerId</th>\n",
              "      <th>Pclass</th>\n",
              "      <th>Sex</th>\n",
              "      <th>Age</th>\n",
              "      <th>SibSp</th>\n",
              "      <th>Parch</th>\n",
              "      <th>Fare</th>\n",
              "      <th>Cabin</th>\n",
              "      <th>Embarked</th>\n",
              "    </tr>\n",
              "  </thead>\n",
              "  <tbody>\n",
              "    <tr>\n",
              "      <th>count</th>\n",
              "      <td>418.000000</td>\n",
              "      <td>418.000000</td>\n",
              "      <td>418.000000</td>\n",
              "      <td>418.000000</td>\n",
              "      <td>418.000000</td>\n",
              "      <td>418.000000</td>\n",
              "      <td>417.000000</td>\n",
              "      <td>418.000000</td>\n",
              "      <td>418.000000</td>\n",
              "    </tr>\n",
              "    <tr>\n",
              "      <th>mean</th>\n",
              "      <td>1100.500000</td>\n",
              "      <td>2.265550</td>\n",
              "      <td>0.363636</td>\n",
              "      <td>30.272590</td>\n",
              "      <td>0.447368</td>\n",
              "      <td>0.392344</td>\n",
              "      <td>35.627188</td>\n",
              "      <td>34.956044</td>\n",
              "      <td>1.133971</td>\n",
              "    </tr>\n",
              "    <tr>\n",
              "      <th>std</th>\n",
              "      <td>120.810458</td>\n",
              "      <td>0.841838</td>\n",
              "      <td>0.481622</td>\n",
              "      <td>12.634534</td>\n",
              "      <td>0.896760</td>\n",
              "      <td>0.981429</td>\n",
              "      <td>55.907576</td>\n",
              "      <td>10.258274</td>\n",
              "      <td>0.580452</td>\n",
              "    </tr>\n",
              "    <tr>\n",
              "      <th>min</th>\n",
              "      <td>892.000000</td>\n",
              "      <td>1.000000</td>\n",
              "      <td>0.000000</td>\n",
              "      <td>0.170000</td>\n",
              "      <td>0.000000</td>\n",
              "      <td>0.000000</td>\n",
              "      <td>0.000000</td>\n",
              "      <td>0.000000</td>\n",
              "      <td>0.000000</td>\n",
              "    </tr>\n",
              "    <tr>\n",
              "      <th>25%</th>\n",
              "      <td>996.250000</td>\n",
              "      <td>1.000000</td>\n",
              "      <td>0.000000</td>\n",
              "      <td>23.000000</td>\n",
              "      <td>0.000000</td>\n",
              "      <td>0.000000</td>\n",
              "      <td>7.895800</td>\n",
              "      <td>34.956044</td>\n",
              "      <td>1.000000</td>\n",
              "    </tr>\n",
              "    <tr>\n",
              "      <th>50%</th>\n",
              "      <td>1100.500000</td>\n",
              "      <td>3.000000</td>\n",
              "      <td>0.000000</td>\n",
              "      <td>30.272590</td>\n",
              "      <td>0.000000</td>\n",
              "      <td>0.000000</td>\n",
              "      <td>14.454200</td>\n",
              "      <td>34.956044</td>\n",
              "      <td>1.000000</td>\n",
              "    </tr>\n",
              "    <tr>\n",
              "      <th>75%</th>\n",
              "      <td>1204.750000</td>\n",
              "      <td>3.000000</td>\n",
              "      <td>1.000000</td>\n",
              "      <td>35.750000</td>\n",
              "      <td>1.000000</td>\n",
              "      <td>0.000000</td>\n",
              "      <td>31.500000</td>\n",
              "      <td>34.956044</td>\n",
              "      <td>1.000000</td>\n",
              "    </tr>\n",
              "    <tr>\n",
              "      <th>max</th>\n",
              "      <td>1309.000000</td>\n",
              "      <td>3.000000</td>\n",
              "      <td>1.000000</td>\n",
              "      <td>76.000000</td>\n",
              "      <td>8.000000</td>\n",
              "      <td>9.000000</td>\n",
              "      <td>512.329200</td>\n",
              "      <td>75.000000</td>\n",
              "      <td>2.000000</td>\n",
              "    </tr>\n",
              "  </tbody>\n",
              "</table>\n",
              "</div>"
            ],
            "text/plain": [
              "       PassengerId      Pclass         Sex  ...        Fare       Cabin    Embarked\n",
              "count   418.000000  418.000000  418.000000  ...  417.000000  418.000000  418.000000\n",
              "mean   1100.500000    2.265550    0.363636  ...   35.627188   34.956044    1.133971\n",
              "std     120.810458    0.841838    0.481622  ...   55.907576   10.258274    0.580452\n",
              "min     892.000000    1.000000    0.000000  ...    0.000000    0.000000    0.000000\n",
              "25%     996.250000    1.000000    0.000000  ...    7.895800   34.956044    1.000000\n",
              "50%    1100.500000    3.000000    0.000000  ...   14.454200   34.956044    1.000000\n",
              "75%    1204.750000    3.000000    1.000000  ...   31.500000   34.956044    1.000000\n",
              "max    1309.000000    3.000000    1.000000  ...  512.329200   75.000000    2.000000\n",
              "\n",
              "[8 rows x 9 columns]"
            ]
          },
          "metadata": {
            "tags": []
          }
        }
      ]
    },
    {
      "cell_type": "markdown",
      "metadata": {
        "id": "6QcwOlmFsAWq",
        "colab_type": "text"
      },
      "source": [
        "# Análisis de normalidad y homogeneidad de la varianza y valores extremos"
      ]
    },
    {
      "cell_type": "code",
      "metadata": {
        "id": "_2eSzyqCsMFk",
        "colab_type": "code",
        "outputId": "e5cada18-1091-4135-fe6e-929d241512f5",
        "colab": {
          "base_uri": "https://localhost:8080/",
          "height": 279
        }
      },
      "source": [
        "# Age\n",
        "plot = sns.distplot(X['Age']);"
      ],
      "execution_count": 140,
      "outputs": [
        {
          "output_type": "display_data",
          "data": {
            "image/png": "[encoded data removed]",
            "text/plain": [
              "<Figure size 432x288 with 1 Axes>"
            ]
          },
          "metadata": {
            "tags": [],
            "needs_background": "light"
          }
        }
      ]
    },
    {
      "cell_type": "code",
      "metadata": {
        "id": "STr975QDs09K",
        "colab_type": "code",
        "outputId": "3673d9d3-4578-4aef-fc4e-2789d4838855",
        "colab": {
          "base_uri": "https://localhost:8080/",
          "height": 280
        }
      },
      "source": [
        "plot = sns.distplot(X['Fare']);"
      ],
      "execution_count": 141,
      "outputs": [
        {
          "output_type": "display_data",
          "data": {
            "image/png": "[encoded data removed]",
            "text/plain": [
              "<Figure size 432x288 with 1 Axes>"
            ]
          },
          "metadata": {
            "tags": [],
            "needs_background": "light"
          }
        }
      ]
    },
    {
      "cell_type": "markdown",
      "metadata": {
        "id": "zddc4RrCquqj",
        "colab_type": "text"
      },
      "source": [
        "# Análisis de correlación"
      ]
    },
    {
      "cell_type": "code",
      "metadata": {
        "id": "goolCstyp5yy",
        "colab_type": "code",
        "outputId": "a68c32d2-9b04-4014-bc31-226b9312252c",
        "colab": {
          "base_uri": "https://localhost:8080/",
          "height": 537
        }
      },
      "source": [
        "# https://seaborn.pydata.org/examples/many_pairwise_correlations.html\n",
        "# Compute the correlation matrix\n",
        "corr = X.corr()\n",
        "\n",
        "# Generate a mask for the upper triangle\n",
        "mask = np.triu(np.ones_like(corr, dtype=np.bool))\n",
        "\n",
        "# Set up the matplotlib figure\n",
        "f, ax = plt.subplots(figsize=(11, 9))\n",
        "\n",
        "# Generate a custom diverging colormap\n",
        "cmap = sns.diverging_palette(220, 10, as_cmap=True)\n",
        "\n",
        "# Draw the heatmap with the mask and correct aspect ratio\n",
        "plot = sns.heatmap(corr, mask=mask, cmap=cmap, vmax=.3, center=0,\n",
        "            square=True, linewidths=.5, cbar_kws={\"shrink\": .5})"
      ],
      "execution_count": 142,
      "outputs": [
        {
          "output_type": "display_data",
          "data": {
            "image/png": "[encoded data removed]",
            "text/plain": [
              "<Figure size 792x648 with 2 Axes>"
            ]
          },
          "metadata": {
            "tags": [],
            "needs_background": "light"
          }
        }
      ]
    },
    {
      "cell_type": "code",
      "metadata": {
        "id": "ffvjFBUMt0De",
        "colab_type": "code",
        "outputId": "3e01effc-2856-456a-fd60-633b8a4893aa",
        "colab": {
          "base_uri": "https://localhost:8080/",
          "height": 441
        }
      },
      "source": [
        "# https://seaborn.pydata.org/tutorial/regression.html\n",
        "sns.jointplot(x=\"Fare\", y=\"Pclass\", kind=\"reg\", data=X);"
      ],
      "execution_count": 143,
      "outputs": [
        {
          "output_type": "display_data",
          "data": {
            "image/png": "[encoded data removed]",
            "text/plain": [
              "<Figure size 432x432 with 3 Axes>"
            ]
          },
          "metadata": {
            "tags": [],
            "needs_background": "light"
          }
        }
      ]
    },
    {
      "cell_type": "markdown",
      "metadata": {
        "id": "95wEMYbm-WYh",
        "colab_type": "text"
      },
      "source": [
        "# Estndarizar"
      ]
    },
    {
      "cell_type": "code",
      "metadata": {
        "id": "DSJ1PO6P-V8j",
        "colab_type": "code",
        "colab": {
          "base_uri": "https://localhost:8080/",
          "height": 297
        },
        "outputId": "222b5d91-c285-4917-cd6e-9b27fe013075"
      },
      "source": [
        "X  = pd.DataFrame(StandardScaler().fit_transform(X), columns = X.columns)\n",
        "\n",
        "display(X.describe())"
      ],
      "execution_count": 144,
      "outputs": [
        {
          "output_type": "display_data",
          "data": {
            "text/html": [
              "<div>\n",
              "<style scoped>\n",
              "    .dataframe tbody tr th:only-of-type {\n",
              "        vertical-align: middle;\n",
              "    }\n",
              "\n",
              "    .dataframe tbody tr th {\n",
              "        vertical-align: top;\n",
              "    }\n",
              "\n",
              "    .dataframe thead th {\n",
              "        text-align: right;\n",
              "    }\n",
              "</style>\n",
              "<table border=\"1\" class=\"dataframe\">\n",
              "  <thead>\n",
              "    <tr style=\"text-align: right;\">\n",
              "      <th></th>\n",
              "      <th>PassengerId</th>\n",
              "      <th>Pclass</th>\n",
              "      <th>Sex</th>\n",
              "      <th>Age</th>\n",
              "      <th>SibSp</th>\n",
              "      <th>Parch</th>\n",
              "      <th>Fare</th>\n",
              "      <th>Cabin</th>\n",
              "      <th>Embarked</th>\n",
              "    </tr>\n",
              "  </thead>\n",
              "  <tbody>\n",
              "    <tr>\n",
              "      <th>count</th>\n",
              "      <td>8.910000e+02</td>\n",
              "      <td>8.910000e+02</td>\n",
              "      <td>8.910000e+02</td>\n",
              "      <td>8.910000e+02</td>\n",
              "      <td>8.910000e+02</td>\n",
              "      <td>8.910000e+02</td>\n",
              "      <td>8.910000e+02</td>\n",
              "      <td>8.910000e+02</td>\n",
              "      <td>8.910000e+02</td>\n",
              "    </tr>\n",
              "    <tr>\n",
              "      <th>mean</th>\n",
              "      <td>2.517004e-17</td>\n",
              "      <td>-2.031048e-16</td>\n",
              "      <td>3.162453e-16</td>\n",
              "      <td>2.562796e-16</td>\n",
              "      <td>3.456519e-16</td>\n",
              "      <td>6.716164e-17</td>\n",
              "      <td>-4.373606e-17</td>\n",
              "      <td>1.473208e-16</td>\n",
              "      <td>7.825141e-17</td>\n",
              "    </tr>\n",
              "    <tr>\n",
              "      <th>std</th>\n",
              "      <td>1.000562e+00</td>\n",
              "      <td>1.000562e+00</td>\n",
              "      <td>1.000562e+00</td>\n",
              "      <td>1.000562e+00</td>\n",
              "      <td>1.000562e+00</td>\n",
              "      <td>1.000562e+00</td>\n",
              "      <td>1.000562e+00</td>\n",
              "      <td>1.000562e+00</td>\n",
              "      <td>1.000562e+00</td>\n",
              "    </tr>\n",
              "    <tr>\n",
              "      <th>min</th>\n",
              "      <td>-1.730108e+00</td>\n",
              "      <td>-1.566107e+00</td>\n",
              "      <td>-7.376951e-01</td>\n",
              "      <td>-2.253155e+00</td>\n",
              "      <td>-4.745452e-01</td>\n",
              "      <td>-4.736736e-01</td>\n",
              "      <td>-6.484217e-01</td>\n",
              "      <td>-3.294142e+00</td>\n",
              "      <td>-5.687643e-01</td>\n",
              "    </tr>\n",
              "    <tr>\n",
              "      <th>25%</th>\n",
              "      <td>-8.650540e-01</td>\n",
              "      <td>-3.693648e-01</td>\n",
              "      <td>-7.376951e-01</td>\n",
              "      <td>-5.924806e-01</td>\n",
              "      <td>-4.745452e-01</td>\n",
              "      <td>-4.736736e-01</td>\n",
              "      <td>-4.891482e-01</td>\n",
              "      <td>7.005918e-16</td>\n",
              "      <td>-5.687643e-01</td>\n",
              "    </tr>\n",
              "    <tr>\n",
              "      <th>50%</th>\n",
              "      <td>0.000000e+00</td>\n",
              "      <td>8.273772e-01</td>\n",
              "      <td>-7.376951e-01</td>\n",
              "      <td>0.000000e+00</td>\n",
              "      <td>-4.745452e-01</td>\n",
              "      <td>-4.736736e-01</td>\n",
              "      <td>-3.573909e-01</td>\n",
              "      <td>7.005918e-16</td>\n",
              "      <td>-5.687643e-01</td>\n",
              "    </tr>\n",
              "    <tr>\n",
              "      <th>75%</th>\n",
              "      <td>8.650540e-01</td>\n",
              "      <td>8.273772e-01</td>\n",
              "      <td>1.355574e+00</td>\n",
              "      <td>4.079260e-01</td>\n",
              "      <td>4.327934e-01</td>\n",
              "      <td>-4.736736e-01</td>\n",
              "      <td>-2.424635e-02</td>\n",
              "      <td>7.005918e-16</td>\n",
              "      <td>9.762631e-01</td>\n",
              "    </tr>\n",
              "    <tr>\n",
              "      <th>max</th>\n",
              "      <td>1.730108e+00</td>\n",
              "      <td>8.273772e-01</td>\n",
              "      <td>1.355574e+00</td>\n",
              "      <td>3.870872e+00</td>\n",
              "      <td>6.784163e+00</td>\n",
              "      <td>6.974147e+00</td>\n",
              "      <td>9.667167e+00</td>\n",
              "      <td>3.903623e+00</td>\n",
              "      <td>4.066318e+00</td>\n",
              "    </tr>\n",
              "  </tbody>\n",
              "</table>\n",
              "</div>"
            ],
            "text/plain": [
              "        PassengerId        Pclass  ...         Cabin      Embarked\n",
              "count  8.910000e+02  8.910000e+02  ...  8.910000e+02  8.910000e+02\n",
              "mean   2.517004e-17 -2.031048e-16  ...  1.473208e-16  7.825141e-17\n",
              "std    1.000562e+00  1.000562e+00  ...  1.000562e+00  1.000562e+00\n",
              "min   -1.730108e+00 -1.566107e+00  ... -3.294142e+00 -5.687643e-01\n",
              "25%   -8.650540e-01 -3.693648e-01  ...  7.005918e-16 -5.687643e-01\n",
              "50%    0.000000e+00  8.273772e-01  ...  7.005918e-16 -5.687643e-01\n",
              "75%    8.650540e-01  8.273772e-01  ...  7.005918e-16  9.762631e-01\n",
              "max    1.730108e+00  8.273772e-01  ...  3.903623e+00  4.066318e+00\n",
              "\n",
              "[8 rows x 9 columns]"
            ]
          },
          "metadata": {
            "tags": []
          }
        }
      ]
    },
    {
      "cell_type": "code",
      "metadata": {
        "id": "7akyKEwO__dY",
        "colab_type": "code",
        "colab": {
          "base_uri": "https://localhost:8080/",
          "height": 297
        },
        "outputId": "22e2183e-c729-42ef-b396-16294c292ab5"
      },
      "source": [
        "X_test  = pd.DataFrame(StandardScaler().fit_transform(X_test), columns = X_test.columns)\n",
        "\n",
        "display(X_test.describe())"
      ],
      "execution_count": 145,
      "outputs": [
        {
          "output_type": "display_data",
          "data": {
            "text/html": [
              "<div>\n",
              "<style scoped>\n",
              "    .dataframe tbody tr th:only-of-type {\n",
              "        vertical-align: middle;\n",
              "    }\n",
              "\n",
              "    .dataframe tbody tr th {\n",
              "        vertical-align: top;\n",
              "    }\n",
              "\n",
              "    .dataframe thead th {\n",
              "        text-align: right;\n",
              "    }\n",
              "</style>\n",
              "<table border=\"1\" class=\"dataframe\">\n",
              "  <thead>\n",
              "    <tr style=\"text-align: right;\">\n",
              "      <th></th>\n",
              "      <th>PassengerId</th>\n",
              "      <th>Pclass</th>\n",
              "      <th>Sex</th>\n",
              "      <th>Age</th>\n",
              "      <th>SibSp</th>\n",
              "      <th>Parch</th>\n",
              "      <th>Fare</th>\n",
              "      <th>Cabin</th>\n",
              "      <th>Embarked</th>\n",
              "    </tr>\n",
              "  </thead>\n",
              "  <tbody>\n",
              "    <tr>\n",
              "      <th>count</th>\n",
              "      <td>4.180000e+02</td>\n",
              "      <td>4.180000e+02</td>\n",
              "      <td>4.180000e+02</td>\n",
              "      <td>4.180000e+02</td>\n",
              "      <td>4.180000e+02</td>\n",
              "      <td>4.180000e+02</td>\n",
              "      <td>4.170000e+02</td>\n",
              "      <td>4.180000e+02</td>\n",
              "      <td>4.180000e+02</td>\n",
              "    </tr>\n",
              "    <tr>\n",
              "      <th>mean</th>\n",
              "      <td>-2.762277e-17</td>\n",
              "      <td>-2.018587e-17</td>\n",
              "      <td>-1.859225e-17</td>\n",
              "      <td>1.328018e-17</td>\n",
              "      <td>-1.593622e-17</td>\n",
              "      <td>-1.407699e-16</td>\n",
              "      <td>-5.258251e-17</td>\n",
              "      <td>-2.302090e-16</td>\n",
              "      <td>8.499315e-18</td>\n",
              "    </tr>\n",
              "    <tr>\n",
              "      <th>std</th>\n",
              "      <td>1.001198e+00</td>\n",
              "      <td>1.001198e+00</td>\n",
              "      <td>1.001198e+00</td>\n",
              "      <td>1.001198e+00</td>\n",
              "      <td>1.001198e+00</td>\n",
              "      <td>1.001198e+00</td>\n",
              "      <td>1.001201e+00</td>\n",
              "      <td>1.001198e+00</td>\n",
              "      <td>1.001198e+00</td>\n",
              "    </tr>\n",
              "    <tr>\n",
              "      <th>min</th>\n",
              "      <td>-1.727912e+00</td>\n",
              "      <td>-1.505120e+00</td>\n",
              "      <td>-7.559289e-01</td>\n",
              "      <td>-2.385419e+00</td>\n",
              "      <td>-4.994700e-01</td>\n",
              "      <td>-4.002477e-01</td>\n",
              "      <td>-6.380170e-01</td>\n",
              "      <td>-3.411678e+00</td>\n",
              "      <td>-1.955941e+00</td>\n",
              "    </tr>\n",
              "    <tr>\n",
              "      <th>25%</th>\n",
              "      <td>-8.639560e-01</td>\n",
              "      <td>-1.505120e+00</td>\n",
              "      <td>-7.559289e-01</td>\n",
              "      <td>-5.763018e-01</td>\n",
              "      <td>-4.994700e-01</td>\n",
              "      <td>-4.002477e-01</td>\n",
              "      <td>-4.966178e-01</td>\n",
              "      <td>-6.934833e-16</td>\n",
              "      <td>-2.310816e-01</td>\n",
              "    </tr>\n",
              "    <tr>\n",
              "      <th>50%</th>\n",
              "      <td>0.000000e+00</td>\n",
              "      <td>8.734819e-01</td>\n",
              "      <td>-7.559289e-01</td>\n",
              "      <td>0.000000e+00</td>\n",
              "      <td>-4.994700e-01</td>\n",
              "      <td>-4.002477e-01</td>\n",
              "      <td>-3.791690e-01</td>\n",
              "      <td>-6.934833e-16</td>\n",
              "      <td>-2.310816e-01</td>\n",
              "    </tr>\n",
              "    <tr>\n",
              "      <th>75%</th>\n",
              "      <td>8.639560e-01</td>\n",
              "      <td>8.734819e-01</td>\n",
              "      <td>1.322876e+00</td>\n",
              "      <td>4.340463e-01</td>\n",
              "      <td>6.169924e-01</td>\n",
              "      <td>-4.002477e-01</td>\n",
              "      <td>-7.391031e-02</td>\n",
              "      <td>-6.934833e-16</td>\n",
              "      <td>-2.310816e-01</td>\n",
              "    </tr>\n",
              "    <tr>\n",
              "      <th>max</th>\n",
              "      <td>1.727912e+00</td>\n",
              "      <td>8.734819e-01</td>\n",
              "      <td>1.322876e+00</td>\n",
              "      <td>3.623577e+00</td>\n",
              "      <td>8.432229e+00</td>\n",
              "      <td>8.781044e+00</td>\n",
              "      <td>8.536851e+00</td>\n",
              "      <td>3.908254e+00</td>\n",
              "      <td>1.493778e+00</td>\n",
              "    </tr>\n",
              "  </tbody>\n",
              "</table>\n",
              "</div>"
            ],
            "text/plain": [
              "        PassengerId        Pclass  ...         Cabin      Embarked\n",
              "count  4.180000e+02  4.180000e+02  ...  4.180000e+02  4.180000e+02\n",
              "mean  -2.762277e-17 -2.018587e-17  ... -2.302090e-16  8.499315e-18\n",
              "std    1.001198e+00  1.001198e+00  ...  1.001198e+00  1.001198e+00\n",
              "min   -1.727912e+00 -1.505120e+00  ... -3.411678e+00 -1.955941e+00\n",
              "25%   -8.639560e-01 -1.505120e+00  ... -6.934833e-16 -2.310816e-01\n",
              "50%    0.000000e+00  8.734819e-01  ... -6.934833e-16 -2.310816e-01\n",
              "75%    8.639560e-01  8.734819e-01  ... -6.934833e-16 -2.310816e-01\n",
              "max    1.727912e+00  8.734819e-01  ...  3.908254e+00  1.493778e+00\n",
              "\n",
              "[8 rows x 9 columns]"
            ]
          },
          "metadata": {
            "tags": []
          }
        }
      ]
    },
    {
      "cell_type": "markdown",
      "metadata": {
        "id": "HGa9uiU5uzin",
        "colab_type": "text"
      },
      "source": [
        "# Modelado"
      ]
    },
    {
      "cell_type": "code",
      "metadata": {
        "id": "lVHjvXzSu1ff",
        "colab_type": "code",
        "colab": {}
      },
      "source": [
        "# ML Model train\n",
        "# https://machinelearningmastery.com/how-to-stop-training-deep-neural-networks-at-the-right-time-using-early-stopping/\n",
        "def train_ml_model(model, X_train, y_train, X_val, y_val, epochs=20, batch_size=1, patience=0, shuffle=True):\n",
        "    # patient early stopping\n",
        "    es = EarlyStopping(monitor='val_loss', mode='min', verbose=1, patience=patience)\n",
        "    mc = ModelCheckpoint('best_model.h5', monitor='val_loss', mode='min', verbose=0, save_best_only=True)\n",
        "    tb = TensorBoard(\"/tmp/TensorBoard/keras\")\n",
        "\n",
        "    # fit model\n",
        "    history = model.fit(X_train, y_train, validation_data=(X_val, y_val), epochs=epochs, batch_size=batch_size, verbose=1, shuffle=shuffle, callbacks=[es, mc, tb])\n",
        "\n",
        "    # load the saved model\n",
        "    model = load_model('best_model.h5')\n",
        "\n",
        "    # plot training history\n",
        "    plt.plot(history.history['loss'], label='train')\n",
        "    plt.plot(history.history['val_loss'], label='val')\n",
        "    plt.legend()\n",
        "    plt.show()\n",
        "  \n",
        "    # Estimate model performance\n",
        "    trainScore = model.evaluate(X_train, y_train, batch_size=batch_size, verbose=0)\n",
        "    valScore = model.evaluate(X_val, y_val, batch_size=batch_size, verbose=0)\n",
        "  \n",
        "    print('Train Loss: %.3f' % trainScore[0])\n",
        "    print('Train Accuracy: %.3f' % trainScore[1])\n",
        "    print('Val Loss: %.3f' % valScore[0])\n",
        "    print('Val Accuracy: %.3f' % valScore[1])\n",
        "  \n",
        "    return model"
      ],
      "execution_count": 0,
      "outputs": []
    },
    {
      "cell_type": "code",
      "metadata": {
        "id": "Xef_UtJ2veEZ",
        "colab_type": "code",
        "colab": {}
      },
      "source": [
        "# Entrenar Red neuronal densa\n",
        "# https://machinelearningmastery.com/binary-classification-tutorial-with-the-keras-deep-learning-library/\n",
        "# https://www.kaggle.com/parthsuresh/binary-classifier-using-keras-97-98-accuracy\n",
        "# @tf.function\n",
        "def dense_nn(X, y, epochs=200, batch_size=1, lr=0.0001, patience=10, shuffle=True, stateful=False): \n",
        "  # Split test y val\n",
        "  X_train, X_val, y_train, y_val = train_test_split(X, y, test_size=0.1)\n",
        "\n",
        "  # Dimensiones\n",
        "  n_input =  X_train.shape[1]\n",
        "  n_output = y_train.shape[1]\n",
        "  \n",
        "  model = Sequential([\n",
        "      Dense(n_input, input_dim=n_input, activation='relu'),\n",
        "      Dense(16, activation='relu'),\n",
        "      Dense(8, activation='relu'),\n",
        "      Dense(4, activation='relu'),\n",
        "      Dense(n_output, activation='sigmoid')\n",
        "  ])\n",
        "  \n",
        "  model.compile(optimizer=Adam(lr=lr), loss='binary_crossentropy', metrics=['accuracy'])\n",
        "\n",
        "  model = train_ml_model(model, X_train, y_train, X_val, y_val, epochs, batch_size, patience, shuffle)\n",
        "  \n",
        "  return model, X_train, X_val, y_train, y_val"
      ],
      "execution_count": 0,
      "outputs": []
    },
    {
      "cell_type": "code",
      "metadata": {
        "id": "o_MSlFfIvbZB",
        "colab_type": "code",
        "colab": {}
      },
      "source": [
        "# ML Model predict\n",
        "def predict_with_ml_model(model, X, batch_size=1):\n",
        "  y_pred = (model.predict(X, batch_size=batch_size) > 0.5).astype(\"int32\")\n",
        "\n",
        "  return y_pred"
      ],
      "execution_count": 0,
      "outputs": []
    },
    {
      "cell_type": "code",
      "metadata": {
        "id": "7S2bc6uRwaTa",
        "colab_type": "code",
        "colab": {
          "base_uri": "https://localhost:8080/",
          "height": 1000
        },
        "outputId": "eadb585c-ad6b-4786-9caa-ec761ae3b29d"
      },
      "source": [
        "model, X_train, X_val, y_train, y_val = dense_nn(X, y, epochs=100, batch_size=1, lr=0.0001, patience=5)"
      ],
      "execution_count": 149,
      "outputs": [
        {
          "output_type": "stream",
          "text": [
            "Epoch 1/100\n",
            "801/801 [==============================] - 1s 2ms/step - loss: 0.6484 - accuracy: 0.6117 - val_loss: 0.6262 - val_accuracy: 0.6556\n",
            "Epoch 2/100\n",
            "801/801 [==============================] - 1s 2ms/step - loss: 0.6064 - accuracy: 0.6117 - val_loss: 0.5828 - val_accuracy: 0.6556\n",
            "Epoch 3/100\n",
            "801/801 [==============================] - 1s 2ms/step - loss: 0.5798 - accuracy: 0.6117 - val_loss: 0.5550 - val_accuracy: 0.6556\n",
            "Epoch 4/100\n",
            "801/801 [==============================] - 1s 2ms/step - loss: 0.5634 - accuracy: 0.6267 - val_loss: 0.5360 - val_accuracy: 0.6556\n",
            "Epoch 5/100\n",
            "801/801 [==============================] - 1s 2ms/step - loss: 0.5524 - accuracy: 0.6804 - val_loss: 0.5221 - val_accuracy: 0.7222\n",
            "Epoch 6/100\n",
            "801/801 [==============================] - 1s 2ms/step - loss: 0.5448 - accuracy: 0.7391 - val_loss: 0.5119 - val_accuracy: 0.7556\n",
            "Epoch 7/100\n",
            "801/801 [==============================] - 1s 2ms/step - loss: 0.5385 - accuracy: 0.7678 - val_loss: 0.5029 - val_accuracy: 0.7778\n",
            "Epoch 8/100\n",
            "801/801 [==============================] - 1s 2ms/step - loss: 0.5336 - accuracy: 0.7790 - val_loss: 0.4953 - val_accuracy: 0.7778\n",
            "Epoch 9/100\n",
            "801/801 [==============================] - 1s 2ms/step - loss: 0.5298 - accuracy: 0.7840 - val_loss: 0.4906 - val_accuracy: 0.8000\n",
            "Epoch 10/100\n",
            "801/801 [==============================] - 1s 2ms/step - loss: 0.5260 - accuracy: 0.7890 - val_loss: 0.4862 - val_accuracy: 0.8222\n",
            "Epoch 11/100\n",
            "801/801 [==============================] - 1s 2ms/step - loss: 0.5221 - accuracy: 0.7978 - val_loss: 0.4826 - val_accuracy: 0.8444\n",
            "Epoch 12/100\n",
            "801/801 [==============================] - 1s 2ms/step - loss: 0.5187 - accuracy: 0.8002 - val_loss: 0.4793 - val_accuracy: 0.8444\n",
            "Epoch 13/100\n",
            "801/801 [==============================] - 1s 2ms/step - loss: 0.5151 - accuracy: 0.8002 - val_loss: 0.4764 - val_accuracy: 0.8444\n",
            "Epoch 14/100\n",
            "801/801 [==============================] - 2s 2ms/step - loss: 0.5122 - accuracy: 0.8040 - val_loss: 0.4737 - val_accuracy: 0.8444\n",
            "Epoch 15/100\n",
            "801/801 [==============================] - 2s 2ms/step - loss: 0.5092 - accuracy: 0.8052 - val_loss: 0.4715 - val_accuracy: 0.8444\n",
            "Epoch 16/100\n",
            "801/801 [==============================] - 2s 2ms/step - loss: 0.5066 - accuracy: 0.8040 - val_loss: 0.4700 - val_accuracy: 0.8333\n",
            "Epoch 17/100\n",
            "801/801 [==============================] - 2s 3ms/step - loss: 0.5039 - accuracy: 0.7990 - val_loss: 0.4674 - val_accuracy: 0.8333\n",
            "Epoch 18/100\n",
            "801/801 [==============================] - 2s 2ms/step - loss: 0.5018 - accuracy: 0.8015 - val_loss: 0.4659 - val_accuracy: 0.8333\n",
            "Epoch 19/100\n",
            "801/801 [==============================] - 1s 2ms/step - loss: 0.4994 - accuracy: 0.8027 - val_loss: 0.4658 - val_accuracy: 0.8444\n",
            "Epoch 20/100\n",
            "801/801 [==============================] - 1s 2ms/step - loss: 0.4973 - accuracy: 0.8015 - val_loss: 0.4640 - val_accuracy: 0.8444\n",
            "Epoch 21/100\n",
            "801/801 [==============================] - 1s 2ms/step - loss: 0.4951 - accuracy: 0.8027 - val_loss: 0.4628 - val_accuracy: 0.8444\n",
            "Epoch 22/100\n",
            "801/801 [==============================] - 1s 2ms/step - loss: 0.4931 - accuracy: 0.8015 - val_loss: 0.4614 - val_accuracy: 0.8333\n",
            "Epoch 23/100\n",
            "801/801 [==============================] - 1s 2ms/step - loss: 0.4912 - accuracy: 0.8015 - val_loss: 0.4601 - val_accuracy: 0.8333\n",
            "Epoch 24/100\n",
            "801/801 [==============================] - 1s 2ms/step - loss: 0.4892 - accuracy: 0.8027 - val_loss: 0.4588 - val_accuracy: 0.8333\n",
            "Epoch 25/100\n",
            "801/801 [==============================] - 1s 2ms/step - loss: 0.4875 - accuracy: 0.8090 - val_loss: 0.4580 - val_accuracy: 0.8333\n",
            "Epoch 26/100\n",
            "801/801 [==============================] - 1s 2ms/step - loss: 0.4860 - accuracy: 0.8090 - val_loss: 0.4570 - val_accuracy: 0.8333\n",
            "Epoch 27/100\n",
            "801/801 [==============================] - 1s 2ms/step - loss: 0.4841 - accuracy: 0.8115 - val_loss: 0.4557 - val_accuracy: 0.8333\n",
            "Epoch 28/100\n",
            "801/801 [==============================] - 1s 2ms/step - loss: 0.4827 - accuracy: 0.8102 - val_loss: 0.4534 - val_accuracy: 0.8333\n",
            "Epoch 29/100\n",
            "801/801 [==============================] - 1s 2ms/step - loss: 0.4808 - accuracy: 0.8140 - val_loss: 0.4526 - val_accuracy: 0.8444\n",
            "Epoch 30/100\n",
            "801/801 [==============================] - 1s 2ms/step - loss: 0.4795 - accuracy: 0.8152 - val_loss: 0.4520 - val_accuracy: 0.8444\n",
            "Epoch 31/100\n",
            "801/801 [==============================] - 1s 2ms/step - loss: 0.4778 - accuracy: 0.8165 - val_loss: 0.4520 - val_accuracy: 0.8444\n",
            "Epoch 32/100\n",
            "801/801 [==============================] - 1s 2ms/step - loss: 0.4765 - accuracy: 0.8152 - val_loss: 0.4500 - val_accuracy: 0.8444\n",
            "Epoch 33/100\n",
            "801/801 [==============================] - 1s 2ms/step - loss: 0.4750 - accuracy: 0.8140 - val_loss: 0.4488 - val_accuracy: 0.8444\n",
            "Epoch 34/100\n",
            "801/801 [==============================] - 1s 2ms/step - loss: 0.4738 - accuracy: 0.8152 - val_loss: 0.4476 - val_accuracy: 0.8444\n",
            "Epoch 35/100\n",
            "801/801 [==============================] - 1s 2ms/step - loss: 0.4723 - accuracy: 0.8190 - val_loss: 0.4467 - val_accuracy: 0.8444\n",
            "Epoch 36/100\n",
            "801/801 [==============================] - 1s 2ms/step - loss: 0.4708 - accuracy: 0.8177 - val_loss: 0.4457 - val_accuracy: 0.8444\n",
            "Epoch 37/100\n",
            "801/801 [==============================] - 1s 2ms/step - loss: 0.4695 - accuracy: 0.8190 - val_loss: 0.4440 - val_accuracy: 0.8444\n",
            "Epoch 38/100\n",
            "801/801 [==============================] - 1s 2ms/step - loss: 0.4682 - accuracy: 0.8165 - val_loss: 0.4431 - val_accuracy: 0.8444\n",
            "Epoch 39/100\n",
            "801/801 [==============================] - 1s 2ms/step - loss: 0.4667 - accuracy: 0.8227 - val_loss: 0.4438 - val_accuracy: 0.8333\n",
            "Epoch 40/100\n",
            "801/801 [==============================] - 1s 2ms/step - loss: 0.4654 - accuracy: 0.8177 - val_loss: 0.4411 - val_accuracy: 0.8444\n",
            "Epoch 41/100\n",
            "801/801 [==============================] - 1s 2ms/step - loss: 0.4641 - accuracy: 0.8190 - val_loss: 0.4412 - val_accuracy: 0.8333\n",
            "Epoch 42/100\n",
            "801/801 [==============================] - 1s 2ms/step - loss: 0.4629 - accuracy: 0.8165 - val_loss: 0.4394 - val_accuracy: 0.8444\n",
            "Epoch 43/100\n",
            "801/801 [==============================] - 1s 2ms/step - loss: 0.4618 - accuracy: 0.8152 - val_loss: 0.4385 - val_accuracy: 0.8444\n",
            "Epoch 44/100\n",
            "801/801 [==============================] - 1s 2ms/step - loss: 0.4605 - accuracy: 0.8202 - val_loss: 0.4378 - val_accuracy: 0.8444\n",
            "Epoch 45/100\n",
            "801/801 [==============================] - 1s 2ms/step - loss: 0.4595 - accuracy: 0.8177 - val_loss: 0.4376 - val_accuracy: 0.8333\n",
            "Epoch 46/100\n",
            "801/801 [==============================] - 1s 2ms/step - loss: 0.4583 - accuracy: 0.8215 - val_loss: 0.4363 - val_accuracy: 0.8333\n",
            "Epoch 47/100\n",
            "801/801 [==============================] - 1s 2ms/step - loss: 0.4569 - accuracy: 0.8227 - val_loss: 0.4365 - val_accuracy: 0.8333\n",
            "Epoch 48/100\n",
            "801/801 [==============================] - 1s 2ms/step - loss: 0.4561 - accuracy: 0.8202 - val_loss: 0.4356 - val_accuracy: 0.8333\n",
            "Epoch 49/100\n",
            "801/801 [==============================] - 1s 2ms/step - loss: 0.4548 - accuracy: 0.8252 - val_loss: 0.4362 - val_accuracy: 0.8333\n",
            "Epoch 50/100\n",
            "801/801 [==============================] - 1s 2ms/step - loss: 0.4535 - accuracy: 0.8215 - val_loss: 0.4339 - val_accuracy: 0.8444\n",
            "Epoch 51/100\n",
            "801/801 [==============================] - 1s 2ms/step - loss: 0.4528 - accuracy: 0.8215 - val_loss: 0.4340 - val_accuracy: 0.8333\n",
            "Epoch 52/100\n",
            "801/801 [==============================] - 1s 2ms/step - loss: 0.4517 - accuracy: 0.8227 - val_loss: 0.4336 - val_accuracy: 0.8222\n",
            "Epoch 53/100\n",
            "801/801 [==============================] - 1s 2ms/step - loss: 0.4506 - accuracy: 0.8277 - val_loss: 0.4330 - val_accuracy: 0.8222\n",
            "Epoch 54/100\n",
            "801/801 [==============================] - 1s 2ms/step - loss: 0.4496 - accuracy: 0.8252 - val_loss: 0.4321 - val_accuracy: 0.8222\n",
            "Epoch 55/100\n",
            "801/801 [==============================] - 1s 2ms/step - loss: 0.4487 - accuracy: 0.8252 - val_loss: 0.4319 - val_accuracy: 0.8222\n",
            "Epoch 56/100\n",
            "801/801 [==============================] - 1s 2ms/step - loss: 0.4470 - accuracy: 0.8265 - val_loss: 0.4307 - val_accuracy: 0.8444\n",
            "Epoch 57/100\n",
            "801/801 [==============================] - 1s 2ms/step - loss: 0.4468 - accuracy: 0.8240 - val_loss: 0.4304 - val_accuracy: 0.8222\n",
            "Epoch 58/100\n",
            "801/801 [==============================] - 1s 2ms/step - loss: 0.4455 - accuracy: 0.8240 - val_loss: 0.4316 - val_accuracy: 0.8222\n",
            "Epoch 59/100\n",
            "801/801 [==============================] - 1s 2ms/step - loss: 0.4448 - accuracy: 0.8240 - val_loss: 0.4300 - val_accuracy: 0.8111\n",
            "Epoch 60/100\n",
            "801/801 [==============================] - 1s 2ms/step - loss: 0.4436 - accuracy: 0.8290 - val_loss: 0.4303 - val_accuracy: 0.8222\n",
            "Epoch 61/100\n",
            "801/801 [==============================] - 1s 2ms/step - loss: 0.4427 - accuracy: 0.8252 - val_loss: 0.4291 - val_accuracy: 0.8222\n",
            "Epoch 62/100\n",
            "801/801 [==============================] - 1s 2ms/step - loss: 0.4414 - accuracy: 0.8327 - val_loss: 0.4288 - val_accuracy: 0.8222\n",
            "Epoch 63/100\n",
            "801/801 [==============================] - 1s 2ms/step - loss: 0.4409 - accuracy: 0.8277 - val_loss: 0.4285 - val_accuracy: 0.8222\n",
            "Epoch 64/100\n",
            "801/801 [==============================] - 1s 2ms/step - loss: 0.4397 - accuracy: 0.8352 - val_loss: 0.4281 - val_accuracy: 0.8222\n",
            "Epoch 65/100\n",
            "801/801 [==============================] - 1s 2ms/step - loss: 0.4390 - accuracy: 0.8340 - val_loss: 0.4274 - val_accuracy: 0.8222\n",
            "Epoch 66/100\n",
            "801/801 [==============================] - 1s 2ms/step - loss: 0.4378 - accuracy: 0.8265 - val_loss: 0.4265 - val_accuracy: 0.8333\n",
            "Epoch 67/100\n",
            "801/801 [==============================] - 1s 2ms/step - loss: 0.4369 - accuracy: 0.8327 - val_loss: 0.4262 - val_accuracy: 0.8333\n",
            "Epoch 68/100\n",
            "801/801 [==============================] - 1s 2ms/step - loss: 0.4357 - accuracy: 0.8402 - val_loss: 0.4284 - val_accuracy: 0.8000\n",
            "Epoch 69/100\n",
            "801/801 [==============================] - 1s 2ms/step - loss: 0.4352 - accuracy: 0.8340 - val_loss: 0.4264 - val_accuracy: 0.8222\n",
            "Epoch 70/100\n",
            "801/801 [==============================] - 1s 2ms/step - loss: 0.4342 - accuracy: 0.8290 - val_loss: 0.4249 - val_accuracy: 0.8222\n",
            "Epoch 71/100\n",
            "801/801 [==============================] - 1s 2ms/step - loss: 0.4336 - accuracy: 0.8302 - val_loss: 0.4255 - val_accuracy: 0.8222\n",
            "Epoch 72/100\n",
            "801/801 [==============================] - 1s 2ms/step - loss: 0.4323 - accuracy: 0.8352 - val_loss: 0.4244 - val_accuracy: 0.8222\n",
            "Epoch 73/100\n",
            "801/801 [==============================] - 1s 2ms/step - loss: 0.4316 - accuracy: 0.8390 - val_loss: 0.4246 - val_accuracy: 0.8111\n",
            "Epoch 74/100\n",
            "801/801 [==============================] - 1s 2ms/step - loss: 0.4307 - accuracy: 0.8340 - val_loss: 0.4252 - val_accuracy: 0.8111\n",
            "Epoch 75/100\n",
            "801/801 [==============================] - 1s 2ms/step - loss: 0.4301 - accuracy: 0.8340 - val_loss: 0.4244 - val_accuracy: 0.8111\n",
            "Epoch 76/100\n",
            "801/801 [==============================] - 1s 2ms/step - loss: 0.4290 - accuracy: 0.8414 - val_loss: 0.4251 - val_accuracy: 0.8111\n",
            "Epoch 77/100\n",
            "801/801 [==============================] - 1s 2ms/step - loss: 0.4282 - accuracy: 0.8352 - val_loss: 0.4236 - val_accuracy: 0.8222\n",
            "Epoch 78/100\n",
            "801/801 [==============================] - 1s 2ms/step - loss: 0.4276 - accuracy: 0.8352 - val_loss: 0.4239 - val_accuracy: 0.8222\n",
            "Epoch 79/100\n",
            "801/801 [==============================] - 1s 2ms/step - loss: 0.4268 - accuracy: 0.8390 - val_loss: 0.4228 - val_accuracy: 0.8222\n",
            "Epoch 80/100\n",
            "801/801 [==============================] - 1s 2ms/step - loss: 0.4252 - accuracy: 0.8352 - val_loss: 0.4218 - val_accuracy: 0.8222\n",
            "Epoch 81/100\n",
            "801/801 [==============================] - 1s 2ms/step - loss: 0.4254 - accuracy: 0.8402 - val_loss: 0.4223 - val_accuracy: 0.8111\n",
            "Epoch 82/100\n",
            "801/801 [==============================] - 1s 2ms/step - loss: 0.4242 - accuracy: 0.8365 - val_loss: 0.4209 - val_accuracy: 0.8222\n",
            "Epoch 83/100\n",
            "801/801 [==============================] - 1s 2ms/step - loss: 0.4236 - accuracy: 0.8365 - val_loss: 0.4219 - val_accuracy: 0.8222\n",
            "Epoch 84/100\n",
            "801/801 [==============================] - 1s 2ms/step - loss: 0.4229 - accuracy: 0.8377 - val_loss: 0.4224 - val_accuracy: 0.8222\n",
            "Epoch 85/100\n",
            "801/801 [==============================] - 1s 2ms/step - loss: 0.4221 - accuracy: 0.8377 - val_loss: 0.4222 - val_accuracy: 0.8222\n",
            "Epoch 86/100\n",
            "801/801 [==============================] - 1s 2ms/step - loss: 0.4207 - accuracy: 0.8402 - val_loss: 0.4208 - val_accuracy: 0.8222\n",
            "Epoch 87/100\n",
            "801/801 [==============================] - 1s 2ms/step - loss: 0.4203 - accuracy: 0.8402 - val_loss: 0.4224 - val_accuracy: 0.8111\n",
            "Epoch 88/100\n",
            "801/801 [==============================] - 1s 2ms/step - loss: 0.4198 - accuracy: 0.8377 - val_loss: 0.4221 - val_accuracy: 0.8222\n",
            "Epoch 89/100\n",
            "801/801 [==============================] - 1s 2ms/step - loss: 0.4192 - accuracy: 0.8340 - val_loss: 0.4217 - val_accuracy: 0.8222\n",
            "Epoch 90/100\n",
            "801/801 [==============================] - 1s 2ms/step - loss: 0.4180 - accuracy: 0.8377 - val_loss: 0.4208 - val_accuracy: 0.8222\n",
            "Epoch 91/100\n",
            "801/801 [==============================] - 1s 2ms/step - loss: 0.4176 - accuracy: 0.8365 - val_loss: 0.4211 - val_accuracy: 0.8222\n",
            "Epoch 92/100\n",
            "801/801 [==============================] - 1s 2ms/step - loss: 0.4171 - accuracy: 0.8427 - val_loss: 0.4218 - val_accuracy: 0.8222\n",
            "Epoch 93/100\n",
            "801/801 [==============================] - 1s 2ms/step - loss: 0.4161 - accuracy: 0.8402 - val_loss: 0.4220 - val_accuracy: 0.8222\n",
            "Epoch 94/100\n",
            "801/801 [==============================] - 1s 2ms/step - loss: 0.4153 - accuracy: 0.8414 - val_loss: 0.4224 - val_accuracy: 0.8222\n",
            "Epoch 95/100\n",
            "801/801 [==============================] - 1s 2ms/step - loss: 0.4146 - accuracy: 0.8390 - val_loss: 0.4221 - val_accuracy: 0.8111\n",
            "Epoch 00095: early stopping\n"
          ],
          "name": "stdout"
        },
        {
          "output_type": "display_data",
          "data": {
            "image/png": "[encoded data removed]",
            "text/plain": [
              "<Figure size 432x288 with 1 Axes>"
            ]
          },
          "metadata": {
            "tags": [],
            "needs_background": "light"
          }
        },
        {
          "output_type": "stream",
          "text": [
            "Train Loss: 0.416\n",
            "Train Accuracy: 0.843\n",
            "Val Loss: 0.421\n",
            "Val Accuracy: 0.822\n"
          ],
          "name": "stdout"
        }
      ]
    },
    {
      "cell_type": "code",
      "metadata": {
        "id": "-sysTq7gjVb1",
        "colab_type": "code",
        "outputId": "28a51e00-9d3d-42f7-a2cd-c2fea09378b3",
        "colab": {
          "base_uri": "https://localhost:8080/",
          "height": 68
        }
      },
      "source": [
        "# Train accuracy\n",
        "y_pred = predict_with_ml_model(model, X_train)\n",
        "train_acc = accuracy_score(y_train, y_pred, normalize=True)\n",
        "\n",
        "# Val accuracy\n",
        "y_pred = predict_with_ml_model(model, X_val)\n",
        "val_acc = accuracy_score(y_val, y_pred, normalize=True)\n",
        "\n",
        "# Global accuracy\n",
        "y_pred = predict_with_ml_model(model, X)\n",
        "acc = accuracy_score(y, y_pred, normalize=True)\n",
        "\n",
        "print('Train Accuracy: %.3f' % train_acc)\n",
        "print('Val Accuracy: %.3f' % val_acc)\n",
        "print('Accuracy: %.3f' % acc)"
      ],
      "execution_count": 150,
      "outputs": [
        {
          "output_type": "stream",
          "text": [
            "Train Accuracy: 0.843\n",
            "Val Accuracy: 0.822\n",
            "Accuracy: 0.841\n"
          ],
          "name": "stdout"
        }
      ]
    },
    {
      "cell_type": "code",
      "metadata": {
        "id": "k8j0qX7V86DZ",
        "colab_type": "code",
        "colab": {
          "base_uri": "https://localhost:8080/",
          "height": 518
        },
        "outputId": "2bbb1983-90b4-4c59-e7c8-8354ab038517"
      },
      "source": [
        "# generate predictions for test\n",
        "df_pred = X_test_orig.copy()\n",
        "df_pred = df_pred[['PassengerId']]\n",
        "df_pred['Survived'] = predict_with_ml_model(model, X_test)\n",
        "  \n",
        "display(df_pred.describe())\n",
        "display(df_pred.head()) \n",
        "df_pred.to_csv('submission.csv', index=False)  "
      ],
      "execution_count": 151,
      "outputs": [
        {
          "output_type": "stream",
          "text": [
            "/usr/local/lib/python3.6/dist-packages/ipykernel_launcher.py:3: RuntimeWarning: invalid value encountered in greater\n",
            "  This is separate from the ipykernel package so we can avoid doing imports until\n"
          ],
          "name": "stderr"
        },
        {
          "output_type": "display_data",
          "data": {
            "text/html": [
              "<div>\n",
              "<style scoped>\n",
              "    .dataframe tbody tr th:only-of-type {\n",
              "        vertical-align: middle;\n",
              "    }\n",
              "\n",
              "    .dataframe tbody tr th {\n",
              "        vertical-align: top;\n",
              "    }\n",
              "\n",
              "    .dataframe thead th {\n",
              "        text-align: right;\n",
              "    }\n",
              "</style>\n",
              "<table border=\"1\" class=\"dataframe\">\n",
              "  <thead>\n",
              "    <tr style=\"text-align: right;\">\n",
              "      <th></th>\n",
              "      <th>PassengerId</th>\n",
              "      <th>Survived</th>\n",
              "    </tr>\n",
              "  </thead>\n",
              "  <tbody>\n",
              "    <tr>\n",
              "      <th>count</th>\n",
              "      <td>418.000000</td>\n",
              "      <td>418.000000</td>\n",
              "    </tr>\n",
              "    <tr>\n",
              "      <th>mean</th>\n",
              "      <td>1100.500000</td>\n",
              "      <td>0.325359</td>\n",
              "    </tr>\n",
              "    <tr>\n",
              "      <th>std</th>\n",
              "      <td>120.810458</td>\n",
              "      <td>0.469070</td>\n",
              "    </tr>\n",
              "    <tr>\n",
              "      <th>min</th>\n",
              "      <td>892.000000</td>\n",
              "      <td>0.000000</td>\n",
              "    </tr>\n",
              "    <tr>\n",
              "      <th>25%</th>\n",
              "      <td>996.250000</td>\n",
              "      <td>0.000000</td>\n",
              "    </tr>\n",
              "    <tr>\n",
              "      <th>50%</th>\n",
              "      <td>1100.500000</td>\n",
              "      <td>0.000000</td>\n",
              "    </tr>\n",
              "    <tr>\n",
              "      <th>75%</th>\n",
              "      <td>1204.750000</td>\n",
              "      <td>1.000000</td>\n",
              "    </tr>\n",
              "    <tr>\n",
              "      <th>max</th>\n",
              "      <td>1309.000000</td>\n",
              "      <td>1.000000</td>\n",
              "    </tr>\n",
              "  </tbody>\n",
              "</table>\n",
              "</div>"
            ],
            "text/plain": [
              "       PassengerId    Survived\n",
              "count   418.000000  418.000000\n",
              "mean   1100.500000    0.325359\n",
              "std     120.810458    0.469070\n",
              "min     892.000000    0.000000\n",
              "25%     996.250000    0.000000\n",
              "50%    1100.500000    0.000000\n",
              "75%    1204.750000    1.000000\n",
              "max    1309.000000    1.000000"
            ]
          },
          "metadata": {
            "tags": []
          }
        },
        {
          "output_type": "display_data",
          "data": {
            "text/html": [
              "<div>\n",
              "<style scoped>\n",
              "    .dataframe tbody tr th:only-of-type {\n",
              "        vertical-align: middle;\n",
              "    }\n",
              "\n",
              "    .dataframe tbody tr th {\n",
              "        vertical-align: top;\n",
              "    }\n",
              "\n",
              "    .dataframe thead th {\n",
              "        text-align: right;\n",
              "    }\n",
              "</style>\n",
              "<table border=\"1\" class=\"dataframe\">\n",
              "  <thead>\n",
              "    <tr style=\"text-align: right;\">\n",
              "      <th></th>\n",
              "      <th>PassengerId</th>\n",
              "      <th>Survived</th>\n",
              "    </tr>\n",
              "  </thead>\n",
              "  <tbody>\n",
              "    <tr>\n",
              "      <th>0</th>\n",
              "      <td>892</td>\n",
              "      <td>0</td>\n",
              "    </tr>\n",
              "    <tr>\n",
              "      <th>1</th>\n",
              "      <td>893</td>\n",
              "      <td>0</td>\n",
              "    </tr>\n",
              "    <tr>\n",
              "      <th>2</th>\n",
              "      <td>894</td>\n",
              "      <td>0</td>\n",
              "    </tr>\n",
              "    <tr>\n",
              "      <th>3</th>\n",
              "      <td>895</td>\n",
              "      <td>0</td>\n",
              "    </tr>\n",
              "    <tr>\n",
              "      <th>4</th>\n",
              "      <td>896</td>\n",
              "      <td>1</td>\n",
              "    </tr>\n",
              "  </tbody>\n",
              "</table>\n",
              "</div>"
            ],
            "text/plain": [
              "   PassengerId  Survived\n",
              "0          892         0\n",
              "1          893         0\n",
              "2          894         0\n",
              "3          895         0\n",
              "4          896         1"
            ]
          },
          "metadata": {
            "tags": []
          }
        }
      ]
    },
    {
      "cell_type": "code",
      "metadata": {
        "id": "1GUOvy37L6zy",
        "colab_type": "code",
        "outputId": "32b4a9b2-ec5b-4fad-b51b-7f34d626ce3a",
        "colab": {
          "base_uri": "https://localhost:8080/",
          "height": 68
        }
      },
      "source": [
        "%%bash\n",
        "kaggle competitions submit -c titanic -f submission.csv -m \"New submission test\""
      ],
      "execution_count": 31,
      "outputs": [
        {
          "output_type": "stream",
          "text": [
            "Warning: Looks like you're using an outdated API Version, please consider updating (server 1.5.6 / client 1.5.4)\n",
            "403 - Your team has used its submission allowance (10 of 10). This resets at midnight UTC (7.6 hours from now).\n"
          ],
          "name": "stdout"
        },
        {
          "output_type": "stream",
          "text": [
            "\r  0%|          | 0.00/2.77k [00:00<?, ?B/s]\r100%|##########| 2.77k/2.77k [00:04<00:00, 680B/s]\n"
          ],
          "name": "stderr"
        }
      ]
    }
  ]
}